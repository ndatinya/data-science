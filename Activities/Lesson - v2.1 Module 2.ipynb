{
 "cells": [
  {
   "cell_type": "markdown",
   "metadata": {
    "toc": true
   },
   "source": [
    "<h1>Table of Contents<span class=\"tocSkip\"></span></h1>\n",
    "<div class=\"toc\"><ul class=\"toc-item\"><li><span><a href=\"#🔥-Warm-Up\" data-toc-modified-id=\"🔥-Warm-Up-1\"><span class=\"toc-item-num\">1&nbsp;&nbsp;</span>🔥 Warm Up</a></span><ul class=\"toc-item\"><li><span><a href=\"#Q:-What's-so-great-about-Gaussian-curves-(normal-distributions)?\" data-toc-modified-id=\"Q:-What's-so-great-about-Gaussian-curves-(normal-distributions)?-1.1\"><span class=\"toc-item-num\">1.1&nbsp;&nbsp;</span>Q: What's so great about Gaussian curves (normal distributions)?</a></span></li><li><span><a href=\"#Q:-What's-the-point-of-knowing-statistical-distributions?\" data-toc-modified-id=\"Q:-What's-the-point-of-knowing-statistical-distributions?-1.2\"><span class=\"toc-item-num\">1.2&nbsp;&nbsp;</span>Q: What's the point of knowing statistical distributions?</a></span></li></ul></li><li><span><a href=\"#Statistical-Distributions\" data-toc-modified-id=\"Statistical-Distributions-2\"><span class=\"toc-item-num\">2&nbsp;&nbsp;</span>Statistical Distributions</a></span><ul class=\"toc-item\"><li><span><a href=\"#Distributions-from-main-curriculum\" data-toc-modified-id=\"Distributions-from-main-curriculum-2.1\"><span class=\"toc-item-num\">2.1&nbsp;&nbsp;</span>Distributions from main curriculum</a></span></li><li><span><a href=\"#Other-distributions-(from-appendix)\" data-toc-modified-id=\"Other-distributions-(from-appendix)-2.2\"><span class=\"toc-item-num\">2.2&nbsp;&nbsp;</span>Other distributions (from appendix)</a></span></li><li><span><a href=\"#🧠-Knowledge-Check\" data-toc-modified-id=\"🧠-Knowledge-Check-2.3\"><span class=\"toc-item-num\">2.3&nbsp;&nbsp;</span>🧠 Knowledge Check</a></span></li></ul></li><li><span><a href=\"#Sampling\" data-toc-modified-id=\"Sampling-3\"><span class=\"toc-item-num\">3&nbsp;&nbsp;</span>Sampling</a></span><ul class=\"toc-item\"><li><span><a href=\"#Sampling-Intro\" data-toc-modified-id=\"Sampling-Intro-3.1\"><span class=\"toc-item-num\">3.1&nbsp;&nbsp;</span>Sampling Intro</a></span></li><li><span><a href=\"#Activity\" data-toc-modified-id=\"Activity-3.2\"><span class=\"toc-item-num\">3.2&nbsp;&nbsp;</span>Activity</a></span><ul class=\"toc-item\"><li><span><a href=\"#Story-Time\" data-toc-modified-id=\"Story-Time-3.2.1\"><span class=\"toc-item-num\">3.2.1&nbsp;&nbsp;</span>Story Time</a></span></li><li><span><a href=\"#Steps-to-take-with-group\" data-toc-modified-id=\"Steps-to-take-with-group-3.2.2\"><span class=\"toc-item-num\">3.2.2&nbsp;&nbsp;</span>Steps to take with group</a></span></li><li><span><a href=\"#After\" data-toc-modified-id=\"After-3.2.3\"><span class=\"toc-item-num\">3.2.3&nbsp;&nbsp;</span>After</a></span></li></ul></li></ul></li><li><span><a href=\"#Central-Limit-Theorem\" data-toc-modified-id=\"Central-Limit-Theorem-4\"><span class=\"toc-item-num\">4&nbsp;&nbsp;</span>Central Limit Theorem</a></span></li><li><span><a href=\"#Confidence-Intervals\" data-toc-modified-id=\"Confidence-Intervals-5\"><span class=\"toc-item-num\">5&nbsp;&nbsp;</span>Confidence Intervals</a></span></li><li><span><a href=\"#Hypothesis-Testing\" data-toc-modified-id=\"Hypothesis-Testing-6\"><span class=\"toc-item-num\">6&nbsp;&nbsp;</span>Hypothesis Testing</a></span><ul class=\"toc-item\"><li><span><a href=\"#Experiment-Design\" data-toc-modified-id=\"Experiment-Design-6.1\"><span class=\"toc-item-num\">6.1&nbsp;&nbsp;</span>Experiment Design</a></span></li><li><span><a href=\"#Considersations\" data-toc-modified-id=\"Considersations-6.2\"><span class=\"toc-item-num\">6.2&nbsp;&nbsp;</span>Considersations</a></span></li><li><span><a href=\"#Hypothesis-Testing\" data-toc-modified-id=\"Hypothesis-Testing-6.3\"><span class=\"toc-item-num\">6.3&nbsp;&nbsp;</span>Hypothesis Testing</a></span><ul class=\"toc-item\"><li><span><a href=\"#When-you're-not-normal:-t-tests\" data-toc-modified-id=\"When-you're-not-normal:-t-tests-6.3.1\"><span class=\"toc-item-num\">6.3.1&nbsp;&nbsp;</span>When you're not normal: t-tests</a></span></li><li><span><a href=\"#Parts-of-your-tests\" data-toc-modified-id=\"Parts-of-your-tests-6.3.2\"><span class=\"toc-item-num\">6.3.2&nbsp;&nbsp;</span>Parts of your tests</a></span></li><li><span><a href=\"#Student's-vs-Welch's\" data-toc-modified-id=\"Student's-vs-Welch's-6.3.3\"><span class=\"toc-item-num\">6.3.3&nbsp;&nbsp;</span>Student's vs Welch's</a></span></li><li><span><a href=\"#Multiple-Comparison-Tests\" data-toc-modified-id=\"Multiple-Comparison-Tests-6.3.4\"><span class=\"toc-item-num\">6.3.4&nbsp;&nbsp;</span>Multiple Comparison Tests</a></span></li></ul></li></ul></li><li><span><a href=\"#Application-of-Hypothesis-Testing\" data-toc-modified-id=\"Application-of-Hypothesis-Testing-7\"><span class=\"toc-item-num\">7&nbsp;&nbsp;</span>Application of Hypothesis Testing</a></span><ul class=\"toc-item\"><li><span><a href=\"#A/B-Tests\" data-toc-modified-id=\"A/B-Tests-7.1\"><span class=\"toc-item-num\">7.1&nbsp;&nbsp;</span>A/B Tests</a></span></li></ul></li><li><span><a href=\"#Beyond-Hypothesis-Testing---GLM-&amp;-Regression\" data-toc-modified-id=\"Beyond-Hypothesis-Testing---GLM-&amp;-Regression-8\"><span class=\"toc-item-num\">8&nbsp;&nbsp;</span>Beyond Hypothesis Testing - GLM &amp; Regression</a></span><ul class=\"toc-item\"><li><span><a href=\"#Linear-Regression\" data-toc-modified-id=\"Linear-Regression-8.1\"><span class=\"toc-item-num\">8.1&nbsp;&nbsp;</span>Linear Regression</a></span></li><li><span><a href=\"#Extending-Linear-Regression\" data-toc-modified-id=\"Extending-Linear-Regression-8.2\"><span class=\"toc-item-num\">8.2&nbsp;&nbsp;</span>Extending Linear Regression</a></span></li></ul></li></ul></div>"
   ]
  },
  {
   "cell_type": "markdown",
   "metadata": {
    "heading_collapsed": true
   },
   "source": [
    "# 🔥 Warm Up"
   ]
  },
  {
   "cell_type": "markdown",
   "metadata": {
    "hidden": true
   },
   "source": [
    "> Answer the following based on what you learned. It's okay if you don't know; take your best guess."
   ]
  },
  {
   "cell_type": "markdown",
   "metadata": {
    "heading_collapsed": true,
    "hidden": true
   },
   "source": [
    "## Q: What's so great about Gaussian curves (normal distributions)?"
   ]
  },
  {
   "cell_type": "markdown",
   "metadata": {
    "hidden": true
   },
   "source": [
    "> "
   ]
  },
  {
   "cell_type": "markdown",
   "metadata": {
    "heading_collapsed": true,
    "hidden": true
   },
   "source": [
    "## Q: What's the point of knowing statistical distributions?"
   ]
  },
  {
   "cell_type": "markdown",
   "metadata": {
    "hidden": true
   },
   "source": [
    "> "
   ]
  },
  {
   "cell_type": "markdown",
   "metadata": {
    "heading_collapsed": true
   },
   "source": [
    "# Statistical Distributions"
   ]
  },
  {
   "cell_type": "markdown",
   "metadata": {
    "hidden": true
   },
   "source": [
    "![](images/paranormal_distribution.png)"
   ]
  },
  {
   "cell_type": "markdown",
   "metadata": {
    "heading_collapsed": true,
    "hidden": true
   },
   "source": [
    "## Distributions from main curriculum"
   ]
  },
  {
   "cell_type": "markdown",
   "metadata": {
    "hidden": true
   },
   "source": [
    "[ProbabilityAndStats/StatisticalDistributions/statistical_distributions.ipynb](../ProbabilityAndStats/StatisticalDistributions/statistical_distributions.ipynb)"
   ]
  },
  {
   "cell_type": "markdown",
   "metadata": {
    "heading_collapsed": true,
    "hidden": true
   },
   "source": [
    "## Other distributions (from appendix)"
   ]
  },
  {
   "cell_type": "markdown",
   "metadata": {
    "hidden": true
   },
   "source": [
    "[ProbabilityAndStats/StatisticalDistributions/statistical_distributions.ipynb](../ProbabilityAndStats/StatisticalDistributions/statistical_distributions.ipynb)"
   ]
  },
  {
   "cell_type": "markdown",
   "metadata": {
    "heading_collapsed": true,
    "hidden": true
   },
   "source": [
    "## 🧠 Knowledge Check"
   ]
  },
  {
   "cell_type": "markdown",
   "metadata": {
    "hidden": true
   },
   "source": [
    "> **Q: Why know these distributions?**\n",
    "\n",
    "> **Q: Can we think of situations for when the distribution applies to a real world situation?**"
   ]
  },
  {
   "cell_type": "markdown",
   "metadata": {
    "heading_collapsed": true
   },
   "source": [
    "# Sampling"
   ]
  },
  {
   "cell_type": "markdown",
   "metadata": {
    "hidden": true
   },
   "source": [
    "![](images/costco_samples.jpg)"
   ]
  },
  {
   "cell_type": "markdown",
   "metadata": {
    "heading_collapsed": true,
    "hidden": true
   },
   "source": [
    "## Sampling Intro"
   ]
  },
  {
   "cell_type": "markdown",
   "metadata": {
    "hidden": true
   },
   "source": [
    "[ProbabilityAndStats/StatisticalDistributions/sampling.ipynb](../ProbabilityAndStats/StatisticalDistributions/sampling.ipynb)"
   ]
  },
  {
   "cell_type": "markdown",
   "metadata": {
    "heading_collapsed": true,
    "hidden": true
   },
   "source": [
    "## Activity"
   ]
  },
  {
   "cell_type": "markdown",
   "metadata": {
    "heading_collapsed": true,
    "hidden": true
   },
   "source": [
    "### Story Time"
   ]
  },
  {
   "cell_type": "markdown",
   "metadata": {
    "hidden": true
   },
   "source": [
    "How much does an elephant weigh?\n",
    "![](images/elephants.jpg)"
   ]
  },
  {
   "cell_type": "markdown",
   "metadata": {
    "heading_collapsed": true,
    "hidden": true
   },
   "source": [
    "### Steps to take with group"
   ]
  },
  {
   "cell_type": "markdown",
   "metadata": {
    "hidden": true
   },
   "source": [
    "* Take sample given: Elephant weights\n",
    "* Determine how much an elephant really weighs\n",
    "* How sure are you?\n",
    "* What are potential issues?"
   ]
  },
  {
   "cell_type": "markdown",
   "metadata": {
    "heading_collapsed": true,
    "hidden": true
   },
   "source": [
    "### After"
   ]
  },
  {
   "cell_type": "markdown",
   "metadata": {
    "hidden": true
   },
   "source": [
    "[ProbabilityAndStats/StatisticalDistributions/sampling_activity.ipynb](../ProbabilityAndStats/StatisticalDistributions/sampling_activity.ipynb)"
   ]
  },
  {
   "cell_type": "markdown",
   "metadata": {
    "heading_collapsed": true
   },
   "source": [
    "# Central Limit Theorem"
   ]
  },
  {
   "cell_type": "markdown",
   "metadata": {
    "hidden": true
   },
   "source": [
    "[ProbabilityAndStats/StatisticalDistributions/central_limit_theorem.ipynb](../ProbabilityAndStats/StatisticalDistributions/central_limit_theorem.ipynb)"
   ]
  },
  {
   "cell_type": "markdown",
   "metadata": {
    "heading_collapsed": true
   },
   "source": [
    "# Confidence Intervals"
   ]
  },
  {
   "cell_type": "markdown",
   "metadata": {
    "hidden": true
   },
   "source": [
    "[ProbabilityAndStats/StatisticalDistributions/confidence_intervals.ipynb](../ProbabilityAndStats/StatisticalDistributions/confidence_intervals.ipynb)"
   ]
  },
  {
   "cell_type": "markdown",
   "metadata": {
    "heading_collapsed": true
   },
   "source": [
    "# Hypothesis Testing"
   ]
  },
  {
   "cell_type": "markdown",
   "metadata": {
    "hidden": true
   },
   "source": [
    "![](images/keep_calm_and_be_significant.png)"
   ]
  },
  {
   "cell_type": "markdown",
   "metadata": {
    "heading_collapsed": true,
    "hidden": true
   },
   "source": [
    "## Experiment Design"
   ]
  },
  {
   "cell_type": "markdown",
   "metadata": {
    "hidden": true
   },
   "source": [
    "* Good Experiments:[ProbabilityAndStats/ExperimentalDesign/experiment_design_intro.ipynb](../ProbabilityAndStats/ExperimentalDesign/experiment_design_intro.ipynb)\n",
    "* Hypothesis Testing Introduction: [ProbabilityAndStats/ExperimentalDesign/hypothesis_testing_intro.ipynb](../ProbabilityAndStats/ExperimentalDesign/hypothesis_testing_intro.ipynb)"
   ]
  },
  {
   "cell_type": "markdown",
   "metadata": {
    "heading_collapsed": true,
    "hidden": true
   },
   "source": [
    "## Considersations"
   ]
  },
  {
   "cell_type": "markdown",
   "metadata": {
    "hidden": true
   },
   "source": [
    "* Warnings: [ProbabilityAndStats/ExperimentalDesign/warnings.ipynb](../ProbabilityAndStats/ExperimentalDesign/warnings.ipynb)\n",
    "* Multiple Comparisons: [ProbabilityAndStats/ExperimentalDesign/multiple_comparisons.ipynb](../ProbabilityAndStats/ExperimentalDesign/multiple_comparisons.ipynb)"
   ]
  },
  {
   "cell_type": "markdown",
   "metadata": {
    "heading_collapsed": true,
    "hidden": true
   },
   "source": [
    "## Hypothesis Testing"
   ]
  },
  {
   "cell_type": "markdown",
   "metadata": {
    "hidden": true
   },
   "source": [
    "* More on Statistical Tests: [ProbabilityAndStats/ExperimentalDesign/statistical_tests.ipynb](../ProbabilityAndStats/ExperimentalDesign/statistical_tests.ipynb)"
   ]
  },
  {
   "cell_type": "markdown",
   "metadata": {
    "heading_collapsed": true,
    "hidden": true
   },
   "source": [
    "### When you're not normal: t-tests "
   ]
  },
  {
   "cell_type": "markdown",
   "metadata": {
    "hidden": true
   },
   "source": [
    "* [ProbabilityAndStats/StatisticalDistributions/t_distributions.ipynb](../ProbabilityAndStats/StatisticalDistributions/t_distributions.ipynb)\n",
    "* [ProbabilityAndStats/ExperimentalDesign/t_tests.ipynb](../ProbabilityAndStats/ExperimentalDesign/t_tests.ipynb)"
   ]
  },
  {
   "cell_type": "markdown",
   "metadata": {
    "heading_collapsed": true,
    "hidden": true
   },
   "source": [
    "### Parts of your tests"
   ]
  },
  {
   "cell_type": "markdown",
   "metadata": {
    "hidden": true
   },
   "source": [
    "* Types of Errors: [ProbabilityAndStats/ExperimentalDesign/types_of_errors.ipynb](../ProbabilityAndStats/ExperimentalDesign/types_of_errors.ipynb)\n",
    "* Power: [ProbabilityAndStats/ExperimentalDesign/statistical_power.ipynb](../ProbabilityAndStats/ExperimentalDesign/statistical_power.ipynb)\n",
    "* Effect Size: [ProbabilityAndStats/ExperimentalDesign/effect_size.ipynb](../ProbabilityAndStats/ExperimentalDesign/effect_size.ipynb)"
   ]
  },
  {
   "cell_type": "markdown",
   "metadata": {
    "heading_collapsed": true,
    "hidden": true
   },
   "source": [
    "### Student's vs Welch's"
   ]
  },
  {
   "cell_type": "markdown",
   "metadata": {
    "hidden": true
   },
   "source": [
    "* Welch's t-test: [ProbabilityAndStats/ExperimentalDesign/welchs_t_test.ipynb](../ProbabilityAndStats/ExperimentalDesign/welchs_t_test.ipynb)"
   ]
  },
  {
   "cell_type": "markdown",
   "metadata": {
    "heading_collapsed": true,
    "hidden": true
   },
   "source": [
    "### Multiple Comparison Tests"
   ]
  },
  {
   "cell_type": "markdown",
   "metadata": {
    "hidden": true
   },
   "source": [
    "* Multiple Comparison: [ProbabilityAndStats/ExperimentalDesign/multiple_comparisons.ipynb](../ProbabilityAndStats/ExperimentalDesign/multiple_comparisons.ipynb)\n",
    "* ANOVA: [ProbabilityAndStats/ExperimentalDesign/anova.ipynb](../ProbabilityAndStats/ExperimentalDesign/anova.ipynb)"
   ]
  },
  {
   "cell_type": "markdown",
   "metadata": {
    "heading_collapsed": true
   },
   "source": [
    "# Application of Hypothesis Testing"
   ]
  },
  {
   "cell_type": "markdown",
   "metadata": {
    "heading_collapsed": true,
    "hidden": true
   },
   "source": [
    "## A/B Tests"
   ]
  },
  {
   "cell_type": "markdown",
   "metadata": {
    "hidden": true
   },
   "source": [
    "* A/B Testing: [ProbabilityAndStats/ExperimentalDesign/ab_testing.ipynb](../ProbabilityAndStats/ExperimentalDesign/ab_testing.ipynb)\n",
    "* A/B Testing Walkthrough: [ProbabilityAndStats/ExperimentalDesign/ab_test_walkthrough.ipynb](../ProbabilityAndStats/ExperimentalDesign/ab_test_walkthrough.ipynb)"
   ]
  },
  {
   "cell_type": "markdown",
   "metadata": {
    "heading_collapsed": true
   },
   "source": [
    "# Beyond Hypothesis Testing - GLM & Regression"
   ]
  },
  {
   "cell_type": "markdown",
   "metadata": {
    "heading_collapsed": true,
    "hidden": true
   },
   "source": [
    "## Linear Regression"
   ]
  },
  {
   "cell_type": "markdown",
   "metadata": {
    "hidden": true
   },
   "source": [
    "- Intro: [MachineLearning/LinearRegression/linear_regressions_and_simple_relationships.ipynb](../MachineLearning/LinearRegression/linear_regressions_and_simple_relationships.ipynb)\n",
    "- Multiple Linear Regression: [MachineLearning/LinearRegression/multiple_linear_regression.ipynb](../MachineLearning/LinearRegression/multiple_linear_regression.ipynb)\n",
    "\n",
    "\n",
    "- Multicollinearity: [MachineLearning/LinearRegression/multicollinearity.ipynb](../MachineLearning/LinearRegression/multicollinearity.ipynb)\n",
    "- Model Validation: [EvaluatingModels/model_validation.ipynb](../EvaluatingModels/model_validation.ipynb)\n",
    "\n",
    "\n",
    "- Example Walkthrough:[MachineLearning/LinearRegression/linear_regression_example.ipynb](../MachineLearning/LinearRegression/linear_regression_example.ipynb)"
   ]
  },
  {
   "cell_type": "markdown",
   "metadata": {
    "heading_collapsed": true,
    "hidden": true
   },
   "source": [
    "## Extending Linear Regression"
   ]
  },
  {
   "cell_type": "markdown",
   "metadata": {
    "hidden": true
   },
   "source": [
    "- Interactions & Polynomials: [MachineLearning/LinearRegression/ExtendingLinearRegression/improving_linear_regression.ipynb](../MachineLearning/LinearRegression/ExtendingLinearRegression/improving_linear_regression.ipynb)"
   ]
  }
 ],
 "metadata": {
  "kernelspec": {
   "display_name": "Python 3",
   "language": "python",
   "name": "python3"
  },
  "language_info": {
   "codemirror_mode": {
    "name": "ipython",
    "version": 3
   },
   "file_extension": ".py",
   "mimetype": "text/x-python",
   "name": "python",
   "nbconvert_exporter": "python",
   "pygments_lexer": "ipython3",
   "version": "3.6.6"
  },
  "toc": {
   "base_numbering": 1,
   "nav_menu": {},
   "number_sections": true,
   "sideBar": false,
   "skip_h1_title": false,
   "title_cell": "Table of Contents",
   "title_sidebar": "Contents",
   "toc_cell": true,
   "toc_position": {},
   "toc_section_display": true,
   "toc_window_display": false
  },
  "varInspector": {
   "cols": {
    "lenName": 16,
    "lenType": 16,
    "lenVar": 40
   },
   "kernels_config": {
    "python": {
     "delete_cmd_postfix": "",
     "delete_cmd_prefix": "del ",
     "library": "var_list.py",
     "varRefreshCmd": "print(var_dic_list())"
    },
    "r": {
     "delete_cmd_postfix": ") ",
     "delete_cmd_prefix": "rm(",
     "library": "var_list.r",
     "varRefreshCmd": "cat(var_dic_list()) "
    }
   },
   "types_to_exclude": [
    "module",
    "function",
    "builtin_function_or_method",
    "instance",
    "_Feature"
   ],
   "window_display": false
  }
 },
 "nbformat": 4,
 "nbformat_minor": 2
}

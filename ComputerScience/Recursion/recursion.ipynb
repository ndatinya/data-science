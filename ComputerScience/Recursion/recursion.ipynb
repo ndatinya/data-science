{
 "cells": [
  {
   "cell_type": "markdown",
   "metadata": {},
   "source": [
    "# What is Recursion"
   ]
  },
  {
   "cell_type": "markdown",
   "metadata": {},
   "source": [
    "## What is _Recursion?_"
   ]
  },
  {
   "cell_type": "markdown",
   "metadata": {},
   "source": [
    "Functions calling themselves\n",
    "\n",
    "Alternative to looping (more advanced)\n",
    "\n",
    "But best for unknown structure"
   ]
  },
  {
   "cell_type": "markdown",
   "metadata": {},
   "source": [
    "## Examples"
   ]
  },
  {
   "cell_type": "markdown",
   "metadata": {},
   "source": [
    "### Sum"
   ]
  },
  {
   "cell_type": "markdown",
   "metadata": {},
   "source": [
    "#### Using a for loop"
   ]
  },
  {
   "cell_type": "code",
   "execution_count": null,
   "metadata": {},
   "outputs": [],
   "source": [
    "# Adding up a list\n",
    "def sum_loop(my_list):\n",
    "    total = 0\n",
    "    for elem in my_list:\n",
    "        total += elem\n",
    "    return total"
   ]
  },
  {
   "cell_type": "code",
   "execution_count": null,
   "metadata": {},
   "outputs": [],
   "source": [
    "l = range(1,100)\n",
    "sum_loop(l)"
   ]
  },
  {
   "cell_type": "markdown",
   "metadata": {},
   "source": [
    "#### Using a recursive function"
   ]
  },
  {
   "cell_type": "code",
   "execution_count": null,
   "metadata": {},
   "outputs": [],
   "source": [
    "# Adding up a list\n",
    "def sum_recur(my_list):\n",
    "    if len(my_list) == 0:\n",
    "        return 0\n",
    "    else:\n",
    "        return my_list[0] + sum_recur(my_list[1:])"
   ]
  },
  {
   "cell_type": "code",
   "execution_count": null,
   "metadata": {},
   "outputs": [],
   "source": [
    "l = range(1,100)\n",
    "sum_recur(l)"
   ]
  },
  {
   "cell_type": "markdown",
   "metadata": {},
   "source": [
    "### Max"
   ]
  },
  {
   "cell_type": "markdown",
   "metadata": {},
   "source": [
    "#### Using a for loop"
   ]
  },
  {
   "cell_type": "code",
   "execution_count": null,
   "metadata": {},
   "outputs": [],
   "source": [
    "# Finding largest in a list\n",
    "def max_loop(my_list):\n",
    "    # assume at least one element\n",
    "    curr_max = my_list[0]\n",
    "    for potential_max in my_list[1:]:\n",
    "        if curr_max < potential_max:\n",
    "            curr_max = potential_max\n",
    "    return curr_max"
   ]
  },
  {
   "cell_type": "code",
   "execution_count": null,
   "metadata": {},
   "outputs": [],
   "source": [
    "l = range(1,100)\n",
    "max_loop(l)"
   ]
  },
  {
   "cell_type": "markdown",
   "metadata": {},
   "source": [
    "#### Using a recursive function"
   ]
  },
  {
   "cell_type": "code",
   "execution_count": null,
   "metadata": {},
   "outputs": [],
   "source": [
    "# Finding largest in a list\n",
    "def max_recur(my_list, curr_max=float(\"-inf\")):\n",
    "    if len(my_list) == 0:\n",
    "        return curr_max\n",
    "    else:\n",
    "        potential_max = my_list[0]\n",
    "        if curr_max < potential_max:\n",
    "            curr_max = potential_max\n",
    "            return max_recur(my_list[1:], curr_max)"
   ]
  },
  {
   "cell_type": "code",
   "execution_count": null,
   "metadata": {},
   "outputs": [],
   "source": [
    "l = range(1,100)\n",
    "max_recur(l)"
   ]
  },
  {
   "cell_type": "markdown",
   "metadata": {},
   "source": [
    "# Handling General Structures"
   ]
  },
  {
   "cell_type": "markdown",
   "metadata": {},
   "source": [
    "## Comparison Examples (From Learn.co Lesson)"
   ]
  },
  {
   "cell_type": "code",
   "execution_count": null,
   "metadata": {},
   "outputs": [],
   "source": [
    "L = [1,[2,3,4],5,[6,[7,8],9]]"
   ]
  },
  {
   "cell_type": "markdown",
   "metadata": {},
   "source": [
    "### For loop attempt"
   ]
  },
  {
   "cell_type": "code",
   "execution_count": null,
   "metadata": {},
   "outputs": [],
   "source": [
    "total = 0 \n",
    "for x in L:\n",
    "    total += x\n",
    "total"
   ]
  },
  {
   "cell_type": "markdown",
   "metadata": {},
   "source": [
    "### Recursive function"
   ]
  },
  {
   "cell_type": "code",
   "execution_count": null,
   "metadata": {},
   "outputs": [],
   "source": [
    "# Recursion functions\n",
    "def mysum(L):\n",
    "    print(L)\n",
    "    if not L:\n",
    "        return 0\n",
    "    elif type(L[0]) == list:\n",
    "        return mysum(L[0]) + mysum(L[1:])\n",
    "    else:\n",
    "        return L[0] + mysum(L[1:])"
   ]
  },
  {
   "cell_type": "code",
   "execution_count": null,
   "metadata": {},
   "outputs": [],
   "source": [
    "mysum(L)"
   ]
  },
  {
   "cell_type": "markdown",
   "metadata": {},
   "source": [
    "# Depth vs Breadth\n",
    "\n",
    "https://brilliant.org/wiki/depth-first-search-dfs/"
   ]
  },
  {
   "cell_type": "markdown",
   "metadata": {},
   "source": [
    "We can either go: \n",
    "\n",
    "1. deep first (**DEPTH FIRST**)\n",
    "2. Everything at the current level (**BREADTH FIRST**)"
   ]
  },
  {
   "cell_type": "markdown",
   "metadata": {},
   "source": [
    "## Breadth example from before (From Learn.co Lesson)"
   ]
  },
  {
   "cell_type": "code",
   "execution_count": null,
   "metadata": {},
   "outputs": [],
   "source": [
    "#We want to process everything layer by layer. \n",
    "#Thus we process everything in the list, and put off items for later processing if they are nested data structures.\n",
    "def mysum(L, tot=0):\n",
    "    print(L)\n",
    "    deeper_data = [] #Initialize a container for nested data we come across\n",
    "    #Process the current depth layer\n",
    "    for i in L:\n",
    "        if type(i) != list:\n",
    "            tot += i #If its not a list, its a number! Add it up!\n",
    "        else:\n",
    "            [deeper_data.append(j) for j in i] #Add nested items to our list of things to process later on\n",
    "            #Notice we're digging in a layer here by iterating \n",
    "            #through i which we know is a nested data structure from our conditional\n",
    "    if deeper_data != []:\n",
    "        return mysum(deeper_data, tot=tot)\n",
    "        #If we have deeper_data we got to iterate!\n",
    "    else:\n",
    "        return tot\n",
    "        #If we don't have nested data, we're done!"
   ]
  },
  {
   "cell_type": "code",
   "execution_count": null,
   "metadata": {},
   "outputs": [],
   "source": [
    "L = [1,[2,3,4],5,[6,[7,8],9]]\n",
    "mysum(L)"
   ]
  },
  {
   "cell_type": "code",
   "execution_count": null,
   "metadata": {},
   "outputs": [],
   "source": []
  }
 ],
 "metadata": {
  "kernelspec": {
   "display_name": "Python 3",
   "language": "python",
   "name": "python3"
  },
  "language_info": {
   "codemirror_mode": {
    "name": "ipython",
    "version": 3
   },
   "file_extension": ".py",
   "mimetype": "text/x-python",
   "name": "python",
   "nbconvert_exporter": "python",
   "pygments_lexer": "ipython3",
   "version": "3.7.1"
  }
 },
 "nbformat": 4,
 "nbformat_minor": 2
}

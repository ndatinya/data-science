{
 "cells": [
  {
   "cell_type": "markdown",
   "metadata": {
    "toc": true
   },
   "source": [
    "<h1>Table of Contents<span class=\"tocSkip\"></span></h1>\n",
    "<div class=\"toc\"><ul class=\"toc-item\"><li><span><a href=\"#Bagging---Bootstrap-AGGregation\" data-toc-modified-id=\"Bagging---Bootstrap-AGGregation-1\"><span class=\"toc-item-num\">1&nbsp;&nbsp;</span>Bagging - Bootstrap AGGregation</a></span></li><li><span><a href=\"#Random-Forest\" data-toc-modified-id=\"Random-Forest-2\"><span class=\"toc-item-num\">2&nbsp;&nbsp;</span>Random Forest</a></span><ul class=\"toc-item\"><li><span><a href=\"#The-Good?\" data-toc-modified-id=\"The-Good?-2.1\"><span class=\"toc-item-num\">2.1&nbsp;&nbsp;</span>The Good?</a></span></li><li><span><a href=\"#The-Bads?\" data-toc-modified-id=\"The-Bads?-2.2\"><span class=\"toc-item-num\">2.2&nbsp;&nbsp;</span>The Bads?</a></span></li><li><span><a href=\"#Subspace-Sampling-Method\" data-toc-modified-id=\"Subspace-Sampling-Method-2.3\"><span class=\"toc-item-num\">2.3&nbsp;&nbsp;</span>Subspace Sampling Method</a></span><ul class=\"toc-item\"><li><span><a href=\"#Don't-be-like-a-banana-tree\" data-toc-modified-id=\"Don't-be-like-a-banana-tree-2.3.1\"><span class=\"toc-item-num\">2.3.1&nbsp;&nbsp;</span>Don't be like a banana tree</a></span></li><li><span><a href=\"#Breed-variety-of-trees\" data-toc-modified-id=\"Breed-variety-of-trees-2.3.2\"><span class=\"toc-item-num\">2.3.2&nbsp;&nbsp;</span>Breed variety of trees</a></span></li><li><span><a href=\"#🧠Knowledge-Check:-Why-would-this-beneficial?\" data-toc-modified-id=\"🧠Knowledge-Check:-Why-would-this-beneficial?-2.3.3\"><span class=\"toc-item-num\">2.3.3&nbsp;&nbsp;</span>🧠Knowledge Check: Why would this beneficial?</a></span></li></ul></li><li><span><a href=\"#Code\" data-toc-modified-id=\"Code-2.4\"><span class=\"toc-item-num\">2.4&nbsp;&nbsp;</span>Code</a></span></li><li><span><a href=\"#Other-Cool-Features\" data-toc-modified-id=\"Other-Cool-Features-2.5\"><span class=\"toc-item-num\">2.5&nbsp;&nbsp;</span>Other Cool Features</a></span><ul class=\"toc-item\"><li><span><a href=\"#Feature-Importance\" data-toc-modified-id=\"Feature-Importance-2.5.1\"><span class=\"toc-item-num\">2.5.1&nbsp;&nbsp;</span>Feature Importance</a></span></li></ul></li></ul></li></ul></div>"
   ]
  },
  {
   "cell_type": "markdown",
   "metadata": {
    "heading_collapsed": true
   },
   "source": [
    "# Bagging - Bootstrap AGGregation"
   ]
  },
  {
   "cell_type": "markdown",
   "metadata": {
    "hidden": true
   },
   "source": [
    "Train weak learners, combine together into one via voting"
   ]
  },
  {
   "cell_type": "markdown",
   "metadata": {
    "hidden": true
   },
   "source": [
    "Essentially pick 'randomly' the different columns, create multiple DTs and let them vote!"
   ]
  },
  {
   "cell_type": "markdown",
   "metadata": {
    "hidden": true
   },
   "source": [
    "![](images/bagging.png)"
   ]
  },
  {
   "cell_type": "markdown",
   "metadata": {
    "heading_collapsed": true
   },
   "source": [
    "# Random Forest"
   ]
  },
  {
   "cell_type": "markdown",
   "metadata": {
    "heading_collapsed": true,
    "hidden": true
   },
   "source": [
    "## The Good?"
   ]
  },
  {
   "cell_type": "markdown",
   "metadata": {
    "hidden": true
   },
   "source": [
    "- Super friend! \n",
    "- High performance \n",
    "    + low variance\n",
    "- Transparent\n",
    "    + inherited from Decision Trees"
   ]
  },
  {
   "cell_type": "markdown",
   "metadata": {
    "heading_collapsed": true,
    "hidden": true
   },
   "source": [
    "## The Bads?"
   ]
  },
  {
   "cell_type": "markdown",
   "metadata": {
    "hidden": true
   },
   "source": [
    "- We got so many trees to plant...\n",
    "- Computationally expensive\n",
    "- Memory\n",
    "    + all trees stored in memory\n",
    "    + think back to k-Nearest Neighbors"
   ]
  },
  {
   "cell_type": "markdown",
   "metadata": {
    "heading_collapsed": true,
    "hidden": true
   },
   "source": [
    "## Subspace Sampling Method"
   ]
  },
  {
   "cell_type": "markdown",
   "metadata": {
    "heading_collapsed": true,
    "hidden": true
   },
   "source": [
    "### Don't be like a banana tree"
   ]
  },
  {
   "cell_type": "markdown",
   "metadata": {
    "hidden": true
   },
   "source": [
    "Banana trees can be susceptible to [Panama's disease](https://en.wikipedia.org/wiki/Panama_disease)"
   ]
  },
  {
   "cell_type": "markdown",
   "metadata": {
    "hidden": true
   },
   "source": [
    "![Many individual yellow bananas](images/bananas.jpeg)\n",
    "They're all clones!"
   ]
  },
  {
   "cell_type": "markdown",
   "metadata": {
    "hidden": true
   },
   "source": [
    "All Decision Trees will be the same if given the same data! (A clone!!!)"
   ]
  },
  {
   "cell_type": "markdown",
   "metadata": {
    "heading_collapsed": true,
    "hidden": true
   },
   "source": [
    "### Breed variety of trees"
   ]
  },
  {
   "cell_type": "markdown",
   "metadata": {
    "hidden": true
   },
   "source": [
    "Take part of the data to create different trees"
   ]
  },
  {
   "cell_type": "markdown",
   "metadata": {
    "hidden": true
   },
   "source": [
    "Steps:\n",
    "\n",
    "1. Save a portion of data for validation (**out-of-bag**), the rest for training (**bag**)\n",
    "2. The data for training (**bag**) is then split up by randomly selecting predictors\n",
    "3. Grow/train your tree with the training data using just those features\n",
    "4. Use our validation set (**out-of-bag**), take out the columns used in our tree from the previous step, and predict using the tree & this *out-of-bag* data\n",
    "5. Compare on how well the tree did *out-of-bag error*\n",
    "6. Repeat to make new trees and use the result to \"vote\" for the final decision"
   ]
  },
  {
   "cell_type": "markdown",
   "metadata": {
    "heading_collapsed": true,
    "hidden": true
   },
   "source": [
    "### 🧠Knowledge Check: Why would this beneficial?"
   ]
  },
  {
   "cell_type": "markdown",
   "metadata": {
    "hidden": true
   },
   "source": [
    "Less overfitting! Variety is the spice of life!"
   ]
  },
  {
   "cell_type": "markdown",
   "metadata": {
    "heading_collapsed": true,
    "hidden": true
   },
   "source": [
    "## Code"
   ]
  },
  {
   "cell_type": "markdown",
   "metadata": {
    "hidden": true
   },
   "source": [
    "https://scikit-learn.org/stable/modules/generated/sklearn.ensemble.RandomForestClassifier.html#sklearn.ensemble.RandomForestClassifier"
   ]
  },
  {
   "cell_type": "code",
   "execution_count": null,
   "metadata": {
    "ExecuteTime": {
     "end_time": "2019-11-08T21:24:57.003163Z",
     "start_time": "2019-11-08T21:24:56.497876Z"
    },
    "hidden": true
   },
   "outputs": [],
   "source": [
    "from sklearn.ensemble import RandomForestClassifier"
   ]
  },
  {
   "cell_type": "code",
   "execution_count": null,
   "metadata": {
    "ExecuteTime": {
     "end_time": "2019-11-08T21:24:57.057338Z",
     "start_time": "2019-11-08T21:24:57.004671Z"
    },
    "hidden": true
   },
   "outputs": [],
   "source": [
    "from sklearn.datasets import load_iris\n",
    "iris = load_iris()"
   ]
  },
  {
   "cell_type": "code",
   "execution_count": null,
   "metadata": {
    "ExecuteTime": {
     "end_time": "2019-11-08T21:24:57.060684Z",
     "start_time": "2019-11-08T21:24:57.058658Z"
    },
    "hidden": true
   },
   "outputs": [],
   "source": [
    "clf = RandomForestClassifier(n_estimators=100, max_depth=2,\n",
    "                             random_state=0)"
   ]
  },
  {
   "cell_type": "code",
   "execution_count": null,
   "metadata": {
    "ExecuteTime": {
     "end_time": "2019-11-08T21:24:57.069417Z",
     "start_time": "2019-11-08T21:24:57.061836Z"
    },
    "hidden": true
   },
   "outputs": [],
   "source": [
    "clf"
   ]
  },
  {
   "cell_type": "code",
   "execution_count": null,
   "metadata": {
    "ExecuteTime": {
     "end_time": "2019-11-08T21:24:57.130980Z",
     "start_time": "2019-11-08T21:24:57.070582Z"
    },
    "hidden": true
   },
   "outputs": [],
   "source": [
    "clf.fit(iris[\"data\"], iris[\"target\"])"
   ]
  },
  {
   "cell_type": "code",
   "execution_count": null,
   "metadata": {
    "ExecuteTime": {
     "end_time": "2019-11-08T21:24:57.141883Z",
     "start_time": "2019-11-08T21:24:57.132277Z"
    },
    "hidden": true
   },
   "outputs": [],
   "source": [
    "print(clf.predict([[0.1, 0.8, 0.3, 0.5],[0.1, 0.1, 0.1, 0.1]]))"
   ]
  },
  {
   "cell_type": "markdown",
   "metadata": {
    "heading_collapsed": true,
    "hidden": true
   },
   "source": [
    "## Other Cool Features "
   ]
  },
  {
   "cell_type": "markdown",
   "metadata": {
    "heading_collapsed": true,
    "hidden": true
   },
   "source": [
    "### Feature Importance"
   ]
  },
  {
   "cell_type": "code",
   "execution_count": null,
   "metadata": {
    "ExecuteTime": {
     "end_time": "2019-11-08T21:24:57.151778Z",
     "start_time": "2019-11-08T21:24:57.143309Z"
    },
    "hidden": true
   },
   "outputs": [],
   "source": [
    "for name, score in zip(iris[\"feature_names\"], clf.feature_importances_):\n",
    "    print(name, score)"
   ]
  }
 ],
 "metadata": {
  "kernelspec": {
   "display_name": "Python 3",
   "language": "python",
   "name": "python3"
  },
  "language_info": {
   "codemirror_mode": {
    "name": "ipython",
    "version": 3
   },
   "file_extension": ".py",
   "mimetype": "text/x-python",
   "name": "python",
   "nbconvert_exporter": "python",
   "pygments_lexer": "ipython3",
   "version": "3.6.6"
  },
  "toc": {
   "base_numbering": 1,
   "nav_menu": {},
   "number_sections": true,
   "sideBar": true,
   "skip_h1_title": false,
   "title_cell": "Table of Contents",
   "title_sidebar": "Contents",
   "toc_cell": true,
   "toc_position": {},
   "toc_section_display": true,
   "toc_window_display": true
  },
  "varInspector": {
   "cols": {
    "lenName": 16,
    "lenType": 16,
    "lenVar": 40
   },
   "kernels_config": {
    "python": {
     "delete_cmd_postfix": "",
     "delete_cmd_prefix": "del ",
     "library": "var_list.py",
     "varRefreshCmd": "print(var_dic_list())"
    },
    "r": {
     "delete_cmd_postfix": ") ",
     "delete_cmd_prefix": "rm(",
     "library": "var_list.r",
     "varRefreshCmd": "cat(var_dic_list()) "
    }
   },
   "types_to_exclude": [
    "module",
    "function",
    "builtin_function_or_method",
    "instance",
    "_Feature"
   ],
   "window_display": false
  }
 },
 "nbformat": 4,
 "nbformat_minor": 2
}

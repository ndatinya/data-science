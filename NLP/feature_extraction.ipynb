{
 "cells": [
  {
   "cell_type": "markdown",
   "metadata": {
    "toc": true
   },
   "source": [
    "<h1>Table of Contents<span class=\"tocSkip\"></span></h1>\n",
    "<div class=\"toc\"><ul class=\"toc-item\"><li><span><a href=\"#Features-Depend-on-the-Task\" data-toc-modified-id=\"Features-Depend-on-the-Task-1\"><span class=\"toc-item-num\">1&nbsp;&nbsp;</span>Features Depend on the Task</a></span></li><li><span><a href=\"#Bag-of-Words\" data-toc-modified-id=\"Bag-of-Words-2\"><span class=\"toc-item-num\">2&nbsp;&nbsp;</span>Bag of Words</a></span><ul class=\"toc-item\"><li><span><a href=\"#Knowledge-Check-🧠\" data-toc-modified-id=\"Knowledge-Check-🧠-2.1\"><span class=\"toc-item-num\">2.1&nbsp;&nbsp;</span>Knowledge Check 🧠</a></span><ul class=\"toc-item\"><li><span><a href=\"#Solution\" data-toc-modified-id=\"Solution-2.1.1\"><span class=\"toc-item-num\">2.1.1&nbsp;&nbsp;</span>Solution</a></span></li></ul></li><li><span><a href=\"#The-Better-Idea:-Vectorization\" data-toc-modified-id=\"The-Better-Idea:-Vectorization-2.2\"><span class=\"toc-item-num\">2.2&nbsp;&nbsp;</span>The Better Idea: Vectorization</a></span><ul class=\"toc-item\"><li><span><a href=\"#Knowledge-Check-🧠:-How-is-this-better?\" data-toc-modified-id=\"Knowledge-Check-🧠:-How-is-this-better?-2.2.1\"><span class=\"toc-item-num\">2.2.1&nbsp;&nbsp;</span>Knowledge Check 🧠: How is this better?</a></span><ul class=\"toc-item\"><li><span><a href=\"#Solution\" data-toc-modified-id=\"Solution-2.2.1.1\"><span class=\"toc-item-num\">2.2.1.1&nbsp;&nbsp;</span>Solution</a></span></li></ul></li></ul></li></ul></li><li><span><a href=\"#TF-IDF\" data-toc-modified-id=\"TF-IDF-3\"><span class=\"toc-item-num\">3&nbsp;&nbsp;</span>TF-IDF</a></span><ul class=\"toc-item\"><li><span><a href=\"#Document-Frequency-for-Characterization\" data-toc-modified-id=\"Document-Frequency-for-Characterization-3.1\"><span class=\"toc-item-num\">3.1&nbsp;&nbsp;</span>Document Frequency for Characterization</a></span></li></ul></li><li><span><a href=\"#Word-Embeddings\" data-toc-modified-id=\"Word-Embeddings-4\"><span class=\"toc-item-num\">4&nbsp;&nbsp;</span>Word Embeddings</a></span></li></ul></div>"
   ]
  },
  {
   "cell_type": "markdown",
   "metadata": {
    "heading_collapsed": true
   },
   "source": [
    "# Features Depend on the Task"
   ]
  },
  {
   "cell_type": "markdown",
   "metadata": {
    "hidden": true
   },
   "source": [
    "Depending on your task, you will need a different set of features. NLP's **feature extraction** is varied and can be vary interesting, focusing on the macro (document level) to the micro (word level)"
   ]
  },
  {
   "cell_type": "markdown",
   "metadata": {
    "hidden": true
   },
   "source": [
    "> What are some different tasks we can think of? What kind of features would we need for those tasks?"
   ]
  },
  {
   "cell_type": "markdown",
   "metadata": {
    "heading_collapsed": true
   },
   "source": [
    "# Bag of Words"
   ]
  },
  {
   "cell_type": "markdown",
   "metadata": {
    "hidden": true
   },
   "source": [
    "> Unordered set or \"bag\" of tokens representing a document"
   ]
  },
  {
   "cell_type": "markdown",
   "metadata": {
    "heading_collapsed": true,
    "hidden": true
   },
   "source": [
    "## Knowledge Check 🧠"
   ]
  },
  {
   "cell_type": "markdown",
   "metadata": {
    "hidden": true
   },
   "source": [
    "> We can simply keep the tokens as separate sets but why might this be a bad idea?"
   ]
  },
  {
   "cell_type": "markdown",
   "metadata": {
    "heading_collapsed": true,
    "hidden": true
   },
   "source": [
    "### Solution"
   ]
  },
  {
   "cell_type": "markdown",
   "metadata": {
    "hidden": true
   },
   "source": [
    "* Inefficient to keep each set\n",
    "    * Different sizes\n",
    "    * Different words\n",
    "* Hard to compare\n",
    "* Words appearing multiple times are not distinguished"
   ]
  },
  {
   "cell_type": "markdown",
   "metadata": {
    "heading_collapsed": true,
    "hidden": true
   },
   "source": [
    "## The Better Idea: Vectorization"
   ]
  },
  {
   "cell_type": "markdown",
   "metadata": {
    "hidden": true
   },
   "source": [
    "Instead of a set of tokens to represent a document, we can create a single vector to represent the document."
   ]
  },
  {
   "cell_type": "markdown",
   "metadata": {
    "hidden": true
   },
   "source": [
    "We can do this by making a **document-term matrix**: rows are documents, columns tokens, and values represent the frequency of the terms in the documents. "
   ]
  },
  {
   "cell_type": "markdown",
   "metadata": {
    "heading_collapsed": true,
    "hidden": true
   },
   "source": [
    "### Knowledge Check 🧠: How is this better?"
   ]
  },
  {
   "cell_type": "markdown",
   "metadata": {
    "hidden": true
   },
   "source": [
    "> What can we do know with this information?"
   ]
  },
  {
   "cell_type": "markdown",
   "metadata": {
    "heading_collapsed": true,
    "hidden": true
   },
   "source": [
    "#### Solution"
   ]
  },
  {
   "cell_type": "markdown",
   "metadata": {
    "hidden": true
   },
   "source": [
    "* Compare how many terms they have in common\n",
    "* Compare how similar they are (term frequency)"
   ]
  },
  {
   "cell_type": "markdown",
   "metadata": {
    "hidden": true
   },
   "source": [
    "A great way to do this is cosine similarity\n",
    "\n",
    "> 🧠 Why wouldn't we do a simple dot product?"
   ]
  },
  {
   "cell_type": "markdown",
   "metadata": {
    "heading_collapsed": true
   },
   "source": [
    "# TF-IDF"
   ]
  },
  {
   "cell_type": "markdown",
   "metadata": {
    "hidden": true
   },
   "source": [
    "One disadvantage to bag of words is every word is equally important.\n",
    "\n",
    "How can we fix this?"
   ]
  },
  {
   "cell_type": "markdown",
   "metadata": {
    "heading_collapsed": true,
    "hidden": true
   },
   "source": [
    "## Document Frequency for Characterization"
   ]
  },
  {
   "cell_type": "markdown",
   "metadata": {
    "hidden": true
   },
   "source": [
    "> Some set of documents have more frequent use of certain words\n",
    "\n",
    "Divide use of terms by the document frequency → highlights the words that are not used frequently"
   ]
  },
  {
   "cell_type": "markdown",
   "metadata": {
    "hidden": true
   },
   "source": [
    "**TF-IDF**: (term frequency) * (inverse document frequency)\n",
    "\n",
    "Common variation:\n",
    "> TF: Count of term in document / count of all terms in document\n",
    ">\n",
    "> IDF: log(total number of documents / number of documents with term)"
   ]
  },
  {
   "cell_type": "markdown",
   "metadata": {
    "heading_collapsed": true
   },
   "source": [
    "# Word Embeddings"
   ]
  },
  {
   "cell_type": "markdown",
   "metadata": {
    "hidden": true
   },
   "source": [
    "[Embeddings Notebook](embeddings.ipynb)"
   ]
  }
 ],
 "metadata": {
  "kernelspec": {
   "display_name": "Python 3",
   "language": "python",
   "name": "python3"
  },
  "language_info": {
   "codemirror_mode": {
    "name": "ipython",
    "version": 3
   },
   "file_extension": ".py",
   "mimetype": "text/x-python",
   "name": "python",
   "nbconvert_exporter": "python",
   "pygments_lexer": "ipython3",
   "version": "3.7.1"
  },
  "toc": {
   "base_numbering": 1,
   "nav_menu": {},
   "number_sections": true,
   "sideBar": true,
   "skip_h1_title": false,
   "title_cell": "Table of Contents",
   "title_sidebar": "Contents",
   "toc_cell": true,
   "toc_position": {},
   "toc_section_display": true,
   "toc_window_display": true
  },
  "varInspector": {
   "cols": {
    "lenName": 16,
    "lenType": 16,
    "lenVar": 40
   },
   "kernels_config": {
    "python": {
     "delete_cmd_postfix": "",
     "delete_cmd_prefix": "del ",
     "library": "var_list.py",
     "varRefreshCmd": "print(var_dic_list())"
    },
    "r": {
     "delete_cmd_postfix": ") ",
     "delete_cmd_prefix": "rm(",
     "library": "var_list.r",
     "varRefreshCmd": "cat(var_dic_list()) "
    }
   },
   "types_to_exclude": [
    "module",
    "function",
    "builtin_function_or_method",
    "instance",
    "_Feature"
   ],
   "window_display": false
  }
 },
 "nbformat": 4,
 "nbformat_minor": 2
}

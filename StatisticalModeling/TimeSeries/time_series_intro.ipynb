{
 "cells": [
  {
   "cell_type": "markdown",
   "metadata": {
    "toc": true
   },
   "source": [
    "<h1>Table of Contents<span class=\"tocSkip\"></span></h1>\n",
    "<div class=\"toc\"><ul class=\"toc-item\"><li><span><a href=\"#What-is-Time-Series-Data?\" data-toc-modified-id=\"What-is-Time-Series-Data?-1\"><span class=\"toc-item-num\">1&nbsp;&nbsp;</span>What is Time Series Data?</a></span><ul class=\"toc-item\"><li><span><a href=\"#Examples\" data-toc-modified-id=\"Examples-1.1\"><span class=\"toc-item-num\">1.1&nbsp;&nbsp;</span>Examples</a></span></li><li><span><a href=\"#Loading-in-time-series\" data-toc-modified-id=\"Loading-in-time-series-1.2\"><span class=\"toc-item-num\">1.2&nbsp;&nbsp;</span>Loading in time series</a></span></li><li><span><a href=\"#Make-data-readable-as-a-datetime\" data-toc-modified-id=\"Make-data-readable-as-a-datetime-1.3\"><span class=\"toc-item-num\">1.3&nbsp;&nbsp;</span>Make data readable as a datetime</a></span></li><li><span><a href=\"#Slicing-time-series-data\" data-toc-modified-id=\"Slicing-time-series-data-1.4\"><span class=\"toc-item-num\">1.4&nbsp;&nbsp;</span>Slicing time series data</a></span></li><li><span><a href=\"#Follow-up:-Why-should-we-make-the-date-as-the-index?\" data-toc-modified-id=\"Follow-up:-Why-should-we-make-the-date-as-the-index?-1.5\"><span class=\"toc-item-num\">1.5&nbsp;&nbsp;</span>Follow-up: Why should we make the date as the index?</a></span></li></ul></li><li><span><a href=\"#Resampling\" data-toc-modified-id=\"Resampling-2\"><span class=\"toc-item-num\">2&nbsp;&nbsp;</span>Resampling</a></span><ul class=\"toc-item\"><li><span><a href=\"#Downsampling\" data-toc-modified-id=\"Downsampling-2.1\"><span class=\"toc-item-num\">2.1&nbsp;&nbsp;</span>Downsampling</a></span><ul class=\"toc-item\"><li><span><a href=\"#Example\" data-toc-modified-id=\"Example-2.1.1\"><span class=\"toc-item-num\">2.1.1&nbsp;&nbsp;</span>Example</a></span></li></ul></li><li><span><a href=\"#Upsampling\" data-toc-modified-id=\"Upsampling-2.2\"><span class=\"toc-item-num\">2.2&nbsp;&nbsp;</span>Upsampling</a></span><ul class=\"toc-item\"><li><span><a href=\"#Example\" data-toc-modified-id=\"Example-2.2.1\"><span class=\"toc-item-num\">2.2.1&nbsp;&nbsp;</span>Example</a></span></li></ul></li></ul></li></ul></div>"
   ]
  },
  {
   "cell_type": "code",
   "execution_count": null,
   "metadata": {
    "ExecuteTime": {
     "end_time": "2019-07-24T22:09:40.338469Z",
     "start_time": "2019-07-24T22:09:39.856170Z"
    }
   },
   "outputs": [],
   "source": [
    "import pandas as pd\n",
    "import numpy as np\n",
    "import matplotlib.pyplot as plt"
   ]
  },
  {
   "cell_type": "markdown",
   "metadata": {
    "heading_collapsed": true
   },
   "source": [
    "# What is Time Series Data?"
   ]
  },
  {
   "cell_type": "markdown",
   "metadata": {
    "hidden": true
   },
   "source": [
    "Important to consider progression of time\n",
    "> - Is the temporal information a key focus of the data?  "
   ]
  },
  {
   "cell_type": "markdown",
   "metadata": {
    "heading_collapsed": true,
    "hidden": true
   },
   "source": [
    "## Examples"
   ]
  },
  {
   "cell_type": "markdown",
   "metadata": {
    "hidden": true
   },
   "source": [
    "- Stock prices\n",
    "- Temperature over the year\n",
    "- Atmoshperic changes over the course of decades"
   ]
  },
  {
   "cell_type": "markdown",
   "metadata": {
    "heading_collapsed": true,
    "hidden": true
   },
   "source": [
    "## Loading in time series"
   ]
  },
  {
   "cell_type": "code",
   "execution_count": null,
   "metadata": {
    "ExecuteTime": {
     "end_time": "2019-07-24T22:09:41.575460Z",
     "start_time": "2019-07-24T22:09:41.548437Z"
    },
    "hidden": true
   },
   "outputs": [],
   "source": [
    "# Load and display\n",
    "df_temp = pd.read_csv(\"min_temp.csv\")\n",
    "display(df_temp.head(20))\n",
    "display(df_temp.info())"
   ]
  },
  {
   "cell_type": "markdown",
   "metadata": {
    "heading_collapsed": true,
    "hidden": true
   },
   "source": [
    "## Make data readable as a datetime"
   ]
  },
  {
   "cell_type": "code",
   "execution_count": null,
   "metadata": {
    "ExecuteTime": {
     "end_time": "2019-07-24T22:12:58.219894Z",
     "start_time": "2019-07-24T22:12:58.201467Z"
    },
    "hidden": true
   },
   "outputs": [],
   "source": [
    "# Creating a proper datetime using the string formatting\n",
    "df_temp['Date'] = pd.to_datetime(df_temp['Date'], format='%d/%m/%y')\n",
    "\n",
    "# Make the temporal data as the focus\n",
    "df_temp = df_temp.set_index('Date')"
   ]
  },
  {
   "cell_type": "code",
   "execution_count": null,
   "metadata": {
    "ExecuteTime": {
     "end_time": "2019-07-24T22:13:00.476312Z",
     "start_time": "2019-07-24T22:13:00.465591Z"
    },
    "hidden": true
   },
   "outputs": [],
   "source": [
    "display(df_temp.head(10))\n",
    "display(df_temp.info())"
   ]
  },
  {
   "cell_type": "markdown",
   "metadata": {
    "heading_collapsed": true,
    "hidden": true
   },
   "source": [
    "## Slicing time series data"
   ]
  },
  {
   "cell_type": "code",
   "execution_count": null,
   "metadata": {
    "ExecuteTime": {
     "end_time": "2019-07-24T22:17:02.001824Z",
     "start_time": "2019-07-24T22:17:01.993248Z"
    },
    "hidden": true,
    "scrolled": false
   },
   "outputs": [],
   "source": [
    "after_1990 = df_temp['1990':]\n",
    "display(after_1990.head(15))"
   ]
  },
  {
   "cell_type": "code",
   "execution_count": null,
   "metadata": {
    "ExecuteTime": {
     "end_time": "2019-07-24T22:17:07.042602Z",
     "start_time": "2019-07-24T22:17:07.031923Z"
    },
    "hidden": true,
    "scrolled": true
   },
   "outputs": [],
   "source": [
    "df_temp"
   ]
  },
  {
   "cell_type": "markdown",
   "metadata": {
    "heading_collapsed": true,
    "hidden": true
   },
   "source": [
    "## Follow-up: Why should we make the date as the index?"
   ]
  },
  {
   "cell_type": "markdown",
   "metadata": {
    "heading_collapsed": true
   },
   "source": [
    "# Resampling"
   ]
  },
  {
   "cell_type": "markdown",
   "metadata": {
    "hidden": true
   },
   "source": [
    "Converting the time series into a particular frequency\n",
    "\n",
    "https://pandas.pydata.org/pandas-docs/stable/reference/api/pandas.DataFrame.resample.html\n",
    "https://pandas.pydata.org/pandas-docs/stable/user_guide/timeseries.html#resampling"
   ]
  },
  {
   "cell_type": "markdown",
   "metadata": {
    "heading_collapsed": true,
    "hidden": true
   },
   "source": [
    "## Downsampling"
   ]
  },
  {
   "cell_type": "markdown",
   "metadata": {
    "hidden": true
   },
   "source": [
    "- resample at a lower rate\n",
    "- may loose information\n",
    "- more computationally efficient"
   ]
  },
  {
   "cell_type": "markdown",
   "metadata": {
    "heading_collapsed": true,
    "hidden": true
   },
   "source": [
    "### Example"
   ]
  },
  {
   "cell_type": "code",
   "execution_count": null,
   "metadata": {
    "ExecuteTime": {
     "end_time": "2019-07-24T22:36:58.937669Z",
     "start_time": "2019-07-24T22:36:58.930589Z"
    },
    "hidden": true
   },
   "outputs": [],
   "source": [
    "# Average out so we have monthly means (compared to using days)\n",
    "monthly = df_temp.resample('MS')\n",
    "month_mean = monthly.mean()"
   ]
  },
  {
   "cell_type": "code",
   "execution_count": null,
   "metadata": {
    "ExecuteTime": {
     "end_time": "2019-07-24T22:40:45.007859Z",
     "start_time": "2019-07-24T22:40:44.999273Z"
    },
    "hidden": true
   },
   "outputs": [],
   "source": [
    "month_mean.head(10)\n",
    "df_temp.head(10)"
   ]
  },
  {
   "cell_type": "markdown",
   "metadata": {
    "heading_collapsed": true,
    "hidden": true
   },
   "source": [
    "## Upsampling"
   ]
  },
  {
   "cell_type": "markdown",
   "metadata": {
    "hidden": true
   },
   "source": [
    "- resample at a higher rate\n",
    "- should keep information"
   ]
  },
  {
   "cell_type": "markdown",
   "metadata": {
    "heading_collapsed": true,
    "hidden": true
   },
   "source": [
    "### Example"
   ]
  },
  {
   "cell_type": "code",
   "execution_count": null,
   "metadata": {
    "ExecuteTime": {
     "end_time": "2019-07-24T22:41:08.040419Z",
     "start_time": "2019-07-24T22:41:08.030788Z"
    },
    "hidden": true
   },
   "outputs": [],
   "source": [
    "# Data to every 12hours but only fill the parts known (blank otherwise)\n",
    "bidaily = df_temp.resample('12H').asfreq()\n",
    "bidaily.head(10)"
   ]
  },
  {
   "cell_type": "code",
   "execution_count": null,
   "metadata": {
    "ExecuteTime": {
     "end_time": "2019-07-24T22:41:33.957478Z",
     "start_time": "2019-07-24T22:41:33.944130Z"
    },
    "hidden": true,
    "scrolled": true
   },
   "outputs": [],
   "source": [
    "# Interpolate to every 12hours but fill the parts unknown (no blanks)\n",
    "bidaily = df_temp.resample('12H').ffill()\n",
    "bidaily.head(10)"
   ]
  },
  {
   "cell_type": "code",
   "execution_count": null,
   "metadata": {
    "ExecuteTime": {
     "end_time": "2019-07-24T22:42:30.764586Z",
     "start_time": "2019-07-24T22:42:30.753235Z"
    },
    "hidden": true,
    "scrolled": true
   },
   "outputs": [],
   "source": [
    "hourly = df_temp.resample('1H').ffill()\n",
    "hourly.head(30)"
   ]
  }
 ],
 "metadata": {
  "kernelspec": {
   "display_name": "Python 3",
   "language": "python",
   "name": "python3"
  },
  "language_info": {
   "codemirror_mode": {
    "name": "ipython",
    "version": 3
   },
   "file_extension": ".py",
   "mimetype": "text/x-python",
   "name": "python",
   "nbconvert_exporter": "python",
   "pygments_lexer": "ipython3",
   "version": "3.7.1"
  },
  "toc": {
   "base_numbering": 1,
   "nav_menu": {},
   "number_sections": true,
   "sideBar": true,
   "skip_h1_title": false,
   "title_cell": "Table of Contents",
   "title_sidebar": "Contents",
   "toc_cell": true,
   "toc_position": {},
   "toc_section_display": true,
   "toc_window_display": true
  },
  "varInspector": {
   "cols": {
    "lenName": 16,
    "lenType": 16,
    "lenVar": 40
   },
   "kernels_config": {
    "python": {
     "delete_cmd_postfix": "",
     "delete_cmd_prefix": "del ",
     "library": "var_list.py",
     "varRefreshCmd": "print(var_dic_list())"
    },
    "r": {
     "delete_cmd_postfix": ") ",
     "delete_cmd_prefix": "rm(",
     "library": "var_list.r",
     "varRefreshCmd": "cat(var_dic_list()) "
    }
   },
   "types_to_exclude": [
    "module",
    "function",
    "builtin_function_or_method",
    "instance",
    "_Feature"
   ],
   "window_display": false
  }
 },
 "nbformat": 4,
 "nbformat_minor": 2
}

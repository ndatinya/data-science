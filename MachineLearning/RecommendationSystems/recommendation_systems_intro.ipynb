{
 "cells": [
  {
   "cell_type": "markdown",
   "metadata": {
    "toc": true
   },
   "source": [
    "<h1>Table of Contents<span class=\"tocSkip\"></span></h1>\n",
    "<div class=\"toc\"><ul class=\"toc-item\"><li><span><a href=\"#Recommendation-System-Modeling\" data-toc-modified-id=\"Recommendation-System-Modeling-1\"><span class=\"toc-item-num\">1&nbsp;&nbsp;</span>Recommendation System Modeling</a></span><ul class=\"toc-item\"><li><span><a href=\"#Wait,-we-have-data-science!!!\" data-toc-modified-id=\"Wait,-we-have-data-science!!!-1.1\"><span class=\"toc-item-num\">1.1&nbsp;&nbsp;</span>Wait, we have data science!!!</a></span></li></ul></li><li><span><a href=\"#Different-Recommenders\" data-toc-modified-id=\"Different-Recommenders-2\"><span class=\"toc-item-num\">2&nbsp;&nbsp;</span>Different Recommenders</a></span><ul class=\"toc-item\"><li><span><a href=\"#The-&quot;Dumb&quot;-Way\" data-toc-modified-id=\"The-&quot;Dumb&quot;-Way-2.1\"><span class=\"toc-item-num\">2.1&nbsp;&nbsp;</span>The \"Dumb\" Way</a></span><ul class=\"toc-item\"><li><span><a href=\"#But-we're-not-all-the-same!\" data-toc-modified-id=\"But-we're-not-all-the-same!-2.1.1\"><span class=\"toc-item-num\">2.1.1&nbsp;&nbsp;</span>But we're not all the same!</a></span></li></ul></li><li><span><a href=\"#The-&quot;Smart&quot;-Way\" data-toc-modified-id=\"The-&quot;Smart&quot;-Way-2.2\"><span class=\"toc-item-num\">2.2&nbsp;&nbsp;</span>The \"Smart\" Way</a></span><ul class=\"toc-item\"><li><span><a href=\"#Knowledge-Based\" data-toc-modified-id=\"Knowledge-Based-2.2.1\"><span class=\"toc-item-num\">2.2.1&nbsp;&nbsp;</span>Knowledge-Based</a></span></li><li><span><a href=\"#Content-Based\" data-toc-modified-id=\"Content-Based-2.2.2\"><span class=\"toc-item-num\">2.2.2&nbsp;&nbsp;</span>Content-Based</a></span></li><li><span><a href=\"#Collaborative-Filtering\" data-toc-modified-id=\"Collaborative-Filtering-2.2.3\"><span class=\"toc-item-num\">2.2.3&nbsp;&nbsp;</span>Collaborative Filtering</a></span></li></ul></li></ul></li></ul></div>"
   ]
  },
  {
   "cell_type": "markdown",
   "metadata": {
    "heading_collapsed": true
   },
   "source": [
    "# Recommendation System Modeling"
   ]
  },
  {
   "cell_type": "markdown",
   "metadata": {
    "hidden": true
   },
   "source": [
    "**Motivation**: Trying to predict what you all like, no specifically **you**\n",
    "\n",
    "\n",
    "There's too many choices!!! (Getting that ***Long Tail***)"
   ]
  },
  {
   "cell_type": "markdown",
   "metadata": {
    "hidden": true
   },
   "source": [
    "<img src='https://upload.wikimedia.org/wikipedia/commons/thumb/8/8a/Long_tail.svg/440px-Long_tail.svg.png' width=60%/>"
   ]
  },
  {
   "cell_type": "markdown",
   "metadata": {
    "hidden": true
   },
   "source": [
    "If only there was some **information** we can use to **predict** this... I suppose all is lost..."
   ]
  },
  {
   "cell_type": "markdown",
   "metadata": {
    "heading_collapsed": true,
    "hidden": true
   },
   "source": [
    "## Wait, we have data science!!!"
   ]
  },
  {
   "cell_type": "markdown",
   "metadata": {
    "hidden": true
   },
   "source": [
    "<img src='images/super-data.jpg' alt='child dressed as super hero' width=60%/>"
   ]
  },
  {
   "cell_type": "markdown",
   "metadata": {
    "heading_collapsed": true
   },
   "source": [
    "# Different Recommenders"
   ]
  },
  {
   "cell_type": "markdown",
   "metadata": {
    "hidden": true
   },
   "source": [
    "> *_Question_*: How would you figure out what movie to recommend?"
   ]
  },
  {
   "cell_type": "markdown",
   "metadata": {
    "heading_collapsed": true,
    "hidden": true
   },
   "source": [
    "## The \"Dumb\" Way"
   ]
  },
  {
   "cell_type": "markdown",
   "metadata": {
    "hidden": true
   },
   "source": [
    "> _\"Well, this is most popular so you must like it too. Right?\"_"
   ]
  },
  {
   "cell_type": "markdown",
   "metadata": {
    "ExecuteTime": {
     "end_time": "2019-06-13T04:29:00.689214Z",
     "start_time": "2019-06-13T04:29:00.685448Z"
    },
    "hidden": true
   },
   "source": [
    "<img src='images/minions.jpg' alt='Minion movie poster' width=50%/>"
   ]
  },
  {
   "cell_type": "markdown",
   "metadata": {
    "hidden": true
   },
   "source": [
    "This is commonly referred to as using a **rank-based** recommendation system (recommendations based on some overall population matrix)"
   ]
  },
  {
   "cell_type": "markdown",
   "metadata": {
    "heading_collapsed": true,
    "hidden": true
   },
   "source": [
    "### But we're not all the same!"
   ]
  },
  {
   "cell_type": "markdown",
   "metadata": {
    "hidden": true
   },
   "source": [
    "<img src='images/sheeple.png' alt='Herd of sheep with a white dog among them with caption \"We are not all sheeple; differences are what makes us great\"' width=50%/>"
   ]
  },
  {
   "cell_type": "markdown",
   "metadata": {
    "heading_collapsed": true,
    "hidden": true
   },
   "source": [
    "## The \"Smart\" Way"
   ]
  },
  {
   "cell_type": "markdown",
   "metadata": {
    "hidden": true
   },
   "source": [
    "We can do better by **knowing** something about the user"
   ]
  },
  {
   "cell_type": "markdown",
   "metadata": {
    "heading_collapsed": true,
    "hidden": true
   },
   "source": [
    "### Knowledge-Based"
   ]
  },
  {
   "cell_type": "markdown",
   "metadata": {
    "hidden": true
   },
   "source": [
    "We can filter options by first considering the user then use something like the ranking of that items"
   ]
  },
  {
   "cell_type": "markdown",
   "metadata": {
    "hidden": true
   },
   "source": [
    "> \"You only like detective movies? The most popular detective movie right now is *Detective Pikachu* so you should like that!\""
   ]
  },
  {
   "cell_type": "markdown",
   "metadata": {
    "heading_collapsed": true,
    "hidden": true
   },
   "source": [
    "### Content-Based"
   ]
  },
  {
   "cell_type": "markdown",
   "metadata": {
    "hidden": true
   },
   "source": [
    "> \"If you like *Iron Man*, you'll like other Avenger movies!\""
   ]
  },
  {
   "cell_type": "markdown",
   "metadata": {
    "hidden": true
   },
   "source": [
    "![](images/content_based.png)"
   ]
  },
  {
   "cell_type": "markdown",
   "metadata": {
    "heading_collapsed": true,
    "hidden": true
   },
   "source": [
    "### Collaborative Filtering"
   ]
  },
  {
   "cell_type": "markdown",
   "metadata": {
    "hidden": true
   },
   "source": [
    "> \"You like *Megamind*? Oh you're just like my brother! I bet you'll like *The Lego Movie*!\""
   ]
  },
  {
   "cell_type": "markdown",
   "metadata": {
    "hidden": true
   },
   "source": [
    "![](images/collaborative_filtering.png)"
   ]
  }
 ],
 "metadata": {
  "kernelspec": {
   "display_name": "Python 3",
   "language": "python",
   "name": "python3"
  },
  "language_info": {
   "codemirror_mode": {
    "name": "ipython",
    "version": 3
   },
   "file_extension": ".py",
   "mimetype": "text/x-python",
   "name": "python",
   "nbconvert_exporter": "python",
   "pygments_lexer": "ipython3",
   "version": "3.6.6"
  },
  "toc": {
   "base_numbering": 1,
   "nav_menu": {},
   "number_sections": true,
   "sideBar": true,
   "skip_h1_title": false,
   "title_cell": "Table of Contents",
   "title_sidebar": "Contents",
   "toc_cell": true,
   "toc_position": {},
   "toc_section_display": true,
   "toc_window_display": true
  },
  "varInspector": {
   "cols": {
    "lenName": 16,
    "lenType": 16,
    "lenVar": 40
   },
   "kernels_config": {
    "python": {
     "delete_cmd_postfix": "",
     "delete_cmd_prefix": "del ",
     "library": "var_list.py",
     "varRefreshCmd": "print(var_dic_list())"
    },
    "r": {
     "delete_cmd_postfix": ") ",
     "delete_cmd_prefix": "rm(",
     "library": "var_list.r",
     "varRefreshCmd": "cat(var_dic_list()) "
    }
   },
   "types_to_exclude": [
    "module",
    "function",
    "builtin_function_or_method",
    "instance",
    "_Feature"
   ],
   "window_display": false
  }
 },
 "nbformat": 4,
 "nbformat_minor": 2
}

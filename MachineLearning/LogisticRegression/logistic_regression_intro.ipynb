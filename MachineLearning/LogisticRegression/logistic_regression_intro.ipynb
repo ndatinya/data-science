{
 "cells": [
  {
   "cell_type": "markdown",
   "metadata": {
    "toc": true
   },
   "source": [
    "<h1>Table of Contents<span class=\"tocSkip\"></span></h1>\n",
    "<div class=\"toc\"><ul class=\"toc-item\"><li><span><a href=\"#First-Classification:-Logistic-Regression-from-Linear-Regression\" data-toc-modified-id=\"First-Classification:-Logistic-Regression-from-Linear-Regression-1\"><span class=\"toc-item-num\">1&nbsp;&nbsp;</span>First Classification: Logistic Regression from Linear Regression</a></span><ul class=\"toc-item\"><li><span><a href=\"#How-is-it-used?\" data-toc-modified-id=\"How-is-it-used?-1.1\"><span class=\"toc-item-num\">1.1&nbsp;&nbsp;</span>How is it used?</a></span><ul class=\"toc-item\"><li><span><a href=\"#Linear-Regression\" data-toc-modified-id=\"Linear-Regression-1.1.1\"><span class=\"toc-item-num\">1.1.1&nbsp;&nbsp;</span>Linear Regression</a></span></li><li><span><a href=\"#Classification\" data-toc-modified-id=\"Classification-1.1.2\"><span class=\"toc-item-num\">1.1.2&nbsp;&nbsp;</span>Classification</a></span></li></ul></li><li><span><a href=\"#Recall-Linear-Regression\" data-toc-modified-id=\"Recall-Linear-Regression-1.2\"><span class=\"toc-item-num\">1.2&nbsp;&nbsp;</span>Recall Linear Regression</a></span><ul class=\"toc-item\"><li><span><a href=\"#Formula\" data-toc-modified-id=\"Formula-1.2.1\"><span class=\"toc-item-num\">1.2.1&nbsp;&nbsp;</span>Formula</a></span></li></ul></li><li><span><a href=\"#Classification:-Use-Logistic-Regression\" data-toc-modified-id=\"Classification:-Use-Logistic-Regression-1.3\"><span class=\"toc-item-num\">1.3&nbsp;&nbsp;</span>Classification: Use Logistic Regression</a></span></li><li><span><a href=\"#Implementing-Logistic-Regression\" data-toc-modified-id=\"Implementing-Logistic-Regression-1.4\"><span class=\"toc-item-num\">1.4&nbsp;&nbsp;</span>Implementing Logistic Regression</a></span></li></ul></li><li><span><a href=\"#Evaluating-Classifications\" data-toc-modified-id=\"Evaluating-Classifications-2\"><span class=\"toc-item-num\">2&nbsp;&nbsp;</span>Evaluating Classifications</a></span><ul class=\"toc-item\"><li><span><a href=\"#Confusion-Matrices\" data-toc-modified-id=\"Confusion-Matrices-2.1\"><span class=\"toc-item-num\">2.1&nbsp;&nbsp;</span>Confusion Matrices</a></span></li><li><span><a href=\"#ROC-&amp;-AUC\" data-toc-modified-id=\"ROC-&amp;-AUC-2.2\"><span class=\"toc-item-num\">2.2&nbsp;&nbsp;</span>ROC &amp; AUC</a></span></li></ul></li></ul></div>"
   ]
  },
  {
   "cell_type": "markdown",
   "metadata": {
    "heading_collapsed": true
   },
   "source": [
    "# First Classification: Logistic Regression from Linear Regression"
   ]
  },
  {
   "cell_type": "markdown",
   "metadata": {
    "heading_collapsed": true,
    "hidden": true
   },
   "source": [
    "## How is it used?"
   ]
  },
  {
   "cell_type": "markdown",
   "metadata": {
    "heading_collapsed": true,
    "hidden": true
   },
   "source": [
    "### Linear Regression"
   ]
  },
  {
   "cell_type": "markdown",
   "metadata": {
    "hidden": true
   },
   "source": [
    "Trying to find the **relationship**"
   ]
  },
  {
   "cell_type": "markdown",
   "metadata": {
    "heading_collapsed": true,
    "hidden": true
   },
   "source": [
    "### Classification"
   ]
  },
  {
   "cell_type": "markdown",
   "metadata": {
    "hidden": true
   },
   "source": [
    "Really more of a \"yes\" or \"no\"\n",
    "\n",
    "> _\"You're either with us, or against us\"_"
   ]
  },
  {
   "cell_type": "markdown",
   "metadata": {
    "heading_collapsed": true,
    "hidden": true
   },
   "source": [
    "## Recall Linear Regression"
   ]
  },
  {
   "cell_type": "markdown",
   "metadata": {
    "heading_collapsed": true,
    "hidden": true
   },
   "source": [
    "### Formula"
   ]
  },
  {
   "cell_type": "markdown",
   "metadata": {
    "hidden": true
   },
   "source": [
    "$$ \\hat y = \\beta_0 + \\beta_1 x_1 + \\beta_2 x_2 + \\ldots + \\beta_n x_n = \\sum_{i=0}^{N} \\beta_i x_i $$"
   ]
  },
  {
   "cell_type": "markdown",
   "metadata": {
    "heading_collapsed": true,
    "hidden": true
   },
   "source": [
    "## Classification: Use Logistic Regression"
   ]
  },
  {
   "cell_type": "markdown",
   "metadata": {
    "hidden": true
   },
   "source": [
    "Probability of belonging to a particular group"
   ]
  },
  {
   "cell_type": "markdown",
   "metadata": {
    "hidden": true
   },
   "source": [
    "Transform from linear regression!\n",
    "\n",
    "$$ \\hat y = \\sum_{i=0}^{N} \\beta_i x_i $$\n",
    "\n",
    "$$ P = \\displaystyle \\frac{1}{1+e^{-\\hat y}} = \\frac{1}{1+e^{-\\sum_{i=0}^{N} \\beta_i x_i}} $$\n",
    "\n",
    "$$ = \\frac{1}{1+e^{-\\beta_0}e^{-\\beta_1 x_1}\\ldots e^{-\\beta_N x_N}} $$"
   ]
  },
  {
   "cell_type": "markdown",
   "metadata": {
    "heading_collapsed": true,
    "hidden": true
   },
   "source": [
    "## Implementing Logistic Regression"
   ]
  },
  {
   "cell_type": "markdown",
   "metadata": {
    "hidden": true
   },
   "source": [
    "[Let's implement this in another notebook](../../MachineLearning/LogisticRegression/logistic_regression.ipynb)"
   ]
  },
  {
   "cell_type": "markdown",
   "metadata": {
    "heading_collapsed": true
   },
   "source": [
    "# Evaluating Classifications"
   ]
  },
  {
   "cell_type": "markdown",
   "metadata": {
    "heading_collapsed": true,
    "hidden": true
   },
   "source": [
    "## Confusion Matrices"
   ]
  },
  {
   "cell_type": "markdown",
   "metadata": {
    "hidden": true
   },
   "source": [
    "[Metrics & Confusion Matrices](../../EvaluatingModels/evaluation_metrics.ipynb)"
   ]
  },
  {
   "cell_type": "markdown",
   "metadata": {
    "heading_collapsed": true,
    "hidden": true
   },
   "source": [
    "## ROC & AUC"
   ]
  },
  {
   "cell_type": "markdown",
   "metadata": {
    "hidden": true
   },
   "source": [
    "[ROC Curve & AUC for Evaluation](../../EvaluatingModels/evaluation_curves.ipynb)"
   ]
  }
 ],
 "metadata": {
  "kernelspec": {
   "display_name": "Python 3",
   "language": "python",
   "name": "python3"
  },
  "language_info": {
   "codemirror_mode": {
    "name": "ipython",
    "version": 3
   },
   "file_extension": ".py",
   "mimetype": "text/x-python",
   "name": "python",
   "nbconvert_exporter": "python",
   "pygments_lexer": "ipython3",
   "version": "3.6.6"
  },
  "toc": {
   "base_numbering": 1,
   "nav_menu": {},
   "number_sections": true,
   "sideBar": true,
   "skip_h1_title": false,
   "title_cell": "Table of Contents",
   "title_sidebar": "Contents",
   "toc_cell": true,
   "toc_position": {},
   "toc_section_display": true,
   "toc_window_display": true
  },
  "varInspector": {
   "cols": {
    "lenName": 16,
    "lenType": 16,
    "lenVar": 40
   },
   "kernels_config": {
    "python": {
     "delete_cmd_postfix": "",
     "delete_cmd_prefix": "del ",
     "library": "var_list.py",
     "varRefreshCmd": "print(var_dic_list())"
    },
    "r": {
     "delete_cmd_postfix": ") ",
     "delete_cmd_prefix": "rm(",
     "library": "var_list.r",
     "varRefreshCmd": "cat(var_dic_list()) "
    }
   },
   "types_to_exclude": [
    "module",
    "function",
    "builtin_function_or_method",
    "instance",
    "_Feature"
   ],
   "window_display": false
  }
 },
 "nbformat": 4,
 "nbformat_minor": 2
}

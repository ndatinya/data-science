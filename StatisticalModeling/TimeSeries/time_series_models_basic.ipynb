{
 "cells": [
  {
   "cell_type": "markdown",
   "metadata": {
    "toc": true
   },
   "source": [
    "<h1>Table of Contents<span class=\"tocSkip\"></span></h1>\n",
    "<div class=\"toc\"><ul class=\"toc-item\"><li><span><a href=\"#White-Noise-Model\" data-toc-modified-id=\"White-Noise-Model-1\"><span class=\"toc-item-num\">1&nbsp;&nbsp;</span>White Noise Model</a></span><ul class=\"toc-item\"><li><span><a href=\"#Properites\" data-toc-modified-id=\"Properites-1.1\"><span class=\"toc-item-num\">1.1&nbsp;&nbsp;</span>Properites</a></span></li><li><span><a href=\"#Example\" data-toc-modified-id=\"Example-1.2\"><span class=\"toc-item-num\">1.2&nbsp;&nbsp;</span>Example</a></span></li></ul></li><li><span><a href=\"#Random-Walk-Model\" data-toc-modified-id=\"Random-Walk-Model-2\"><span class=\"toc-item-num\">2&nbsp;&nbsp;</span>Random Walk Model</a></span><ul class=\"toc-item\"><li><span><a href=\"#Properites\" data-toc-modified-id=\"Properites-2.1\"><span class=\"toc-item-num\">2.1&nbsp;&nbsp;</span>Properites</a></span></li><li><span><a href=\"#Example\" data-toc-modified-id=\"Example-2.2\"><span class=\"toc-item-num\">2.2&nbsp;&nbsp;</span>Example</a></span></li><li><span><a href=\"#Variation:-Random-Walk-w/-a-drift\" data-toc-modified-id=\"Variation:-Random-Walk-w/-a-drift-2.3\"><span class=\"toc-item-num\">2.3&nbsp;&nbsp;</span>Variation: Random Walk w/ a drift</a></span></li></ul></li></ul></div>"
   ]
  },
  {
   "cell_type": "code",
   "execution_count": null,
   "metadata": {
    "ExecuteTime": {
     "end_time": "2019-05-14T14:47:56.713895Z",
     "start_time": "2019-05-14T14:47:56.001972Z"
    }
   },
   "outputs": [],
   "source": [
    "import numpy as np\n",
    "import pandas as pd\n",
    "import matplotlib.pyplot as plt\n",
    "\n",
    "np.random.seed(13)"
   ]
  },
  {
   "cell_type": "markdown",
   "metadata": {
    "heading_collapsed": true
   },
   "source": [
    "# White Noise Model"
   ]
  },
  {
   "cell_type": "markdown",
   "metadata": {
    "hidden": true
   },
   "source": [
    "https://machinelearningmastery.com/white-noise-time-series-python/"
   ]
  },
  {
   "cell_type": "markdown",
   "metadata": {
    "hidden": true
   },
   "source": [
    "Stationary series"
   ]
  },
  {
   "cell_type": "markdown",
   "metadata": {
    "heading_collapsed": true,
    "hidden": true
   },
   "source": [
    "## Properites"
   ]
  },
  {
   "cell_type": "markdown",
   "metadata": {
    "hidden": true
   },
   "source": [
    "- Fixed/constant mean\n",
    "- Fixed/constant variance\n",
    "- No correlation over time (pattern is random)"
   ]
  },
  {
   "cell_type": "markdown",
   "metadata": {
    "hidden": true
   },
   "source": [
    "Note that *Gaussian white noise* model has mean of 0 and variance of 1"
   ]
  },
  {
   "cell_type": "markdown",
   "metadata": {
    "heading_collapsed": true,
    "hidden": true
   },
   "source": [
    "## Example"
   ]
  },
  {
   "cell_type": "code",
   "execution_count": null,
   "metadata": {
    "ExecuteTime": {
     "end_time": "2019-05-14T04:12:06.544049Z",
     "start_time": "2019-05-14T04:12:06.539789Z"
    },
    "hidden": true
   },
   "outputs": [],
   "source": [
    "# Create a date series\n",
    "n_days = 100\n",
    "date_series = pd.date_range(start='1/1/2015', periods=n_days)\n",
    "\n",
    "# Create a normally distributed temperature values for each day\n",
    "avg_temp = 10\n",
    "std_temp = 3\n",
    "\n",
    "temp_series = np.random.normal(avg_temp, std_temp, n_days)"
   ]
  },
  {
   "cell_type": "code",
   "execution_count": null,
   "metadata": {
    "ExecuteTime": {
     "end_time": "2019-05-14T04:12:07.829448Z",
     "start_time": "2019-05-14T04:12:07.663081Z"
    },
    "hidden": true
   },
   "outputs": [],
   "source": [
    "time_series = pd.Series(data=temp_series, index=date_series)\n",
    "\n",
    "\n",
    "ax = time_series.plot(figsize=(14,6))\n",
    "ax.set_ylabel(\"Temperature (C)\")\n",
    "ax.set_xlabel(\"Date\")\n",
    "plt.show()"
   ]
  },
  {
   "cell_type": "markdown",
   "metadata": {
    "heading_collapsed": true
   },
   "source": [
    "# Random Walk Model"
   ]
  },
  {
   "cell_type": "markdown",
   "metadata": {
    "hidden": true
   },
   "source": [
    "https://machinelearningmastery.com/gentle-introduction-random-walk-times-series-forecasting-python/"
   ]
  },
  {
   "cell_type": "markdown",
   "metadata": {
    "heading_collapsed": true,
    "hidden": true
   },
   "source": [
    "## Properites"
   ]
  },
  {
   "cell_type": "markdown",
   "metadata": {
    "hidden": true
   },
   "source": [
    "Previous value will influence the current value\n",
    "\n",
    "- No specified mean\n",
    "- No specified variance\n",
    "- Strong dependence over time"
   ]
  },
  {
   "cell_type": "markdown",
   "metadata": {
    "hidden": true
   },
   "source": [
    "Formula: $Y(t) = Y(t-1) + \\epsilon(t)$\n",
    "\n",
    "$\\epsilon(t)$ is a white noise model with mean=0"
   ]
  },
  {
   "cell_type": "markdown",
   "metadata": {
    "heading_collapsed": true,
    "hidden": true
   },
   "source": [
    "## Example"
   ]
  },
  {
   "cell_type": "code",
   "execution_count": null,
   "metadata": {
    "ExecuteTime": {
     "end_time": "2019-05-14T04:11:14.935840Z",
     "start_time": "2019-05-14T04:11:14.716875Z"
    },
    "hidden": true
   },
   "outputs": [],
   "source": [
    "avg = 0\n",
    "std = 10\n",
    "n_pts = 1500\n",
    "\n",
    "# Dates & white noise (epsilon)\n",
    "date_vals = pd.date_range(start='1/1/2015', periods=n_pts)\n",
    "epsilon = np.random.normal(avg,std,n_pts)\n",
    "\n",
    "# Generate data starting at y0 & \"walk\" based on epsilon (white noise model)\n",
    "y0 = 0\n",
    "vals = y0 + np.cumsum(epsilon) \n",
    "time_series =  pd.Series(vals, index=date_vals)\n",
    "\n",
    "# Plot out the model\n",
    "ax = time_series.plot(figsize=(14,6))\n",
    "ax.set_ylabel(\"Value\")\n",
    "ax.set_xlabel(\"Date\")\n",
    "plt.show()"
   ]
  },
  {
   "cell_type": "markdown",
   "metadata": {
    "heading_collapsed": true,
    "hidden": true
   },
   "source": [
    "## Variation: Random Walk w/ a drift"
   ]
  },
  {
   "cell_type": "markdown",
   "metadata": {
    "hidden": true
   },
   "source": [
    "\"Drifts\" with a particular value\n",
    "\n",
    "Formula: $Y(t) = c + Y(t-1) + \\epsilon(t)$"
   ]
  },
  {
   "cell_type": "code",
   "execution_count": null,
   "metadata": {
    "ExecuteTime": {
     "end_time": "2019-05-14T04:11:35.400336Z",
     "start_time": "2019-05-14T04:11:35.218101Z"
    },
    "hidden": true
   },
   "outputs": [],
   "source": [
    "# Same values from above but have a constant \"drift\" in the epsilon\n",
    "c = 0.5\n",
    "vals_drift = y0 + np.cumsum(c + epsilon) \n",
    "time_series_drift =  pd.Series(vals_drift, index=date_vals)\n",
    "\n",
    "# Plot out the model\n",
    "ax = time_series.plot(figsize=(14,6))\n",
    "time_series_drift.plot()\n",
    "ax.set_ylabel(\"Value\")\n",
    "ax.set_xlabel(\"Date\")\n",
    "plt.show()"
   ]
  }
 ],
 "metadata": {
  "kernelspec": {
   "display_name": "Python 3",
   "language": "python",
   "name": "python3"
  },
  "language_info": {
   "codemirror_mode": {
    "name": "ipython",
    "version": 3
   },
   "file_extension": ".py",
   "mimetype": "text/x-python",
   "name": "python",
   "nbconvert_exporter": "python",
   "pygments_lexer": "ipython3",
   "version": "3.7.1"
  },
  "toc": {
   "base_numbering": 1,
   "nav_menu": {},
   "number_sections": true,
   "sideBar": true,
   "skip_h1_title": false,
   "title_cell": "Table of Contents",
   "title_sidebar": "Contents",
   "toc_cell": true,
   "toc_position": {},
   "toc_section_display": true,
   "toc_window_display": true
  },
  "varInspector": {
   "cols": {
    "lenName": 16,
    "lenType": 16,
    "lenVar": 40
   },
   "kernels_config": {
    "python": {
     "delete_cmd_postfix": "",
     "delete_cmd_prefix": "del ",
     "library": "var_list.py",
     "varRefreshCmd": "print(var_dic_list())"
    },
    "r": {
     "delete_cmd_postfix": ") ",
     "delete_cmd_prefix": "rm(",
     "library": "var_list.r",
     "varRefreshCmd": "cat(var_dic_list()) "
    }
   },
   "types_to_exclude": [
    "module",
    "function",
    "builtin_function_or_method",
    "instance",
    "_Feature"
   ],
   "window_display": false
  }
 },
 "nbformat": 4,
 "nbformat_minor": 2
}

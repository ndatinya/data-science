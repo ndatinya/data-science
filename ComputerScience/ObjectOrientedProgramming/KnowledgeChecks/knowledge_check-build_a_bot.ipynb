{
 "cells": [
  {
   "cell_type": "markdown",
   "metadata": {
    "toc": true
   },
   "source": [
    "<h1>Table of Contents<span class=\"tocSkip\"></span></h1>\n",
    "<div class=\"toc\"><ul class=\"toc-item\"><li><span><a href=\"#Check-Your-Self:-Build-a-Robot-Class-🤖\" data-toc-modified-id=\"Check-Your-Self:-Build-a-Robot-Class-🤖-1\"><span class=\"toc-item-num\">1&nbsp;&nbsp;</span>Check Your Self: Build a Robot Class 🤖</a></span><ul class=\"toc-item\"><li><span><a href=\"#Testing:-Let's-Compare!\" data-toc-modified-id=\"Testing:-Let's-Compare!-1.1\"><span class=\"toc-item-num\">1.1&nbsp;&nbsp;</span>Testing: Let's Compare!</a></span><ul class=\"toc-item\"><li><span><a href=\"#But-First-We-Have-to-Make-it!\" data-toc-modified-id=\"But-First-We-Have-to-Make-it!-1.1.1\"><span class=\"toc-item-num\">1.1.1&nbsp;&nbsp;</span>But First We Have to Make it!</a></span></li><li><span><a href=\"#Cohort-Compare:-Two-Robots-Enter,-But-Only-One-will-be-the-Heaviest!\" data-toc-modified-id=\"Cohort-Compare:-Two-Robots-Enter,-But-Only-One-will-be-the-Heaviest!-1.1.2\"><span class=\"toc-item-num\">1.1.2&nbsp;&nbsp;</span>Cohort Compare: Two Robots Enter, But Only One will be the Heaviest!</a></span></li></ul></li></ul></li><li><span><a href=\"#Bonus-Round:-Extend-Your-Class\" data-toc-modified-id=\"Bonus-Round:-Extend-Your-Class-2\"><span class=\"toc-item-num\">2&nbsp;&nbsp;</span>Bonus Round: Extend Your Class</a></span></li></ul></div>"
   ]
  },
  {
   "cell_type": "markdown",
   "metadata": {},
   "source": [
    "> Timing ~5min total"
   ]
  },
  {
   "cell_type": "markdown",
   "metadata": {
    "heading_collapsed": true
   },
   "source": [
    "# Check Your Self: Build a Robot Class 🤖"
   ]
  },
  {
   "cell_type": "markdown",
   "metadata": {
    "hidden": true
   },
   "source": [
    "Your goal here will be to create your own `NewRobot` with theses properties:\n",
    "\n",
    "- A `name` property for the robot\n",
    "- A `weight` property for the robot"
   ]
  },
  {
   "cell_type": "code",
   "execution_count": null,
   "metadata": {
    "ExecuteTime": {
     "end_time": "2019-09-04T18:16:36.039403Z",
     "start_time": "2019-09-04T18:16:36.037688Z"
    },
    "hidden": true
   },
   "outputs": [],
   "source": [
    "# STUDENT'S CODE HERE - DEFINE A CLASS\n",
    "\n",
    "# class NewRobot():\n",
    "# \n",
    "# \n",
    "# "
   ]
  },
  {
   "cell_type": "markdown",
   "metadata": {
    "heading_collapsed": true,
    "hidden": true
   },
   "source": [
    "## Testing: Let's Compare!"
   ]
  },
  {
   "cell_type": "markdown",
   "metadata": {
    "heading_collapsed": true,
    "hidden": true
   },
   "source": [
    "### But First We Have to Make it!"
   ]
  },
  {
   "cell_type": "code",
   "execution_count": null,
   "metadata": {
    "ExecuteTime": {
     "end_time": "2019-09-04T18:20:36.450331Z",
     "start_time": "2019-09-04T18:20:36.446693Z"
    },
    "hidden": true
   },
   "outputs": [],
   "source": [
    "# INSTATIATE ROBOT A\n",
    "robot_a = # complete code"
   ]
  },
  {
   "cell_type": "code",
   "execution_count": null,
   "metadata": {
    "hidden": true
   },
   "outputs": [],
   "source": [
    "# Assign some properties to Object (if no defaults)"
   ]
  },
  {
   "cell_type": "code",
   "execution_count": null,
   "metadata": {
    "hidden": true
   },
   "outputs": [],
   "source": [
    "# After properties are assigned, print robot_a's weight & name\n",
    "message = f'My name is {robot_a.name} & I weigh {robot_a.weight}'\n",
    "print(message)"
   ]
  },
  {
   "cell_type": "markdown",
   "metadata": {
    "heading_collapsed": true,
    "hidden": true
   },
   "source": [
    "### Cohort Compare: Two Robots Enter, But Only One will be the Heaviest!"
   ]
  },
  {
   "cell_type": "code",
   "execution_count": null,
   "metadata": {
    "hidden": true
   },
   "outputs": [],
   "source": [
    "# # INSTATIATE ANOTHER ROBOT - ROBOT B (CREATED VIA DIFFERENT STUDENT)\n",
    "robot_b = # complete code"
   ]
  },
  {
   "cell_type": "code",
   "execution_count": null,
   "metadata": {
    "hidden": true
   },
   "outputs": [],
   "source": [
    "print('Who is heavier? A or B??')"
   ]
  },
  {
   "cell_type": "code",
   "execution_count": null,
   "metadata": {
    "hidden": true
   },
   "outputs": [],
   "source": [
    "# WRITE CODE TO COMPARE robot_a & robot_b"
   ]
  }
 ],
 "metadata": {
  "kernelspec": {
   "display_name": "Python 3",
   "language": "python",
   "name": "python3"
  },
  "language_info": {
   "codemirror_mode": {
    "name": "ipython",
    "version": 3
   },
   "file_extension": ".py",
   "mimetype": "text/x-python",
   "name": "python",
   "nbconvert_exporter": "python",
   "pygments_lexer": "ipython3",
   "version": "3.6.6"
  },
  "toc": {
   "base_numbering": 1,
   "nav_menu": {},
   "number_sections": true,
   "sideBar": false,
   "skip_h1_title": false,
   "title_cell": "Table of Contents",
   "title_sidebar": "Contents",
   "toc_cell": true,
   "toc_position": {},
   "toc_section_display": true,
   "toc_window_display": false
  },
  "varInspector": {
   "cols": {
    "lenName": 16,
    "lenType": 16,
    "lenVar": 40
   },
   "kernels_config": {
    "python": {
     "delete_cmd_postfix": "",
     "delete_cmd_prefix": "del ",
     "library": "var_list.py",
     "varRefreshCmd": "print(var_dic_list())"
    },
    "r": {
     "delete_cmd_postfix": ") ",
     "delete_cmd_prefix": "rm(",
     "library": "var_list.r",
     "varRefreshCmd": "cat(var_dic_list()) "
    }
   },
   "types_to_exclude": [
    "module",
    "function",
    "builtin_function_or_method",
    "instance",
    "_Feature"
   ],
   "window_display": false
  }
 },
 "nbformat": 4,
 "nbformat_minor": 2
}

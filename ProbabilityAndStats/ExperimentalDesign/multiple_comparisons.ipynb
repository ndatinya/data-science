{
 "cells": [
  {
   "cell_type": "markdown",
   "metadata": {
    "toc": true
   },
   "source": [
    "<h1>Table of Contents<span class=\"tocSkip\"></span></h1>\n",
    "<div class=\"toc\"><ul class=\"toc-item\"><li><span><a href=\"#Multiple-Comparisons\" data-toc-modified-id=\"Multiple-Comparisons-1\"><span class=\"toc-item-num\">1&nbsp;&nbsp;</span>Multiple Comparisons</a></span><ul class=\"toc-item\"><li><span><a href=\"#Q:-What-are-the-issues-here?\" data-toc-modified-id=\"Q:-What-are-the-issues-here?-1.1\"><span class=\"toc-item-num\">1.1&nbsp;&nbsp;</span>Q: What are the issues here?</a></span></li><li><span><a href=\"#Bonferroni-Correction\" data-toc-modified-id=\"Bonferroni-Correction-1.2\"><span class=\"toc-item-num\">1.2&nbsp;&nbsp;</span>Bonferroni Correction</a></span><ul class=\"toc-item\"><li><span><a href=\"#But...\" data-toc-modified-id=\"But...-1.2.1\"><span class=\"toc-item-num\">1.2.1&nbsp;&nbsp;</span>But...</a></span></li></ul></li><li><span><a href=\"#Holm–Bonferroni-Method\" data-toc-modified-id=\"Holm–Bonferroni-Method-1.3\"><span class=\"toc-item-num\">1.3&nbsp;&nbsp;</span>Holm–Bonferroni Method</a></span><ul class=\"toc-item\"><li><span><a href=\"#Steps\" data-toc-modified-id=\"Steps-1.3.1\"><span class=\"toc-item-num\">1.3.1&nbsp;&nbsp;</span>Steps</a></span></li><li><span><a href=\"#Why-do-this?\" data-toc-modified-id=\"Why-do-this?-1.3.2\"><span class=\"toc-item-num\">1.3.2&nbsp;&nbsp;</span>Why do this?</a></span></li></ul></li></ul></li></ul></div>"
   ]
  },
  {
   "cell_type": "markdown",
   "metadata": {
    "heading_collapsed": true
   },
   "source": [
    "# Multiple Comparisons"
   ]
  },
  {
   "cell_type": "markdown",
   "metadata": {
    "hidden": true
   },
   "source": [
    "https://en.wikipedia.org/wiki/Multiple_comparisons_problem"
   ]
  },
  {
   "cell_type": "markdown",
   "metadata": {
    "heading_collapsed": true,
    "hidden": true
   },
   "source": [
    "## Q: What are the issues here?"
   ]
  },
  {
   "cell_type": "markdown",
   "metadata": {
    "hidden": true
   },
   "source": [
    "A: More likely to catch false positives (reject when we actually shouldn't! → $H_0$ seems wrong!)\n",
    "\n",
    "What do we do? Move the goal posts!"
   ]
  },
  {
   "cell_type": "markdown",
   "metadata": {
    "heading_collapsed": true,
    "hidden": true
   },
   "source": [
    "## Bonferroni Correction"
   ]
  },
  {
   "cell_type": "markdown",
   "metadata": {
    "hidden": true
   },
   "source": [
    "> https://en.wikipedia.org/wiki/Bonferroni_correction\n",
    "\n",
    "Divide critical value $\\alpha$ by the number of comparisons!\n",
    "\n",
    "The more measurements we make, the weirder we'd expect! (If we do 1,000 coin flips we'd having a string of 6 heads is not uncommon → we need to see more"
   ]
  },
  {
   "cell_type": "markdown",
   "metadata": {
    "heading_collapsed": true,
    "hidden": true
   },
   "source": [
    "### But... "
   ]
  },
  {
   "cell_type": "markdown",
   "metadata": {
    "hidden": true
   },
   "source": [
    "The measurement is very conservative; unlikely to pass a test...\n",
    "\n",
    "So use other tests!"
   ]
  },
  {
   "cell_type": "markdown",
   "metadata": {
    "heading_collapsed": true,
    "hidden": true
   },
   "source": [
    "## Holm–Bonferroni Method"
   ]
  },
  {
   "cell_type": "markdown",
   "metadata": {
    "hidden": true
   },
   "source": [
    "> https://en.wikipedia.org/wiki/Holm%E2%80%93Bonferroni_method\n",
    "\n",
    "\n",
    "p-value must be larger than a modified $\\alpha$"
   ]
  },
  {
   "cell_type": "markdown",
   "metadata": {
    "heading_collapsed": true,
    "hidden": true
   },
   "source": [
    "### Steps"
   ]
  },
  {
   "cell_type": "markdown",
   "metadata": {
    "hidden": true
   },
   "source": [
    "1. Using $m$ comparisons, calculate the p-values (p) for each\n",
    "2. Sort the p from smallest to largest (most significant to least significant) going from 1 to $m$\n",
    "3. Find the smallest $k$ where this holds:\n",
    "$$ p_k > \\frac{\\alpha}{m-k+1}$$\n",
    "4. Only reject hypotheses associated smaller than the index $k$\n",
    "5. Extremes:\n",
    "    - If $k$ is 1 (the first p-value is larger), don't reject anything!\n",
    "    - If $k$ doesn't exist (all p-values are smaller), reject everything!"
   ]
  },
  {
   "cell_type": "markdown",
   "metadata": {
    "heading_collapsed": true,
    "hidden": true
   },
   "source": [
    "### Why do this?"
   ]
  },
  {
   "cell_type": "markdown",
   "metadata": {
    "hidden": true
   },
   "source": [
    "- Uniformly more powerful!\n",
    "- Relatively simple!\n",
    "\n",
    "*Pssst... math people... this is a [closed testing procedure](https://en.wikipedia.org/wiki/Closed_testing_procedure) in statistics*"
   ]
  }
 ],
 "metadata": {
  "kernelspec": {
   "display_name": "Python 3",
   "language": "python",
   "name": "python3"
  },
  "language_info": {
   "codemirror_mode": {
    "name": "ipython",
    "version": 3
   },
   "file_extension": ".py",
   "mimetype": "text/x-python",
   "name": "python",
   "nbconvert_exporter": "python",
   "pygments_lexer": "ipython3",
   "version": "3.6.6"
  },
  "toc": {
   "base_numbering": 1,
   "nav_menu": {},
   "number_sections": true,
   "sideBar": false,
   "skip_h1_title": false,
   "title_cell": "Table of Contents",
   "title_sidebar": "Contents",
   "toc_cell": true,
   "toc_position": {},
   "toc_section_display": false,
   "toc_window_display": false
  },
  "varInspector": {
   "cols": {
    "lenName": 16,
    "lenType": 16,
    "lenVar": 40
   },
   "kernels_config": {
    "python": {
     "delete_cmd_postfix": "",
     "delete_cmd_prefix": "del ",
     "library": "var_list.py",
     "varRefreshCmd": "print(var_dic_list())"
    },
    "r": {
     "delete_cmd_postfix": ") ",
     "delete_cmd_prefix": "rm(",
     "library": "var_list.r",
     "varRefreshCmd": "cat(var_dic_list()) "
    }
   },
   "types_to_exclude": [
    "module",
    "function",
    "builtin_function_or_method",
    "instance",
    "_Feature"
   ],
   "window_display": false
  }
 },
 "nbformat": 4,
 "nbformat_minor": 2
}

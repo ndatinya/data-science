{
 "cells": [
  {
   "cell_type": "markdown",
   "metadata": {
    "colab_type": "text",
    "id": "tf-_ky-VYWWe"
   },
   "source": [
    "Shareable Link: https://colab.research.google.com/drive/1wK3tw6AL-ZCcNDxShSaXEoE_4j_fDVHx\n",
    "\n",
    "(Anyone can edit, so be aware not to do drastic changes 😁)"
   ]
  },
  {
   "cell_type": "markdown",
   "metadata": {
    "colab_type": "text",
    "id": "zR4J-MxDZkMi"
   },
   "source": [
    "# Some Basics in Editing"
   ]
  },
  {
   "cell_type": "markdown",
   "metadata": {
    "colab_type": "text",
    "id": "U8RE2UbyZoZO"
   },
   "source": [
    "## Markdown == Formatting\n",
    "\n",
    "Quick Reference Resource: https://www.markdownguide.org/cheat-sheet/\n",
    "\n",
    "Original Source/Documentation: https://daringfireball.net/projects/markdown/"
   ]
  },
  {
   "cell_type": "markdown",
   "metadata": {
    "colab_type": "text",
    "id": "e16DuIl8eg33"
   },
   "source": [
    "### Text Formatting"
   ]
  },
  {
   "cell_type": "markdown",
   "metadata": {
    "colab_type": "text",
    "id": "wPTwuMU9ejZs"
   },
   "source": [
    "\n",
    "Horizontal line:\n",
    "\n",
    "`--------`\n",
    "\n",
    "-----\n",
    "\n",
    "\n",
    "Bold `**bolding**`\n",
    "\n",
    "**bolding**\n",
    "\n",
    "\n",
    "--------------\n",
    "\n",
    "\n",
    "\n",
    "Italics `*tilting*`\n",
    "\n",
    "*tilting*\n",
    "\n",
    "----------------\n",
    "\n",
    "Block quote `> quote (indent)`\n",
    "\n",
    "> quote (indent)\n",
    ">\n",
    "> works on multiple lines\n",
    ">> and multiple indents\n",
    "\n",
    "\n"
   ]
  },
  {
   "cell_type": "markdown",
   "metadata": {
    "colab_type": "text",
    "id": "kKkgeQYhaNWJ"
   },
   "source": [
    "### Make headings to logically separate ideas\n"
   ]
  },
  {
   "cell_type": "markdown",
   "metadata": {
    "colab_type": "text",
    "id": "2XjRh0yCawLa"
   },
   "source": [
    "- Don't use it to \"make text bigger\"\n",
    "- Think of it as creating an outline\n"
   ]
  },
  {
   "cell_type": "markdown",
   "metadata": {
    "colab_type": "text",
    "id": "-eaIccuLauE0"
   },
   "source": [
    "Example Markdown\n",
    "```\n",
    "# Heading 1\n",
    "## Heading 2\n",
    "### Heading 3\n",
    "```"
   ]
  },
  {
   "cell_type": "markdown",
   "metadata": {
    "colab_type": "text",
    "id": "no4PtMyAazRq"
   },
   "source": [
    "### Can show code snippets"
   ]
  },
  {
   "cell_type": "markdown",
   "metadata": {
    "colab_type": "text",
    "id": "OgL5sMvoa7M_"
   },
   "source": [
    "Use \\` [code here] \\` (backticks)\n",
    "\n",
    "\\`print('Hello')\\` produces `print('Hello')`\n",
    "\n"
   ]
  },
  {
   "cell_type": "markdown",
   "metadata": {
    "colab_type": "text",
    "id": "NEmN6CWcbTGo"
   },
   "source": [
    "Use three backticks to create multiple lines:\n",
    "\n",
    "```\n",
    "print('Hello')\n",
    "x = str(123)\n",
    "\n",
    "print(f'Hello number {x}')\n",
    "```"
   ]
  },
  {
   "cell_type": "markdown",
   "metadata": {
    "colab_type": "text",
    "id": "s3wvPimwbsph"
   },
   "source": [
    "### Links to other sources"
   ]
  },
  {
   "cell_type": "markdown",
   "metadata": {
    "colab_type": "text",
    "id": "mDfmefo2by_P"
   },
   "source": [
    "`[What you see](where_you_go)`\n",
    "\n",
    "[link text](https://google.com)"
   ]
  },
  {
   "cell_type": "markdown",
   "metadata": {
    "colab_type": "text",
    "id": "nlLpKmzBbwRL"
   },
   "source": [
    "### Images"
   ]
  },
  {
   "cell_type": "markdown",
   "metadata": {
    "colab_type": "text",
    "id": "rRlKvGhNbyYH"
   },
   "source": [
    "Similar to links (can use URLs or local images)\n",
    "\n",
    "`![Hover over image and I appear](linktoimage.jpg)`\n",
    "\n",
    "\n",
    "![alt_text](https://i.redd.it/ytitd72wz2b11.jpg)"
   ]
  },
  {
   "cell_type": "markdown",
   "metadata": {
    "colab_type": "text",
    "id": "-L4CtbkueRNZ"
   },
   "source": [
    "### And other stuff\n"
   ]
  },
  {
   "cell_type": "markdown",
   "metadata": {
    "colab_type": "text",
    "id": "yV11vH1NgRlW"
   },
   "source": [
    "Ordered Lists:\n",
    "\n",
    "1. First item\n",
    "2. Second item\n",
    "3. Third item\n",
    "3. fourth item\n",
    "1. fifth item"
   ]
  },
  {
   "cell_type": "markdown",
   "metadata": {
    "colab_type": "text",
    "id": "4dHuJ2NgfuzQ"
   },
   "source": [
    "Unordered Lists:\n",
    "\n",
    "* First item\n",
    "* Second item\n",
    "* Third item\n",
    "\n",
    "-------\n",
    "Multiple ways (+ or -):\n",
    "\n",
    "- using\n",
    "- dashes\n",
    "+ using plus\n",
    "\n",
    "------\n",
    "\n",
    "multiple levels:\n",
    "\n",
    "- Layer one\n",
    "  + layer two\n",
    "    * layer thrre\n",
    "    - see?\n",
    "  + layer again\n",
    "  + And \n",
    "     * again\n",
    "- Back to the base layer\n",
    "\n"
   ]
  },
  {
   "cell_type": "markdown",
   "metadata": {
    "colab_type": "text",
    "id": "mKXysTbfgUpS"
   },
   "source": [
    "Tables:\n",
    "\n",
    "| Syntax | Description |\n",
    "| ----------- | ----------- |\n",
    "| Header | Title |\n",
    "| Paragraph | Text |\n"
   ]
  },
  {
   "cell_type": "markdown",
   "metadata": {
    "colab_type": "text",
    "id": "FYNoPcFuqfX4"
   },
   "source": [
    "# Some Advice"
   ]
  },
  {
   "cell_type": "markdown",
   "metadata": {},
   "source": [
    "## Approaching the project"
   ]
  },
  {
   "cell_type": "markdown",
   "metadata": {},
   "source": [
    "## Using Jupyter"
   ]
  },
  {
   "cell_type": "markdown",
   "metadata": {},
   "source": [
    "- Restarting Kernel\n",
    "- Run from the top-down\n",
    "- Make sure you activate environment (can get missing packages)"
   ]
  },
  {
   "cell_type": "code",
   "execution_count": null,
   "metadata": {},
   "outputs": [],
   "source": [
    "# Getting Help\n",
    "help(print)\n",
    "?print"
   ]
  }
 ],
 "metadata": {
  "colab": {
   "name": "Advice.ipynb",
   "provenance": [],
   "version": "0.3.2"
  },
  "kernelspec": {
   "display_name": "Python 3",
   "language": "python",
   "name": "python3"
  },
  "language_info": {
   "codemirror_mode": {
    "name": "ipython",
    "version": 3
   },
   "file_extension": ".py",
   "mimetype": "text/x-python",
   "name": "python",
   "nbconvert_exporter": "python",
   "pygments_lexer": "ipython3",
   "version": "3.7.1"
  }
 },
 "nbformat": 4,
 "nbformat_minor": 1
}

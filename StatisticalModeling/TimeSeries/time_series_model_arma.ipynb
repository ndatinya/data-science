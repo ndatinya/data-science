{
 "cells": [
  {
   "cell_type": "markdown",
   "metadata": {
    "toc": true
   },
   "source": [
    "<h1>Table of Contents<span class=\"tocSkip\"></span></h1>\n",
    "<div class=\"toc\"><ul class=\"toc-item\"><li><span><a href=\"#Autoregressive-(AR)-Model\" data-toc-modified-id=\"Autoregressive-(AR)-Model-1\"><span class=\"toc-item-num\">1&nbsp;&nbsp;</span>Autoregressive (AR) Model</a></span><ul class=\"toc-item\"><li><span><a href=\"#Properties\" data-toc-modified-id=\"Properties-1.1\"><span class=\"toc-item-num\">1.1&nbsp;&nbsp;</span>Properties</a></span></li><li><span><a href=\"#Example\" data-toc-modified-id=\"Example-1.2\"><span class=\"toc-item-num\">1.2&nbsp;&nbsp;</span>Example</a></span></li></ul></li><li><span><a href=\"#Moving-Average-(MA)-Model\" data-toc-modified-id=\"Moving-Average-(MA)-Model-2\"><span class=\"toc-item-num\">2&nbsp;&nbsp;</span>Moving Average (MA) Model</a></span><ul class=\"toc-item\"><li><span><a href=\"#Example\" data-toc-modified-id=\"Example-2.1\"><span class=\"toc-item-num\">2.1&nbsp;&nbsp;</span>Example</a></span></li></ul></li><li><span><a href=\"#ARMA-Model\" data-toc-modified-id=\"ARMA-Model-3\"><span class=\"toc-item-num\">3&nbsp;&nbsp;</span>ARMA Model</a></span><ul class=\"toc-item\"><li><span><a href=\"#Higher-Order\" data-toc-modified-id=\"Higher-Order-3.1\"><span class=\"toc-item-num\">3.1&nbsp;&nbsp;</span>Higher Order</a></span></li></ul></li></ul></div>"
   ]
  },
  {
   "cell_type": "code",
   "execution_count": null,
   "metadata": {
    "ExecuteTime": {
     "end_time": "2019-07-25T05:45:56.575934Z",
     "start_time": "2019-07-25T05:45:56.186844Z"
    }
   },
   "outputs": [],
   "source": [
    "import numpy as np\n",
    "import pandas as pd\n",
    "import matplotlib.pyplot as plt\n",
    "\n",
    "np.random.seed(13)"
   ]
  },
  {
   "cell_type": "markdown",
   "metadata": {
    "heading_collapsed": true
   },
   "source": [
    "# Autoregressive (AR) Model"
   ]
  },
  {
   "cell_type": "markdown",
   "metadata": {
    "heading_collapsed": true,
    "hidden": true
   },
   "source": [
    "## Properties"
   ]
  },
  {
   "cell_type": "markdown",
   "metadata": {
    "hidden": true
   },
   "source": [
    "Formula: $Y(t) = \\mu + \\phi * Y(t-1)+\\epsilon(t)$\n",
    "\n",
    "> $\\phi = 0$: simply the white noise model (mean of $\\mu$)\n",
    ">\n",
    "> $\\phi \\lt 0$: oscillates\n",
    ">\n",
    "> $\\phi \\gt 0$: previous points correlate with past (**autocorrelated**)"
   ]
  },
  {
   "cell_type": "markdown",
   "metadata": {
    "heading_collapsed": true,
    "hidden": true
   },
   "source": [
    "## Example"
   ]
  },
  {
   "cell_type": "code",
   "execution_count": null,
   "metadata": {
    "ExecuteTime": {
     "end_time": "2019-07-25T05:45:56.732483Z",
     "start_time": "2019-07-25T05:45:56.577836Z"
    },
    "hidden": true
   },
   "outputs": [],
   "source": [
    "avg = 0\n",
    "std = 4\n",
    "n_pts = 100\n",
    "\n",
    "\n",
    "mu = 7\n",
    "phi = 0.1\n",
    "# phi = 0.5\n",
    "# phi = 0.9\n",
    "# phi = -0.1\n",
    "# phi = -0.5\n",
    "# phi = -0.9\n",
    "\n",
    "# Dates & white noise (epsilon)\n",
    "date_vals = pd.date_range(start='1/1/2015', periods=n_pts)\n",
    "epsilon = np.random.normal(avg,std,n_pts)\n",
    "\n",
    "#\n",
    "vals = []\n",
    "y = 0\n",
    "for e in epsilon:\n",
    "    y = y * phi  + e + mu\n",
    "    vals.append(y)\n",
    "    \n",
    "    \n",
    "time_series =  pd.Series(vals, index=date_vals)\n",
    "\n",
    "# Plot out the model\n",
    "ax = time_series.plot(figsize=(14,6))\n",
    "ax.set_ylabel(\"Value\")\n",
    "ax.set_xlabel(\"Date\")\n",
    "plt.show()"
   ]
  },
  {
   "cell_type": "code",
   "execution_count": null,
   "metadata": {
    "ExecuteTime": {
     "end_time": "2019-07-25T05:45:56.737706Z",
     "start_time": "2019-07-25T05:45:56.733781Z"
    },
    "hidden": true
   },
   "outputs": [],
   "source": [
    "a = [1]*5\n",
    "a = a * np.linspace(1,2,5)\n",
    "a"
   ]
  },
  {
   "cell_type": "markdown",
   "metadata": {
    "heading_collapsed": true
   },
   "source": [
    "# Moving Average (MA) Model"
   ]
  },
  {
   "cell_type": "markdown",
   "metadata": {
    "hidden": true
   },
   "source": [
    "Formula: $Y(t) = \\mu + \\theta * \\epsilon(t-1)+\\epsilon(t)$\n",
    "\n",
    "> $\\theta = 0$: simply the white noise model (mean of $\\mu$)\n",
    ">\n",
    "> $\\theta \\lt 0$: oscillates\n",
    ">\n",
    "> $\\theta \\gt 0$: previous points correlate with past (**autocorrelated**)"
   ]
  },
  {
   "cell_type": "markdown",
   "metadata": {
    "heading_collapsed": true,
    "hidden": true
   },
   "source": [
    "## Example"
   ]
  },
  {
   "cell_type": "code",
   "execution_count": null,
   "metadata": {
    "ExecuteTime": {
     "end_time": "2019-07-25T05:45:56.902085Z",
     "start_time": "2019-07-25T05:45:56.740218Z"
    },
    "hidden": true
   },
   "outputs": [],
   "source": [
    "avg = 0\n",
    "std = 4\n",
    "n_pts = 100\n",
    "\n",
    "\n",
    "mu = 7\n",
    "# theta = 0.1\n",
    "# theta = 0.5\n",
    "# theta = 0.9\n",
    "# theta = -0.1\n",
    "theta = -0.5\n",
    "# theta = -0.9\n",
    "\n",
    "# Dates & white noise (epsilon)\n",
    "date_vals = pd.date_range(start='1/1/2015', periods=n_pts)\n",
    "epsilon = np.random.normal(avg,std,n_pts+1)\n",
    "\n",
    "#\n",
    "vals = []\n",
    "y = 0\n",
    "for i in range(len(epsilon)-1):\n",
    "    y = epsilon[i] * theta  + epsilon[i+1] + mu\n",
    "    vals.append(y)\n",
    "    \n",
    "    \n",
    "time_series =  pd.Series(vals, index=date_vals)\n",
    "\n",
    "# Plot out the model\n",
    "ax = time_series.plot(figsize=(14,6))\n",
    "ax.set_ylabel(\"Value\")\n",
    "ax.set_xlabel(\"Date\")\n",
    "plt.show()"
   ]
  },
  {
   "cell_type": "markdown",
   "metadata": {
    "heading_collapsed": true
   },
   "source": [
    "# ARMA Model"
   ]
  },
  {
   "cell_type": "markdown",
   "metadata": {
    "hidden": true
   },
   "source": [
    "Combine them together; can have both regression on past values (AR) and previous errors affect future errors (MA)"
   ]
  },
  {
   "cell_type": "markdown",
   "metadata": {
    "hidden": true
   },
   "source": [
    "Formula: $Y(t) = \\mu + \\epsilon(t) + \\phi * Y(t-1) +  \\theta * \\epsilon(t-1)$\n"
   ]
  },
  {
   "cell_type": "markdown",
   "metadata": {
    "heading_collapsed": true,
    "hidden": true
   },
   "source": [
    "## Higher Order"
   ]
  },
  {
   "cell_type": "markdown",
   "metadata": {
    "hidden": true
   },
   "source": [
    "ARMA(2,1) yields\n",
    "\n",
    "$$Y(t) = \\mu + \\epsilon(t) + \\phi_2 * Y(t-2) + \\phi_1 * Y(t-1) +  \\theta * \\epsilon(t-1)$$"
   ]
  }
 ],
 "metadata": {
  "kernelspec": {
   "display_name": "Python 3",
   "language": "python",
   "name": "python3"
  },
  "language_info": {
   "codemirror_mode": {
    "name": "ipython",
    "version": 3
   },
   "file_extension": ".py",
   "mimetype": "text/x-python",
   "name": "python",
   "nbconvert_exporter": "python",
   "pygments_lexer": "ipython3",
   "version": "3.7.1"
  },
  "toc": {
   "base_numbering": 1,
   "nav_menu": {},
   "number_sections": true,
   "sideBar": true,
   "skip_h1_title": false,
   "title_cell": "Table of Contents",
   "title_sidebar": "Contents",
   "toc_cell": true,
   "toc_position": {},
   "toc_section_display": true,
   "toc_window_display": true
  },
  "varInspector": {
   "cols": {
    "lenName": 16,
    "lenType": 16,
    "lenVar": 40
   },
   "kernels_config": {
    "python": {
     "delete_cmd_postfix": "",
     "delete_cmd_prefix": "del ",
     "library": "var_list.py",
     "varRefreshCmd": "print(var_dic_list())"
    },
    "r": {
     "delete_cmd_postfix": ") ",
     "delete_cmd_prefix": "rm(",
     "library": "var_list.r",
     "varRefreshCmd": "cat(var_dic_list()) "
    }
   },
   "types_to_exclude": [
    "module",
    "function",
    "builtin_function_or_method",
    "instance",
    "_Feature"
   ],
   "window_display": false
  }
 },
 "nbformat": 4,
 "nbformat_minor": 2
}

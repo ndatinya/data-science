{
 "cells": [
  {
   "cell_type": "markdown",
   "metadata": {
    "toc": true
   },
   "source": [
    "<h1>Table of Contents<span class=\"tocSkip\"></span></h1>\n",
    "<div class=\"toc\"><ul class=\"toc-item\"><li><span><a href=\"#Example-Dataset---Blobs\" data-toc-modified-id=\"Example-Dataset---Blobs-1\"><span class=\"toc-item-num\">1&nbsp;&nbsp;</span>Example Dataset - Blobs</a></span><ul class=\"toc-item\"><li><span><a href=\"#Attempt-#1-&amp;-displaying-the-$\\epsilon$\" data-toc-modified-id=\"Attempt-#1-&amp;-displaying-the-$\\epsilon$-1.1\"><span class=\"toc-item-num\">1.1&nbsp;&nbsp;</span>Attempt #1 &amp; displaying the $\\epsilon$</a></span></li><li><span><a href=\"#Attempt-#2-&amp;-displaying-the-$\\epsilon$\" data-toc-modified-id=\"Attempt-#2-&amp;-displaying-the-$\\epsilon$-1.2\"><span class=\"toc-item-num\">1.2&nbsp;&nbsp;</span>Attempt #2 &amp; displaying the $\\epsilon$</a></span></li></ul></li><li><span><a href=\"#Example-Dataset---Varied-Density\" data-toc-modified-id=\"Example-Dataset---Varied-Density-2\"><span class=\"toc-item-num\">2&nbsp;&nbsp;</span>Example Dataset - Varied Density</a></span><ul class=\"toc-item\"><li><span><a href=\"#First-attempt-with-default-parameters\" data-toc-modified-id=\"First-attempt-with-default-parameters-2.1\"><span class=\"toc-item-num\">2.1&nbsp;&nbsp;</span>First attempt with default parameters</a></span><ul class=\"toc-item\"><li><span><a href=\"#Knowledge-Check-🧠:-Does-this-clustering-make-sense?-How-would-you-cluster-it?\" data-toc-modified-id=\"Knowledge-Check-🧠:-Does-this-clustering-make-sense?-How-would-you-cluster-it?-2.1.1\"><span class=\"toc-item-num\">2.1.1&nbsp;&nbsp;</span>Knowledge Check 🧠: Does this clustering make sense? How would you cluster it?</a></span></li></ul></li><li><span><a href=\"#Scenario-1\" data-toc-modified-id=\"Scenario-1-2.2\"><span class=\"toc-item-num\">2.2&nbsp;&nbsp;</span>Scenario 1</a></span><ul class=\"toc-item\"><li><span><a href=\"#Possible-Solution\" data-toc-modified-id=\"Possible-Solution-2.2.1\"><span class=\"toc-item-num\">2.2.1&nbsp;&nbsp;</span>Possible Solution</a></span></li></ul></li><li><span><a href=\"#Scenario-2\" data-toc-modified-id=\"Scenario-2-2.3\"><span class=\"toc-item-num\">2.3&nbsp;&nbsp;</span>Scenario 2</a></span><ul class=\"toc-item\"><li><span><a href=\"#Possible-Solution\" data-toc-modified-id=\"Possible-Solution-2.3.1\"><span class=\"toc-item-num\">2.3.1&nbsp;&nbsp;</span>Possible Solution</a></span></li></ul></li></ul></li><li><span><a href=\"#Grid-Search-of-Varied-Density-Example\" data-toc-modified-id=\"Grid-Search-of-Varied-Density-Example-3\"><span class=\"toc-item-num\">3&nbsp;&nbsp;</span>Grid Search of Varied Density Example</a></span></li></ul></div>"
   ]
  },
  {
   "cell_type": "markdown",
   "metadata": {},
   "source": [
    "> **NOTE** Parts adopted from this repo: https://github.com/udacity/DSND_Term1/tree/master/lessons/Unsupervised/2_HierarchcalDensityClustering"
   ]
  },
  {
   "cell_type": "code",
   "execution_count": null,
   "metadata": {
    "ExecuteTime": {
     "end_time": "2019-11-14T16:27:23.964643Z",
     "start_time": "2019-11-14T16:27:23.961036Z"
    }
   },
   "outputs": [],
   "source": [
    "import pandas as pd\n",
    "import matplotlib.pyplot as plt\n",
    "%matplotlib inline\n",
    "\n",
    "from sklearn import cluster\n",
    "from sklearn.datasets.samples_generator import make_blobs\n",
    "from itertools import cycle, islice"
   ]
  },
  {
   "cell_type": "markdown",
   "metadata": {
    "heading_collapsed": true
   },
   "source": [
    "# Example Dataset - Blobs "
   ]
  },
  {
   "cell_type": "code",
   "execution_count": null,
   "metadata": {
    "ExecuteTime": {
     "end_time": "2019-11-14T16:27:24.427799Z",
     "start_time": "2019-11-14T16:27:24.424357Z"
    },
    "hidden": true
   },
   "outputs": [],
   "source": [
    "X, y_true = make_blobs(\n",
    "               n_samples=100, \n",
    "               centers=3,\n",
    "               cluster_std=0.40, \n",
    "               random_state=27\n",
    ")"
   ]
  },
  {
   "cell_type": "code",
   "execution_count": null,
   "metadata": {
    "ExecuteTime": {
     "end_time": "2019-11-14T16:27:24.569031Z",
     "start_time": "2019-11-14T16:27:24.565754Z"
    },
    "hidden": true
   },
   "outputs": [],
   "source": [
    "figsize = (10,10)\n",
    "point_size = 150\n",
    "point_border = 0.8\n",
    "\n",
    "def plot_data(data, pt_color=\"#00B3E9\", xlim=None, ylim= None):\n",
    "    plt.figure(figsize=figsize)\n",
    "    plt.scatter(data[:,0], data[:,1], \n",
    "                s=point_size, color=pt_color, \n",
    "                edgecolor='black', lw=point_border)\n",
    "    if xlim != None:\n",
    "        plt.xlim(xlim)\n",
    "    if ylim != None:\n",
    "        plt.ylim(ylim)\n",
    "    plt.show()"
   ]
  },
  {
   "cell_type": "code",
   "execution_count": null,
   "metadata": {
    "ExecuteTime": {
     "end_time": "2019-11-14T16:27:24.810342Z",
     "start_time": "2019-11-14T16:27:24.693193Z"
    },
    "hidden": true
   },
   "outputs": [],
   "source": [
    "plot_data(X)"
   ]
  },
  {
   "cell_type": "markdown",
   "metadata": {
    "heading_collapsed": true,
    "hidden": true
   },
   "source": [
    "## Attempt #1 & displaying the $\\epsilon$"
   ]
  },
  {
   "cell_type": "code",
   "execution_count": null,
   "metadata": {
    "ExecuteTime": {
     "end_time": "2019-11-14T16:27:24.960776Z",
     "start_time": "2019-11-14T16:27:24.957353Z"
    },
    "hidden": true
   },
   "outputs": [],
   "source": [
    "eps = 0.2\n",
    "dbscan = cluster.DBSCAN(eps=eps)\n",
    "\n",
    "clustering_labels_1 = dbscan.fit_predict(X)"
   ]
  },
  {
   "cell_type": "code",
   "execution_count": null,
   "metadata": {
    "ExecuteTime": {
     "end_time": "2019-11-14T16:27:25.096562Z",
     "start_time": "2019-11-14T16:27:25.091647Z"
    },
    "hidden": true
   },
   "outputs": [],
   "source": [
    "def plot_clustered_dataset(dataset, y_pred, xlim=None, ylim= None,\n",
    "                           neighborhood=False, epsilon=0.5):\n",
    "    '''\n",
    "    Tool to help plot a clustered dataset with the epsilon hyperparameter\n",
    "    '''\n",
    "    \n",
    "    fig, ax = plt.subplots(figsize=figsize)\n",
    "    \n",
    "    colors = np.array(list(islice(cycle(['#df8efd', '#78c465', '#ff8e34',\n",
    "                                     '#f65e97', '#a65628', '#984ea3',\n",
    "                                     '#999999', '#e41a1c', '#dede00']),\n",
    "                              int(max(y_pred) + 1))))\n",
    "    colors = np.append(colors, '#BECBD6')\n",
    "    \n",
    "    \n",
    "    if neighborhood:\n",
    "        for point in dataset:\n",
    "            circle1 = plt.Circle(point, epsilon, \n",
    "                                 color='#666666', fill=False, \n",
    "                                 zorder=0, alpha=0.3)\n",
    "            ax.add_artist(circle1)\n",
    "\n",
    "    ax.scatter(dataset[:, 0], dataset[:, 1], \n",
    "               s=point_size, color=colors[y_pred], \n",
    "               zorder=10, edgecolor='black', lw=point_border)\n",
    "\n",
    "    if xlim != None:\n",
    "        plt.xlim(xlim)\n",
    "    if ylim != None:\n",
    "        plt.ylim(ylim)\n",
    "        \n",
    "    plt.show()"
   ]
  },
  {
   "cell_type": "code",
   "execution_count": null,
   "metadata": {
    "ExecuteTime": {
     "end_time": "2019-11-14T16:27:25.339227Z",
     "start_time": "2019-11-14T16:27:25.184906Z"
    },
    "hidden": true
   },
   "outputs": [],
   "source": [
    "plot_clustered_dataset(X, clustering_labels_1)"
   ]
  },
  {
   "cell_type": "code",
   "execution_count": null,
   "metadata": {
    "ExecuteTime": {
     "end_time": "2019-11-14T16:27:25.593092Z",
     "start_time": "2019-11-14T16:27:25.374947Z"
    },
    "hidden": true
   },
   "outputs": [],
   "source": [
    "plot_clustered_dataset(X, y_true, neighborhood=True, epsilon=eps)"
   ]
  },
  {
   "cell_type": "markdown",
   "metadata": {
    "hidden": true
   },
   "source": [
    "> Epsilon ($\\epsilon = 0.2$) is just too small"
   ]
  },
  {
   "cell_type": "markdown",
   "metadata": {
    "heading_collapsed": true,
    "hidden": true
   },
   "source": [
    "## Attempt #2 & displaying the $\\epsilon$"
   ]
  },
  {
   "cell_type": "code",
   "execution_count": null,
   "metadata": {
    "ExecuteTime": {
     "end_time": "2019-11-14T16:27:25.919716Z",
     "start_time": "2019-11-14T16:27:25.683734Z"
    },
    "hidden": true
   },
   "outputs": [],
   "source": [
    "eps=0.5\n",
    "\n",
    "dbscan = cluster.DBSCAN(eps=eps)\n",
    "clustering_labels_2 = dbscan.fit_predict(X)\n",
    "\n",
    "plot_clustered_dataset(X, clustering_labels_2, neighborhood=True, epsilon=eps)"
   ]
  },
  {
   "cell_type": "markdown",
   "metadata": {
    "heading_collapsed": true
   },
   "source": [
    "# Example Dataset - Varied Density"
   ]
  },
  {
   "cell_type": "code",
   "execution_count": null,
   "metadata": {
    "ExecuteTime": {
     "end_time": "2019-11-14T16:27:26.348827Z",
     "start_time": "2019-11-14T16:27:26.212174Z"
    },
    "hidden": true
   },
   "outputs": [],
   "source": [
    "dataset_2 = pd.read_csv('data/varied.csv')[:300].values\n",
    "plot_data(dataset_2)"
   ]
  },
  {
   "cell_type": "markdown",
   "metadata": {
    "heading_collapsed": true,
    "hidden": true
   },
   "source": [
    "## First attempt with default parameters"
   ]
  },
  {
   "cell_type": "code",
   "execution_count": null,
   "metadata": {
    "ExecuteTime": {
     "end_time": "2019-11-14T16:27:27.300930Z",
     "start_time": "2019-11-14T16:27:27.296877Z"
    },
    "hidden": true
   },
   "outputs": [],
   "source": [
    "dbscan = cluster.DBSCAN()\n",
    "eps = dbscan.eps\n",
    "predicted_labels = dbscan.fit_predict(dataset_2)"
   ]
  },
  {
   "cell_type": "code",
   "execution_count": null,
   "metadata": {
    "ExecuteTime": {
     "end_time": "2019-11-14T16:27:28.289487Z",
     "start_time": "2019-11-14T16:27:27.882960Z"
    },
    "hidden": true
   },
   "outputs": [],
   "source": [
    "plot_clustered_dataset(dataset_2, \n",
    "                      predicted_labels, \n",
    "                      neighborhood=True, \n",
    "                      epsilon=eps)"
   ]
  },
  {
   "cell_type": "markdown",
   "metadata": {
    "heading_collapsed": true,
    "hidden": true
   },
   "source": [
    "### Knowledge Check 🧠: Does this clustering make sense? How would you cluster it?"
   ]
  },
  {
   "cell_type": "markdown",
   "metadata": {
    "hidden": true
   },
   "source": [
    "Maybe... but it all depends on what we're looking for. \n",
    "\n",
    "There's a couple ways to break it up which we'll explore next by adjusting the hyperparameters."
   ]
  },
  {
   "cell_type": "markdown",
   "metadata": {
    "heading_collapsed": true,
    "hidden": true
   },
   "source": [
    "## Scenario 1"
   ]
  },
  {
   "cell_type": "markdown",
   "metadata": {
    "hidden": true
   },
   "source": [
    "> **3 clusters**: bottom left, top right, and the middle"
   ]
  },
  {
   "cell_type": "code",
   "execution_count": null,
   "metadata": {
    "ExecuteTime": {
     "end_time": "2019-11-14T16:27:30.257979Z",
     "start_time": "2019-11-14T16:27:30.255557Z"
    },
    "hidden": true
   },
   "outputs": [],
   "source": [
    "# Change these hyperparameters from the defaults\n",
    "eps = 0.5\n",
    "min_samples = 5"
   ]
  },
  {
   "cell_type": "code",
   "execution_count": null,
   "metadata": {
    "ExecuteTime": {
     "end_time": "2019-11-14T16:27:31.236193Z",
     "start_time": "2019-11-14T16:27:30.832819Z"
    },
    "hidden": true
   },
   "outputs": [],
   "source": [
    "# Create cluster and plot results\n",
    "dbscan = cluster.DBSCAN(eps=eps, min_samples=min_samples)\n",
    "predicted_labels = dbscan.fit_predict(dataset_2)\n",
    "\n",
    "plot_clustered_dataset(dataset_2, \n",
    "                    predicted_labels, \n",
    "                    neighborhood=True, \n",
    "                    epsilon=eps)"
   ]
  },
  {
   "cell_type": "markdown",
   "metadata": {
    "heading_collapsed": true,
    "hidden": true
   },
   "source": [
    "### Possible Solution"
   ]
  },
  {
   "cell_type": "code",
   "execution_count": null,
   "metadata": {
    "ExecuteTime": {
     "end_time": "2019-11-14T16:27:32.424466Z",
     "start_time": "2019-11-14T16:27:32.000421Z"
    },
    "hidden": true
   },
   "outputs": [],
   "source": [
    "eps = 1.2\n",
    "min_samples = 10\n",
    "\n",
    "\n",
    "dbscan = cluster.DBSCAN(eps=eps, min_samples=min_samples)\n",
    "predicted_labels = dbscan.fit_predict(dataset_2)\n",
    "\n",
    "plot_clustered_dataset(dataset_2, \n",
    "                    predicted_labels, \n",
    "                    neighborhood=True, \n",
    "                    epsilon=eps)"
   ]
  },
  {
   "cell_type": "markdown",
   "metadata": {
    "heading_collapsed": true,
    "hidden": true
   },
   "source": [
    "## Scenario 2"
   ]
  },
  {
   "cell_type": "markdown",
   "metadata": {
    "hidden": true
   },
   "source": [
    "> **2 clusters**: bottom left, top right, and the middle are just noise"
   ]
  },
  {
   "cell_type": "code",
   "execution_count": null,
   "metadata": {
    "ExecuteTime": {
     "end_time": "2019-11-14T16:27:33.490971Z",
     "start_time": "2019-11-14T16:27:33.488532Z"
    },
    "hidden": true
   },
   "outputs": [],
   "source": [
    "# Change these hyperparameters from the defaults\n",
    "eps = 0.5\n",
    "min_samples = 5"
   ]
  },
  {
   "cell_type": "code",
   "execution_count": null,
   "metadata": {
    "ExecuteTime": {
     "end_time": "2019-11-14T16:27:34.268609Z",
     "start_time": "2019-11-14T16:27:33.855971Z"
    },
    "hidden": true
   },
   "outputs": [],
   "source": [
    "# Create cluster and plot results\n",
    "dbscan = cluster.DBSCAN(eps=eps, min_samples=min_samples)\n",
    "predicted_labels = dbscan.fit_predict(dataset_2)\n",
    "\n",
    "plot_clustered_dataset(dataset_2, \n",
    "                    predicted_labels, \n",
    "                    neighborhood=True, \n",
    "                    epsilon=eps)"
   ]
  },
  {
   "cell_type": "markdown",
   "metadata": {
    "heading_collapsed": true,
    "hidden": true
   },
   "source": [
    "### Possible Solution"
   ]
  },
  {
   "cell_type": "code",
   "execution_count": null,
   "metadata": {
    "ExecuteTime": {
     "end_time": "2019-11-14T16:27:36.623372Z",
     "start_time": "2019-11-14T16:27:36.127557Z"
    },
    "hidden": true
   },
   "outputs": [],
   "source": [
    "eps = 1.5\n",
    "min_samples = 40\n",
    "\n",
    "\n",
    "dbscan = cluster.DBSCAN(eps=eps, min_samples=min_samples)\n",
    "predicted_labels = dbscan.fit_predict(dataset_2)\n",
    "\n",
    "plot_clustered_dataset(dataset_2, \n",
    "                    predicted_labels, \n",
    "                    neighborhood=True, \n",
    "                    epsilon=eps)"
   ]
  },
  {
   "cell_type": "markdown",
   "metadata": {
    "heading_collapsed": true
   },
   "source": [
    "# Grid Search of Varied Density Example"
   ]
  },
  {
   "cell_type": "code",
   "execution_count": null,
   "metadata": {
    "ExecuteTime": {
     "end_time": "2019-11-14T16:27:38.138957Z",
     "start_time": "2019-11-14T16:27:38.132419Z"
    },
    "hidden": true
   },
   "outputs": [],
   "source": [
    "def plot_dbscan_grid(dataset, eps_values, min_samples_values):\n",
    "    '''\n",
    "    '''\n",
    "    fig = plt.figure(figsize=(16, 20))\n",
    "    plt.subplots_adjust(left=.02, right=.98, bottom=0.001, top=.96, wspace=.05,\n",
    "                        hspace=0.25)\n",
    "\n",
    "    plot_num = 1\n",
    "\n",
    "    for i, min_samples in enumerate(min_samples_values):\n",
    "        for j, eps in enumerate(eps_values):\n",
    "            ax = fig.add_subplot( len(min_samples_values) , len(eps_values), plot_num)\n",
    "\n",
    "            dbscan = cluster.DBSCAN(eps=eps, min_samples=min_samples)\n",
    "            y_pred_2 = dbscan.fit_predict(dataset)\n",
    "\n",
    "            colors = np.array(list(islice(cycle(['#df8efd', '#78c465', '#ff8e34',\n",
    "                                                 '#f65e97', '#a65628', '#984ea3',\n",
    "                                                 '#999999', '#e41a1c', '#dede00']),\n",
    "                                          int(max(y_pred_2) + 1))))\n",
    "            colors = np.append(colors, '#BECBD6')\n",
    "\n",
    "\n",
    "            for point in dataset:\n",
    "                circle1 = plt.Circle(point, eps, color='#666666', fill=False, zorder=0, alpha=0.3)\n",
    "                ax.add_artist(circle1)\n",
    "\n",
    "            ax.text(0, -0.03, 'Epsilon: {} \\nMin_samples: {}'.format(eps, min_samples), transform=ax.transAxes, fontsize=16, va='top')\n",
    "            ax.scatter(dataset[:, 0], dataset[:, 1], s=50, color=colors[y_pred_2], zorder=10, edgecolor='black', lw=0.5)\n",
    "\n",
    "\n",
    "            plt.xticks(())\n",
    "            plt.yticks(())\n",
    "            plt.xlim(-14, 5)\n",
    "            plt.ylim(-12, 7)\n",
    "\n",
    "            plot_num = plot_num + 1\n",
    "\n",
    "    plt.show()"
   ]
  },
  {
   "cell_type": "code",
   "execution_count": null,
   "metadata": {
    "ExecuteTime": {
     "end_time": "2019-11-14T16:27:38.718868Z",
     "start_time": "2019-11-14T16:27:38.712980Z"
    },
    "hidden": true
   },
   "outputs": [],
   "source": [
    "data = pd.read_csv('data/varied.csv')[:300].values"
   ]
  },
  {
   "cell_type": "code",
   "execution_count": null,
   "metadata": {
    "ExecuteTime": {
     "end_time": "2019-11-14T16:27:47.334455Z",
     "start_time": "2019-11-14T16:27:39.207780Z"
    },
    "hidden": true
   },
   "outputs": [],
   "source": [
    "# Will create a combination (grid) of hyperparameters\n",
    "eps_values = [0.3, 0.5, 1, 1.3, 1.5]\n",
    "min_samples_values = [2, 5, 10, 20, 80]\n",
    "\n",
    "plot_dbscan_grid(data, eps_values, min_samples_values)"
   ]
  }
 ],
 "metadata": {
  "kernelspec": {
   "display_name": "Python 3",
   "language": "python",
   "name": "python3"
  },
  "language_info": {
   "codemirror_mode": {
    "name": "ipython",
    "version": 3
   },
   "file_extension": ".py",
   "mimetype": "text/x-python",
   "name": "python",
   "nbconvert_exporter": "python",
   "pygments_lexer": "ipython3",
   "version": "3.6.6"
  },
  "toc": {
   "base_numbering": 1,
   "nav_menu": {},
   "number_sections": true,
   "sideBar": true,
   "skip_h1_title": false,
   "title_cell": "Table of Contents",
   "title_sidebar": "Contents",
   "toc_cell": true,
   "toc_position": {},
   "toc_section_display": true,
   "toc_window_display": true
  },
  "varInspector": {
   "cols": {
    "lenName": 16,
    "lenType": 16,
    "lenVar": 40
   },
   "kernels_config": {
    "python": {
     "delete_cmd_postfix": "",
     "delete_cmd_prefix": "del ",
     "library": "var_list.py",
     "varRefreshCmd": "print(var_dic_list())"
    },
    "r": {
     "delete_cmd_postfix": ") ",
     "delete_cmd_prefix": "rm(",
     "library": "var_list.r",
     "varRefreshCmd": "cat(var_dic_list()) "
    }
   },
   "types_to_exclude": [
    "module",
    "function",
    "builtin_function_or_method",
    "instance",
    "_Feature"
   ],
   "window_display": false
  }
 },
 "nbformat": 4,
 "nbformat_minor": 1
}

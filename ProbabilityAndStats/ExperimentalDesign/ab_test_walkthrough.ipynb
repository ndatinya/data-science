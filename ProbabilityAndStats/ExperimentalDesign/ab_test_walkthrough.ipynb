{
 "cells": [
  {
   "cell_type": "markdown",
   "metadata": {
    "toc": true
   },
   "source": [
    "<h1>Table of Contents<span class=\"tocSkip\"></span></h1>\n",
    "<div class=\"toc\"><ul class=\"toc-item\"><li><span><a href=\"#Create-some-data\" data-toc-modified-id=\"Create-some-data-1\"><span class=\"toc-item-num\">1&nbsp;&nbsp;</span>Create some data</a></span><ul class=\"toc-item\"><li><span><a href=\"#Get-sample\" data-toc-modified-id=\"Get-sample-1.1\"><span class=\"toc-item-num\">1.1&nbsp;&nbsp;</span>Get sample</a></span></li><li><span><a href=\"#Assign-groups-(randomly)\" data-toc-modified-id=\"Assign-groups-(randomly)-1.2\"><span class=\"toc-item-num\">1.2&nbsp;&nbsp;</span>Assign groups (randomly)</a></span></li><li><span><a href=\"#Check-for-that-groups-in-sample-are-similar-in-regards-to-random-variable\" data-toc-modified-id=\"Check-for-that-groups-in-sample-are-similar-in-regards-to-random-variable-1.3\"><span class=\"toc-item-num\">1.3&nbsp;&nbsp;</span>Check for that groups in sample are similar in regards to random variable</a></span><ul class=\"toc-item\"><li><span><a href=\"#Plot-visually\" data-toc-modified-id=\"Plot-visually-1.3.1\"><span class=\"toc-item-num\">1.3.1&nbsp;&nbsp;</span>Plot visually</a></span></li><li><span><a href=\"#Can-also-do-a-hypothesis-test\" data-toc-modified-id=\"Can-also-do-a-hypothesis-test-1.3.2\"><span class=\"toc-item-num\">1.3.2&nbsp;&nbsp;</span>Can also do a hypothesis test</a></span></li></ul></li></ul></li></ul></div>"
   ]
  },
  {
   "cell_type": "code",
   "execution_count": 1,
   "metadata": {
    "ExecuteTime": {
     "end_time": "2020-04-07T23:00:25.021048Z",
     "start_time": "2020-04-07T23:00:24.416266Z"
    }
   },
   "outputs": [],
   "source": [
    "import numpy as np\n",
    "import pandas as pd\n",
    "\n",
    "import matplotlib.pyplot as plt\n",
    "import seaborn as sns\n",
    "%matplotlib inline\n",
    "\n",
    "# For consistency\n",
    "seed = 72\n",
    "np.random.seed(seed)"
   ]
  },
  {
   "cell_type": "markdown",
   "metadata": {
    "ExecuteTime": {
     "end_time": "2019-10-23T14:52:16.962446Z",
     "start_time": "2019-10-23T14:52:16.956879Z"
    }
   },
   "source": [
    "# Create some data"
   ]
  },
  {
   "cell_type": "code",
   "execution_count": 2,
   "metadata": {
    "ExecuteTime": {
     "end_time": "2020-04-07T23:00:31.535954Z",
     "start_time": "2020-04-07T23:00:31.523413Z"
    }
   },
   "outputs": [
    {
     "data": {
      "text/html": [
       "<div>\n",
       "<style scoped>\n",
       "    .dataframe tbody tr th:only-of-type {\n",
       "        vertical-align: middle;\n",
       "    }\n",
       "\n",
       "    .dataframe tbody tr th {\n",
       "        vertical-align: top;\n",
       "    }\n",
       "\n",
       "    .dataframe thead th {\n",
       "        text-align: right;\n",
       "    }\n",
       "</style>\n",
       "<table border=\"1\" class=\"dataframe\">\n",
       "  <thead>\n",
       "    <tr style=\"text-align: right;\">\n",
       "      <th></th>\n",
       "      <th>ids</th>\n",
       "    </tr>\n",
       "  </thead>\n",
       "  <tbody>\n",
       "    <tr>\n",
       "      <th>0</th>\n",
       "      <td>0</td>\n",
       "    </tr>\n",
       "    <tr>\n",
       "      <th>1</th>\n",
       "      <td>1</td>\n",
       "    </tr>\n",
       "    <tr>\n",
       "      <th>2</th>\n",
       "      <td>2</td>\n",
       "    </tr>\n",
       "    <tr>\n",
       "      <th>3</th>\n",
       "      <td>3</td>\n",
       "    </tr>\n",
       "    <tr>\n",
       "      <th>4</th>\n",
       "      <td>4</td>\n",
       "    </tr>\n",
       "  </tbody>\n",
       "</table>\n",
       "</div>"
      ],
      "text/plain": [
       "   ids\n",
       "0    0\n",
       "1    1\n",
       "2    2\n",
       "3    3\n",
       "4    4"
      ]
     },
     "execution_count": 2,
     "metadata": {},
     "output_type": "execute_result"
    }
   ],
   "source": [
    "n = 9001\n",
    "sim_ids = np.arange(n)\n",
    "sim_df = pd.DataFrame(data=sim_ids,columns=['ids'] )\n",
    "sim_df.head()"
   ]
  },
  {
   "cell_type": "code",
   "execution_count": 3,
   "metadata": {
    "ExecuteTime": {
     "end_time": "2020-04-07T23:00:33.492799Z",
     "start_time": "2020-04-07T23:00:33.483151Z"
    }
   },
   "outputs": [
    {
     "data": {
      "text/html": [
       "<div>\n",
       "<style scoped>\n",
       "    .dataframe tbody tr th:only-of-type {\n",
       "        vertical-align: middle;\n",
       "    }\n",
       "\n",
       "    .dataframe tbody tr th {\n",
       "        vertical-align: top;\n",
       "    }\n",
       "\n",
       "    .dataframe thead th {\n",
       "        text-align: right;\n",
       "    }\n",
       "</style>\n",
       "<table border=\"1\" class=\"dataframe\">\n",
       "  <thead>\n",
       "    <tr style=\"text-align: right;\">\n",
       "      <th></th>\n",
       "      <th>ids</th>\n",
       "      <th>var1</th>\n",
       "      <th>var2</th>\n",
       "    </tr>\n",
       "  </thead>\n",
       "  <tbody>\n",
       "    <tr>\n",
       "      <th>0</th>\n",
       "      <td>0</td>\n",
       "      <td>1.592727</td>\n",
       "      <td>0.500382</td>\n",
       "    </tr>\n",
       "    <tr>\n",
       "      <th>1</th>\n",
       "      <td>1</td>\n",
       "      <td>-3.397797</td>\n",
       "      <td>4.927748</td>\n",
       "    </tr>\n",
       "    <tr>\n",
       "      <th>2</th>\n",
       "      <td>2</td>\n",
       "      <td>-11.041942</td>\n",
       "      <td>3.330705</td>\n",
       "    </tr>\n",
       "    <tr>\n",
       "      <th>3</th>\n",
       "      <td>3</td>\n",
       "      <td>2.951201</td>\n",
       "      <td>5.835964</td>\n",
       "    </tr>\n",
       "    <tr>\n",
       "      <th>4</th>\n",
       "      <td>4</td>\n",
       "      <td>8.373830</td>\n",
       "      <td>4.580326</td>\n",
       "    </tr>\n",
       "  </tbody>\n",
       "</table>\n",
       "</div>"
      ],
      "text/plain": [
       "   ids       var1      var2\n",
       "0    0   1.592727  0.500382\n",
       "1    1  -3.397797  4.927748\n",
       "2    2 -11.041942  3.330705\n",
       "3    3   2.951201  5.835964\n",
       "4    4   8.373830  4.580326"
      ]
     },
     "execution_count": 3,
     "metadata": {},
     "output_type": "execute_result"
    }
   ],
   "source": [
    "random_var1 = np.random.normal(0, 5, sim_ids.size)\n",
    "random_var2 = np.random.normal(4, 2, sim_ids.size)\n",
    "sim_df['var1'] = pd.Series(random_var1, index=sim_df.index)\n",
    "sim_df['var2'] = pd.Series(random_var2, index=sim_df.index)\n",
    "\n",
    "sim_df.head()"
   ]
  },
  {
   "cell_type": "markdown",
   "metadata": {},
   "source": [
    "## Get sample"
   ]
  },
  {
   "cell_type": "code",
   "execution_count": 4,
   "metadata": {
    "ExecuteTime": {
     "end_time": "2020-04-07T23:00:36.175423Z",
     "start_time": "2020-04-07T23:00:36.155786Z"
    }
   },
   "outputs": [
    {
     "data": {
      "text/html": [
       "<div>\n",
       "<style scoped>\n",
       "    .dataframe tbody tr th:only-of-type {\n",
       "        vertical-align: middle;\n",
       "    }\n",
       "\n",
       "    .dataframe tbody tr th {\n",
       "        vertical-align: top;\n",
       "    }\n",
       "\n",
       "    .dataframe thead th {\n",
       "        text-align: right;\n",
       "    }\n",
       "</style>\n",
       "<table border=\"1\" class=\"dataframe\">\n",
       "  <thead>\n",
       "    <tr style=\"text-align: right;\">\n",
       "      <th></th>\n",
       "      <th>ids</th>\n",
       "      <th>var1</th>\n",
       "      <th>var2</th>\n",
       "    </tr>\n",
       "  </thead>\n",
       "  <tbody>\n",
       "    <tr>\n",
       "      <th>count</th>\n",
       "      <td>200.000000</td>\n",
       "      <td>200.000000</td>\n",
       "      <td>200.000000</td>\n",
       "    </tr>\n",
       "    <tr>\n",
       "      <th>mean</th>\n",
       "      <td>4188.605000</td>\n",
       "      <td>0.058750</td>\n",
       "      <td>4.146946</td>\n",
       "    </tr>\n",
       "    <tr>\n",
       "      <th>std</th>\n",
       "      <td>2368.773293</td>\n",
       "      <td>5.190724</td>\n",
       "      <td>2.051522</td>\n",
       "    </tr>\n",
       "    <tr>\n",
       "      <th>min</th>\n",
       "      <td>142.000000</td>\n",
       "      <td>-12.737091</td>\n",
       "      <td>-1.783443</td>\n",
       "    </tr>\n",
       "    <tr>\n",
       "      <th>25%</th>\n",
       "      <td>2374.000000</td>\n",
       "      <td>-3.186165</td>\n",
       "      <td>2.868998</td>\n",
       "    </tr>\n",
       "    <tr>\n",
       "      <th>50%</th>\n",
       "      <td>3852.500000</td>\n",
       "      <td>0.325406</td>\n",
       "      <td>4.228844</td>\n",
       "    </tr>\n",
       "    <tr>\n",
       "      <th>75%</th>\n",
       "      <td>6036.500000</td>\n",
       "      <td>3.278900</td>\n",
       "      <td>5.483611</td>\n",
       "    </tr>\n",
       "    <tr>\n",
       "      <th>max</th>\n",
       "      <td>8929.000000</td>\n",
       "      <td>13.291145</td>\n",
       "      <td>8.380286</td>\n",
       "    </tr>\n",
       "  </tbody>\n",
       "</table>\n",
       "</div>"
      ],
      "text/plain": [
       "               ids        var1        var2\n",
       "count   200.000000  200.000000  200.000000\n",
       "mean   4188.605000    0.058750    4.146946\n",
       "std    2368.773293    5.190724    2.051522\n",
       "min     142.000000  -12.737091   -1.783443\n",
       "25%    2374.000000   -3.186165    2.868998\n",
       "50%    3852.500000    0.325406    4.228844\n",
       "75%    6036.500000    3.278900    5.483611\n",
       "max    8929.000000   13.291145    8.380286"
      ]
     },
     "execution_count": 4,
     "metadata": {},
     "output_type": "execute_result"
    }
   ],
   "source": [
    "# Getting a random sample from the population\n",
    "n_samples = 200\n",
    "samples_df = sim_df.sample(n_samples, random_state=seed)\n",
    "samples_df.describe()"
   ]
  },
  {
   "cell_type": "markdown",
   "metadata": {},
   "source": [
    "## Assign groups (randomly)"
   ]
  },
  {
   "cell_type": "markdown",
   "metadata": {},
   "source": [
    ">  https://pandas.pydata.org/pandas-docs/stable/reference/api/pandas.DataFrame.assign.html"
   ]
  },
  {
   "cell_type": "code",
   "execution_count": 5,
   "metadata": {
    "ExecuteTime": {
     "end_time": "2020-04-07T23:01:01.831583Z",
     "start_time": "2020-04-07T23:01:01.812541Z"
    },
    "scrolled": true
   },
   "outputs": [
    {
     "data": {
      "text/html": [
       "<div>\n",
       "<style scoped>\n",
       "    .dataframe tbody tr th:only-of-type {\n",
       "        vertical-align: middle;\n",
       "    }\n",
       "\n",
       "    .dataframe tbody tr th {\n",
       "        vertical-align: top;\n",
       "    }\n",
       "\n",
       "    .dataframe thead th {\n",
       "        text-align: right;\n",
       "    }\n",
       "</style>\n",
       "<table border=\"1\" class=\"dataframe\">\n",
       "  <thead>\n",
       "    <tr style=\"text-align: right;\">\n",
       "      <th></th>\n",
       "      <th>ids</th>\n",
       "      <th>var1</th>\n",
       "      <th>var2</th>\n",
       "      <th>is_control</th>\n",
       "    </tr>\n",
       "  </thead>\n",
       "  <tbody>\n",
       "    <tr>\n",
       "      <th>count</th>\n",
       "      <td>200.000000</td>\n",
       "      <td>200.000000</td>\n",
       "      <td>200.000000</td>\n",
       "      <td>200.000000</td>\n",
       "    </tr>\n",
       "    <tr>\n",
       "      <th>mean</th>\n",
       "      <td>4188.605000</td>\n",
       "      <td>0.058750</td>\n",
       "      <td>4.146946</td>\n",
       "      <td>0.485000</td>\n",
       "    </tr>\n",
       "    <tr>\n",
       "      <th>std</th>\n",
       "      <td>2368.773293</td>\n",
       "      <td>5.190724</td>\n",
       "      <td>2.051522</td>\n",
       "      <td>0.501029</td>\n",
       "    </tr>\n",
       "    <tr>\n",
       "      <th>min</th>\n",
       "      <td>142.000000</td>\n",
       "      <td>-12.737091</td>\n",
       "      <td>-1.783443</td>\n",
       "      <td>0.000000</td>\n",
       "    </tr>\n",
       "    <tr>\n",
       "      <th>25%</th>\n",
       "      <td>2374.000000</td>\n",
       "      <td>-3.186165</td>\n",
       "      <td>2.868998</td>\n",
       "      <td>0.000000</td>\n",
       "    </tr>\n",
       "    <tr>\n",
       "      <th>50%</th>\n",
       "      <td>3852.500000</td>\n",
       "      <td>0.325406</td>\n",
       "      <td>4.228844</td>\n",
       "      <td>0.000000</td>\n",
       "    </tr>\n",
       "    <tr>\n",
       "      <th>75%</th>\n",
       "      <td>6036.500000</td>\n",
       "      <td>3.278900</td>\n",
       "      <td>5.483611</td>\n",
       "      <td>1.000000</td>\n",
       "    </tr>\n",
       "    <tr>\n",
       "      <th>max</th>\n",
       "      <td>8929.000000</td>\n",
       "      <td>13.291145</td>\n",
       "      <td>8.380286</td>\n",
       "      <td>1.000000</td>\n",
       "    </tr>\n",
       "  </tbody>\n",
       "</table>\n",
       "</div>"
      ],
      "text/plain": [
       "               ids        var1        var2  is_control\n",
       "count   200.000000  200.000000  200.000000  200.000000\n",
       "mean   4188.605000    0.058750    4.146946    0.485000\n",
       "std    2368.773293    5.190724    2.051522    0.501029\n",
       "min     142.000000  -12.737091   -1.783443    0.000000\n",
       "25%    2374.000000   -3.186165    2.868998    0.000000\n",
       "50%    3852.500000    0.325406    4.228844    0.000000\n",
       "75%    6036.500000    3.278900    5.483611    1.000000\n",
       "max    8929.000000   13.291145    8.380286    1.000000"
      ]
     },
     "execution_count": 5,
     "metadata": {},
     "output_type": "execute_result"
    }
   ],
   "source": [
    "# Note this is a uniform distribution\n",
    "is_control = np.random.choice([0,1], size=n_samples)\n",
    "samples_df = samples_df.assign(is_control=is_control)\n",
    "samples_df.describe()"
   ]
  },
  {
   "cell_type": "markdown",
   "metadata": {},
   "source": [
    "Do assignments look good?"
   ]
  },
  {
   "cell_type": "markdown",
   "metadata": {
    "ExecuteTime": {
     "end_time": "2019-10-23T16:40:14.147141Z",
     "start_time": "2019-10-23T16:40:14.026734Z"
    }
   },
   "source": [
    "## Check for that groups in sample are similar in regards to random variable"
   ]
  },
  {
   "cell_type": "markdown",
   "metadata": {},
   "source": [
    "### Plot visually"
   ]
  },
  {
   "cell_type": "code",
   "execution_count": 6,
   "metadata": {
    "ExecuteTime": {
     "end_time": "2020-04-07T23:01:28.470376Z",
     "start_time": "2020-04-07T23:01:28.286370Z"
    }
   },
   "outputs": [
    {
     "name": "stderr",
     "output_type": "stream",
     "text": [
      "/Users/vgeislinger/anaconda3/lib/python3.7/site-packages/scipy/stats/stats.py:1713: FutureWarning: Using a non-tuple sequence for multidimensional indexing is deprecated; use `arr[tuple(seq)]` instead of `arr[seq]`. In the future this will be interpreted as an array index, `arr[np.array(seq)]`, which will result either in an error or a different result.\n",
      "  return np.add.reduce(sorted[indexer] * weights, axis=axis) / sumval\n"
     ]
    },
    {
     "data": {
      "text/plain": [
       "<matplotlib.axes._subplots.AxesSubplot at 0x1a12f941d0>"
      ]
     },
     "execution_count": 6,
     "metadata": {},
     "output_type": "execute_result"
    },
    {
     "data": {
      "image/png": "[encoded data removed]",
      "text/plain": [
       "<Figure size 432x288 with 1 Axes>"
      ]
     },
     "metadata": {
      "needs_background": "light"
     },
     "output_type": "display_data"
    }
   ],
   "source": [
    "sns.kdeplot(samples_df[samples_df.is_control == 0].var1)\n",
    "sns.kdeplot(samples_df[samples_df.is_control == 1].var1)"
   ]
  },
  {
   "cell_type": "code",
   "execution_count": 7,
   "metadata": {
    "ExecuteTime": {
     "end_time": "2020-04-07T23:01:28.929796Z",
     "start_time": "2020-04-07T23:01:28.748798Z"
    },
    "scrolled": true
   },
   "outputs": [
    {
     "data": {
      "text/plain": [
       "<matplotlib.axes._subplots.AxesSubplot at 0x1a150bce80>"
      ]
     },
     "execution_count": 7,
     "metadata": {},
     "output_type": "execute_result"
    },
    {
     "data": {
      "image/png": "[encoded data removed]",
      "text/plain": [
       "<Figure size 432x288 with 1 Axes>"
      ]
     },
     "metadata": {
      "needs_background": "light"
     },
     "output_type": "display_data"
    }
   ],
   "source": [
    "sns.kdeplot(samples_df[samples_df.is_control == 0].var2)\n",
    "sns.kdeplot(samples_df[samples_df.is_control == 1].var2)"
   ]
  },
  {
   "cell_type": "code",
   "execution_count": 8,
   "metadata": {
    "ExecuteTime": {
     "end_time": "2020-04-07T23:02:03.535837Z",
     "start_time": "2020-04-07T23:02:03.366587Z"
    }
   },
   "outputs": [
    {
     "data": {
      "text/plain": [
       "<matplotlib.axes._subplots.AxesSubplot at 0x1a15097550>"
      ]
     },
     "execution_count": 8,
     "metadata": {},
     "output_type": "execute_result"
    },
    {
     "data": {
      "image/png": "[encoded data removed]",
      "text/plain": [
       "<Figure size 432x288 with 1 Axes>"
      ]
     },
     "metadata": {
      "needs_background": "light"
     },
     "output_type": "display_data"
    }
   ],
   "source": [
    "sns.kdeplot(samples_df.var1)\n",
    "sns.kdeplot(samples_df.var2)"
   ]
  },
  {
   "cell_type": "markdown",
   "metadata": {},
   "source": [
    "### Can also do a hypothesis test"
   ]
  },
  {
   "cell_type": "code",
   "execution_count": 9,
   "metadata": {
    "ExecuteTime": {
     "end_time": "2020-04-07T23:02:16.625049Z",
     "start_time": "2020-04-07T23:02:16.622347Z"
    }
   },
   "outputs": [],
   "source": [
    "from scipy import stats"
   ]
  },
  {
   "cell_type": "code",
   "execution_count": 10,
   "metadata": {
    "ExecuteTime": {
     "end_time": "2020-04-07T23:02:38.144295Z",
     "start_time": "2020-04-07T23:02:38.140055Z"
    }
   },
   "outputs": [],
   "source": [
    "def is_significant(group1, group2, alpha=0.05):    \n",
    "    # Is it significant? Welch's\n",
    "    t,p = stats.ttest_ind(group1,group2,equal_var=False)\n",
    "    return p<alpha, p"
   ]
  },
  {
   "cell_type": "code",
   "execution_count": 11,
   "metadata": {
    "ExecuteTime": {
     "end_time": "2020-04-07T23:02:43.043503Z",
     "start_time": "2020-04-07T23:02:43.040472Z"
    }
   },
   "outputs": [],
   "source": [
    "def experiment_vs_control(df, var_name, alpha=0.05):\n",
    "    #\n",
    "    experiment = df[df.is_control == 0][var_name]\n",
    "    control = df[df.is_control == 1][var_name]\n",
    "    # \n",
    "    return is_significant(experiment, control, alpha)"
   ]
  },
  {
   "cell_type": "code",
   "execution_count": 13,
   "metadata": {
    "ExecuteTime": {
     "end_time": "2020-04-07T23:03:17.789105Z",
     "start_time": "2020-04-07T23:03:17.784795Z"
    }
   },
   "outputs": [
    {
     "data": {
      "text/plain": [
       "(False, 0.42978681439524635)"
      ]
     },
     "execution_count": 13,
     "metadata": {},
     "output_type": "execute_result"
    }
   ],
   "source": [
    "experiment_vs_control(samples_df, 'var2')"
   ]
  },
  {
   "cell_type": "code",
   "execution_count": 14,
   "metadata": {
    "ExecuteTime": {
     "end_time": "2020-04-07T23:03:34.188785Z",
     "start_time": "2020-04-07T23:03:34.184434Z"
    }
   },
   "outputs": [
    {
     "data": {
      "text/plain": [
       "(True, 2.84912539013435e-21)"
      ]
     },
     "execution_count": 14,
     "metadata": {},
     "output_type": "execute_result"
    }
   ],
   "source": [
    "is_significant(samples_df.var1,samples_df.var2)"
   ]
  }
 ],
 "metadata": {
  "kernelspec": {
   "display_name": "Python 3",
   "language": "python",
   "name": "python3"
  },
  "language_info": {
   "codemirror_mode": {
    "name": "ipython",
    "version": 3
   },
   "file_extension": ".py",
   "mimetype": "text/x-python",
   "name": "python",
   "nbconvert_exporter": "python",
   "pygments_lexer": "ipython3",
   "version": "3.7.1"
  },
  "toc": {
   "base_numbering": 1,
   "nav_menu": {},
   "number_sections": true,
   "sideBar": false,
   "skip_h1_title": false,
   "title_cell": "Table of Contents",
   "title_sidebar": "Contents",
   "toc_cell": true,
   "toc_position": {},
   "toc_section_display": false,
   "toc_window_display": false
  },
  "varInspector": {
   "cols": {
    "lenName": 16,
    "lenType": 16,
    "lenVar": 40
   },
   "kernels_config": {
    "python": {
     "delete_cmd_postfix": "",
     "delete_cmd_prefix": "del ",
     "library": "var_list.py",
     "varRefreshCmd": "print(var_dic_list())"
    },
    "r": {
     "delete_cmd_postfix": ") ",
     "delete_cmd_prefix": "rm(",
     "library": "var_list.r",
     "varRefreshCmd": "cat(var_dic_list()) "
    }
   },
   "types_to_exclude": [
    "module",
    "function",
    "builtin_function_or_method",
    "instance",
    "_Feature"
   ],
   "window_display": false
  }
 },
 "nbformat": 4,
 "nbformat_minor": 2
}

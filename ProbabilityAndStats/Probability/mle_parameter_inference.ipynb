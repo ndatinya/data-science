{
 "cells": [
  {
   "cell_type": "markdown",
   "metadata": {
    "toc": true
   },
   "source": [
    "<h1>Table of Contents<span class=\"tocSkip\"></span></h1>\n",
    "<div class=\"toc\"><ul class=\"toc-item\"><li><span><a href=\"#Maximum-Likelihood-Estimation-(MLE)\" data-toc-modified-id=\"Maximum-Likelihood-Estimation-(MLE)-1\"><span class=\"toc-item-num\">1&nbsp;&nbsp;</span>Maximum Likelihood Estimation (MLE)</a></span><ul class=\"toc-item\"><li><span><a href=\"#Finding-The-Maximum\" data-toc-modified-id=\"Finding-The-Maximum-1.1\"><span class=\"toc-item-num\">1.1&nbsp;&nbsp;</span>Finding The Maximum</a></span><ul class=\"toc-item\"><li><span><a href=\"#Make-it-simple-with-$ln$\" data-toc-modified-id=\"Make-it-simple-with-$ln$-1.1.1\"><span class=\"toc-item-num\">1.1.1&nbsp;&nbsp;</span>Make it simple with $ln$</a></span></li></ul></li></ul></li><li><span><a href=\"#Maximum-A-Posteriori-(MAP)-Estimation\" data-toc-modified-id=\"Maximum-A-Posteriori-(MAP)-Estimation-2\"><span class=\"toc-item-num\">2&nbsp;&nbsp;</span>Maximum A Posteriori (MAP) Estimation</a></span></li></ul></div>"
   ]
  },
  {
   "cell_type": "markdown",
   "metadata": {
    "heading_collapsed": true
   },
   "source": [
    "# Maximum Likelihood Estimation (MLE)"
   ]
  },
  {
   "cell_type": "markdown",
   "metadata": {
    "hidden": true
   },
   "source": [
    "probabilistically inferring parameter(s) for a model"
   ]
  },
  {
   "cell_type": "markdown",
   "metadata": {
    "hidden": true
   },
   "source": [
    "**\"The i.i.d. assumption\" i.e. Independent and Identically distributed**\n",
    "- independence assumption\n",
    "- identically distributed (each event has same parameters)"
   ]
  },
  {
   "cell_type": "markdown",
   "metadata": {
    "hidden": true
   },
   "source": [
    "$\\prod_{i=1}^{N} P_i(E = e_i | \\theta_i) = \\prod_{i=1}^{N} P(E = e_i | \\theta) $"
   ]
  },
  {
   "cell_type": "markdown",
   "metadata": {
    "hidden": true
   },
   "source": [
    "Note limitations based on the data we have"
   ]
  },
  {
   "cell_type": "markdown",
   "metadata": {
    "heading_collapsed": true,
    "hidden": true
   },
   "source": [
    "## Finding The Maximum"
   ]
  },
  {
   "cell_type": "markdown",
   "metadata": {
    "hidden": true
   },
   "source": [
    "Get a $f(\\theta)$ and find the critical point & test for maximum"
   ]
  },
  {
   "cell_type": "markdown",
   "metadata": {
    "hidden": true
   },
   "source": [
    "**Find critical point**\n",
    "\n",
    "solve for the value of theta: $\\theta_c$\n",
    "\n",
    "$\\frac{df}{d\\theta} = 0$"
   ]
  },
  {
   "cell_type": "markdown",
   "metadata": {
    "hidden": true
   },
   "source": [
    "**Is it at a maximum**\n",
    "\n",
    "$\\frac{d^2f}{d\\theta^2}\\Bigr|_{\\theta_c} < 0 $"
   ]
  },
  {
   "cell_type": "markdown",
   "metadata": {
    "heading_collapsed": true,
    "hidden": true
   },
   "source": [
    "### Make it simple with $ln$"
   ]
  },
  {
   "cell_type": "markdown",
   "metadata": {
    "hidden": true
   },
   "source": [
    "$g(\\theta) = \\frac{d}{d\\theta}ln(\\prod_{i=1}^{N} P(E = e_i | \\theta))$\n",
    "$$\\theta_{MLE} = \\underset{\\theta}{\\operatorname{argmax}}g(\\theta)$$"
   ]
  },
  {
   "cell_type": "markdown",
   "metadata": {
    "heading_collapsed": true
   },
   "source": [
    "# Maximum A Posteriori (MAP) Estimation"
   ]
  },
  {
   "cell_type": "markdown",
   "metadata": {
    "hidden": true
   },
   "source": [
    "**With Bayes’ rule, the posterior is a product of likelihood and prior** :\n",
    "\n",
    "\\begin{align}\n",
    "    P(\\theta|X) = \\frac{P(X|\\theta)P(X)}{P(\\theta)} ~~~~ \\text{this follows from Bayes' Theorem of conditional probabilities}\n",
    "\\end{align}\n",
    "\n",
    "\\begin{align}\n",
    "    P(\\theta|X) ∝ P(X|\\theta)P(X)~~~~ \\text{ignoring the normalization constant}\n",
    "\\end{align}"
   ]
  },
  {
   "cell_type": "markdown",
   "metadata": {
    "hidden": true
   },
   "source": [
    "$$\\theta_{MAP} = \\underset{\\theta}{\\operatorname{argmax}}P(X | \\theta)P(\\theta)$$\n",
    "$$\\theta_{MAP} = \\underset{\\theta}{\\operatorname{argmax}}  \\underset{i}{\\operatorname{\\sum}}  \\log  P(x_i | \\theta)P(\\theta)$$"
   ]
  },
  {
   "cell_type": "markdown",
   "metadata": {
    "hidden": true
   },
   "source": [
    "weight coming from the Prior P(θ)"
   ]
  },
  {
   "cell_type": "markdown",
   "metadata": {
    "hidden": true
   },
   "source": [
    "**NOTE:** MLE is a special case of MAP, where the prior is uniform"
   ]
  }
 ],
 "metadata": {
  "kernelspec": {
   "display_name": "Python 3",
   "language": "python",
   "name": "python3"
  },
  "language_info": {
   "codemirror_mode": {
    "name": "ipython",
    "version": 3
   },
   "file_extension": ".py",
   "mimetype": "text/x-python",
   "name": "python",
   "nbconvert_exporter": "python",
   "pygments_lexer": "ipython3",
   "version": "3.6.6"
  },
  "toc": {
   "base_numbering": 1,
   "nav_menu": {},
   "number_sections": true,
   "sideBar": true,
   "skip_h1_title": false,
   "title_cell": "Table of Contents",
   "title_sidebar": "Contents",
   "toc_cell": true,
   "toc_position": {},
   "toc_section_display": true,
   "toc_window_display": true
  },
  "varInspector": {
   "cols": {
    "lenName": 16,
    "lenType": 16,
    "lenVar": 40
   },
   "kernels_config": {
    "python": {
     "delete_cmd_postfix": "",
     "delete_cmd_prefix": "del ",
     "library": "var_list.py",
     "varRefreshCmd": "print(var_dic_list())"
    },
    "r": {
     "delete_cmd_postfix": ") ",
     "delete_cmd_prefix": "rm(",
     "library": "var_list.r",
     "varRefreshCmd": "cat(var_dic_list()) "
    }
   },
   "types_to_exclude": [
    "module",
    "function",
    "builtin_function_or_method",
    "instance",
    "_Feature"
   ],
   "window_display": false
  }
 },
 "nbformat": 4,
 "nbformat_minor": 2
}

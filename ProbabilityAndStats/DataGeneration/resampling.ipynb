{
 "cells": [
  {
   "cell_type": "markdown",
   "metadata": {
    "toc": true
   },
   "source": [
    "<h1>Table of Contents<span class=\"tocSkip\"></span></h1>\n",
    "<div class=\"toc\"><ul class=\"toc-item\"><li><span><a href=\"#Resampling-Methods\" data-toc-modified-id=\"Resampling-Methods-1\"><span class=\"toc-item-num\">1&nbsp;&nbsp;</span>Resampling Methods</a></span><ul class=\"toc-item\"><li><span><a href=\"#Bootstrapping\" data-toc-modified-id=\"Bootstrapping-1.1\"><span class=\"toc-item-num\">1.1&nbsp;&nbsp;</span>Bootstrapping</a></span><ul class=\"toc-item\"><li><span><a href=\"#Example\" data-toc-modified-id=\"Example-1.1.1\"><span class=\"toc-item-num\">1.1.1&nbsp;&nbsp;</span>Example</a></span></li></ul></li><li><span><a href=\"#Jackknife\" data-toc-modified-id=\"Jackknife-1.2\"><span class=\"toc-item-num\">1.2&nbsp;&nbsp;</span>Jackknife</a></span><ul class=\"toc-item\"><li><span><a href=\"#Example\" data-toc-modified-id=\"Example-1.2.1\"><span class=\"toc-item-num\">1.2.1&nbsp;&nbsp;</span>Example</a></span></li></ul></li><li><span><a href=\"#Permutation-Tests\" data-toc-modified-id=\"Permutation-Tests-1.3\"><span class=\"toc-item-num\">1.3&nbsp;&nbsp;</span>Permutation Tests</a></span></li></ul></li></ul></div>"
   ]
  },
  {
   "cell_type": "markdown",
   "metadata": {
    "heading_collapsed": true
   },
   "source": [
    "# Resampling Methods"
   ]
  },
  {
   "cell_type": "markdown",
   "metadata": {
    "hidden": true
   },
   "source": [
    "Repeated subsamples from a sample\n",
    "\n",
    "Goal: gauge the confidence interval and variability of the point estimate for the population\n",
    "\n",
    "\n",
    "> https://young.physics.ucsc.edu/jackboot.pdf"
   ]
  },
  {
   "cell_type": "code",
   "execution_count": null,
   "metadata": {
    "ExecuteTime": {
     "end_time": "2019-10-04T05:17:26.211716Z",
     "start_time": "2019-10-04T05:17:26.005106Z"
    },
    "hidden": true
   },
   "outputs": [],
   "source": [
    "import numpy as np\n",
    "random_sample = np.random.normal(size=1000) + np.pi/3"
   ]
  },
  {
   "cell_type": "markdown",
   "metadata": {
    "heading_collapsed": true,
    "hidden": true
   },
   "source": [
    "## Bootstrapping\n",
    "\n",
    "Random samples with replacement\n",
    "\n",
    "Sample from our original sample (m e t a)"
   ]
  },
  {
   "cell_type": "markdown",
   "metadata": {
    "heading_collapsed": true,
    "hidden": true
   },
   "source": [
    "### Example"
   ]
  },
  {
   "cell_type": "code",
   "execution_count": null,
   "metadata": {
    "ExecuteTime": {
     "end_time": "2019-10-04T05:17:26.223011Z",
     "start_time": "2019-10-04T05:17:26.213955Z"
    },
    "hidden": true
   },
   "outputs": [],
   "source": [
    "np.random.choice(random_sample, size=len(random_sample), replace=True)"
   ]
  },
  {
   "cell_type": "code",
   "execution_count": null,
   "metadata": {
    "ExecuteTime": {
     "end_time": "2019-10-04T05:17:26.388374Z",
     "start_time": "2019-10-04T05:17:26.224068Z"
    },
    "hidden": true,
    "scrolled": true
   },
   "outputs": [],
   "source": [
    "# Alternative\n",
    "\n",
    "# https://scikit-learn.org/stable/modules/generated/sklearn.utils.resample.html\n",
    "from sklearn.utils import resample\n",
    "\n",
    "resample(random_sample)"
   ]
  },
  {
   "cell_type": "markdown",
   "metadata": {
    "heading_collapsed": true,
    "hidden": true
   },
   "source": [
    "## Jackknife"
   ]
  },
  {
   "cell_type": "markdown",
   "metadata": {
    "hidden": true
   },
   "source": [
    "Samples by removing one or more, observations at a time\n",
    "\n",
    "Gives the same every time"
   ]
  },
  {
   "cell_type": "markdown",
   "metadata": {
    "ExecuteTime": {
     "end_time": "2019-07-10T04:20:42.097514Z",
     "start_time": "2019-07-10T04:20:42.094198Z"
    },
    "heading_collapsed": true,
    "hidden": true
   },
   "source": [
    "### Example"
   ]
  },
  {
   "cell_type": "code",
   "execution_count": null,
   "metadata": {
    "ExecuteTime": {
     "start_time": "2019-10-04T05:17:26.008Z"
    },
    "hidden": true
   },
   "outputs": [],
   "source": [
    "# Note this has not been optimized\n",
    "jackknife_resample = np.empty((0,random_sample.size-1), 'float64')\n",
    "\n",
    "for i in range(random_sample.size):\n",
    "    first_part = random_sample[0:i]\n",
    "    second_part = random_sample[i+1:]\n",
    "    # Make as one array\n",
    "    removed = np.concatenate((first_part,second_part))\n",
    "    jackknife_resample = np.append(jackknife_resample, [removed], axis=0)"
   ]
  },
  {
   "cell_type": "code",
   "execution_count": null,
   "metadata": {
    "ExecuteTime": {
     "start_time": "2019-10-04T05:17:26.009Z"
    },
    "hidden": true
   },
   "outputs": [],
   "source": [
    "jackknife_resample.shape"
   ]
  },
  {
   "cell_type": "code",
   "execution_count": null,
   "metadata": {
    "ExecuteTime": {
     "start_time": "2019-10-04T05:17:26.011Z"
    },
    "hidden": true
   },
   "outputs": [],
   "source": [
    "total = np.sum(sample.sum()/(random_sample.size - 1) for sample in jackknife_resample)\n",
    "total"
   ]
  },
  {
   "cell_type": "code",
   "execution_count": null,
   "metadata": {
    "ExecuteTime": {
     "start_time": "2019-10-04T05:17:26.012Z"
    },
    "hidden": true
   },
   "outputs": [],
   "source": [
    "avg_of_avgs = total / jackknife_resample.shape[0]\n",
    "avg_of_avgs"
   ]
  },
  {
   "cell_type": "code",
   "execution_count": null,
   "metadata": {
    "ExecuteTime": {
     "start_time": "2019-10-04T05:17:26.014Z"
    },
    "hidden": true,
    "scrolled": true
   },
   "outputs": [],
   "source": [
    "diff = np.pi/3 - avg_of_avgs\n",
    "diff"
   ]
  },
  {
   "cell_type": "markdown",
   "metadata": {
    "heading_collapsed": true,
    "hidden": true
   },
   "source": [
    "## Permutation Tests"
   ]
  },
  {
   "cell_type": "markdown",
   "metadata": {
    "hidden": true
   },
   "source": [
    "Instead of assumed parameter distributions\n",
    "\n",
    "Essentially calculate the p-value from all the variations"
   ]
  },
  {
   "cell_type": "markdown",
   "metadata": {
    "hidden": true
   },
   "source": [
    "<!---We calculate the means (or other statistic) from a random sample -->\n",
    "\n",
    "1. Find observed difference of means (between A & B)\n",
    "2. Find the difference of means between all possible ways of splitting the samples\n",
    "    - pool the two A & B\n",
    "    - draw out samples of sizes n_A & n_B\n",
    "3. The probability that difference of means observed is different from the differences of the sample means\n",
    "    - depends on either 2 tail or 1 tail "
   ]
  }
 ],
 "metadata": {
  "kernelspec": {
   "display_name": "Python 3",
   "language": "python",
   "name": "python3"
  },
  "language_info": {
   "codemirror_mode": {
    "name": "ipython",
    "version": 3
   },
   "file_extension": ".py",
   "mimetype": "text/x-python",
   "name": "python",
   "nbconvert_exporter": "python",
   "pygments_lexer": "ipython3",
   "version": "3.6.6"
  },
  "toc": {
   "base_numbering": 1,
   "nav_menu": {},
   "number_sections": true,
   "sideBar": true,
   "skip_h1_title": false,
   "title_cell": "Table of Contents",
   "title_sidebar": "Contents",
   "toc_cell": true,
   "toc_position": {},
   "toc_section_display": true,
   "toc_window_display": true
  },
  "varInspector": {
   "cols": {
    "lenName": 16,
    "lenType": 16,
    "lenVar": 40
   },
   "kernels_config": {
    "python": {
     "delete_cmd_postfix": "",
     "delete_cmd_prefix": "del ",
     "library": "var_list.py",
     "varRefreshCmd": "print(var_dic_list())"
    },
    "r": {
     "delete_cmd_postfix": ") ",
     "delete_cmd_prefix": "rm(",
     "library": "var_list.r",
     "varRefreshCmd": "cat(var_dic_list()) "
    }
   },
   "types_to_exclude": [
    "module",
    "function",
    "builtin_function_or_method",
    "instance",
    "_Feature"
   ],
   "window_display": false
  }
 },
 "nbformat": 4,
 "nbformat_minor": 2
}

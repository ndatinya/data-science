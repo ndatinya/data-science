{
 "cells": [
  {
   "cell_type": "markdown",
   "metadata": {
    "toc": true
   },
   "source": [
    "<h1>Table of Contents<span class=\"tocSkip\"></span></h1>\n",
    "<div class=\"toc\"><ul class=\"toc-item\"><li><span><a href=\"#Multiple-Linear-Regression\" data-toc-modified-id=\"Multiple-Linear-Regression-1\"><span class=\"toc-item-num\">1&nbsp;&nbsp;</span>Multiple Linear Regression</a></span><ul class=\"toc-item\"><li><span><a href=\"#Example-Code\" data-toc-modified-id=\"Example-Code-1.1\"><span class=\"toc-item-num\">1.1&nbsp;&nbsp;</span>Example Code</a></span></li></ul></li><li><span><a href=\"#Categoical-Variables\" data-toc-modified-id=\"Categoical-Variables-2\"><span class=\"toc-item-num\">2&nbsp;&nbsp;</span>Categoical Variables</a></span><ul class=\"toc-item\"><li><span><a href=\"#Realizing-When-to-Use-Categorical-Variables\" data-toc-modified-id=\"Realizing-When-to-Use-Categorical-Variables-2.1\"><span class=\"toc-item-num\">2.1&nbsp;&nbsp;</span>Realizing When to Use Categorical Variables</a></span><ul class=\"toc-item\"><li><span><a href=\"#First-look-at-the-data-(part-of-exploration)\" data-toc-modified-id=\"First-look-at-the-data-(part-of-exploration)-2.1.1\"><span class=\"toc-item-num\">2.1.1&nbsp;&nbsp;</span>First look at the data (part of exploration)</a></span></li><li><span><a href=\"#Can-use-plots-to-help-us\" data-toc-modified-id=\"Can-use-plots-to-help-us-2.1.2\"><span class=\"toc-item-num\">2.1.2&nbsp;&nbsp;</span>Can use plots to help us</a></span></li></ul></li><li><span><a href=\"#Transforming-Categorical-Variables\" data-toc-modified-id=\"Transforming-Categorical-Variables-2.2\"><span class=\"toc-item-num\">2.2&nbsp;&nbsp;</span>Transforming Categorical Variables</a></span><ul class=\"toc-item\"><li><span><a href=\"#Label-encoding\" data-toc-modified-id=\"Label-encoding-2.2.1\"><span class=\"toc-item-num\">2.2.1&nbsp;&nbsp;</span>Label encoding</a></span></li><li><span><a href=\"#Dummy-Variables\" data-toc-modified-id=\"Dummy-Variables-2.2.2\"><span class=\"toc-item-num\">2.2.2&nbsp;&nbsp;</span>Dummy Variables</a></span></li></ul></li></ul></li></ul></div>"
   ]
  },
  {
   "cell_type": "markdown",
   "metadata": {
    "heading_collapsed": true
   },
   "source": [
    "# Multiple Linear Regression"
   ]
  },
  {
   "cell_type": "code",
   "execution_count": null,
   "metadata": {
    "ExecuteTime": {
     "end_time": "2020-04-09T19:38:42.570960Z",
     "start_time": "2020-04-09T19:38:41.715393Z"
    },
    "hidden": true
   },
   "outputs": [],
   "source": [
    "import numpy as np\n",
    "import matplotlib.pyplot as plt\n",
    "import seaborn as sns"
   ]
  },
  {
   "cell_type": "markdown",
   "metadata": {
    "hidden": true
   },
   "source": [
    "Instead of using one feature (variable) and a target, we will use multiple features to predict a target!"
   ]
  },
  {
   "cell_type": "markdown",
   "metadata": {
    "heading_collapsed": true,
    "hidden": true
   },
   "source": [
    "## Example Code"
   ]
  },
  {
   "cell_type": "code",
   "execution_count": null,
   "metadata": {
    "ExecuteTime": {
     "end_time": "2020-04-09T19:38:42.577400Z",
     "start_time": "2020-04-09T19:38:42.572948Z"
    },
    "hidden": true
   },
   "outputs": [],
   "source": [
    "np.random.seed(1234)\n",
    "sen = np.random.uniform(18, 65, 100)\n",
    "income = np.random.normal((sen/10), 0.5)\n",
    "sen = sen.reshape(-1,1)"
   ]
  },
  {
   "cell_type": "code",
   "execution_count": null,
   "metadata": {
    "ExecuteTime": {
     "end_time": "2020-04-09T19:38:42.709185Z",
     "start_time": "2020-04-09T19:38:42.579051Z"
    },
    "hidden": true,
    "scrolled": true
   },
   "outputs": [],
   "source": [
    "fig = plt.figure(figsize=(7,5))\n",
    "fig.suptitle('seniority vs. income', fontsize=16)\n",
    "\n",
    "# Scatter plot with labels\n",
    "plt.scatter(sen, income)\n",
    "plt.xlabel(\"seniority\", fontsize=14)\n",
    "plt.ylabel(\"monthly income\", fontsize=14)\n",
    "\n",
    "# Quick line through the data\n",
    "plt.plot(sen, sen/10, c = \"black\")\n",
    "\n",
    "plt.show()"
   ]
  },
  {
   "cell_type": "markdown",
   "metadata": {
    "hidden": true
   },
   "source": [
    "Our line of best fit would come in the form of \n",
    "$$ target = slope * feature + intercept $$\n",
    "\n",
    "But now what if we want multiple ($n$) variables?\n",
    "$$ \\hat{y} = w_0 + w_1 x_1 + w_2 x_2 + ... w_n x_n $$\n",
    "\n",
    "What shape does this make?"
   ]
  },
  {
   "cell_type": "code",
   "execution_count": null,
   "metadata": {
    "ExecuteTime": {
     "end_time": "2020-04-09T19:38:43.270261Z",
     "start_time": "2020-04-09T19:38:42.711208Z"
    },
    "hidden": true
   },
   "outputs": [],
   "source": [
    "# 2D plane example\n",
    "from mpl_toolkits.mplot3d import Axes3D\n",
    "\n",
    "xs = np.linspace(0, 10, 100)\n",
    "zs = np.linspace(0, 10, 100)\n",
    "\n",
    "X, Z = np.meshgrid(xs, zs)\n",
    "Y = Z - X + 10\n",
    "\n",
    "fig = plt.figure()\n",
    "ax = fig.add_subplot(111, projection='3d')\n",
    "ax.plot_surface(X, Y, Z)\n",
    "plt.show()"
   ]
  },
  {
   "cell_type": "markdown",
   "metadata": {
    "heading_collapsed": true
   },
   "source": [
    "# Categoical Variables"
   ]
  },
  {
   "cell_type": "markdown",
   "metadata": {
    "hidden": true
   },
   "source": [
    "So far we really at how to do analysis on continuous variables. But not all data is like that"
   ]
  },
  {
   "cell_type": "code",
   "execution_count": null,
   "metadata": {
    "ExecuteTime": {
     "end_time": "2020-04-09T19:38:43.292091Z",
     "start_time": "2020-04-09T19:38:43.272577Z"
    },
    "hidden": true
   },
   "outputs": [],
   "source": [
    "# Example data\n",
    "import pandas as pd\n",
    "data = pd.read_csv(\"auto-mpg.csv\")\n",
    "data.head()"
   ]
  },
  {
   "cell_type": "markdown",
   "metadata": {
    "heading_collapsed": true,
    "hidden": true
   },
   "source": [
    "## Realizing When to Use Categorical Variables"
   ]
  },
  {
   "cell_type": "markdown",
   "metadata": {
    "heading_collapsed": true,
    "hidden": true
   },
   "source": [
    "### First look at the data (part of exploration)"
   ]
  },
  {
   "cell_type": "code",
   "execution_count": null,
   "metadata": {
    "ExecuteTime": {
     "end_time": "2020-04-09T19:38:43.299280Z",
     "start_time": "2020-04-09T19:38:43.293781Z"
    },
    "hidden": true
   },
   "outputs": [],
   "source": [
    "data.info()"
   ]
  },
  {
   "cell_type": "code",
   "execution_count": null,
   "metadata": {
    "ExecuteTime": {
     "end_time": "2020-04-09T19:38:43.322704Z",
     "start_time": "2020-04-09T19:38:43.300955Z"
    },
    "hidden": true
   },
   "outputs": [],
   "source": [
    "data.describe()"
   ]
  },
  {
   "cell_type": "markdown",
   "metadata": {
    "heading_collapsed": true,
    "hidden": true
   },
   "source": [
    "### Can use plots to help us"
   ]
  },
  {
   "cell_type": "code",
   "execution_count": null,
   "metadata": {
    "ExecuteTime": {
     "end_time": "2020-04-09T19:38:43.638242Z",
     "start_time": "2020-04-09T19:38:43.323771Z"
    },
    "hidden": true
   },
   "outputs": [],
   "source": [
    "fig, axes = plt.subplots(nrows=1, ncols=3, figsize=(12,3))\n",
    "\n",
    "for xcol, ax in zip([ 'cylinders', 'model year', 'origin'], axes):\n",
    "    data.plot(kind='scatter', x=xcol, y='mpg', ax=ax, alpha=0.4, color='b')"
   ]
  },
  {
   "cell_type": "code",
   "execution_count": null,
   "metadata": {
    "ExecuteTime": {
     "end_time": "2020-04-09T19:38:49.788443Z",
     "start_time": "2020-04-09T19:38:43.640101Z"
    },
    "hidden": true,
    "scrolled": true
   },
   "outputs": [],
   "source": [
    "sns.pairplot(data)"
   ]
  },
  {
   "cell_type": "code",
   "execution_count": null,
   "metadata": {
    "ExecuteTime": {
     "end_time": "2020-04-09T19:38:50.809189Z",
     "start_time": "2020-04-09T19:38:49.789889Z"
    },
    "hidden": true
   },
   "outputs": [],
   "source": [
    "fig = plt.figure(figsize = (12,12))\n",
    "ax = fig.gca()\n",
    "data.hist(ax = ax);\n",
    "\n",
    "# Same thing but not as pretty\n",
    "#data.hist();"
   ]
  },
  {
   "cell_type": "markdown",
   "metadata": {
    "heading_collapsed": true,
    "hidden": true
   },
   "source": [
    "## Transforming Categorical Variables"
   ]
  },
  {
   "cell_type": "markdown",
   "metadata": {
    "heading_collapsed": true,
    "hidden": true
   },
   "source": [
    "### Label encoding"
   ]
  },
  {
   "cell_type": "code",
   "execution_count": null,
   "metadata": {
    "ExecuteTime": {
     "end_time": "2020-04-09T19:38:50.813608Z",
     "start_time": "2020-04-09T19:38:50.810922Z"
    },
    "hidden": true
   },
   "outputs": [],
   "source": [
    "print(data['cylinders'].dtype)"
   ]
  },
  {
   "cell_type": "code",
   "execution_count": null,
   "metadata": {
    "ExecuteTime": {
     "end_time": "2020-04-09T19:38:50.820403Z",
     "start_time": "2020-04-09T19:38:50.815128Z"
    },
    "hidden": true
   },
   "outputs": [],
   "source": [
    "data['cylinders'] = data['cylinders'].astype('category')\n",
    "print(data['cylinders'].dtype)"
   ]
  },
  {
   "cell_type": "code",
   "execution_count": null,
   "metadata": {
    "ExecuteTime": {
     "end_time": "2020-04-09T19:38:50.827009Z",
     "start_time": "2020-04-09T19:38:50.822024Z"
    },
    "hidden": true
   },
   "outputs": [],
   "source": [
    "#\n",
    "data.cylinders.unique()"
   ]
  },
  {
   "cell_type": "code",
   "execution_count": null,
   "metadata": {
    "ExecuteTime": {
     "end_time": "2020-04-09T19:38:50.833167Z",
     "start_time": "2020-04-09T19:38:50.828434Z"
    },
    "hidden": true
   },
   "outputs": [],
   "source": [
    "data.cylinders.cat.codes"
   ]
  },
  {
   "cell_type": "code",
   "execution_count": null,
   "metadata": {
    "ExecuteTime": {
     "end_time": "2020-04-09T19:38:51.448545Z",
     "start_time": "2020-04-09T19:38:50.834696Z"
    },
    "hidden": true
   },
   "outputs": [],
   "source": [
    "# Alternative Way\n",
    "from sklearn.preprocessing import LabelEncoder\n",
    "lb_make = LabelEncoder()\n",
    "\n",
    "encoded_series = lb_make.fit_transform(data.origin)\n",
    "encoded_series"
   ]
  },
  {
   "cell_type": "markdown",
   "metadata": {
    "heading_collapsed": true,
    "hidden": true
   },
   "source": [
    "### Dummy Variables"
   ]
  },
  {
   "cell_type": "code",
   "execution_count": null,
   "metadata": {
    "ExecuteTime": {
     "end_time": "2020-04-09T19:38:51.457175Z",
     "start_time": "2020-04-09T19:38:51.450506Z"
    },
    "hidden": true
   },
   "outputs": [],
   "source": [
    "data.origin.unique()"
   ]
  },
  {
   "cell_type": "code",
   "execution_count": null,
   "metadata": {
    "ExecuteTime": {
     "end_time": "2020-04-09T19:38:51.473488Z",
     "start_time": "2020-04-09T19:38:51.459727Z"
    },
    "hidden": true
   },
   "outputs": [],
   "source": [
    "dummy_origin1 = pd.get_dummies(data.origin)\n",
    "dummy_origin1"
   ]
  },
  {
   "cell_type": "code",
   "execution_count": null,
   "metadata": {
    "ExecuteTime": {
     "end_time": "2020-04-09T19:38:51.584781Z",
     "start_time": "2020-04-09T19:38:51.479068Z"
    },
    "hidden": true
   },
   "outputs": [],
   "source": [
    "# Alternative Way\n",
    "from sklearn.preprocessing import LabelBinarizer\n",
    "\n",
    "lb = LabelBinarizer()\n",
    "temp = lb.fit_transform(data.origin)\n",
    "# you need to convert this back to a dataframe\n",
    "dummy_origin2 = pd.DataFrame(temp, columns=lb.classes_)\n",
    "dummy_origin2"
   ]
  }
 ],
 "metadata": {
  "kernelspec": {
   "display_name": "Python 3",
   "language": "python",
   "name": "python3"
  },
  "language_info": {
   "codemirror_mode": {
    "name": "ipython",
    "version": 3
   },
   "file_extension": ".py",
   "mimetype": "text/x-python",
   "name": "python",
   "nbconvert_exporter": "python",
   "pygments_lexer": "ipython3",
   "version": "3.6.6"
  },
  "toc": {
   "base_numbering": 1,
   "nav_menu": {},
   "number_sections": true,
   "sideBar": false,
   "skip_h1_title": false,
   "title_cell": "Table of Contents",
   "title_sidebar": "Contents",
   "toc_cell": true,
   "toc_position": {},
   "toc_section_display": true,
   "toc_window_display": false
  },
  "varInspector": {
   "cols": {
    "lenName": 16,
    "lenType": 16,
    "lenVar": 40
   },
   "kernels_config": {
    "python": {
     "delete_cmd_postfix": "",
     "delete_cmd_prefix": "del ",
     "library": "var_list.py",
     "varRefreshCmd": "print(var_dic_list())"
    },
    "r": {
     "delete_cmd_postfix": ") ",
     "delete_cmd_prefix": "rm(",
     "library": "var_list.r",
     "varRefreshCmd": "cat(var_dic_list()) "
    }
   },
   "types_to_exclude": [
    "module",
    "function",
    "builtin_function_or_method",
    "instance",
    "_Feature"
   ],
   "window_display": false
  }
 },
 "nbformat": 4,
 "nbformat_minor": 2
}

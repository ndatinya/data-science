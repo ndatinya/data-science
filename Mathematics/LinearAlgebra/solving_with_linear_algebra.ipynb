{
 "cells": [
  {
   "cell_type": "markdown",
   "metadata": {
    "toc": true
   },
   "source": [
    "<h1>Table of Contents<span class=\"tocSkip\"></span></h1>\n",
    "<div class=\"toc\"><ul class=\"toc-item\"><li><span><a href=\"#Solving-Systems-of-Equations\" data-toc-modified-id=\"Solving-Systems-of-Equations-1\"><span class=\"toc-item-num\">1&nbsp;&nbsp;</span>Solving Systems of Equations</a></span><ul class=\"toc-item\"><li><span><a href=\"#Using-NumPy\" data-toc-modified-id=\"Using-NumPy-1.1\"><span class=\"toc-item-num\">1.1&nbsp;&nbsp;</span>Using NumPy</a></span></li><li><span><a href=\"#Linear-Regression-w/-Systems-of-Equations\" data-toc-modified-id=\"Linear-Regression-w/-Systems-of-Equations-1.2\"><span class=\"toc-item-num\">1.2&nbsp;&nbsp;</span>Linear Regression w/ Systems of Equations</a></span></li></ul></li></ul></div>"
   ]
  },
  {
   "cell_type": "code",
   "execution_count": null,
   "metadata": {},
   "outputs": [],
   "source": [
    "# Imports needed for notebook\n",
    "import numpy as np"
   ]
  },
  {
   "cell_type": "markdown",
   "metadata": {},
   "source": [
    "# Solving Systems of Equations"
   ]
  },
  {
   "cell_type": "markdown",
   "metadata": {},
   "source": [
    "Solving a system of equations can take a lot of work\n",
    "\n",
    "$$ x - 2y + 3z = 9 $$\n",
    "$$ 2x - 5y + 10z = 4 $$\n",
    "$$ 0x + 0y + 6z = 0 $$\n",
    "\n",
    "But we can make it easier by writing it in matrix form\n",
    "\n",
    "$$ \n",
    "\\begin{pmatrix} \n",
    "    1 & -2 & 3 \\\\\n",
    "    2 & -5 & 10 \\\\\n",
    "    0 & 0 & 6\n",
    "\\end{pmatrix}\n",
    "\\cdot\n",
    "\\begin{pmatrix} \n",
    "    x \\\\\n",
    "    y \\\\\n",
    "    z\n",
    "\\end{pmatrix}\n",
    "=\n",
    "\\begin{pmatrix} \n",
    "    9 \\\\\n",
    "    4 \\\\\n",
    "    0\n",
    "\\end{pmatrix}\n",
    "$$"
   ]
  },
  {
   "cell_type": "markdown",
   "metadata": {},
   "source": [
    "We can think of this in the abstract:\n",
    "$$ A \\cdot X = B $$\n",
    "$$ A^{-1} \\cdot A \\cdot X = A^{-1} \\cdot B $$\n",
    "$$ I \\cdot X = A^{-1} \\cdot B $$\n",
    "$$ X = A^{-1} \\cdot B $$"
   ]
  },
  {
   "cell_type": "markdown",
   "metadata": {},
   "source": [
    "## Using NumPy"
   ]
  },
  {
   "cell_type": "code",
   "execution_count": null,
   "metadata": {},
   "outputs": [],
   "source": [
    "# Define the system's matrices\n",
    "A = np.array([\n",
    "    [1, -2,  3],\n",
    "    [2, -5, 10],\n",
    "    [0,  0,  6]\n",
    "])\n",
    "\n",
    "B = np.array([9,4,0]).reshape(3,1)\n",
    "print('A:')\n",
    "print(A)\n",
    "print()\n",
    "print('B:')\n",
    "print(B)"
   ]
  },
  {
   "cell_type": "code",
   "execution_count": null,
   "metadata": {},
   "outputs": [],
   "source": [
    "# Find the inverse\n",
    "A_inv = np.linalg.inv(A)\n",
    "print(A_inv)"
   ]
  },
  {
   "cell_type": "code",
   "execution_count": null,
   "metadata": {},
   "outputs": [],
   "source": [
    "# Solutions:\n",
    "solution = A_inv @ B\n",
    "print(solution)"
   ]
  },
  {
   "cell_type": "code",
   "execution_count": null,
   "metadata": {},
   "outputs": [],
   "source": [
    "# Checking solutions:\n",
    "\n",
    "\n",
    "print('x - 2y + 3z = 9')\n",
    "print(f'{solution[0][0]} + {-2*solution[1][0]} + {3*solution[2][0]}')\n",
    "print(solution[0][0] + -2*solution[1][0] + 3*solution[2][0])\n",
    "print()\n",
    "\n",
    "print('2x - 5y + 10z = 4')\n",
    "print(f'{2*solution[0][0]} + {-5*solution[1][0]} + {10*solution[2][0]}')\n",
    "print(2*solution[0][0] + -5*solution[1][0] + 10*solution[2][0])\n",
    "print()\n",
    "\n",
    "print('0x + 0y + 6z = 0')\n",
    "print(f'{0*solution[0][0]} + {0*solution[1][0]} + {6*solution[2][0]}')\n",
    "print(0*solution[0][0] + 0*solution[1][0] + 6*solution[2][0])\n",
    "print()"
   ]
  },
  {
   "cell_type": "markdown",
   "metadata": {},
   "source": [
    "## Linear Regression w/ Systems of Equations\n",
    "\n",
    "> We'll find that this is actually computationally expensive for large systems 😭"
   ]
  }
 ],
 "metadata": {
  "kernelspec": {
   "display_name": "Python 3",
   "language": "python",
   "name": "python3"
  },
  "language_info": {
   "codemirror_mode": {
    "name": "ipython",
    "version": 3
   },
   "file_extension": ".py",
   "mimetype": "text/x-python",
   "name": "python",
   "nbconvert_exporter": "python",
   "pygments_lexer": "ipython3",
   "version": "3.6.6"
  },
  "toc": {
   "base_numbering": 1,
   "nav_menu": {},
   "number_sections": true,
   "sideBar": false,
   "skip_h1_title": false,
   "title_cell": "Table of Contents",
   "title_sidebar": "Contents",
   "toc_cell": true,
   "toc_position": {},
   "toc_section_display": true,
   "toc_window_display": false
  },
  "varInspector": {
   "cols": {
    "lenName": 16,
    "lenType": 16,
    "lenVar": 40
   },
   "kernels_config": {
    "python": {
     "delete_cmd_postfix": "",
     "delete_cmd_prefix": "del ",
     "library": "var_list.py",
     "varRefreshCmd": "print(var_dic_list())"
    },
    "r": {
     "delete_cmd_postfix": ") ",
     "delete_cmd_prefix": "rm(",
     "library": "var_list.r",
     "varRefreshCmd": "cat(var_dic_list()) "
    }
   },
   "types_to_exclude": [
    "module",
    "function",
    "builtin_function_or_method",
    "instance",
    "_Feature"
   ],
   "window_display": false
  }
 },
 "nbformat": 4,
 "nbformat_minor": 2
}

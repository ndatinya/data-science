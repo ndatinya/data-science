{
 "cells": [
  {
   "cell_type": "markdown",
   "metadata": {
    "toc": true
   },
   "source": [
    "<h1>Table of Contents<span class=\"tocSkip\"></span></h1>\n",
    "<div class=\"toc\"><ul class=\"toc-item\"><li><span><a href=\"#Before-We-Begin,-Remember-DS-Life-Cycle\" data-toc-modified-id=\"Before-We-Begin,-Remember-DS-Life-Cycle-1\"><span class=\"toc-item-num\">1&nbsp;&nbsp;</span>Before We Begin, Remember DS Life Cycle</a></span><ul class=\"toc-item\"><li><span><a href=\"#Other-frameworks-to-consider\" data-toc-modified-id=\"Other-frameworks-to-consider-1.1\"><span class=\"toc-item-num\">1.1&nbsp;&nbsp;</span>Other frameworks to consider</a></span></li></ul></li><li><span><a href=\"#Data-Preparation\" data-toc-modified-id=\"Data-Preparation-2\"><span class=\"toc-item-num\">2&nbsp;&nbsp;</span>Data Preparation</a></span><ul class=\"toc-item\"><li><span><a href=\"#Separate-features-from-target\" data-toc-modified-id=\"Separate-features-from-target-2.1\"><span class=\"toc-item-num\">2.1&nbsp;&nbsp;</span>Separate features from target</a></span></li><li><span><a href=\"#Split-your-data-into-train-test-sets\" data-toc-modified-id=\"Split-your-data-into-train-test-sets-2.2\"><span class=\"toc-item-num\">2.2&nbsp;&nbsp;</span>Split your data into train-test sets</a></span></li></ul></li><li><span><a href=\"#Data-Exploration\" data-toc-modified-id=\"Data-Exploration-3\"><span class=\"toc-item-num\">3&nbsp;&nbsp;</span>Data Exploration</a></span></li><li><span><a href=\"#Data-Cleaning-&amp;-Feature-Engineering\" data-toc-modified-id=\"Data-Cleaning-&amp;-Feature-Engineering-4\"><span class=\"toc-item-num\">4&nbsp;&nbsp;</span>Data Cleaning &amp; Feature Engineering</a></span><ul class=\"toc-item\"><li><span><a href=\"#Getting-rid-of-unnecessary-features\" data-toc-modified-id=\"Getting-rid-of-unnecessary-features-4.1\"><span class=\"toc-item-num\">4.1&nbsp;&nbsp;</span>Getting rid of unnecessary features</a></span></li><li><span><a href=\"#Working-with-numerical-features\" data-toc-modified-id=\"Working-with-numerical-features-4.2\"><span class=\"toc-item-num\">4.2&nbsp;&nbsp;</span>Working with numerical features</a></span></li><li><span><a href=\"#Dealing-with-missing-values\" data-toc-modified-id=\"Dealing-with-missing-values-4.3\"><span class=\"toc-item-num\">4.3&nbsp;&nbsp;</span>Dealing with missing values</a></span></li><li><span><a href=\"#Working-with-categorical-features\" data-toc-modified-id=\"Working-with-categorical-features-4.4\"><span class=\"toc-item-num\">4.4&nbsp;&nbsp;</span>Working with categorical features</a></span></li><li><span><a href=\"#Finalizing-your-features-(and-labels)\" data-toc-modified-id=\"Finalizing-your-features-(and-labels)-4.5\"><span class=\"toc-item-num\">4.5&nbsp;&nbsp;</span>Finalizing your features (and labels)</a></span></li></ul></li><li><span><a href=\"#Model-the-Data\" data-toc-modified-id=\"Model-the-Data-5\"><span class=\"toc-item-num\">5&nbsp;&nbsp;</span>Model the Data</a></span></li><li><span><a href=\"#Evaluate-the-Model\" data-toc-modified-id=\"Evaluate-the-Model-6\"><span class=\"toc-item-num\">6&nbsp;&nbsp;</span>Evaluate the Model</a></span><ul class=\"toc-item\"><li><span><a href=\"#It's-good-to-observe-the-model's-coefficients-&amp;-intercepts\" data-toc-modified-id=\"It's-good-to-observe-the-model's-coefficients-&amp;-intercepts-6.1\"><span class=\"toc-item-num\">6.1&nbsp;&nbsp;</span>It's good to observe the model's coefficients &amp; intercepts</a></span></li><li><span><a href=\"#We-would-likely-want-to-see-how-features-do-in-making-predictions-(p-value)\" data-toc-modified-id=\"We-would-likely-want-to-see-how-features-do-in-making-predictions-(p-value)-6.2\"><span class=\"toc-item-num\">6.2&nbsp;&nbsp;</span>We would likely want to see how features do in making predictions (p-value)</a></span></li><li><span><a href=\"#Observe-how-well-the-model-makes-predictions\" data-toc-modified-id=\"Observe-how-well-the-model-makes-predictions-6.3\"><span class=\"toc-item-num\">6.3&nbsp;&nbsp;</span>Observe how well the model makes predictions</a></span><ul class=\"toc-item\"><li><span><a href=\"#k-fold-validation\" data-toc-modified-id=\"k-fold-validation-6.3.1\"><span class=\"toc-item-num\">6.3.1&nbsp;&nbsp;</span>k-fold validation</a></span></li></ul></li><li><span><a href=\"#If-we're-satisfied-with-our-model,-we-can-observe-how-it-does-with-the-holdout-test-set\" data-toc-modified-id=\"If-we're-satisfied-with-our-model,-we-can-observe-how-it-does-with-the-holdout-test-set-6.4\"><span class=\"toc-item-num\">6.4&nbsp;&nbsp;</span>If we're satisfied with our model, we can observe how it does with the holdout test set</a></span></li></ul></li><li><span><a href=\"#Note-to-Save-Your-Models!\" data-toc-modified-id=\"Note-to-Save-Your-Models!-7\"><span class=\"toc-item-num\">7&nbsp;&nbsp;</span>Note to Save Your Models!</a></span><ul class=\"toc-item\"><li><span><a href=\"#pickle\" data-toc-modified-id=\"pickle-7.1\"><span class=\"toc-item-num\">7.1&nbsp;&nbsp;</span><code>pickle</code></a></span></li><li><span><a href=\"#joblib\" data-toc-modified-id=\"joblib-7.2\"><span class=\"toc-item-num\">7.2&nbsp;&nbsp;</span><code>joblib</code></a></span></li></ul></li></ul></div>"
   ]
  },
  {
   "cell_type": "code",
   "execution_count": 1,
   "metadata": {
    "ExecuteTime": {
     "end_time": "2020-04-23T04:53:26.021582Z",
     "start_time": "2020-04-23T04:53:24.858532Z"
    }
   },
   "outputs": [],
   "source": [
    "# Typical imports we might use\n",
    "import numpy as np\n",
    "import pandas as pd\n",
    "\n",
    "import seaborn as sns\n",
    "import matplotlib.pyplot as plt\n",
    "%matplotlib inline "
   ]
  },
  {
   "cell_type": "markdown",
   "metadata": {},
   "source": [
    "# Before We Begin, Remember DS Life Cycle "
   ]
  },
  {
   "cell_type": "markdown",
   "metadata": {},
   "source": [
    "![](https://lh3.googleusercontent.com/proxy/PYozaN6A4m2uZ4D3uWR0ORx1mi4qUq7FXb3UM8ybEYXkorNGsAf22cXaTUZ6vQpmzVMfokPMABo_NiFjl21xyx1wWIM0q7OoqrCStK4L5LnW-WHy4upFr-w60KebsxKKyJ4avYfXWRyMGxdWlYsjd2sBihqEfa6mcg)"
   ]
  },
  {
   "cell_type": "markdown",
   "metadata": {
    "heading_collapsed": true
   },
   "source": [
    "## Other frameworks to consider"
   ]
  },
  {
   "cell_type": "markdown",
   "metadata": {
    "hidden": true
   },
   "source": [
    "> In the future, we will talk about specific frameworks like CRISP-DM **(CRoss-Industry Standard Process for Data Mining)** & OSEMN **Obtain, Scrub, Explore, Model, and iNterpret)**"
   ]
  },
  {
   "cell_type": "markdown",
   "metadata": {
    "hidden": true
   },
   "source": [
    "![](images/crisp-dm.png)"
   ]
  },
  {
   "cell_type": "markdown",
   "metadata": {
    "hidden": true
   },
   "source": [
    "![](images/osemn.png)"
   ]
  },
  {
   "cell_type": "markdown",
   "metadata": {},
   "source": [
    "# Data Preparation"
   ]
  },
  {
   "cell_type": "markdown",
   "metadata": {},
   "source": [
    "Load your data in so we can do the initial final train-test split. (Note some situations you don't do a holdout since you have a test set ready for you)."
   ]
  },
  {
   "cell_type": "code",
   "execution_count": 2,
   "metadata": {
    "ExecuteTime": {
     "end_time": "2020-04-23T04:53:26.087758Z",
     "start_time": "2020-04-23T04:53:26.023101Z"
    }
   },
   "outputs": [],
   "source": [
    "my_data = pd.read_csv('data/kaggle_comp_ny_airbnb/train.csv')"
   ]
  },
  {
   "cell_type": "code",
   "execution_count": 3,
   "metadata": {
    "ExecuteTime": {
     "end_time": "2020-04-23T04:53:26.135861Z",
     "start_time": "2020-04-23T04:53:26.089488Z"
    }
   },
   "outputs": [
    {
     "data": {
      "text/html": [
       "<div>\n",
       "<style scoped>\n",
       "    .dataframe tbody tr th:only-of-type {\n",
       "        vertical-align: middle;\n",
       "    }\n",
       "\n",
       "    .dataframe tbody tr th {\n",
       "        vertical-align: top;\n",
       "    }\n",
       "\n",
       "    .dataframe thead th {\n",
       "        text-align: right;\n",
       "    }\n",
       "</style>\n",
       "<table border=\"1\" class=\"dataframe\">\n",
       "  <thead>\n",
       "    <tr style=\"text-align: right;\">\n",
       "      <th></th>\n",
       "      <th>id</th>\n",
       "      <th>host_id</th>\n",
       "      <th>host_name</th>\n",
       "      <th>latitude</th>\n",
       "      <th>longitude</th>\n",
       "      <th>room_type</th>\n",
       "      <th>minimum_nights</th>\n",
       "      <th>number_of_reviews</th>\n",
       "      <th>last_review</th>\n",
       "      <th>reviews_per_month</th>\n",
       "      <th>calculated_host_listings_count</th>\n",
       "      <th>availability_365</th>\n",
       "      <th>price</th>\n",
       "    </tr>\n",
       "  </thead>\n",
       "  <tbody>\n",
       "    <tr>\n",
       "      <th>0</th>\n",
       "      <td>33400953</td>\n",
       "      <td>3400827</td>\n",
       "      <td>Nicole</td>\n",
       "      <td>40.79595</td>\n",
       "      <td>-73.97485</td>\n",
       "      <td>Entire home/apt</td>\n",
       "      <td>3</td>\n",
       "      <td>2</td>\n",
       "      <td>2019-04-21</td>\n",
       "      <td>0.74</td>\n",
       "      <td>1</td>\n",
       "      <td>0</td>\n",
       "      <td>380</td>\n",
       "    </tr>\n",
       "    <tr>\n",
       "      <th>1</th>\n",
       "      <td>16965705</td>\n",
       "      <td>3483600</td>\n",
       "      <td>Joshua</td>\n",
       "      <td>40.83498</td>\n",
       "      <td>-73.94214</td>\n",
       "      <td>Private room</td>\n",
       "      <td>2</td>\n",
       "      <td>0</td>\n",
       "      <td>NaN</td>\n",
       "      <td>NaN</td>\n",
       "      <td>1</td>\n",
       "      <td>0</td>\n",
       "      <td>63</td>\n",
       "    </tr>\n",
       "    <tr>\n",
       "      <th>2</th>\n",
       "      <td>34819184</td>\n",
       "      <td>156850005</td>\n",
       "      <td>Sharon</td>\n",
       "      <td>40.75600</td>\n",
       "      <td>-73.87756</td>\n",
       "      <td>Private room</td>\n",
       "      <td>1</td>\n",
       "      <td>1</td>\n",
       "      <td>2019-05-29</td>\n",
       "      <td>0.73</td>\n",
       "      <td>2</td>\n",
       "      <td>355</td>\n",
       "      <td>77</td>\n",
       "    </tr>\n",
       "    <tr>\n",
       "      <th>3</th>\n",
       "      <td>22579551</td>\n",
       "      <td>3231509</td>\n",
       "      <td>Annamaria</td>\n",
       "      <td>40.71775</td>\n",
       "      <td>-74.00607</td>\n",
       "      <td>Entire home/apt</td>\n",
       "      <td>14</td>\n",
       "      <td>13</td>\n",
       "      <td>2019-05-08</td>\n",
       "      <td>0.77</td>\n",
       "      <td>4</td>\n",
       "      <td>365</td>\n",
       "      <td>450</td>\n",
       "    </tr>\n",
       "    <tr>\n",
       "      <th>4</th>\n",
       "      <td>14571451</td>\n",
       "      <td>32454701</td>\n",
       "      <td>Maria</td>\n",
       "      <td>40.72824</td>\n",
       "      <td>-73.97824</td>\n",
       "      <td>Entire home/apt</td>\n",
       "      <td>1</td>\n",
       "      <td>198</td>\n",
       "      <td>2019-07-06</td>\n",
       "      <td>5.63</td>\n",
       "      <td>1</td>\n",
       "      <td>21</td>\n",
       "      <td>129</td>\n",
       "    </tr>\n",
       "  </tbody>\n",
       "</table>\n",
       "</div>"
      ],
      "text/plain": [
       "         id    host_id  host_name  latitude  longitude        room_type  \\\n",
       "0  33400953    3400827     Nicole  40.79595  -73.97485  Entire home/apt   \n",
       "1  16965705    3483600     Joshua  40.83498  -73.94214     Private room   \n",
       "2  34819184  156850005     Sharon  40.75600  -73.87756     Private room   \n",
       "3  22579551    3231509  Annamaria  40.71775  -74.00607  Entire home/apt   \n",
       "4  14571451   32454701      Maria  40.72824  -73.97824  Entire home/apt   \n",
       "\n",
       "   minimum_nights  number_of_reviews last_review  reviews_per_month  \\\n",
       "0               3                  2  2019-04-21               0.74   \n",
       "1               2                  0         NaN                NaN   \n",
       "2               1                  1  2019-05-29               0.73   \n",
       "3              14                 13  2019-05-08               0.77   \n",
       "4               1                198  2019-07-06               5.63   \n",
       "\n",
       "   calculated_host_listings_count  availability_365  price  \n",
       "0                               1                 0    380  \n",
       "1                               1                 0     63  \n",
       "2                               2               355     77  \n",
       "3                               4               365    450  \n",
       "4                               1                21    129  "
      ]
     },
     "execution_count": 3,
     "metadata": {},
     "output_type": "execute_result"
    }
   ],
   "source": [
    "my_data.head()"
   ]
  },
  {
   "cell_type": "code",
   "execution_count": 4,
   "metadata": {
    "ExecuteTime": {
     "end_time": "2020-04-23T04:53:26.152849Z",
     "start_time": "2020-04-23T04:53:26.137458Z"
    }
   },
   "outputs": [
    {
     "name": "stdout",
     "output_type": "stream",
     "text": [
      "<class 'pandas.core.frame.DataFrame'>\n",
      "RangeIndex: 31292 entries, 0 to 31291\n",
      "Data columns (total 13 columns):\n",
      "id                                31292 non-null int64\n",
      "host_id                           31292 non-null int64\n",
      "host_name                         31280 non-null object\n",
      "latitude                          31292 non-null float64\n",
      "longitude                         31292 non-null float64\n",
      "room_type                         31292 non-null object\n",
      "minimum_nights                    31292 non-null int64\n",
      "number_of_reviews                 31292 non-null int64\n",
      "last_review                       24808 non-null object\n",
      "reviews_per_month                 24808 non-null float64\n",
      "calculated_host_listings_count    31292 non-null int64\n",
      "availability_365                  31292 non-null int64\n",
      "price                             31292 non-null int64\n",
      "dtypes: float64(3), int64(7), object(3)\n",
      "memory usage: 3.1+ MB\n"
     ]
    }
   ],
   "source": [
    "my_data.info()"
   ]
  },
  {
   "cell_type": "markdown",
   "metadata": {},
   "source": [
    "## Separate features from target"
   ]
  },
  {
   "cell_type": "code",
   "execution_count": 5,
   "metadata": {
    "ExecuteTime": {
     "end_time": "2020-04-23T04:53:26.158385Z",
     "start_time": "2020-04-23T04:53:26.153988Z"
    }
   },
   "outputs": [],
   "source": [
    "#TODO\n",
    "\n",
    "X = my_data.iloc[:,:-1]\n",
    "y = my_data.iloc[:,-1]"
   ]
  },
  {
   "cell_type": "markdown",
   "metadata": {
    "ExecuteTime": {
     "end_time": "2020-04-22T19:48:48.372399Z",
     "start_time": "2020-04-22T19:48:48.370315Z"
    }
   },
   "source": [
    "## Split your data into train-test sets"
   ]
  },
  {
   "cell_type": "code",
   "execution_count": 6,
   "metadata": {
    "ExecuteTime": {
     "end_time": "2020-04-23T04:53:26.229398Z",
     "start_time": "2020-04-23T04:53:26.159741Z"
    }
   },
   "outputs": [],
   "source": [
    "from sklearn.model_selection import train_test_split\n",
    "\n",
    "#TODO\n",
    "X_train, X_test, y_train, y_test = train_test_split(X, y, test_size=0.2, random_state=27)"
   ]
  },
  {
   "cell_type": "code",
   "execution_count": 7,
   "metadata": {
    "ExecuteTime": {
     "end_time": "2020-04-23T04:53:26.241192Z",
     "start_time": "2020-04-23T04:53:26.230680Z"
    }
   },
   "outputs": [
    {
     "data": {
      "text/html": [
       "<div>\n",
       "<style scoped>\n",
       "    .dataframe tbody tr th:only-of-type {\n",
       "        vertical-align: middle;\n",
       "    }\n",
       "\n",
       "    .dataframe tbody tr th {\n",
       "        vertical-align: top;\n",
       "    }\n",
       "\n",
       "    .dataframe thead th {\n",
       "        text-align: right;\n",
       "    }\n",
       "</style>\n",
       "<table border=\"1\" class=\"dataframe\">\n",
       "  <thead>\n",
       "    <tr style=\"text-align: right;\">\n",
       "      <th></th>\n",
       "      <th>id</th>\n",
       "      <th>host_id</th>\n",
       "      <th>host_name</th>\n",
       "      <th>latitude</th>\n",
       "      <th>longitude</th>\n",
       "      <th>room_type</th>\n",
       "      <th>minimum_nights</th>\n",
       "      <th>number_of_reviews</th>\n",
       "      <th>last_review</th>\n",
       "      <th>reviews_per_month</th>\n",
       "      <th>calculated_host_listings_count</th>\n",
       "      <th>availability_365</th>\n",
       "    </tr>\n",
       "  </thead>\n",
       "  <tbody>\n",
       "    <tr>\n",
       "      <th>3234</th>\n",
       "      <td>12966504</td>\n",
       "      <td>28709982</td>\n",
       "      <td>Sidiq</td>\n",
       "      <td>40.71827</td>\n",
       "      <td>-73.95494</td>\n",
       "      <td>Entire home/apt</td>\n",
       "      <td>3</td>\n",
       "      <td>51</td>\n",
       "      <td>2019-06-09</td>\n",
       "      <td>1.36</td>\n",
       "      <td>3</td>\n",
       "      <td>71</td>\n",
       "    </tr>\n",
       "    <tr>\n",
       "      <th>30368</th>\n",
       "      <td>30890018</td>\n",
       "      <td>4491717</td>\n",
       "      <td>Goran</td>\n",
       "      <td>40.76132</td>\n",
       "      <td>-73.99443</td>\n",
       "      <td>Private room</td>\n",
       "      <td>3</td>\n",
       "      <td>1</td>\n",
       "      <td>2019-01-01</td>\n",
       "      <td>0.16</td>\n",
       "      <td>1</td>\n",
       "      <td>341</td>\n",
       "    </tr>\n",
       "    <tr>\n",
       "      <th>25504</th>\n",
       "      <td>32919247</td>\n",
       "      <td>247673988</td>\n",
       "      <td>Adrian</td>\n",
       "      <td>40.69872</td>\n",
       "      <td>-73.93461</td>\n",
       "      <td>Private room</td>\n",
       "      <td>1</td>\n",
       "      <td>18</td>\n",
       "      <td>2019-07-02</td>\n",
       "      <td>4.74</td>\n",
       "      <td>2</td>\n",
       "      <td>158</td>\n",
       "    </tr>\n",
       "    <tr>\n",
       "      <th>1245</th>\n",
       "      <td>15160268</td>\n",
       "      <td>345252</td>\n",
       "      <td>Thomas</td>\n",
       "      <td>40.67843</td>\n",
       "      <td>-73.96385</td>\n",
       "      <td>Entire home/apt</td>\n",
       "      <td>5</td>\n",
       "      <td>3</td>\n",
       "      <td>2016-10-21</td>\n",
       "      <td>0.09</td>\n",
       "      <td>3</td>\n",
       "      <td>0</td>\n",
       "    </tr>\n",
       "    <tr>\n",
       "      <th>29474</th>\n",
       "      <td>13694279</td>\n",
       "      <td>42605385</td>\n",
       "      <td>Cameron</td>\n",
       "      <td>40.63627</td>\n",
       "      <td>-73.96514</td>\n",
       "      <td>Entire home/apt</td>\n",
       "      <td>7</td>\n",
       "      <td>0</td>\n",
       "      <td>NaN</td>\n",
       "      <td>NaN</td>\n",
       "      <td>3</td>\n",
       "      <td>0</td>\n",
       "    </tr>\n",
       "  </tbody>\n",
       "</table>\n",
       "</div>"
      ],
      "text/plain": [
       "             id    host_id host_name  latitude  longitude        room_type  \\\n",
       "3234   12966504   28709982     Sidiq  40.71827  -73.95494  Entire home/apt   \n",
       "30368  30890018    4491717     Goran  40.76132  -73.99443     Private room   \n",
       "25504  32919247  247673988    Adrian  40.69872  -73.93461     Private room   \n",
       "1245   15160268     345252    Thomas  40.67843  -73.96385  Entire home/apt   \n",
       "29474  13694279   42605385   Cameron  40.63627  -73.96514  Entire home/apt   \n",
       "\n",
       "       minimum_nights  number_of_reviews last_review  reviews_per_month  \\\n",
       "3234                3                 51  2019-06-09               1.36   \n",
       "30368               3                  1  2019-01-01               0.16   \n",
       "25504               1                 18  2019-07-02               4.74   \n",
       "1245                5                  3  2016-10-21               0.09   \n",
       "29474               7                  0         NaN                NaN   \n",
       "\n",
       "       calculated_host_listings_count  availability_365  \n",
       "3234                                3                71  \n",
       "30368                               1               341  \n",
       "25504                               2               158  \n",
       "1245                                3                 0  \n",
       "29474                               3                 0  "
      ]
     },
     "execution_count": 7,
     "metadata": {},
     "output_type": "execute_result"
    }
   ],
   "source": [
    "X_train.head()"
   ]
  },
  {
   "cell_type": "markdown",
   "metadata": {},
   "source": [
    "# Data Exploration"
   ]
  },
  {
   "cell_type": "markdown",
   "metadata": {},
   "source": [
    "> This is likely where you'd explore your data and think about what would be good features."
   ]
  },
  {
   "cell_type": "code",
   "execution_count": null,
   "metadata": {},
   "outputs": [],
   "source": []
  },
  {
   "cell_type": "markdown",
   "metadata": {},
   "source": [
    "# Data Cleaning & Feature Engineering"
   ]
  },
  {
   "cell_type": "markdown",
   "metadata": {},
   "source": [
    "> I made this section as one since you might go back and forth between these two sections. Organize it in the way that makes sense to you and your work.\n",
    ">\n",
    "> We want to make functions to do this cleaning and feature engineering since we'll repeat this process on our holdout test set.\n"
   ]
  },
  {
   "cell_type": "code",
   "execution_count": 8,
   "metadata": {
    "ExecuteTime": {
     "end_time": "2020-04-23T04:53:26.252890Z",
     "start_time": "2020-04-23T04:53:26.243030Z"
    }
   },
   "outputs": [
    {
     "data": {
      "text/html": [
       "<div>\n",
       "<style scoped>\n",
       "    .dataframe tbody tr th:only-of-type {\n",
       "        vertical-align: middle;\n",
       "    }\n",
       "\n",
       "    .dataframe tbody tr th {\n",
       "        vertical-align: top;\n",
       "    }\n",
       "\n",
       "    .dataframe thead th {\n",
       "        text-align: right;\n",
       "    }\n",
       "</style>\n",
       "<table border=\"1\" class=\"dataframe\">\n",
       "  <thead>\n",
       "    <tr style=\"text-align: right;\">\n",
       "      <th></th>\n",
       "      <th>id</th>\n",
       "      <th>host_id</th>\n",
       "      <th>host_name</th>\n",
       "      <th>latitude</th>\n",
       "      <th>longitude</th>\n",
       "      <th>room_type</th>\n",
       "      <th>minimum_nights</th>\n",
       "      <th>number_of_reviews</th>\n",
       "      <th>last_review</th>\n",
       "      <th>reviews_per_month</th>\n",
       "      <th>calculated_host_listings_count</th>\n",
       "      <th>availability_365</th>\n",
       "    </tr>\n",
       "  </thead>\n",
       "  <tbody>\n",
       "    <tr>\n",
       "      <th>3234</th>\n",
       "      <td>12966504</td>\n",
       "      <td>28709982</td>\n",
       "      <td>Sidiq</td>\n",
       "      <td>40.71827</td>\n",
       "      <td>-73.95494</td>\n",
       "      <td>Entire home/apt</td>\n",
       "      <td>3</td>\n",
       "      <td>51</td>\n",
       "      <td>2019-06-09</td>\n",
       "      <td>1.36</td>\n",
       "      <td>3</td>\n",
       "      <td>71</td>\n",
       "    </tr>\n",
       "    <tr>\n",
       "      <th>30368</th>\n",
       "      <td>30890018</td>\n",
       "      <td>4491717</td>\n",
       "      <td>Goran</td>\n",
       "      <td>40.76132</td>\n",
       "      <td>-73.99443</td>\n",
       "      <td>Private room</td>\n",
       "      <td>3</td>\n",
       "      <td>1</td>\n",
       "      <td>2019-01-01</td>\n",
       "      <td>0.16</td>\n",
       "      <td>1</td>\n",
       "      <td>341</td>\n",
       "    </tr>\n",
       "    <tr>\n",
       "      <th>25504</th>\n",
       "      <td>32919247</td>\n",
       "      <td>247673988</td>\n",
       "      <td>Adrian</td>\n",
       "      <td>40.69872</td>\n",
       "      <td>-73.93461</td>\n",
       "      <td>Private room</td>\n",
       "      <td>1</td>\n",
       "      <td>18</td>\n",
       "      <td>2019-07-02</td>\n",
       "      <td>4.74</td>\n",
       "      <td>2</td>\n",
       "      <td>158</td>\n",
       "    </tr>\n",
       "    <tr>\n",
       "      <th>1245</th>\n",
       "      <td>15160268</td>\n",
       "      <td>345252</td>\n",
       "      <td>Thomas</td>\n",
       "      <td>40.67843</td>\n",
       "      <td>-73.96385</td>\n",
       "      <td>Entire home/apt</td>\n",
       "      <td>5</td>\n",
       "      <td>3</td>\n",
       "      <td>2016-10-21</td>\n",
       "      <td>0.09</td>\n",
       "      <td>3</td>\n",
       "      <td>0</td>\n",
       "    </tr>\n",
       "    <tr>\n",
       "      <th>29474</th>\n",
       "      <td>13694279</td>\n",
       "      <td>42605385</td>\n",
       "      <td>Cameron</td>\n",
       "      <td>40.63627</td>\n",
       "      <td>-73.96514</td>\n",
       "      <td>Entire home/apt</td>\n",
       "      <td>7</td>\n",
       "      <td>0</td>\n",
       "      <td>NaN</td>\n",
       "      <td>NaN</td>\n",
       "      <td>3</td>\n",
       "      <td>0</td>\n",
       "    </tr>\n",
       "  </tbody>\n",
       "</table>\n",
       "</div>"
      ],
      "text/plain": [
       "             id    host_id host_name  latitude  longitude        room_type  \\\n",
       "3234   12966504   28709982     Sidiq  40.71827  -73.95494  Entire home/apt   \n",
       "30368  30890018    4491717     Goran  40.76132  -73.99443     Private room   \n",
       "25504  32919247  247673988    Adrian  40.69872  -73.93461     Private room   \n",
       "1245   15160268     345252    Thomas  40.67843  -73.96385  Entire home/apt   \n",
       "29474  13694279   42605385   Cameron  40.63627  -73.96514  Entire home/apt   \n",
       "\n",
       "       minimum_nights  number_of_reviews last_review  reviews_per_month  \\\n",
       "3234                3                 51  2019-06-09               1.36   \n",
       "30368               3                  1  2019-01-01               0.16   \n",
       "25504               1                 18  2019-07-02               4.74   \n",
       "1245                5                  3  2016-10-21               0.09   \n",
       "29474               7                  0         NaN                NaN   \n",
       "\n",
       "       calculated_host_listings_count  availability_365  \n",
       "3234                                3                71  \n",
       "30368                               1               341  \n",
       "25504                               2               158  \n",
       "1245                                3                 0  \n",
       "29474                               3                 0  "
      ]
     },
     "execution_count": 8,
     "metadata": {},
     "output_type": "execute_result"
    }
   ],
   "source": [
    "X_train.head()"
   ]
  },
  {
   "cell_type": "markdown",
   "metadata": {},
   "source": [
    "## Getting rid of unnecessary features"
   ]
  },
  {
   "cell_type": "code",
   "execution_count": 9,
   "metadata": {
    "ExecuteTime": {
     "end_time": "2020-04-23T04:53:26.256140Z",
     "start_time": "2020-04-23T04:53:26.254164Z"
    }
   },
   "outputs": [],
   "source": [
    "def get_needed_features(my_dataframe):\n",
    "    '''\n",
    "    Only keep the features that are needed (get rid of id)\n",
    "    Return dataframe without id column\n",
    "    '''\n",
    "    return my_dataframe.iloc[:,1:]"
   ]
  },
  {
   "cell_type": "code",
   "execution_count": 10,
   "metadata": {
    "ExecuteTime": {
     "end_time": "2020-04-23T04:53:26.269287Z",
     "start_time": "2020-04-23T04:53:26.257246Z"
    }
   },
   "outputs": [
    {
     "data": {
      "text/html": [
       "<div>\n",
       "<style scoped>\n",
       "    .dataframe tbody tr th:only-of-type {\n",
       "        vertical-align: middle;\n",
       "    }\n",
       "\n",
       "    .dataframe tbody tr th {\n",
       "        vertical-align: top;\n",
       "    }\n",
       "\n",
       "    .dataframe thead th {\n",
       "        text-align: right;\n",
       "    }\n",
       "</style>\n",
       "<table border=\"1\" class=\"dataframe\">\n",
       "  <thead>\n",
       "    <tr style=\"text-align: right;\">\n",
       "      <th></th>\n",
       "      <th>host_id</th>\n",
       "      <th>host_name</th>\n",
       "      <th>latitude</th>\n",
       "      <th>longitude</th>\n",
       "      <th>room_type</th>\n",
       "      <th>minimum_nights</th>\n",
       "      <th>number_of_reviews</th>\n",
       "      <th>last_review</th>\n",
       "      <th>reviews_per_month</th>\n",
       "      <th>calculated_host_listings_count</th>\n",
       "      <th>availability_365</th>\n",
       "    </tr>\n",
       "  </thead>\n",
       "  <tbody>\n",
       "    <tr>\n",
       "      <th>3234</th>\n",
       "      <td>28709982</td>\n",
       "      <td>Sidiq</td>\n",
       "      <td>40.71827</td>\n",
       "      <td>-73.95494</td>\n",
       "      <td>Entire home/apt</td>\n",
       "      <td>3</td>\n",
       "      <td>51</td>\n",
       "      <td>2019-06-09</td>\n",
       "      <td>1.36</td>\n",
       "      <td>3</td>\n",
       "      <td>71</td>\n",
       "    </tr>\n",
       "    <tr>\n",
       "      <th>30368</th>\n",
       "      <td>4491717</td>\n",
       "      <td>Goran</td>\n",
       "      <td>40.76132</td>\n",
       "      <td>-73.99443</td>\n",
       "      <td>Private room</td>\n",
       "      <td>3</td>\n",
       "      <td>1</td>\n",
       "      <td>2019-01-01</td>\n",
       "      <td>0.16</td>\n",
       "      <td>1</td>\n",
       "      <td>341</td>\n",
       "    </tr>\n",
       "    <tr>\n",
       "      <th>25504</th>\n",
       "      <td>247673988</td>\n",
       "      <td>Adrian</td>\n",
       "      <td>40.69872</td>\n",
       "      <td>-73.93461</td>\n",
       "      <td>Private room</td>\n",
       "      <td>1</td>\n",
       "      <td>18</td>\n",
       "      <td>2019-07-02</td>\n",
       "      <td>4.74</td>\n",
       "      <td>2</td>\n",
       "      <td>158</td>\n",
       "    </tr>\n",
       "    <tr>\n",
       "      <th>1245</th>\n",
       "      <td>345252</td>\n",
       "      <td>Thomas</td>\n",
       "      <td>40.67843</td>\n",
       "      <td>-73.96385</td>\n",
       "      <td>Entire home/apt</td>\n",
       "      <td>5</td>\n",
       "      <td>3</td>\n",
       "      <td>2016-10-21</td>\n",
       "      <td>0.09</td>\n",
       "      <td>3</td>\n",
       "      <td>0</td>\n",
       "    </tr>\n",
       "    <tr>\n",
       "      <th>29474</th>\n",
       "      <td>42605385</td>\n",
       "      <td>Cameron</td>\n",
       "      <td>40.63627</td>\n",
       "      <td>-73.96514</td>\n",
       "      <td>Entire home/apt</td>\n",
       "      <td>7</td>\n",
       "      <td>0</td>\n",
       "      <td>NaN</td>\n",
       "      <td>NaN</td>\n",
       "      <td>3</td>\n",
       "      <td>0</td>\n",
       "    </tr>\n",
       "  </tbody>\n",
       "</table>\n",
       "</div>"
      ],
      "text/plain": [
       "         host_id host_name  latitude  longitude        room_type  \\\n",
       "3234    28709982     Sidiq  40.71827  -73.95494  Entire home/apt   \n",
       "30368    4491717     Goran  40.76132  -73.99443     Private room   \n",
       "25504  247673988    Adrian  40.69872  -73.93461     Private room   \n",
       "1245      345252    Thomas  40.67843  -73.96385  Entire home/apt   \n",
       "29474   42605385   Cameron  40.63627  -73.96514  Entire home/apt   \n",
       "\n",
       "       minimum_nights  number_of_reviews last_review  reviews_per_month  \\\n",
       "3234                3                 51  2019-06-09               1.36   \n",
       "30368               3                  1  2019-01-01               0.16   \n",
       "25504               1                 18  2019-07-02               4.74   \n",
       "1245                5                  3  2016-10-21               0.09   \n",
       "29474               7                  0         NaN                NaN   \n",
       "\n",
       "       calculated_host_listings_count  availability_365  \n",
       "3234                                3                71  \n",
       "30368                               1               341  \n",
       "25504                               2               158  \n",
       "1245                                3                 0  \n",
       "29474                               3                 0  "
      ]
     },
     "execution_count": 10,
     "metadata": {},
     "output_type": "execute_result"
    }
   ],
   "source": [
    "X_train_features = get_needed_features(X_train)\n",
    "X_train_features.head()"
   ]
  },
  {
   "cell_type": "code",
   "execution_count": 11,
   "metadata": {
    "ExecuteTime": {
     "end_time": "2020-04-23T04:53:26.274976Z",
     "start_time": "2020-04-23T04:53:26.271239Z"
    }
   },
   "outputs": [
    {
     "data": {
      "text/plain": [
       "(25033, 11)"
      ]
     },
     "execution_count": 11,
     "metadata": {},
     "output_type": "execute_result"
    }
   ],
   "source": [
    "X_train_features.shape"
   ]
  },
  {
   "cell_type": "markdown",
   "metadata": {},
   "source": [
    "## Working with numerical features"
   ]
  },
  {
   "cell_type": "code",
   "execution_count": 12,
   "metadata": {
    "ExecuteTime": {
     "end_time": "2020-04-23T04:53:26.289131Z",
     "start_time": "2020-04-23T04:53:26.276542Z"
    }
   },
   "outputs": [
    {
     "data": {
      "text/html": [
       "<div>\n",
       "<style scoped>\n",
       "    .dataframe tbody tr th:only-of-type {\n",
       "        vertical-align: middle;\n",
       "    }\n",
       "\n",
       "    .dataframe tbody tr th {\n",
       "        vertical-align: top;\n",
       "    }\n",
       "\n",
       "    .dataframe thead th {\n",
       "        text-align: right;\n",
       "    }\n",
       "</style>\n",
       "<table border=\"1\" class=\"dataframe\">\n",
       "  <thead>\n",
       "    <tr style=\"text-align: right;\">\n",
       "      <th></th>\n",
       "      <th>host_id</th>\n",
       "      <th>host_name</th>\n",
       "      <th>latitude</th>\n",
       "      <th>longitude</th>\n",
       "      <th>room_type</th>\n",
       "      <th>minimum_nights</th>\n",
       "      <th>number_of_reviews</th>\n",
       "      <th>last_review</th>\n",
       "      <th>reviews_per_month</th>\n",
       "      <th>calculated_host_listings_count</th>\n",
       "      <th>availability_365</th>\n",
       "    </tr>\n",
       "  </thead>\n",
       "  <tbody>\n",
       "    <tr>\n",
       "      <th>3234</th>\n",
       "      <td>28709982</td>\n",
       "      <td>Sidiq</td>\n",
       "      <td>40.71827</td>\n",
       "      <td>-73.95494</td>\n",
       "      <td>Entire home/apt</td>\n",
       "      <td>3</td>\n",
       "      <td>51</td>\n",
       "      <td>2019-06-09</td>\n",
       "      <td>1.36</td>\n",
       "      <td>3</td>\n",
       "      <td>71</td>\n",
       "    </tr>\n",
       "    <tr>\n",
       "      <th>30368</th>\n",
       "      <td>4491717</td>\n",
       "      <td>Goran</td>\n",
       "      <td>40.76132</td>\n",
       "      <td>-73.99443</td>\n",
       "      <td>Private room</td>\n",
       "      <td>3</td>\n",
       "      <td>1</td>\n",
       "      <td>2019-01-01</td>\n",
       "      <td>0.16</td>\n",
       "      <td>1</td>\n",
       "      <td>341</td>\n",
       "    </tr>\n",
       "    <tr>\n",
       "      <th>25504</th>\n",
       "      <td>247673988</td>\n",
       "      <td>Adrian</td>\n",
       "      <td>40.69872</td>\n",
       "      <td>-73.93461</td>\n",
       "      <td>Private room</td>\n",
       "      <td>1</td>\n",
       "      <td>18</td>\n",
       "      <td>2019-07-02</td>\n",
       "      <td>4.74</td>\n",
       "      <td>2</td>\n",
       "      <td>158</td>\n",
       "    </tr>\n",
       "    <tr>\n",
       "      <th>1245</th>\n",
       "      <td>345252</td>\n",
       "      <td>Thomas</td>\n",
       "      <td>40.67843</td>\n",
       "      <td>-73.96385</td>\n",
       "      <td>Entire home/apt</td>\n",
       "      <td>5</td>\n",
       "      <td>3</td>\n",
       "      <td>2016-10-21</td>\n",
       "      <td>0.09</td>\n",
       "      <td>3</td>\n",
       "      <td>0</td>\n",
       "    </tr>\n",
       "    <tr>\n",
       "      <th>29474</th>\n",
       "      <td>42605385</td>\n",
       "      <td>Cameron</td>\n",
       "      <td>40.63627</td>\n",
       "      <td>-73.96514</td>\n",
       "      <td>Entire home/apt</td>\n",
       "      <td>7</td>\n",
       "      <td>0</td>\n",
       "      <td>NaN</td>\n",
       "      <td>NaN</td>\n",
       "      <td>3</td>\n",
       "      <td>0</td>\n",
       "    </tr>\n",
       "  </tbody>\n",
       "</table>\n",
       "</div>"
      ],
      "text/plain": [
       "         host_id host_name  latitude  longitude        room_type  \\\n",
       "3234    28709982     Sidiq  40.71827  -73.95494  Entire home/apt   \n",
       "30368    4491717     Goran  40.76132  -73.99443     Private room   \n",
       "25504  247673988    Adrian  40.69872  -73.93461     Private room   \n",
       "1245      345252    Thomas  40.67843  -73.96385  Entire home/apt   \n",
       "29474   42605385   Cameron  40.63627  -73.96514  Entire home/apt   \n",
       "\n",
       "       minimum_nights  number_of_reviews last_review  reviews_per_month  \\\n",
       "3234                3                 51  2019-06-09               1.36   \n",
       "30368               3                  1  2019-01-01               0.16   \n",
       "25504               1                 18  2019-07-02               4.74   \n",
       "1245                5                  3  2016-10-21               0.09   \n",
       "29474               7                  0         NaN                NaN   \n",
       "\n",
       "       calculated_host_listings_count  availability_365  \n",
       "3234                                3                71  \n",
       "30368                               1               341  \n",
       "25504                               2               158  \n",
       "1245                                3                 0  \n",
       "29474                               3                 0  "
      ]
     },
     "execution_count": 12,
     "metadata": {},
     "output_type": "execute_result"
    }
   ],
   "source": [
    "X_train_features.head()"
   ]
  },
  {
   "cell_type": "code",
   "execution_count": 13,
   "metadata": {
    "ExecuteTime": {
     "end_time": "2020-04-23T04:53:26.294360Z",
     "start_time": "2020-04-23T04:53:26.290609Z"
    }
   },
   "outputs": [
    {
     "data": {
      "text/plain": [
       "Index(['host_id', 'host_name', 'latitude', 'longitude', 'room_type',\n",
       "       'minimum_nights', 'number_of_reviews', 'last_review',\n",
       "       'reviews_per_month', 'calculated_host_listings_count',\n",
       "       'availability_365'],\n",
       "      dtype='object')"
      ]
     },
     "execution_count": 13,
     "metadata": {},
     "output_type": "execute_result"
    }
   ],
   "source": [
    "X_train_features.columns"
   ]
  },
  {
   "cell_type": "code",
   "execution_count": 14,
   "metadata": {
    "ExecuteTime": {
     "end_time": "2020-04-23T04:53:26.299173Z",
     "start_time": "2020-04-23T04:53:26.296085Z"
    }
   },
   "outputs": [],
   "source": [
    "def get_numerical_features(my_dataframe):\n",
    "    '''\n",
    "    Return dataframe with only numerical features.\n",
    "    '''\n",
    "    columns_to_keep = ['host_id', 'latitude', 'longitude',\n",
    "       'minimum_nights', 'number_of_reviews', \n",
    "       'reviews_per_month', 'calculated_host_listings_count',\n",
    "       'availability_365'\n",
    "    ]\n",
    "    return my_dataframe[columns_to_keep]"
   ]
  },
  {
   "cell_type": "code",
   "execution_count": 15,
   "metadata": {
    "ExecuteTime": {
     "end_time": "2020-04-23T04:53:26.311844Z",
     "start_time": "2020-04-23T04:53:26.300555Z"
    }
   },
   "outputs": [
    {
     "data": {
      "text/html": [
       "<div>\n",
       "<style scoped>\n",
       "    .dataframe tbody tr th:only-of-type {\n",
       "        vertical-align: middle;\n",
       "    }\n",
       "\n",
       "    .dataframe tbody tr th {\n",
       "        vertical-align: top;\n",
       "    }\n",
       "\n",
       "    .dataframe thead th {\n",
       "        text-align: right;\n",
       "    }\n",
       "</style>\n",
       "<table border=\"1\" class=\"dataframe\">\n",
       "  <thead>\n",
       "    <tr style=\"text-align: right;\">\n",
       "      <th></th>\n",
       "      <th>host_id</th>\n",
       "      <th>latitude</th>\n",
       "      <th>longitude</th>\n",
       "      <th>minimum_nights</th>\n",
       "      <th>number_of_reviews</th>\n",
       "      <th>reviews_per_month</th>\n",
       "      <th>calculated_host_listings_count</th>\n",
       "      <th>availability_365</th>\n",
       "    </tr>\n",
       "  </thead>\n",
       "  <tbody>\n",
       "    <tr>\n",
       "      <th>3234</th>\n",
       "      <td>28709982</td>\n",
       "      <td>40.71827</td>\n",
       "      <td>-73.95494</td>\n",
       "      <td>3</td>\n",
       "      <td>51</td>\n",
       "      <td>1.36</td>\n",
       "      <td>3</td>\n",
       "      <td>71</td>\n",
       "    </tr>\n",
       "    <tr>\n",
       "      <th>30368</th>\n",
       "      <td>4491717</td>\n",
       "      <td>40.76132</td>\n",
       "      <td>-73.99443</td>\n",
       "      <td>3</td>\n",
       "      <td>1</td>\n",
       "      <td>0.16</td>\n",
       "      <td>1</td>\n",
       "      <td>341</td>\n",
       "    </tr>\n",
       "    <tr>\n",
       "      <th>25504</th>\n",
       "      <td>247673988</td>\n",
       "      <td>40.69872</td>\n",
       "      <td>-73.93461</td>\n",
       "      <td>1</td>\n",
       "      <td>18</td>\n",
       "      <td>4.74</td>\n",
       "      <td>2</td>\n",
       "      <td>158</td>\n",
       "    </tr>\n",
       "    <tr>\n",
       "      <th>1245</th>\n",
       "      <td>345252</td>\n",
       "      <td>40.67843</td>\n",
       "      <td>-73.96385</td>\n",
       "      <td>5</td>\n",
       "      <td>3</td>\n",
       "      <td>0.09</td>\n",
       "      <td>3</td>\n",
       "      <td>0</td>\n",
       "    </tr>\n",
       "    <tr>\n",
       "      <th>29474</th>\n",
       "      <td>42605385</td>\n",
       "      <td>40.63627</td>\n",
       "      <td>-73.96514</td>\n",
       "      <td>7</td>\n",
       "      <td>0</td>\n",
       "      <td>NaN</td>\n",
       "      <td>3</td>\n",
       "      <td>0</td>\n",
       "    </tr>\n",
       "  </tbody>\n",
       "</table>\n",
       "</div>"
      ],
      "text/plain": [
       "         host_id  latitude  longitude  minimum_nights  number_of_reviews  \\\n",
       "3234    28709982  40.71827  -73.95494               3                 51   \n",
       "30368    4491717  40.76132  -73.99443               3                  1   \n",
       "25504  247673988  40.69872  -73.93461               1                 18   \n",
       "1245      345252  40.67843  -73.96385               5                  3   \n",
       "29474   42605385  40.63627  -73.96514               7                  0   \n",
       "\n",
       "       reviews_per_month  calculated_host_listings_count  availability_365  \n",
       "3234                1.36                               3                71  \n",
       "30368               0.16                               1               341  \n",
       "25504               4.74                               2               158  \n",
       "1245                0.09                               3                 0  \n",
       "29474                NaN                               3                 0  "
      ]
     },
     "execution_count": 15,
     "metadata": {},
     "output_type": "execute_result"
    }
   ],
   "source": [
    "X_train_numerics = get_numerical_features(X_train_features)\n",
    "X_train_numerics.head()"
   ]
  },
  {
   "cell_type": "markdown",
   "metadata": {},
   "source": [
    "## Dealing with missing values"
   ]
  },
  {
   "cell_type": "code",
   "execution_count": 16,
   "metadata": {
    "ExecuteTime": {
     "end_time": "2020-04-23T04:53:26.315438Z",
     "start_time": "2020-04-23T04:53:26.312914Z"
    }
   },
   "outputs": [],
   "source": [
    "def fill_null_values(my_dataframe, train_dataframe):\n",
    "    '''\n",
    "    '''\n",
    "    # Find the medians for each column\n",
    "    values_to_fills = {\n",
    "        col: train_dataframe[col].median()\n",
    "        for col in train_dataframe.columns\n",
    "    }\n",
    "    \n",
    "    # Fill with the medians\n",
    "    return my_dataframe.fillna(values_to_fills)"
   ]
  },
  {
   "cell_type": "code",
   "execution_count": 17,
   "metadata": {
    "ExecuteTime": {
     "end_time": "2020-04-23T04:53:26.332245Z",
     "start_time": "2020-04-23T04:53:26.317137Z"
    }
   },
   "outputs": [
    {
     "data": {
      "text/html": [
       "<div>\n",
       "<style scoped>\n",
       "    .dataframe tbody tr th:only-of-type {\n",
       "        vertical-align: middle;\n",
       "    }\n",
       "\n",
       "    .dataframe tbody tr th {\n",
       "        vertical-align: top;\n",
       "    }\n",
       "\n",
       "    .dataframe thead th {\n",
       "        text-align: right;\n",
       "    }\n",
       "</style>\n",
       "<table border=\"1\" class=\"dataframe\">\n",
       "  <thead>\n",
       "    <tr style=\"text-align: right;\">\n",
       "      <th></th>\n",
       "      <th>host_id</th>\n",
       "      <th>latitude</th>\n",
       "      <th>longitude</th>\n",
       "      <th>minimum_nights</th>\n",
       "      <th>number_of_reviews</th>\n",
       "      <th>reviews_per_month</th>\n",
       "      <th>calculated_host_listings_count</th>\n",
       "      <th>availability_365</th>\n",
       "    </tr>\n",
       "  </thead>\n",
       "  <tbody>\n",
       "    <tr>\n",
       "      <th>3234</th>\n",
       "      <td>28709982</td>\n",
       "      <td>40.71827</td>\n",
       "      <td>-73.95494</td>\n",
       "      <td>3</td>\n",
       "      <td>51</td>\n",
       "      <td>1.36</td>\n",
       "      <td>3</td>\n",
       "      <td>71</td>\n",
       "    </tr>\n",
       "    <tr>\n",
       "      <th>30368</th>\n",
       "      <td>4491717</td>\n",
       "      <td>40.76132</td>\n",
       "      <td>-73.99443</td>\n",
       "      <td>3</td>\n",
       "      <td>1</td>\n",
       "      <td>0.16</td>\n",
       "      <td>1</td>\n",
       "      <td>341</td>\n",
       "    </tr>\n",
       "    <tr>\n",
       "      <th>25504</th>\n",
       "      <td>247673988</td>\n",
       "      <td>40.69872</td>\n",
       "      <td>-73.93461</td>\n",
       "      <td>1</td>\n",
       "      <td>18</td>\n",
       "      <td>4.74</td>\n",
       "      <td>2</td>\n",
       "      <td>158</td>\n",
       "    </tr>\n",
       "    <tr>\n",
       "      <th>1245</th>\n",
       "      <td>345252</td>\n",
       "      <td>40.67843</td>\n",
       "      <td>-73.96385</td>\n",
       "      <td>5</td>\n",
       "      <td>3</td>\n",
       "      <td>0.09</td>\n",
       "      <td>3</td>\n",
       "      <td>0</td>\n",
       "    </tr>\n",
       "    <tr>\n",
       "      <th>29474</th>\n",
       "      <td>42605385</td>\n",
       "      <td>40.63627</td>\n",
       "      <td>-73.96514</td>\n",
       "      <td>7</td>\n",
       "      <td>0</td>\n",
       "      <td>0.73</td>\n",
       "      <td>3</td>\n",
       "      <td>0</td>\n",
       "    </tr>\n",
       "  </tbody>\n",
       "</table>\n",
       "</div>"
      ],
      "text/plain": [
       "         host_id  latitude  longitude  minimum_nights  number_of_reviews  \\\n",
       "3234    28709982  40.71827  -73.95494               3                 51   \n",
       "30368    4491717  40.76132  -73.99443               3                  1   \n",
       "25504  247673988  40.69872  -73.93461               1                 18   \n",
       "1245      345252  40.67843  -73.96385               5                  3   \n",
       "29474   42605385  40.63627  -73.96514               7                  0   \n",
       "\n",
       "       reviews_per_month  calculated_host_listings_count  availability_365  \n",
       "3234                1.36                               3                71  \n",
       "30368               0.16                               1               341  \n",
       "25504               4.74                               2               158  \n",
       "1245                0.09                               3                 0  \n",
       "29474               0.73                               3                 0  "
      ]
     },
     "execution_count": 17,
     "metadata": {},
     "output_type": "execute_result"
    }
   ],
   "source": [
    "X_train_numerics_filled = fill_null_values(X_train_numerics, X_train_numerics)\n",
    "X_train_numerics_filled.head()"
   ]
  },
  {
   "cell_type": "code",
   "execution_count": 18,
   "metadata": {
    "ExecuteTime": {
     "end_time": "2020-04-23T04:53:26.342786Z",
     "start_time": "2020-04-23T04:53:26.333342Z"
    }
   },
   "outputs": [
    {
     "name": "stdout",
     "output_type": "stream",
     "text": [
      "<class 'pandas.core.frame.DataFrame'>\n",
      "Int64Index: 25033 entries, 3234 to 5139\n",
      "Data columns (total 8 columns):\n",
      "host_id                           25033 non-null int64\n",
      "latitude                          25033 non-null float64\n",
      "longitude                         25033 non-null float64\n",
      "minimum_nights                    25033 non-null int64\n",
      "number_of_reviews                 25033 non-null int64\n",
      "reviews_per_month                 25033 non-null float64\n",
      "calculated_host_listings_count    25033 non-null int64\n",
      "availability_365                  25033 non-null int64\n",
      "dtypes: float64(3), int64(5)\n",
      "memory usage: 1.7 MB\n"
     ]
    }
   ],
   "source": [
    "X_train_numerics_filled.info()"
   ]
  },
  {
   "cell_type": "markdown",
   "metadata": {
    "heading_collapsed": true
   },
   "source": [
    "## Working with categorical features"
   ]
  },
  {
   "cell_type": "markdown",
   "metadata": {},
   "source": [
    "## Finalizing your features (and labels)"
   ]
  },
  {
   "cell_type": "code",
   "execution_count": 19,
   "metadata": {
    "ExecuteTime": {
     "end_time": "2020-04-23T04:53:26.347005Z",
     "start_time": "2020-04-23T04:53:26.344186Z"
    }
   },
   "outputs": [],
   "source": [
    "# Note that labels was fixed to be `y_train` instead of `y`\n",
    "\n",
    "features = X_train_numerics_filled \n",
    "labels = y_train"
   ]
  },
  {
   "cell_type": "markdown",
   "metadata": {},
   "source": [
    "# Model the Data"
   ]
  },
  {
   "cell_type": "markdown",
   "metadata": {},
   "source": [
    "> Now we'll want to train our model with our features. You'll likely do this multiple times, iterating after evaluating the model. But be sure to document your work ([save your model!](#Note-to-Save-Your-Models!))"
   ]
  },
  {
   "cell_type": "code",
   "execution_count": 20,
   "metadata": {
    "ExecuteTime": {
     "end_time": "2020-04-23T04:53:26.407742Z",
     "start_time": "2020-04-23T04:53:26.348698Z"
    }
   },
   "outputs": [
    {
     "data": {
      "text/plain": [
       "LinearRegression(copy_X=True, fit_intercept=True, n_jobs=None, normalize=False)"
      ]
     },
     "execution_count": 20,
     "metadata": {},
     "output_type": "execute_result"
    }
   ],
   "source": [
    "from sklearn.linear_model import LinearRegression\n",
    "\n",
    "#TODO\n",
    "# Note you can add more parameters to sklearn's LinearRegression function\n",
    "my_model = LinearRegression()\n",
    "my_model.fit(features, labels)"
   ]
  },
  {
   "cell_type": "markdown",
   "metadata": {},
   "source": [
    "# Evaluate the Model"
   ]
  },
  {
   "cell_type": "markdown",
   "metadata": {
    "ExecuteTime": {
     "end_time": "2020-04-15T21:27:44.128585Z",
     "start_time": "2020-04-15T21:27:44.115512Z"
    }
   },
   "source": [
    "## It's good to observe the model's coefficients & intercepts"
   ]
  },
  {
   "cell_type": "code",
   "execution_count": 21,
   "metadata": {
    "ExecuteTime": {
     "end_time": "2020-04-23T04:53:26.413592Z",
     "start_time": "2020-04-23T04:53:26.409033Z"
    }
   },
   "outputs": [
    {
     "data": {
      "text/plain": [
       "array([-1.65975730e-09,  2.01567264e+02, -8.36323316e+02, -1.15706674e-01,\n",
       "       -2.81342865e-01,  8.39163925e-01,  1.17020756e-01,  1.69508644e-01])"
      ]
     },
     "metadata": {},
     "output_type": "display_data"
    },
    {
     "data": {
      "text/plain": [
       "-69920.87652891035"
      ]
     },
     "metadata": {},
     "output_type": "display_data"
    }
   ],
   "source": [
    "display(my_model.coef_)\n",
    "display(my_model.intercept_)"
   ]
  },
  {
   "cell_type": "code",
   "execution_count": 22,
   "metadata": {
    "ExecuteTime": {
     "end_time": "2020-04-23T04:53:26.418328Z",
     "start_time": "2020-04-23T04:53:26.414805Z"
    }
   },
   "outputs": [
    {
     "data": {
      "text/plain": [
       "array([[-1.65975730e-09],\n",
       "       [ 2.01567264e+02],\n",
       "       [-8.36323316e+02],\n",
       "       [-1.15706674e-01],\n",
       "       [-2.81342865e-01],\n",
       "       [ 8.39163925e-01],\n",
       "       [ 1.17020756e-01],\n",
       "       [ 1.69508644e-01]])"
      ]
     },
     "execution_count": 22,
     "metadata": {},
     "output_type": "execute_result"
    }
   ],
   "source": [
    "my_model.coef_.reshape(-1,1)"
   ]
  },
  {
   "cell_type": "code",
   "execution_count": 23,
   "metadata": {
    "ExecuteTime": {
     "end_time": "2020-04-23T04:53:26.434049Z",
     "start_time": "2020-04-23T04:53:26.421552Z"
    }
   },
   "outputs": [
    {
     "data": {
      "text/html": [
       "<div>\n",
       "<style scoped>\n",
       "    .dataframe tbody tr th:only-of-type {\n",
       "        vertical-align: middle;\n",
       "    }\n",
       "\n",
       "    .dataframe tbody tr th {\n",
       "        vertical-align: top;\n",
       "    }\n",
       "\n",
       "    .dataframe thead th {\n",
       "        text-align: right;\n",
       "    }\n",
       "</style>\n",
       "<table border=\"1\" class=\"dataframe\">\n",
       "  <thead>\n",
       "    <tr style=\"text-align: right;\">\n",
       "      <th></th>\n",
       "      <th>host_id</th>\n",
       "      <th>latitude</th>\n",
       "      <th>longitude</th>\n",
       "      <th>minimum_nights</th>\n",
       "      <th>number_of_reviews</th>\n",
       "      <th>reviews_per_month</th>\n",
       "      <th>calculated_host_listings_count</th>\n",
       "      <th>availability_365</th>\n",
       "    </tr>\n",
       "  </thead>\n",
       "  <tbody>\n",
       "    <tr>\n",
       "      <th>0</th>\n",
       "      <td>-1.659757e-09</td>\n",
       "      <td>201.567264</td>\n",
       "      <td>-836.323316</td>\n",
       "      <td>-0.115707</td>\n",
       "      <td>-0.281343</td>\n",
       "      <td>0.839164</td>\n",
       "      <td>0.117021</td>\n",
       "      <td>0.169509</td>\n",
       "    </tr>\n",
       "  </tbody>\n",
       "</table>\n",
       "</div>"
      ],
      "text/plain": [
       "        host_id    latitude   longitude  minimum_nights  number_of_reviews  \\\n",
       "0 -1.659757e-09  201.567264 -836.323316       -0.115707          -0.281343   \n",
       "\n",
       "   reviews_per_month  calculated_host_listings_count  availability_365  \n",
       "0           0.839164                        0.117021          0.169509  "
      ]
     },
     "execution_count": 23,
     "metadata": {},
     "output_type": "execute_result"
    }
   ],
   "source": [
    "pd.DataFrame(data=my_model.coef_.reshape(1,-1), columns= features.columns)"
   ]
  },
  {
   "cell_type": "markdown",
   "metadata": {},
   "source": [
    "## We would likely want to see how features do in making predictions (p-value)"
   ]
  },
  {
   "cell_type": "markdown",
   "metadata": {},
   "source": [
    "If you haven't already, you likely want to check this out here"
   ]
  },
  {
   "cell_type": "markdown",
   "metadata": {
    "ExecuteTime": {
     "end_time": "2020-04-15T21:22:29.359880Z",
     "start_time": "2020-04-15T21:22:29.351407Z"
    }
   },
   "source": [
    "## Observe how well the model makes predictions"
   ]
  },
  {
   "cell_type": "markdown",
   "metadata": {},
   "source": [
    "### k-fold validation"
   ]
  },
  {
   "cell_type": "markdown",
   "metadata": {},
   "source": [
    "> We use k-fold validation to see how well our model did using just the \"training set\". This effectively creates a new train-validation set for each fold. We can use the RMSE to compare different models or different variations of our models."
   ]
  },
  {
   "cell_type": "code",
   "execution_count": 24,
   "metadata": {
    "ExecuteTime": {
     "end_time": "2020-04-23T04:53:26.492722Z",
     "start_time": "2020-04-23T04:53:26.436559Z"
    }
   },
   "outputs": [],
   "source": [
    "from sklearn.model_selection import cross_val_score\n",
    "\n",
    "scores = cross_val_score(\n",
    "            my_model, \n",
    "            features,\n",
    "            labels,\n",
    "            cv=10,\n",
    "            scoring=\"neg_mean_squared_error\"\n",
    ")\n",
    "\n",
    "rmse_scores = np.sqrt(-scores)"
   ]
  },
  {
   "cell_type": "code",
   "execution_count": 25,
   "metadata": {
    "ExecuteTime": {
     "end_time": "2020-04-23T04:53:26.500112Z",
     "start_time": "2020-04-23T04:53:26.494068Z"
    }
   },
   "outputs": [
    {
     "data": {
      "text/plain": [
       "array([245.68164083, 164.68542644, 149.25300802, 256.21442749,\n",
       "       213.53521635, 214.05761781, 246.5168134 , 145.7074894 ,\n",
       "       185.62192175, 231.27117105])"
      ]
     },
     "metadata": {},
     "output_type": "display_data"
    },
    {
     "data": {
      "text/plain": [
       "205.25447325402484"
      ]
     },
     "metadata": {},
     "output_type": "display_data"
    },
    {
     "data": {
      "text/plain": [
       "39.33202281444648"
      ]
     },
     "metadata": {},
     "output_type": "display_data"
    }
   ],
   "source": [
    "display(rmse_scores)\n",
    "display(rmse_scores.mean())\n",
    "display(rmse_scores.std())"
   ]
  },
  {
   "cell_type": "code",
   "execution_count": 26,
   "metadata": {
    "ExecuteTime": {
     "end_time": "2020-04-23T04:53:26.505913Z",
     "start_time": "2020-04-23T04:53:26.501519Z"
    }
   },
   "outputs": [
    {
     "data": {
      "text/plain": [
       "221.57976023847343"
      ]
     },
     "execution_count": 26,
     "metadata": {},
     "output_type": "execute_result"
    }
   ],
   "source": [
    "y.std()"
   ]
  },
  {
   "cell_type": "markdown",
   "metadata": {},
   "source": [
    "## If we're satisfied with our model, we can observe how it does with the holdout test set"
   ]
  },
  {
   "cell_type": "code",
   "execution_count": 27,
   "metadata": {
    "ExecuteTime": {
     "end_time": "2020-04-23T04:53:26.518193Z",
     "start_time": "2020-04-23T04:53:26.507255Z"
    }
   },
   "outputs": [],
   "source": [
    "# Note `get_numerical_features` was corrected from the lecture\n",
    "X_test_final = fill_null_values(\n",
    "    get_numerical_features(\n",
    "        get_needed_features(X_test)\n",
    "    ),\n",
    "    X_train_numerics\n",
    ")"
   ]
  },
  {
   "cell_type": "code",
   "execution_count": 28,
   "metadata": {
    "ExecuteTime": {
     "end_time": "2020-04-23T04:53:26.524281Z",
     "start_time": "2020-04-23T04:53:26.520092Z"
    }
   },
   "outputs": [
    {
     "data": {
      "text/plain": [
       "(6259, 8)"
      ]
     },
     "execution_count": 28,
     "metadata": {},
     "output_type": "execute_result"
    }
   ],
   "source": [
    "X_test_final.shape"
   ]
  },
  {
   "cell_type": "code",
   "execution_count": 29,
   "metadata": {
    "ExecuteTime": {
     "end_time": "2020-04-23T04:53:26.529944Z",
     "start_time": "2020-04-23T04:53:26.525983Z"
    }
   },
   "outputs": [],
   "source": [
    "y_hat = my_model.predict(X_test_final)"
   ]
  },
  {
   "cell_type": "code",
   "execution_count": 30,
   "metadata": {
    "ExecuteTime": {
     "end_time": "2020-04-23T04:53:26.535199Z",
     "start_time": "2020-04-23T04:53:26.531432Z"
    }
   },
   "outputs": [
    {
     "data": {
      "text/plain": [
       "(6259,)"
      ]
     },
     "execution_count": 30,
     "metadata": {},
     "output_type": "execute_result"
    }
   ],
   "source": [
    "y_hat.shape"
   ]
  },
  {
   "cell_type": "code",
   "execution_count": 31,
   "metadata": {
    "ExecuteTime": {
     "end_time": "2020-04-23T04:53:26.545558Z",
     "start_time": "2020-04-23T04:53:26.536618Z"
    }
   },
   "outputs": [
    {
     "data": {
      "text/plain": [
       "284        43.874664\n",
       "7359       52.266646\n",
       "18047      44.238996\n",
       "21941    -114.372526\n",
       "23692      23.876592\n",
       "29716     103.636466\n",
       "14123      -4.713872\n",
       "12876     -38.744480\n",
       "2453       17.758132\n",
       "20696      -7.274625\n",
       "11132      49.479642\n",
       "7975     -787.908432\n",
       "30169      42.680241\n",
       "1673       14.163846\n",
       "15757      88.214154\n",
       "771        91.401580\n",
       "23416     107.411941\n",
       "3976       69.682340\n",
       "1644      -69.317970\n",
       "21084    -307.213794\n",
       "6652       90.313773\n",
       "30686       7.417501\n",
       "5582       48.196828\n",
       "20355      72.511921\n",
       "22749      44.132938\n",
       "16983     118.620064\n",
       "18235    -223.424007\n",
       "10448      77.762041\n",
       "19729   -1037.139341\n",
       "23368     -55.263771\n",
       "            ...     \n",
       "21187      66.699947\n",
       "4063       22.868480\n",
       "632         9.296737\n",
       "14701      26.804031\n",
       "19918      58.250131\n",
       "16944      45.306812\n",
       "20076      62.250769\n",
       "5260       19.006018\n",
       "2957        5.368165\n",
       "26880     -51.418459\n",
       "8102       51.366337\n",
       "21049     -93.861309\n",
       "10576     -63.035784\n",
       "5860       62.409204\n",
       "29289      -1.364419\n",
       "161        79.224081\n",
       "12387     -21.245868\n",
       "25247      84.508162\n",
       "13854      31.159527\n",
       "25180     -55.647334\n",
       "24176       9.471181\n",
       "21977      29.819437\n",
       "17049      79.429783\n",
       "15566      69.825891\n",
       "27621     -68.273311\n",
       "10092      25.203929\n",
       "16040     -65.203397\n",
       "12566    -315.821255\n",
       "5262       62.877453\n",
       "11497      62.113877\n",
       "Name: price, Length: 6259, dtype: float64"
      ]
     },
     "execution_count": 31,
     "metadata": {},
     "output_type": "execute_result"
    }
   ],
   "source": [
    "#TODO:\n",
    "resid = y_hat - y_test\n",
    "resid"
   ]
  },
  {
   "cell_type": "markdown",
   "metadata": {},
   "source": [
    "# Note to Save Your Models!"
   ]
  },
  {
   "cell_type": "markdown",
   "metadata": {},
   "source": [
    "<img src='images/save_the_models.png' height=60%/>"
   ]
  },
  {
   "cell_type": "markdown",
   "metadata": {},
   "source": [
    "## `pickle`"
   ]
  },
  {
   "cell_type": "code",
   "execution_count": 32,
   "metadata": {
    "ExecuteTime": {
     "end_time": "2020-04-23T04:53:26.550737Z",
     "start_time": "2020-04-23T04:53:26.547246Z"
    }
   },
   "outputs": [],
   "source": [
    "import pickle\n",
    "\n",
    "pickle.dump(my_model, open('my_model_simple_sol.pkl','wb'))"
   ]
  },
  {
   "cell_type": "code",
   "execution_count": 33,
   "metadata": {
    "ExecuteTime": {
     "end_time": "2020-04-23T04:53:26.555902Z",
     "start_time": "2020-04-23T04:53:26.552976Z"
    }
   },
   "outputs": [],
   "source": [
    "# Load the model from earlier\n",
    "model_loaded = pickle.load(open('my_model_pickle.pkl','rb'))"
   ]
  },
  {
   "cell_type": "code",
   "execution_count": 34,
   "metadata": {
    "ExecuteTime": {
     "end_time": "2020-04-23T04:53:26.561419Z",
     "start_time": "2020-04-23T04:53:26.557412Z"
    }
   },
   "outputs": [
    {
     "data": {
      "text/plain": [
       "LinearRegression(copy_X=True, fit_intercept=True, n_jobs=None, normalize=False)"
      ]
     },
     "execution_count": 34,
     "metadata": {},
     "output_type": "execute_result"
    }
   ],
   "source": [
    "model_loaded"
   ]
  },
  {
   "cell_type": "markdown",
   "metadata": {},
   "source": [
    "## `joblib`"
   ]
  },
  {
   "cell_type": "code",
   "execution_count": 35,
   "metadata": {
    "ExecuteTime": {
     "end_time": "2020-04-23T04:53:26.567404Z",
     "start_time": "2020-04-23T04:53:26.562877Z"
    }
   },
   "outputs": [
    {
     "data": {
      "text/plain": [
       "['my_model.pkl']"
      ]
     },
     "execution_count": 35,
     "metadata": {},
     "output_type": "execute_result"
    }
   ],
   "source": [
    "import joblib\n",
    "\n",
    "joblib.dump(my_model, \"my_model.pkl\")"
   ]
  },
  {
   "cell_type": "code",
   "execution_count": 36,
   "metadata": {
    "ExecuteTime": {
     "end_time": "2020-04-23T04:53:26.571823Z",
     "start_time": "2020-04-23T04:53:26.568654Z"
    }
   },
   "outputs": [],
   "source": [
    "# Load the model from earlier\n",
    "my_model_loaded = joblib.load(\"my_model.pkl\")"
   ]
  }
 ],
 "metadata": {
  "kernelspec": {
   "display_name": "Python 3",
   "language": "python",
   "name": "python3"
  },
  "language_info": {
   "codemirror_mode": {
    "name": "ipython",
    "version": 3
   },
   "file_extension": ".py",
   "mimetype": "text/x-python",
   "name": "python",
   "nbconvert_exporter": "python",
   "pygments_lexer": "ipython3",
   "version": "3.6.6"
  },
  "toc": {
   "base_numbering": 1,
   "nav_menu": {},
   "number_sections": true,
   "sideBar": false,
   "skip_h1_title": false,
   "title_cell": "Table of Contents",
   "title_sidebar": "Contents",
   "toc_cell": true,
   "toc_position": {},
   "toc_section_display": true,
   "toc_window_display": false
  },
  "varInspector": {
   "cols": {
    "lenName": 16,
    "lenType": 16,
    "lenVar": 40
   },
   "kernels_config": {
    "python": {
     "delete_cmd_postfix": "",
     "delete_cmd_prefix": "del ",
     "library": "var_list.py",
     "varRefreshCmd": "print(var_dic_list())"
    },
    "r": {
     "delete_cmd_postfix": ") ",
     "delete_cmd_prefix": "rm(",
     "library": "var_list.r",
     "varRefreshCmd": "cat(var_dic_list()) "
    }
   },
   "types_to_exclude": [
    "module",
    "function",
    "builtin_function_or_method",
    "instance",
    "_Feature"
   ],
   "window_display": false
  }
 },
 "nbformat": 4,
 "nbformat_minor": 2
}

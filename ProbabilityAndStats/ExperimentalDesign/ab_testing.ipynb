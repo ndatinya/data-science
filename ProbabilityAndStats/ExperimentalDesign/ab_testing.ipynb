{
 "cells": [
  {
   "cell_type": "markdown",
   "metadata": {
    "toc": true
   },
   "source": [
    "<h1>Table of Contents<span class=\"tocSkip\"></span></h1>\n",
    "<div class=\"toc\"><ul class=\"toc-item\"><li><span><a href=\"#A/B-Tests\" data-toc-modified-id=\"A/B-Tests-1\"><span class=\"toc-item-num\">1&nbsp;&nbsp;</span>A/B Tests</a></span><ul class=\"toc-item\"><li><span><a href=\"#Q:-When-you-shouldn't-use-it?-(Or-at-least-when-to-tread-lightly)\" data-toc-modified-id=\"Q:-When-you-shouldn't-use-it?-(Or-at-least-when-to-tread-lightly)-1.1\"><span class=\"toc-item-num\">1.1&nbsp;&nbsp;</span>Q: When you shouldn't use it? (Or at least when to tread lightly)</a></span><ul class=\"toc-item\"><li><span><a href=\"#Novelty-Effect\" data-toc-modified-id=\"Novelty-Effect-1.1.1\"><span class=\"toc-item-num\">1.1.1&nbsp;&nbsp;</span>Novelty Effect</a></span></li><li><span><a href=\"#Change-Aversion\" data-toc-modified-id=\"Change-Aversion-1.1.2\"><span class=\"toc-item-num\">1.1.2&nbsp;&nbsp;</span>Change Aversion</a></span></li><li><span><a href=\"#How-do-we-avoid-these?\" data-toc-modified-id=\"How-do-we-avoid-these?-1.1.3\"><span class=\"toc-item-num\">1.1.3&nbsp;&nbsp;</span>How do we avoid these?</a></span></li></ul></li></ul></li><li><span><a href=\"#A-Scenario\" data-toc-modified-id=\"A-Scenario-2\"><span class=\"toc-item-num\">2&nbsp;&nbsp;</span>A Scenario</a></span></li><li><span><a href=\"#Multiple-Comparisons\" data-toc-modified-id=\"Multiple-Comparisons-3\"><span class=\"toc-item-num\">3&nbsp;&nbsp;</span>Multiple Comparisons</a></span><ul class=\"toc-item\"><li><span><a href=\"#Q:-What-are-the-issues-here?\" data-toc-modified-id=\"Q:-What-are-the-issues-here?-3.1\"><span class=\"toc-item-num\">3.1&nbsp;&nbsp;</span>Q: What are the issues here?</a></span></li><li><span><a href=\"#Bonferroni-Correction\" data-toc-modified-id=\"Bonferroni-Correction-3.2\"><span class=\"toc-item-num\">3.2&nbsp;&nbsp;</span>Bonferroni Correction</a></span><ul class=\"toc-item\"><li><span><a href=\"#But...\" data-toc-modified-id=\"But...-3.2.1\"><span class=\"toc-item-num\">3.2.1&nbsp;&nbsp;</span>But...</a></span></li></ul></li><li><span><a href=\"#Holm–Bonferroni-Method\" data-toc-modified-id=\"Holm–Bonferroni-Method-3.3\"><span class=\"toc-item-num\">3.3&nbsp;&nbsp;</span>Holm–Bonferroni Method</a></span><ul class=\"toc-item\"><li><span><a href=\"#Steps\" data-toc-modified-id=\"Steps-3.3.1\"><span class=\"toc-item-num\">3.3.1&nbsp;&nbsp;</span>Steps</a></span></li><li><span><a href=\"#Why-do-this?\" data-toc-modified-id=\"Why-do-this?-3.3.2\"><span class=\"toc-item-num\">3.3.2&nbsp;&nbsp;</span>Why do this?</a></span></li><li><span><a href=\"#Code\" data-toc-modified-id=\"Code-3.3.3\"><span class=\"toc-item-num\">3.3.3&nbsp;&nbsp;</span>Code</a></span></li></ul></li></ul></li></ul></div>"
   ]
  },
  {
   "cell_type": "markdown",
   "metadata": {
    "heading_collapsed": true
   },
   "source": [
    "# A/B Tests"
   ]
  },
  {
   "cell_type": "markdown",
   "metadata": {
    "hidden": true
   },
   "source": [
    "Essentially hypothesis testing (but it sounds cool, right? 😎)"
   ]
  },
  {
   "cell_type": "markdown",
   "metadata": {
    "hidden": true
   },
   "source": [
    "Give ex: (new website layout increases bookings from site)"
   ]
  },
  {
   "cell_type": "markdown",
   "metadata": {
    "heading_collapsed": true,
    "hidden": true
   },
   "source": [
    "## Q: When you shouldn't use it? (Or at least when to tread lightly)"
   ]
  },
  {
   "cell_type": "markdown",
   "metadata": {
    "hidden": true
   },
   "source": [
    "A: new feature to old users"
   ]
  },
  {
   "cell_type": "markdown",
   "metadata": {
    "heading_collapsed": true,
    "hidden": true
   },
   "source": [
    "### Novelty Effect"
   ]
  },
  {
   "cell_type": "markdown",
   "metadata": {
    "hidden": true
   },
   "source": [
    "![\"That Hansel's so hot right now\" gif from Zoolander](images/hansel_is_hot.gif)"
   ]
  },
  {
   "cell_type": "markdown",
   "metadata": {
    "hidden": true
   },
   "source": [
    "Related to scenario: Town's been out of soap for 3 weeks, new shipment comes in\n",
    "\n",
    "> \"Wow we sold out of shampoo our first day! Everyday will be like this!\"\n",
    "\n",
    "Nah, everyone who needed it has it now"
   ]
  },
  {
   "cell_type": "markdown",
   "metadata": {
    "heading_collapsed": true,
    "hidden": true
   },
   "source": [
    "### Change Aversion"
   ]
  },
  {
   "cell_type": "markdown",
   "metadata": {
    "hidden": true
   },
   "source": [
    "\"I hate this new find-dangle music!\""
   ]
  },
  {
   "cell_type": "markdown",
   "metadata": {
    "hidden": true
   },
   "source": [
    "![Old man yells at cloud newspaper clipping from the Simpsons TV show](images/old_man_yells_at_cloud.jpg)"
   ]
  },
  {
   "cell_type": "markdown",
   "metadata": {
    "heading_collapsed": true,
    "hidden": true
   },
   "source": [
    "### How do we avoid these?"
   ]
  },
  {
   "cell_type": "markdown",
   "metadata": {
    "hidden": true
   },
   "source": [
    "* We wait for users to \"die\" replaced by new users\n",
    "* Wait for old users to get used to it\n",
    "\n",
    "In other words **time**"
   ]
  },
  {
   "cell_type": "markdown",
   "metadata": {
    "heading_collapsed": true
   },
   "source": [
    "# A Scenario"
   ]
  },
  {
   "cell_type": "markdown",
   "metadata": {
    "hidden": true
   },
   "source": [
    "+ Should we use # of users? → (Click through rate CTR)\n",
    "    - \\# unique clicks at least once  / # unique views\n",
    "    \n",
    "   "
   ]
  },
  {
   "cell_type": "markdown",
   "metadata": {
    "hidden": true
   },
   "source": [
    " \n",
    "> Try bootstrapping sample to account\n",
    ">\n",
    "> Simulate using the data to create a distribution of metrics\n",
    ">\n",
    "> Simulate using the null hypothesis to create distribution (normal curve; variance from distribution of samples)\n",
    "> "
   ]
  },
  {
   "cell_type": "code",
   "execution_count": null,
   "metadata": {
    "ExecuteTime": {
     "end_time": "2019-10-02T16:24:37.539547Z",
     "start_time": "2019-10-02T16:24:37.306219Z"
    },
    "hidden": true,
    "scrolled": false
   },
   "outputs": [],
   "source": [
    "# TODO: Visualize this\n",
    "\n",
    "sim_dist = []\n",
    "#\n",
    "\n",
    "plt.hist(sim_dist) #sim_dist is the simulated sample means from data\n",
    "plt.axvline(x=obs) # measured from data\n",
    "\n",
    "# Null hypothesis\n",
    "null_dist = np.random.normal(0, sim_dist.std(), sim_dist.size)\n",
    "\n",
    "# Find our p-value: by hand - not shown yet\n",
    "(null_dist > obs).mean()"
   ]
  },
  {
   "cell_type": "markdown",
   "metadata": {
    "heading_collapsed": true
   },
   "source": [
    "# Multiple Comparisons"
   ]
  },
  {
   "cell_type": "markdown",
   "metadata": {
    "hidden": true
   },
   "source": [
    "https://en.wikipedia.org/wiki/Multiple_comparisons_problem"
   ]
  },
  {
   "cell_type": "markdown",
   "metadata": {
    "heading_collapsed": true,
    "hidden": true
   },
   "source": [
    "## Q: What are the issues here?"
   ]
  },
  {
   "cell_type": "markdown",
   "metadata": {
    "hidden": true
   },
   "source": [
    "A: More likely to catch false positives (reject when we actually shouldn't! → $H_0$ seems wrong!)\n",
    "\n",
    "What do we do? Move the goal posts!"
   ]
  },
  {
   "cell_type": "markdown",
   "metadata": {
    "heading_collapsed": true,
    "hidden": true
   },
   "source": [
    "## Bonferroni Correction"
   ]
  },
  {
   "cell_type": "markdown",
   "metadata": {
    "hidden": true
   },
   "source": [
    "> https://en.wikipedia.org/wiki/Bonferroni_correction\n",
    "\n",
    "Divide critical value $\\alpha$ by the number of comparisons!\n",
    "\n",
    "The more measurements we make, the weirder we'd expect! (If we do 1,000 coin flips we'd having a string of 6 heads is not uncommon → we need to see more"
   ]
  },
  {
   "cell_type": "markdown",
   "metadata": {
    "heading_collapsed": true,
    "hidden": true
   },
   "source": [
    "### But... "
   ]
  },
  {
   "cell_type": "markdown",
   "metadata": {
    "hidden": true
   },
   "source": [
    "The measurement is very conservative; unlikely to pass a test...\n",
    "\n",
    "So use other tests!"
   ]
  },
  {
   "cell_type": "markdown",
   "metadata": {
    "heading_collapsed": true,
    "hidden": true
   },
   "source": [
    "## Holm–Bonferroni Method"
   ]
  },
  {
   "cell_type": "markdown",
   "metadata": {
    "hidden": true
   },
   "source": [
    "> https://en.wikipedia.org/wiki/Holm%E2%80%93Bonferroni_method\n",
    "\n",
    "\n",
    "p-value must be larger than a modified $\\alpha$"
   ]
  },
  {
   "cell_type": "markdown",
   "metadata": {
    "heading_collapsed": true,
    "hidden": true
   },
   "source": [
    "### Steps"
   ]
  },
  {
   "cell_type": "markdown",
   "metadata": {
    "hidden": true
   },
   "source": [
    "1. Using $m$ comparisons, calculate the p-values (p) for each\n",
    "2. Sort the p from smallest to largest (most significant to least significant) going from 1 to $m$\n",
    "3. Find the smallest $k$ where this holds:\n",
    "$$ p_k > \\frac{\\alpha}{m-k+1}$$\n",
    "4. Only reject hypotheses associated smaller than the index $k$\n",
    "5. Extremes:\n",
    "    - If $k$ is 1 (the first p-value is larger), don't reject anything!\n",
    "    - If $k$ doesn't exist (all p-values are smaller), reject everything!"
   ]
  },
  {
   "cell_type": "markdown",
   "metadata": {
    "heading_collapsed": true,
    "hidden": true
   },
   "source": [
    "### Why do this?"
   ]
  },
  {
   "cell_type": "markdown",
   "metadata": {
    "hidden": true
   },
   "source": [
    "- Uniformly more powerful!\n",
    "- Relatively simple!\n",
    "\n",
    "*Pssst... math people... this is a [closed testing procedure](https://en.wikipedia.org/wiki/Closed_testing_procedure) in statistics*"
   ]
  },
  {
   "cell_type": "markdown",
   "metadata": {
    "heading_collapsed": true,
    "hidden": true
   },
   "source": [
    "### Code"
   ]
  },
  {
   "cell_type": "code",
   "execution_count": null,
   "metadata": {
    "ExecuteTime": {
     "end_time": "2019-10-02T16:24:05.990103Z",
     "start_time": "2019-10-02T16:24:05.927Z"
    },
    "hidden": true
   },
   "outputs": [],
   "source": [
    "# TODO"
   ]
  }
 ],
 "metadata": {
  "kernelspec": {
   "display_name": "Python 3",
   "language": "python",
   "name": "python3"
  },
  "language_info": {
   "codemirror_mode": {
    "name": "ipython",
    "version": 3
   },
   "file_extension": ".py",
   "mimetype": "text/x-python",
   "name": "python",
   "nbconvert_exporter": "python",
   "pygments_lexer": "ipython3",
   "version": "3.6.6"
  },
  "toc": {
   "base_numbering": 1,
   "nav_menu": {},
   "number_sections": true,
   "sideBar": true,
   "skip_h1_title": false,
   "title_cell": "Table of Contents",
   "title_sidebar": "Contents",
   "toc_cell": true,
   "toc_position": {},
   "toc_section_display": true,
   "toc_window_display": true
  },
  "varInspector": {
   "cols": {
    "lenName": 16,
    "lenType": 16,
    "lenVar": 40
   },
   "kernels_config": {
    "python": {
     "delete_cmd_postfix": "",
     "delete_cmd_prefix": "del ",
     "library": "var_list.py",
     "varRefreshCmd": "print(var_dic_list())"
    },
    "r": {
     "delete_cmd_postfix": ") ",
     "delete_cmd_prefix": "rm(",
     "library": "var_list.r",
     "varRefreshCmd": "cat(var_dic_list()) "
    }
   },
   "types_to_exclude": [
    "module",
    "function",
    "builtin_function_or_method",
    "instance",
    "_Feature"
   ],
   "window_display": false
  }
 },
 "nbformat": 4,
 "nbformat_minor": 2
}

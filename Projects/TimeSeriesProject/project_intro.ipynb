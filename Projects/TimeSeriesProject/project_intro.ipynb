{
 "cells": [
  {
   "cell_type": "markdown",
   "metadata": {
    "toc": true
   },
   "source": [
    "<h1>Table of Contents<span class=\"tocSkip\"></span></h1>\n",
    "<div class=\"toc\"><ul class=\"toc-item\"><li><span><a href=\"#Requirements\" data-toc-modified-id=\"Requirements-1\"><span class=\"toc-item-num\">1&nbsp;&nbsp;</span>Requirements</a></span><ul class=\"toc-item\"><li><span><a href=\"#Notebook\" data-toc-modified-id=\"Notebook-1.1\"><span class=\"toc-item-num\">1.1&nbsp;&nbsp;</span>Notebook</a></span></li><li><span><a href=\"#Presentation\" data-toc-modified-id=\"Presentation-1.2\"><span class=\"toc-item-num\">1.2&nbsp;&nbsp;</span>Presentation</a></span><ul class=\"toc-item\"><li><span><a href=\"#Victor's-General-Rules-for-Amazing-Presentations-✨\" data-toc-modified-id=\"Victor's-General-Rules-for-Amazing-Presentations-✨-1.2.1\"><span class=\"toc-item-num\">1.2.1&nbsp;&nbsp;</span>Victor's General Rules for Amazing Presentations ✨</a></span></li></ul></li><li><span><a href=\"#Video\" data-toc-modified-id=\"Video-1.3\"><span class=\"toc-item-num\">1.3&nbsp;&nbsp;</span>Video</a></span></li><li><span><a href=\"#Blog\" data-toc-modified-id=\"Blog-1.4\"><span class=\"toc-item-num\">1.4&nbsp;&nbsp;</span>Blog</a></span></li></ul></li><li><span><a href=\"#Details-About-the-Project\" data-toc-modified-id=\"Details-About-the-Project-2\"><span class=\"toc-item-num\">2&nbsp;&nbsp;</span>Details About the Project</a></span><ul class=\"toc-item\"><li><span><a href=\"#Focus-on-the-business-case\" data-toc-modified-id=\"Focus-on-the-business-case-2.1\"><span class=\"toc-item-num\">2.1&nbsp;&nbsp;</span>Focus on the business case</a></span></li><li><span><a href=\"#Processing-the-data\" data-toc-modified-id=\"Processing-the-data-2.2\"><span class=\"toc-item-num\">2.2&nbsp;&nbsp;</span>Processing the data</a></span></li></ul></li></ul></div>"
   ]
  },
  {
   "cell_type": "markdown",
   "metadata": {},
   "source": [
    "This project will be focused on using doing **time series**"
   ]
  },
  {
   "cell_type": "markdown",
   "metadata": {
    "heading_collapsed": true
   },
   "source": [
    "# Requirements"
   ]
  },
  {
   "cell_type": "markdown",
   "metadata": {
    "hidden": true
   },
   "source": [
    "Turn in via Learn before our 1:1 assessment\n",
    "\n",
    "Remember that you have to have all the elements to pass!"
   ]
  },
  {
   "cell_type": "markdown",
   "metadata": {
    "heading_collapsed": true,
    "hidden": true
   },
   "source": [
    "## Notebook"
   ]
  },
  {
   "cell_type": "markdown",
   "metadata": {
    "hidden": true
   },
   "source": [
    "- Keep the notebook clean & organized\n",
    "    + the starter notebook will help you organize\n",
    "- Narratives are good\n",
    "    + can the reader understand and follow your thought process from top to bottom\n",
    "    + your final product might not be exactly how you approach it\n",
    "- Remember it is much more of a conversation with a data-minded person"
   ]
  },
  {
   "cell_type": "markdown",
   "metadata": {
    "heading_collapsed": true,
    "hidden": true
   },
   "source": [
    "## Presentation"
   ]
  },
  {
   "cell_type": "markdown",
   "metadata": {
    "hidden": true
   },
   "source": [
    "- Keep it about 5 mins \n",
    "    + 8 mins at the high end\n",
    "    + 10 mins max\n",
    "- **You** are the subject of the presentation not the slides\n",
    "    + info from you slides should emphasize your points\n",
    "- Less is more\n",
    "    + don't give too much info: words, too much info w/ visualizations"
   ]
  },
  {
   "cell_type": "markdown",
   "metadata": {
    "heading_collapsed": true,
    "hidden": true
   },
   "source": [
    "### Victor's General Rules for Amazing Presentations ✨"
   ]
  },
  {
   "cell_type": "markdown",
   "metadata": {
    "hidden": true
   },
   "source": [
    "- Each slide contains a single thought/concept\n",
    "    + more slides are fine\n",
    "    + ideally slide introduces or summarizes what you are saying\n",
    "- No more than 3 bullets per slide\n",
    "    + If more, maybe they should be split into multiple slides\n",
    "- Only use sentence fragments\n",
    "    + Sentences tend to get longer with the main topic not being emphasized\n",
    "    + Sentences might make sense for a formal definition\n",
    "- Visuals and pictures\n",
    "    + A visual shouldn't be so complicated (see not using sentences)\n",
    "    + Don't just stick a visual and not talk about it; walk through it\n",
    "    + Pictures can give high density of information"
   ]
  },
  {
   "cell_type": "markdown",
   "metadata": {
    "heading_collapsed": true,
    "hidden": true
   },
   "source": [
    "## Video"
   ]
  },
  {
   "cell_type": "markdown",
   "metadata": {
    "hidden": true
   },
   "source": [
    "Make sure you record this and helps give you more practice!"
   ]
  },
  {
   "cell_type": "markdown",
   "metadata": {
    "heading_collapsed": true,
    "hidden": true
   },
   "source": [
    "## Blog"
   ]
  },
  {
   "cell_type": "markdown",
   "metadata": {
    "hidden": true
   },
   "source": [
    "- Suggestion: Focus on one aspect of the project\n",
    "- Should be technical\n",
    "    + code snippets\n",
    "    + visualizations"
   ]
  },
  {
   "cell_type": "markdown",
   "metadata": {
    "heading_collapsed": true
   },
   "source": [
    "# Details About the Project"
   ]
  },
  {
   "cell_type": "markdown",
   "metadata": {
    "heading_collapsed": true,
    "hidden": true
   },
   "source": [
    "## Focus on the business case"
   ]
  },
  {
   "cell_type": "markdown",
   "metadata": {
    "hidden": true
   },
   "source": [
    "What does the business want?\n",
    "> What are the 5 best ***zip codes*** to invest in?\n",
    "\n",
    "Note you don't have to do _every zipcode_; you can (and should) narrow it to a few select areas of interest"
   ]
  },
  {
   "cell_type": "markdown",
   "metadata": {
    "heading_collapsed": true,
    "hidden": true
   },
   "source": [
    "## Processing the data"
   ]
  },
  {
   "cell_type": "markdown",
   "metadata": {
    "hidden": true
   },
   "source": [
    "- Missing data exists\n",
    "- Data is not formatted necessarily for time series\n",
    "    + Remove certain columns (if not needed)\n",
    "    + Use something like Pandas `melt` https://pandas.pydata.org/pandas-docs/stable/reference/api/pandas.melt.html\n",
    "- Region names are zip codes but might make sense to look per city/metro area\n",
    "- Don't forget the EDA!"
   ]
  }
 ],
 "metadata": {
  "kernelspec": {
   "display_name": "Python 3",
   "language": "python",
   "name": "python3"
  },
  "language_info": {
   "codemirror_mode": {
    "name": "ipython",
    "version": 3
   },
   "file_extension": ".py",
   "mimetype": "text/x-python",
   "name": "python",
   "nbconvert_exporter": "python",
   "pygments_lexer": "ipython3",
   "version": "3.6.6"
  },
  "toc": {
   "base_numbering": 1,
   "nav_menu": {},
   "number_sections": true,
   "sideBar": true,
   "skip_h1_title": false,
   "title_cell": "Table of Contents",
   "title_sidebar": "Contents",
   "toc_cell": true,
   "toc_position": {},
   "toc_section_display": true,
   "toc_window_display": true
  },
  "varInspector": {
   "cols": {
    "lenName": 16,
    "lenType": 16,
    "lenVar": 40
   },
   "kernels_config": {
    "python": {
     "delete_cmd_postfix": "",
     "delete_cmd_prefix": "del ",
     "library": "var_list.py",
     "varRefreshCmd": "print(var_dic_list())"
    },
    "r": {
     "delete_cmd_postfix": ") ",
     "delete_cmd_prefix": "rm(",
     "library": "var_list.r",
     "varRefreshCmd": "cat(var_dic_list()) "
    }
   },
   "types_to_exclude": [
    "module",
    "function",
    "builtin_function_or_method",
    "instance",
    "_Feature"
   ],
   "window_display": false
  }
 },
 "nbformat": 4,
 "nbformat_minor": 2
}

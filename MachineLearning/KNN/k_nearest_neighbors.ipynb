{
 "cells": [
  {
   "cell_type": "markdown",
   "metadata": {
    "toc": true
   },
   "source": [
    "<h1>Table of Contents<span class=\"tocSkip\"></span></h1>\n",
    "<div class=\"toc\"><ul class=\"toc-item\"><li><span><a href=\"#K-Nearest-Neighbors\" data-toc-modified-id=\"K-Nearest-Neighbors-1\"><span class=\"toc-item-num\">1&nbsp;&nbsp;</span>K-Nearest Neighbors</a></span><ul class=\"toc-item\"><li><span><a href=\"#Summary\" data-toc-modified-id=\"Summary-1.1\"><span class=\"toc-item-num\">1.1&nbsp;&nbsp;</span>Summary</a></span></li><li><span><a href=\"#Advantages\" data-toc-modified-id=\"Advantages-1.2\"><span class=\"toc-item-num\">1.2&nbsp;&nbsp;</span>Advantages</a></span></li><li><span><a href=\"#Disadvantages\" data-toc-modified-id=\"Disadvantages-1.3\"><span class=\"toc-item-num\">1.3&nbsp;&nbsp;</span>Disadvantages</a></span></li><li><span><a href=\"#Determining-K\" data-toc-modified-id=\"Determining-K-1.4\"><span class=\"toc-item-num\">1.4&nbsp;&nbsp;</span>Determining K</a></span><ul class=\"toc-item\"><li><span><a href=\"#Overfitting-&amp;-Underfitting\" data-toc-modified-id=\"Overfitting-&amp;-Underfitting-1.4.1\"><span class=\"toc-item-num\">1.4.1&nbsp;&nbsp;</span>Overfitting &amp; Underfitting</a></span></li></ul></li><li><span><a href=\"#Implementing-via-sklearn\" data-toc-modified-id=\"Implementing-via-sklearn-1.5\"><span class=\"toc-item-num\">1.5&nbsp;&nbsp;</span>Implementing via sklearn</a></span></li></ul></li></ul></div>"
   ]
  },
  {
   "cell_type": "code",
   "execution_count": null,
   "metadata": {
    "ExecuteTime": {
     "end_time": "2019-11-05T18:27:35.750548Z",
     "start_time": "2019-11-05T18:27:35.745307Z"
    }
   },
   "outputs": [],
   "source": [
    "import numpy as np\n",
    "%matplotlib inline"
   ]
  },
  {
   "cell_type": "markdown",
   "metadata": {
    "heading_collapsed": true
   },
   "source": [
    "# K-Nearest Neighbors"
   ]
  },
  {
   "cell_type": "markdown",
   "metadata": {
    "hidden": true
   },
   "source": [
    "Classification / Supervised Learning"
   ]
  },
  {
   "cell_type": "markdown",
   "metadata": {
    "heading_collapsed": true,
    "hidden": true
   },
   "source": [
    "## Summary"
   ]
  },
  {
   "cell_type": "markdown",
   "metadata": {
    "hidden": true
   },
   "source": [
    "Use the training data to \"learn\" and then predict a test point"
   ]
  },
  {
   "cell_type": "markdown",
   "metadata": {
    "hidden": true
   },
   "source": [
    "![(From curriculum)](images/knn.png)"
   ]
  },
  {
   "cell_type": "markdown",
   "metadata": {
    "ExecuteTime": {
     "end_time": "2019-05-16T13:41:35.405047Z",
     "start_time": "2019-05-16T13:41:35.401038Z"
    },
    "hidden": true
   },
   "source": [
    "<img src='http://res.cloudinary.com/dyd911kmh/image/upload/f_auto,q_auto:best/v1531424125/KNN_final1_ibdm8a.png'/>\n",
    "\n",
    "> From Datacamp: https://www.datacamp.com/community/tutorials/k-nearest-neighbor-classification-scikit-learn"
   ]
  },
  {
   "cell_type": "markdown",
   "metadata": {
    "heading_collapsed": true,
    "hidden": true
   },
   "source": [
    "## Advantages"
   ]
  },
  {
   "cell_type": "markdown",
   "metadata": {
    "hidden": true
   },
   "source": [
    "- lazy learning (no training phase)\n",
    "- easy to interpret"
   ]
  },
  {
   "cell_type": "markdown",
   "metadata": {
    "heading_collapsed": true,
    "hidden": true
   },
   "source": [
    "## Disadvantages"
   ]
  },
  {
   "cell_type": "markdown",
   "metadata": {
    "hidden": true
   },
   "source": [
    "- has to be kept in memory (small data with few features)\n",
    "- not robust; doesn't generalize well\n",
    "- soft boundaries are troublesome\n",
    "- curse of dimensionality\n",
    "    + PCA (learn this in time)\n",
    "    + high dimensions: cosine similarity"
   ]
  },
  {
   "cell_type": "markdown",
   "metadata": {
    "heading_collapsed": true,
    "hidden": true
   },
   "source": [
    "## Determining K"
   ]
  },
  {
   "cell_type": "markdown",
   "metadata": {
    "hidden": true
   },
   "source": [
    "How many neighbors ($k$) are used to determine our point to classify?"
   ]
  },
  {
   "cell_type": "markdown",
   "metadata": {
    "hidden": true
   },
   "source": [
    "![](images/best_k.png)"
   ]
  },
  {
   "cell_type": "markdown",
   "metadata": {
    "hidden": true
   },
   "source": [
    "Elbow plot and test the error\n",
    "\n",
    "Usually between 1 & 19"
   ]
  },
  {
   "cell_type": "markdown",
   "metadata": {
    "ExecuteTime": {
     "end_time": "2019-10-15T20:56:10.345818Z",
     "start_time": "2019-10-15T20:56:10.219203Z"
    },
    "hidden": true
   },
   "source": [
    "![](images/k_elbow_plot.png)"
   ]
  },
  {
   "cell_type": "markdown",
   "metadata": {
    "heading_collapsed": true,
    "hidden": true
   },
   "source": [
    "### Overfitting & Underfitting"
   ]
  },
  {
   "cell_type": "markdown",
   "metadata": {
    "hidden": true
   },
   "source": [
    "![](images/underfit_vs_overfit.png)"
   ]
  },
  {
   "cell_type": "markdown",
   "metadata": {
    "heading_collapsed": true,
    "hidden": true
   },
   "source": [
    "## Implementing via sklearn"
   ]
  },
  {
   "cell_type": "code",
   "execution_count": null,
   "metadata": {
    "ExecuteTime": {
     "end_time": "2019-11-05T17:53:43.409457Z",
     "start_time": "2019-11-05T17:53:43.262939Z"
    },
    "hidden": true
   },
   "outputs": [],
   "source": [
    "import matplotlib.pyplot as plt\n",
    "from mpl_toolkits.mplot3d import Axes3D\n",
    "from sklearn import datasets\n",
    "\n",
    "# import some data to play with\n",
    "iris = datasets.load_iris()\n",
    "X = iris.data[:, :3]\n",
    "y = iris.target\n",
    "\n",
    "# \n",
    "fig = plt.figure(1, figsize=(8, 6))\n",
    "ax = Axes3D(fig, elev=-150, azim=110)\n",
    "\n",
    "ax.scatter(X[:, 0], X[:, 1], X[:, 2], c=y ,cmap=plt.cm.Set1, s=40)\n",
    "\n",
    "ax.set_xlabel(\"1st\")\n",
    "ax.set_ylabel(\"2nd\")\n",
    "ax.set_zlabel(\"3rd\")\n",
    "\n",
    "plt.show()"
   ]
  },
  {
   "cell_type": "markdown",
   "metadata": {
    "hidden": true
   },
   "source": [
    "https://scikit-learn.org/stable/modules/generated/sklearn.neighbors.KNeighborsClassifier.html"
   ]
  },
  {
   "cell_type": "code",
   "execution_count": null,
   "metadata": {
    "ExecuteTime": {
     "end_time": "2019-11-05T18:50:33.018601Z",
     "start_time": "2019-11-05T18:50:32.947210Z"
    },
    "hidden": true
   },
   "outputs": [],
   "source": [
    "from sklearn.neighbors import KNeighborsClassifier"
   ]
  },
  {
   "cell_type": "code",
   "execution_count": null,
   "metadata": {
    "ExecuteTime": {
     "end_time": "2019-11-05T18:54:41.119584Z",
     "start_time": "2019-11-05T18:54:41.110465Z"
    },
    "hidden": true
   },
   "outputs": [],
   "source": [
    "neigh = KNeighborsClassifier(n_neighbors=6,metric='euclidean')\n",
    "neigh.fit(X, y) "
   ]
  },
  {
   "cell_type": "code",
   "execution_count": null,
   "metadata": {
    "ExecuteTime": {
     "end_time": "2019-11-05T18:54:41.981517Z",
     "start_time": "2019-11-05T18:54:41.975199Z"
    },
    "hidden": true
   },
   "outputs": [],
   "source": [
    "pred_pts = np.array([\n",
    "    [7,3,7],\n",
    "    [8,4,7],\n",
    "    [7,3,6],\n",
    "    [7,4,6],    \n",
    "    [4,4,1],\n",
    "    [5,4,3],\n",
    "    [5,4,5],\n",
    "    [4,4,5],\n",
    "    [3,3,3]\n",
    "])\n",
    "\n",
    "pred_y = neigh.predict(pred_pts)\n",
    "print(pred_y)"
   ]
  },
  {
   "cell_type": "code",
   "execution_count": null,
   "metadata": {
    "ExecuteTime": {
     "end_time": "2019-11-05T18:54:42.462970Z",
     "start_time": "2019-11-05T18:54:42.453355Z"
    },
    "hidden": true
   },
   "outputs": [],
   "source": [
    "for p,prob in zip(pred_y,neigh.predict_proba(pred_pts)):\n",
    "    print(f'{p}: {prob}')"
   ]
  },
  {
   "cell_type": "code",
   "execution_count": null,
   "metadata": {
    "ExecuteTime": {
     "end_time": "2019-11-05T18:54:43.412619Z",
     "start_time": "2019-11-05T18:54:43.265557Z"
    },
    "hidden": true,
    "scrolled": false
   },
   "outputs": [],
   "source": [
    "fig = plt.figure(1, figsize=(8, 6))\n",
    "ax = Axes3D(fig, elev=-150, azim=110)\n",
    "\n",
    "ax.scatter(\n",
    "    X[:, 0], \n",
    "    X[:, 1], \n",
    "    X[:, 2], \n",
    "    c=y,\n",
    "    cmap=plt.cm.Set1,\n",
    "    s=40\n",
    ")\n",
    "\n",
    "ax.scatter(\n",
    "    pred_pts[:, 0], \n",
    "    pred_pts[:, 1], \n",
    "    pred_pts[:, 2], \n",
    "    c=pred_y,\n",
    "    cmap=plt.cm.Set1,\n",
    "    s=400\n",
    ")\n",
    "\n",
    "ax.set_xlabel(\"1st\")\n",
    "ax.set_ylabel(\"2nd\")\n",
    "ax.set_zlabel(\"3rd\")\n",
    "\n",
    "plt.show()"
   ]
  }
 ],
 "metadata": {
  "kernelspec": {
   "display_name": "Python 3",
   "language": "python",
   "name": "python3"
  },
  "language_info": {
   "codemirror_mode": {
    "name": "ipython",
    "version": 3
   },
   "file_extension": ".py",
   "mimetype": "text/x-python",
   "name": "python",
   "nbconvert_exporter": "python",
   "pygments_lexer": "ipython3",
   "version": "3.7.1"
  },
  "toc": {
   "base_numbering": 1,
   "nav_menu": {},
   "number_sections": true,
   "sideBar": true,
   "skip_h1_title": false,
   "title_cell": "Table of Contents",
   "title_sidebar": "Contents",
   "toc_cell": true,
   "toc_position": {},
   "toc_section_display": true,
   "toc_window_display": true
  },
  "varInspector": {
   "cols": {
    "lenName": 16,
    "lenType": 16,
    "lenVar": 40
   },
   "kernels_config": {
    "python": {
     "delete_cmd_postfix": "",
     "delete_cmd_prefix": "del ",
     "library": "var_list.py",
     "varRefreshCmd": "print(var_dic_list())"
    },
    "r": {
     "delete_cmd_postfix": ") ",
     "delete_cmd_prefix": "rm(",
     "library": "var_list.r",
     "varRefreshCmd": "cat(var_dic_list()) "
    }
   },
   "types_to_exclude": [
    "module",
    "function",
    "builtin_function_or_method",
    "instance",
    "_Feature"
   ],
   "window_display": false
  }
 },
 "nbformat": 4,
 "nbformat_minor": 2
}

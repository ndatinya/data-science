{
 "cells": [
  {
   "cell_type": "markdown",
   "metadata": {
    "toc": true
   },
   "source": [
    "<h1>Table of Contents<span class=\"tocSkip\"></span></h1>\n",
    "<div class=\"toc\"><ul class=\"toc-item\"><li><span><a href=\"#Effect-Size\" data-toc-modified-id=\"Effect-Size-1\"><span class=\"toc-item-num\">1&nbsp;&nbsp;</span>Effect Size</a></span><ul class=\"toc-item\"><li><span><a href=\"#Misclassification-rate\" data-toc-modified-id=\"Misclassification-rate-1.1\"><span class=\"toc-item-num\">1.1&nbsp;&nbsp;</span>Misclassification rate</a></span><ul class=\"toc-item\"><li><span><a href=\"#Probability-of-superiority\" data-toc-modified-id=\"Probability-of-superiority-1.1.1\"><span class=\"toc-item-num\">1.1.1&nbsp;&nbsp;</span>Probability of superiority</a></span></li></ul></li><li><span><a href=\"#Cohen's-d-statistic\" data-toc-modified-id=\"Cohen's-d-statistic-1.2\"><span class=\"toc-item-num\">1.2&nbsp;&nbsp;</span>Cohen's d statistic</a></span><ul class=\"toc-item\"><li><span><a href=\"#Rule-of-Thumb-for-d-statistic\" data-toc-modified-id=\"Rule-of-Thumb-for-d-statistic-1.2.1\"><span class=\"toc-item-num\">1.2.1&nbsp;&nbsp;</span>Rule of Thumb for d statistic</a></span></li></ul></li><li><span><a href=\"#Bringing-it-all-together\" data-toc-modified-id=\"Bringing-it-all-together-1.3\"><span class=\"toc-item-num\">1.3&nbsp;&nbsp;</span>Bringing it all together</a></span></li></ul></li></ul></div>"
   ]
  },
  {
   "cell_type": "markdown",
   "metadata": {},
   "source": [
    "# Effect Size"
   ]
  },
  {
   "cell_type": "markdown",
   "metadata": {},
   "source": [
    "If the effect was significant, how significant was it?\n",
    "\n",
    "Especially **Meta-Analysis** to compare multiple studies"
   ]
  },
  {
   "cell_type": "markdown",
   "metadata": {},
   "source": [
    "## Misclassification rate"
   ]
  },
  {
   "cell_type": "markdown",
   "metadata": {},
   "source": [
    "Can calculate a threshold to hold two populations against (where 2 PDFs cross):\n",
    "\n",
    "$$\\frac{\\sigma_1 \\mu_2 + \\sigma_2 \\mu_1}{\\sigma_1 + \\sigma_2}$$\n",
    "\n",
    "Then use this to calculate the overlap (AUC) of the PDFs\n",
    "\n",
    "![small cross over PDFs plot](images/small-cross-over.png)\n",
    "![large cross over PDFs plt](images/large-cross-over.png)"
   ]
  },
  {
   "cell_type": "markdown",
   "metadata": {},
   "source": [
    "### Probability of superiority"
   ]
  },
  {
   "cell_type": "markdown",
   "metadata": {},
   "source": [
    "> Randomly pick a member each from the two populations and compare them\n",
    "\n",
    "Useful for samples of unequal sizes since using portion/probability"
   ]
  },
  {
   "cell_type": "markdown",
   "metadata": {},
   "source": [
    "## Cohen's d statistic"
   ]
  },
  {
   "cell_type": "markdown",
   "metadata": {},
   "source": [
    "Pooled Variance:\n",
    "\n",
    "$$ \\sigma^2_{pooled} = \\frac{\\sigma^2_1 n_1 + \\sigma^2_2 n_2}{n_1 + n_2}$$\n",
    "\n",
    "Cohen's d statistic\n",
    "\n",
    "$$ d = \\frac{\\mu_1 - \\mu_2}{\\sigma_{pooled}} $$"
   ]
  },
  {
   "cell_type": "markdown",
   "metadata": {},
   "source": [
    "### Rule of Thumb for d statistic\n",
    "\n",
    ">**Small effect = 0.2**\n",
    ">\n",
    ">**Medium Effect = 0.5**\n",
    ">\n",
    ">**Large Effect = 0.8**"
   ]
  },
  {
   "cell_type": "markdown",
   "metadata": {},
   "source": [
    "## Bringing it all together"
   ]
  },
  {
   "cell_type": "code",
   "execution_count": null,
   "metadata": {
    "ExecuteTime": {
     "end_time": "2019-07-25T22:54:11.680831Z",
     "start_time": "2019-07-25T22:54:10.841989Z"
    }
   },
   "outputs": [],
   "source": [
    "# Summary of functions found in curriculum\n",
    "import scipy.stats\n",
    "import numpy as np\n",
    "import matplotlib.pyplot as plt\n",
    "%matplotlib inline"
   ]
  },
  {
   "cell_type": "code",
   "execution_count": null,
   "metadata": {
    "ExecuteTime": {
     "end_time": "2019-07-25T22:54:55.765621Z",
     "start_time": "2019-07-25T22:54:55.761720Z"
    }
   },
   "outputs": [],
   "source": [
    "def evaluate_PDF(rv, x=4):\n",
    "    '''Input: a random variable object, standard deviation\n",
    "       output : x and y values for the normal distribution\n",
    "       '''\n",
    "    \n",
    "    # Identify the mean and standard deviation of random variable \n",
    "    mean = rv.mean()\n",
    "    std = rv.std()\n",
    "\n",
    "    # Use numpy to calculate evenly spaced numbers over the specified interval (4 sd) and generate 100 samples.\n",
    "    xs = np.linspace(mean - x*std, mean + x*std, 100)\n",
    "    \n",
    "    # Calculate the peak of normal distribution i.e. probability density. \n",
    "    ys = rv.pdf(xs)\n",
    "\n",
    "    return xs, ys # Return calculated values"
   ]
  },
  {
   "cell_type": "code",
   "execution_count": null,
   "metadata": {
    "ExecuteTime": {
     "end_time": "2019-07-25T22:55:01.569535Z",
     "start_time": "2019-07-25T22:55:01.563352Z"
    }
   },
   "outputs": [],
   "source": [
    "def overlap_superiority(group1, group2, n=1000):\n",
    "    \"\"\"Estimates overlap and superiority based on a sample.\n",
    "    \n",
    "    group1: scipy.stats rv object\n",
    "    group2: scipy.stats rv object\n",
    "    n: sample size\n",
    "    \"\"\"\n",
    "\n",
    "    # Get a sample of size n from both groups\n",
    "    group1_sample = group1.rvs(n)\n",
    "    group2_sample = group2.rvs(n)\n",
    "    \n",
    "    # Identify the threshold between samples\n",
    "    thresh = (group1.mean() + group2.mean()) / 2\n",
    "    print(thresh)\n",
    "    \n",
    "    # Calculate no. of values above and below for group 1 and group 2 respectively\n",
    "    above = sum(group1_sample < thresh)\n",
    "    below = sum(group2_sample > thresh)\n",
    "    \n",
    "    # Calculate the overlap\n",
    "    overlap = (above + below) / n\n",
    "    \n",
    "    # Calculate probability of superiority\n",
    "    superiority = sum(x > y for x, y in zip(group1_sample, group2_sample)) / n\n",
    "\n",
    "    return overlap, superiority"
   ]
  },
  {
   "cell_type": "code",
   "execution_count": null,
   "metadata": {
    "ExecuteTime": {
     "end_time": "2019-07-25T22:55:05.079102Z",
     "start_time": "2019-07-25T22:55:05.073176Z"
    }
   },
   "outputs": [],
   "source": [
    "def plot_pdfs(cohen_d=2):\n",
    "    \"\"\"Plot PDFs for distributions that differ by some number of stds.\n",
    "    \n",
    "    cohen_d: number of standard deviations between the means\n",
    "    \"\"\"\n",
    "    group1 = scipy.stats.norm(0, 1)\n",
    "    group2 = scipy.stats.norm(cohen_d, 1)\n",
    "    xs, ys = evaluate_PDF(group1)\n",
    "    plt.fill_between(xs, ys, label='Group1', color='#ff2289', alpha=0.7)\n",
    "\n",
    "    xs, ys = evaluate_PDF(group2)\n",
    "    plt.fill_between(xs, ys, label='Group2', color='#376cb0', alpha=0.7)\n",
    "    \n",
    "    o, s = overlap_superiority(group1, group2)\n",
    "    print('overlap', o)\n",
    "    print('superiority', s)"
   ]
  },
  {
   "cell_type": "code",
   "execution_count": null,
   "metadata": {
    "ExecuteTime": {
     "end_time": "2019-07-25T22:55:18.075422Z",
     "start_time": "2019-07-25T22:55:17.840603Z"
    }
   },
   "outputs": [],
   "source": [
    "plot_pdfs(cohen_d=0.2)"
   ]
  },
  {
   "cell_type": "code",
   "execution_count": null,
   "metadata": {
    "ExecuteTime": {
     "end_time": "2019-07-25T22:55:32.942828Z",
     "start_time": "2019-07-25T22:55:32.720466Z"
    }
   },
   "outputs": [],
   "source": [
    "plot_pdfs(cohen_d=1)"
   ]
  },
  {
   "cell_type": "code",
   "execution_count": null,
   "metadata": {
    "ExecuteTime": {
     "end_time": "2019-07-25T22:55:39.988399Z",
     "start_time": "2019-07-25T22:55:39.756797Z"
    }
   },
   "outputs": [],
   "source": [
    "plot_pdfs(cohen_d=4.0)"
   ]
  }
 ],
 "metadata": {
  "kernelspec": {
   "display_name": "Python 3",
   "language": "python",
   "name": "python3"
  },
  "language_info": {
   "codemirror_mode": {
    "name": "ipython",
    "version": 3
   },
   "file_extension": ".py",
   "mimetype": "text/x-python",
   "name": "python",
   "nbconvert_exporter": "python",
   "pygments_lexer": "ipython3",
   "version": "3.6.6"
  },
  "toc": {
   "base_numbering": 1,
   "nav_menu": {},
   "number_sections": true,
   "sideBar": true,
   "skip_h1_title": false,
   "title_cell": "Table of Contents",
   "title_sidebar": "Contents",
   "toc_cell": true,
   "toc_position": {
    "height": "calc(100% - 180px)",
    "left": "10px",
    "top": "150px",
    "width": "384px"
   },
   "toc_section_display": true,
   "toc_window_display": true
  },
  "varInspector": {
   "cols": {
    "lenName": 16,
    "lenType": 16,
    "lenVar": 40
   },
   "kernels_config": {
    "python": {
     "delete_cmd_postfix": "",
     "delete_cmd_prefix": "del ",
     "library": "var_list.py",
     "varRefreshCmd": "print(var_dic_list())"
    },
    "r": {
     "delete_cmd_postfix": ") ",
     "delete_cmd_prefix": "rm(",
     "library": "var_list.r",
     "varRefreshCmd": "cat(var_dic_list()) "
    }
   },
   "types_to_exclude": [
    "module",
    "function",
    "builtin_function_or_method",
    "instance",
    "_Feature"
   ],
   "window_display": false
  }
 },
 "nbformat": 4,
 "nbformat_minor": 2
}

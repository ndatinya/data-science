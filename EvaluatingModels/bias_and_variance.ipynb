{
 "cells": [
  {
   "cell_type": "markdown",
   "metadata": {
    "toc": true
   },
   "source": [
    "<h1>Table of Contents<span class=\"tocSkip\"></span></h1>\n",
    "<div class=\"toc\"><ul class=\"toc-item\"><li><span><a href=\"#Intro-Discussion\" data-toc-modified-id=\"Intro-Discussion-1\"><span class=\"toc-item-num\">1&nbsp;&nbsp;</span>Intro Discussion</a></span></li><li><span><a href=\"#Recalling-Training-vs-Testing\" data-toc-modified-id=\"Recalling-Training-vs-Testing-2\"><span class=\"toc-item-num\">2&nbsp;&nbsp;</span>Recalling Training vs Testing</a></span><ul class=\"toc-item\"><li><span><a href=\"#Example-dataset\" data-toc-modified-id=\"Example-dataset-2.1\"><span class=\"toc-item-num\">2.1&nbsp;&nbsp;</span>Example dataset</a></span><ul class=\"toc-item\"><li><span><a href=\"#The-full-dataset\" data-toc-modified-id=\"The-full-dataset-2.1.1\"><span class=\"toc-item-num\">2.1.1&nbsp;&nbsp;</span>The full dataset</a></span></li><li><span><a href=\"#Linear-regression-on-the-train-&amp;-test-sets\" data-toc-modified-id=\"Linear-regression-on-the-train-&amp;-test-sets-2.1.2\"><span class=\"toc-item-num\">2.1.2&nbsp;&nbsp;</span>Linear regression on the train &amp; test sets</a></span></li></ul></li><li><span><a href=\"#Let's-fit-it-with-some-fancy-polynomial!\" data-toc-modified-id=\"Let's-fit-it-with-some-fancy-polynomial!-2.2\"><span class=\"toc-item-num\">2.2&nbsp;&nbsp;</span>Let's fit it with some fancy polynomial!</a></span></li><li><span><a href=\"#Less-fancy-polynomial\" data-toc-modified-id=\"Less-fancy-polynomial-2.3\"><span class=\"toc-item-num\">2.3&nbsp;&nbsp;</span>Less fancy polynomial</a></span></li></ul></li><li><span><a href=\"#Trading-Variance-&amp;-Bias\" data-toc-modified-id=\"Trading-Variance-&amp;-Bias-3\"><span class=\"toc-item-num\">3&nbsp;&nbsp;</span>Trading Variance &amp; Bias</a></span><ul class=\"toc-item\"><li><span><a href=\"#Bias\" data-toc-modified-id=\"Bias-3.1\"><span class=\"toc-item-num\">3.1&nbsp;&nbsp;</span>Bias</a></span><ul class=\"toc-item\"><li><span><a href=\"#Solution?\" data-toc-modified-id=\"Solution?-3.1.1\"><span class=\"toc-item-num\">3.1.1&nbsp;&nbsp;</span>Solution?</a></span></li></ul></li><li><span><a href=\"#Variance\" data-toc-modified-id=\"Variance-3.2\"><span class=\"toc-item-num\">3.2&nbsp;&nbsp;</span>Variance</a></span><ul class=\"toc-item\"><li><span><a href=\"#Solution?\" data-toc-modified-id=\"Solution?-3.2.1\"><span class=\"toc-item-num\">3.2.1&nbsp;&nbsp;</span>Solution?</a></span></li></ul></li><li><span><a href=\"#Overfitting-&amp;-Underfitting\" data-toc-modified-id=\"Overfitting-&amp;-Underfitting-3.3\"><span class=\"toc-item-num\">3.3&nbsp;&nbsp;</span>Overfitting &amp; Underfitting</a></span></li></ul></li></ul></div>"
   ]
  },
  {
   "cell_type": "markdown",
   "metadata": {
    "heading_collapsed": true
   },
   "source": [
    "# Intro Discussion\n",
    "\n",
    "- What is our goal when creating a prediction model?\n",
    "- How do we measure that goal?\n",
    "- Are thre cases when our measurement of that goal conflicts with creating our model?\n",
    "- How does model complexity relate to all of this?"
   ]
  },
  {
   "cell_type": "markdown",
   "metadata": {},
   "source": [
    "# Recalling Training vs Testing"
   ]
  },
  {
   "cell_type": "markdown",
   "metadata": {
    "heading_collapsed": true
   },
   "source": [
    "## Example dataset"
   ]
  },
  {
   "cell_type": "markdown",
   "metadata": {
    "heading_collapsed": true,
    "hidden": true
   },
   "source": [
    "### The full dataset"
   ]
  },
  {
   "cell_type": "markdown",
   "metadata": {
    "hidden": true
   },
   "source": [
    "![](https://github.com/learn-co-students/dsc-2-24-07-bias-variance-trade-off-online-ds-sp-000/raw/master/index_files/index_7_1.png)"
   ]
  },
  {
   "cell_type": "markdown",
   "metadata": {
    "heading_collapsed": true,
    "hidden": true
   },
   "source": [
    "### Linear regression on the train & test sets"
   ]
  },
  {
   "cell_type": "markdown",
   "metadata": {
    "hidden": true
   },
   "source": [
    "![](https://github.com/learn-co-students/dsc-2-24-07-bias-variance-trade-off-online-ds-sp-000/raw/master/index_files/index_11_0.png)"
   ]
  },
  {
   "cell_type": "markdown",
   "metadata": {
    "heading_collapsed": true
   },
   "source": [
    "## Let's fit it with some fancy polynomial!"
   ]
  },
  {
   "cell_type": "markdown",
   "metadata": {
    "hidden": true
   },
   "source": [
    "![](https://github.com/learn-co-students/dsc-2-24-07-bias-variance-trade-off-online-ds-sp-000/raw/master/index_files/index_14_0.png)"
   ]
  },
  {
   "cell_type": "markdown",
   "metadata": {
    "hidden": true
   },
   "source": [
    "Did we succeed?!"
   ]
  },
  {
   "cell_type": "markdown",
   "metadata": {
    "ExecuteTime": {
     "end_time": "2019-10-18T15:15:41.887282Z",
     "start_time": "2019-10-18T15:15:41.885280Z"
    },
    "heading_collapsed": true
   },
   "source": [
    "## Less fancy polynomial"
   ]
  },
  {
   "cell_type": "markdown",
   "metadata": {
    "ExecuteTime": {
     "end_time": "2019-10-18T15:15:41.887282Z",
     "start_time": "2019-10-18T15:15:41.885280Z"
    },
    "hidden": true
   },
   "source": [
    "![](images/parabola_fit.png)"
   ]
  },
  {
   "cell_type": "markdown",
   "metadata": {
    "heading_collapsed": true
   },
   "source": [
    "# Trading Variance & Bias"
   ]
  },
  {
   "cell_type": "markdown",
   "metadata": {
    "hidden": true
   },
   "source": [
    "We need to worry about **underfitting** *and* **overfitting**"
   ]
  },
  {
   "cell_type": "markdown",
   "metadata": {
    "hidden": true
   },
   "source": [
    "$ MSE = Bias(\\hat{y})^2 + Var(\\hat{y}) + \\sigma^2$"
   ]
  },
  {
   "cell_type": "markdown",
   "metadata": {
    "hidden": true
   },
   "source": [
    "![](images/bias_variance_bullseye.png)"
   ]
  },
  {
   "cell_type": "markdown",
   "metadata": {
    "heading_collapsed": true,
    "hidden": true
   },
   "source": [
    "## Bias"
   ]
  },
  {
   "cell_type": "markdown",
   "metadata": {
    "hidden": true
   },
   "source": [
    "When you're *off* from the bullseye\n",
    "\n",
    "> Model: *I don't need to look; I know what to do without help*"
   ]
  },
  {
   "cell_type": "markdown",
   "metadata": {
    "hidden": true
   },
   "source": [
    "- When would this occur?\n",
    "<!-- \n",
    "    * Wrong assumptions == model didn't catch all the use cases \n",
    "-->"
   ]
  },
  {
   "cell_type": "markdown",
   "metadata": {
    "heading_collapsed": true,
    "hidden": true
   },
   "source": [
    "### Solution?"
   ]
  },
  {
   "cell_type": "markdown",
   "metadata": {
    "hidden": true
   },
   "source": [
    "Need to consider more evidence (more complex model)"
   ]
  },
  {
   "cell_type": "markdown",
   "metadata": {
    "heading_collapsed": true,
    "hidden": true
   },
   "source": [
    "## Variance"
   ]
  },
  {
   "cell_type": "markdown",
   "metadata": {
    "hidden": true
   },
   "source": [
    "When you have bigger changes from each throw\n",
    "\n",
    "> Model: *Well, a last time the target was slightly red and therefore need to adjust to the right by 2.3cm*"
   ]
  },
  {
   "cell_type": "markdown",
   "metadata": {
    "hidden": true
   },
   "source": [
    "- When would this occur?\n",
    "<!-- \n",
    "    * Random noise leads to setting in the training on a sensitive model\n",
    "-->"
   ]
  },
  {
   "cell_type": "markdown",
   "metadata": {
    "heading_collapsed": true,
    "hidden": true
   },
   "source": [
    "### Solution?"
   ]
  },
  {
   "cell_type": "markdown",
   "metadata": {
    "hidden": true
   },
   "source": [
    "Relax the model; it's too uptight (simpler model)"
   ]
  },
  {
   "cell_type": "markdown",
   "metadata": {
    "heading_collapsed": true,
    "hidden": true
   },
   "source": [
    "## Overfitting & Underfitting"
   ]
  },
  {
   "cell_type": "markdown",
   "metadata": {
    "hidden": true
   },
   "source": [
    "Which fits with what (bias & variance)?"
   ]
  },
  {
   "cell_type": "markdown",
   "metadata": {
    "hidden": true
   },
   "source": [
    "![From https://towardsdatascience.com/understanding-the-bias-variance-tradeoff-165e6942b229](https://cdn-images-1.medium.com/max/1600/1*RQ6ICt_FBSx6mkAsGVwx8g.png)\n",
    "\n",
    "> From: https://towardsdatascience.com/understanding-the-bias-variance-tradeoff-165e6942b229"
   ]
  }
 ],
 "metadata": {
  "kernelspec": {
   "display_name": "Python 3",
   "language": "python",
   "name": "python3"
  },
  "language_info": {
   "codemirror_mode": {
    "name": "ipython",
    "version": 3
   },
   "file_extension": ".py",
   "mimetype": "text/x-python",
   "name": "python",
   "nbconvert_exporter": "python",
   "pygments_lexer": "ipython3",
   "version": "3.7.1"
  },
  "toc": {
   "base_numbering": 1,
   "nav_menu": {},
   "number_sections": true,
   "sideBar": true,
   "skip_h1_title": false,
   "title_cell": "Table of Contents",
   "title_sidebar": "Contents",
   "toc_cell": true,
   "toc_position": {},
   "toc_section_display": true,
   "toc_window_display": true
  },
  "varInspector": {
   "cols": {
    "lenName": 16,
    "lenType": 16,
    "lenVar": 40
   },
   "kernels_config": {
    "python": {
     "delete_cmd_postfix": "",
     "delete_cmd_prefix": "del ",
     "library": "var_list.py",
     "varRefreshCmd": "print(var_dic_list())"
    },
    "r": {
     "delete_cmd_postfix": ") ",
     "delete_cmd_prefix": "rm(",
     "library": "var_list.r",
     "varRefreshCmd": "cat(var_dic_list()) "
    }
   },
   "types_to_exclude": [
    "module",
    "function",
    "builtin_function_or_method",
    "instance",
    "_Feature"
   ],
   "window_display": false
  }
 },
 "nbformat": 4,
 "nbformat_minor": 2
}

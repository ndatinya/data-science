{
 "cells": [
  {
   "cell_type": "markdown",
   "metadata": {
    "toc": true
   },
   "source": [
    "<h1>Table of Contents<span class=\"tocSkip\"></span></h1>\n",
    "<div class=\"toc\"><ul class=\"toc-item\"><li><span><a href=\"#Timeline\" data-toc-modified-id=\"Timeline-1\"><span class=\"toc-item-num\">1&nbsp;&nbsp;</span>Timeline</a></span><ul class=\"toc-item\"><li><span><a href=\"#Starts-&quot;now&quot;\" data-toc-modified-id=\"Starts-&quot;now&quot;-1.1\"><span class=\"toc-item-num\">1.1&nbsp;&nbsp;</span>Starts \"now\"</a></span></li><li><span><a href=\"#Assessments-start-March-16\" data-toc-modified-id=\"Assessments-start-March-16-1.2\"><span class=\"toc-item-num\">1.2&nbsp;&nbsp;</span>Assessments start March 16</a></span></li><li><span><a href=\"#Due-by-March-30th\" data-toc-modified-id=\"Due-by-March-30th-1.3\"><span class=\"toc-item-num\">1.3&nbsp;&nbsp;</span>Due by March 30th</a></span></li></ul></li><li><span><a href=\"#Where-to-get-help\" data-toc-modified-id=\"Where-to-get-help-2\"><span class=\"toc-item-num\">2&nbsp;&nbsp;</span>Where to get help</a></span></li><li><span><a href=\"#Quick-talk-about-the-project-(data)\" data-toc-modified-id=\"Quick-talk-about-the-project-(data)-3\"><span class=\"toc-item-num\">3&nbsp;&nbsp;</span>Quick talk about the project (data)</a></span><ul class=\"toc-item\"><li><span><a href=\"#Advice-on-things-to-consider\" data-toc-modified-id=\"Advice-on-things-to-consider-3.1\"><span class=\"toc-item-num\">3.1&nbsp;&nbsp;</span>Advice on things to consider</a></span><ul class=\"toc-item\"><li><span><a href=\"#Put-yourself-in-the-shoes-of-your-stakeholders\" data-toc-modified-id=\"Put-yourself-in-the-shoes-of-your-stakeholders-3.1.1\"><span class=\"toc-item-num\">3.1.1&nbsp;&nbsp;</span>Put yourself in the shoes of your <strong>stakeholders</strong></a></span></li><li><span><a href=\"#Do-the-data-reflect-what-you-are-saying?\" data-toc-modified-id=\"Do-the-data-reflect-what-you-are-saying?-3.1.2\"><span class=\"toc-item-num\">3.1.2&nbsp;&nbsp;</span>Do the data reflect what you are saying?</a></span></li><li><span><a href=\"#Emphasize-your-points-with-a-narrative\" data-toc-modified-id=\"Emphasize-your-points-with-a-narrative-3.1.3\"><span class=\"toc-item-num\">3.1.3&nbsp;&nbsp;</span>Emphasize your points with a narrative</a></span></li></ul></li></ul></li><li><span><a href=\"#Parts-of-the-project-assessment\" data-toc-modified-id=\"Parts-of-the-project-assessment-4\"><span class=\"toc-item-num\">4&nbsp;&nbsp;</span>Parts of the project assessment</a></span></li><li><span><a href=\"#Questions?\" data-toc-modified-id=\"Questions?-5\"><span class=\"toc-item-num\">5&nbsp;&nbsp;</span>Questions?</a></span></li></ul></div>"
   ]
  },
  {
   "cell_type": "markdown",
   "metadata": {
    "heading_collapsed": true
   },
   "source": [
    "# Timeline"
   ]
  },
  {
   "cell_type": "markdown",
   "metadata": {
    "hidden": true
   },
   "source": [
    "Adding some clarity to what's coming up next…\n",
    "\n",
    "![Game of Thrones narrative chart (complicated) https://www.chartgeek.com/wp-content/uploads/2013/06/game-of-thrones-timeline1.jpg](images/game-of-thrones-timeline.jpg)"
   ]
  },
  {
   "cell_type": "markdown",
   "metadata": {
    "heading_collapsed": true,
    "hidden": true
   },
   "source": [
    "## Starts \"now\""
   ]
  },
  {
   "cell_type": "markdown",
   "metadata": {
    "hidden": true
   },
   "source": [
    "* Next 2 weeks turns to office hours"
   ]
  },
  {
   "cell_type": "markdown",
   "metadata": {
    "heading_collapsed": true,
    "hidden": true
   },
   "source": [
    "## Assessments start March 16"
   ]
  },
  {
   "cell_type": "markdown",
   "metadata": {
    "hidden": true
   },
   "source": [
    "* On cohort calendar\n",
    "* Replaces 1:1s → 1hr session (45min of assessment; 15min of feedback)\n",
    "* We will start Module 2 at that same time (be aware!)"
   ]
  },
  {
   "cell_type": "markdown",
   "metadata": {
    "heading_collapsed": true,
    "hidden": true
   },
   "source": [
    "## Due by March 30th"
   ]
  },
  {
   "cell_type": "markdown",
   "metadata": {
    "hidden": true
   },
   "source": [
    "* 2 weeks (final is March 30th)\n",
    "* You have up to two tries (goal is after first)\n",
    "    "
   ]
  },
  {
   "cell_type": "markdown",
   "metadata": {
    "heading_collapsed": true
   },
   "source": [
    "# Where to get help"
   ]
  },
  {
   "cell_type": "markdown",
   "metadata": {
    "hidden": true
   },
   "source": [
    "![](images/help_the_beatles.jpg)"
   ]
  },
  {
   "cell_type": "markdown",
   "metadata": {
    "hidden": true
   },
   "source": [
    "* Slack Group help: **@ds-support-squad**\n",
    "* Slack channels: \n",
    "    - #ds-pc-users\n",
    "    - #module_python_ds\n",
    "    - #module_data_eng\n",
    "* Share and help one another"
   ]
  },
  {
   "cell_type": "markdown",
   "metadata": {
    "heading_collapsed": true
   },
   "source": [
    "# Quick talk about the project (data)"
   ]
  },
  {
   "cell_type": "markdown",
   "metadata": {
    "hidden": true
   },
   "source": [
    "![](images/popcorn_movies.png)"
   ]
  },
  {
   "cell_type": "markdown",
   "metadata": {
    "hidden": true
   },
   "source": [
    "Snippet from the project details:\n",
    "\n",
    "> Microsoft sees all the big companies creating original video content, and they want to get in on the fun. They have decided to create a new movie studio, but the problem is they don’t know anything about creating movies. They have hired you to **help them better understand the movie industry**. Your team is charged with doing data analysis and creating a presentation that **explores what type of films are currently doing the best** at the box office. You must then translate those findings into **actionable insights** that the CEO can use when deciding what type of films they should be creating."
   ]
  },
  {
   "cell_type": "markdown",
   "metadata": {
    "heading_collapsed": true,
    "hidden": true
   },
   "source": [
    "## Advice on things to consider"
   ]
  },
  {
   "cell_type": "markdown",
   "metadata": {
    "heading_collapsed": true,
    "hidden": true
   },
   "source": [
    "### Put yourself in the shoes of your **stakeholders**\n",
    "   "
   ]
  },
  {
   "cell_type": "markdown",
   "metadata": {
    "hidden": true
   },
   "source": [
    " * What do they want to know?\n",
    " * Is the information geared towards them (talking to non-data scientists)\n",
    " * You are providing **insights** which lead to **actionable items**"
   ]
  },
  {
   "cell_type": "markdown",
   "metadata": {
    "heading_collapsed": true,
    "hidden": true
   },
   "source": [
    "### Do the data reflect what you are saying?"
   ]
  },
  {
   "cell_type": "markdown",
   "metadata": {
    "hidden": true
   },
   "source": [
    "* Are the data complete?\n",
    "* Are the differences (statistically) significant? (We'll go over this in the future)\n",
    "* Where are the potential biases? "
   ]
  },
  {
   "cell_type": "markdown",
   "metadata": {
    "heading_collapsed": true,
    "hidden": true
   },
   "source": [
    "### Emphasize your points with a narrative"
   ]
  },
  {
   "cell_type": "markdown",
   "metadata": {
    "hidden": true
   },
   "source": [
    "* We like stories: both technical & non-technical\n",
    "* Use visuals to emphasize your points (**explanatory visualizations**)\n",
    "* Each slide should contain a single idea (emphasizes what you say)"
   ]
  },
  {
   "cell_type": "markdown",
   "metadata": {
    "heading_collapsed": true
   },
   "source": [
    "# Parts of the project assessment"
   ]
  },
  {
   "cell_type": "markdown",
   "metadata": {
    "hidden": true
   },
   "source": [
    "* Notebook technical\n",
    "* Blog post    \n",
    "* Non-tech presentation\n",
    "* Video\n",
    "\n",
    "> More details!! [Projects/general_advice.ipynb](../general_advice.ipynb)"
   ]
  },
  {
   "cell_type": "markdown",
   "metadata": {
    "heading_collapsed": true
   },
   "source": [
    "# Questions? "
   ]
  }
 ],
 "metadata": {
  "kernelspec": {
   "display_name": "Python 3",
   "language": "python",
   "name": "python3"
  },
  "language_info": {
   "codemirror_mode": {
    "name": "ipython",
    "version": 3
   },
   "file_extension": ".py",
   "mimetype": "text/x-python",
   "name": "python",
   "nbconvert_exporter": "python",
   "pygments_lexer": "ipython3",
   "version": "3.7.1"
  },
  "toc": {
   "base_numbering": 1,
   "nav_menu": {},
   "number_sections": true,
   "sideBar": true,
   "skip_h1_title": false,
   "title_cell": "Table of Contents",
   "title_sidebar": "Contents",
   "toc_cell": true,
   "toc_position": {},
   "toc_section_display": true,
   "toc_window_display": true
  },
  "varInspector": {
   "cols": {
    "lenName": 16,
    "lenType": 16,
    "lenVar": 40
   },
   "kernels_config": {
    "python": {
     "delete_cmd_postfix": "",
     "delete_cmd_prefix": "del ",
     "library": "var_list.py",
     "varRefreshCmd": "print(var_dic_list())"
    },
    "r": {
     "delete_cmd_postfix": ") ",
     "delete_cmd_prefix": "rm(",
     "library": "var_list.r",
     "varRefreshCmd": "cat(var_dic_list()) "
    }
   },
   "types_to_exclude": [
    "module",
    "function",
    "builtin_function_or_method",
    "instance",
    "_Feature"
   ],
   "window_display": false
  }
 },
 "nbformat": 4,
 "nbformat_minor": 2
}

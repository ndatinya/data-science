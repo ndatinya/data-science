{
 "cells": [
  {
   "cell_type": "markdown",
   "metadata": {
    "toc": true
   },
   "source": [
    "<h1>Table of Contents<span class=\"tocSkip\"></span></h1>\n",
    "<div class=\"toc\"><ul class=\"toc-item\"><li><span><a href=\"#Random-Note:-To-keep-things-random,-we-have-to-seed-it-🌱\" data-toc-modified-id=\"Random-Note:-To-keep-things-random,-we-have-to-seed-it-🌱-1\"><span class=\"toc-item-num\">1&nbsp;&nbsp;</span>Random Note: To keep things random, we have to seed it 🌱</a></span></li><li><span><a href=\"#Showing-a-distribution\" data-toc-modified-id=\"Showing-a-distribution-2\"><span class=\"toc-item-num\">2&nbsp;&nbsp;</span>Showing a distribution</a></span></li><li><span><a href=\"#Statistical-Distributions\" data-toc-modified-id=\"Statistical-Distributions-3\"><span class=\"toc-item-num\">3&nbsp;&nbsp;</span>Statistical Distributions</a></span><ul class=\"toc-item\"><li><span><a href=\"#Probability-Mass-Functions-(PMFs)\" data-toc-modified-id=\"Probability-Mass-Functions-(PMFs)-3.1\"><span class=\"toc-item-num\">3.1&nbsp;&nbsp;</span>Probability Mass Functions (PMFs)</a></span><ul class=\"toc-item\"><li><span><a href=\"#Visual\" data-toc-modified-id=\"Visual-3.1.1\"><span class=\"toc-item-num\">3.1.1&nbsp;&nbsp;</span>Visual</a></span></li><li><span><a href=\"#Coding-Example\" data-toc-modified-id=\"Coding-Example-3.1.2\"><span class=\"toc-item-num\">3.1.2&nbsp;&nbsp;</span>Coding Example</a></span></li></ul></li><li><span><a href=\"#Cummulative-Distribution-Functions-(CDFs)\" data-toc-modified-id=\"Cummulative-Distribution-Functions-(CDFs)-3.2\"><span class=\"toc-item-num\">3.2&nbsp;&nbsp;</span>Cummulative Distribution Functions (CDFs)</a></span></li><li><span><a href=\"#Probability-Density-Functions-(PDFs)\" data-toc-modified-id=\"Probability-Density-Functions-(PDFs)-3.3\"><span class=\"toc-item-num\">3.3&nbsp;&nbsp;</span>Probability Density Functions (PDFs)</a></span><ul class=\"toc-item\"><li><span><a href=\"#Like-PMFs-(but-continuous)\" data-toc-modified-id=\"Like-PMFs-(but-continuous)-3.3.1\"><span class=\"toc-item-num\">3.3.1&nbsp;&nbsp;</span>Like PMFs (but continuous)</a></span></li><li><span><a href=\"#Always-use-a-range-(can-we-ever-find-an-exact-number?)\" data-toc-modified-id=\"Always-use-a-range-(can-we-ever-find-an-exact-number?)-3.3.2\"><span class=\"toc-item-num\">3.3.2&nbsp;&nbsp;</span>Always use a range (can we ever find an exact number?)</a></span></li><li><span><a href=\"#We-will-want-to-normalize-so-that-area-is-1-(Why?)\" data-toc-modified-id=\"We-will-want-to-normalize-so-that-area-is-1-(Why?)-3.3.3\"><span class=\"toc-item-num\">3.3.3&nbsp;&nbsp;</span>We will want to normalize so that area is 1 (Why?)</a></span></li><li><span><a href=\"#Example-of-PMF,-CDF,-PDF\" data-toc-modified-id=\"Example-of-PMF,-CDF,-PDF-3.3.4\"><span class=\"toc-item-num\">3.3.4&nbsp;&nbsp;</span>Example of PMF, CDF, PDF</a></span></li><li><span><a href=\"#Visualizing-PDF\" data-toc-modified-id=\"Visualizing-PDF-3.3.5\"><span class=\"toc-item-num\">3.3.5&nbsp;&nbsp;</span>Visualizing PDF</a></span><ul class=\"toc-item\"><li><span><a href=\"#Parametric-fit-(normal-curve)\" data-toc-modified-id=\"Parametric-fit-(normal-curve)-3.3.5.1\"><span class=\"toc-item-num\">3.3.5.1&nbsp;&nbsp;</span>Parametric fit (normal curve)</a></span></li><li><span><a href=\"#Kernel-density-function\" data-toc-modified-id=\"Kernel-density-function-3.3.5.2\"><span class=\"toc-item-num\">3.3.5.2&nbsp;&nbsp;</span>Kernel density function</a></span></li><li><span><a href=\"#Comparing\" data-toc-modified-id=\"Comparing-3.3.5.3\"><span class=\"toc-item-num\">3.3.5.3&nbsp;&nbsp;</span>Comparing</a></span></li></ul></li></ul></li><li><span><a href=\"#Normal-Distribution\" data-toc-modified-id=\"Normal-Distribution-3.4\"><span class=\"toc-item-num\">3.4&nbsp;&nbsp;</span>Normal Distribution</a></span><ul class=\"toc-item\"><li><span><a href=\"#Why-a-normal-distribution?\" data-toc-modified-id=\"Why-a-normal-distribution?-3.4.1\"><span class=\"toc-item-num\">3.4.1&nbsp;&nbsp;</span>Why a normal distribution?</a></span></li><li><span><a href=\"#Gaussian-distribution-==-Awesome-math--😎\" data-toc-modified-id=\"Gaussian-distribution-==-Awesome-math--😎-3.4.2\"><span class=\"toc-item-num\">3.4.2&nbsp;&nbsp;</span>Gaussian distribution == Awesome math  😎</a></span></li><li><span><a href=\"#68-95-99-rule\" data-toc-modified-id=\"68-95-99-rule-3.4.3\"><span class=\"toc-item-num\">3.4.3&nbsp;&nbsp;</span>68-95-99 rule</a></span></li><li><span><a href=\"#z-score\" data-toc-modified-id=\"z-score-3.4.4\"><span class=\"toc-item-num\">3.4.4&nbsp;&nbsp;</span>z-score</a></span></li><li><span><a href=\"#Interactive-Example\" data-toc-modified-id=\"Interactive-Example-3.4.5\"><span class=\"toc-item-num\">3.4.5&nbsp;&nbsp;</span>Interactive Example</a></span></li></ul></li><li><span><a href=\"#Deviations-from-Normal-Distribution\" data-toc-modified-id=\"Deviations-from-Normal-Distribution-3.5\"><span class=\"toc-item-num\">3.5&nbsp;&nbsp;</span>Deviations from Normal Distribution</a></span><ul class=\"toc-item\"><li><span><a href=\"#Skewness\" data-toc-modified-id=\"Skewness-3.5.1\"><span class=\"toc-item-num\">3.5.1&nbsp;&nbsp;</span>Skewness</a></span></li><li><span><a href=\"#Kurtosis\" data-toc-modified-id=\"Kurtosis-3.5.2\"><span class=\"toc-item-num\">3.5.2&nbsp;&nbsp;</span>Kurtosis</a></span></li></ul></li></ul></li></ul></div>"
   ]
  },
  {
   "cell_type": "code",
   "execution_count": null,
   "metadata": {
    "colab": {},
    "colab_type": "code",
    "id": "i_2qIXUuOHRI"
   },
   "outputs": [],
   "source": [
    "import pandas as pd\n",
    "import seaborn as sns\n",
    "import numpy as np\n",
    "import matplotlib.pyplot as plt\n",
    "from scipy.stats import skewnorm"
   ]
  },
  {
   "cell_type": "markdown",
   "metadata": {
    "heading_collapsed": true
   },
   "source": [
    "# Random Note: To keep things random, we have to seed it 🌱"
   ]
  },
  {
   "cell_type": "markdown",
   "metadata": {
    "hidden": true
   },
   "source": [
    "Since computers are not actually random, but instead use very complicated functions to create **pseudo-randomness**. By definition, a function should produce the same output if given the same input."
   ]
  },
  {
   "cell_type": "markdown",
   "metadata": {
    "hidden": true
   },
   "source": [
    "<img src='https://imgs.xkcd.com/comics/random_number.png' alt='https://xkcd.com/221/'/>"
   ]
  },
  {
   "cell_type": "markdown",
   "metadata": {
    "hidden": true
   },
   "source": [
    "<img src='images/random-number-generator.jpg' />"
   ]
  },
  {
   "cell_type": "markdown",
   "metadata": {
    "hidden": true
   },
   "source": [
    "So random number generators have a _'seed'_ that will produce a particular set of random numbers"
   ]
  },
  {
   "cell_type": "code",
   "execution_count": null,
   "metadata": {
    "hidden": true
   },
   "outputs": [],
   "source": [
    "import numpy as np\n",
    "np.random.seed(4)"
   ]
  },
  {
   "cell_type": "code",
   "execution_count": null,
   "metadata": {
    "hidden": true
   },
   "outputs": [],
   "source": [
    "print(np.random.randint(1,10,5))"
   ]
  },
  {
   "cell_type": "code",
   "execution_count": null,
   "metadata": {
    "hidden": true
   },
   "outputs": [],
   "source": [
    "print(np.random.randint(1,10,5))"
   ]
  },
  {
   "cell_type": "code",
   "execution_count": null,
   "metadata": {
    "hidden": true
   },
   "outputs": [],
   "source": [
    "print(np.random.randint(1,10,5))"
   ]
  },
  {
   "cell_type": "code",
   "execution_count": null,
   "metadata": {
    "hidden": true
   },
   "outputs": [],
   "source": [
    "print(np.random.randint(1,10,5))"
   ]
  },
  {
   "cell_type": "markdown",
   "metadata": {
    "colab_type": "text",
    "heading_collapsed": true,
    "id": "8XBVN-h2R8qy"
   },
   "source": [
    "# Showing a distribution"
   ]
  },
  {
   "cell_type": "code",
   "execution_count": null,
   "metadata": {
    "colab": {},
    "colab_type": "code",
    "hidden": true,
    "id": "ea1cCVatORmL"
   },
   "outputs": [],
   "source": [
    "mu, sigma = 14, 2.8\n",
    "N = 5000\n",
    "dist = np.random.normal(mu, sigma, N)"
   ]
  },
  {
   "cell_type": "code",
   "execution_count": null,
   "metadata": {
    "colab": {},
    "colab_type": "code",
    "hidden": true,
    "id": "ea1cCVatORmL"
   },
   "outputs": [],
   "source": [
    "df = pd.read_csv('data/california_housing_test.csv')\n",
    "df.describe()"
   ]
  },
  {
   "cell_type": "code",
   "execution_count": null,
   "metadata": {
    "colab": {},
    "colab_type": "code",
    "hidden": true,
    "id": "ea1cCVatORmL"
   },
   "outputs": [],
   "source": [
    "dist = df.housing_median_age\n",
    "mu = df.housing_median_age.mean()\n",
    "sigma = df.housing_median_age.std()\n",
    "\n",
    "print(mu,sigma)"
   ]
  },
  {
   "cell_type": "code",
   "execution_count": null,
   "metadata": {
    "colab": {},
    "colab_type": "code",
    "hidden": true,
    "id": "6K1BDA3_OTsZ"
   },
   "outputs": [],
   "source": [
    "sns.distplot(dist)\n",
    "plt.axvline(mu, color='red')\n",
    "plt.axvline(mu+sigma, color='green')\n",
    "plt.axvline(mu-sigma, color='green')\n",
    "plt.show()"
   ]
  },
  {
   "cell_type": "markdown",
   "metadata": {
    "colab_type": "text",
    "id": "Mt1tSMLUUGRH"
   },
   "source": [
    "# Statistical Distributions"
   ]
  },
  {
   "cell_type": "markdown",
   "metadata": {
    "colab_type": "text",
    "heading_collapsed": true,
    "id": "QBCW1UMDUWDg"
   },
   "source": [
    "## Probability Mass Functions (PMFs)"
   ]
  },
  {
   "cell_type": "markdown",
   "metadata": {
    "colab_type": "text",
    "hidden": true,
    "id": "QBCW1UMDUWDg"
   },
   "source": [
    "Probability Mass Function: think of it like masses hanging on a bar\n",
    "\n",
    "PMF <--> Histogram"
   ]
  },
  {
   "cell_type": "markdown",
   "metadata": {
    "colab_type": "text",
    "heading_collapsed": true,
    "hidden": true,
    "id": "8Y9NK5qWaSxe"
   },
   "source": [
    "### Visual"
   ]
  },
  {
   "cell_type": "markdown",
   "metadata": {
    "colab_type": "text",
    "hidden": true,
    "id": "KmYqaEV8aV2t"
   },
   "source": [
    "![alt text](data:image/png;base64,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)"
   ]
  },
  {
   "cell_type": "markdown",
   "metadata": {
    "colab_type": "text",
    "heading_collapsed": true,
    "hidden": true,
    "id": "X8q-6iXJaOSc"
   },
   "source": [
    "### Coding Example\n"
   ]
  },
  {
   "cell_type": "code",
   "execution_count": null,
   "metadata": {
    "colab": {
     "base_uri": "https://localhost:8080/",
     "height": 102
    },
    "colab_type": "code",
    "hidden": true,
    "id": "r4lB1cbxKzmn",
    "outputId": "8fe196c3-9c4b-420d-a69c-98dbcb7573e1"
   },
   "outputs": [],
   "source": [
    "import matplotlib.pyplot as plt\n",
    "import collections\n",
    "import numpy as np\n",
    "%matplotlib inline"
   ]
  },
  {
   "cell_type": "code",
   "execution_count": null,
   "metadata": {
    "colab": {
     "base_uri": "https://localhost:8080/",
     "height": 102
    },
    "colab_type": "code",
    "hidden": true,
    "id": "r4lB1cbxKzmn",
    "outputId": "8fe196c3-9c4b-420d-a69c-98dbcb7573e1"
   },
   "outputs": [],
   "source": [
    "roll_die1 = np.random.randint(1, 7, size=(3000)) \n",
    "roll_die2 = np.random.randint(1, 7, size=(3000))\n",
    "sum_of_dice = roll_die1 + roll_die2\n",
    "\n",
    "print(roll_die1)\n",
    "print(roll_die2)\n",
    "print(sum_of_dice)"
   ]
  },
  {
   "cell_type": "code",
   "execution_count": null,
   "metadata": {
    "colab": {
     "base_uri": "https://localhost:8080/",
     "height": 102
    },
    "colab_type": "code",
    "hidden": true,
    "id": "r4lB1cbxKzmn",
    "outputId": "8fe196c3-9c4b-420d-a69c-98dbcb7573e1"
   },
   "outputs": [],
   "source": [
    "counter_die1 = collections.Counter(roll_die1)\n",
    "counter_die2 = collections.Counter(roll_die2)\n",
    "counter_sum = collections.Counter(sum_of_dice)\n",
    "print(f'The list of events: {sum_of_dice}')\n",
    "print(counter_sum)\n",
    "\n"
   ]
  },
  {
   "cell_type": "code",
   "execution_count": null,
   "metadata": {
    "colab": {
     "base_uri": "https://localhost:8080/",
     "height": 102
    },
    "colab_type": "code",
    "hidden": true,
    "id": "r4lB1cbxKzmn",
    "outputId": "8fe196c3-9c4b-420d-a69c-98dbcb7573e1"
   },
   "outputs": [],
   "source": [
    "\n",
    "plot_range = range(1,13)\n",
    "\n",
    "pmf_die1 = [round(counter_die1.get(k,0)/len(roll_die1), 2) for k in plot_range]\n",
    "pmf_die2 = [round(counter_die2.get(k,0)/len(roll_die2), 2) for k in plot_range]\n",
    "pmf_sum = [round(counter_sum.get(k,0)/len(sum_of_dice), 2) for k in plot_range]"
   ]
  },
  {
   "cell_type": "code",
   "execution_count": null,
   "metadata": {
    "colab": {
     "base_uri": "https://localhost:8080/",
     "height": 568
    },
    "colab_type": "code",
    "hidden": true,
    "id": "6oT5FDZtQzuV",
    "outputId": "e76ed4b4-d209-45da-9baa-b31bb0eb5839"
   },
   "outputs": [],
   "source": [
    "# Plotting parts\n",
    "plt.style.use('fivethirtyeight')\n",
    "\n",
    "plt.title (\"Probability Mass Function (Die #1)\")\n",
    "plt.stem(plot_range, pmf_die1)\n",
    "plt.show()\n",
    "\n",
    "plt.title (\"Probability Mass Function (Die #2)\")\n",
    "plt.stem(plot_range, pmf_die2)\n",
    "plt.show()"
   ]
  },
  {
   "cell_type": "code",
   "execution_count": null,
   "metadata": {
    "colab": {
     "base_uri": "https://localhost:8080/",
     "height": 568
    },
    "colab_type": "code",
    "hidden": true,
    "id": "6oT5FDZtQzuV",
    "outputId": "e76ed4b4-d209-45da-9baa-b31bb0eb5839"
   },
   "outputs": [],
   "source": [
    "plt.title (\"Probability Mass Function For Dice Summed\")\n",
    "plt.stem(plot_range, pmf_sum)\n",
    "plt.show()\n",
    "\n",
    "plt.hist(sum_of_dice, range=(1,12))\n",
    "plt.show()"
   ]
  },
  {
   "cell_type": "markdown",
   "metadata": {
    "colab_type": "text",
    "heading_collapsed": true,
    "id": "fJEQRhS1Unjx"
   },
   "source": [
    "## Cummulative Distribution Functions (CDFs)"
   ]
  },
  {
   "cell_type": "markdown",
   "metadata": {
    "colab_type": "text",
    "hidden": true,
    "id": "fJEQRhS1Unjx"
   },
   "source": [
    "Easier way to show many possibilites (compared to PMF)\n",
    "\n",
    "$$ F(x) = P(X\\leq x) $$"
   ]
  },
  {
   "cell_type": "code",
   "execution_count": null,
   "metadata": {
    "cellView": "both",
    "colab": {
     "base_uri": "https://localhost:8080/",
     "height": 299
    },
    "colab_type": "code",
    "hidden": true,
    "id": "qdmyqbyDQm5I",
    "outputId": "2df12724-bddd-4bee-9d08-7f1b6023ae18"
   },
   "outputs": [],
   "source": [
    "plt.step(range(1,13), np.cumsum(pmf_die1))"
   ]
  },
  {
   "cell_type": "markdown",
   "metadata": {
    "colab_type": "text",
    "heading_collapsed": true,
    "id": "DeHyzt8NXpO-"
   },
   "source": [
    "## Probability Density Functions (PDFs)"
   ]
  },
  {
   "cell_type": "markdown",
   "metadata": {
    "colab_type": "text",
    "heading_collapsed": true,
    "hidden": true,
    "id": "aCZ9mDS2WvnS"
   },
   "source": [
    "### Like PMFs (but continuous)"
   ]
  },
  {
   "cell_type": "markdown",
   "metadata": {
    "colab_type": "text",
    "hidden": true,
    "id": "DHz8xe3IZ9pL"
   },
   "source": [
    "![alt text](https://www.weibull.com/hotwire/issue196/ht196-3.png)"
   ]
  },
  {
   "cell_type": "markdown",
   "metadata": {
    "colab_type": "text",
    "heading_collapsed": true,
    "hidden": true,
    "id": "v_9nS0JqZ_hA"
   },
   "source": [
    "### Always use a range (can we ever find an exact number?)"
   ]
  },
  {
   "cell_type": "markdown",
   "metadata": {
    "colab_type": "text",
    "hidden": true,
    "id": "jBCDgar0aBz_"
   },
   "source": [
    "<img src='images/target.png' width = 75%/>\n"
   ]
  },
  {
   "cell_type": "markdown",
   "metadata": {
    "colab_type": "text",
    "heading_collapsed": true,
    "hidden": true,
    "id": "9CI0q2UeYlp0"
   },
   "source": [
    "### We will want to normalize so that area is 1 (Why?)\n",
    "\n"
   ]
  },
  {
   "cell_type": "markdown",
   "metadata": {
    "colab_type": "text",
    "hidden": true,
    "id": "K4PGt2-kZ2uJ"
   },
   "source": [
    "![alt text](https://github.com/learn-co-students/dsc-1-09-10-the-probability-density-function-online-ds-ft-031119/blob/master/pdf2.jpg?raw=true)"
   ]
  },
  {
   "cell_type": "markdown",
   "metadata": {
    "colab_type": "text",
    "heading_collapsed": true,
    "hidden": true,
    "id": "bHAT0wc8XQWO"
   },
   "source": [
    "### Example of PMF, CDF, PDF"
   ]
  },
  {
   "cell_type": "markdown",
   "metadata": {
    "colab_type": "text",
    "hidden": true,
    "id": "8LUpSuB_ZzDV"
   },
   "source": [
    "\n",
    "![alt text](https://bokeh.pydata.org/en/0.8.2/_images/charts_histogram_cdf.png)"
   ]
  },
  {
   "cell_type": "markdown",
   "metadata": {
    "colab_type": "text",
    "heading_collapsed": true,
    "hidden": true,
    "id": "5D-1wEr5WwpO"
   },
   "source": [
    "### Visualizing PDF\n",
    "\n",
    "Remember that all data is discrete but PDF is continuous...\n",
    "\n"
   ]
  },
  {
   "cell_type": "markdown",
   "metadata": {
    "colab_type": "text",
    "heading_collapsed": true,
    "hidden": true,
    "id": "fd7D3g_5ZaMw"
   },
   "source": [
    "#### Parametric fit (normal curve)"
   ]
  },
  {
   "cell_type": "markdown",
   "metadata": {
    "colab_type": "text",
    "heading_collapsed": true,
    "hidden": true,
    "id": "JvMzlSh-ZeMr"
   },
   "source": [
    "#### Kernel density function"
   ]
  },
  {
   "cell_type": "markdown",
   "metadata": {
    "colab_type": "text",
    "hidden": true,
    "id": "ITn8IaOlaciB"
   },
   "source": [
    "![alt text](https://upload.wikimedia.org/wikipedia/commons/thumb/4/41/Comparison_of_1D_histogram_and_KDE.png/1000px-Comparison_of_1D_histogram_and_KDE.png)"
   ]
  },
  {
   "cell_type": "markdown",
   "metadata": {
    "colab_type": "text",
    "heading_collapsed": true,
    "hidden": true,
    "id": "879-HmsJZjhd"
   },
   "source": [
    "#### Comparing\n",
    "\n"
   ]
  },
  {
   "cell_type": "markdown",
   "metadata": {
    "colab_type": "text",
    "hidden": true,
    "id": "k-3b9HWeZtXP"
   },
   "source": [
    "![alt text](https://trello-attachments.s3.amazonaws.com/5c9820e82b57e23871ddad9a/5c98218a4df8f47a78d50a02/f205efa3fd69cc99c91fc6b44c8589aa/download.png)"
   ]
  },
  {
   "cell_type": "markdown",
   "metadata": {
    "colab_type": "text",
    "heading_collapsed": true,
    "id": "0vVFq6oeWi4M"
   },
   "source": [
    "## Normal Distribution\n"
   ]
  },
  {
   "cell_type": "markdown",
   "metadata": {
    "colab_type": "text",
    "hidden": true,
    "id": "R8W6zUwTcfvY"
   },
   "source": [
    "\n",
    "### Why a normal distribution?\n",
    "\n",
    "\n",
    "![alt text](https://github.com/learn-co-students/dsc-0-09-12-gaussian-distributions-online-ds-ft-031119/raw/master/bell.svg?sanitize=true)"
   ]
  },
  {
   "cell_type": "markdown",
   "metadata": {
    "colab_type": "text",
    "hidden": true,
    "id": "MEhMXnnlb0hZ"
   },
   "source": [
    "\n",
    "### Gaussian distribution == Awesome math  😎\n"
   ]
  },
  {
   "cell_type": "markdown",
   "metadata": {
    "colab_type": "text",
    "hidden": true,
    "id": "Ay4rJt6Vc45l"
   },
   "source": [
    "<img src = \"https://github.com/learn-co-students/dsc-0-09-12-gaussian-distributions-online-ds-ft-031119/blob/master/formula.jpg?raw=true\" width=300>\n"
   ]
  },
  {
   "cell_type": "markdown",
   "metadata": {
    "colab_type": "text",
    "heading_collapsed": true,
    "hidden": true,
    "id": "vZH6Bw1Ocp17"
   },
   "source": [
    "### 68-95-99 rule"
   ]
  },
  {
   "cell_type": "markdown",
   "metadata": {
    "colab_type": "text",
    "hidden": true,
    "id": "s_RI0Gdhc9m9"
   },
   "source": [
    "<img src='https://github.com/learn-co-students/dsc-0-09-12-gaussian-distributions-online-ds-ft-031119/blob/master/normalsd.jpg?raw=true' width=700/>"
   ]
  },
  {
   "cell_type": "markdown",
   "metadata": {
    "colab_type": "text",
    "heading_collapsed": true,
    "hidden": true,
    "id": "1xrEKYrodMDl"
   },
   "source": [
    "### z-score"
   ]
  },
  {
   "cell_type": "markdown",
   "metadata": {
    "colab_type": "text",
    "hidden": true,
    "id": "F14IyhJ7dN-1"
   },
   "source": [
    "$$z = \\frac{x-\\mu}{\\sigma}$$ which is just the number of std deviations from mean\n"
   ]
  },
  {
   "cell_type": "markdown",
   "metadata": {
    "colab_type": "text",
    "hidden": true,
    "id": "Asvyjxg3dg4m"
   },
   "source": [
    "Gives us the probability w/in distribution & compare 2 distributions"
   ]
  },
  {
   "cell_type": "markdown",
   "metadata": {
    "colab_type": "text",
    "heading_collapsed": true,
    "hidden": true,
    "id": "8SYnUs9jdPjk"
   },
   "source": [
    "### Interactive Example\n",
    "[Interactive Gaussians](https://www.intmath.com/counting-probability/normal-distribution-graph-interactive.php)"
   ]
  },
  {
   "cell_type": "markdown",
   "metadata": {
    "colab_type": "text",
    "id": "8xVRSWu-Ws3X"
   },
   "source": [
    "## Deviations from Normal Distribution"
   ]
  },
  {
   "cell_type": "markdown",
   "metadata": {
    "colab_type": "text",
    "heading_collapsed": true,
    "id": "VZL41C0ldGYP"
   },
   "source": [
    "### Skewness"
   ]
  },
  {
   "cell_type": "markdown",
   "metadata": {
    "colab_type": "text",
    "hidden": true,
    "id": "WHEhj3Fldob9"
   },
   "source": [
    "![alt text](https://trello-attachments.s3.amazonaws.com/5c9820e82b57e23871ddad9a/5c982e562847357b452cccd7/4bb7f068f92283d8ce096d7b4cabbfce/skew1.jpeg)"
   ]
  },
  {
   "cell_type": "markdown",
   "metadata": {
    "colab_type": "text",
    "heading_collapsed": true,
    "id": "VjVtPfWhdGs3"
   },
   "source": [
    "### Kurtosis"
   ]
  },
  {
   "cell_type": "markdown",
   "metadata": {
    "hidden": true
   },
   "source": [
    "![](images/kurto_diet.jpeg)\n",
    "\n",
    "> Courtesy of Chelsea Parlett-Pelleriti: https://twitter.com/ChelseaParlett/status/1169655314498519041"
   ]
  }
 ],
 "metadata": {
  "kernelspec": {
   "display_name": "Python 3",
   "language": "python",
   "name": "python3"
  },
  "language_info": {
   "codemirror_mode": {
    "name": "ipython",
    "version": 3
   },
   "file_extension": ".py",
   "mimetype": "text/x-python",
   "name": "python",
   "nbconvert_exporter": "python",
   "pygments_lexer": "ipython3",
   "version": "3.7.1"
  },
  "toc": {
   "base_numbering": 1,
   "nav_menu": {},
   "number_sections": true,
   "sideBar": true,
   "skip_h1_title": false,
   "title_cell": "Table of Contents",
   "title_sidebar": "Contents",
   "toc_cell": true,
   "toc_position": {},
   "toc_section_display": true,
   "toc_window_display": true
  },
  "varInspector": {
   "cols": {
    "lenName": 16,
    "lenType": 16,
    "lenVar": 40
   },
   "kernels_config": {
    "python": {
     "delete_cmd_postfix": "",
     "delete_cmd_prefix": "del ",
     "library": "var_list.py",
     "varRefreshCmd": "print(var_dic_list())"
    },
    "r": {
     "delete_cmd_postfix": ") ",
     "delete_cmd_prefix": "rm(",
     "library": "var_list.r",
     "varRefreshCmd": "cat(var_dic_list()) "
    }
   },
   "types_to_exclude": [
    "module",
    "function",
    "builtin_function_or_method",
    "instance",
    "_Feature"
   ],
   "window_display": false
  }
 },
 "nbformat": 4,
 "nbformat_minor": 2
}

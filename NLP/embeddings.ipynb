{
 "cells": [
  {
   "cell_type": "markdown",
   "metadata": {
    "toc": true
   },
   "source": [
    "<h1>Table of Contents<span class=\"tocSkip\"></span></h1>\n",
    "<div class=\"toc\"><ul class=\"toc-item\"><li><span><a href=\"#Embeddings\" data-toc-modified-id=\"Embeddings-1\"><span class=\"toc-item-num\">1&nbsp;&nbsp;</span>Embeddings</a></span></li><li><span><a href=\"#Resources\" data-toc-modified-id=\"Resources-2\"><span class=\"toc-item-num\">2&nbsp;&nbsp;</span>Resources</a></span></li><li><span><a href=\"#Word2Vec\" data-toc-modified-id=\"Word2Vec-3\"><span class=\"toc-item-num\">3&nbsp;&nbsp;</span>Word2Vec</a></span><ul class=\"toc-item\"><li><span><a href=\"#Skip-Gram-Model\" data-toc-modified-id=\"Skip-Gram-Model-3.1\"><span class=\"toc-item-num\">3.1&nbsp;&nbsp;</span>Skip-Gram Model</a></span></li></ul></li><li><span><a href=\"#GloVe---Global-Vectors-for-Word-Representation\" data-toc-modified-id=\"GloVe---Global-Vectors-for-Word-Representation-4\"><span class=\"toc-item-num\">4&nbsp;&nbsp;</span>GloVe - Global Vectors for Word Representation</a></span></li><li><span><a href=\"#What-Can-We-Do-with-Embeddings?\" data-toc-modified-id=\"What-Can-We-Do-with-Embeddings?-5\"><span class=\"toc-item-num\">5&nbsp;&nbsp;</span>What Can We Do with Embeddings?</a></span><ul class=\"toc-item\"><li><span><a href=\"#Genism-Library\" data-toc-modified-id=\"Genism-Library-5.1\"><span class=\"toc-item-num\">5.1&nbsp;&nbsp;</span>Genism Library</a></span></li><li><span><a href=\"#Visualize-with-t-SNE-(t-Distributed-Stochastic-Neighbor-Embeddings)\" data-toc-modified-id=\"Visualize-with-t-SNE-(t-Distributed-Stochastic-Neighbor-Embeddings)-5.2\"><span class=\"toc-item-num\">5.2&nbsp;&nbsp;</span>Visualize with t-SNE (t-Distributed Stochastic Neighbor Embeddings)</a></span></li><li><span><a href=\"#Transfer-Learning\" data-toc-modified-id=\"Transfer-Learning-5.3\"><span class=\"toc-item-num\">5.3&nbsp;&nbsp;</span>Transfer Learning</a></span></li></ul></li></ul></div>"
   ]
  },
  {
   "cell_type": "markdown",
   "metadata": {
    "heading_collapsed": true
   },
   "source": [
    "# Embeddings"
   ]
  },
  {
   "cell_type": "markdown",
   "metadata": {
    "hidden": true
   },
   "source": [
    "<img src='https://developers.google.com/machine-learning/crash-course/images/linear-relationships.svg' width=100%/>"
   ]
  },
  {
   "cell_type": "markdown",
   "metadata": {
    "hidden": true
   },
   "source": [
    "- Convert words into a vector space\n",
    "    + Mathematical object\n",
    "- It's all about closeness\n",
    "    + Distributional Hypothesis: https://en.wikipedia.org/wiki/Distributional_semantics#Distributional_hypothesis"
   ]
  },
  {
   "cell_type": "markdown",
   "metadata": {
    "heading_collapsed": true
   },
   "source": [
    "# Resources"
   ]
  },
  {
   "cell_type": "markdown",
   "metadata": {
    "hidden": true
   },
   "source": [
    "- Kaggle Tutorial on Embeddings (using movie ratings):\n",
    "    * [Embeddings Intro](https://www.kaggle.com/colinmorris/embedding-layers)\n",
    "    * [Matrix Factorization](https://www.kaggle.com/colinmorris/matrix-factorization)\n",
    "    * [Using Gensim to Explore Embeddings](https://www.kaggle.com/colinmorris/exploring-embeddings-with-gensim)\n",
    "    * [Visualizing with t-SNE](https://www.kaggle.com/colinmorris/visualizing-embeddings-with-t-sne)\n",
    "- Google Embedding Crash Course: https://developers.google.com/machine-learning/crash-course/embeddings"
   ]
  },
  {
   "cell_type": "markdown",
   "metadata": {
    "hidden": true
   },
   "source": [
    "<img src='https://developers.google.com/machine-learning/crash-course/images/EmbeddingExample3-1.svg' width=60%/>"
   ]
  },
  {
   "cell_type": "markdown",
   "metadata": {
    "heading_collapsed": true
   },
   "source": [
    "# Word2Vec"
   ]
  },
  {
   "cell_type": "markdown",
   "metadata": {
    "heading_collapsed": true,
    "hidden": true
   },
   "source": [
    "## Skip-Gram Model"
   ]
  },
  {
   "cell_type": "markdown",
   "metadata": {
    "hidden": true
   },
   "source": [
    "We essentially predict the words that will predict the words around it"
   ]
  },
  {
   "cell_type": "markdown",
   "metadata": {
    "hidden": true
   },
   "source": [
    "<img src='https://adventuresinmachinelearning.com/wp-content/uploads/2017/07/Word2Vec-softmax.jpg'/>"
   ]
  },
  {
   "cell_type": "markdown",
   "metadata": {
    "hidden": true
   },
   "source": [
    "- Train the MLP to find the best weights (context) to map word-to-word\n",
    "- But since words close to another usually contain context, we're _really_ teaching it context in those weights\n",
    "- Gut check: similar contexted words can be exchanged\n",
    "    + EX: \"A fluffy **dog** is a great pet\" <--> \"A fluffy **cat** is a great pet\""
   ]
  },
  {
   "cell_type": "markdown",
   "metadata": {
    "hidden": true
   },
   "source": [
    "Each word will have a vector of contexts: the embeddings!"
   ]
  },
  {
   "cell_type": "markdown",
   "metadata": {
    "heading_collapsed": true
   },
   "source": [
    "# GloVe - Global Vectors for Word Representation"
   ]
  },
  {
   "cell_type": "markdown",
   "metadata": {
    "hidden": true
   },
   "source": [
    "- Create a matrix of probability of word $w_i$ occurs in **context** of word $w_j$ for whole corpus $P(i | j)$\n",
    "- For each word, find  vectors when $w_i \\cdot w_j = P(i|j)$\n",
    "- Train to achieve good vectors"
   ]
  },
  {
   "cell_type": "markdown",
   "metadata": {
    "ExecuteTime": {
     "end_time": "2019-06-25T02:36:34.986643Z",
     "start_time": "2019-06-25T02:36:34.983359Z"
    },
    "hidden": true
   },
   "source": [
    "<img src='https://cdn-images-1.medium.com/max/800/1*UNtsSilztKXjLG99VXxSQw.png' />"
   ]
  },
  {
   "cell_type": "markdown",
   "metadata": {
    "heading_collapsed": true
   },
   "source": [
    "# What Can We Do with Embeddings?"
   ]
  },
  {
   "cell_type": "markdown",
   "metadata": {
    "heading_collapsed": true,
    "hidden": true
   },
   "source": [
    "## Genism Library"
   ]
  },
  {
   "cell_type": "markdown",
   "metadata": {
    "hidden": true
   },
   "source": [
    "- `sentences`: dataset to train on\n",
    "- `size`: how big of a word vector do we want\n",
    "- `window`: how many words around the target word to train with\n",
    "- `min_count`: how many times the word shows up in corpus; we don't want words that are rarely used\n",
    "- `workers`: number of threads (individual task \"workers\")\n"
   ]
  },
  {
   "cell_type": "markdown",
   "metadata": {
    "ExecuteTime": {
     "end_time": "2019-06-24T22:32:28.891606Z",
     "start_time": "2019-06-24T22:32:27.633734Z"
    },
    "hidden": true
   },
   "source": [
    "```python\n",
    "from gensim.models import Word2Vec\n",
    "\n",
    "# Let's assume we have our text corpus already tokenized and stored inside the variable 'data'--the regular text preprocessing steps still need to be handled before training a Word2Vec model!\n",
    "\n",
    "model = Word2Vec(data, size=100, window=5, min_count=1, workers=4)\n",
    "\n",
    "model.train(data, total_examples=model.corpus_count)\n",
    "```"
   ]
  },
  {
   "cell_type": "markdown",
   "metadata": {
    "hidden": true
   },
   "source": [
    "Can also do some interesting (fun) stuff to explore like analogies: https://www.kaggle.com/colinmorris/exploring-embeddings-with-gensim#Exploring-embeddings-with-Gensim"
   ]
  },
  {
   "cell_type": "markdown",
   "metadata": {
    "heading_collapsed": true,
    "hidden": true
   },
   "source": [
    "## Visualize with t-SNE (t-Distributed Stochastic Neighbor Embeddings)"
   ]
  },
  {
   "cell_type": "markdown",
   "metadata": {
    "hidden": true
   },
   "source": [
    "Dimensionality reduction (like PCA)\n",
    "\n",
    "Tries to maintain relative distances (also works for images as well as words)\n",
    "\n",
    "Can identify relationships and bugs"
   ]
  },
  {
   "cell_type": "markdown",
   "metadata": {
    "hidden": true
   },
   "source": [
    "![t-sne example](images/t-sne_example.png)\n",
    "> Example image from _Hands-On Machine Learning with Scikit-Learn and TensorFlow: Concepts, Tools, and Techniques to Build Intelligent Systems (2nd ed)_ GitHub repo (https://github.com/ageron/handson-ml2/blob/master/08_dimensionality_reduction.ipynb)"
   ]
  },
  {
   "cell_type": "markdown",
   "metadata": {
    "hidden": true
   },
   "source": [
    "**Example of t-SNE visualization:** https://www.kaggle.com/colinmorris/visualizing-embeddings-with-t-sne"
   ]
  },
  {
   "cell_type": "markdown",
   "metadata": {
    "heading_collapsed": true,
    "hidden": true
   },
   "source": [
    "## Transfer Learning"
   ]
  },
  {
   "cell_type": "markdown",
   "metadata": {
    "hidden": true
   },
   "source": [
    "- Usually embeddings are hundreds of dimensions\n",
    "- Just use the word embeddings already learned from before!\n",
    "    + Unless very specific terminology, context will likely carry within language\n",
    "- Comparable to CNN transfer learning"
   ]
  }
 ],
 "metadata": {
  "kernelspec": {
   "display_name": "Python 3",
   "language": "python",
   "name": "python3"
  },
  "language_info": {
   "codemirror_mode": {
    "name": "ipython",
    "version": 3
   },
   "file_extension": ".py",
   "mimetype": "text/x-python",
   "name": "python",
   "nbconvert_exporter": "python",
   "pygments_lexer": "ipython3",
   "version": "3.7.1"
  },
  "toc": {
   "base_numbering": 1,
   "nav_menu": {},
   "number_sections": true,
   "sideBar": true,
   "skip_h1_title": false,
   "title_cell": "Table of Contents",
   "title_sidebar": "Contents",
   "toc_cell": true,
   "toc_position": {},
   "toc_section_display": true,
   "toc_window_display": true
  },
  "varInspector": {
   "cols": {
    "lenName": 16,
    "lenType": 16,
    "lenVar": 40
   },
   "kernels_config": {
    "python": {
     "delete_cmd_postfix": "",
     "delete_cmd_prefix": "del ",
     "library": "var_list.py",
     "varRefreshCmd": "print(var_dic_list())"
    },
    "r": {
     "delete_cmd_postfix": ") ",
     "delete_cmd_prefix": "rm(",
     "library": "var_list.r",
     "varRefreshCmd": "cat(var_dic_list()) "
    }
   },
   "types_to_exclude": [
    "module",
    "function",
    "builtin_function_or_method",
    "instance",
    "_Feature"
   ],
   "window_display": false
  }
 },
 "nbformat": 4,
 "nbformat_minor": 2
}

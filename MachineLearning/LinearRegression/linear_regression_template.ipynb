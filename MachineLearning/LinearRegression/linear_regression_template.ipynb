{
 "cells": [
  {
   "cell_type": "markdown",
   "metadata": {
    "toc": true
   },
   "source": [
    "<h1>Table of Contents<span class=\"tocSkip\"></span></h1>\n",
    "<div class=\"toc\"><ul class=\"toc-item\"><li><span><a href=\"#Before-We-Begin,-Remember-DS-Life-Cycle\" data-toc-modified-id=\"Before-We-Begin,-Remember-DS-Life-Cycle-1\"><span class=\"toc-item-num\">1&nbsp;&nbsp;</span>Before We Begin, Remember DS Life Cycle</a></span><ul class=\"toc-item\"><li><span><a href=\"#Other-frameworks-to-consider\" data-toc-modified-id=\"Other-frameworks-to-consider-1.1\"><span class=\"toc-item-num\">1.1&nbsp;&nbsp;</span>Other frameworks to consider</a></span></li></ul></li><li><span><a href=\"#Data-Preparation\" data-toc-modified-id=\"Data-Preparation-2\"><span class=\"toc-item-num\">2&nbsp;&nbsp;</span>Data Preparation</a></span><ul class=\"toc-item\"><li><span><a href=\"#Separate-features-from-target\" data-toc-modified-id=\"Separate-features-from-target-2.1\"><span class=\"toc-item-num\">2.1&nbsp;&nbsp;</span>Separate features from target</a></span></li><li><span><a href=\"#Split-your-data-into-train-test-sets\" data-toc-modified-id=\"Split-your-data-into-train-test-sets-2.2\"><span class=\"toc-item-num\">2.2&nbsp;&nbsp;</span>Split your data into train-test sets</a></span></li></ul></li><li><span><a href=\"#Data-Exploration\" data-toc-modified-id=\"Data-Exploration-3\"><span class=\"toc-item-num\">3&nbsp;&nbsp;</span>Data Exploration</a></span></li><li><span><a href=\"#Data-Cleaning-&amp;-Feature-Engineering\" data-toc-modified-id=\"Data-Cleaning-&amp;-Feature-Engineering-4\"><span class=\"toc-item-num\">4&nbsp;&nbsp;</span>Data Cleaning &amp; Feature Engineering</a></span><ul class=\"toc-item\"><li><span><a href=\"#Getting-rid-of-unnecessary-features\" data-toc-modified-id=\"Getting-rid-of-unnecessary-features-4.1\"><span class=\"toc-item-num\">4.1&nbsp;&nbsp;</span>Getting rid of unnecessary features</a></span></li><li><span><a href=\"#Dealing-with-missing-values\" data-toc-modified-id=\"Dealing-with-missing-values-4.2\"><span class=\"toc-item-num\">4.2&nbsp;&nbsp;</span>Dealing with missing values</a></span></li><li><span><a href=\"#Working-with-numerical-features\" data-toc-modified-id=\"Working-with-numerical-features-4.3\"><span class=\"toc-item-num\">4.3&nbsp;&nbsp;</span>Working with numerical features</a></span></li><li><span><a href=\"#Working-with-categorical-features\" data-toc-modified-id=\"Working-with-categorical-features-4.4\"><span class=\"toc-item-num\">4.4&nbsp;&nbsp;</span>Working with categorical features</a></span></li><li><span><a href=\"#Finalizing-your-features-(and-labels)\" data-toc-modified-id=\"Finalizing-your-features-(and-labels)-4.5\"><span class=\"toc-item-num\">4.5&nbsp;&nbsp;</span>Finalizing your features (and labels)</a></span></li></ul></li><li><span><a href=\"#Model-the-Data\" data-toc-modified-id=\"Model-the-Data-5\"><span class=\"toc-item-num\">5&nbsp;&nbsp;</span>Model the Data</a></span></li><li><span><a href=\"#Evaluate-the-Model\" data-toc-modified-id=\"Evaluate-the-Model-6\"><span class=\"toc-item-num\">6&nbsp;&nbsp;</span>Evaluate the Model</a></span><ul class=\"toc-item\"><li><span><a href=\"#It's-good-to-observe-the-model's-coefficients-&amp;-intercepts\" data-toc-modified-id=\"It's-good-to-observe-the-model's-coefficients-&amp;-intercepts-6.1\"><span class=\"toc-item-num\">6.1&nbsp;&nbsp;</span>It's good to observe the model's coefficients &amp; intercepts</a></span></li><li><span><a href=\"#We-would-likely-want-to-see-how-features-do-in-making-predictions-(p-value)\" data-toc-modified-id=\"We-would-likely-want-to-see-how-features-do-in-making-predictions-(p-value)-6.2\"><span class=\"toc-item-num\">6.2&nbsp;&nbsp;</span>We would likely want to see how features do in making predictions (p-value)</a></span></li><li><span><a href=\"#Observe-how-well-the-model-makes-predictions\" data-toc-modified-id=\"Observe-how-well-the-model-makes-predictions-6.3\"><span class=\"toc-item-num\">6.3&nbsp;&nbsp;</span>Observe how well the model makes predictions</a></span><ul class=\"toc-item\"><li><span><a href=\"#k-fold-validation\" data-toc-modified-id=\"k-fold-validation-6.3.1\"><span class=\"toc-item-num\">6.3.1&nbsp;&nbsp;</span>k-fold validation</a></span></li></ul></li><li><span><a href=\"#If-we're-satisfied-with-our-model,-we-can-observe-how-it-does-with-the-holdout-test-set\" data-toc-modified-id=\"If-we're-satisfied-with-our-model,-we-can-observe-how-it-does-with-the-holdout-test-set-6.4\"><span class=\"toc-item-num\">6.4&nbsp;&nbsp;</span>If we're satisfied with our model, we can observe how it does with the holdout test set</a></span></li></ul></li><li><span><a href=\"#Note-to-Save-Your-Models!\" data-toc-modified-id=\"Note-to-Save-Your-Models!-7\"><span class=\"toc-item-num\">7&nbsp;&nbsp;</span>Note to Save Your Models!</a></span><ul class=\"toc-item\"><li><span><a href=\"#pickle\" data-toc-modified-id=\"pickle-7.1\"><span class=\"toc-item-num\">7.1&nbsp;&nbsp;</span><code>pickle</code></a></span></li><li><span><a href=\"#joblib\" data-toc-modified-id=\"joblib-7.2\"><span class=\"toc-item-num\">7.2&nbsp;&nbsp;</span><code>joblib</code></a></span></li></ul></li></ul></div>"
   ]
  },
  {
   "cell_type": "code",
   "execution_count": null,
   "metadata": {
    "ExecuteTime": {
     "end_time": "2020-04-15T21:22:28.771139Z",
     "start_time": "2020-04-15T21:22:28.095841Z"
    }
   },
   "outputs": [],
   "source": [
    "# Typical imports we might use\n",
    "import numpy as np\n",
    "import pandas as pd\n",
    "\n",
    "import seaborn as sns\n",
    "import matplotlib.pyplot as plt\n",
    "%matplotlib inline "
   ]
  },
  {
   "cell_type": "markdown",
   "metadata": {
    "heading_collapsed": true
   },
   "source": [
    "# Before We Begin, Remember DS Life Cycle "
   ]
  },
  {
   "cell_type": "markdown",
   "metadata": {
    "hidden": true
   },
   "source": [
    "![](https://lh3.googleusercontent.com/proxy/PYozaN6A4m2uZ4D3uWR0ORx1mi4qUq7FXb3UM8ybEYXkorNGsAf22cXaTUZ6vQpmzVMfokPMABo_NiFjl21xyx1wWIM0q7OoqrCStK4L5LnW-WHy4upFr-w60KebsxKKyJ4avYfXWRyMGxdWlYsjd2sBihqEfa6mcg)"
   ]
  },
  {
   "cell_type": "markdown",
   "metadata": {
    "heading_collapsed": true,
    "hidden": true
   },
   "source": [
    "## Other frameworks to consider"
   ]
  },
  {
   "cell_type": "markdown",
   "metadata": {
    "hidden": true
   },
   "source": [
    "> In the future, we will talk about specific frameworks like CRISP-DM **(CRoss-Industry Standard Process for Data Mining)** & OSEMN **Obtain, Scrub, Explore, Model, and iNterpret)**"
   ]
  },
  {
   "cell_type": "markdown",
   "metadata": {
    "hidden": true
   },
   "source": [
    "![](images/crisp-dm.png)"
   ]
  },
  {
   "cell_type": "markdown",
   "metadata": {
    "hidden": true
   },
   "source": [
    "![](images/osemn.png)"
   ]
  },
  {
   "cell_type": "markdown",
   "metadata": {
    "heading_collapsed": true
   },
   "source": [
    "# Data Preparation"
   ]
  },
  {
   "cell_type": "markdown",
   "metadata": {
    "hidden": true
   },
   "source": [
    "Load your data in so we can do the initial final train-test split. (Note some situations you don't do a holdout since you have a test set ready for you)."
   ]
  },
  {
   "cell_type": "markdown",
   "metadata": {
    "heading_collapsed": true,
    "hidden": true
   },
   "source": [
    "## Separate features from target"
   ]
  },
  {
   "cell_type": "code",
   "execution_count": 1,
   "metadata": {
    "ExecuteTime": {
     "end_time": "2020-04-22T19:48:39.945523Z",
     "start_time": "2020-04-22T19:48:39.943470Z"
    },
    "hidden": true
   },
   "outputs": [],
   "source": [
    "#TODO\n",
    "\n",
    "# X = \n",
    "# y ="
   ]
  },
  {
   "cell_type": "markdown",
   "metadata": {
    "ExecuteTime": {
     "end_time": "2020-04-22T19:48:48.372399Z",
     "start_time": "2020-04-22T19:48:48.370315Z"
    },
    "heading_collapsed": true,
    "hidden": true
   },
   "source": [
    "## Split your data into train-test sets"
   ]
  },
  {
   "cell_type": "code",
   "execution_count": null,
   "metadata": {
    "ExecuteTime": {
     "end_time": "2020-04-15T21:22:29.293684Z",
     "start_time": "2020-04-15T21:22:29.264702Z"
    },
    "hidden": true
   },
   "outputs": [],
   "source": [
    "from sklearn.model_selection import train_test_split\n",
    "\n",
    "#TODO\n",
    "X_train, X_test, y_train, y_test = train_test_split(X, y, test_size=0.2, random_state=27)"
   ]
  },
  {
   "cell_type": "markdown",
   "metadata": {
    "heading_collapsed": true
   },
   "source": [
    "# Data Exploration"
   ]
  },
  {
   "cell_type": "markdown",
   "metadata": {
    "hidden": true
   },
   "source": [
    "> This is likely where you'd explore your data and think about what would be good features."
   ]
  },
  {
   "cell_type": "markdown",
   "metadata": {
    "heading_collapsed": true
   },
   "source": [
    "# Data Cleaning & Feature Engineering"
   ]
  },
  {
   "cell_type": "markdown",
   "metadata": {
    "hidden": true
   },
   "source": [
    "> I made this section as one since you might go back and forth between these two sections. Organize it in the way that makes sense to you and your work.\n",
    ">\n",
    "> We want to make functions to do this cleaning and feature engineering since we'll repeat this process on our holdout test set.\n"
   ]
  },
  {
   "cell_type": "markdown",
   "metadata": {
    "heading_collapsed": true,
    "hidden": true
   },
   "source": [
    "## Getting rid of unnecessary features"
   ]
  },
  {
   "cell_type": "markdown",
   "metadata": {
    "heading_collapsed": true,
    "hidden": true
   },
   "source": [
    "## Dealing with missing values"
   ]
  },
  {
   "cell_type": "markdown",
   "metadata": {
    "heading_collapsed": true,
    "hidden": true
   },
   "source": [
    "## Working with numerical features"
   ]
  },
  {
   "cell_type": "markdown",
   "metadata": {
    "heading_collapsed": true,
    "hidden": true
   },
   "source": [
    "## Working with categorical features"
   ]
  },
  {
   "cell_type": "markdown",
   "metadata": {
    "heading_collapsed": true,
    "hidden": true
   },
   "source": [
    "## Finalizing your features (and labels)"
   ]
  },
  {
   "cell_type": "code",
   "execution_count": null,
   "metadata": {
    "ExecuteTime": {
     "end_time": "2020-04-15T21:22:29.297980Z",
     "start_time": "2020-04-15T21:22:29.295710Z"
    },
    "hidden": true
   },
   "outputs": [],
   "source": [
    "#TODO\n",
    "\n",
    "# features = \n",
    "# labels = "
   ]
  },
  {
   "cell_type": "markdown",
   "metadata": {
    "heading_collapsed": true
   },
   "source": [
    "# Model the Data"
   ]
  },
  {
   "cell_type": "markdown",
   "metadata": {
    "hidden": true
   },
   "source": [
    "> Now we'll want to train our model with our features. You'll likely do this multiple times, iterating after evaluating the model. But be sure to document your work ([save your model!](#Note-to-Save-Your-Models!))"
   ]
  },
  {
   "cell_type": "code",
   "execution_count": null,
   "metadata": {
    "ExecuteTime": {
     "end_time": "2020-04-15T21:22:29.349975Z",
     "start_time": "2020-04-15T21:22:29.299577Z"
    },
    "hidden": true
   },
   "outputs": [],
   "source": [
    "from sklearn.linear_model import LinearRegression\n",
    "\n",
    "#TODO\n",
    "# Note you can add more parameters to sklearn's LinearRegression function\n",
    "my_model = LinearRegression()\n",
    "my_model.fit(features, labels)"
   ]
  },
  {
   "cell_type": "markdown",
   "metadata": {
    "heading_collapsed": true
   },
   "source": [
    "# Evaluate the Model"
   ]
  },
  {
   "cell_type": "markdown",
   "metadata": {
    "ExecuteTime": {
     "end_time": "2020-04-15T21:27:44.128585Z",
     "start_time": "2020-04-15T21:27:44.115512Z"
    },
    "heading_collapsed": true,
    "hidden": true
   },
   "source": [
    "## It's good to observe the model's coefficients & intercepts"
   ]
  },
  {
   "cell_type": "code",
   "execution_count": null,
   "metadata": {
    "ExecuteTime": {
     "end_time": "2020-04-15T21:27:44.128585Z",
     "start_time": "2020-04-15T21:27:44.115512Z"
    },
    "hidden": true
   },
   "outputs": [],
   "source": [
    "display(my_model.coef_)\n",
    "display(my_model.intercept_)"
   ]
  },
  {
   "cell_type": "markdown",
   "metadata": {
    "heading_collapsed": true,
    "hidden": true
   },
   "source": [
    "## We would likely want to see how features do in making predictions (p-value)"
   ]
  },
  {
   "cell_type": "markdown",
   "metadata": {
    "hidden": true
   },
   "source": [
    "If you haven't already, you likely want to check this out here"
   ]
  },
  {
   "cell_type": "markdown",
   "metadata": {
    "ExecuteTime": {
     "end_time": "2020-04-15T21:22:29.359880Z",
     "start_time": "2020-04-15T21:22:29.351407Z"
    },
    "heading_collapsed": true,
    "hidden": true
   },
   "source": [
    "## Observe how well the model makes predictions"
   ]
  },
  {
   "cell_type": "markdown",
   "metadata": {
    "heading_collapsed": true,
    "hidden": true
   },
   "source": [
    "### k-fold validation"
   ]
  },
  {
   "cell_type": "markdown",
   "metadata": {
    "hidden": true
   },
   "source": [
    "> We use k-fold validation to see how well our model did using just the \"training set\". This effectively creates a new train-validation set for each fold. We can use the RMSE to compare different models or different variations of our models."
   ]
  },
  {
   "cell_type": "code",
   "execution_count": null,
   "metadata": {
    "ExecuteTime": {
     "end_time": "2020-04-15T21:22:29.386494Z",
     "start_time": "2020-04-15T21:22:29.361182Z"
    },
    "hidden": true
   },
   "outputs": [],
   "source": [
    "from sklearn.model_selection import cross_val_score\n",
    "\n",
    "scores = cross_val_score(\n",
    "            my_model, \n",
    "            features,\n",
    "            labels,\n",
    "            cv=10,\n",
    "            scoring=\"neg_mean_squared_error\"\n",
    ")\n",
    "\n",
    "rmse_scores = np.sqrt(-scores)"
   ]
  },
  {
   "cell_type": "code",
   "execution_count": null,
   "metadata": {
    "ExecuteTime": {
     "end_time": "2020-04-15T21:22:29.394226Z",
     "start_time": "2020-04-15T21:22:29.387835Z"
    },
    "hidden": true
   },
   "outputs": [],
   "source": [
    "display(rmse_scores)\n",
    "display(rmse_scores.mean())\n",
    "display(rmse_scores.std())"
   ]
  },
  {
   "cell_type": "markdown",
   "metadata": {
    "heading_collapsed": true,
    "hidden": true
   },
   "source": [
    "## If we're satisfied with our model, we can observe how it does with the holdout test set"
   ]
  },
  {
   "cell_type": "markdown",
   "metadata": {
    "heading_collapsed": true
   },
   "source": [
    "# Note to Save Your Models!"
   ]
  },
  {
   "cell_type": "markdown",
   "metadata": {
    "hidden": true
   },
   "source": [
    "<img src='images/save_the_models.png' height=60%/>"
   ]
  },
  {
   "cell_type": "markdown",
   "metadata": {
    "heading_collapsed": true,
    "hidden": true
   },
   "source": [
    "## `pickle`"
   ]
  },
  {
   "cell_type": "code",
   "execution_count": null,
   "metadata": {
    "ExecuteTime": {
     "end_time": "2020-04-15T21:22:29.398753Z",
     "start_time": "2020-04-15T21:22:29.395619Z"
    },
    "hidden": true
   },
   "outputs": [],
   "source": [
    "import pickle\n",
    "\n",
    "pickle.dump(my_model, open('my_model_pickle.pkl','wb'))"
   ]
  },
  {
   "cell_type": "code",
   "execution_count": null,
   "metadata": {
    "ExecuteTime": {
     "end_time": "2020-04-15T21:22:29.403373Z",
     "start_time": "2020-04-15T21:22:29.400136Z"
    },
    "hidden": true
   },
   "outputs": [],
   "source": [
    "# Load the model from earlier\n",
    "model_loaded = pickle.load(open('my_model_pickle.pkl','rb'))"
   ]
  },
  {
   "cell_type": "markdown",
   "metadata": {
    "heading_collapsed": true,
    "hidden": true
   },
   "source": [
    "## `joblib`"
   ]
  },
  {
   "cell_type": "code",
   "execution_count": null,
   "metadata": {
    "ExecuteTime": {
     "end_time": "2020-04-15T21:22:29.409860Z",
     "start_time": "2020-04-15T21:22:29.405311Z"
    },
    "hidden": true
   },
   "outputs": [],
   "source": [
    "import joblib\n",
    "\n",
    "joblib.dump(my_model, \"my_model.pkl\")"
   ]
  },
  {
   "cell_type": "code",
   "execution_count": null,
   "metadata": {
    "ExecuteTime": {
     "end_time": "2020-04-15T21:22:29.415676Z",
     "start_time": "2020-04-15T21:22:29.411300Z"
    },
    "hidden": true
   },
   "outputs": [],
   "source": [
    "# Load the model from earlier\n",
    "my_model_loaded = joblib.load(\"my_model.pkl\")"
   ]
  }
 ],
 "metadata": {
  "kernelspec": {
   "display_name": "Python 3",
   "language": "python",
   "name": "python3"
  },
  "language_info": {
   "codemirror_mode": {
    "name": "ipython",
    "version": 3
   },
   "file_extension": ".py",
   "mimetype": "text/x-python",
   "name": "python",
   "nbconvert_exporter": "python",
   "pygments_lexer": "ipython3",
   "version": "3.6.6"
  },
  "toc": {
   "base_numbering": 1,
   "nav_menu": {},
   "number_sections": true,
   "sideBar": false,
   "skip_h1_title": false,
   "title_cell": "Table of Contents",
   "title_sidebar": "Contents",
   "toc_cell": true,
   "toc_position": {},
   "toc_section_display": true,
   "toc_window_display": false
  },
  "varInspector": {
   "cols": {
    "lenName": 16,
    "lenType": 16,
    "lenVar": 40
   },
   "kernels_config": {
    "python": {
     "delete_cmd_postfix": "",
     "delete_cmd_prefix": "del ",
     "library": "var_list.py",
     "varRefreshCmd": "print(var_dic_list())"
    },
    "r": {
     "delete_cmd_postfix": ") ",
     "delete_cmd_prefix": "rm(",
     "library": "var_list.r",
     "varRefreshCmd": "cat(var_dic_list()) "
    }
   },
   "types_to_exclude": [
    "module",
    "function",
    "builtin_function_or_method",
    "instance",
    "_Feature"
   ],
   "window_display": false
  }
 },
 "nbformat": 4,
 "nbformat_minor": 2
}

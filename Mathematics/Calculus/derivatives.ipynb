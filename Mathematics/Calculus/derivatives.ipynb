{
 "cells": [
  {
   "cell_type": "markdown",
   "metadata": {
    "toc": true
   },
   "source": [
    "<h1>Table of Contents<span class=\"tocSkip\"></span></h1>\n",
    "<div class=\"toc\"><ul class=\"toc-item\"><li><span><a href=\"#Intro-to-Derivatives:-Rates-of-Change\" data-toc-modified-id=\"Intro-to-Derivatives:-Rates-of-Change-1\"><span class=\"toc-item-num\">1&nbsp;&nbsp;</span>Intro to Derivatives: Rates of Change</a></span><ul class=\"toc-item\"><li><span><a href=\"#Rate-of-change-for-a-(linear)-function\" data-toc-modified-id=\"Rate-of-change-for-a-(linear)-function-1.1\"><span class=\"toc-item-num\">1.1&nbsp;&nbsp;</span>Rate of change for a (linear) function</a></span></li><li><span><a href=\"#Rate-of-change-for-non-linear-functions\" data-toc-modified-id=\"Rate-of-change-for-non-linear-functions-1.2\"><span class=\"toc-item-num\">1.2&nbsp;&nbsp;</span>Rate of change for non-linear functions</a></span></li><li><span><a href=\"#Rate-of-Change--->-Derivative\" data-toc-modified-id=\"Rate-of-Change--->-Derivative-1.3\"><span class=\"toc-item-num\">1.3&nbsp;&nbsp;</span>Rate of Change --&gt; Derivative</a></span></li></ul></li><li><span><a href=\"#Basic-Rules-for-Derivatives\" data-toc-modified-id=\"Basic-Rules-for-Derivatives-2\"><span class=\"toc-item-num\">2&nbsp;&nbsp;</span>Basic Rules for Derivatives</a></span><ul class=\"toc-item\"><li><span><a href=\"#Power-Rule\" data-toc-modified-id=\"Power-Rule-2.1\"><span class=\"toc-item-num\">2.1&nbsp;&nbsp;</span>Power Rule</a></span></li><li><span><a href=\"#Addition-Terms-&amp;-Coefficients\" data-toc-modified-id=\"Addition-Terms-&amp;-Coefficients-2.2\"><span class=\"toc-item-num\">2.2&nbsp;&nbsp;</span>Addition Terms &amp; Coefficients</a></span></li></ul></li><li><span><a href=\"#The-Chain-Rule\" data-toc-modified-id=\"The-Chain-Rule-3\"><span class=\"toc-item-num\">3&nbsp;&nbsp;</span>The Chain Rule</a></span></li><li><span><a href=\"#Finding-Minimum-&amp;-Maximum-with-Derivatives\" data-toc-modified-id=\"Finding-Minimum-&amp;-Maximum-with-Derivatives-4\"><span class=\"toc-item-num\">4&nbsp;&nbsp;</span>Finding Minimum &amp; Maximum with Derivatives</a></span></li></ul></div>"
   ]
  },
  {
   "cell_type": "markdown",
   "metadata": {
    "heading_collapsed": true
   },
   "source": [
    "# Intro to Derivatives: Rates of Change"
   ]
  },
  {
   "cell_type": "markdown",
   "metadata": {
    "heading_collapsed": true,
    "hidden": true
   },
   "source": [
    "## Rate of change for a (linear) function"
   ]
  },
  {
   "cell_type": "markdown",
   "metadata": {
    "hidden": true
   },
   "source": [
    "Slope is rate the change for line --> rate is constant\n",
    "\n",
    "For any two points:\n",
    "\n",
    "$$ \\frac{\\Delta y}{\\Delta x} = \\frac{y_2 - y_1}{x_2 - x_1}$$"
   ]
  },
  {
   "cell_type": "markdown",
   "metadata": {
    "hidden": true
   },
   "source": [
    "We can define this as a derivative:\n",
    "\n",
    "$$ \n",
    "f'(x) = \\dfrac{\\Delta y}{\\Delta x} =  \\dfrac{f(x + \\Delta x) - f(x)}{\\Delta x}\n",
    "$$"
   ]
  },
  {
   "cell_type": "markdown",
   "metadata": {
    "heading_collapsed": true,
    "hidden": true
   },
   "source": [
    "## Rate of change for non-linear functions"
   ]
  },
  {
   "cell_type": "markdown",
   "metadata": {
    "hidden": true
   },
   "source": [
    "Same thing, but note that our derivative is not on the function itself!"
   ]
  },
  {
   "cell_type": "markdown",
   "metadata": {
    "heading_collapsed": true,
    "hidden": true
   },
   "source": [
    "## Rate of Change --> Derivative"
   ]
  },
  {
   "cell_type": "markdown",
   "metadata": {
    "heading_collapsed": true
   },
   "source": [
    "# Basic Rules for Derivatives"
   ]
  },
  {
   "cell_type": "markdown",
   "metadata": {
    "heading_collapsed": true,
    "hidden": true
   },
   "source": [
    "## Power Rule"
   ]
  },
  {
   "cell_type": "markdown",
   "metadata": {
    "heading_collapsed": true,
    "hidden": true
   },
   "source": [
    "## Addition Terms & Coefficients"
   ]
  },
  {
   "cell_type": "markdown",
   "metadata": {
    "heading_collapsed": true
   },
   "source": [
    "# The Chain Rule"
   ]
  },
  {
   "cell_type": "markdown",
   "metadata": {
    "hidden": true
   },
   "source": [
    "$$h'(x) = (f\\circ g)'(x) = f'(g(x)) \\cdot g'(x)$$\n",
    "\n",
    "$$\\frac{dh}{dx} = \\frac{df}{dg} \\cdot \\frac{dg}{dx} = f'(y)g'(x) \\text{  where } y = g(x)$$ "
   ]
  },
  {
   "cell_type": "markdown",
   "metadata": {
    "heading_collapsed": true
   },
   "source": [
    "# Finding Minimum & Maximum with Derivatives"
   ]
  },
  {
   "cell_type": "markdown",
   "metadata": {
    "hidden": true
   },
   "source": [
    "Tops of hills"
   ]
  }
 ],
 "metadata": {
  "kernelspec": {
   "display_name": "Python 3",
   "language": "python",
   "name": "python3"
  },
  "language_info": {
   "codemirror_mode": {
    "name": "ipython",
    "version": 3
   },
   "file_extension": ".py",
   "mimetype": "text/x-python",
   "name": "python",
   "nbconvert_exporter": "python",
   "pygments_lexer": "ipython3",
   "version": "3.7.1"
  },
  "toc": {
   "base_numbering": 1,
   "nav_menu": {},
   "number_sections": true,
   "sideBar": false,
   "skip_h1_title": false,
   "title_cell": "Table of Contents",
   "title_sidebar": "Contents",
   "toc_cell": true,
   "toc_position": {},
   "toc_section_display": true,
   "toc_window_display": false
  },
  "varInspector": {
   "cols": {
    "lenName": 16,
    "lenType": 16,
    "lenVar": 40
   },
   "kernels_config": {
    "python": {
     "delete_cmd_postfix": "",
     "delete_cmd_prefix": "del ",
     "library": "var_list.py",
     "varRefreshCmd": "print(var_dic_list())"
    },
    "r": {
     "delete_cmd_postfix": ") ",
     "delete_cmd_prefix": "rm(",
     "library": "var_list.r",
     "varRefreshCmd": "cat(var_dic_list()) "
    }
   },
   "types_to_exclude": [
    "module",
    "function",
    "builtin_function_or_method",
    "instance",
    "_Feature"
   ],
   "window_display": false
  }
 },
 "nbformat": 4,
 "nbformat_minor": 2
}

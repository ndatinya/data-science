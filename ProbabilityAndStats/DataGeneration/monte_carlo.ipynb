{
 "cells": [
  {
   "cell_type": "markdown",
   "metadata": {
    "toc": true
   },
   "source": [
    "<h1>Table of Contents<span class=\"tocSkip\"></span></h1>\n",
    "<div class=\"toc\"><ul class=\"toc-item\"><li><span><a href=\"#Monte-Carlo-Simulations\" data-toc-modified-id=\"Monte-Carlo-Simulations-1\"><span class=\"toc-item-num\">1&nbsp;&nbsp;</span>Monte Carlo Simulations</a></span></li><li><span><a href=\"#Code-Implementation\" data-toc-modified-id=\"Code-Implementation-2\"><span class=\"toc-item-num\">2&nbsp;&nbsp;</span>Code Implementation</a></span><ul class=\"toc-item\"><li><span><a href=\"#From-Curriculum\" data-toc-modified-id=\"From-Curriculum-2.1\"><span class=\"toc-item-num\">2.1&nbsp;&nbsp;</span>From Curriculum</a></span></li><li><span><a href=\"#Other-Resources\" data-toc-modified-id=\"Other-Resources-2.2\"><span class=\"toc-item-num\">2.2&nbsp;&nbsp;</span>Other Resources</a></span></li></ul></li></ul></div>"
   ]
  },
  {
   "cell_type": "markdown",
   "metadata": {
    "heading_collapsed": true
   },
   "source": [
    "# Monte Carlo Simulations"
   ]
  },
  {
   "cell_type": "markdown",
   "metadata": {
    "hidden": true
   },
   "source": [
    "Would've been called \"Las Vegas\" if it was developed in the US\n",
    "\n",
    "Useful for simulations/calculations when it's more computationally efficient to only do some vs all "
   ]
  },
  {
   "cell_type": "markdown",
   "metadata": {
    "heading_collapsed": true
   },
   "source": [
    "# Code Implementation"
   ]
  },
  {
   "cell_type": "markdown",
   "metadata": {
    "heading_collapsed": true,
    "hidden": true
   },
   "source": [
    "## From Curriculum"
   ]
  },
  {
   "cell_type": "code",
   "execution_count": null,
   "metadata": {
    "ExecuteTime": {
     "end_time": "2019-07-10T21:29:12.800372Z",
     "start_time": "2019-07-10T21:29:12.541584Z"
    },
    "hidden": true
   },
   "outputs": [],
   "source": [
    "import numpy as np\n",
    "import matplotlib.pyplot as plt"
   ]
  },
  {
   "cell_type": "code",
   "execution_count": null,
   "metadata": {
    "ExecuteTime": {
     "end_time": "2019-07-10T21:29:15.588160Z",
     "start_time": "2019-07-10T21:29:15.015088Z"
    },
    "hidden": true
   },
   "outputs": [],
   "source": [
    "#1 Generate random points\n",
    "n_points = 10**4\n",
    "x = np.random.uniform(low=-1, high=1, size=n_points)\n",
    "y = np.random.uniform(low=-1, high=1, size=n_points)\n",
    "\n",
    "inside = {'x':[], 'y':[]}\n",
    "outside = {'x':[], 'y':[]}\n",
    "\n",
    "#2 Determine if the point is inside or outside our circle\n",
    "count = 0\n",
    "for x, y in list(zip(x,y)):\n",
    "    if x**2 + y**2 <= 1:\n",
    "        inside['x'] = inside['x'] + [x]\n",
    "        inside['y'] = inside['y'] + [y]\n",
    "    else:\n",
    "        outside['x'] = outside['x']  + [x]\n",
    "        outside['y'] = outside['y']  + [y]\n",
    "    \n",
    "#3 Use these sample points to estimate our circle area\n",
    "plt.figure(figsize=(8,8))\n",
    "plt.scatter(inside['x'], inside['y'], c='blue')\n",
    "plt.scatter(outside['x'], outside['y'], c='orange')\n",
    "plt.show()"
   ]
  },
  {
   "cell_type": "code",
   "execution_count": null,
   "metadata": {
    "ExecuteTime": {
     "end_time": "2019-07-10T21:29:18.463361Z",
     "start_time": "2019-07-10T21:29:18.459635Z"
    },
    "hidden": true
   },
   "outputs": [],
   "source": [
    "n_inside = len(inside['x'])\n",
    "n_outside = len(outside['x'])\n",
    "frac_inside = n_inside / (n_outside + n_inside)\n",
    "total_area = 4\n",
    "area_inside = frac_inside * total_area\n",
    "print(area_inside)"
   ]
  },
  {
   "cell_type": "markdown",
   "metadata": {
    "heading_collapsed": true,
    "hidden": true
   },
   "source": [
    "## Other Resources"
   ]
  },
  {
   "cell_type": "markdown",
   "metadata": {
    "hidden": true
   },
   "source": [
    "Resource does a good job explaining Monte Carlo Simulations: http://zwmiller.com/projects/monte_carlo_part1.html\n",
    "\n",
    "http://zwmiller.com/projects/notebooks/video_poker.html#Let's-compare-this-to-randomly-choosing-a-combo-to-hold."
   ]
  }
 ],
 "metadata": {
  "kernelspec": {
   "display_name": "Python 3",
   "language": "python",
   "name": "python3"
  },
  "language_info": {
   "codemirror_mode": {
    "name": "ipython",
    "version": 3
   },
   "file_extension": ".py",
   "mimetype": "text/x-python",
   "name": "python",
   "nbconvert_exporter": "python",
   "pygments_lexer": "ipython3",
   "version": "3.7.1"
  },
  "toc": {
   "base_numbering": 1,
   "nav_menu": {},
   "number_sections": true,
   "sideBar": true,
   "skip_h1_title": false,
   "title_cell": "Table of Contents",
   "title_sidebar": "Contents",
   "toc_cell": true,
   "toc_position": {},
   "toc_section_display": true,
   "toc_window_display": true
  },
  "varInspector": {
   "cols": {
    "lenName": 16,
    "lenType": 16,
    "lenVar": 40
   },
   "kernels_config": {
    "python": {
     "delete_cmd_postfix": "",
     "delete_cmd_prefix": "del ",
     "library": "var_list.py",
     "varRefreshCmd": "print(var_dic_list())"
    },
    "r": {
     "delete_cmd_postfix": ") ",
     "delete_cmd_prefix": "rm(",
     "library": "var_list.r",
     "varRefreshCmd": "cat(var_dic_list()) "
    }
   },
   "types_to_exclude": [
    "module",
    "function",
    "builtin_function_or_method",
    "instance",
    "_Feature"
   ],
   "window_display": false
  }
 },
 "nbformat": 4,
 "nbformat_minor": 2
}

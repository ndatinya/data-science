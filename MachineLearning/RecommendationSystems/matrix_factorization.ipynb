{
 "cells": [
  {
   "cell_type": "markdown",
   "metadata": {
    "toc": true
   },
   "source": [
    "<h1>Table of Contents<span class=\"tocSkip\"></span></h1>\n",
    "<div class=\"toc\"><ul class=\"toc-item\"><li><span><a href=\"#Embeddings:-Getting-Latent-Properties\" data-toc-modified-id=\"Embeddings:-Getting-Latent-Properties-1\"><span class=\"toc-item-num\">1&nbsp;&nbsp;</span>Embeddings: Getting Latent Properties</a></span><ul class=\"toc-item\"><li><span><a href=\"#The-intuition\" data-toc-modified-id=\"The-intuition-1.1\"><span class=\"toc-item-num\">1.1&nbsp;&nbsp;</span>The intuition</a></span></li></ul></li><li><span><a href=\"#Matrix-Factorization\" data-toc-modified-id=\"Matrix-Factorization-2\"><span class=\"toc-item-num\">2&nbsp;&nbsp;</span>Matrix Factorization</a></span><ul class=\"toc-item\"><li><span><a href=\"#Goal\" data-toc-modified-id=\"Goal-2.1\"><span class=\"toc-item-num\">2.1&nbsp;&nbsp;</span>Goal</a></span></li><li><span><a href=\"#SVD---Singular-Value-Decomposition\" data-toc-modified-id=\"SVD---Singular-Value-Decomposition-2.2\"><span class=\"toc-item-num\">2.2&nbsp;&nbsp;</span>SVD - Singular Value Decomposition</a></span></li></ul></li><li><span><a href=\"#Aside-on-More-Embeddings-Practice\" data-toc-modified-id=\"Aside-on-More-Embeddings-Practice-3\"><span class=\"toc-item-num\">3&nbsp;&nbsp;</span>Aside on More Embeddings Practice</a></span></li></ul></div>"
   ]
  },
  {
   "cell_type": "markdown",
   "metadata": {
    "heading_collapsed": true
   },
   "source": [
    "# Embeddings: Getting Latent Properties"
   ]
  },
  {
   "cell_type": "markdown",
   "metadata": {
    "hidden": true
   },
   "source": [
    "> Embeddings are created to use **latent properties** that best predict the system\n",
    "\n",
    "Takes discrete elements to a dense vector space"
   ]
  },
  {
   "cell_type": "markdown",
   "metadata": {
    "heading_collapsed": true,
    "hidden": true
   },
   "source": [
    "## The intuition"
   ]
  },
  {
   "cell_type": "markdown",
   "metadata": {
    "hidden": true
   },
   "source": [
    "> Going back to our movie scenario\n",
    "\n",
    "A movie's vector like $m_{minions} = [0.3,\\ 0.4,\\ -0.8 ]$ can represent attributes like how funny is it, how romantic is it, etc.\n",
    "\n",
    "\n",
    "A user's vector like $u_{minions} = [0.7,\\ -0.1,\\ 0.8 ]$ can represent attributes like how much the like comedies, romantic movies, etc."
   ]
  },
  {
   "cell_type": "markdown",
   "metadata": {
    "heading_collapsed": true
   },
   "source": [
    "# Matrix Factorization"
   ]
  },
  {
   "cell_type": "markdown",
   "metadata": {
    "hidden": true
   },
   "source": [
    "We take: \n",
    "- vectors representing things like movie features \n",
    "- vectors representing things like user features\n",
    "\n",
    "Then we do the dot product between the two to see how they match"
   ]
  },
  {
   "cell_type": "markdown",
   "metadata": {
    "hidden": true
   },
   "source": [
    "![](images/matrix_decomp.png)"
   ]
  },
  {
   "cell_type": "markdown",
   "metadata": {
    "heading_collapsed": true,
    "hidden": true
   },
   "source": [
    "## Goal"
   ]
  },
  {
   "cell_type": "markdown",
   "metadata": {
    "hidden": true
   },
   "source": [
    "Find **embeddings** that can do a good job in recreating the original ratings based on users and items"
   ]
  },
  {
   "cell_type": "markdown",
   "metadata": {
    "heading_collapsed": true,
    "hidden": true
   },
   "source": [
    "## SVD - Singular Value Decomposition"
   ]
  },
  {
   "cell_type": "markdown",
   "metadata": {
    "hidden": true
   },
   "source": [
    "![](images/auevt.png)"
   ]
  },
  {
   "cell_type": "markdown",
   "metadata": {
    "heading_collapsed": true
   },
   "source": [
    "# Aside on More Embeddings Practice"
   ]
  },
  {
   "cell_type": "markdown",
   "metadata": {
    "hidden": true
   },
   "source": [
    "There was a great tutorial series on Kaggle but had been removed. https://web.archive.org/web/20190517052537/https://www.kaggle.com/learn/embeddings"
   ]
  },
  {
   "cell_type": "markdown",
   "metadata": {
    "hidden": true
   },
   "source": [
    "However, all the tutorials from Colin Morris are still still available (at least as of right now):\n",
    "\n",
    "1. Embedding layers: https://www.kaggle.com/colinmorris/embedding-layers\n",
    "    + Exercise: https://www.kaggle.com/colinmorris/exercise-embedding-layers\n",
    "2. Matrix Factorization: https://www.kaggle.com/colinmorris/matrix-factorization\n",
    "    + Exercise: https://www.kaggle.com/colinmorris/exercise-matrix-factorization\n",
    "3. Exploring Embeddings With Gensim: https://www.kaggle.com/colinmorris/exploring-embeddings-with-gensim\n",
    "    + Exercise: https://www.kaggle.com/colinmorris/exercise-exploring-embeddings-with-gensim\n",
    "4. Visualizing Embeddings With t-SNE: https://www.kaggle.com/colinmorris/visualizing-embeddings-with-t-sne\n",
    "    + Exercise: https://www.kaggle.com/colinmorris/exercise-visualizing-embeddings-with-t-sne"
   ]
  }
 ],
 "metadata": {
  "kernelspec": {
   "display_name": "Python 3",
   "language": "python",
   "name": "python3"
  },
  "language_info": {
   "codemirror_mode": {
    "name": "ipython",
    "version": 3
   },
   "file_extension": ".py",
   "mimetype": "text/x-python",
   "name": "python",
   "nbconvert_exporter": "python",
   "pygments_lexer": "ipython3",
   "version": "3.6.6"
  },
  "toc": {
   "base_numbering": 1,
   "nav_menu": {},
   "number_sections": true,
   "sideBar": true,
   "skip_h1_title": false,
   "title_cell": "Table of Contents",
   "title_sidebar": "Contents",
   "toc_cell": true,
   "toc_position": {},
   "toc_section_display": true,
   "toc_window_display": true
  },
  "varInspector": {
   "cols": {
    "lenName": 16,
    "lenType": 16,
    "lenVar": 40
   },
   "kernels_config": {
    "python": {
     "delete_cmd_postfix": "",
     "delete_cmd_prefix": "del ",
     "library": "var_list.py",
     "varRefreshCmd": "print(var_dic_list())"
    },
    "r": {
     "delete_cmd_postfix": ") ",
     "delete_cmd_prefix": "rm(",
     "library": "var_list.r",
     "varRefreshCmd": "cat(var_dic_list()) "
    }
   },
   "types_to_exclude": [
    "module",
    "function",
    "builtin_function_or_method",
    "instance",
    "_Feature"
   ],
   "window_display": false
  }
 },
 "nbformat": 4,
 "nbformat_minor": 2
}

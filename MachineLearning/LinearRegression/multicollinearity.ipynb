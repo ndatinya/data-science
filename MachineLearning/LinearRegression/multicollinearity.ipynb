{
 "cells": [
  {
   "cell_type": "markdown",
   "metadata": {
    "toc": true
   },
   "source": [
    "<h1>Table of Contents<span class=\"tocSkip\"></span></h1>\n",
    "<div class=\"toc\"><ul class=\"toc-item\"><li><span><a href=\"#Multicollinearity\" data-toc-modified-id=\"Multicollinearity-1\"><span class=\"toc-item-num\">1&nbsp;&nbsp;</span>Multicollinearity</a></span><ul class=\"toc-item\"><li><span><a href=\"#Example-of-Exploring-for-Multicollinearity\" data-toc-modified-id=\"Example-of-Exploring-for-Multicollinearity-1.1\"><span class=\"toc-item-num\">1.1&nbsp;&nbsp;</span>Example of Exploring for Multicollinearity</a></span><ul class=\"toc-item\"><li><span><a href=\"#Looking-at-Correlation\" data-toc-modified-id=\"Looking-at-Correlation-1.1.1\"><span class=\"toc-item-num\">1.1.1&nbsp;&nbsp;</span>Looking at Correlation</a></span></li></ul></li></ul></li></ul></div>"
   ]
  },
  {
   "cell_type": "code",
   "execution_count": null,
   "metadata": {
    "ExecuteTime": {
     "end_time": "2020-04-15T04:51:18.023245Z",
     "start_time": "2020-04-15T04:51:15.129608Z"
    }
   },
   "outputs": [],
   "source": [
    "import numpy as np\n",
    "import matplotlib.pyplot as plt\n",
    "import seaborn as sns"
   ]
  },
  {
   "cell_type": "code",
   "execution_count": null,
   "metadata": {
    "ExecuteTime": {
     "end_time": "2020-04-15T04:51:18.140356Z",
     "start_time": "2020-04-15T04:51:18.025265Z"
    }
   },
   "outputs": [],
   "source": [
    "# Example data\n",
    "import pandas as pd\n",
    "data = pd.read_csv(\"auto-mpg.csv\")\n",
    "data.head()"
   ]
  },
  {
   "cell_type": "markdown",
   "metadata": {
    "heading_collapsed": true
   },
   "source": [
    "# Multicollinearity"
   ]
  },
  {
   "cell_type": "markdown",
   "metadata": {
    "hidden": true
   },
   "source": [
    "When features are correlated with one another.\n",
    "\n",
    "Regression relies on features to be independent; as we change one feature/variable, the others are constant\n",
    "\n",
    "- Large changes in prediciton model from small changes\n",
    "- p-values may be inaccurate\n",
    "\n",
    "Note that there are better/more methodical ways of dealing with multicollinearity"
   ]
  },
  {
   "cell_type": "markdown",
   "metadata": {
    "heading_collapsed": true,
    "hidden": true
   },
   "source": [
    "## Example of Exploring for Multicollinearity"
   ]
  },
  {
   "cell_type": "code",
   "execution_count": null,
   "metadata": {
    "ExecuteTime": {
     "end_time": "2020-04-15T04:51:18.158970Z",
     "start_time": "2020-04-15T04:51:18.143037Z"
    },
    "hidden": true
   },
   "outputs": [],
   "source": [
    "data_features = data.drop(['mpg'], axis=1)\n",
    "data_features.head()"
   ]
  },
  {
   "cell_type": "code",
   "execution_count": null,
   "metadata": {
    "ExecuteTime": {
     "end_time": "2020-04-15T04:51:20.343820Z",
     "start_time": "2020-04-15T04:51:18.160791Z"
    },
    "hidden": true
   },
   "outputs": [],
   "source": [
    "pd.plotting.scatter_matrix(data_features, figsize = [12, 12]);"
   ]
  },
  {
   "cell_type": "markdown",
   "metadata": {
    "heading_collapsed": true,
    "hidden": true
   },
   "source": [
    "### Looking at Correlation"
   ]
  },
  {
   "cell_type": "code",
   "execution_count": null,
   "metadata": {
    "ExecuteTime": {
     "end_time": "2020-04-15T04:51:20.357461Z",
     "start_time": "2020-04-15T04:51:20.345273Z"
    },
    "hidden": true
   },
   "outputs": [],
   "source": [
    "# Determining the correlation on the DF\n",
    "data_features.corr()"
   ]
  },
  {
   "cell_type": "code",
   "execution_count": null,
   "metadata": {
    "ExecuteTime": {
     "end_time": "2020-04-15T04:51:20.532364Z",
     "start_time": "2020-04-15T04:51:20.359020Z"
    },
    "hidden": true
   },
   "outputs": [],
   "source": [
    "import seaborn as sns\n",
    "sns.heatmap(data_features.corr(), center=0);"
   ]
  }
 ],
 "metadata": {
  "kernelspec": {
   "display_name": "Python 3",
   "language": "python",
   "name": "python3"
  },
  "language_info": {
   "codemirror_mode": {
    "name": "ipython",
    "version": 3
   },
   "file_extension": ".py",
   "mimetype": "text/x-python",
   "name": "python",
   "nbconvert_exporter": "python",
   "pygments_lexer": "ipython3",
   "version": "3.6.6"
  },
  "toc": {
   "base_numbering": 1,
   "nav_menu": {},
   "number_sections": true,
   "sideBar": false,
   "skip_h1_title": false,
   "title_cell": "Table of Contents",
   "title_sidebar": "Contents",
   "toc_cell": true,
   "toc_position": {},
   "toc_section_display": true,
   "toc_window_display": false
  },
  "varInspector": {
   "cols": {
    "lenName": 16,
    "lenType": 16,
    "lenVar": 40
   },
   "kernels_config": {
    "python": {
     "delete_cmd_postfix": "",
     "delete_cmd_prefix": "del ",
     "library": "var_list.py",
     "varRefreshCmd": "print(var_dic_list())"
    },
    "r": {
     "delete_cmd_postfix": ") ",
     "delete_cmd_prefix": "rm(",
     "library": "var_list.r",
     "varRefreshCmd": "cat(var_dic_list()) "
    }
   },
   "types_to_exclude": [
    "module",
    "function",
    "builtin_function_or_method",
    "instance",
    "_Feature"
   ],
   "window_display": false
  }
 },
 "nbformat": 4,
 "nbformat_minor": 2
}

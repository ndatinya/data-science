{
 "cells": [
  {
   "cell_type": "markdown",
   "metadata": {
    "toc": true
   },
   "source": [
    "<h1>Table of Contents<span class=\"tocSkip\"></span></h1>\n",
    "<div class=\"toc\"><ul class=\"toc-item\"><li><span><a href=\"#Types-of-Trends\" data-toc-modified-id=\"Types-of-Trends-1\"><span class=\"toc-item-num\">1&nbsp;&nbsp;</span>Types of Trends</a></span><ul class=\"toc-item\"><li><span><a href=\"#Stationary\" data-toc-modified-id=\"Stationary-1.1\"><span class=\"toc-item-num\">1.1&nbsp;&nbsp;</span>Stationary</a></span><ul class=\"toc-item\"><li><span><a href=\"#Definition:\" data-toc-modified-id=\"Definition:-1.1.1\"><span class=\"toc-item-num\">1.1.1&nbsp;&nbsp;</span>Definition:</a></span></li><li><span><a href=\"#No-Trend\" data-toc-modified-id=\"No-Trend-1.1.2\"><span class=\"toc-item-num\">1.1.2&nbsp;&nbsp;</span>No Trend</a></span></li></ul></li><li><span><a href=\"#Linear-Trend\" data-toc-modified-id=\"Linear-Trend-1.2\"><span class=\"toc-item-num\">1.2&nbsp;&nbsp;</span>Linear Trend</a></span><ul class=\"toc-item\"><li><span><a href=\"#Upward\" data-toc-modified-id=\"Upward-1.2.1\"><span class=\"toc-item-num\">1.2.1&nbsp;&nbsp;</span>Upward</a></span></li><li><span><a href=\"#Downward\" data-toc-modified-id=\"Downward-1.2.2\"><span class=\"toc-item-num\">1.2.2&nbsp;&nbsp;</span>Downward</a></span></li></ul></li><li><span><a href=\"#Exponential\" data-toc-modified-id=\"Exponential-1.3\"><span class=\"toc-item-num\">1.3&nbsp;&nbsp;</span>Exponential</a></span></li><li><span><a href=\"#Periodic\" data-toc-modified-id=\"Periodic-1.4\"><span class=\"toc-item-num\">1.4&nbsp;&nbsp;</span>Periodic</a></span></li></ul></li><li><span><a href=\"#Assessing-Trends\" data-toc-modified-id=\"Assessing-Trends-2\"><span class=\"toc-item-num\">2&nbsp;&nbsp;</span>Assessing Trends</a></span><ul class=\"toc-item\"><li><span><a href=\"#Rolling-Statistics\" data-toc-modified-id=\"Rolling-Statistics-2.1\"><span class=\"toc-item-num\">2.1&nbsp;&nbsp;</span>Rolling Statistics</a></span><ul class=\"toc-item\"><li><span><a href=\"#Example\" data-toc-modified-id=\"Example-2.1.1\"><span class=\"toc-item-num\">2.1.1&nbsp;&nbsp;</span>Example</a></span></li></ul></li><li><span><a href=\"#Dickey-Fuller-Test\" data-toc-modified-id=\"Dickey-Fuller-Test-2.2\"><span class=\"toc-item-num\">2.2&nbsp;&nbsp;</span>Dickey-Fuller Test</a></span><ul class=\"toc-item\"><li><span><a href=\"#Code-Example\" data-toc-modified-id=\"Code-Example-2.2.1\"><span class=\"toc-item-num\">2.2.1&nbsp;&nbsp;</span>Code Example</a></span></li></ul></li></ul></li><li><span><a href=\"#Removing-Trends\" data-toc-modified-id=\"Removing-Trends-3\"><span class=\"toc-item-num\">3&nbsp;&nbsp;</span>Removing Trends</a></span><ul class=\"toc-item\"><li><span><a href=\"#Quick-Check:-Why-do-want-to-get-a-stationary-series?\" data-toc-modified-id=\"Quick-Check:-Why-do-want-to-get-a-stationary-series?-3.1\"><span class=\"toc-item-num\">3.1&nbsp;&nbsp;</span>Quick Check: Why do want to get a stationary series?</a></span></li><li><span><a href=\"#Log-Transformation\" data-toc-modified-id=\"Log-Transformation-3.2\"><span class=\"toc-item-num\">3.2&nbsp;&nbsp;</span>Log Transformation</a></span></li><li><span><a href=\"#Subtract-the-Rolling-Mean\" data-toc-modified-id=\"Subtract-the-Rolling-Mean-3.3\"><span class=\"toc-item-num\">3.3&nbsp;&nbsp;</span>Subtract the Rolling Mean</a></span><ul class=\"toc-item\"><li><span><a href=\"#Weighted-Rolling-Mean-(Weighted-Moving-Average)\" data-toc-modified-id=\"Weighted-Rolling-Mean-(Weighted-Moving-Average)-3.3.1\"><span class=\"toc-item-num\">3.3.1&nbsp;&nbsp;</span>Weighted Rolling Mean (Weighted Moving Average)</a></span></li></ul></li><li><span><a href=\"#Differencing\" data-toc-modified-id=\"Differencing-3.4\"><span class=\"toc-item-num\">3.4&nbsp;&nbsp;</span>Differencing</a></span><ul class=\"toc-item\"><li><span><a href=\"#Example---NYSE\" data-toc-modified-id=\"Example---NYSE-3.4.1\"><span class=\"toc-item-num\">3.4.1&nbsp;&nbsp;</span>Example - NYSE</a></span></li><li><span><a href=\"#Example---Temperature-over-a-decade\" data-toc-modified-id=\"Example---Temperature-over-a-decade-3.4.2\"><span class=\"toc-item-num\">3.4.2&nbsp;&nbsp;</span>Example - Temperature over a decade</a></span></li></ul></li></ul></li><li><span><a href=\"#Time-Series-Decomposition\" data-toc-modified-id=\"Time-Series-Decomposition-4\"><span class=\"toc-item-num\">4&nbsp;&nbsp;</span>Time Series Decomposition</a></span><ul class=\"toc-item\"><li><span><a href=\"#Example\" data-toc-modified-id=\"Example-4.1\"><span class=\"toc-item-num\">4.1&nbsp;&nbsp;</span>Example</a></span></li></ul></li></ul></div>"
   ]
  },
  {
   "cell_type": "code",
   "execution_count": null,
   "metadata": {
    "ExecuteTime": {
     "end_time": "2020-07-28T18:50:03.792265Z",
     "start_time": "2020-07-28T18:50:03.070238Z"
    }
   },
   "outputs": [],
   "source": [
    "import pandas as pd\n",
    "import numpy as np\n",
    "import matplotlib.pyplot as plt"
   ]
  },
  {
   "cell_type": "code",
   "execution_count": null,
   "metadata": {
    "ExecuteTime": {
     "end_time": "2020-07-28T18:50:03.800881Z",
     "start_time": "2020-07-28T18:50:03.793515Z"
    },
    "code_folding": []
   },
   "outputs": [],
   "source": [
    "# New York Stock Exchange average monthly returns [1961-1966] from curriculum\n",
    "nyse = pd.read_csv('NYSE_monthly.csv')\n",
    "col_name= 'Month'\n",
    "nyse[col_name] = pd.to_datetime(nyse[col_name])\n",
    "nyse.set_index(col_name, inplace=True)"
   ]
  },
  {
   "cell_type": "code",
   "execution_count": null,
   "metadata": {
    "ExecuteTime": {
     "end_time": "2020-07-28T18:50:03.809560Z",
     "start_time": "2020-07-28T18:50:03.802440Z"
    }
   },
   "outputs": [],
   "source": [
    "# Generated data \n",
    "years = pd.date_range('2012-01', periods=72, freq=\"M\")\n",
    "index = pd.DatetimeIndex(years)\n",
    "\n",
    "np.random.seed(3456)\n",
    "sales= np.random.randint(-4, high=4, size=72)\n",
    "bigger = np.array([0,0,0,0,0,0,0,0,0,1,1,1,1,1,1,1,1,1,1,1,3,3,3,3,\n",
    "                   3,3,3,3,3,3,3,3,7,7,7,7,7,7,7,7,7,7,7,\n",
    "                   11,11,11,11,11,11,11,11,11,11,18,18,18,\n",
    "                   18,18,18,18,18,18,26,26,26,26,26,36,36,36,36,36])\n",
    "\n",
    "data = pd.Series(sales+bigger+6, index=index)\n",
    "ts = data"
   ]
  },
  {
   "cell_type": "markdown",
   "metadata": {
    "heading_collapsed": true
   },
   "source": [
    "# Types of Trends"
   ]
  },
  {
   "cell_type": "markdown",
   "metadata": {
    "heading_collapsed": true,
    "hidden": true
   },
   "source": [
    "## Stationary"
   ]
  },
  {
   "cell_type": "markdown",
   "metadata": {
    "heading_collapsed": true,
    "hidden": true
   },
   "source": [
    "### Definition:\n",
    "> images from [https://www.analyticsvidhya.com/blog/2015/12/complete-tutorial-time-series-modeling/](https://www.analyticsvidhya.com/blog/2015/12/complete-tutorial-time-series-modeling/)"
   ]
  },
  {
   "cell_type": "markdown",
   "metadata": {
    "hidden": true
   },
   "source": [
    "- The series' **mean** is **not** a function of time\n",
    "![https://www.analyticsvidhya.com/wp-content/uploads/2015/02/Mean_nonstationary.png](images/Mean_nonstationary.png)"
   ]
  },
  {
   "cell_type": "markdown",
   "metadata": {
    "hidden": true
   },
   "source": [
    "- The series' **varaince** is **not** a function of time (heteroscedacity)\n",
    "![https://www.analyticsvidhya.com/wp-content/uploads/2015/02/Var_nonstationary.png](images/Var_nonstationary.png)"
   ]
  },
  {
   "cell_type": "markdown",
   "metadata": {
    "hidden": true
   },
   "source": [
    "- The series' **covaraince** is **not** a function of time\n",
    "![https://www.analyticsvidhya.com/wp-content/uploads/2015/02/Cov_nonstationary.png](images/Cov_nonstationary.png)"
   ]
  },
  {
   "cell_type": "markdown",
   "metadata": {
    "heading_collapsed": true,
    "hidden": true
   },
   "source": [
    "### No Trend"
   ]
  },
  {
   "cell_type": "code",
   "execution_count": null,
   "metadata": {
    "ExecuteTime": {
     "end_time": "2020-07-28T18:50:04.080052Z",
     "start_time": "2020-07-28T18:50:03.810790Z"
    },
    "hidden": true
   },
   "outputs": [],
   "source": [
    "data = nyse\n",
    "data.plot(figsize=(12,6), linewidth=2, fontsize=14)\n",
    "plt.xlabel(col_name, fontsize=20)\n",
    "plt.ylabel(\"Monthly NYSE returns\", fontsize=20)\n",
    "plt.ylim((-0.15,0.15));"
   ]
  },
  {
   "cell_type": "markdown",
   "metadata": {
    "heading_collapsed": true,
    "hidden": true
   },
   "source": [
    "## Linear Trend"
   ]
  },
  {
   "cell_type": "markdown",
   "metadata": {
    "heading_collapsed": true,
    "hidden": true
   },
   "source": [
    "### Upward"
   ]
  },
  {
   "cell_type": "markdown",
   "metadata": {
    "hidden": true
   },
   "source": [
    "![](https://github.com/learn-co-students/dsc-3-25-05-types-of-trends-online-ds-sp-000/raw/master/index_files/index_15_0.png)"
   ]
  },
  {
   "cell_type": "markdown",
   "metadata": {
    "heading_collapsed": true,
    "hidden": true
   },
   "source": [
    "### Downward"
   ]
  },
  {
   "cell_type": "markdown",
   "metadata": {
    "hidden": true
   },
   "source": [
    "![](https://github.com/learn-co-students/dsc-3-25-05-types-of-trends-online-ds-sp-000/raw/master/index_files/index_19_0.png)"
   ]
  },
  {
   "cell_type": "markdown",
   "metadata": {
    "heading_collapsed": true,
    "hidden": true
   },
   "source": [
    "## Exponential"
   ]
  },
  {
   "cell_type": "markdown",
   "metadata": {
    "hidden": true
   },
   "source": [
    "![](https://github.com/learn-co-students/dsc-3-25-05-types-of-trends-online-ds-sp-000/raw/master/index_files/index_22_0.png)"
   ]
  },
  {
   "cell_type": "markdown",
   "metadata": {
    "heading_collapsed": true,
    "hidden": true
   },
   "source": [
    "## Periodic"
   ]
  },
  {
   "cell_type": "markdown",
   "metadata": {
    "hidden": true
   },
   "source": [
    "![](images/periodic_trend-temperature.png)"
   ]
  },
  {
   "cell_type": "markdown",
   "metadata": {
    "hidden": true
   },
   "source": [
    "![](https://github.com/learn-co-students/dsc-3-25-05-types-of-trends-online-ds-sp-000/raw/master/index_files/index_30_0.png)"
   ]
  },
  {
   "cell_type": "markdown",
   "metadata": {
    "heading_collapsed": true
   },
   "source": [
    "# Assessing Trends "
   ]
  },
  {
   "cell_type": "code",
   "execution_count": null,
   "metadata": {
    "ExecuteTime": {
     "end_time": "2020-07-28T18:50:04.230530Z",
     "start_time": "2020-07-28T18:50:04.081832Z"
    },
    "hidden": true
   },
   "outputs": [],
   "source": [
    "fig = plt.figure(figsize=(12,6))\n",
    "plt.plot(data)\n",
    "plt.xlabel(\"month\", fontsize=16)\n",
    "plt.ylabel(\"monthly sales\", fontsize=16)\n",
    "plt.show()"
   ]
  },
  {
   "cell_type": "markdown",
   "metadata": {
    "heading_collapsed": true,
    "hidden": true
   },
   "source": [
    "## Rolling Statistics"
   ]
  },
  {
   "cell_type": "markdown",
   "metadata": {
    "hidden": true
   },
   "source": [
    "Take the average of a number of past data points (over a time period)"
   ]
  },
  {
   "cell_type": "markdown",
   "metadata": {
    "heading_collapsed": true,
    "hidden": true
   },
   "source": [
    "### Example"
   ]
  },
  {
   "cell_type": "code",
   "execution_count": null,
   "metadata": {
    "ExecuteTime": {
     "end_time": "2020-07-28T18:50:04.377520Z",
     "start_time": "2020-07-28T18:50:04.231987Z"
    },
    "hidden": true
   },
   "outputs": [],
   "source": [
    "rolmean = ts.rolling(window = 6, center = False).mean()\n",
    "rolstd = ts.rolling(window = 1, center = False).std()\n",
    "\n",
    "fig = plt.figure(figsize=(12,7))\n",
    "orig = plt.plot(ts, color='blue',label='Original')\n",
    "mean = plt.plot(rolmean, color='red', label='Rolling Mean')\n",
    "std = plt.plot(rolstd, color='black', label = 'Rolling Std')\n",
    "plt.legend(loc='best')\n",
    "plt.title('Rolling Mean & Standard Deviation')\n",
    "plt.show(block=False)"
   ]
  },
  {
   "cell_type": "markdown",
   "metadata": {
    "heading_collapsed": true,
    "hidden": true
   },
   "source": [
    "## Dickey-Fuller Test"
   ]
  },
  {
   "cell_type": "markdown",
   "metadata": {
    "hidden": true
   },
   "source": [
    "Statistical test for testing stationarity; $H_0$ is that time series is **not** stationary\n",
    "\n",
    "Doc Resource: http://www.statsmodels.org/dev/generated/statsmodels.tsa.stattools.adfuller.html"
   ]
  },
  {
   "cell_type": "markdown",
   "metadata": {
    "heading_collapsed": true,
    "hidden": true
   },
   "source": [
    "### Code Example"
   ]
  },
  {
   "cell_type": "code",
   "execution_count": null,
   "metadata": {
    "ExecuteTime": {
     "end_time": "2020-07-28T18:50:04.837263Z",
     "start_time": "2020-07-28T18:50:04.378666Z"
    },
    "hidden": true
   },
   "outputs": [],
   "source": [
    "from statsmodels.tsa.stattools import adfuller\n",
    "\n",
    "dftest = adfuller(ts)\n",
    "\n",
    "# Extract and display test results in a user friendly manner\n",
    "dfoutput = pd.Series(dftest[0:4], index=['Test Statistic','p-value','#Lags Used','Number of Observations Used'])\n",
    "for key,value in dftest[4].items():\n",
    "    dfoutput['Critical Value (%s)'%key] = value\n",
    "display(dftest)"
   ]
  },
  {
   "cell_type": "code",
   "execution_count": null,
   "metadata": {
    "ExecuteTime": {
     "end_time": "2020-07-28T18:50:04.843266Z",
     "start_time": "2020-07-28T18:50:04.839839Z"
    },
    "hidden": true
   },
   "outputs": [],
   "source": [
    "display(dfoutput)"
   ]
  },
  {
   "cell_type": "markdown",
   "metadata": {
    "heading_collapsed": true
   },
   "source": [
    "# Removing Trends"
   ]
  },
  {
   "cell_type": "markdown",
   "metadata": {
    "hidden": true
   },
   "source": [
    "Goal is to make the time series stationary to use most modeling techniques\n",
    "\n",
    "Most common reasons for non-stationary series are **seasonality** and **trends**"
   ]
  },
  {
   "cell_type": "markdown",
   "metadata": {
    "heading_collapsed": true,
    "hidden": true
   },
   "source": [
    "## Quick Check: Why do want to get a stationary series?"
   ]
  },
  {
   "cell_type": "markdown",
   "metadata": {
    "hidden": true
   },
   "source": [
    "- We in a way want to get rid of the temporal dependence: leave just the \"noise\"\n",
    "- That \"noise\" can then be modeled based on other features!\n",
    "- Think of \"stationary\" like \"independence\""
   ]
  },
  {
   "cell_type": "markdown",
   "metadata": {
    "heading_collapsed": true,
    "hidden": true
   },
   "source": [
    "## Log Transformation"
   ]
  },
  {
   "cell_type": "markdown",
   "metadata": {
    "hidden": true
   },
   "source": [
    "Penalize higher values more (similar alternatives: square & cube roots)\n",
    "\n",
    "- Clear & significant positive trend but maybe not linear\n",
    "- Certain heteroscedasticity"
   ]
  },
  {
   "cell_type": "code",
   "execution_count": null,
   "metadata": {
    "ExecuteTime": {
     "end_time": "2020-07-28T18:50:05.126696Z",
     "start_time": "2020-07-28T18:50:04.844864Z"
    },
    "hidden": true
   },
   "outputs": [],
   "source": [
    "fig = plt.figure(figsize=(12,10))\n",
    "\n",
    "\n",
    "# No transformation\n",
    "plt.subplot(3, 1, 1)\n",
    "plt.plot(ts)\n",
    "plt.xlabel(\"month\", fontsize=16)\n",
    "plt.ylabel(\"monthly sales\", fontsize=16)\n",
    "\n",
    "# Log transformation (linear and heteroscedastic)\n",
    "plt.subplot(3, 1, 2)\n",
    "plt.plot(pd.Series(np.log(ts), index=index), color=\"blue\")\n",
    "plt.xlabel(\"month\", fontsize=14)\n",
    "plt.ylabel(\"log(monthly sales)\", fontsize=14)\n",
    "\n",
    "# Square root transformation \n",
    "plt.subplot(3, 1, 3)\n",
    "plt.plot(pd.Series(np.sqrt(ts), index=index), color=\"green\")\n",
    "plt.xlabel(\"month\", fontsize=14)\n",
    "plt.ylabel(\"sqrt(monthly sales)\", fontsize=14)\n",
    "\n",
    "\n",
    "plt.show()"
   ]
  },
  {
   "cell_type": "markdown",
   "metadata": {
    "hidden": true
   },
   "source": [
    "Goal is to make this more linear; you can tell it's still not stationary"
   ]
  },
  {
   "cell_type": "markdown",
   "metadata": {
    "heading_collapsed": true,
    "hidden": true
   },
   "source": [
    "## Subtract the Rolling Mean"
   ]
  },
  {
   "cell_type": "code",
   "execution_count": null,
   "metadata": {
    "ExecuteTime": {
     "end_time": "2020-07-28T18:50:05.253014Z",
     "start_time": "2020-07-28T18:50:05.127788Z"
    },
    "hidden": true
   },
   "outputs": [],
   "source": [
    "# Start with the square root transform\n",
    "data_transform = pd.Series(np.sqrt(ts))\n",
    "\n",
    "rolmean = data_transform.rolling(window = 4).mean()\n",
    "fig = plt.figure(figsize=(11,7))\n",
    "orig = plt.plot(data_transform, color='blue',label='Original')\n",
    "mean = plt.plot(rolmean, color='red', label='Rolling Mean')\n",
    "plt.legend(loc='best')\n",
    "plt.title('Rolling Mean & Standard Deviation')\n",
    "plt.show(block=False)"
   ]
  },
  {
   "cell_type": "code",
   "execution_count": null,
   "metadata": {
    "ExecuteTime": {
     "end_time": "2020-07-28T18:50:05.258369Z",
     "start_time": "2020-07-28T18:50:05.254214Z"
    },
    "hidden": true
   },
   "outputs": [],
   "source": [
    "# Subtract the moving average from the original data and check head for Nans\n",
    "data_minus_rolmean = data_transform - rolmean"
   ]
  },
  {
   "cell_type": "code",
   "execution_count": null,
   "metadata": {
    "ExecuteTime": {
     "end_time": "2020-07-28T18:50:05.261776Z",
     "start_time": "2020-07-28T18:50:05.259483Z"
    },
    "hidden": true
   },
   "outputs": [],
   "source": [
    "# Drop the NaN values from timeseries calculated above \n",
    "# (the first few values didn't have a rolling mean)\n",
    "data_minus_rolmean.dropna(inplace=True)"
   ]
  },
  {
   "cell_type": "code",
   "execution_count": null,
   "metadata": {
    "ExecuteTime": {
     "end_time": "2020-07-28T18:50:05.392525Z",
     "start_time": "2020-07-28T18:50:05.263075Z"
    },
    "hidden": true
   },
   "outputs": [],
   "source": [
    "fig = plt.figure(figsize=(11,7))\n",
    "plt.plot(data_minus_rolmean, label='Sales - rolling mean')\n",
    "plt.legend(loc='best')\n",
    "plt.title('Sales while the rolling mean is subtracted')\n",
    "plt.show(block=False)"
   ]
  },
  {
   "cell_type": "markdown",
   "metadata": {
    "heading_collapsed": true,
    "hidden": true
   },
   "source": [
    "### Weighted Rolling Mean (Weighted Moving Average)"
   ]
  },
  {
   "cell_type": "markdown",
   "metadata": {
    "hidden": true
   },
   "source": [
    "We can have the window to be adjusted for more complex situations (stock prices)\n",
    "\n",
    "Popular one: **Exponentially Weighted Moving Average**\n",
    "> weights are given using an exponential decay factor\n",
    "> \n",
    "> `DataFrame.ewm()` (https://pandas.pydata.org/pandas-docs/stable/generated/pandas.DataFrame.ewm.html)"
   ]
  },
  {
   "cell_type": "markdown",
   "metadata": {
    "heading_collapsed": true,
    "hidden": true
   },
   "source": [
    "## Differencing"
   ]
  },
  {
   "cell_type": "markdown",
   "metadata": {
    "hidden": true
   },
   "source": [
    "Subtract off previous point values (lagging); essentially plots the difference from last point"
   ]
  },
  {
   "cell_type": "markdown",
   "metadata": {
    "ExecuteTime": {
     "end_time": "2019-05-13T21:52:22.573437Z",
     "start_time": "2019-05-13T21:52:22.452033Z"
    },
    "hidden": true
   },
   "source": [
    "Doc: https://pandas.pydata.org/pandas-docs/stable/generated/pandas.DataFrame.diff.html"
   ]
  },
  {
   "cell_type": "markdown",
   "metadata": {
    "heading_collapsed": true,
    "hidden": true
   },
   "source": [
    "### Example - NYSE"
   ]
  },
  {
   "cell_type": "code",
   "execution_count": null,
   "metadata": {
    "ExecuteTime": {
     "end_time": "2020-07-28T18:50:05.526485Z",
     "start_time": "2020-07-28T18:50:05.393612Z"
    },
    "hidden": true
   },
   "outputs": [],
   "source": [
    "data_diff = ts.diff(periods=1)\n",
    "\n",
    "fig = plt.figure(figsize=(11,7))\n",
    "plt.plot(data_diff,label='Sales - differenced')\n",
    "plt.legend()\n",
    "plt.title('Differenced sales series')\n",
    "plt.show(block=False)"
   ]
  },
  {
   "cell_type": "markdown",
   "metadata": {
    "ExecuteTime": {
     "end_time": "2019-05-13T21:52:22.573437Z",
     "start_time": "2019-05-13T21:52:22.452033Z"
    },
    "heading_collapsed": true,
    "hidden": true
   },
   "source": [
    "### Example - Temperature over a decade"
   ]
  },
  {
   "cell_type": "code",
   "execution_count": null,
   "metadata": {
    "ExecuteTime": {
     "end_time": "2020-07-28T18:52:42.158870Z",
     "start_time": "2020-07-28T18:52:41.681051Z"
    },
    "hidden": true
   },
   "outputs": [],
   "source": [
    "data = pd.read_csv('min_temp.csv')\n",
    "data.Date = pd.to_datetime(data.Date, format='%d/%m/%y')\n",
    "data.set_index('Date', inplace=True)\n",
    "\n",
    "data.plot(figsize=(18,6), linewidth=1, fontsize=14)\n",
    "plt.xlabel('Date', fontsize=14)\n",
    "plt.ylabel('Temperature (Degrees Celsius)', fontsize=14);\n",
    "\n",
    "# Period is 365 days (each point)\n",
    "data_diff = data.diff(periods=365)\n",
    "data_diff.plot(figsize=(18,6), linewidth=1, fontsize=14)\n",
    "plt.xlabel('Date', fontsize=14)\n",
    "plt.ylabel('Differenced Temperature (Degrees Celsius)', fontsize=14);"
   ]
  },
  {
   "cell_type": "markdown",
   "metadata": {
    "heading_collapsed": true
   },
   "source": [
    "# Time Series Decomposition"
   ]
  },
  {
   "cell_type": "markdown",
   "metadata": {
    "hidden": true
   },
   "source": [
    "Another method where we transform a series into multiple series\n",
    "\n",
    "Commonly:\n",
    "- Seasonal\n",
    "- Trend\n",
    "- Noise/Random/Irregular/Remainder"
   ]
  },
  {
   "cell_type": "markdown",
   "metadata": {
    "hidden": true
   },
   "source": [
    "Identify if the model is **additive** or **Multiplicative**\n",
    "\n",
    "> Multiplicative usually when the distribution/magnitude of fluctuations change\n",
    "\n",
    "![](images/add-vs-mutli.png)"
   ]
  },
  {
   "cell_type": "markdown",
   "metadata": {
    "heading_collapsed": true,
    "hidden": true
   },
   "source": [
    "## Example"
   ]
  },
  {
   "cell_type": "code",
   "execution_count": null,
   "metadata": {
    "ExecuteTime": {
     "end_time": "2020-07-28T18:50:06.450889Z",
     "start_time": "2020-07-28T18:50:06.290570Z"
    },
    "hidden": true
   },
   "outputs": [],
   "source": [
    "# Import passengers.csv and set it as a time-series object. Plot the TS\n",
    "data = pd.read_csv('passengers.csv')\n",
    "ts = data.set_index('Month')\n",
    "ts.index = pd.to_datetime(ts.index)\n",
    "\n",
    "ts.plot(figsize=(10,4), color=\"blue\")"
   ]
  },
  {
   "cell_type": "code",
   "execution_count": null,
   "metadata": {
    "ExecuteTime": {
     "end_time": "2020-07-28T18:50:06.648973Z",
     "start_time": "2020-07-28T18:50:06.452599Z"
    },
    "hidden": true
   },
   "outputs": [],
   "source": [
    "# log transform to get rid of that heteroscedasticity\n",
    "np.log(ts).plot(figsize=(10,4), color=\"blue\");"
   ]
  },
  {
   "cell_type": "code",
   "execution_count": null,
   "metadata": {
    "ExecuteTime": {
     "end_time": "2020-07-28T18:50:06.658039Z",
     "start_time": "2020-07-28T18:50:06.650137Z"
    },
    "hidden": true
   },
   "outputs": [],
   "source": [
    "# import seasonal_decompose\n",
    "from statsmodels.tsa.seasonal import seasonal_decompose\n",
    "decomposition = seasonal_decompose(np.log(ts))\n",
    "\n",
    "# Gather the trend, seasonality and noise of decomposed object\n",
    "trend = decomposition.trend\n",
    "seasonal = decomposition.seasonal\n",
    "residual = decomposition.resid"
   ]
  },
  {
   "cell_type": "code",
   "execution_count": null,
   "metadata": {
    "ExecuteTime": {
     "end_time": "2020-07-28T18:50:07.120051Z",
     "start_time": "2020-07-28T18:50:06.659153Z"
    },
    "hidden": true
   },
   "outputs": [],
   "source": [
    "# Plot gathered statistics\n",
    "plt.figure(figsize=(12,8))\n",
    "plt.subplot(411)\n",
    "plt.plot(np.log(ts), label='Original', color=\"blue\")\n",
    "plt.legend(loc='best')\n",
    "plt.subplot(412)\n",
    "plt.plot(trend, label='Trend', color=\"blue\")\n",
    "plt.legend(loc='best')\n",
    "plt.subplot(413)\n",
    "plt.plot(seasonal,label='Seasonality', color=\"blue\")\n",
    "plt.legend(loc='best')\n",
    "plt.subplot(414)\n",
    "plt.plot(residual, label='Residuals', color=\"blue\")\n",
    "plt.legend(loc='best')\n",
    "plt.tight_layout()"
   ]
  },
  {
   "cell_type": "markdown",
   "metadata": {
    "hidden": true
   },
   "source": [
    "Residuals look stationary now; can check with trend assessment like with a Dickey-Fuller test"
   ]
  },
  {
   "cell_type": "code",
   "execution_count": null,
   "metadata": {
    "ExecuteTime": {
     "end_time": "2020-07-28T18:50:07.126187Z",
     "start_time": "2020-07-28T18:50:07.122069Z"
    },
    "hidden": true
   },
   "outputs": [],
   "source": [
    "# Drop NaN values from residuals.\n",
    "ts_log_decompose = residual\n",
    "ts_log_decompose = ts_log_decompose.dropna()"
   ]
  },
  {
   "cell_type": "code",
   "execution_count": null,
   "metadata": {
    "ExecuteTime": {
     "end_time": "2020-07-28T18:50:07.190717Z",
     "start_time": "2020-07-28T18:50:07.128176Z"
    },
    "hidden": true
   },
   "outputs": [],
   "source": [
    "# Import adfuller\n",
    "from statsmodels.tsa.stattools import adfuller\n",
    "\n",
    "# Change the passengers column as required \n",
    "dftest = adfuller(ts_log_decompose['#Passengers']) "
   ]
  },
  {
   "cell_type": "code",
   "execution_count": null,
   "metadata": {
    "ExecuteTime": {
     "end_time": "2020-07-28T18:50:07.202353Z",
     "start_time": "2020-07-28T18:50:07.192522Z"
    },
    "hidden": true
   },
   "outputs": [],
   "source": [
    "# Print Dickey-Fuller test results\n",
    "print ('Results of Dickey-Fuller Test:')\n",
    "\n",
    "dfoutput = pd.Series(dftest[0:4], index=['Test Statistic','p-value','#Lags Used','Number of Observations Used'])\n",
    "for key,value in dftest[4].items():\n",
    "    dfoutput['Critical Value (%s)'%key] = value\n",
    "print (dfoutput)"
   ]
  }
 ],
 "metadata": {
  "kernelspec": {
   "display_name": "Python 3",
   "language": "python",
   "name": "python3"
  },
  "language_info": {
   "codemirror_mode": {
    "name": "ipython",
    "version": 3
   },
   "file_extension": ".py",
   "mimetype": "text/x-python",
   "name": "python",
   "nbconvert_exporter": "python",
   "pygments_lexer": "ipython3",
   "version": "3.6.6"
  },
  "toc": {
   "base_numbering": 1,
   "nav_menu": {},
   "number_sections": true,
   "sideBar": true,
   "skip_h1_title": false,
   "title_cell": "Table of Contents",
   "title_sidebar": "Contents",
   "toc_cell": true,
   "toc_position": {},
   "toc_section_display": true,
   "toc_window_display": true
  },
  "varInspector": {
   "cols": {
    "lenName": 16,
    "lenType": 16,
    "lenVar": 40
   },
   "kernels_config": {
    "python": {
     "delete_cmd_postfix": "",
     "delete_cmd_prefix": "del ",
     "library": "var_list.py",
     "varRefreshCmd": "print(var_dic_list())"
    },
    "r": {
     "delete_cmd_postfix": ") ",
     "delete_cmd_prefix": "rm(",
     "library": "var_list.r",
     "varRefreshCmd": "cat(var_dic_list()) "
    }
   },
   "types_to_exclude": [
    "module",
    "function",
    "builtin_function_or_method",
    "instance",
    "_Feature"
   ],
   "window_display": false
  }
 },
 "nbformat": 4,
 "nbformat_minor": 2
}

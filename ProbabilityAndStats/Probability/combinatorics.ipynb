{
 "cells": [
  {
   "cell_type": "markdown",
   "metadata": {
    "toc": true
   },
   "source": [
    "<h1>Table of Contents<span class=\"tocSkip\"></span></h1>\n",
    "<div class=\"toc\"><ul class=\"toc-item\"><li><span><a href=\"#Event-Spaces\" data-toc-modified-id=\"Event-Spaces-1\"><span class=\"toc-item-num\">1&nbsp;&nbsp;</span>Event Spaces</a></span><ul class=\"toc-item\"><li><span><a href=\"#Rolling-Dice\" data-toc-modified-id=\"Rolling-Dice-1.1\"><span class=\"toc-item-num\">1.1&nbsp;&nbsp;</span>Rolling Dice</a></span><ul class=\"toc-item\"><li><span><a href=\"#One-Die-Roll\" data-toc-modified-id=\"One-Die-Roll-1.1.1\"><span class=\"toc-item-num\">1.1.1&nbsp;&nbsp;</span>One-Die Roll</a></span></li><li><span><a href=\"#Two-Dice-Roll\" data-toc-modified-id=\"Two-Dice-Roll-1.1.2\"><span class=\"toc-item-num\">1.1.2&nbsp;&nbsp;</span>Two-Dice Roll</a></span></li><li><span><a href=\"#Three-Dice-Roll\" data-toc-modified-id=\"Three-Dice-Roll-1.1.3\"><span class=\"toc-item-num\">1.1.3&nbsp;&nbsp;</span>Three-Dice Roll</a></span><ul class=\"toc-item\"><li><span><a href=\"#All-three-at-once\" data-toc-modified-id=\"All-three-at-once-1.1.3.1\"><span class=\"toc-item-num\">1.1.3.1&nbsp;&nbsp;</span>All three at once</a></span></li><li><span><a href=\"#Roll-two,-then-1\" data-toc-modified-id=\"Roll-two,-then-1-1.1.3.2\"><span class=\"toc-item-num\">1.1.3.2&nbsp;&nbsp;</span>Roll two, then 1</a></span></li></ul></li></ul></li></ul></li><li><span><a href=\"#Math-Notes---Factorial\" data-toc-modified-id=\"Math-Notes---Factorial-2\"><span class=\"toc-item-num\">2&nbsp;&nbsp;</span>Math Notes - Factorial</a></span></li><li><span><a href=\"#Sets---A-Short-Note\" data-toc-modified-id=\"Sets---A-Short-Note-3\"><span class=\"toc-item-num\">3&nbsp;&nbsp;</span>Sets - A Short Note</a></span></li><li><span><a href=\"#Permutations\" data-toc-modified-id=\"Permutations-4\"><span class=\"toc-item-num\">4&nbsp;&nbsp;</span>Permutations</a></span><ul class=\"toc-item\"><li><span><a href=\"#Formula\" data-toc-modified-id=\"Formula-4.1\"><span class=\"toc-item-num\">4.1&nbsp;&nbsp;</span>Formula</a></span></li></ul></li><li><span><a href=\"#Combinations\" data-toc-modified-id=\"Combinations-5\"><span class=\"toc-item-num\">5&nbsp;&nbsp;</span>Combinations</a></span><ul class=\"toc-item\"><li><span><a href=\"#BREAKOUT!\" data-toc-modified-id=\"BREAKOUT!-5.1\"><span class=\"toc-item-num\">5.1&nbsp;&nbsp;</span>BREAKOUT!</a></span></li><li><span><a href=\"#Formula\" data-toc-modified-id=\"Formula-5.2\"><span class=\"toc-item-num\">5.2&nbsp;&nbsp;</span>Formula</a></span></li></ul></li><li><span><a href=\"#Examples\" data-toc-modified-id=\"Examples-6\"><span class=\"toc-item-num\">6&nbsp;&nbsp;</span>Examples</a></span><ul class=\"toc-item\"><li><span><a href=\"#Colored-Balls\" data-toc-modified-id=\"Colored-Balls-6.1\"><span class=\"toc-item-num\">6.1&nbsp;&nbsp;</span>Colored Balls</a></span></li></ul></li></ul></div>"
   ]
  },
  {
   "cell_type": "code",
   "execution_count": null,
   "metadata": {
    "ExecuteTime": {
     "end_time": "2020-03-15T20:00:38.595589Z",
     "start_time": "2020-03-15T20:00:38.593324Z"
    }
   },
   "outputs": [],
   "source": [
    "import numpy as np"
   ]
  },
  {
   "cell_type": "markdown",
   "metadata": {
    "heading_collapsed": true
   },
   "source": [
    "# Event Spaces"
   ]
  },
  {
   "cell_type": "markdown",
   "metadata": {
    "hidden": true
   },
   "source": [
    "Essentially all possibilities!"
   ]
  },
  {
   "cell_type": "markdown",
   "metadata": {
    "heading_collapsed": true,
    "hidden": true
   },
   "source": [
    "## Rolling Dice"
   ]
  },
  {
   "cell_type": "markdown",
   "metadata": {
    "heading_collapsed": true,
    "hidden": true
   },
   "source": [
    "### One-Die Roll"
   ]
  },
  {
   "cell_type": "code",
   "execution_count": null,
   "metadata": {
    "ExecuteTime": {
     "end_time": "2020-03-15T20:00:38.601209Z",
     "start_time": "2020-03-15T20:00:38.598965Z"
    },
    "hidden": true
   },
   "outputs": [],
   "source": [
    "die_roll = [1,2,3,4,5,6]"
   ]
  },
  {
   "cell_type": "markdown",
   "metadata": {
    "heading_collapsed": true,
    "hidden": true
   },
   "source": [
    "### Two-Dice Roll"
   ]
  },
  {
   "cell_type": "code",
   "execution_count": null,
   "metadata": {
    "ExecuteTime": {
     "end_time": "2020-03-15T20:00:38.605505Z",
     "start_time": "2020-03-15T20:00:38.602964Z"
    },
    "hidden": true
   },
   "outputs": [],
   "source": [
    "# Roll 2 dice\n",
    "two_rolls = []\n",
    "for die0 in die_roll:\n",
    "    for die1 in die_roll:\n",
    "        two_rolls.append([die0,die1])"
   ]
  },
  {
   "cell_type": "code",
   "execution_count": null,
   "metadata": {
    "ExecuteTime": {
     "end_time": "2020-03-15T20:00:38.615580Z",
     "start_time": "2020-03-15T20:00:38.607452Z"
    },
    "hidden": true
   },
   "outputs": [],
   "source": [
    "len(two_rolls)"
   ]
  },
  {
   "cell_type": "markdown",
   "metadata": {
    "heading_collapsed": true,
    "hidden": true
   },
   "source": [
    "### Three-Dice Roll"
   ]
  },
  {
   "cell_type": "markdown",
   "metadata": {
    "heading_collapsed": true,
    "hidden": true
   },
   "source": [
    "#### All three at once"
   ]
  },
  {
   "cell_type": "code",
   "execution_count": null,
   "metadata": {
    "ExecuteTime": {
     "end_time": "2020-03-15T20:00:38.620131Z",
     "start_time": "2020-03-15T20:00:38.617344Z"
    },
    "hidden": true
   },
   "outputs": [],
   "source": [
    "three_rolls = []\n",
    "# Roll each die\n",
    "for die0 in die_roll:\n",
    "    for die1 in die_roll:\n",
    "        for die2 in die_roll:\n",
    "            three_rolls.append([die0,die1,die2])"
   ]
  },
  {
   "cell_type": "code",
   "execution_count": null,
   "metadata": {
    "ExecuteTime": {
     "end_time": "2020-03-15T20:00:38.624588Z",
     "start_time": "2020-03-15T20:00:38.621673Z"
    },
    "hidden": true
   },
   "outputs": [],
   "source": [
    "len(three_rolls)"
   ]
  },
  {
   "cell_type": "markdown",
   "metadata": {
    "ExecuteTime": {
     "end_time": "2019-05-21T19:17:16.010592Z",
     "start_time": "2019-05-21T19:17:16.008094Z"
    },
    "heading_collapsed": true,
    "hidden": true
   },
   "source": [
    "#### Roll two, then 1"
   ]
  },
  {
   "cell_type": "code",
   "execution_count": null,
   "metadata": {
    "ExecuteTime": {
     "end_time": "2020-03-15T20:00:38.629564Z",
     "start_time": "2020-03-15T20:00:38.627071Z"
    },
    "hidden": true
   },
   "outputs": [],
   "source": [
    "three_rolls_alt = []\n",
    "\n",
    "# Roll two dice togehter\n",
    "for dice in two_rolls:\n",
    "    # Roll a third dice\n",
    "    for die2 in die_roll:\n",
    "        three_rolls_alt.append(dice + [die2])"
   ]
  },
  {
   "cell_type": "code",
   "execution_count": null,
   "metadata": {
    "ExecuteTime": {
     "end_time": "2020-03-15T20:00:38.633907Z",
     "start_time": "2020-03-15T20:00:38.630982Z"
    },
    "hidden": true
   },
   "outputs": [],
   "source": [
    "three_rolls == three_rolls_alt"
   ]
  },
  {
   "cell_type": "markdown",
   "metadata": {
    "heading_collapsed": true
   },
   "source": [
    "# Math Notes - Factorial"
   ]
  },
  {
   "cell_type": "markdown",
   "metadata": {
    "hidden": true
   },
   "source": [
    "Since we have to multiply over and over again, we use $n!$ to denote: \n",
    "$$n! = n \\cdot (n-1) \\cdot (n-2) \\cdots 3 \\cdot 2 \\cdot 1$$\n",
    "\n",
    "For example \n",
    "$$5! = 5 \\cdot 4 \\cdots 3 \\cdot 2 \\cdot 1 = 720$$"
   ]
  },
  {
   "cell_type": "markdown",
   "metadata": {
    "hidden": true
   },
   "source": [
    "Factorials get very large, very quickly! You likely can't put a three-digit number on most systems (Google's calculator gets to $170! \\approx 10^{306}$ but after that it it's interpreted as infinite $\\infty$)"
   ]
  },
  {
   "cell_type": "markdown",
   "metadata": {
    "hidden": true
   },
   "source": [
    "> Math note: Factorial $n!$ is technically defined as $\\Gamma(n)$ where $n \\in \\mathbb{Z} $ such that $n \\ge 0$"
   ]
  },
  {
   "cell_type": "code",
   "execution_count": null,
   "metadata": {
    "ExecuteTime": {
     "end_time": "2020-03-15T20:00:38.637775Z",
     "start_time": "2020-03-15T20:00:38.634997Z"
    },
    "hidden": true
   },
   "outputs": [],
   "source": [
    "def factorial(n):\n",
    "    integers_to_multiply = np.arange(1,n+1)\n",
    "    ans = np.prod(integers_to_multiply)\n",
    "    print(f'Computed {n}! = {ans}')\n",
    "    return ans"
   ]
  },
  {
   "cell_type": "code",
   "execution_count": null,
   "metadata": {
    "ExecuteTime": {
     "end_time": "2020-03-15T20:00:38.644642Z",
     "start_time": "2020-03-15T20:00:38.639037Z"
    },
    "hidden": true
   },
   "outputs": [],
   "source": [
    "factorial(5)"
   ]
  },
  {
   "cell_type": "code",
   "execution_count": null,
   "metadata": {
    "ExecuteTime": {
     "end_time": "2020-03-15T20:00:38.649527Z",
     "start_time": "2020-03-15T20:00:38.645921Z"
    },
    "hidden": true
   },
   "outputs": [],
   "source": [
    "factorial(8)\n",
    "\n",
    "# Same thing as 8*7*6*5!\n",
    "print(8*7*6*factorial(5))"
   ]
  },
  {
   "cell_type": "code",
   "execution_count": null,
   "metadata": {
    "ExecuteTime": {
     "end_time": "2020-03-15T20:00:38.657886Z",
     "start_time": "2020-03-15T20:00:38.651507Z"
    },
    "hidden": true
   },
   "outputs": [],
   "source": [
    "factorial(25)"
   ]
  },
  {
   "cell_type": "code",
   "execution_count": null,
   "metadata": {
    "ExecuteTime": {
     "end_time": "2020-03-15T20:00:38.665297Z",
     "start_time": "2020-03-15T20:00:38.659455Z"
    },
    "hidden": true
   },
   "outputs": [],
   "source": [
    "# Note we have to contend with large numbers and limitations of computer\n",
    "factorial(30)"
   ]
  },
  {
   "cell_type": "markdown",
   "metadata": {
    "heading_collapsed": true
   },
   "source": [
    "# Sets - A Short Note"
   ]
  },
  {
   "cell_type": "markdown",
   "metadata": {
    "hidden": true
   },
   "source": [
    "* subset: `s <= t\t`\n",
    "* superset: `s >= t\t`\n",
    "* union: `s|t `\n",
    "* intersection: `s & t`\n",
    "* difference:\t`s - t`\n",
    "* symmetric difference(t): `s ^ t`"
   ]
  },
  {
   "cell_type": "markdown",
   "metadata": {
    "heading_collapsed": true
   },
   "source": [
    "# Permutations"
   ]
  },
  {
   "cell_type": "markdown",
   "metadata": {
    "hidden": true
   },
   "source": [
    "Consider how to make combinations → ***When order matters!***"
   ]
  },
  {
   "cell_type": "markdown",
   "metadata": {
    "hidden": true
   },
   "source": [
    "<pre>\n",
    "\n",
    "\n",
    "\n",
    "\n",
    "\n",
    "\n",
    "\n",
    "\n",
    "\n",
    "\n",
    "\n",
    "\n",
    "\n",
    "\n",
    "\n",
    "\n",
    "\n",
    "\n",
    "\n",
    "\n",
    "</pre>"
   ]
  },
  {
   "cell_type": "markdown",
   "metadata": {
    "hidden": true
   },
   "source": [
    "How can we write this mathematically?"
   ]
  },
  {
   "cell_type": "markdown",
   "metadata": {
    "heading_collapsed": true,
    "hidden": true
   },
   "source": [
    "## Formula"
   ]
  },
  {
   "cell_type": "markdown",
   "metadata": {
    "hidden": true
   },
   "source": [
    "$$P_{k}^{n}= \\dfrac{n!}{(n-k)!}$$"
   ]
  },
  {
   "cell_type": "markdown",
   "metadata": {
    "heading_collapsed": true
   },
   "source": [
    "# Combinations"
   ]
  },
  {
   "cell_type": "markdown",
   "metadata": {
    "hidden": true
   },
   "source": [
    "Consider how to make combinations → ***When order doesn't matter!***"
   ]
  },
  {
   "cell_type": "markdown",
   "metadata": {
    "heading_collapsed": true,
    "hidden": true
   },
   "source": [
    "## BREAKOUT!"
   ]
  },
  {
   "cell_type": "markdown",
   "metadata": {
    "hidden": true
   },
   "source": [
    "Consider how you would consider the different teams of 5 you can make with 8 players."
   ]
  },
  {
   "cell_type": "markdown",
   "metadata": {
    "hidden": true
   },
   "source": [
    "<pre>\n",
    "\n",
    "\n",
    "\n",
    "\n",
    "\n",
    "\n",
    "\n",
    "\n",
    "\n",
    "\n",
    "\n",
    "\n",
    "\n",
    "\n",
    "\n",
    "</pre>"
   ]
  },
  {
   "cell_type": "markdown",
   "metadata": {
    "hidden": true
   },
   "source": [
    "How can we write this mathematically?"
   ]
  },
  {
   "cell_type": "markdown",
   "metadata": {
    "hidden": true
   },
   "source": [
    "<pre>\n",
    "\n",
    "\n",
    "\n",
    "\n",
    "\n",
    "\n",
    "\n",
    "\n",
    "\n",
    "\n",
    "\n",
    "\n",
    "\n",
    "\n",
    "\n",
    "</pre>"
   ]
  },
  {
   "cell_type": "markdown",
   "metadata": {
    "heading_collapsed": true,
    "hidden": true
   },
   "source": [
    "## Formula"
   ]
  },
  {
   "cell_type": "markdown",
   "metadata": {
    "hidden": true
   },
   "source": [
    "$$C_{k}^{n} = \\displaystyle\\binom{n}{k} = \\dfrac{P_{k}^{n}}{k!}=\\dfrac{ \\dfrac{n!}{(n-k)!}}{k!} = \\dfrac{n!}{(n-k)!k!}$$"
   ]
  },
  {
   "cell_type": "markdown",
   "metadata": {
    "hidden": true
   },
   "source": [
    "Basically, we have to exclude the \"duplicates\" that were counted by permutations."
   ]
  },
  {
   "cell_type": "markdown",
   "metadata": {
    "heading_collapsed": true
   },
   "source": [
    "# Examples "
   ]
  },
  {
   "cell_type": "markdown",
   "metadata": {
    "heading_collapsed": true,
    "hidden": true
   },
   "source": [
    "## Colored Balls"
   ]
  },
  {
   "cell_type": "markdown",
   "metadata": {
    "hidden": true
   },
   "source": [
    "Consider we have two different colored balls\n",
    "\n",
    "What ways can we organize 3 **identical** <font color='red'>red</font> balls and 2 **identical** <font color='green'>green</font> balls?"
   ]
  },
  {
   "cell_type": "markdown",
   "metadata": {
    "hidden": true
   },
   "source": [
    "<pre>\n",
    "\n",
    "\n",
    "\n",
    "\n",
    "\n",
    "\n",
    "\n",
    "\n",
    "\n",
    "\n",
    "\n",
    "\n",
    "\n",
    "\n",
    "\n",
    "\n",
    "\n",
    "\n",
    "\n",
    "\n",
    "</pre>"
   ]
  }
 ],
 "metadata": {
  "kernelspec": {
   "display_name": "Python 3",
   "language": "python",
   "name": "python3"
  },
  "language_info": {
   "codemirror_mode": {
    "name": "ipython",
    "version": 3
   },
   "file_extension": ".py",
   "mimetype": "text/x-python",
   "name": "python",
   "nbconvert_exporter": "python",
   "pygments_lexer": "ipython3",
   "version": "3.7.1"
  },
  "toc": {
   "base_numbering": 1,
   "nav_menu": {},
   "number_sections": true,
   "sideBar": true,
   "skip_h1_title": false,
   "title_cell": "Table of Contents",
   "title_sidebar": "Contents",
   "toc_cell": true,
   "toc_position": {},
   "toc_section_display": true,
   "toc_window_display": true
  },
  "varInspector": {
   "cols": {
    "lenName": 16,
    "lenType": 16,
    "lenVar": 40
   },
   "kernels_config": {
    "python": {
     "delete_cmd_postfix": "",
     "delete_cmd_prefix": "del ",
     "library": "var_list.py",
     "varRefreshCmd": "print(var_dic_list())"
    },
    "r": {
     "delete_cmd_postfix": ") ",
     "delete_cmd_prefix": "rm(",
     "library": "var_list.r",
     "varRefreshCmd": "cat(var_dic_list()) "
    }
   },
   "types_to_exclude": [
    "module",
    "function",
    "builtin_function_or_method",
    "instance",
    "_Feature"
   ],
   "window_display": false
  }
 },
 "nbformat": 4,
 "nbformat_minor": 2
}

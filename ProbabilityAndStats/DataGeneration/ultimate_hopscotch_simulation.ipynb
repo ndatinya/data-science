{
 "cells": [
  {
   "cell_type": "markdown",
   "metadata": {
    "toc": true
   },
   "source": [
    "<h1>Table of Contents<span class=\"tocSkip\"></span></h1>\n",
    "<div class=\"toc\"><ul class=\"toc-item\"><li><span><a href=\"#Run-Simulations-(non-OOP)\" data-toc-modified-id=\"Run-Simulations-(non-OOP)-1\"><span class=\"toc-item-num\">1&nbsp;&nbsp;</span>Run Simulations (non-OOP)</a></span><ul class=\"toc-item\"><li><span><a href=\"#Creating-the-game-mechanics\" data-toc-modified-id=\"Creating-the-game-mechanics-1.1\"><span class=\"toc-item-num\">1.1&nbsp;&nbsp;</span>Creating the game mechanics</a></span></li><li><span><a href=\"#Simulating-the-game\" data-toc-modified-id=\"Simulating-the-game-1.2\"><span class=\"toc-item-num\">1.2&nbsp;&nbsp;</span>Simulating the game</a></span></li><li><span><a href=\"#Run-many-games\" data-toc-modified-id=\"Run-many-games-1.3\"><span class=\"toc-item-num\">1.3&nbsp;&nbsp;</span>Run many games</a></span></li><li><span><a href=\"#Run-many-kinds-of-games\" data-toc-modified-id=\"Run-many-kinds-of-games-1.4\"><span class=\"toc-item-num\">1.4&nbsp;&nbsp;</span>Run many kinds of games</a></span></li><li><span><a href=\"#Optional:-Parallel-Processing\" data-toc-modified-id=\"Optional:-Parallel-Processing-1.5\"><span class=\"toc-item-num\">1.5&nbsp;&nbsp;</span>Optional: Parallel Processing</a></span></li></ul></li></ul></div>"
   ]
  },
  {
   "cell_type": "markdown",
   "metadata": {},
   "source": [
    "Checkout the game on this video: https://www.youtube.com/watch?v=EuwNgNiC4BY"
   ]
  },
  {
   "cell_type": "markdown",
   "metadata": {
    "heading_collapsed": true
   },
   "source": [
    "# Run Simulations (non-OOP)"
   ]
  },
  {
   "cell_type": "code",
   "execution_count": null,
   "metadata": {
    "ExecuteTime": {
     "end_time": "2019-10-25T18:44:39.132904Z",
     "start_time": "2019-10-25T18:44:38.903424Z"
    },
    "hidden": true
   },
   "outputs": [],
   "source": [
    "import numpy as np\n",
    "import matplotlib.pyplot as plt\n",
    "%matplotlib inline\n",
    "\n",
    "np.random.seed(27)"
   ]
  },
  {
   "cell_type": "markdown",
   "metadata": {
    "heading_collapsed": true,
    "hidden": true
   },
   "source": [
    "## Creating the game mechanics"
   ]
  },
  {
   "cell_type": "code",
   "execution_count": null,
   "metadata": {
    "ExecuteTime": {
     "end_time": "2019-10-25T18:45:31.736066Z",
     "start_time": "2019-10-25T18:45:31.727190Z"
    },
    "code_folding": [],
    "hidden": true
   },
   "outputs": [],
   "source": [
    "def winner(player1_choice, player2_choice):\n",
    "    '''\n",
    "    Uses rock-paper-scissors logic & returns winner ('player1'/'player2') or \n",
    "    'draw'.\n",
    "    '''\n",
    "    if player1_choice == player2_choice:\n",
    "        return 'draw'\n",
    "    elif player1_choice == 0:\n",
    "        if player2_choice == 1:\n",
    "            return 'player2'\n",
    "        else:\n",
    "            return 'player1'\n",
    "    elif player1_choice == 1:\n",
    "        if player2_choice == 2:\n",
    "            return 'player2'\n",
    "        else:\n",
    "            return 'player1'\n",
    "    else: #player1_choice == 2:\n",
    "        if player2_choice == 0:\n",
    "            return 'player2'\n",
    "        else:\n",
    "            return 'player1'        \n",
    "\n",
    "def battle():\n",
    "    '''\n",
    "    Returns 0 or 1 for winner (player 1 or 2). Will run battle until a winner.\n",
    "    '''\n",
    "    \n",
    "    # Play game\n",
    "    player1 = np.random.randint(0,3)\n",
    "    player2 = np.random.randint(0,3)\n",
    "    battle_winner = winner(player1, player2)\n",
    "    \n",
    "    # Play until\n",
    "    while(battle_winner == 'draw'):\n",
    "        player1 = np.random.randint(0,3)\n",
    "        player2 = np.random.randint(0,3)\n",
    "        battle_winner = winner(player1, player2)\n",
    "        \n",
    "    #\n",
    "    return 0 if battle_winner == 'player1' else 1\n",
    "\n",
    "    "
   ]
  },
  {
   "cell_type": "markdown",
   "metadata": {
    "heading_collapsed": true,
    "hidden": true
   },
   "source": [
    "## Simulating the game"
   ]
  },
  {
   "cell_type": "code",
   "execution_count": null,
   "metadata": {
    "ExecuteTime": {
     "end_time": "2019-10-25T18:47:01.031863Z",
     "start_time": "2019-10-25T18:47:01.026623Z"
    },
    "hidden": true
   },
   "outputs": [],
   "source": [
    "def simulate_game(n_steps=9, printout=False):\n",
    "    # Start each team's player on opposite sides of the chain\n",
    "    team1_pos = 0\n",
    "    team2_pos = n_steps\n",
    "\n",
    "    # Keep track of how many rounds (time-steps)\n",
    "    rounds = 0\n",
    "\n",
    "    # Iterate while neither player is at their respective end/finish\n",
    "    while(team1_pos < n_steps and team2_pos > 0):\n",
    "        # For debugging\n",
    "        if printout:\n",
    "            print(f'{rounds}: {team1_pos},{team2_pos}')\n",
    "\n",
    "            \n",
    "        # TODO: Note with even n_steps, players can \"skip\" over another\n",
    "        # Need to consider if other player is in way before moving\n",
    "        \n",
    "        # Advance players \n",
    "        rounds += 1\n",
    "        team1_pos += 1\n",
    "        team2_pos -= 1\n",
    "\n",
    "        # Check if there's about to be a battle!!\n",
    "        if team1_pos >= team2_pos:\n",
    "            if printout:\n",
    "                print('battle')\n",
    "            if battle() == 0: # Team2 resets\n",
    "                team2_pos = n_steps\n",
    "            else: # Team1 resets\n",
    "                team1_pos = 0\n",
    "\n",
    "    # For debugging\n",
    "    if printout:\n",
    "        print()\n",
    "        print(f'Winner: {\"Team 2\" if team1_pos==0 else \"Team 1\"}')\n",
    "              \n",
    "    return rounds"
   ]
  },
  {
   "cell_type": "code",
   "execution_count": null,
   "metadata": {
    "ExecuteTime": {
     "end_time": "2019-10-25T18:57:37.841449Z",
     "start_time": "2019-10-25T18:57:37.790226Z"
    },
    "hidden": true,
    "scrolled": true
   },
   "outputs": [],
   "source": [
    "y = [simulate_game(printout=False) for _ in range(500)]"
   ]
  },
  {
   "cell_type": "code",
   "execution_count": null,
   "metadata": {
    "ExecuteTime": {
     "end_time": "2019-10-25T18:58:15.122567Z",
     "start_time": "2019-10-25T18:58:15.024989Z"
    },
    "hidden": true
   },
   "outputs": [],
   "source": [
    "# Simulate game many times and observe the distribution\n",
    "y = [simulate_game(19,printout=False) for _ in range(100)]\n",
    "plt.hist(y)"
   ]
  },
  {
   "cell_type": "markdown",
   "metadata": {
    "heading_collapsed": true,
    "hidden": true
   },
   "source": [
    "## Run many games"
   ]
  },
  {
   "cell_type": "code",
   "execution_count": null,
   "metadata": {
    "ExecuteTime": {
     "end_time": "2019-10-25T18:50:34.928832Z",
     "start_time": "2019-10-25T18:50:34.925193Z"
    },
    "hidden": true
   },
   "outputs": [],
   "source": [
    "def run_n_simulations(n_steps, n_sims=150, printout=False):\n",
    "    # Simulate many times\n",
    "    data=[]\n",
    "    for _ in range(n_sims):\n",
    "        data.append(simulate_game(n_steps))\n",
    "    return n_steps, np.mean(data)"
   ]
  },
  {
   "cell_type": "code",
   "execution_count": null,
   "metadata": {
    "ExecuteTime": {
     "end_time": "2019-10-25T18:50:48.392005Z",
     "start_time": "2019-10-25T18:50:48.374692Z"
    },
    "hidden": true
   },
   "outputs": [],
   "source": [
    "# Example\n",
    "run_n_simulations(9)"
   ]
  },
  {
   "cell_type": "markdown",
   "metadata": {
    "heading_collapsed": true,
    "hidden": true
   },
   "source": [
    "## Run many kinds of games"
   ]
  },
  {
   "cell_type": "code",
   "execution_count": null,
   "metadata": {
    "ExecuteTime": {
     "end_time": "2019-10-25T18:49:49.228316Z",
     "start_time": "2019-10-25T18:49:44.108186Z"
    },
    "hidden": true,
    "scrolled": true
   },
   "outputs": [],
   "source": [
    "# Record the mean of each game variation\n",
    "mean_data = []\n",
    "\n",
    "start = 9     # how big the game's chain is\n",
    "n_types = 15  # how many different types of games (chain-length)\n",
    "n_skips = 10  # start + n_skips ⇒ gives new game type (chain-lenght)\n",
    "\n",
    "for i in range(n_types):\n",
    "    # Print out each game type\n",
    "    print(f'#{i}: Game Size:{i*n_skips+start}'')\n",
    "          \n",
    "    data = []\n",
    "    # Simulate many times for this game type\n",
    "    for _ in range(250):\n",
    "        data.append(simulate_game(start+i*n_skips))\n",
    "    mean_data.append(np.mean(data))\n",
    "          \n",
    "    # Print out average game length\n",
    "    print('\\t Mean Game Length (rounds): {mean_data[i]}')\n",
    "          \n",
    "    \n",
    "plt.scatter(range(start,start+n_types*n_skips,n_skips),mean_data);"
   ]
  },
  {
   "cell_type": "code",
   "execution_count": null,
   "metadata": {
    "ExecuteTime": {
     "end_time": "2019-10-25T18:51:09.395018Z",
     "start_time": "2019-10-25T18:50:52.622453Z"
    },
    "hidden": true,
    "scrolled": true
   },
   "outputs": [],
   "source": [
    "# Simplified version (no printouts)\n",
    "start = 9\n",
    "n_types = 20\n",
    "n_skips = 20\n",
    "game_sizes=[]\n",
    "avg_n_rounds=[]\n",
    "\n",
    "\n",
    "for steps in range(start, start+n_types*n_skips, n_skips):\n",
    "    x,y = run_n_simulations(steps)\n",
    "    game_sizes.append(x)\n",
    "    avg_n_rounds.append(y)\n",
    "\n",
    "\n",
    "plt.scatter(game_sizes, avg_n_rounds);"
   ]
  },
  {
   "cell_type": "markdown",
   "metadata": {
    "ExecuteTime": {
     "end_time": "2019-10-25T17:32:25.116288Z",
     "start_time": "2019-10-25T17:32:25.107434Z"
    },
    "heading_collapsed": true,
    "hidden": true
   },
   "source": [
    "## Optional: Parallel Processing"
   ]
  },
  {
   "cell_type": "code",
   "execution_count": null,
   "metadata": {
    "ExecuteTime": {
     "end_time": "2019-10-25T05:27:19.307312Z",
     "start_time": "2019-10-25T05:27:04.616344Z"
    },
    "hidden": true
   },
   "outputs": [],
   "source": [
    "import multiprocessing as mp\n",
    "num_workers = mp.cpu_count()\n",
    "\n",
    "start = 9\n",
    "n_types = 20\n",
    "n_skips = 20\n",
    "out1=[]\n",
    "out2=[]\n",
    "\n",
    "pool = mp.Pool(num_workers)\n",
    "for task in range(start, start+n_types*n_skips, n_skips):\n",
    "    res = pool.apply_async(run_n_simulations, args=(task,))\n",
    "    x,y = res.get(timeout=10) # time out fail-safe for task\n",
    "    out1.append(x)\n",
    "    out2.append(y)\n",
    "\n",
    "pool.close()\n",
    "pool.join()\n",
    "\n",
    "plt.scatter(out1, out2);"
   ]
  }
 ],
 "metadata": {
  "kernelspec": {
   "display_name": "Python 3",
   "language": "python",
   "name": "python3"
  },
  "language_info": {
   "codemirror_mode": {
    "name": "ipython",
    "version": 3
   },
   "file_extension": ".py",
   "mimetype": "text/x-python",
   "name": "python",
   "nbconvert_exporter": "python",
   "pygments_lexer": "ipython3",
   "version": "3.7.1"
  },
  "toc": {
   "base_numbering": 1,
   "nav_menu": {},
   "number_sections": true,
   "sideBar": true,
   "skip_h1_title": false,
   "title_cell": "Table of Contents",
   "title_sidebar": "Contents",
   "toc_cell": true,
   "toc_position": {},
   "toc_section_display": true,
   "toc_window_display": true
  },
  "varInspector": {
   "cols": {
    "lenName": 16,
    "lenType": 16,
    "lenVar": 40
   },
   "kernels_config": {
    "python": {
     "delete_cmd_postfix": "",
     "delete_cmd_prefix": "del ",
     "library": "var_list.py",
     "varRefreshCmd": "print(var_dic_list())"
    },
    "r": {
     "delete_cmd_postfix": ") ",
     "delete_cmd_prefix": "rm(",
     "library": "var_list.r",
     "varRefreshCmd": "cat(var_dic_list()) "
    }
   },
   "types_to_exclude": [
    "module",
    "function",
    "builtin_function_or_method",
    "instance",
    "_Feature"
   ],
   "window_display": false
  }
 },
 "nbformat": 4,
 "nbformat_minor": 2
}

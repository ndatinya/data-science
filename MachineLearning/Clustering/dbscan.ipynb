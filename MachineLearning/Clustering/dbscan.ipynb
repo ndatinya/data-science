{
 "cells": [
  {
   "cell_type": "markdown",
   "metadata": {
    "toc": true
   },
   "source": [
    "<h1>Table of Contents<span class=\"tocSkip\"></span></h1>\n",
    "<div class=\"toc\"><ul class=\"toc-item\"><li><span><a href=\"#DBSCAN---Density-Based-Spatial-Clustering-of-Applications-with-Noise\" data-toc-modified-id=\"DBSCAN---Density-Based-Spatial-Clustering-of-Applications-with-Noise-1\"><span class=\"toc-item-num\">1&nbsp;&nbsp;</span>DBSCAN - Density-Based Spatial Clustering of Applications with Noise</a></span><ul class=\"toc-item\"><li><span><a href=\"#Conceptually-how-it-works\" data-toc-modified-id=\"Conceptually-how-it-works-1.1\"><span class=\"toc-item-num\">1.1&nbsp;&nbsp;</span>Conceptually how it works</a></span></li><li><span><a href=\"#Coding-Implementation\" data-toc-modified-id=\"Coding-Implementation-1.2\"><span class=\"toc-item-num\">1.2&nbsp;&nbsp;</span>Coding Implementation</a></span></li></ul></li><li><span><a href=\"#Advantages-vs-Disadvantages\" data-toc-modified-id=\"Advantages-vs-Disadvantages-2\"><span class=\"toc-item-num\">2&nbsp;&nbsp;</span>Advantages vs Disadvantages</a></span><ul class=\"toc-item\"><li><span><a href=\"#Advantages\" data-toc-modified-id=\"Advantages-2.1\"><span class=\"toc-item-num\">2.1&nbsp;&nbsp;</span>Advantages</a></span></li><li><span><a href=\"#Disadvantages\" data-toc-modified-id=\"Disadvantages-2.2\"><span class=\"toc-item-num\">2.2&nbsp;&nbsp;</span>Disadvantages</a></span></li></ul></li></ul></div>"
   ]
  },
  {
   "cell_type": "markdown",
   "metadata": {
    "heading_collapsed": true
   },
   "source": [
    "# DBSCAN - Density-Based Spatial Clustering of Applications with Noise"
   ]
  },
  {
   "cell_type": "markdown",
   "metadata": {
    "hidden": true
   },
   "source": [
    "> Allows noise/outliers to be identified in clusters!"
   ]
  },
  {
   "cell_type": "markdown",
   "metadata": {
    "heading_collapsed": true,
    "hidden": true
   },
   "source": [
    "## Conceptually how it works"
   ]
  },
  {
   "cell_type": "markdown",
   "metadata": {
    "hidden": true
   },
   "source": [
    "- Choose a point\n",
    "    + within $\\epsilon$ are there `min_sample`?\n",
    "        - yes then a core point\n",
    "    + within core point?\n",
    "        - yes, border point"
   ]
  },
  {
   "cell_type": "markdown",
   "metadata": {
    "hidden": true
   },
   "source": [
    "https://www.naftaliharris.com/blog/visualizing-dbscan-clustering/"
   ]
  },
  {
   "cell_type": "markdown",
   "metadata": {
    "heading_collapsed": true,
    "hidden": true
   },
   "source": [
    "## Coding Implementation"
   ]
  },
  {
   "cell_type": "markdown",
   "metadata": {
    "hidden": true
   },
   "source": [
    "https://scikit-learn.org/stable/modules/generated/sklearn.cluster.DBSCAN.html"
   ]
  },
  {
   "cell_type": "code",
   "execution_count": null,
   "metadata": {
    "ExecuteTime": {
     "end_time": "2019-11-05T22:54:39.526125Z",
     "start_time": "2019-11-05T22:54:38.584676Z"
    },
    "hidden": true
   },
   "outputs": [],
   "source": [
    "from sklearn import datasets, cluster\n",
    "import matplotlib.pyplot as plt\n",
    "import numpy as np\n",
    "\n",
    "X = datasets.load_iris().data[:70]"
   ]
  },
  {
   "cell_type": "code",
   "execution_count": null,
   "metadata": {
    "ExecuteTime": {
     "end_time": "2019-11-05T22:54:39.561007Z",
     "start_time": "2019-11-05T22:54:39.554751Z"
    },
    "hidden": true
   },
   "outputs": [],
   "source": [
    "db = cluster.DBSCAN(eps=0.5, min_samples=4)\n",
    "db.fit(X)"
   ]
  },
  {
   "cell_type": "markdown",
   "metadata": {
    "heading_collapsed": true
   },
   "source": [
    "# Advantages vs Disadvantages"
   ]
  },
  {
   "cell_type": "markdown",
   "metadata": {
    "heading_collapsed": true,
    "hidden": true
   },
   "source": [
    "## Advantages"
   ]
  },
  {
   "cell_type": "markdown",
   "metadata": {
    "hidden": true
   },
   "source": [
    "- Don't need to specify number of clusters\n",
    "- Flexibility in shapes & sizes\n",
    "- Can deal w/noise & outliers"
   ]
  },
  {
   "cell_type": "markdown",
   "metadata": {
    "heading_collapsed": true,
    "hidden": true
   },
   "source": [
    "## Disadvantages"
   ]
  },
  {
   "cell_type": "markdown",
   "metadata": {
    "hidden": true
   },
   "source": [
    "- Border can be reached from two clusters\n",
    "- If clusters are different densities"
   ]
  }
 ],
 "metadata": {
  "kernelspec": {
   "display_name": "Python 3",
   "language": "python",
   "name": "python3"
  },
  "language_info": {
   "codemirror_mode": {
    "name": "ipython",
    "version": 3
   },
   "file_extension": ".py",
   "mimetype": "text/x-python",
   "name": "python",
   "nbconvert_exporter": "python",
   "pygments_lexer": "ipython3",
   "version": "3.7.1"
  },
  "toc": {
   "base_numbering": 1,
   "nav_menu": {},
   "number_sections": true,
   "sideBar": true,
   "skip_h1_title": false,
   "title_cell": "Table of Contents",
   "title_sidebar": "Contents",
   "toc_cell": true,
   "toc_position": {},
   "toc_section_display": true,
   "toc_window_display": true
  },
  "varInspector": {
   "cols": {
    "lenName": 16,
    "lenType": 16,
    "lenVar": 40
   },
   "kernels_config": {
    "python": {
     "delete_cmd_postfix": "",
     "delete_cmd_prefix": "del ",
     "library": "var_list.py",
     "varRefreshCmd": "print(var_dic_list())"
    },
    "r": {
     "delete_cmd_postfix": ") ",
     "delete_cmd_prefix": "rm(",
     "library": "var_list.r",
     "varRefreshCmd": "cat(var_dic_list()) "
    }
   },
   "types_to_exclude": [
    "module",
    "function",
    "builtin_function_or_method",
    "instance",
    "_Feature"
   ],
   "window_display": false
  }
 },
 "nbformat": 4,
 "nbformat_minor": 2
}

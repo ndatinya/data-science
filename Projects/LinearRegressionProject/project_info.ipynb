{
 "cells": [
  {
   "cell_type": "markdown",
   "metadata": {
    "toc": true
   },
   "source": [
    "<h1>Table of Contents<span class=\"tocSkip\"></span></h1>\n",
    "<div class=\"toc\"><ul class=\"toc-item\"><li><span><a href=\"#Notes-About-Project\" data-toc-modified-id=\"Notes-About-Project-1\"><span class=\"toc-item-num\">1&nbsp;&nbsp;</span>Notes About Project</a></span><ul class=\"toc-item\"><li><span><a href=\"#Common-Imports\" data-toc-modified-id=\"Common-Imports-1.1\"><span class=\"toc-item-num\">1.1&nbsp;&nbsp;</span>Common Imports</a></span></li><li><span><a href=\"#Data-Science-Life-Cycle\" data-toc-modified-id=\"Data-Science-Life-Cycle-1.2\"><span class=\"toc-item-num\">1.2&nbsp;&nbsp;</span>Data Science Life Cycle</a></span><ul class=\"toc-item\"><li><span><a href=\"#CRISP-DM\" data-toc-modified-id=\"CRISP-DM-1.2.1\"><span class=\"toc-item-num\">1.2.1&nbsp;&nbsp;</span>CRISP-DM</a></span></li><li><span><a href=\"#OSEMN\" data-toc-modified-id=\"OSEMN-1.2.2\"><span class=\"toc-item-num\">1.2.2&nbsp;&nbsp;</span>OSEMN</a></span></li></ul></li><li><span><a href=\"#Tips-&amp;-Going-Through-OSEMN\" data-toc-modified-id=\"Tips-&amp;-Going-Through-OSEMN-1.3\"><span class=\"toc-item-num\">1.3&nbsp;&nbsp;</span>Tips &amp; Going Through OSEMN</a></span><ul class=\"toc-item\"><li><span><a href=\"#Obtaining-data-is-CSV\" data-toc-modified-id=\"Obtaining-data-is-CSV-1.3.1\"><span class=\"toc-item-num\">1.3.1&nbsp;&nbsp;</span>Obtaining data is CSV</a></span></li><li><span><a href=\"#Scrubbing\" data-toc-modified-id=\"Scrubbing-1.3.2\"><span class=\"toc-item-num\">1.3.2&nbsp;&nbsp;</span>Scrubbing</a></span></li><li><span><a href=\"#Explore\" data-toc-modified-id=\"Explore-1.3.3\"><span class=\"toc-item-num\">1.3.3&nbsp;&nbsp;</span>Explore</a></span></li><li><span><a href=\"#Modeling\" data-toc-modified-id=\"Modeling-1.3.4\"><span class=\"toc-item-num\">1.3.4&nbsp;&nbsp;</span>Modeling</a></span></li><li><span><a href=\"#Interpret\" data-toc-modified-id=\"Interpret-1.3.5\"><span class=\"toc-item-num\">1.3.5&nbsp;&nbsp;</span>Interpret</a></span></li></ul></li></ul></li><li><span><a href=\"#Project-Example\" data-toc-modified-id=\"Project-Example-2\"><span class=\"toc-item-num\">2&nbsp;&nbsp;</span>Project Example</a></span></li></ul></div>"
   ]
  },
  {
   "cell_type": "markdown",
   "metadata": {
    "colab_type": "text",
    "heading_collapsed": true,
    "id": "THkPYAcUrZCT"
   },
   "source": [
    "# Notes About Project"
   ]
  },
  {
   "cell_type": "markdown",
   "metadata": {
    "colab_type": "text",
    "heading_collapsed": true,
    "hidden": true,
    "id": "z1ADVBGTrn4m"
   },
   "source": [
    "## Common Imports"
   ]
  },
  {
   "cell_type": "code",
   "execution_count": 0,
   "metadata": {
    "colab": {},
    "colab_type": "code",
    "hidden": true,
    "id": "-aAKLUnghgmX"
   },
   "outputs": [],
   "source": [
    "import pandas as pd\n",
    "import numpy as np\n",
    "\n",
    "import statsmodels as sm\n",
    "import seaborn as sns\n",
    "\n",
    "import matplotlib.pyplot as plt"
   ]
  },
  {
   "cell_type": "markdown",
   "metadata": {
    "colab_type": "text",
    "heading_collapsed": true,
    "hidden": true,
    "id": "GcclEyGerqP0"
   },
   "source": [
    "## Data Science Life Cycle"
   ]
  },
  {
   "cell_type": "markdown",
   "metadata": {
    "colab_type": "text",
    "heading_collapsed": true,
    "hidden": true,
    "id": "6K1F4jdirv4t"
   },
   "source": [
    "### CRISP-DM"
   ]
  },
  {
   "cell_type": "markdown",
   "metadata": {
    "colab_type": "text",
    "hidden": true,
    "id": "lMhX3MjGieSP"
   },
   "source": [
    "\n",
    "\n",
    "* Business\n",
    "  - Who is it for?\n",
    "  - Sources?\n",
    "  - What kind of problems can we address?\n",
    "* Data understanding\n",
    "  - What & where are data?\n",
    "  - target (goal)?\n",
    "  - What does the data look like\n",
    "    + Size\n",
    "    + Distribution\n",
    "    + Predictors?\n",
    "  - Where was the data collected (\"correct\")?\n",
    "  \n",
    "* Data Prep\n",
    "  - Missing vals\n",
    "  - Conversions (types, categorical vs numerical)\n",
    "  - Normalize\n",
    "  - Predictors that are related\n",
    "\n",
    "* Modeling\n",
    "   - What kind of models can we try?\n",
    "   - Validation\n",
    "   - Loss function\n",
    "   - Threshold (when are we \"done\"?)\n",
    "   \n",
    "* Evaluation\n",
    "   - Do what with what we got?\n",
    "   \n",
    "* Deploymnet\n",
    "   - Before was \"proof of concept\"\n",
    "   - ETL automation"
   ]
  },
  {
   "cell_type": "markdown",
   "metadata": {
    "colab_type": "text",
    "heading_collapsed": true,
    "hidden": true,
    "id": "MO8UIip9rzsf"
   },
   "source": [
    "### OSEMN"
   ]
  },
  {
   "cell_type": "markdown",
   "metadata": {
    "colab_type": "text",
    "hidden": true,
    "id": "a83vkxWUkUCv"
   },
   "source": [
    "OSEMN\n",
    "\n",
    "* O: Obtaining our data\n",
    "* S:  Scrubbing / Cleaning our data\n",
    "* E:  Exploring / Visualizing our data will allow us to find patterns and trends\n",
    "* M:  Modeling our data will give us our predictive power as a wizard\n",
    "* N:  Interpreting our data"
   ]
  },
  {
   "cell_type": "markdown",
   "metadata": {
    "colab_type": "text",
    "heading_collapsed": true,
    "hidden": true,
    "id": "3QgBy0Cto0Qh"
   },
   "source": [
    "## Tips & Going Through OSEMN\n"
   ]
  },
  {
   "cell_type": "markdown",
   "metadata": {
    "colab_type": "text",
    "heading_collapsed": true,
    "hidden": true,
    "id": "vJtocJWN8Vb2"
   },
   "source": [
    "### Obtaining data is CSV"
   ]
  },
  {
   "cell_type": "markdown",
   "metadata": {
    "colab_type": "text",
    "heading_collapsed": true,
    "hidden": true,
    "id": "s_7hgpFZ8pk4"
   },
   "source": [
    "### Scrubbing"
   ]
  },
  {
   "cell_type": "markdown",
   "metadata": {
    "colab_type": "text",
    "hidden": true,
    "id": "XP12s4Ek_ZQm"
   },
   "source": [
    "  - use `.astype(int64)`\n",
    "  - try `df.isna().sum()`\n",
    "  - colinearity\n",
    " "
   ]
  },
  {
   "cell_type": "markdown",
   "metadata": {
    "colab_type": "text",
    "heading_collapsed": true,
    "hidden": true,
    "id": "5yyVRULn8rgw"
   },
   "source": [
    "### Explore\n"
   ]
  },
  {
   "cell_type": "markdown",
   "metadata": {
    "colab_type": "text",
    "hidden": true,
    "id": "Dv3WkgnI_WmK"
   },
   "source": [
    "  - histograms see distribution `x_ser.hist()`\n",
    "  - scatter `plt.scatter(x_ser, y_ser, c=z_ser)`\n",
    "  - box plots `plt.boxplot(x_series)`\n",
    "  - Good filtering: `df[df.col_name > 10]`\n",
    "  - One-Hot encode `pd.get_dummies(df)`"
   ]
  },
  {
   "cell_type": "markdown",
   "metadata": {
    "colab_type": "text",
    "heading_collapsed": true,
    "hidden": true,
    "id": "8M4LtIgZ8t7J"
   },
   "source": [
    "### Modeling"
   ]
  },
  {
   "cell_type": "markdown",
   "metadata": {
    "colab_type": "text",
    "hidden": true,
    "id": "5XvrtdNQ_Tei"
   },
   "source": [
    "*   Always try something simple first!\n",
    "*   Visualize!\n",
    "*   What features matter (artificially weighing them?)\n",
    "*   Does the model make sense for the data (linearity)\n",
    "*   Can always make new/adjust model"
   ]
  },
  {
   "cell_type": "markdown",
   "metadata": {
    "colab_type": "text",
    "heading_collapsed": true,
    "hidden": true,
    "id": "XAAV1LAd8v7p"
   },
   "source": [
    "### Interpret"
   ]
  },
  {
   "cell_type": "markdown",
   "metadata": {
    "colab_type": "text",
    "hidden": true,
    "id": "i_UeK0eL85Gb"
   },
   "source": [
    "* Think who are you doing this for\n",
    "* Really think about significance\n",
    "* Visuals/plots !!!! (*a picture is worth a thousand words*)\n",
    "\n"
   ]
  },
  {
   "cell_type": "markdown",
   "metadata": {
    "colab_type": "text",
    "heading_collapsed": true,
    "id": "7FNAVY9FtIfY"
   },
   "source": [
    "# Project Example\n",
    "\n",
    "Project Example\n",
    "Checkout a walkthrough from Rafael: https://www.youtube.com/watch?v=aZRnUITFYxk"
   ]
  }
 ],
 "metadata": {
  "colab": {
   "name": "ProjectInfo",
   "provenance": [],
   "version": "0.3.2"
  },
  "kernelspec": {
   "display_name": "Python 3",
   "language": "python",
   "name": "python3"
  },
  "language_info": {
   "codemirror_mode": {
    "name": "ipython",
    "version": 3
   },
   "file_extension": ".py",
   "mimetype": "text/x-python",
   "name": "python",
   "nbconvert_exporter": "python",
   "pygments_lexer": "ipython3",
   "version": "3.6.6"
  },
  "toc": {
   "base_numbering": 1,
   "nav_menu": {},
   "number_sections": true,
   "sideBar": true,
   "skip_h1_title": false,
   "title_cell": "Table of Contents",
   "title_sidebar": "Contents",
   "toc_cell": true,
   "toc_position": {},
   "toc_section_display": true,
   "toc_window_display": true
  },
  "varInspector": {
   "cols": {
    "lenName": 16,
    "lenType": 16,
    "lenVar": 40
   },
   "kernels_config": {
    "python": {
     "delete_cmd_postfix": "",
     "delete_cmd_prefix": "del ",
     "library": "var_list.py",
     "varRefreshCmd": "print(var_dic_list())"
    },
    "r": {
     "delete_cmd_postfix": ") ",
     "delete_cmd_prefix": "rm(",
     "library": "var_list.r",
     "varRefreshCmd": "cat(var_dic_list()) "
    }
   },
   "types_to_exclude": [
    "module",
    "function",
    "builtin_function_or_method",
    "instance",
    "_Feature"
   ],
   "window_display": false
  }
 },
 "nbformat": 4,
 "nbformat_minor": 1
}

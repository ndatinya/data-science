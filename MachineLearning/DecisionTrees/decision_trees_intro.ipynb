{
 "cells": [
  {
   "cell_type": "markdown",
   "metadata": {
    "toc": true
   },
   "source": [
    "<h1>Table of Contents<span class=\"tocSkip\"></span></h1>\n",
    "<div class=\"toc\"><ul class=\"toc-item\"><li><span><a href=\"#Let's-Play-a-Game\" data-toc-modified-id=\"Let's-Play-a-Game-1\"><span class=\"toc-item-num\">1&nbsp;&nbsp;</span>Let's Play a Game</a></span></li><li><span><a href=\"#Decision-Trees-Intro\" data-toc-modified-id=\"Decision-Trees-Intro-2\"><span class=\"toc-item-num\">2&nbsp;&nbsp;</span>Decision Trees Intro</a></span><ul class=\"toc-item\"><li><span><a href=\"#Example-of-Decision-Tree\" data-toc-modified-id=\"Example-of-Decision-Tree-2.1\"><span class=\"toc-item-num\">2.1&nbsp;&nbsp;</span>Example of Decision Tree</a></span></li><li><span><a href=\"#Brief-Summary-of-Steps\" data-toc-modified-id=\"Brief-Summary-of-Steps-2.2\"><span class=\"toc-item-num\">2.2&nbsp;&nbsp;</span>Brief Summary of Steps</a></span><ul class=\"toc-item\"><li><span><a href=\"#Note:-Greedy-Search\" data-toc-modified-id=\"Note:-Greedy-Search-2.2.1\"><span class=\"toc-item-num\">2.2.1&nbsp;&nbsp;</span>Note: Greedy Search</a></span></li></ul></li></ul></li><li><span><a href=\"#🧠-Knowledge-Check:-Making-the-Decisions\" data-toc-modified-id=\"🧠-Knowledge-Check:-Making-the-Decisions-3\"><span class=\"toc-item-num\">3&nbsp;&nbsp;</span>🧠 Knowledge Check: Making the Decisions</a></span><ul class=\"toc-item\"><li><span><a href=\"#Q-01\" data-toc-modified-id=\"Q-01-3.1\"><span class=\"toc-item-num\">3.1&nbsp;&nbsp;</span>Q-01</a></span><ul class=\"toc-item\"><li><span><a href=\"#Solution\" data-toc-modified-id=\"Solution-3.1.1\"><span class=\"toc-item-num\">3.1.1&nbsp;&nbsp;</span>Solution</a></span></li></ul></li><li><span><a href=\"#Q-02\" data-toc-modified-id=\"Q-02-3.2\"><span class=\"toc-item-num\">3.2&nbsp;&nbsp;</span>Q-02</a></span><ul class=\"toc-item\"><li><span><a href=\"#Solution\" data-toc-modified-id=\"Solution-3.2.1\"><span class=\"toc-item-num\">3.2.1&nbsp;&nbsp;</span>Solution</a></span></li></ul></li><li><span><a href=\"#Q-03\" data-toc-modified-id=\"Q-03-3.3\"><span class=\"toc-item-num\">3.3&nbsp;&nbsp;</span>Q-03</a></span><ul class=\"toc-item\"><li><span><a href=\"#Solution\" data-toc-modified-id=\"Solution-3.3.1\"><span class=\"toc-item-num\">3.3.1&nbsp;&nbsp;</span>Solution</a></span></li></ul></li></ul></li><li><span><a href=\"#Visual-Example-of-a-Decision-Tree\" data-toc-modified-id=\"Visual-Example-of-a-Decision-Tree-4\"><span class=\"toc-item-num\">4&nbsp;&nbsp;</span>Visual Example of a Decision Tree</a></span></li></ul></div>"
   ]
  },
  {
   "cell_type": "markdown",
   "metadata": {
    "heading_collapsed": true
   },
   "source": [
    "# Let's Play a Game"
   ]
  },
  {
   "cell_type": "markdown",
   "metadata": {
    "hidden": true
   },
   "source": [
    "Pick a thing for Akinator to guess then let's have him guess!\n",
    "\n",
    "https://en.akinator.com/game\n"
   ]
  },
  {
   "cell_type": "markdown",
   "metadata": {
    "heading_collapsed": true
   },
   "source": [
    "# Decision Trees Intro"
   ]
  },
  {
   "cell_type": "markdown",
   "metadata": {
    "hidden": true
   },
   "source": [
    "- Supervised Machine Learning algorithm (classification)\n",
    "- Graph/pathway → making _decisions_ along the way"
   ]
  },
  {
   "cell_type": "markdown",
   "metadata": {
    "hidden": true
   },
   "source": [
    "We continue going through the data splitting it up (**partitions**) based on the features"
   ]
  },
  {
   "cell_type": "markdown",
   "metadata": {
    "hidden": true
   },
   "source": [
    "Basically what happens at each decision"
   ]
  },
  {
   "cell_type": "markdown",
   "metadata": {
    "hidden": true
   },
   "source": [
    "![Road splits at billboard \"What Now?\"](images/fork_in_road.jpg)"
   ]
  },
  {
   "cell_type": "markdown",
   "metadata": {
    "heading_collapsed": true,
    "hidden": true
   },
   "source": [
    "## Example of Decision Tree"
   ]
  },
  {
   "cell_type": "markdown",
   "metadata": {
    "hidden": true
   },
   "source": [
    "\n",
    "Work Status |  Age  | Favorite Website\n",
    "------------|-------|-------------------------\n",
    " Student    | Young | A\n",
    " Working    | Young | B\n",
    " Working    | Old   | C\n",
    " Working    | Young | B\n",
    " Student    | Young | A\n",
    " Student    | Young | A\n",
    "\n"
   ]
  },
  {
   "cell_type": "markdown",
   "metadata": {
    "hidden": true
   },
   "source": [
    "- If someone is a young worker, what website do we recommend?\n",
    "- If someone is an old worker, what website then?"
   ]
  },
  {
   "cell_type": "markdown",
   "metadata": {
    "heading_collapsed": true,
    "hidden": true
   },
   "source": [
    "## Brief Summary of Steps"
   ]
  },
  {
   "cell_type": "markdown",
   "metadata": {
    "hidden": true
   },
   "source": [
    "1. There are features and a target (what class the data point is)\n",
    "2. Make a *decision* (a split) based on some *metric* using the features\n",
    "    - data are split into partitions\n",
    "3. Continue on each partition, and do more splits for each using the features in that partition\n",
    "4. Keep doing that until a **stopping condition** is hit\n",
    "    - Number of data points in a final partition\n",
    "    - Layers deep"
   ]
  },
  {
   "cell_type": "markdown",
   "metadata": {
    "heading_collapsed": true,
    "hidden": true
   },
   "source": [
    "### Note: Greedy Search"
   ]
  },
  {
   "cell_type": "markdown",
   "metadata": {
    "hidden": true
   },
   "source": [
    "We make the most optimal split at each decision (**greedy**) decision which doesn't necessarily lead to the overall most optimal solution"
   ]
  },
  {
   "cell_type": "markdown",
   "metadata": {
    "heading_collapsed": true
   },
   "source": [
    "# 🧠 Knowledge Check: Making the Decisions"
   ]
  },
  {
   "cell_type": "markdown",
   "metadata": {
    "hidden": true
   },
   "source": [
    "Let's plot out some data for 2 different classes on two features. We want to draw as few straight lines as possible to separate the two classes."
   ]
  },
  {
   "cell_type": "code",
   "execution_count": null,
   "metadata": {
    "ExecuteTime": {
     "end_time": "2019-11-06T21:42:43.852494Z",
     "start_time": "2019-11-06T21:42:42.831540Z"
    },
    "hidden": true
   },
   "outputs": [],
   "source": [
    "from sklearn.datasets import make_blobs\n",
    "import matplotlib.pyplot as plt\n",
    "%matplotlib inline\n",
    "import numpy as np\n",
    "\n",
    "np.random.seed(27)"
   ]
  },
  {
   "cell_type": "code",
   "execution_count": null,
   "metadata": {
    "ExecuteTime": {
     "end_time": "2019-11-06T21:42:44.520074Z",
     "start_time": "2019-11-06T21:42:44.512811Z"
    },
    "code_folding": [],
    "hidden": true
   },
   "outputs": [],
   "source": [
    "def helper_create_plot(n=300):\n",
    "    '''\n",
    "    Create a plot to practice how a decision tree makes its cuts/decisions.\n",
    "    '''\n",
    "    X = []\n",
    "    y = []\n",
    "\n",
    "    for i in range(n):\n",
    "        # Generate a random number\n",
    "        nx = np.random.random()*10\n",
    "        ny = np.random.random()*10\n",
    "        X.append((nx,ny))\n",
    "\n",
    "        if nx > 5:\n",
    "            if ny > 1:\n",
    "                y.append(0)\n",
    "            else:\n",
    "                y.append(1)\n",
    "        else:\n",
    "            if ny > 7:\n",
    "                y.append(0)\n",
    "            else:\n",
    "                y.append(1)\n",
    "\n",
    "    X = np.array(X)\n",
    "\n",
    "    f, ax = plt.subplots(1)\n",
    "\n",
    "    ax.scatter(X[:,0], X[:,1], c=y, s=20, cmap='Set1');\n",
    "    plt.xticks(range(11));\n",
    "    plt.xlabel('X1');\n",
    "    plt.yticks(range(11));\n",
    "    plt.ylabel('X2');\n",
    "    \n",
    "    return f, ax"
   ]
  },
  {
   "cell_type": "code",
   "execution_count": null,
   "metadata": {
    "ExecuteTime": {
     "end_time": "2019-11-06T21:42:48.108300Z",
     "start_time": "2019-11-06T21:42:48.103357Z"
    },
    "hidden": true
   },
   "outputs": [],
   "source": [
    "def create_line(ax, direction, threshold, x_range=(0,10), y_range=(0,10), color='blue'):\n",
    "    '''\n",
    "    Creates a vertical or horizontal cut at threshold\n",
    "    '''\n",
    "    if direction == 'vertical':\n",
    "        cut = lambda t: ax.vlines(t,y_range[0], y_range[1], colors=color)\n",
    "    elif direction == 'horizontal':\n",
    "        cut = lambda t: ax.hlines(t,x_range[0], x_range[1], colors=color)\n",
    "    else:\n",
    "        print('Direction does not exist')\n",
    "        return\n",
    "    \n",
    "    cut(threshold)\n",
    "    "
   ]
  },
  {
   "cell_type": "code",
   "execution_count": null,
   "metadata": {
    "ExecuteTime": {
     "end_time": "2019-11-06T21:42:49.727143Z",
     "start_time": "2019-11-06T21:42:49.588022Z"
    },
    "hidden": true
   },
   "outputs": [],
   "source": [
    "f,ax = helper_create_plot()"
   ]
  },
  {
   "cell_type": "markdown",
   "metadata": {
    "heading_collapsed": true,
    "hidden": true
   },
   "source": [
    "## Q-01"
   ]
  },
  {
   "cell_type": "markdown",
   "metadata": {
    "hidden": true
   },
   "source": [
    "Looking at the example above, would a **vertical** or a **horizontal** cut better split the classes?\n",
    "\n",
    "Also, what threshold should we use?"
   ]
  },
  {
   "cell_type": "code",
   "execution_count": null,
   "metadata": {
    "ExecuteTime": {
     "end_time": "2019-11-06T21:28:01.278080Z",
     "start_time": "2019-11-06T21:28:01.275725Z"
    },
    "hidden": true
   },
   "outputs": [],
   "source": [
    "# 'horizontal' or 'vertical'\n",
    "q1_direction =\n",
    "# Between 0 and 10\n",
    "q1_threshold ="
   ]
  },
  {
   "cell_type": "code",
   "execution_count": null,
   "metadata": {
    "ExecuteTime": {
     "end_time": "2019-11-06T21:28:36.379420Z",
     "start_time": "2019-11-06T21:28:36.252088Z"
    },
    "hidden": true,
    "scrolled": true
   },
   "outputs": [],
   "source": [
    "# Test your answer by running this cell\n",
    "f,ax = helper_create_plot()\n",
    "create_line(ax,q1_direction,q1_threshold)"
   ]
  },
  {
   "cell_type": "markdown",
   "metadata": {
    "heading_collapsed": true,
    "hidden": true
   },
   "source": [
    "### Solution"
   ]
  },
  {
   "cell_type": "markdown",
   "metadata": {
    "hidden": true
   },
   "source": [
    "A **vertical** cut/line would do the best to split with a threshold at about **5**"
   ]
  },
  {
   "cell_type": "code",
   "execution_count": null,
   "metadata": {
    "ExecuteTime": {
     "end_time": "2019-11-06T21:42:54.535773Z",
     "start_time": "2019-11-06T21:42:54.391334Z"
    },
    "hidden": true
   },
   "outputs": [],
   "source": [
    "q1_direction = 'vertical'\n",
    "q1_threshold = 5\n",
    "\n",
    "f,ax = helper_create_plot();\n",
    "create_line(ax,q1_direction, q1_threshold);"
   ]
  },
  {
   "cell_type": "markdown",
   "metadata": {
    "heading_collapsed": true,
    "hidden": true
   },
   "source": [
    "## Q-02"
   ]
  },
  {
   "cell_type": "markdown",
   "metadata": {
    "hidden": true
   },
   "source": [
    "Splitting further, what would be the next line & threshold to use?"
   ]
  },
  {
   "cell_type": "code",
   "execution_count": null,
   "metadata": {
    "ExecuteTime": {
     "end_time": "2019-11-06T21:29:49.219402Z",
     "start_time": "2019-11-06T21:29:49.217118Z"
    },
    "hidden": true
   },
   "outputs": [],
   "source": [
    "# 'horizontal' or 'vertical'\n",
    "q2_direction = \n",
    "# Between 0 and 10\n",
    "q2_threshold ="
   ]
  },
  {
   "cell_type": "code",
   "execution_count": null,
   "metadata": {
    "ExecuteTime": {
     "end_time": "2019-11-06T21:43:45.203518Z",
     "start_time": "2019-11-06T21:43:45.079577Z"
    },
    "hidden": true,
    "scrolled": true
   },
   "outputs": [],
   "source": [
    "# Test your answer by running this cell\n",
    "f,ax = helper_create_plot()\n",
    "create_line(ax,q1_direction, q1_threshold)\n",
    "create_line(ax,q2_direction, q2_threshold, x_range=(0, q1_threshold))"
   ]
  },
  {
   "cell_type": "markdown",
   "metadata": {
    "heading_collapsed": true,
    "hidden": true
   },
   "source": [
    "### Solution"
   ]
  },
  {
   "cell_type": "markdown",
   "metadata": {
    "hidden": true
   },
   "source": [
    "A **horizontal** cut/line would do the best to split with a threshold at about **7**"
   ]
  },
  {
   "cell_type": "code",
   "execution_count": null,
   "metadata": {
    "ExecuteTime": {
     "end_time": "2019-11-06T21:43:11.349796Z",
     "start_time": "2019-11-06T21:43:11.216686Z"
    },
    "hidden": true,
    "scrolled": true
   },
   "outputs": [],
   "source": [
    "q2_direction = 'horizontal'\n",
    "q2_threshold = 7\n",
    "\n",
    "f,ax = helper_create_plot()\n",
    "create_line(ax,q1_direction,q1_threshold)\n",
    "create_line(ax,q2_direction, q2_threshold, x_range=(0, q1_threshold))"
   ]
  },
  {
   "cell_type": "markdown",
   "metadata": {
    "heading_collapsed": true,
    "hidden": true
   },
   "source": [
    "## Q-03"
   ]
  },
  {
   "cell_type": "markdown",
   "metadata": {
    "hidden": true
   },
   "source": [
    "Splitting further, what would be the next line & threshold to use?"
   ]
  },
  {
   "cell_type": "code",
   "execution_count": null,
   "metadata": {
    "ExecuteTime": {
     "end_time": "2019-11-06T21:29:49.219402Z",
     "start_time": "2019-11-06T21:29:49.217118Z"
    },
    "hidden": true
   },
   "outputs": [],
   "source": [
    "# 'horizontal' or 'vertical'\n",
    "q3_direction = \n",
    "# Between 0 and 10\n",
    "q3_threshold = "
   ]
  },
  {
   "cell_type": "code",
   "execution_count": null,
   "metadata": {
    "ExecuteTime": {
     "end_time": "2019-11-06T21:43:38.476836Z",
     "start_time": "2019-11-06T21:43:38.308254Z"
    },
    "hidden": true,
    "scrolled": true
   },
   "outputs": [],
   "source": [
    "# Test your answer by running this cell\n",
    "f,ax = helper_create_plot()\n",
    "create_line(ax, q1_direction, q1_threshold)\n",
    "create_line(ax, q2_direction, q2_threshold, x_range=(0, q1_threshold))\n",
    "create_line(ax, q3_direction, q3_threshold, x_range=(q1_threshold, 10))"
   ]
  },
  {
   "cell_type": "markdown",
   "metadata": {
    "heading_collapsed": true,
    "hidden": true
   },
   "source": [
    "### Solution"
   ]
  },
  {
   "cell_type": "markdown",
   "metadata": {
    "hidden": true
   },
   "source": [
    "A **horizontal** cut/line would do the best to split with a threshold at about **1**"
   ]
  },
  {
   "cell_type": "code",
   "execution_count": null,
   "metadata": {
    "ExecuteTime": {
     "end_time": "2019-11-06T21:43:32.678344Z",
     "start_time": "2019-11-06T21:43:32.549366Z"
    },
    "hidden": true
   },
   "outputs": [],
   "source": [
    "q3_direction = 'horizontal'\n",
    "q3_threshold = 1\n",
    "\n",
    "f,ax = helper_create_plot()\n",
    "create_line(ax, q1_direction, q1_threshold)\n",
    "create_line(ax, q2_direction, q2_threshold, x_range=(0, q1_threshold))\n",
    "create_line(ax, q3_direction, q3_threshold, x_range=(q1_threshold, 10))"
   ]
  },
  {
   "cell_type": "markdown",
   "metadata": {
    "heading_collapsed": true
   },
   "source": [
    "# Visual Example of a Decision Tree"
   ]
  },
  {
   "cell_type": "markdown",
   "metadata": {
    "hidden": true
   },
   "source": [
    "> From http://www.r2d3.us/visual-intro-to-machine-learning-part-1/\n",
    "\n",
    "![Visual of decision tree](images/ex-decision-tree.png)"
   ]
  }
 ],
 "metadata": {
  "kernelspec": {
   "display_name": "Python 3",
   "language": "python",
   "name": "python3"
  },
  "language_info": {
   "codemirror_mode": {
    "name": "ipython",
    "version": 3
   },
   "file_extension": ".py",
   "mimetype": "text/x-python",
   "name": "python",
   "nbconvert_exporter": "python",
   "pygments_lexer": "ipython3",
   "version": "3.7.1"
  },
  "toc": {
   "base_numbering": 1,
   "nav_menu": {},
   "number_sections": true,
   "sideBar": true,
   "skip_h1_title": false,
   "title_cell": "Table of Contents",
   "title_sidebar": "Contents",
   "toc_cell": true,
   "toc_position": {},
   "toc_section_display": true,
   "toc_window_display": true
  },
  "varInspector": {
   "cols": {
    "lenName": 16,
    "lenType": 16,
    "lenVar": 40
   },
   "kernels_config": {
    "python": {
     "delete_cmd_postfix": "",
     "delete_cmd_prefix": "del ",
     "library": "var_list.py",
     "varRefreshCmd": "print(var_dic_list())"
    },
    "r": {
     "delete_cmd_postfix": ") ",
     "delete_cmd_prefix": "rm(",
     "library": "var_list.r",
     "varRefreshCmd": "cat(var_dic_list()) "
    }
   },
   "types_to_exclude": [
    "module",
    "function",
    "builtin_function_or_method",
    "instance",
    "_Feature"
   ],
   "window_display": false
  }
 },
 "nbformat": 4,
 "nbformat_minor": 2
}

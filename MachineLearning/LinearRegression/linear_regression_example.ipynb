{
 "cells": [
  {
   "cell_type": "markdown",
   "metadata": {
    "toc": true
   },
   "source": [
    "<h1>Table of Contents<span class=\"tocSkip\"></span></h1>\n",
    "<div class=\"toc\"><ul class=\"toc-item\"><li><span><a href=\"#Before-We-Begin,-Remember-DS-Life-Cycle\" data-toc-modified-id=\"Before-We-Begin,-Remember-DS-Life-Cycle-1\"><span class=\"toc-item-num\">1&nbsp;&nbsp;</span>Before We Begin, Remember DS Life Cycle</a></span><ul class=\"toc-item\"><li><span><a href=\"#Other-frameworks-to-consider\" data-toc-modified-id=\"Other-frameworks-to-consider-1.1\"><span class=\"toc-item-num\">1.1&nbsp;&nbsp;</span>Other frameworks to consider</a></span></li></ul></li><li><span><a href=\"#Data-Preparation\" data-toc-modified-id=\"Data-Preparation-2\"><span class=\"toc-item-num\">2&nbsp;&nbsp;</span>Data Preparation</a></span></li><li><span><a href=\"#Feature-Engineering\" data-toc-modified-id=\"Feature-Engineering-3\"><span class=\"toc-item-num\">3&nbsp;&nbsp;</span>Feature Engineering</a></span></li><li><span><a href=\"#Model-the-Data\" data-toc-modified-id=\"Model-the-Data-4\"><span class=\"toc-item-num\">4&nbsp;&nbsp;</span>Model the Data</a></span></li><li><span><a href=\"#Evaluate-the-Model\" data-toc-modified-id=\"Evaluate-the-Model-5\"><span class=\"toc-item-num\">5&nbsp;&nbsp;</span>Evaluate the Model</a></span><ul class=\"toc-item\"><li><span><a href=\"#k-fold-validation\" data-toc-modified-id=\"k-fold-validation-5.1\"><span class=\"toc-item-num\">5.1&nbsp;&nbsp;</span>k-fold validation</a></span></li></ul></li><li><span><a href=\"#Note-to-Save-Your-Models!\" data-toc-modified-id=\"Note-to-Save-Your-Models!-6\"><span class=\"toc-item-num\">6&nbsp;&nbsp;</span>Note to Save Your Models!</a></span><ul class=\"toc-item\"><li><span><a href=\"#pickle\" data-toc-modified-id=\"pickle-6.1\"><span class=\"toc-item-num\">6.1&nbsp;&nbsp;</span><code>pickle</code></a></span></li><li><span><a href=\"#joblib\" data-toc-modified-id=\"joblib-6.2\"><span class=\"toc-item-num\">6.2&nbsp;&nbsp;</span><code>joblib</code></a></span></li></ul></li></ul></div>"
   ]
  },
  {
   "cell_type": "code",
   "execution_count": null,
   "metadata": {
    "ExecuteTime": {
     "end_time": "2020-04-15T21:22:28.771139Z",
     "start_time": "2020-04-15T21:22:28.095841Z"
    }
   },
   "outputs": [],
   "source": [
    "import numpy as np\n",
    "import pandas as pd\n",
    "import matplotlib.pyplot as plt\n",
    "%matplotlib inline "
   ]
  },
  {
   "cell_type": "markdown",
   "metadata": {
    "heading_collapsed": true
   },
   "source": [
    "# Before We Begin, Remember DS Life Cycle "
   ]
  },
  {
   "cell_type": "markdown",
   "metadata": {
    "hidden": true
   },
   "source": [
    "![](https://lh3.googleusercontent.com/proxy/PYozaN6A4m2uZ4D3uWR0ORx1mi4qUq7FXb3UM8ybEYXkorNGsAf22cXaTUZ6vQpmzVMfokPMABo_NiFjl21xyx1wWIM0q7OoqrCStK4L5LnW-WHy4upFr-w60KebsxKKyJ4avYfXWRyMGxdWlYsjd2sBihqEfa6mcg)"
   ]
  },
  {
   "cell_type": "markdown",
   "metadata": {
    "heading_collapsed": true,
    "hidden": true
   },
   "source": [
    "## Other frameworks to consider"
   ]
  },
  {
   "cell_type": "markdown",
   "metadata": {
    "hidden": true
   },
   "source": [
    "> In the future, we will talk about specific frameworks like CRISP-DM **(CRoss-Industry Standard Process for Data Mining)** & OSEMN **Obtain, Scrub, Explore, Model, and iNterpret)**"
   ]
  },
  {
   "cell_type": "markdown",
   "metadata": {
    "hidden": true
   },
   "source": [
    "![](images/crisp-dm.png)"
   ]
  },
  {
   "cell_type": "markdown",
   "metadata": {
    "hidden": true
   },
   "source": [
    "![](images/osemn.png)"
   ]
  },
  {
   "cell_type": "markdown",
   "metadata": {
    "heading_collapsed": true
   },
   "source": [
    "# Data Preparation"
   ]
  },
  {
   "cell_type": "code",
   "execution_count": null,
   "metadata": {
    "ExecuteTime": {
     "end_time": "2020-04-15T21:22:29.231576Z",
     "start_time": "2020-04-15T21:22:28.772856Z"
    },
    "hidden": true
   },
   "outputs": [],
   "source": [
    "import sklearn.datasets\n",
    "\n",
    "my_data = sklearn.datasets.fetch_california_housing()"
   ]
  },
  {
   "cell_type": "markdown",
   "metadata": {
    "hidden": true
   },
   "source": [
    "> https://scikit-learn.org/stable/modules/generated/sklearn.datasets.fetch_california_housing.html#sklearn-datasets-fetch-california-housing"
   ]
  },
  {
   "cell_type": "code",
   "execution_count": null,
   "metadata": {
    "ExecuteTime": {
     "end_time": "2020-04-15T21:22:29.236822Z",
     "start_time": "2020-04-15T21:22:29.233074Z"
    },
    "hidden": true
   },
   "outputs": [],
   "source": [
    "my_data.keys()"
   ]
  },
  {
   "cell_type": "code",
   "execution_count": null,
   "metadata": {
    "ExecuteTime": {
     "end_time": "2020-04-15T21:22:29.240937Z",
     "start_time": "2020-04-15T21:22:29.238254Z"
    },
    "hidden": true
   },
   "outputs": [],
   "source": [
    "print(my_data.DESCR)"
   ]
  },
  {
   "cell_type": "code",
   "execution_count": null,
   "metadata": {
    "ExecuteTime": {
     "end_time": "2020-04-15T21:22:29.244321Z",
     "start_time": "2020-04-15T21:22:29.242241Z"
    },
    "hidden": true
   },
   "outputs": [],
   "source": [
    "X = my_data.data\n",
    "y = my_data.target"
   ]
  },
  {
   "cell_type": "code",
   "execution_count": null,
   "metadata": {
    "ExecuteTime": {
     "end_time": "2020-04-15T21:22:29.263194Z",
     "start_time": "2020-04-15T21:22:29.245602Z"
    },
    "hidden": true
   },
   "outputs": [],
   "source": [
    "# Something we're a little more familiar with\n",
    "import pandas as pd\n",
    "\n",
    "df = pd.DataFrame(data=X, columns=my_data.feature_names)\n",
    "df.head()"
   ]
  },
  {
   "cell_type": "code",
   "execution_count": null,
   "metadata": {
    "ExecuteTime": {
     "end_time": "2020-04-15T21:22:29.293684Z",
     "start_time": "2020-04-15T21:22:29.264702Z"
    },
    "hidden": true
   },
   "outputs": [],
   "source": [
    "# Split your data into train-test sets\n",
    "from sklearn.model_selection import train_test_split\n",
    "\n",
    "X_train, X_test, y_train, y_test = train_test_split(X, y, test_size=0.2, random_state=27)"
   ]
  },
  {
   "cell_type": "markdown",
   "metadata": {
    "heading_collapsed": true
   },
   "source": [
    "# Feature Engineering"
   ]
  },
  {
   "cell_type": "markdown",
   "metadata": {
    "hidden": true
   },
   "source": [
    "> We'd normally go back and forth between modeling and using different features. You can think of this stage as the in-between of exploration and modeling"
   ]
  },
  {
   "cell_type": "code",
   "execution_count": null,
   "metadata": {
    "ExecuteTime": {
     "end_time": "2020-04-15T21:22:29.297980Z",
     "start_time": "2020-04-15T21:22:29.295710Z"
    },
    "hidden": true
   },
   "outputs": [],
   "source": [
    "features = X_train\n",
    "labels = y_train"
   ]
  },
  {
   "cell_type": "markdown",
   "metadata": {
    "heading_collapsed": true
   },
   "source": [
    "# Model the Data"
   ]
  },
  {
   "cell_type": "code",
   "execution_count": null,
   "metadata": {
    "ExecuteTime": {
     "end_time": "2020-04-15T21:22:29.349975Z",
     "start_time": "2020-04-15T21:22:29.299577Z"
    },
    "hidden": true
   },
   "outputs": [],
   "source": [
    "from sklearn.linear_model import LinearRegression\n",
    "\n",
    "my_model = LinearRegression()\n",
    "my_model.fit(features, labels)"
   ]
  },
  {
   "cell_type": "markdown",
   "metadata": {
    "heading_collapsed": true
   },
   "source": [
    "# Evaluate the Model"
   ]
  },
  {
   "cell_type": "code",
   "execution_count": null,
   "metadata": {
    "ExecuteTime": {
     "end_time": "2020-04-15T21:22:29.359880Z",
     "start_time": "2020-04-15T21:22:29.351407Z"
    },
    "hidden": true
   },
   "outputs": [],
   "source": [
    "from sklearn.metrics import mean_squared_error\n",
    "\n",
    "predictions = my_model.predict(features)\n",
    "mse = mean_squared_error(labels, predictions)\n",
    "rmse = np.sqrt(mse)\n",
    "\n",
    "print(rmse)"
   ]
  },
  {
   "cell_type": "code",
   "execution_count": null,
   "metadata": {
    "ExecuteTime": {
     "end_time": "2020-04-15T21:27:44.128585Z",
     "start_time": "2020-04-15T21:27:44.115512Z"
    },
    "hidden": true
   },
   "outputs": [],
   "source": [
    "display(my_model.coef_)\n",
    "display(my_model.intercept_)\n",
    "\n",
    "\n",
    "pd.DataFrame(\n",
    "    data=np.append(\n",
    "            my_model.coef_,my_model.intercept_\n",
    "        ).reshape(1,9)\n",
    "    ,columns=list(my_data.feature_names)+['inter'])"
   ]
  },
  {
   "cell_type": "markdown",
   "metadata": {
    "heading_collapsed": true,
    "hidden": true
   },
   "source": [
    "## k-fold validation\n",
    "\n",
    "> We use k-fold validation to see how well our model did using just the \"training set\". This effectively creates a new train-validation set for each fold. We can use the RMSE to compare different models or different variations of our models."
   ]
  },
  {
   "cell_type": "code",
   "execution_count": null,
   "metadata": {
    "ExecuteTime": {
     "end_time": "2020-04-15T21:22:29.386494Z",
     "start_time": "2020-04-15T21:22:29.361182Z"
    },
    "hidden": true
   },
   "outputs": [],
   "source": [
    "from sklearn.model_selection import cross_val_score\n",
    "\n",
    "scores = cross_val_score(\n",
    "            my_model, \n",
    "            features,\n",
    "            labels,\n",
    "            cv=8,\n",
    "            scoring=\"neg_mean_squared_error\"\n",
    ")\n",
    "\n",
    "rmse_scores = np.sqrt(-scores)"
   ]
  },
  {
   "cell_type": "code",
   "execution_count": null,
   "metadata": {
    "ExecuteTime": {
     "end_time": "2020-04-15T21:22:29.394226Z",
     "start_time": "2020-04-15T21:22:29.387835Z"
    },
    "hidden": true
   },
   "outputs": [],
   "source": [
    "display(rmse_scores)\n",
    "display(rmse_scores.mean())\n",
    "display(rmse_scores.std())"
   ]
  },
  {
   "cell_type": "markdown",
   "metadata": {
    "heading_collapsed": true
   },
   "source": [
    "# Note to Save Your Models!"
   ]
  },
  {
   "cell_type": "markdown",
   "metadata": {
    "hidden": true
   },
   "source": [
    "<img src='images/save_the_models.png' height=60%/>"
   ]
  },
  {
   "cell_type": "markdown",
   "metadata": {
    "heading_collapsed": true,
    "hidden": true
   },
   "source": [
    "## `pickle`"
   ]
  },
  {
   "cell_type": "code",
   "execution_count": null,
   "metadata": {
    "ExecuteTime": {
     "end_time": "2020-04-15T21:22:29.398753Z",
     "start_time": "2020-04-15T21:22:29.395619Z"
    },
    "hidden": true
   },
   "outputs": [],
   "source": [
    "import pickle\n",
    "\n",
    "pickle.dump(my_model, open('my_model_pickle.pkl','wb'))"
   ]
  },
  {
   "cell_type": "code",
   "execution_count": null,
   "metadata": {
    "ExecuteTime": {
     "end_time": "2020-04-15T21:22:29.403373Z",
     "start_time": "2020-04-15T21:22:29.400136Z"
    },
    "hidden": true
   },
   "outputs": [],
   "source": [
    "# Load the model from earlier\n",
    "model_loaded = pickle.load(open('my_model_pickle.pkl','rb'))"
   ]
  },
  {
   "cell_type": "markdown",
   "metadata": {
    "heading_collapsed": true,
    "hidden": true
   },
   "source": [
    "## `joblib`"
   ]
  },
  {
   "cell_type": "code",
   "execution_count": null,
   "metadata": {
    "ExecuteTime": {
     "end_time": "2020-04-15T21:22:29.409860Z",
     "start_time": "2020-04-15T21:22:29.405311Z"
    },
    "hidden": true
   },
   "outputs": [],
   "source": [
    "import joblib\n",
    "\n",
    "joblib.dump(my_model, \"my_model.pkl\")"
   ]
  },
  {
   "cell_type": "code",
   "execution_count": null,
   "metadata": {
    "ExecuteTime": {
     "end_time": "2020-04-15T21:22:29.415676Z",
     "start_time": "2020-04-15T21:22:29.411300Z"
    },
    "hidden": true
   },
   "outputs": [],
   "source": [
    "# Load the model from earlier\n",
    "my_model_loaded = joblib.load(\"my_model.pkl\")"
   ]
  }
 ],
 "metadata": {
  "kernelspec": {
   "display_name": "Python 3",
   "language": "python",
   "name": "python3"
  },
  "language_info": {
   "codemirror_mode": {
    "name": "ipython",
    "version": 3
   },
   "file_extension": ".py",
   "mimetype": "text/x-python",
   "name": "python",
   "nbconvert_exporter": "python",
   "pygments_lexer": "ipython3",
   "version": "3.6.6"
  },
  "toc": {
   "base_numbering": 1,
   "nav_menu": {},
   "number_sections": true,
   "sideBar": false,
   "skip_h1_title": false,
   "title_cell": "Table of Contents",
   "title_sidebar": "Contents",
   "toc_cell": true,
   "toc_position": {},
   "toc_section_display": true,
   "toc_window_display": false
  },
  "varInspector": {
   "cols": {
    "lenName": 16,
    "lenType": 16,
    "lenVar": 40
   },
   "kernels_config": {
    "python": {
     "delete_cmd_postfix": "",
     "delete_cmd_prefix": "del ",
     "library": "var_list.py",
     "varRefreshCmd": "print(var_dic_list())"
    },
    "r": {
     "delete_cmd_postfix": ") ",
     "delete_cmd_prefix": "rm(",
     "library": "var_list.r",
     "varRefreshCmd": "cat(var_dic_list()) "
    }
   },
   "types_to_exclude": [
    "module",
    "function",
    "builtin_function_or_method",
    "instance",
    "_Feature"
   ],
   "window_display": false
  }
 },
 "nbformat": 4,
 "nbformat_minor": 2
}

{
 "cells": [
  {
   "cell_type": "markdown",
   "metadata": {
    "toc": true
   },
   "source": [
    "<h1>Table of Contents<span class=\"tocSkip\"></span></h1>\n",
    "<div class=\"toc\"><ul class=\"toc-item\"><li><span><a href=\"#Distance-Metrics\" data-toc-modified-id=\"Distance-Metrics-1\"><span class=\"toc-item-num\">1&nbsp;&nbsp;</span>Distance Metrics</a></span><ul class=\"toc-item\"><li><span><a href=\"#Manhattan-Distance\" data-toc-modified-id=\"Manhattan-Distance-1.1\"><span class=\"toc-item-num\">1.1&nbsp;&nbsp;</span>Manhattan Distance</a></span><ul class=\"toc-item\"><li><span><a href=\"#Formula\" data-toc-modified-id=\"Formula-1.1.1\"><span class=\"toc-item-num\">1.1.1&nbsp;&nbsp;</span>Formula</a></span></li><li><span><a href=\"#Code-distance\" data-toc-modified-id=\"Code-distance-1.1.2\"><span class=\"toc-item-num\">1.1.2&nbsp;&nbsp;</span>Code distance</a></span></li></ul></li><li><span><a href=\"#Euclidean-Distance-(Pythagorean-Distance)\" data-toc-modified-id=\"Euclidean-Distance-(Pythagorean-Distance)-1.2\"><span class=\"toc-item-num\">1.2&nbsp;&nbsp;</span>Euclidean Distance (Pythagorean Distance)</a></span><ul class=\"toc-item\"><li><span><a href=\"#Formula\" data-toc-modified-id=\"Formula-1.2.1\"><span class=\"toc-item-num\">1.2.1&nbsp;&nbsp;</span>Formula</a></span></li><li><span><a href=\"#Code-distance\" data-toc-modified-id=\"Code-distance-1.2.2\"><span class=\"toc-item-num\">1.2.2&nbsp;&nbsp;</span>Code distance</a></span></li></ul></li><li><span><a href=\"#Minkowski-Distance\" data-toc-modified-id=\"Minkowski-Distance-1.3\"><span class=\"toc-item-num\">1.3&nbsp;&nbsp;</span>Minkowski Distance</a></span><ul class=\"toc-item\"><li><span><a href=\"#Formula\" data-toc-modified-id=\"Formula-1.3.1\"><span class=\"toc-item-num\">1.3.1&nbsp;&nbsp;</span>Formula</a></span></li><li><span><a href=\"#Code-distance\" data-toc-modified-id=\"Code-distance-1.3.2\"><span class=\"toc-item-num\">1.3.2&nbsp;&nbsp;</span>Code distance</a></span><ul class=\"toc-item\"><li><span><a href=\"#Comparing-previous-points-with-previous-distance-metrics\" data-toc-modified-id=\"Comparing-previous-points-with-previous-distance-metrics-1.3.2.1\"><span class=\"toc-item-num\">1.3.2.1&nbsp;&nbsp;</span>Comparing previous points with previous distance metrics</a></span></li><li><span><a href=\"#Comparing-with-distance-metrics-with-new-points\" data-toc-modified-id=\"Comparing-with-distance-metrics-with-new-points-1.3.2.2\"><span class=\"toc-item-num\">1.3.2.2&nbsp;&nbsp;</span>Comparing with distance metrics with new points</a></span></li></ul></li></ul></li></ul></li><li><span><a href=\"#Note-on-Sklearn's-Metrics\" data-toc-modified-id=\"Note-on-Sklearn's-Metrics-2\"><span class=\"toc-item-num\">2&nbsp;&nbsp;</span>Note on Sklearn's Metrics</a></span></li></ul></div>"
   ]
  },
  {
   "cell_type": "code",
   "execution_count": null,
   "metadata": {
    "ExecuteTime": {
     "end_time": "2019-11-05T18:09:45.799926Z",
     "start_time": "2019-11-05T18:09:45.797646Z"
    }
   },
   "outputs": [],
   "source": [
    "import numpy as np"
   ]
  },
  {
   "cell_type": "markdown",
   "metadata": {
    "heading_collapsed": true
   },
   "source": [
    "# Distance Metrics"
   ]
  },
  {
   "cell_type": "markdown",
   "metadata": {
    "hidden": true
   },
   "source": [
    "A way to describe the \"closeness\" of data points $\\rightarrow$ proxy for similarity"
   ]
  },
  {
   "cell_type": "code",
   "execution_count": null,
   "metadata": {
    "ExecuteTime": {
     "end_time": "2019-11-05T19:28:53.727124Z",
     "start_time": "2019-11-05T19:28:53.579340Z"
    },
    "hidden": true
   },
   "outputs": [],
   "source": [
    "import matplotlib.pyplot as plt\n",
    "from mpl_toolkits.mplot3d import Axes3D\n",
    "%matplotlib inline\n",
    "\n",
    "a = np.array([2,-3,5])\n",
    "b = np.array([1,1,3])\n",
    "X = np.array([a,b])\n",
    "\n",
    "# \n",
    "fig = plt.figure(1, figsize=(8, 6))\n",
    "ax = Axes3D(fig, elev=-150, azim=60)\n",
    "\n",
    "ax.scatter(X[:,0], X[:,1], X[:,2], c=np.array([0,1]), cmap=plt.cm.Set1, s=2e3)\n",
    "\n",
    "ax.set_xlabel(\"1st\")\n",
    "ax.set_ylabel(\"2nd\")\n",
    "ax.set_zlabel(\"3rd \")\n",
    "plt.show()"
   ]
  },
  {
   "cell_type": "markdown",
   "metadata": {
    "heading_collapsed": true,
    "hidden": true
   },
   "source": [
    "## Manhattan Distance"
   ]
  },
  {
   "cell_type": "markdown",
   "metadata": {
    "hidden": true
   },
   "source": [
    "Imagine a grid and you travel along a grid\n",
    "\n",
    "> Does it matter what path we take along the grid?"
   ]
  },
  {
   "cell_type": "markdown",
   "metadata": {
    "hidden": true
   },
   "source": [
    "![(From curriculum)](images/distance_manhattan.png)"
   ]
  },
  {
   "cell_type": "markdown",
   "metadata": {
    "heading_collapsed": true,
    "hidden": true
   },
   "source": [
    "### Formula"
   ]
  },
  {
   "cell_type": "markdown",
   "metadata": {
    "hidden": true
   },
   "source": [
    "$$dist(A,B) = \\sum_{k=1}^{N} |a_k - b_k| $$"
   ]
  },
  {
   "cell_type": "markdown",
   "metadata": {
    "heading_collapsed": true,
    "hidden": true
   },
   "source": [
    "### Code distance"
   ]
  },
  {
   "cell_type": "markdown",
   "metadata": {
    "hidden": true
   },
   "source": [
    "Can use a for-loop but vectorization is usually very quick"
   ]
  },
  {
   "cell_type": "code",
   "execution_count": null,
   "metadata": {
    "ExecuteTime": {
     "end_time": "2019-11-05T18:14:34.032105Z",
     "start_time": "2019-11-05T18:14:34.027510Z"
    },
    "hidden": true
   },
   "outputs": [],
   "source": [
    "a = np.array([2,-3,5])\n",
    "b = np.array([1,1,3])\n",
    "\n",
    "display(a)\n",
    "display(b)"
   ]
  },
  {
   "cell_type": "code",
   "execution_count": null,
   "metadata": {
    "ExecuteTime": {
     "end_time": "2019-11-05T18:14:52.410215Z",
     "start_time": "2019-11-05T18:14:52.404351Z"
    },
    "hidden": true
   },
   "outputs": [],
   "source": [
    "diffs = a - b\n",
    "print('A - B')\n",
    "display(diffs)"
   ]
  },
  {
   "cell_type": "code",
   "execution_count": null,
   "metadata": {
    "ExecuteTime": {
     "end_time": "2019-11-05T18:15:11.579214Z",
     "start_time": "2019-11-05T18:15:11.573811Z"
    },
    "hidden": true
   },
   "outputs": [],
   "source": [
    "print('|A - B|')\n",
    "abs_diff = np.abs(diffs)\n",
    "display(abs_diff)"
   ]
  },
  {
   "cell_type": "code",
   "execution_count": null,
   "metadata": {
    "ExecuteTime": {
     "end_time": "2019-11-05T18:15:15.646501Z",
     "start_time": "2019-11-05T18:15:15.642968Z"
    },
    "hidden": true
   },
   "outputs": [],
   "source": [
    "dist = np.sum(abs_diff)\n",
    "print('sum(|A-B|)')\n",
    "display(dist)"
   ]
  },
  {
   "cell_type": "markdown",
   "metadata": {
    "heading_collapsed": true,
    "hidden": true
   },
   "source": [
    "## Euclidean Distance (Pythagorean Distance)"
   ]
  },
  {
   "cell_type": "markdown",
   "metadata": {
    "hidden": true
   },
   "source": [
    "Well-known for the Pythagorean Theorem\n",
    "\n",
    "> _\"As the crow flies\"_"
   ]
  },
  {
   "cell_type": "markdown",
   "metadata": {
    "hidden": true
   },
   "source": [
    "<img src='images/distance_euclidean.png' width = 50%/>"
   ]
  },
  {
   "cell_type": "markdown",
   "metadata": {
    "heading_collapsed": true,
    "hidden": true
   },
   "source": [
    "### Formula"
   ]
  },
  {
   "cell_type": "markdown",
   "metadata": {
    "hidden": true
   },
   "source": [
    "$$dist(A,B) = \\sqrt{ \\sum_{k=1}^{N} (a_k - b_k)^2 } $$"
   ]
  },
  {
   "cell_type": "markdown",
   "metadata": {
    "heading_collapsed": true,
    "hidden": true
   },
   "source": [
    "### Code distance"
   ]
  },
  {
   "cell_type": "code",
   "execution_count": null,
   "metadata": {
    "ExecuteTime": {
     "end_time": "2019-11-05T18:16:51.509692Z",
     "start_time": "2019-11-05T18:16:51.502951Z"
    },
    "hidden": true
   },
   "outputs": [],
   "source": [
    "a = np.array([2,-3,5])\n",
    "b = np.array([1,1,3])\n",
    "\n",
    "display(a)\n",
    "display(b)"
   ]
  },
  {
   "cell_type": "code",
   "execution_count": null,
   "metadata": {
    "ExecuteTime": {
     "end_time": "2019-11-05T18:16:54.035891Z",
     "start_time": "2019-11-05T18:16:54.030635Z"
    },
    "hidden": true
   },
   "outputs": [],
   "source": [
    "diffs = a - b\n",
    "print('A - B')\n",
    "display(diffs)"
   ]
  },
  {
   "cell_type": "code",
   "execution_count": null,
   "metadata": {
    "ExecuteTime": {
     "end_time": "2019-11-05T18:16:57.051654Z",
     "start_time": "2019-11-05T18:16:57.047122Z"
    },
    "hidden": true
   },
   "outputs": [],
   "source": [
    "print('(A - B)^2')\n",
    "sq_diffs = diffs * diffs\n",
    "display(sq_diffs)"
   ]
  },
  {
   "cell_type": "code",
   "execution_count": null,
   "metadata": {
    "ExecuteTime": {
     "end_time": "2019-11-05T18:16:59.808848Z",
     "start_time": "2019-11-05T18:16:59.805199Z"
    },
    "hidden": true
   },
   "outputs": [],
   "source": [
    "print('sum[(A - B)^2]')\n",
    "sq_sum = np.sum(sq_diffs)\n",
    "display(sq_sum)"
   ]
  },
  {
   "cell_type": "code",
   "execution_count": null,
   "metadata": {
    "ExecuteTime": {
     "end_time": "2019-11-05T18:17:02.328776Z",
     "start_time": "2019-11-05T18:17:02.325216Z"
    },
    "hidden": true
   },
   "outputs": [],
   "source": [
    "dist = np.sqrt(sq_sum)\n",
    "print('√sum[(A - B)^2]')\n",
    "display(dist)"
   ]
  },
  {
   "cell_type": "markdown",
   "metadata": {
    "heading_collapsed": true,
    "hidden": true
   },
   "source": [
    "## Minkowski Distance"
   ]
  },
  {
   "cell_type": "markdown",
   "metadata": {
    "hidden": true
   },
   "source": [
    "Used in a Normed Vector Space\n",
    "\n",
    "Above were special cases of the Minkowski Distance"
   ]
  },
  {
   "cell_type": "markdown",
   "metadata": {
    "heading_collapsed": true,
    "hidden": true
   },
   "source": [
    "### Formula"
   ]
  },
  {
   "cell_type": "markdown",
   "metadata": {
    "hidden": true
   },
   "source": [
    "$$dist(A,B) = (\\sum_{k=1}^{N} |a_k - b_k|^c )^\\frac{1}{c} $$"
   ]
  },
  {
   "cell_type": "markdown",
   "metadata": {
    "heading_collapsed": true,
    "hidden": true
   },
   "source": [
    "### Code distance"
   ]
  },
  {
   "cell_type": "markdown",
   "metadata": {
    "heading_collapsed": true,
    "hidden": true
   },
   "source": [
    "#### Comparing previous points with previous distance metrics"
   ]
  },
  {
   "cell_type": "code",
   "execution_count": null,
   "metadata": {
    "ExecuteTime": {
     "end_time": "2019-11-05T18:19:50.116053Z",
     "start_time": "2019-11-05T18:19:50.113229Z"
    },
    "hidden": true
   },
   "outputs": [],
   "source": [
    "def minkowski(A,B,c=2):\n",
    "    abs_diffs = np.abs(A-B)\n",
    "    pow_diffs = np.power(abs_diffs, c)\n",
    "    sum_diff = np.sum(pow_diffs)\n",
    "    dist = np.power(sum_diff, 1/c)\n",
    "    return dist"
   ]
  },
  {
   "cell_type": "code",
   "execution_count": null,
   "metadata": {
    "ExecuteTime": {
     "end_time": "2019-11-05T18:19:52.872949Z",
     "start_time": "2019-11-05T18:19:52.866500Z"
    },
    "hidden": true
   },
   "outputs": [],
   "source": [
    "a = np.array([2,3,5])\n",
    "b = np.array([1,-1,3])\n",
    "\n",
    "display(a)\n",
    "display(b)"
   ]
  },
  {
   "cell_type": "code",
   "execution_count": null,
   "metadata": {
    "ExecuteTime": {
     "end_time": "2019-11-05T18:19:58.077547Z",
     "start_time": "2019-11-05T18:19:58.072747Z"
    },
    "hidden": true
   },
   "outputs": [],
   "source": [
    "# Manhattan Distance\n",
    "minkowski(a,b,1)"
   ]
  },
  {
   "cell_type": "code",
   "execution_count": null,
   "metadata": {
    "ExecuteTime": {
     "end_time": "2019-11-05T18:20:03.621296Z",
     "start_time": "2019-11-05T18:20:03.616739Z"
    },
    "hidden": true
   },
   "outputs": [],
   "source": [
    "# Euclidean Distance\n",
    "minkowski(a,b,2)"
   ]
  },
  {
   "cell_type": "code",
   "execution_count": null,
   "metadata": {
    "ExecuteTime": {
     "end_time": "2019-11-05T18:21:03.785454Z",
     "start_time": "2019-11-05T18:21:03.779435Z"
    },
    "hidden": true
   },
   "outputs": [],
   "source": [
    "# Higher Order Distance\n",
    "minkowski(a,b,5)"
   ]
  },
  {
   "cell_type": "markdown",
   "metadata": {
    "heading_collapsed": true,
    "hidden": true
   },
   "source": [
    "#### Comparing with distance metrics with new points"
   ]
  },
  {
   "cell_type": "code",
   "execution_count": null,
   "metadata": {
    "ExecuteTime": {
     "end_time": "2019-11-05T18:21:30.817890Z",
     "start_time": "2019-11-05T18:21:30.811511Z"
    },
    "hidden": true
   },
   "outputs": [],
   "source": [
    "a = np.array([2,3,10])\n",
    "b = np.array([1,-1,3])\n",
    "\n",
    "display(a)\n",
    "display(b)"
   ]
  },
  {
   "cell_type": "code",
   "execution_count": null,
   "metadata": {
    "ExecuteTime": {
     "end_time": "2019-11-05T18:21:32.767047Z",
     "start_time": "2019-11-05T18:21:32.762552Z"
    },
    "hidden": true
   },
   "outputs": [],
   "source": [
    "# Manhattan Distance\n",
    "minkowski(a,b,1)"
   ]
  },
  {
   "cell_type": "code",
   "execution_count": null,
   "metadata": {
    "ExecuteTime": {
     "end_time": "2019-11-05T18:21:33.070675Z",
     "start_time": "2019-11-05T18:21:33.067062Z"
    },
    "hidden": true
   },
   "outputs": [],
   "source": [
    "# Euclidean Distance\n",
    "minkowski(a,b,2)"
   ]
  },
  {
   "cell_type": "code",
   "execution_count": null,
   "metadata": {
    "ExecuteTime": {
     "end_time": "2019-11-05T18:21:33.651488Z",
     "start_time": "2019-11-05T18:21:33.645352Z"
    },
    "hidden": true
   },
   "outputs": [],
   "source": [
    "# Higher Order Distance\n",
    "minkowski(a,b,5)"
   ]
  },
  {
   "cell_type": "markdown",
   "metadata": {
    "heading_collapsed": true
   },
   "source": [
    "# Note on Sklearn's Metrics"
   ]
  },
  {
   "cell_type": "markdown",
   "metadata": {
    "hidden": true
   },
   "source": [
    "> We can use other metrics or define our own distance metrics\n",
    "\n",
    "https://scikit-learn.org/stable/modules/generated/sklearn.neighbors.DistanceMetric.html"
   ]
  }
 ],
 "metadata": {
  "kernelspec": {
   "display_name": "Python 3",
   "language": "python",
   "name": "python3"
  },
  "language_info": {
   "codemirror_mode": {
    "name": "ipython",
    "version": 3
   },
   "file_extension": ".py",
   "mimetype": "text/x-python",
   "name": "python",
   "nbconvert_exporter": "python",
   "pygments_lexer": "ipython3",
   "version": "3.7.1"
  },
  "toc": {
   "base_numbering": 1,
   "nav_menu": {},
   "number_sections": true,
   "sideBar": true,
   "skip_h1_title": false,
   "title_cell": "Table of Contents",
   "title_sidebar": "Contents",
   "toc_cell": true,
   "toc_position": {},
   "toc_section_display": true,
   "toc_window_display": true
  },
  "varInspector": {
   "cols": {
    "lenName": 16,
    "lenType": 16,
    "lenVar": 40
   },
   "kernels_config": {
    "python": {
     "delete_cmd_postfix": "",
     "delete_cmd_prefix": "del ",
     "library": "var_list.py",
     "varRefreshCmd": "print(var_dic_list())"
    },
    "r": {
     "delete_cmd_postfix": ") ",
     "delete_cmd_prefix": "rm(",
     "library": "var_list.r",
     "varRefreshCmd": "cat(var_dic_list()) "
    }
   },
   "types_to_exclude": [
    "module",
    "function",
    "builtin_function_or_method",
    "instance",
    "_Feature"
   ],
   "window_display": false
  }
 },
 "nbformat": 4,
 "nbformat_minor": 2
}

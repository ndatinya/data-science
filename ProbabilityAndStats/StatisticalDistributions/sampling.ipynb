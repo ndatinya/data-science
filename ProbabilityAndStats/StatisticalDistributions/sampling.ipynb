{
 "cells": [
  {
   "cell_type": "markdown",
   "metadata": {
    "toc": true
   },
   "source": [
    "<h1>Table of Contents<span class=\"tocSkip\"></span></h1>\n",
    "<div class=\"toc\"><ul class=\"toc-item\"><li><span><a href=\"#Our-View-of-the-World-Isn't-Perfect\" data-toc-modified-id=\"Our-View-of-the-World-Isn't-Perfect-1\"><span class=\"toc-item-num\">1&nbsp;&nbsp;</span>Our View of the World Isn't Perfect</a></span><ul class=\"toc-item\"><li><span><a href=\"#🧠-Knowledge-Check:-Why-can't-we-we-look-at-the-whole-population?\" data-toc-modified-id=\"🧠-Knowledge-Check:-Why-can't-we-we-look-at-the-whole-population?-1.1\"><span class=\"toc-item-num\">1.1&nbsp;&nbsp;</span>🧠 Knowledge Check: Why can't we we look at the whole population?</a></span></li><li><span><a href=\"#A-scenario\" data-toc-modified-id=\"A-scenario-1.2\"><span class=\"toc-item-num\">1.2&nbsp;&nbsp;</span>A scenario</a></span></li></ul></li><li><span><a href=\"#Sampling\" data-toc-modified-id=\"Sampling-2\"><span class=\"toc-item-num\">2&nbsp;&nbsp;</span>Sampling</a></span><ul class=\"toc-item\"><li><span><a href=\"#🧠-Knowledge-Check:-What-considerations-do-we-have-to-keep-in-mind?\" data-toc-modified-id=\"🧠-Knowledge-Check:-What-considerations-do-we-have-to-keep-in-mind?-2.1\"><span class=\"toc-item-num\">2.1&nbsp;&nbsp;</span>🧠 Knowledge Check: What considerations do we have to keep in mind?</a></span></li><li><span><a href=\"#Coding-some-samples\" data-toc-modified-id=\"Coding-some-samples-2.2\"><span class=\"toc-item-num\">2.2&nbsp;&nbsp;</span>Coding some samples</a></span></li></ul></li></ul></div>"
   ]
  },
  {
   "cell_type": "markdown",
   "metadata": {
    "heading_collapsed": true
   },
   "source": [
    "# Our View of the World Isn't Perfect"
   ]
  },
  {
   "cell_type": "markdown",
   "metadata": {
    "hidden": true
   },
   "source": [
    "We don't have **perfect** information; life doesn't have an answer key\n",
    "\n",
    "<br/>\n",
    "\n",
    "![no answer in the back of the book meme](images/no-answers-in-back-of-book.jpg)"
   ]
  },
  {
   "cell_type": "markdown",
   "metadata": {
    "heading_collapsed": true,
    "hidden": true
   },
   "source": [
    "## 🧠 Knowledge Check: Why can't we we look at the whole population?"
   ]
  },
  {
   "cell_type": "markdown",
   "metadata": {
    "hidden": true
   },
   "source": [
    "1. Expensive\n",
    "2. Unrealistic\n",
    "3. We don't need it to gain insights!"
   ]
  },
  {
   "cell_type": "markdown",
   "metadata": {
    "heading_collapsed": true,
    "hidden": true
   },
   "source": [
    "## A scenario"
   ]
  },
  {
   "cell_type": "markdown",
   "metadata": {
    "hidden": true
   },
   "source": [
    "Imagine a school and we want to know if they prefer chocolate over vanilla\n",
    "\n",
    "<img src='images/school.jpg' width=30%/>"
   ]
  },
  {
   "cell_type": "markdown",
   "metadata": {
    "hidden": true
   },
   "source": [
    "How many students would you really need to ask until you got the right idea of the school?"
   ]
  },
  {
   "cell_type": "markdown",
   "metadata": {
    "heading_collapsed": true
   },
   "source": [
    "# Sampling"
   ]
  },
  {
   "cell_type": "markdown",
   "metadata": {
    "hidden": true
   },
   "source": [
    "From a sample, we can get **point estimates**: estimates of the population parameters."
   ]
  },
  {
   "cell_type": "markdown",
   "metadata": {
    "hidden": true
   },
   "source": [
    "- Each sample will have it's own mean\n",
    "- Showing each sample mean, we will get a normal distribution!"
   ]
  },
  {
   "cell_type": "markdown",
   "metadata": {
    "heading_collapsed": true,
    "hidden": true
   },
   "source": [
    "## 🧠 Knowledge Check: What considerations do we have to keep in mind?"
   ]
  },
  {
   "cell_type": "markdown",
   "metadata": {
    "hidden": true
   },
   "source": [
    "> "
   ]
  },
  {
   "cell_type": "markdown",
   "metadata": {
    "heading_collapsed": true,
    "hidden": true
   },
   "source": [
    "## Coding some samples"
   ]
  },
  {
   "cell_type": "code",
   "execution_count": null,
   "metadata": {
    "ExecuteTime": {
     "end_time": "2020-03-24T19:06:41.156988Z",
     "start_time": "2020-03-24T19:06:40.903959Z"
    },
    "hidden": true
   },
   "outputs": [],
   "source": [
    "import pandas as pd\n",
    "import numpy as np\n",
    "\n",
    "df = pd.read_csv('data/titanic.csv')"
   ]
  },
  {
   "cell_type": "code",
   "execution_count": null,
   "metadata": {
    "ExecuteTime": {
     "end_time": "2020-03-24T19:06:41.178109Z",
     "start_time": "2020-03-24T19:06:41.158608Z"
    },
    "hidden": true,
    "scrolled": true
   },
   "outputs": [],
   "source": [
    "display(df.info())\n",
    "df.head()"
   ]
  },
  {
   "cell_type": "code",
   "execution_count": null,
   "metadata": {
    "ExecuteTime": {
     "end_time": "2020-03-24T19:06:41.183227Z",
     "start_time": "2020-03-24T19:06:41.179437Z"
    },
    "hidden": true
   },
   "outputs": [],
   "source": [
    "all_ages = df['Age'].dropna()\n",
    "age_mean = all_ages.mean()\n",
    "print(f'There are {all_ages.size} people, average age is {age_mean :.1f}')"
   ]
  },
  {
   "cell_type": "code",
   "execution_count": null,
   "metadata": {
    "ExecuteTime": {
     "end_time": "2020-03-24T19:06:41.462144Z",
     "start_time": "2020-03-24T19:06:41.184941Z"
    },
    "hidden": true
   },
   "outputs": [],
   "source": [
    "# Take a random sample\n",
    "sample = all_ages.sample(n=100, random_state=27) #Take a sample of n people\n",
    "mean_s = sample.mean()\n",
    "\n",
    "calc_percent_error = lambda pop_mean, sample_mean: np.abs(sample_mean - pop_mean) / pop_mean\n",
    "    \n",
    "percent_err = calc_percent_error(mean, mean_s)\n",
    "\n",
    "print(f'The sample mean was {mean_s:.1f} with a percent error of {percent_err*100:.2f}%')"
   ]
  }
 ],
 "metadata": {
  "kernelspec": {
   "display_name": "Python 3",
   "language": "python",
   "name": "python3"
  },
  "language_info": {
   "codemirror_mode": {
    "name": "ipython",
    "version": 3
   },
   "file_extension": ".py",
   "mimetype": "text/x-python",
   "name": "python",
   "nbconvert_exporter": "python",
   "pygments_lexer": "ipython3",
   "version": "3.7.1"
  },
  "toc": {
   "base_numbering": 1,
   "nav_menu": {},
   "number_sections": true,
   "sideBar": false,
   "skip_h1_title": false,
   "title_cell": "Table of Contents",
   "title_sidebar": "Contents",
   "toc_cell": true,
   "toc_position": {},
   "toc_section_display": true,
   "toc_window_display": false
  },
  "varInspector": {
   "cols": {
    "lenName": 16,
    "lenType": 16,
    "lenVar": 40
   },
   "kernels_config": {
    "python": {
     "delete_cmd_postfix": "",
     "delete_cmd_prefix": "del ",
     "library": "var_list.py",
     "varRefreshCmd": "print(var_dic_list())"
    },
    "r": {
     "delete_cmd_postfix": ") ",
     "delete_cmd_prefix": "rm(",
     "library": "var_list.r",
     "varRefreshCmd": "cat(var_dic_list()) "
    }
   },
   "types_to_exclude": [
    "module",
    "function",
    "builtin_function_or_method",
    "instance",
    "_Feature"
   ],
   "window_display": false
  }
 },
 "nbformat": 4,
 "nbformat_minor": 2
}

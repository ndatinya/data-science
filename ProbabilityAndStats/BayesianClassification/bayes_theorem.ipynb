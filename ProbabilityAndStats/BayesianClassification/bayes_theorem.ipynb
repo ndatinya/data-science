{
 "cells": [
  {
   "cell_type": "markdown",
   "metadata": {
    "toc": true
   },
   "source": [
    "<h1>Table of Contents<span class=\"tocSkip\"></span></h1>\n",
    "<div class=\"toc\"><ul class=\"toc-item\"><li><span><a href=\"#Thomas-Bayes:-The-Badass-of-Probability-😎\" data-toc-modified-id=\"Thomas-Bayes:-The-Badass-of-Probability-😎-1\"><span class=\"toc-item-num\">1&nbsp;&nbsp;</span>Thomas Bayes: The Badass of Probability 😎</a></span></li><li><span><a href=\"#So-What-Do-These-Bayesians-Say?\" data-toc-modified-id=\"So-What-Do-These-Bayesians-Say?-2\"><span class=\"toc-item-num\">2&nbsp;&nbsp;</span>So What Do These Bayesians Say?</a></span><ul class=\"toc-item\"><li><span><a href=\"#Basically-C3P0-is-wrong-&amp;-Hans-Solo-is-a-badass\" data-toc-modified-id=\"Basically-C3P0-is-wrong-&amp;-Hans-Solo-is-a-badass-2.1\"><span class=\"toc-item-num\">2.1&nbsp;&nbsp;</span>Basically C3P0 is wrong &amp; Hans Solo is a badass</a></span></li><li><span><a href=\"#Other-non-Star-Wars-examples:\" data-toc-modified-id=\"Other-non-Star-Wars-examples:-2.2\"><span class=\"toc-item-num\">2.2&nbsp;&nbsp;</span>Other non-Star Wars examples:</a></span></li><li><span><a href=\"#The-other-faction---Frequentists\" data-toc-modified-id=\"The-other-faction---Frequentists-2.3\"><span class=\"toc-item-num\">2.3&nbsp;&nbsp;</span>The other faction - Frequentists</a></span><ul class=\"toc-item\"><li><span><a href=\"#Pondering-Time-🤔\" data-toc-modified-id=\"Pondering-Time-🤔-2.3.1\"><span class=\"toc-item-num\">2.3.1&nbsp;&nbsp;</span>Pondering Time 🤔</a></span></li></ul></li></ul></li><li><span><a href=\"#Bayes'-Theorem\" data-toc-modified-id=\"Bayes'-Theorem-3\"><span class=\"toc-item-num\">3&nbsp;&nbsp;</span>Bayes' Theorem</a></span><ul class=\"toc-item\"><li><span><a href=\"#The-Classic-Thought-Experiment\" data-toc-modified-id=\"The-Classic-Thought-Experiment-3.1\"><span class=\"toc-item-num\">3.1&nbsp;&nbsp;</span>The Classic Thought Experiment</a></span></li><li><span><a href=\"#Math-Time!-🤓\" data-toc-modified-id=\"Math-Time!-🤓-3.2\"><span class=\"toc-item-num\">3.2&nbsp;&nbsp;</span>Math Time! 🤓</a></span><ul class=\"toc-item\"><li><span><a href=\"#Drumroll-please-🥁…-Presenting,-Bayes'-Theorem!\" data-toc-modified-id=\"Drumroll-please-🥁…-Presenting,-Bayes'-Theorem!-3.2.1\"><span class=\"toc-item-num\">3.2.1&nbsp;&nbsp;</span>Drumroll please 🥁… Presenting, Bayes' Theorem!</a></span></li></ul></li><li><span><a href=\"#Work-some-examples---you-tested-positive-for-disease-🤢\" data-toc-modified-id=\"Work-some-examples---you-tested-positive-for-disease-🤢-3.3\"><span class=\"toc-item-num\">3.3&nbsp;&nbsp;</span>Work some examples - you tested positive for disease 🤢</a></span><ul class=\"toc-item\"><li><span><a href=\"#The-setup\" data-toc-modified-id=\"The-setup-3.3.1\"><span class=\"toc-item-num\">3.3.1&nbsp;&nbsp;</span>The setup</a></span></li><li><span><a href=\"#Q:-What-does-the-formula-look-like?\" data-toc-modified-id=\"Q:-What-does-the-formula-look-like?-3.3.2\"><span class=\"toc-item-num\">3.3.2&nbsp;&nbsp;</span>Q: What does the formula look like?</a></span><ul class=\"toc-item\"><li><span><a href=\"#ANSWER:\" data-toc-modified-id=\"ANSWER:-3.3.2.1\"><span class=\"toc-item-num\">3.3.2.1&nbsp;&nbsp;</span>ANSWER:</a></span></li></ul></li><li><span><a href=\"#Work-it-out\" data-toc-modified-id=\"Work-it-out-3.3.3\"><span class=\"toc-item-num\">3.3.3&nbsp;&nbsp;</span>Work it out</a></span><ul class=\"toc-item\"><li><span><a href=\"#Defining-the-probabilities\" data-toc-modified-id=\"Defining-the-probabilities-3.3.3.1\"><span class=\"toc-item-num\">3.3.3.1&nbsp;&nbsp;</span>Defining the probabilities</a></span></li><li><span><a href=\"#Defining-the-parts-for-Bayes'-Theorem\" data-toc-modified-id=\"Defining-the-parts-for-Bayes'-Theorem-3.3.3.2\"><span class=\"toc-item-num\">3.3.3.2&nbsp;&nbsp;</span>Defining the parts for Bayes' Theorem</a></span></li><li><span><a href=\"#Final-result\" data-toc-modified-id=\"Final-result-3.3.3.3\"><span class=\"toc-item-num\">3.3.3.3&nbsp;&nbsp;</span>Final result</a></span></li><li><span><a href=\"#Q:-Interpretation?-Does-this-make-sense?\" data-toc-modified-id=\"Q:-Interpretation?-Does-this-make-sense?-3.3.3.4\"><span class=\"toc-item-num\">3.3.3.4&nbsp;&nbsp;</span>Q: Interpretation? Does this make sense?</a></span></li></ul></li></ul></li><li><span><a href=\"#Knowledge-Check!-🧠\" data-toc-modified-id=\"Knowledge-Check!-🧠-3.4\"><span class=\"toc-item-num\">3.4&nbsp;&nbsp;</span>Knowledge Check! 🧠</a></span><ul class=\"toc-item\"><li><span><a href=\"#Back-to-the-code!\" data-toc-modified-id=\"Back-to-the-code!-3.4.1\"><span class=\"toc-item-num\">3.4.1&nbsp;&nbsp;</span>Back to the code!</a></span></li></ul></li></ul></li></ul></div>"
   ]
  },
  {
   "cell_type": "markdown",
   "metadata": {
    "heading_collapsed": true
   },
   "source": [
    "# Thomas Bayes: The Badass of Probability 😎"
   ]
  },
  {
   "cell_type": "markdown",
   "metadata": {
    "hidden": true
   },
   "source": [
    "![\"Bayes since badass isn't an official last name\"](images/badass_bayes_tshirt.jpg)\n",
    "\n",
    "> [Shirt from SunFrog](https://www.sunfrog.com/Names/BadAss-BAYES-zilyjxurkm.html?86448) #notsponsored 😉 "
   ]
  },
  {
   "cell_type": "markdown",
   "metadata": {
    "heading_collapsed": true
   },
   "source": [
    "# So What Do These Bayesians Say?"
   ]
  },
  {
   "cell_type": "markdown",
   "metadata": {
    "heading_collapsed": true,
    "hidden": true
   },
   "source": [
    "## Basically C3P0 is wrong & Hans Solo is a badass"
   ]
  },
  {
   "cell_type": "markdown",
   "metadata": {
    "hidden": true
   },
   "source": [
    "https://www.countbayesie.com/blog/2015/2/18/hans-solo-and-bayesian-priors\n",
    "\n",
    "**Bayesian interpretation of probability**: the expected outcome based on some _prior_ knowledge or belief"
   ]
  },
  {
   "cell_type": "markdown",
   "metadata": {
    "heading_collapsed": true,
    "hidden": true
   },
   "source": [
    "## Other non-Star Wars examples: "
   ]
  },
  {
   "cell_type": "markdown",
   "metadata": {
    "hidden": true
   },
   "source": [
    "> Every time I flipped this coin it landed heads, so next time I flip it it'll likely land on heads again.\n",
    "\n",
    "> Hans is a one great pilot, so he likely will get through the asteroid field even if others will fail (crash and blow-up)"
   ]
  },
  {
   "cell_type": "markdown",
   "metadata": {
    "heading_collapsed": true,
    "hidden": true
   },
   "source": [
    "## The other faction - Frequentists"
   ]
  },
  {
   "cell_type": "markdown",
   "metadata": {
    "hidden": true
   },
   "source": [
    "![Star Wars Empire Symbol](images/star_wars_empire_symbol.jpg)\n",
    "\n",
    "\n",
    "**Frequentists** interpretation of probability: the limit of frequency after many, many trials.\n",
    "\n",
    "Basically, the Bayesians assign a probability to a hypothesis but Frequentists test a hypothesis and determine probability with repeated trials.\n",
    "\n",
    "Some days you're a Frequentist, other days you're a Bayesian."
   ]
  },
  {
   "cell_type": "markdown",
   "metadata": {
    "heading_collapsed": true,
    "hidden": true
   },
   "source": [
    "### Pondering Time 🤔"
   ]
  },
  {
   "cell_type": "markdown",
   "metadata": {
    "hidden": true
   },
   "source": [
    "> When would it make sense to think like Bayesian or a Frequentist?"
   ]
  },
  {
   "cell_type": "markdown",
   "metadata": {
    "heading_collapsed": true
   },
   "source": [
    "# Bayes' Theorem"
   ]
  },
  {
   "cell_type": "markdown",
   "metadata": {
    "hidden": true
   },
   "source": [
    "Fun fact: Bayes never published or even wrote the theorem down. He felt it was so obvious (because, once again, Bayes is a badass). \n",
    "\n",
    "Richard Price (friend of Mr. Badass) went through papers after Bayes' death to see if anything was worth publishing."
   ]
  },
  {
   "cell_type": "markdown",
   "metadata": {
    "heading_collapsed": true,
    "hidden": true
   },
   "source": [
    "## The Classic Thought Experiment"
   ]
  },
  {
   "cell_type": "markdown",
   "metadata": {
    "hidden": true
   },
   "source": [
    "- Sit behind a table\n",
    "- Toss an initial ball behind onto table\n",
    "- Toss another ball & assistant says where in relation the 1st ball lies\n",
    "- Repeat & continuously update the belief where the ball is"
   ]
  },
  {
   "cell_type": "markdown",
   "metadata": {
    "hidden": true
   },
   "source": [
    "Good explanation & demo of Bayes' first thought experiment: https://www.youtube.com/watch?v=7GgLSnQ48os"
   ]
  },
  {
   "cell_type": "markdown",
   "metadata": {
    "heading_collapsed": true,
    "hidden": true
   },
   "source": [
    "## Math Time! 🤓"
   ]
  },
  {
   "cell_type": "markdown",
   "metadata": {
    "hidden": true
   },
   "source": [
    "Wait don't go! The show's about to start!"
   ]
  },
  {
   "cell_type": "markdown",
   "metadata": {
    "heading_collapsed": true,
    "hidden": true
   },
   "source": [
    "### Drumroll please 🥁… Presenting, Bayes' Theorem!"
   ]
  },
  {
   "cell_type": "markdown",
   "metadata": {
    "hidden": true
   },
   "source": [
    "$$P(A|B) = \\frac{P(B|A)}{P(B)}\\ P(A) $$\n",
    "\n",
    "$$P(A|B) =  \\frac{P(B|A)P(A)}{P(B)}$$"
   ]
  },
  {
   "cell_type": "markdown",
   "metadata": {
    "hidden": true
   },
   "source": [
    "Each part (note, depending how you approach this, you might group different parts together):\n",
    "\n",
    "- $P(A)$: *prior*\n",
    "- $P(A|B)$: *posterior*\n",
    "- $\\frac{P(B|A)}{P(B)}$: *likelihood*\n",
    "\n",
    "> That wasn't so bad at all!!"
   ]
  },
  {
   "cell_type": "markdown",
   "metadata": {
    "hidden": true
   },
   "source": [
    "P(B) = P(test positive)\n",
    "P(A|B) = P(having the disease given that test positive)\n",
    "A → I have the disease\n",
    "P(A) = 0.0001\n",
    "B → I test positive"
   ]
  },
  {
   "cell_type": "markdown",
   "metadata": {
    "heading_collapsed": true,
    "hidden": true
   },
   "source": [
    "## Work some examples - you tested positive for disease 🤢"
   ]
  },
  {
   "cell_type": "markdown",
   "metadata": {
    "hidden": true
   },
   "source": [
    "> Pretend we test positive for a rare disease"
   ]
  },
  {
   "cell_type": "markdown",
   "metadata": {
    "heading_collapsed": true,
    "hidden": true
   },
   "source": [
    "### The setup"
   ]
  },
  {
   "cell_type": "markdown",
   "metadata": {
    "hidden": true
   },
   "source": [
    "Let's assume some things to get quantify:\n",
    "\n",
    "- Disease is rare; only 0.01% of the population has it\n",
    "- Test is 99% accurate \n",
    "    + Correctly identifies 99% of the time whether you are sick or not"
   ]
  },
  {
   "cell_type": "markdown",
   "metadata": {
    "heading_collapsed": true,
    "hidden": true
   },
   "source": [
    "### Q: What does the formula look like?"
   ]
  },
  {
   "cell_type": "markdown",
   "metadata": {
    "heading_collapsed": true,
    "hidden": true
   },
   "source": [
    "#### ANSWER:"
   ]
  },
  {
   "cell_type": "markdown",
   "metadata": {
    "heading_collapsed": true,
    "hidden": true
   },
   "source": [
    "##### Use Bayes' Theorem to fill it out:"
   ]
  },
  {
   "cell_type": "markdown",
   "metadata": {
    "hidden": true
   },
   "source": [
    "$$P(sick | positive) =  \\frac{P(positive | sick)\\ P(sick)}{P(positive)}$$"
   ]
  },
  {
   "cell_type": "markdown",
   "metadata": {
    "heading_collapsed": true,
    "hidden": true
   },
   "source": [
    "##### But we can simplify it by knowing the probability of testing positive for each case"
   ]
  },
  {
   "cell_type": "markdown",
   "metadata": {
    "hidden": true
   },
   "source": [
    "$$P(positive) = P(sick)\\ P(positive | sick) + P(not\\ sick)\\ P(positive|not\\ sick)$$"
   ]
  },
  {
   "cell_type": "markdown",
   "metadata": {
    "heading_collapsed": true,
    "hidden": true
   },
   "source": [
    "##### Finally, our ultimate equation"
   ]
  },
  {
   "cell_type": "markdown",
   "metadata": {
    "hidden": true
   },
   "source": [
    "$$P(sick | positive) =  \\frac{P(positive | sick)\\ P(sick)}{P(sick)\\ P(positive | sick) + P(not\\ sick)\\ P(positive|not\\ sick)}$$"
   ]
  },
  {
   "cell_type": "markdown",
   "metadata": {
    "heading_collapsed": true,
    "hidden": true
   },
   "source": [
    "### Work it out"
   ]
  },
  {
   "cell_type": "markdown",
   "metadata": {
    "heading_collapsed": true,
    "hidden": true
   },
   "source": [
    "#### Defining the probabilities"
   ]
  },
  {
   "cell_type": "code",
   "execution_count": null,
   "metadata": {
    "ExecuteTime": {
     "end_time": "2020-04-21T22:41:56.803518Z",
     "start_time": "2020-04-21T22:41:56.797488Z"
    },
    "hidden": true
   },
   "outputs": [],
   "source": [
    "# probability of sick & healthy\n",
    "p_sick = 0.0001\n",
    "p_not_sick = 1 - p_sick"
   ]
  },
  {
   "cell_type": "code",
   "execution_count": null,
   "metadata": {
    "ExecuteTime": {
     "end_time": "2020-04-21T22:42:32.160984Z",
     "start_time": "2020-04-21T22:42:32.158580Z"
    },
    "hidden": true
   },
   "outputs": [],
   "source": [
    "# probability of test being correct (accuracy)\n",
    "p_positive_sick = 0.99\n",
    "p_positive_not_sick = 1 - p_positive_sick"
   ]
  },
  {
   "cell_type": "code",
   "execution_count": null,
   "metadata": {
    "ExecuteTime": {
     "end_time": "2020-04-21T22:42:46.161883Z",
     "start_time": "2020-04-21T22:42:46.159537Z"
    },
    "hidden": true
   },
   "outputs": [],
   "source": [
    "# probability of positive test (whether or not you are sick)\n",
    "p_positive = p_sick*p_positive_sick + p_not_sick*p_positive_not_sick"
   ]
  },
  {
   "cell_type": "markdown",
   "metadata": {
    "heading_collapsed": true,
    "hidden": true
   },
   "source": [
    "#### Defining the parts for Bayes' Theorem"
   ]
  },
  {
   "cell_type": "code",
   "execution_count": null,
   "metadata": {
    "ExecuteTime": {
     "end_time": "2020-04-21T22:43:27.650051Z",
     "start_time": "2020-04-21T22:43:27.647841Z"
    },
    "hidden": true
   },
   "outputs": [],
   "source": [
    "# belief before hand\n",
    "prior = p_sick\n",
    "\n",
    "# how likely are we to test positive and be sick\n",
    "likelihood = p_positive_sick / p_positive"
   ]
  },
  {
   "cell_type": "code",
   "execution_count": null,
   "metadata": {
    "ExecuteTime": {
     "end_time": "2020-04-21T22:43:37.633872Z",
     "start_time": "2020-04-21T22:43:37.631075Z"
    },
    "hidden": true
   },
   "outputs": [],
   "source": [
    "# handy dandy function\n",
    "def find_posterior(prior, likelihood):\n",
    "    return prior * likelihood"
   ]
  },
  {
   "cell_type": "markdown",
   "metadata": {
    "heading_collapsed": true,
    "hidden": true
   },
   "source": [
    "#### Final result"
   ]
  },
  {
   "cell_type": "code",
   "execution_count": null,
   "metadata": {
    "ExecuteTime": {
     "end_time": "2020-04-21T22:45:36.983768Z",
     "start_time": "2020-04-21T22:45:36.980971Z"
    },
    "hidden": true
   },
   "outputs": [],
   "source": [
    "prob_youre_sick = find_posterior(prior, likelihood)\n",
    "\n",
    "print(f'You have a {prob_youre_sick*100:.2f}% chance of actually being sick')"
   ]
  },
  {
   "cell_type": "markdown",
   "metadata": {
    "heading_collapsed": true,
    "hidden": true
   },
   "source": [
    "#### Q: Interpretation? Does this make sense?"
   ]
  },
  {
   "cell_type": "markdown",
   "metadata": {
    "hidden": true
   },
   "source": [
    "<pre>\n",
    "\n",
    "\n",
    "\n",
    "\n",
    "\n",
    "\n",
    "\n",
    "\n",
    "\n",
    "\n",
    "\n",
    "\n",
    "\n",
    "\n",
    "\n",
    "\n",
    "\n",
    "\n",
    "\n",
    "\n",
    "\n",
    "\n",
    "\n",
    "\n",
    "\n",
    "\n",
    "\n",
    "\n",
    "\n",
    "\n",
    "\n",
    "\n",
    "\n",
    "\n",
    "\n",
    "\n",
    "\n",
    "\n",
    "\n",
    "\n",
    "</pre>"
   ]
  },
  {
   "cell_type": "markdown",
   "metadata": {
    "heading_collapsed": true,
    "hidden": true
   },
   "source": [
    "## Knowledge Check! 🧠 "
   ]
  },
  {
   "cell_type": "markdown",
   "metadata": {
    "hidden": true
   },
   "source": [
    "> Pretend we test positive for a disease twice (independent tests!)"
   ]
  },
  {
   "cell_type": "markdown",
   "metadata": {
    "heading_collapsed": true,
    "hidden": true
   },
   "source": [
    "### Back to the code!"
   ]
  },
  {
   "cell_type": "code",
   "execution_count": null,
   "metadata": {
    "ExecuteTime": {
     "end_time": "2020-04-21T22:59:41.938079Z",
     "start_time": "2020-04-21T22:59:41.935118Z"
    },
    "hidden": true
   },
   "outputs": [],
   "source": [
    "# knowledge from having the disease\n",
    "prior = prob_youre_sick\n",
    "\n",
    "# Why doesn't likelihood not change?\n",
    "# Answer: same situation! only our KNOWLEDGE has changed 🧠"
   ]
  },
  {
   "cell_type": "code",
   "execution_count": null,
   "metadata": {
    "ExecuteTime": {
     "end_time": "2020-04-21T22:59:46.865704Z",
     "start_time": "2020-04-21T22:59:46.863097Z"
    },
    "hidden": true
   },
   "outputs": [],
   "source": [
    "prob_sick_after_2_tests = find_posterior(prior, likelihood)\n",
    "print(f'''\n",
    "    You have a {prob_sick_after_2_tests*100:.2f}% chance of actually being \n",
    "    sick after two positive tests\n",
    "''')"
   ]
  }
 ],
 "metadata": {
  "kernelspec": {
   "display_name": "Python 3",
   "language": "python",
   "name": "python3"
  },
  "language_info": {
   "codemirror_mode": {
    "name": "ipython",
    "version": 3
   },
   "file_extension": ".py",
   "mimetype": "text/x-python",
   "name": "python",
   "nbconvert_exporter": "python",
   "pygments_lexer": "ipython3",
   "version": "3.6.6"
  },
  "toc": {
   "base_numbering": 1,
   "nav_menu": {},
   "number_sections": true,
   "sideBar": false,
   "skip_h1_title": false,
   "title_cell": "Table of Contents",
   "title_sidebar": "Contents",
   "toc_cell": true,
   "toc_position": {
    "height": "calc(100% - 180px)",
    "left": "10px",
    "top": "150px",
    "width": "177.391px"
   },
   "toc_section_display": false,
   "toc_window_display": false
  },
  "varInspector": {
   "cols": {
    "lenName": 16,
    "lenType": 16,
    "lenVar": 40
   },
   "kernels_config": {
    "python": {
     "delete_cmd_postfix": "",
     "delete_cmd_prefix": "del ",
     "library": "var_list.py",
     "varRefreshCmd": "print(var_dic_list())"
    },
    "r": {
     "delete_cmd_postfix": ") ",
     "delete_cmd_prefix": "rm(",
     "library": "var_list.r",
     "varRefreshCmd": "cat(var_dic_list()) "
    }
   },
   "types_to_exclude": [
    "module",
    "function",
    "builtin_function_or_method",
    "instance",
    "_Feature"
   ],
   "window_display": false
  }
 },
 "nbformat": 4,
 "nbformat_minor": 2
}

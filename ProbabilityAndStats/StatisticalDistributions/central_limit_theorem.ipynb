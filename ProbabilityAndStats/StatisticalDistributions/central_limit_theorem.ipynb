{
 "cells": [
  {
   "cell_type": "markdown",
   "metadata": {
    "toc": true
   },
   "source": [
    "<h1>Table of Contents<span class=\"tocSkip\"></span></h1>\n",
    "<div class=\"toc\"><ul class=\"toc-item\"><li><span><a href=\"#Remember-Sampling?\" data-toc-modified-id=\"Remember-Sampling?-1\"><span class=\"toc-item-num\">1&nbsp;&nbsp;</span>Remember Sampling?</a></span><ul class=\"toc-item\"><li><span><a href=\"#🧠-Knowledge-Check:-How-could-we-see-the-chances-of-this?\" data-toc-modified-id=\"🧠-Knowledge-Check:-How-could-we-see-the-chances-of-this?-1.1\"><span class=\"toc-item-num\">1.1&nbsp;&nbsp;</span>🧠 Knowledge Check: How could we see the chances of this?</a></span><ul class=\"toc-item\"><li><span><a href=\"#And-what-is-the-mean-of-these-sample-means?-Was-it-close-to-the-true-population-mean?\" data-toc-modified-id=\"And-what-is-the-mean-of-these-sample-means?-Was-it-close-to-the-true-population-mean?-1.1.1\"><span class=\"toc-item-num\">1.1.1&nbsp;&nbsp;</span>And what is the mean of these sample means? Was it close to the true population mean?</a></span></li></ul></li></ul></li><li><span><a href=\"#Central-Limit-Theorem\" data-toc-modified-id=\"Central-Limit-Theorem-2\"><span class=\"toc-item-num\">2&nbsp;&nbsp;</span>Central Limit Theorem</a></span></li></ul></div>"
   ]
  },
  {
   "cell_type": "markdown",
   "metadata": {
    "heading_collapsed": true
   },
   "source": [
    "# Remember Sampling?"
   ]
  },
  {
   "cell_type": "markdown",
   "metadata": {
    "hidden": true
   },
   "source": [
    "Let's go back to our discussion on [sampling](sampling.ipynb).\n",
    "\n",
    "We looked at the ages of passengers and took a sample"
   ]
  },
  {
   "cell_type": "code",
   "execution_count": null,
   "metadata": {
    "ExecuteTime": {
     "end_time": "2020-03-24T19:06:45.463586Z",
     "start_time": "2020-03-24T19:06:45.109766Z"
    },
    "hidden": true
   },
   "outputs": [],
   "source": [
    "import pandas as pd\n",
    "import numpy as np\n",
    "import matplotlib.pyplot as plt\n",
    "%matplotlib inline\n",
    "\n",
    "df = pd.read_csv('data/titanic.csv')\n",
    "all_ages = df['Age'].dropna()\n",
    "age_mean = all_ages.mean()\n",
    "\n",
    "print(f'There are {all_ages.size} people, average age is {age_mean :.1f}')"
   ]
  },
  {
   "cell_type": "code",
   "execution_count": null,
   "metadata": {
    "ExecuteTime": {
     "end_time": "2020-03-24T19:06:45.596757Z",
     "start_time": "2020-03-24T19:06:45.465146Z"
    },
    "hidden": true
   },
   "outputs": [],
   "source": [
    "all_ages.hist();"
   ]
  },
  {
   "cell_type": "markdown",
   "metadata": {
    "hidden": true
   },
   "source": [
    "We took a random sample and saw how far that sample mean was from the population mean"
   ]
  },
  {
   "cell_type": "code",
   "execution_count": null,
   "metadata": {
    "ExecuteTime": {
     "end_time": "2020-03-24T19:06:45.602297Z",
     "start_time": "2020-03-24T19:06:45.597953Z"
    },
    "hidden": true
   },
   "outputs": [],
   "source": [
    "# Take a random sample\n",
    "number_of_ppl_in_sample = 100\n",
    "sample = all_ages.sample(n=number_of_ppl_in_sample, random_state=27) #Take a sample of n people\n",
    "mean_s = sample.mean()\n",
    "\n",
    "calc_percent_error = lambda pop_mean, sample_mean: np.abs(sample_mean - pop_mean) / pop_mean\n",
    "    \n",
    "percent_err = calc_percent_error(age_mean, mean_s)\n",
    "\n",
    "print(f'The sample mean was {mean_s:.1f} with a percent error of {percent_err*100:.2f}%')"
   ]
  },
  {
   "cell_type": "markdown",
   "metadata": {
    "hidden": true
   },
   "source": [
    "But what are the chances we randomly sample the extreme values? That could cause issues..."
   ]
  },
  {
   "cell_type": "markdown",
   "metadata": {
    "heading_collapsed": true,
    "hidden": true
   },
   "source": [
    "## 🧠 Knowledge Check: How could we see the chances of this?"
   ]
  },
  {
   "cell_type": "markdown",
   "metadata": {
    "hidden": true
   },
   "source": [
    "One way, is literally repeat the experiment! \n",
    "\n",
    "Sample a bunch of times from the experiment and see how many times we get extreme values!"
   ]
  },
  {
   "cell_type": "code",
   "execution_count": null,
   "metadata": {
    "ExecuteTime": {
     "end_time": "2020-03-24T19:06:46.202273Z",
     "start_time": "2020-03-24T19:06:45.604709Z"
    },
    "hidden": true
   },
   "outputs": [],
   "source": [
    "# Repeatedly take samples and plot out sample means\n",
    "sample_means = []\n",
    "for i in range(10**3):\n",
    "    sample = all_ages.sample(n=number_of_ppl_in_sample) \n",
    "    sample_means.append(sample.mean()) # Calculate the sample mean\n",
    "\n",
    "\n",
    "plt.hist(sample_means, bins=250);"
   ]
  },
  {
   "cell_type": "markdown",
   "metadata": {
    "hidden": true
   },
   "source": [
    "Huh, that shape looks familiar..."
   ]
  },
  {
   "cell_type": "markdown",
   "metadata": {
    "heading_collapsed": true,
    "hidden": true
   },
   "source": [
    "### And what is the mean of these sample means? Was it close to the true population mean?"
   ]
  },
  {
   "cell_type": "code",
   "execution_count": null,
   "metadata": {
    "ExecuteTime": {
     "end_time": "2020-03-24T19:13:00.936085Z",
     "start_time": "2020-03-24T19:13:00.933157Z"
    },
    "hidden": true
   },
   "outputs": [],
   "source": [
    "mean_of_means = np.mean(sample_means)\n",
    "\n",
    "print(f'The mean of sample means was {mean_of_means:.3f} vs the actual population mean {age_mean:.3f}')\n",
    "print(f'Percent error: {100*calc_percent_error(age_mean, mean_of_means):.2f}%')"
   ]
  },
  {
   "cell_type": "markdown",
   "metadata": {
    "hidden": true
   },
   "source": [
    "![](images/neat.gif)"
   ]
  },
  {
   "cell_type": "markdown",
   "metadata": {
    "hidden": true
   },
   "source": [
    "Soo pretty good estimate!"
   ]
  },
  {
   "cell_type": "markdown",
   "metadata": {
    "heading_collapsed": true
   },
   "source": [
    "# Central Limit Theorem"
   ]
  },
  {
   "cell_type": "markdown",
   "metadata": {
    "hidden": true
   },
   "source": [
    "The Central Limit Theorem (CLT) basically says that the mean of sample means will approach a normal curve. But not only that, but (nearly) every population distribution will produce this bell curve from the sample means!\n",
    "\n",
    "And since we know the math of normal curves pretty dang well, we can use our math skills to learn something about the population from the sample! So that means we can estimate the population mean $\\mu$ and standard deviation $\\sigma$ (note that the **standard error** is actually smaller than the standard deviation of the population). And because all normal curves can be expressed with just $\\mu$ and $\\sigma$, we have a pretty good distribution shape! We can actually use this to figure out confidence intervals too!!\n",
    "\n",
    "> **tl;dr** We like 'em Gaussians! Thanks CLT!!"
   ]
  },
  {
   "cell_type": "markdown",
   "metadata": {
    "hidden": true
   },
   "source": [
    "![](images/central-limit-theorem.png)"
   ]
  },
  {
   "cell_type": "markdown",
   "metadata": {
    "hidden": true
   },
   "source": [
    "Essentially tells us that as we take more samples from the population, we would approach the true population mean."
   ]
  },
  {
   "cell_type": "markdown",
   "metadata": {
    "hidden": true
   },
   "source": [
    "We can compare our one sample and compare it to our predicted population mean (from the distribution of sample means usually)."
   ]
  },
  {
   "cell_type": "markdown",
   "metadata": {
    "hidden": true
   },
   "source": [
    "If our sample mean is very different, we are either very lucky/unlucky or there is something fundamentally different about our sample!\n",
    "\n",
    "![](images/something-is-different.png)"
   ]
  }
 ],
 "metadata": {
  "kernelspec": {
   "display_name": "Python 3",
   "language": "python",
   "name": "python3"
  },
  "language_info": {
   "codemirror_mode": {
    "name": "ipython",
    "version": 3
   },
   "file_extension": ".py",
   "mimetype": "text/x-python",
   "name": "python",
   "nbconvert_exporter": "python",
   "pygments_lexer": "ipython3",
   "version": "3.7.1"
  },
  "toc": {
   "base_numbering": 1,
   "nav_menu": {},
   "number_sections": true,
   "sideBar": false,
   "skip_h1_title": false,
   "title_cell": "Table of Contents",
   "title_sidebar": "Contents",
   "toc_cell": true,
   "toc_position": {},
   "toc_section_display": true,
   "toc_window_display": false
  },
  "varInspector": {
   "cols": {
    "lenName": 16,
    "lenType": 16,
    "lenVar": 40
   },
   "kernels_config": {
    "python": {
     "delete_cmd_postfix": "",
     "delete_cmd_prefix": "del ",
     "library": "var_list.py",
     "varRefreshCmd": "print(var_dic_list())"
    },
    "r": {
     "delete_cmd_postfix": ") ",
     "delete_cmd_prefix": "rm(",
     "library": "var_list.r",
     "varRefreshCmd": "cat(var_dic_list()) "
    }
   },
   "types_to_exclude": [
    "module",
    "function",
    "builtin_function_or_method",
    "instance",
    "_Feature"
   ],
   "window_display": false
  }
 },
 "nbformat": 4,
 "nbformat_minor": 2
}

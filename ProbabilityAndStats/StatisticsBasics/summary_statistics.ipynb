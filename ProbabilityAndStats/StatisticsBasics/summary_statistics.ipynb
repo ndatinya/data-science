{
 "cells": [
  {
   "cell_type": "markdown",
   "metadata": {
    "toc": true
   },
   "source": [
    "<h1>Table of Contents<span class=\"tocSkip\"></span></h1>\n",
    "<div class=\"toc\"><ul class=\"toc-item\"><li><span><a href=\"#Central-Tendency\" data-toc-modified-id=\"Central-Tendency-1\"><span class=\"toc-item-num\">1&nbsp;&nbsp;</span>Central Tendency</a></span><ul class=\"toc-item\"><li><span><a href=\"#Mean\" data-toc-modified-id=\"Mean-1.1\"><span class=\"toc-item-num\">1.1&nbsp;&nbsp;</span>Mean</a></span><ul class=\"toc-item\"><li><span><a href=\"#🧠-Knowledge-Check:-Coding-from-scratch\" data-toc-modified-id=\"🧠-Knowledge-Check:-Coding-from-scratch-1.1.1\"><span class=\"toc-item-num\">1.1.1&nbsp;&nbsp;</span>🧠 Knowledge Check: Coding from scratch</a></span></li></ul></li><li><span><a href=\"#Median\" data-toc-modified-id=\"Median-1.2\"><span class=\"toc-item-num\">1.2&nbsp;&nbsp;</span>Median</a></span></li></ul></li><li><span><a href=\"#Dispersion\" data-toc-modified-id=\"Dispersion-2\"><span class=\"toc-item-num\">2&nbsp;&nbsp;</span>Dispersion</a></span><ul class=\"toc-item\"><li><span><a href=\"#Variance-and-Standard-Deviation\" data-toc-modified-id=\"Variance-and-Standard-Deviation-2.1\"><span class=\"toc-item-num\">2.1&nbsp;&nbsp;</span>Variance and Standard Deviation</a></span><ul class=\"toc-item\"><li><span><a href=\"#🧠-Knowledge-Check:-Why-do-we-square-it?\" data-toc-modified-id=\"🧠-Knowledge-Check:-Why-do-we-square-it?-2.1.1\"><span class=\"toc-item-num\">2.1.1&nbsp;&nbsp;</span>🧠 Knowledge Check: Why do we square it?</a></span></li><li><span><a href=\"#Coding-it\" data-toc-modified-id=\"Coding-it-2.1.2\"><span class=\"toc-item-num\">2.1.2&nbsp;&nbsp;</span>Coding it</a></span></li></ul></li><li><span><a href=\"#Visualizing\" data-toc-modified-id=\"Visualizing-2.2\"><span class=\"toc-item-num\">2.2&nbsp;&nbsp;</span>Visualizing</a></span></li></ul></li><li><span><a href=\"#Covariance-&amp;-Correlation\" data-toc-modified-id=\"Covariance-&amp;-Correlation-3\"><span class=\"toc-item-num\">3&nbsp;&nbsp;</span>Covariance &amp; Correlation</a></span><ul class=\"toc-item\"><li><span><a href=\"#Covariance-is-Variance-Between-2-Variables\" data-toc-modified-id=\"Covariance-is-Variance-Between-2-Variables-3.1\"><span class=\"toc-item-num\">3.1&nbsp;&nbsp;</span>Covariance is Variance Between 2 Variables</a></span></li><li><span><a href=\"#Correlation-is-Covariance-Scaled\" data-toc-modified-id=\"Correlation-is-Covariance-Scaled-3.2\"><span class=\"toc-item-num\">3.2&nbsp;&nbsp;</span>Correlation is Covariance Scaled</a></span></li></ul></li></ul></div>"
   ]
  },
  {
   "cell_type": "code",
   "execution_count": null,
   "metadata": {},
   "outputs": [],
   "source": [
    "import matplotlib.pyplot as plt\n",
    "import numpy as np\n",
    "%matplotlib inline"
   ]
  },
  {
   "cell_type": "markdown",
   "metadata": {
    "heading_collapsed": true
   },
   "source": [
    "# Central Tendency"
   ]
  },
  {
   "cell_type": "markdown",
   "metadata": {
    "hidden": true
   },
   "source": [
    "We want to be able to \"summarize\" the data as an overall value (Beware of _[datasaurus set](https://www.autodeskresearch.com/publications/samestats)_)"
   ]
  },
  {
   "cell_type": "code",
   "execution_count": null,
   "metadata": {
    "hidden": true
   },
   "outputs": [],
   "source": [
    "x = [54, 54, 54, 55, 56, 57, 57, 58, 58, 60, 60, 54, 54, 54, 55, 56, 57, 57, \n",
    "     58, 58, 60]\n",
    "plt.hist(x, bins=5)\n",
    "plt.title(\"Retirement Ages\")\n",
    "plt.show()"
   ]
  },
  {
   "cell_type": "markdown",
   "metadata": {
    "heading_collapsed": true,
    "hidden": true
   },
   "source": [
    "## Mean"
   ]
  },
  {
   "cell_type": "code",
   "execution_count": null,
   "metadata": {
    "hidden": true
   },
   "outputs": [],
   "source": [
    "x_mean = np.mean(x)\n",
    "x_mean"
   ]
  },
  {
   "cell_type": "code",
   "execution_count": null,
   "metadata": {
    "hidden": true
   },
   "outputs": [],
   "source": [
    "plt.hist(x, bins=5)\n",
    "plt.axvline(x_mean, color='red')\n",
    "plt.title(\"Retirement Ages\")\n",
    "plt.show()"
   ]
  },
  {
   "cell_type": "markdown",
   "metadata": {
    "heading_collapsed": true,
    "hidden": true
   },
   "source": [
    "### 🧠 Knowledge Check: Coding from scratch"
   ]
  },
  {
   "cell_type": "markdown",
   "metadata": {
    "hidden": true
   },
   "source": [
    "How would you code this from scratch?"
   ]
  },
  {
   "cell_type": "code",
   "execution_count": null,
   "metadata": {
    "hidden": true
   },
   "outputs": [],
   "source": [
    "def mean(x):\n",
    "    pass"
   ]
  },
  {
   "cell_type": "markdown",
   "metadata": {
    "hidden": true
   },
   "source": [
    "<details>\n",
    "    <summary>Example Solution</summary> \n",
    "<code> \n",
    "def mean(x):\n",
    "    return sum(x)/len(x)\n",
    "</code>\n",
    "</details>"
   ]
  },
  {
   "cell_type": "markdown",
   "metadata": {
    "heading_collapsed": true,
    "hidden": true
   },
   "source": [
    "## Median"
   ]
  },
  {
   "cell_type": "code",
   "execution_count": null,
   "metadata": {
    "hidden": true
   },
   "outputs": [],
   "source": [
    "x_median = np.median(x)\n",
    "x_median"
   ]
  },
  {
   "cell_type": "code",
   "execution_count": null,
   "metadata": {
    "hidden": true
   },
   "outputs": [],
   "source": [
    "plt.hist(x, bins=5)\n",
    "plt.axvline(x_mean, color='red')\n",
    "plt.axvline(x_median, color='yellow')\n",
    "plt.title(\"Retirement Ages\")\n",
    "plt.show()"
   ]
  },
  {
   "cell_type": "markdown",
   "metadata": {
    "hidden": true
   },
   "source": [
    "> More robust than the mean"
   ]
  },
  {
   "cell_type": "code",
   "execution_count": null,
   "metadata": {
    "hidden": true
   },
   "outputs": [],
   "source": [
    "# Adding in an outlier\n",
    "outlier = 120\n",
    "x_mean_outlier = np.mean(x+[outlier])\n",
    "print('Means:', x_mean_outlier, x_mean)\n",
    "\n",
    "x_median_outlier = np.median(x+[outlier])\n",
    "print('Median:', x_median_outlier,x_median)"
   ]
  },
  {
   "cell_type": "code",
   "execution_count": null,
   "metadata": {
    "hidden": true
   },
   "outputs": [],
   "source": [
    "plt.hist(x, bins=5)\n",
    "plt.axvline(x_mean_outlier, color='red')\n",
    "plt.axvline(x_mean, color='red', linestyle='--')\n",
    "plt.axvline(x_median_outlier, color='yellow')\n",
    "plt.axvline(x_median, color='yellow', linestyle='--')\n",
    "plt.title(\"Retirement Ages\")\n",
    "plt.show()"
   ]
  },
  {
   "cell_type": "markdown",
   "metadata": {
    "heading_collapsed": true
   },
   "source": [
    "# Dispersion"
   ]
  },
  {
   "cell_type": "markdown",
   "metadata": {
    "hidden": true
   },
   "source": [
    "This can tell you how much the values differ from each other. How would you measure that?"
   ]
  },
  {
   "cell_type": "markdown",
   "metadata": {
    "heading_collapsed": true,
    "hidden": true
   },
   "source": [
    "## Variance and Standard Deviation"
   ]
  },
  {
   "cell_type": "markdown",
   "metadata": {
    "hidden": true
   },
   "source": [
    "Variance (standard deviation squared) will show the spread of the values. Below is our formula:\n",
    "\n",
    "$$ \\sigma^2 = \\frac{1}{N} \\sum{(x-\\bar{x})^2}$$"
   ]
  },
  {
   "cell_type": "markdown",
   "metadata": {
    "heading_collapsed": true,
    "hidden": true
   },
   "source": [
    "### 🧠 Knowledge Check: Why do we square it?"
   ]
  },
  {
   "cell_type": "markdown",
   "metadata": {
    "hidden": true
   },
   "source": [
    "> So the positives and negatives don't cancel. \n",
    "> \n",
    "> This is using the L2-norm (aka least squares) if you're curious. Another option is using absolute value which is called the L1-norm (aka least absolute deviations (LAD) & least absolute errors (LAE))"
   ]
  },
  {
   "cell_type": "markdown",
   "metadata": {
    "heading_collapsed": true,
    "hidden": true
   },
   "source": [
    "### Coding it"
   ]
  },
  {
   "cell_type": "code",
   "execution_count": null,
   "metadata": {
    "hidden": true
   },
   "outputs": [],
   "source": [
    "# An example of how this could be written\n",
    "def variance(number_list):\n",
    "    avg = mean(number_list)\n",
    "    var = sum((x_n - avg)**2 for x_n in x) / len(number_list)\n",
    "    return var\n",
    "    "
   ]
  },
  {
   "cell_type": "code",
   "execution_count": null,
   "metadata": {
    "hidden": true
   },
   "outputs": [],
   "source": [
    "variance(x)"
   ]
  },
  {
   "cell_type": "markdown",
   "metadata": {
    "heading_collapsed": true,
    "hidden": true
   },
   "source": [
    "## Visualizing"
   ]
  },
  {
   "cell_type": "markdown",
   "metadata": {
    "hidden": true
   },
   "source": [
    "* Histograms\n",
    "* Box plots \n",
    "* Violin Plots"
   ]
  },
  {
   "cell_type": "code",
   "execution_count": null,
   "metadata": {
    "hidden": true
   },
   "outputs": [],
   "source": [
    "import seaborn as sb\n",
    "\n",
    "def draw_3_plots(nums):\n",
    "    fig = plt.figure(figsize=(16,16))\n",
    "    fig.subplots_adjust(hspace=0.1, wspace=0.4)\n",
    "\n",
    "    # We'll draw this out all at once\n",
    "    for i in range(1, 4):\n",
    "        ax = fig.add_subplot(2, 3, i)\n",
    "        if i % 3 == 1:\n",
    "            plt.hist(nums)\n",
    "        elif i % 3 == 2:\n",
    "            plt.boxplot(nums)\n",
    "        else:\n",
    "            sb.violinplot(nums)\n"
   ]
  },
  {
   "cell_type": "code",
   "execution_count": null,
   "metadata": {
    "hidden": true
   },
   "outputs": [],
   "source": [
    "draw_3_plots(x)"
   ]
  },
  {
   "cell_type": "code",
   "execution_count": null,
   "metadata": {
    "hidden": true
   },
   "outputs": [],
   "source": [
    "# With an outlier\n",
    "draw_3_plots(x+[110])\n"
   ]
  },
  {
   "cell_type": "markdown",
   "metadata": {
    "heading_collapsed": true
   },
   "source": [
    "# Covariance & Correlation"
   ]
  },
  {
   "cell_type": "markdown",
   "metadata": {
    "hidden": true
   },
   "source": [
    "We'll cover this in more detail when we go over [linear regression](../../DataScienceBasics/LinearRegression/linear_regressions_and_simple_relatiohsips.ipynb)"
   ]
  },
  {
   "cell_type": "markdown",
   "metadata": {
    "heading_collapsed": true,
    "hidden": true
   },
   "source": [
    "## Covariance is Variance Between 2 Variables"
   ]
  },
  {
   "cell_type": "markdown",
   "metadata": {
    "hidden": true
   },
   "source": [
    "$$\\sigma_{XY} = \\dfrac{1}{n}\\displaystyle\\sum_{i=1}^{n}(x_i -\\mu_x)(y_i - \\mu_y)$$"
   ]
  },
  {
   "cell_type": "markdown",
   "metadata": {
    "heading_collapsed": true,
    "hidden": true
   },
   "source": [
    "## Correlation is Covariance Scaled"
   ]
  },
  {
   "cell_type": "markdown",
   "metadata": {
    "hidden": true
   },
   "source": [
    "Multiple ways though a common one is Pearson's $r$ coefficient\n",
    "\n",
    "$$ r = \\frac{\\sum_{i=1}^{n}(x_i -\\mu_x)(y_i - \\mu_y)} {\\sqrt{\\sum_{i=1}^{n}(x_i - \\mu_x)^2 \\sum_{i=1}^{n}(y_i-\\mu_y)^2}}$$"
   ]
  }
 ],
 "metadata": {
  "kernelspec": {
   "display_name": "Python 3",
   "language": "python",
   "name": "python3"
  },
  "language_info": {
   "codemirror_mode": {
    "name": "ipython",
    "version": 3
   },
   "file_extension": ".py",
   "mimetype": "text/x-python",
   "name": "python",
   "nbconvert_exporter": "python",
   "pygments_lexer": "ipython3",
   "version": "3.7.1"
  },
  "toc": {
   "base_numbering": 1,
   "nav_menu": {},
   "number_sections": true,
   "sideBar": true,
   "skip_h1_title": false,
   "title_cell": "Table of Contents",
   "title_sidebar": "Contents",
   "toc_cell": true,
   "toc_position": {},
   "toc_section_display": true,
   "toc_window_display": true
  },
  "varInspector": {
   "cols": {
    "lenName": 16,
    "lenType": 16,
    "lenVar": 40
   },
   "kernels_config": {
    "python": {
     "delete_cmd_postfix": "",
     "delete_cmd_prefix": "del ",
     "library": "var_list.py",
     "varRefreshCmd": "print(var_dic_list())"
    },
    "r": {
     "delete_cmd_postfix": ") ",
     "delete_cmd_prefix": "rm(",
     "library": "var_list.r",
     "varRefreshCmd": "cat(var_dic_list()) "
    }
   },
   "types_to_exclude": [
    "module",
    "function",
    "builtin_function_or_method",
    "instance",
    "_Feature"
   ],
   "window_display": false
  }
 },
 "nbformat": 4,
 "nbformat_minor": 2
}

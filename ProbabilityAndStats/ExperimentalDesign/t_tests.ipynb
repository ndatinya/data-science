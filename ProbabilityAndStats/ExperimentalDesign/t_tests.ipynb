{
 "cells": [
  {
   "cell_type": "markdown",
   "metadata": {
    "toc": true
   },
   "source": [
    "<h1>Table of Contents<span class=\"tocSkip\"></span></h1>\n",
    "<div class=\"toc\"><ul class=\"toc-item\"><li><span><a href=\"#t-Test\" data-toc-modified-id=\"t-Test-1\"><span class=\"toc-item-num\">1&nbsp;&nbsp;</span>t-Test</a></span><ul class=\"toc-item\"><li><span><a href=\"#Assumptions\" data-toc-modified-id=\"Assumptions-1.1\"><span class=\"toc-item-num\">1.1&nbsp;&nbsp;</span>Assumptions</a></span></li><li><span><a href=\"#Steps\" data-toc-modified-id=\"Steps-1.2\"><span class=\"toc-item-num\">1.2&nbsp;&nbsp;</span>Steps</a></span><ul class=\"toc-item\"><li><span><a href=\"#1.-Get-your-question-(what-are-you-testing-for?)\" data-toc-modified-id=\"1.-Get-your-question-(what-are-you-testing-for?)-1.2.1\"><span class=\"toc-item-num\">1.2.1&nbsp;&nbsp;</span>1. Get your question (what are you testing for?)</a></span></li><li><span><a href=\"#2.-Determine-your-$\\alpha$-(significant-value)\" data-toc-modified-id=\"2.-Determine-your-$\\alpha$-(significant-value)-1.2.2\"><span class=\"toc-item-num\">1.2.2&nbsp;&nbsp;</span>2. Determine your $\\alpha$ (significant value)</a></span></li><li><span><a href=\"#3.-Get-your-t-statistic\" data-toc-modified-id=\"3.-Get-your-t-statistic-1.2.3\"><span class=\"toc-item-num\">1.2.3&nbsp;&nbsp;</span>3. Get your t-statistic</a></span></li><li><span><a href=\"#4.-Find-your-critical-t-value\" data-toc-modified-id=\"4.-Find-your-critical-t-value-1.2.4\"><span class=\"toc-item-num\">1.2.4&nbsp;&nbsp;</span>4. Find your critical t-value</a></span></li><li><span><a href=\"#5.-Compare-critical-&amp;-statistic\" data-toc-modified-id=\"5.-Compare-critical-&amp;-statistic-1.2.5\"><span class=\"toc-item-num\">1.2.5&nbsp;&nbsp;</span>5. Compare critical &amp; statistic</a></span></li></ul></li><li><span><a href=\"#One-Sample\" data-toc-modified-id=\"One-Sample-1.3\"><span class=\"toc-item-num\">1.3&nbsp;&nbsp;</span>One Sample</a></span></li><li><span><a href=\"#Two-Sample\" data-toc-modified-id=\"Two-Sample-1.4\"><span class=\"toc-item-num\">1.4&nbsp;&nbsp;</span>Two Sample</a></span></li></ul></li></ul></div>"
   ]
  },
  {
   "cell_type": "markdown",
   "metadata": {
    "heading_collapsed": true
   },
   "source": [
    "# t-Test"
   ]
  },
  {
   "cell_type": "markdown",
   "metadata": {
    "hidden": true
   },
   "source": [
    "t-statistic gives us a summary of the data (and its approximate distribution)\n",
    "\n",
    "We use the t-distribution to decide if we want to reject $H_0$"
   ]
  },
  {
   "cell_type": "markdown",
   "metadata": {
    "hidden": true
   },
   "source": [
    "We can use the t-test to compare to sample means (when we don't know the population std dev) & \"large\" ($N \\ge 30$)\n",
    "\n",
    "**ALWAYS** pick your $\\alpha$ before performing tests!!!"
   ]
  },
  {
   "cell_type": "markdown",
   "metadata": {
    "heading_collapsed": true,
    "hidden": true
   },
   "source": [
    "## Assumptions"
   ]
  },
  {
   "cell_type": "markdown",
   "metadata": {
    "hidden": true
   },
   "source": [
    "- Independence\n",
    "- Randomly sampled\n",
    "- Population data is likely normally distributed"
   ]
  },
  {
   "cell_type": "markdown",
   "metadata": {
    "heading_collapsed": true,
    "hidden": true
   },
   "source": [
    "## Steps"
   ]
  },
  {
   "cell_type": "markdown",
   "metadata": {
    "heading_collapsed": true,
    "hidden": true
   },
   "source": [
    "### 1. Get your question (what are you testing for?)"
   ]
  },
  {
   "cell_type": "markdown",
   "metadata": {
    "hidden": true
   },
   "source": [
    "This will determine your $H_0$ & $H_a$ (Write them down!)"
   ]
  },
  {
   "cell_type": "markdown",
   "metadata": {
    "heading_collapsed": true,
    "hidden": true
   },
   "source": [
    "### 2. Determine your $\\alpha$ (significant value)"
   ]
  },
  {
   "cell_type": "markdown",
   "metadata": {
    "hidden": true
   },
   "source": [
    "Usually $\\alpha$ is $0.05$"
   ]
  },
  {
   "cell_type": "markdown",
   "metadata": {
    "heading_collapsed": true,
    "hidden": true
   },
   "source": [
    "### 3. Get your t-statistic"
   ]
  },
  {
   "cell_type": "markdown",
   "metadata": {
    "hidden": true
   },
   "source": [
    "How many deviations from the mean\n",
    "\n",
    "$$t = \\frac{\\bar{x}-\\mu}{\\frac{s}{\\sqrt{n}}}$$"
   ]
  },
  {
   "cell_type": "markdown",
   "metadata": {
    "heading_collapsed": true,
    "hidden": true
   },
   "source": [
    "### 4. Find your critical t-value"
   ]
  },
  {
   "cell_type": "markdown",
   "metadata": {
    "hidden": true
   },
   "source": [
    "![](images/tdist.png)\n",
    "\n",
    "\n",
    "![](images/t_table.png)"
   ]
  },
  {
   "cell_type": "markdown",
   "metadata": {
    "heading_collapsed": true,
    "hidden": true
   },
   "source": [
    "### 5. Compare critical & statistic"
   ]
  },
  {
   "cell_type": "markdown",
   "metadata": {
    "hidden": true
   },
   "source": [
    "![](images/t_test_testing.png)"
   ]
  },
  {
   "cell_type": "markdown",
   "metadata": {
    "heading_collapsed": true,
    "hidden": true
   },
   "source": [
    "## One Sample"
   ]
  },
  {
   "cell_type": "markdown",
   "metadata": {
    "hidden": true
   },
   "source": [
    "**EXAMPLE SCENARIO:**\n",
    "\n",
    "Do snickers bars actually weigh more than the 120 grams it says on the package?"
   ]
  },
  {
   "cell_type": "markdown",
   "metadata": {
    "heading_collapsed": true,
    "hidden": true
   },
   "source": [
    "## Two Sample"
   ]
  },
  {
   "cell_type": "markdown",
   "metadata": {
    "hidden": true
   },
   "source": [
    "**EXAMPLE SCENARIO:**\n",
    "\n",
    "Do the control group & treatment group of a drug trial differ (did the drug have any effect)?"
   ]
  }
 ],
 "metadata": {
  "kernelspec": {
   "display_name": "Python 3",
   "language": "python",
   "name": "python3"
  },
  "language_info": {
   "codemirror_mode": {
    "name": "ipython",
    "version": 3
   },
   "file_extension": ".py",
   "mimetype": "text/x-python",
   "name": "python",
   "nbconvert_exporter": "python",
   "pygments_lexer": "ipython3",
   "version": "3.6.6"
  },
  "toc": {
   "base_numbering": 1,
   "nav_menu": {},
   "number_sections": true,
   "sideBar": true,
   "skip_h1_title": false,
   "title_cell": "Table of Contents",
   "title_sidebar": "Contents",
   "toc_cell": true,
   "toc_position": {
    "height": "calc(100% - 180px)",
    "left": "10px",
    "top": "150px",
    "width": "198px"
   },
   "toc_section_display": true,
   "toc_window_display": true
  },
  "varInspector": {
   "cols": {
    "lenName": 16,
    "lenType": 16,
    "lenVar": 40
   },
   "kernels_config": {
    "python": {
     "delete_cmd_postfix": "",
     "delete_cmd_prefix": "del ",
     "library": "var_list.py",
     "varRefreshCmd": "print(var_dic_list())"
    },
    "r": {
     "delete_cmd_postfix": ") ",
     "delete_cmd_prefix": "rm(",
     "library": "var_list.r",
     "varRefreshCmd": "cat(var_dic_list()) "
    }
   },
   "types_to_exclude": [
    "module",
    "function",
    "builtin_function_or_method",
    "instance",
    "_Feature"
   ],
   "window_display": false
  }
 },
 "nbformat": 4,
 "nbformat_minor": 2
}

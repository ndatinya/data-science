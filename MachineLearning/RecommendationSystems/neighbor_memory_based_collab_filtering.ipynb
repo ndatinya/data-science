{
 "cells": [
  {
   "cell_type": "markdown",
   "metadata": {
    "toc": true
   },
   "source": [
    "<h1>Table of Contents<span class=\"tocSkip\"></span></h1>\n",
    "<div class=\"toc\"><ul class=\"toc-item\"><li><span><a href=\"#Neighbor-Based-(Memory-Based)-Collaborative-Filtering\" data-toc-modified-id=\"Neighbor-Based-(Memory-Based)-Collaborative-Filtering-1\"><span class=\"toc-item-num\">1&nbsp;&nbsp;</span>Neighbor-Based (Memory-Based) Collaborative Filtering</a></span><ul class=\"toc-item\"><li><span><a href=\"#The-intuition\" data-toc-modified-id=\"The-intuition-1.1\"><span class=\"toc-item-num\">1.1&nbsp;&nbsp;</span>The intuition</a></span></li><li><span><a href=\"#Similarity-Metrics\" data-toc-modified-id=\"Similarity-Metrics-1.2\"><span class=\"toc-item-num\">1.2&nbsp;&nbsp;</span>Similarity Metrics</a></span></li><li><span><a href=\"#Distance-Metrics\" data-toc-modified-id=\"Distance-Metrics-1.3\"><span class=\"toc-item-num\">1.3&nbsp;&nbsp;</span>Distance Metrics</a></span><ul class=\"toc-item\"><li><span><a href=\"#Aside\" data-toc-modified-id=\"Aside-1.3.1\"><span class=\"toc-item-num\">1.3.1&nbsp;&nbsp;</span>Aside</a></span></li></ul></li></ul></li></ul></div>"
   ]
  },
  {
   "cell_type": "markdown",
   "metadata": {
    "heading_collapsed": true
   },
   "source": [
    "# Neighbor-Based (Memory-Based) Collaborative Filtering"
   ]
  },
  {
   "cell_type": "markdown",
   "metadata": {
    "heading_collapsed": true,
    "hidden": true
   },
   "source": [
    "## The intuition"
   ]
  },
  {
   "cell_type": "markdown",
   "metadata": {
    "hidden": true
   },
   "source": [
    "Using something like k-nearest neighbors to see how similar (close) something is"
   ]
  },
  {
   "cell_type": "markdown",
   "metadata": {
    "hidden": true
   },
   "source": [
    "![](images/item_vs_user_cf.png)"
   ]
  },
  {
   "cell_type": "markdown",
   "metadata": {
    "hidden": true
   },
   "source": [
    "> **NOTE**: We can base this closeness/similarity with ratings but it matters how we rate things!!! https://conversionxl.com/blog/survey-response-scales/"
   ]
  },
  {
   "cell_type": "markdown",
   "metadata": {
    "heading_collapsed": true,
    "hidden": true
   },
   "source": [
    "## Similarity Metrics"
   ]
  },
  {
   "cell_type": "markdown",
   "metadata": {
    "hidden": true
   },
   "source": [
    "- [Pearson Correlation](https://en.wikipedia.org/wiki/Pearson_correlation_coefficient) $r$\n",
    "- [Kendall's Rank Correlation](https://en.wikipedia.org/wiki/Kendall_rank_correlation_coefficient) $\\tau$"
   ]
  },
  {
   "cell_type": "markdown",
   "metadata": {
    "heading_collapsed": true,
    "hidden": true
   },
   "source": [
    "## Distance Metrics"
   ]
  },
  {
   "cell_type": "markdown",
   "metadata": {
    "hidden": true
   },
   "source": [
    "- Manhattan Distance\n",
    "- Euclidean Distance\n",
    "- [Cosine Similarity](https://en.wikipedia.org/wiki/Cosine_similarity)\n",
    "    + Similarity between vectors\n",
    "    + [-1,1]\n",
    "- [Jaccard Similarity](https://en.wikipedia.org/wiki/Jaccard_index)\n",
    "    + Whether or not there are ratings"
   ]
  },
  {
   "cell_type": "markdown",
   "metadata": {
    "heading_collapsed": true,
    "hidden": true
   },
   "source": [
    "### Aside"
   ]
  },
  {
   "cell_type": "markdown",
   "metadata": {
    "hidden": true
   },
   "source": [
    "> Cool article that compares all 4 above! \n",
    ">\n",
    "> https://dataaspirant.com/2015/04/11/five-most-popular-similarity-measures-implementation-in-python/"
   ]
  }
 ],
 "metadata": {
  "kernelspec": {
   "display_name": "Python 3",
   "language": "python",
   "name": "python3"
  },
  "language_info": {
   "codemirror_mode": {
    "name": "ipython",
    "version": 3
   },
   "file_extension": ".py",
   "mimetype": "text/x-python",
   "name": "python",
   "nbconvert_exporter": "python",
   "pygments_lexer": "ipython3",
   "version": "3.6.6"
  },
  "toc": {
   "base_numbering": 1,
   "nav_menu": {},
   "number_sections": true,
   "sideBar": true,
   "skip_h1_title": false,
   "title_cell": "Table of Contents",
   "title_sidebar": "Contents",
   "toc_cell": true,
   "toc_position": {},
   "toc_section_display": true,
   "toc_window_display": true
  },
  "varInspector": {
   "cols": {
    "lenName": 16,
    "lenType": 16,
    "lenVar": 40
   },
   "kernels_config": {
    "python": {
     "delete_cmd_postfix": "",
     "delete_cmd_prefix": "del ",
     "library": "var_list.py",
     "varRefreshCmd": "print(var_dic_list())"
    },
    "r": {
     "delete_cmd_postfix": ") ",
     "delete_cmd_prefix": "rm(",
     "library": "var_list.r",
     "varRefreshCmd": "cat(var_dic_list()) "
    }
   },
   "types_to_exclude": [
    "module",
    "function",
    "builtin_function_or_method",
    "instance",
    "_Feature"
   ],
   "window_display": false
  }
 },
 "nbformat": 4,
 "nbformat_minor": 2
}

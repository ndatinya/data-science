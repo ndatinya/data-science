{
 "cells": [
  {
   "cell_type": "markdown",
   "metadata": {
    "toc": true
   },
   "source": [
    "<h1>Table of Contents<span class=\"tocSkip\"></span></h1>\n",
    "<div class=\"toc\"><ul class=\"toc-item\"><li><span><a href=\"#🧠-Knowledge-Check:-What-kind-of-problems-can-you-think-of-where-finding-a-path-matters?\" data-toc-modified-id=\"🧠-Knowledge-Check:-What-kind-of-problems-can-you-think-of-where-finding-a-path-matters?-1\"><span class=\"toc-item-num\">1&nbsp;&nbsp;</span>🧠 Knowledge Check: What kind of problems can you think of where finding a path matters?</a></span><ul class=\"toc-item\"><li><span><a href=\"#Hint\" data-toc-modified-id=\"Hint-1.1\"><span class=\"toc-item-num\">1.1&nbsp;&nbsp;</span>Hint</a></span></li><li><span><a href=\"#Possible-Answers\" data-toc-modified-id=\"Possible-Answers-1.2\"><span class=\"toc-item-num\">1.2&nbsp;&nbsp;</span>Possible Answers</a></span></li></ul></li><li><span><a href=\"#Finding-Short-Paths\" data-toc-modified-id=\"Finding-Short-Paths-2\"><span class=\"toc-item-num\">2&nbsp;&nbsp;</span>Finding Short Paths</a></span><ul class=\"toc-item\"><li><span><a href=\"#Algorithms\" data-toc-modified-id=\"Algorithms-2.1\"><span class=\"toc-item-num\">2.1&nbsp;&nbsp;</span>Algorithms</a></span><ul class=\"toc-item\"><li><span><a href=\"#Dijkstra's-Algorithm\" data-toc-modified-id=\"Dijkstra's-Algorithm-2.1.1\"><span class=\"toc-item-num\">2.1.1&nbsp;&nbsp;</span>Dijkstra's Algorithm</a></span></li><li><span><a href=\"#A*-Search-Algorith\" data-toc-modified-id=\"A*-Search-Algorith-2.1.2\"><span class=\"toc-item-num\">2.1.2&nbsp;&nbsp;</span>A* Search Algorith</a></span></li></ul></li></ul></li></ul></div>"
   ]
  },
  {
   "cell_type": "markdown",
   "metadata": {},
   "source": [
    "Once the graph is created, we can discuss \"moving\" throughout the graph via paths"
   ]
  },
  {
   "cell_type": "markdown",
   "metadata": {
    "heading_collapsed": true
   },
   "source": [
    "# 🧠 Knowledge Check: What kind of problems can you think of where finding a path matters?"
   ]
  },
  {
   "cell_type": "markdown",
   "metadata": {
    "heading_collapsed": true,
    "hidden": true
   },
   "source": [
    "## Hint "
   ]
  },
  {
   "cell_type": "markdown",
   "metadata": {
    "hidden": true
   },
   "source": [
    "Remember that graphs represent relationships"
   ]
  },
  {
   "cell_type": "markdown",
   "metadata": {
    "heading_collapsed": true,
    "hidden": true
   },
   "source": [
    "## Possible Answers"
   ]
  },
  {
   "cell_type": "markdown",
   "metadata": {
    "hidden": true
   },
   "source": [
    "> Shortest path\n",
    ">\n",
    "> Visiting certain nodes\n",
    ">\n",
    "> Can you visit all nodes?"
   ]
  },
  {
   "cell_type": "markdown",
   "metadata": {
    "heading_collapsed": true
   },
   "source": [
    "# Finding Short Paths\n"
   ]
  },
  {
   "cell_type": "markdown",
   "metadata": {
    "hidden": true
   },
   "source": [
    "Examples of when finding short paths matter:\n",
    "\n",
    "+ Scraping\n",
    "+ Searching Files\n",
    "+ Internet Traffic\n"
   ]
  },
  {
   "cell_type": "markdown",
   "metadata": {
    "heading_collapsed": true,
    "hidden": true
   },
   "source": [
    "## Algorithms"
   ]
  },
  {
   "cell_type": "markdown",
   "metadata": {
    "heading_collapsed": true,
    "hidden": true
   },
   "source": [
    "### Dijkstra's Algorithm"
   ]
  },
  {
   "cell_type": "markdown",
   "metadata": {
    "hidden": true
   },
   "source": [
    "![](images/dijkstra_animation.gif)"
   ]
  },
  {
   "cell_type": "markdown",
   "metadata": {
    "hidden": true
   },
   "source": [
    "https://en.wikipedia.org/wiki/Dijkstra%27s_algorithm"
   ]
  },
  {
   "cell_type": "markdown",
   "metadata": {
    "hidden": true
   },
   "source": [
    "Video: https://www.youtube.com/watch?v=GazC3A4OQTE"
   ]
  },
  {
   "cell_type": "markdown",
   "metadata": {
    "heading_collapsed": true,
    "hidden": true
   },
   "source": [
    "### A* Search Algorith"
   ]
  },
  {
   "cell_type": "markdown",
   "metadata": {
    "hidden": true
   },
   "source": [
    "https://en.wikipedia.org/wiki/A*_search_algorithm"
   ]
  },
  {
   "cell_type": "markdown",
   "metadata": {
    "hidden": true
   },
   "source": [
    "Video: https://www.youtube.com/embed/ySN5Wnu88nE"
   ]
  }
 ],
 "metadata": {
  "kernelspec": {
   "display_name": "Python 3",
   "language": "python",
   "name": "python3"
  },
  "language_info": {
   "codemirror_mode": {
    "name": "ipython",
    "version": 3
   },
   "file_extension": ".py",
   "mimetype": "text/x-python",
   "name": "python",
   "nbconvert_exporter": "python",
   "pygments_lexer": "ipython3",
   "version": "3.7.1"
  },
  "toc": {
   "base_numbering": 1,
   "nav_menu": {},
   "number_sections": true,
   "sideBar": true,
   "skip_h1_title": false,
   "title_cell": "Table of Contents",
   "title_sidebar": "Contents",
   "toc_cell": true,
   "toc_position": {},
   "toc_section_display": true,
   "toc_window_display": true
  },
  "varInspector": {
   "cols": {
    "lenName": 16,
    "lenType": 16,
    "lenVar": 40
   },
   "kernels_config": {
    "python": {
     "delete_cmd_postfix": "",
     "delete_cmd_prefix": "del ",
     "library": "var_list.py",
     "varRefreshCmd": "print(var_dic_list())"
    },
    "r": {
     "delete_cmd_postfix": ") ",
     "delete_cmd_prefix": "rm(",
     "library": "var_list.r",
     "varRefreshCmd": "cat(var_dic_list()) "
    }
   },
   "types_to_exclude": [
    "module",
    "function",
    "builtin_function_or_method",
    "instance",
    "_Feature"
   ],
   "window_display": false
  }
 },
 "nbformat": 4,
 "nbformat_minor": 2
}

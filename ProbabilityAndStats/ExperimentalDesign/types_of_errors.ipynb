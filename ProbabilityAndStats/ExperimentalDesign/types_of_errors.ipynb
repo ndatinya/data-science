{
 "cells": [
  {
   "cell_type": "markdown",
   "metadata": {
    "toc": true
   },
   "source": [
    "<h1>Table of Contents<span class=\"tocSkip\"></span></h1>\n",
    "<div class=\"toc\"><ul class=\"toc-item\"><li><span><a href=\"#We-All-Make-Mistakes\" data-toc-modified-id=\"We-All-Make-Mistakes-1\"><span class=\"toc-item-num\">1&nbsp;&nbsp;</span>We All Make Mistakes</a></span></li><li><span><a href=\"#When-We-Get-it-Right\" data-toc-modified-id=\"When-We-Get-it-Right-2\"><span class=\"toc-item-num\">2&nbsp;&nbsp;</span>When We Get it Right</a></span><ul class=\"toc-item\"><li><span><a href=\"#True-Positives-&amp;-True-Negatives\" data-toc-modified-id=\"True-Positives-&amp;-True-Negatives-2.1\"><span class=\"toc-item-num\">2.1&nbsp;&nbsp;</span>True Positives &amp; True Negatives</a></span></li></ul></li><li><span><a href=\"#When-We-Get-it-Wrong\" data-toc-modified-id=\"When-We-Get-it-Wrong-3\"><span class=\"toc-item-num\">3&nbsp;&nbsp;</span>When We Get it Wrong</a></span><ul class=\"toc-item\"><li><span><a href=\"#False-Positives---Type-1\" data-toc-modified-id=\"False-Positives---Type-1-3.1\"><span class=\"toc-item-num\">3.1&nbsp;&nbsp;</span>False Positives - Type 1</a></span></li><li><span><a href=\"#False-Negatives---Type-2\" data-toc-modified-id=\"False-Negatives---Type-2-3.2\"><span class=\"toc-item-num\">3.2&nbsp;&nbsp;</span>False Negatives - Type 2</a></span></li></ul></li><li><span><a href=\"#So-Which-Type-Should-I-Care-About?\" data-toc-modified-id=\"So-Which-Type-Should-I-Care-About?-4\"><span class=\"toc-item-num\">4&nbsp;&nbsp;</span>So Which Type Should I Care About?</a></span><ul class=\"toc-item\"><li><span><a href=\"#Classic-pregnancy-example\" data-toc-modified-id=\"Classic-pregnancy-example-4.1\"><span class=\"toc-item-num\">4.1&nbsp;&nbsp;</span>Classic pregnancy example</a></span></li><li><span><a href=\"#Disease\" data-toc-modified-id=\"Disease-4.2\"><span class=\"toc-item-num\">4.2&nbsp;&nbsp;</span>Disease</a></span><ul class=\"toc-item\"><li><span><a href=\"#Q:-Disease-is-very-deadly,-what-errors-matter-more?\" data-toc-modified-id=\"Q:-Disease-is-very-deadly,-what-errors-matter-more?-4.2.1\"><span class=\"toc-item-num\">4.2.1&nbsp;&nbsp;</span>Q: Disease is very deadly, what errors matter more?</a></span></li><li><span><a href=\"#Q:-Disease-is-rare,-what-errors-matter-more?\" data-toc-modified-id=\"Q:-Disease-is-rare,-what-errors-matter-more?-4.2.2\"><span class=\"toc-item-num\">4.2.2&nbsp;&nbsp;</span>Q: Disease is rare, what errors matter more?</a></span></li><li><span><a href=\"#Q:-Other-factors-that-affect-which-errors-matter-more?\" data-toc-modified-id=\"Q:-Other-factors-that-affect-which-errors-matter-more?-4.2.3\"><span class=\"toc-item-num\">4.2.3&nbsp;&nbsp;</span>Q: Other factors that affect which errors matter more?</a></span></li></ul></li><li><span><a href=\"#The-justice-system\" data-toc-modified-id=\"The-justice-system-4.3\"><span class=\"toc-item-num\">4.3&nbsp;&nbsp;</span>The justice system</a></span><ul class=\"toc-item\"><li><span><a href=\"#Q:-What-do-the-different-errors-look-like?\" data-toc-modified-id=\"Q:-What-do-the-different-errors-look-like?-4.3.1\"><span class=\"toc-item-num\">4.3.1&nbsp;&nbsp;</span>Q: What do the different errors look like?</a></span></li><li><span><a href=\"#Q:-For-the-US-justice-system,-which-errors-do-we-care-more-about?\" data-toc-modified-id=\"Q:-For-the-US-justice-system,-which-errors-do-we-care-more-about?-4.3.2\"><span class=\"toc-item-num\">4.3.2&nbsp;&nbsp;</span>Q: For the US justice system, which errors do we care more about?</a></span></li></ul></li></ul></li></ul></div>"
   ]
  },
  {
   "cell_type": "markdown",
   "metadata": {
    "heading_collapsed": true
   },
   "source": [
    "# We All Make Mistakes"
   ]
  },
  {
   "cell_type": "markdown",
   "metadata": {
    "hidden": true
   },
   "source": [
    "Statistics is a field of imperfect knowledge: we don't know the **_truth_**, we use what we know\n",
    "\n",
    "We make mistakes ¯\\\\\\_(ツ)\\_/¯ <!--markdown shrug-->\n",
    "\n",
    "But it's important to know what _kind of mistakes_ we're making in our process"
   ]
  },
  {
   "cell_type": "markdown",
   "metadata": {
    "heading_collapsed": true
   },
   "source": [
    "# When We Get it Right"
   ]
  },
  {
   "cell_type": "markdown",
   "metadata": {
    "heading_collapsed": true,
    "hidden": true
   },
   "source": [
    "## True Positives & True Negatives"
   ]
  },
  {
   "cell_type": "markdown",
   "metadata": {
    "hidden": true
   },
   "source": [
    "- Sensitivity: True Positives\n",
    "- Specificity: True Negatives\n",
    "\n",
    "https://en.wikipedia.org/wiki/Sensitivity_and_specificity"
   ]
  },
  {
   "cell_type": "markdown",
   "metadata": {
    "hidden": true
   },
   "source": [
    "![](https://upload.wikimedia.org/wikipedia/commons/thumb/e/e7/Sensitivity_and_specificity.svg/350px-Sensitivity_and_specificity.svg.png)"
   ]
  },
  {
   "cell_type": "markdown",
   "metadata": {
    "heading_collapsed": true
   },
   "source": [
    "# When We Get it Wrong"
   ]
  },
  {
   "cell_type": "markdown",
   "metadata": {
    "heading_collapsed": true,
    "hidden": true
   },
   "source": [
    "## False Positives - Type 1"
   ]
  },
  {
   "cell_type": "markdown",
   "metadata": {
    "hidden": true
   },
   "source": [
    "You've probably heard this the most (doctor TV shows; Grey's Anatomy anyone?)\n",
    "\n",
    "We denote this with $\\alpha$ (hey I know you!)\n",
    "\n",
    "Basically says how much wrongly classified as True\n",
    "\n",
    "Usually about 0.05 but depends on the field/experiment!"
   ]
  },
  {
   "cell_type": "markdown",
   "metadata": {
    "heading_collapsed": true,
    "hidden": true
   },
   "source": [
    "## False Negatives - Type 2"
   ]
  },
  {
   "cell_type": "markdown",
   "metadata": {
    "hidden": true
   },
   "source": [
    "We denote this with $\\beta$ (the **2nd** type of errors → the **2nd** greek letter)\n",
    "\n",
    "Usually we're ok with about 0.2"
   ]
  },
  {
   "cell_type": "markdown",
   "metadata": {
    "heading_collapsed": true
   },
   "source": [
    "# So Which Type Should I Care About?"
   ]
  },
  {
   "cell_type": "markdown",
   "metadata": {
    "hidden": true
   },
   "source": [
    "It depends!"
   ]
  },
  {
   "cell_type": "markdown",
   "metadata": {
    "heading_collapsed": true,
    "hidden": true
   },
   "source": [
    "## Classic pregnancy example"
   ]
  },
  {
   "cell_type": "markdown",
   "metadata": {
    "hidden": true
   },
   "source": [
    "![](https://www.statisticssolutions.com/wp-content/uploads/2017/12/rachnovblog-768x310.jpg)"
   ]
  },
  {
   "cell_type": "markdown",
   "metadata": {
    "heading_collapsed": true,
    "hidden": true
   },
   "source": [
    "## Disease"
   ]
  },
  {
   "cell_type": "markdown",
   "metadata": {
    "hidden": true
   },
   "source": [
    "![](images/sick_emoji.png)"
   ]
  },
  {
   "cell_type": "markdown",
   "metadata": {
    "heading_collapsed": true,
    "hidden": true
   },
   "source": [
    "### Q: Disease is very deadly, what errors matter more?"
   ]
  },
  {
   "cell_type": "markdown",
   "metadata": {
    "heading_collapsed": true,
    "hidden": true
   },
   "source": [
    "### Q: Disease is rare, what errors matter more?"
   ]
  },
  {
   "cell_type": "markdown",
   "metadata": {
    "heading_collapsed": true,
    "hidden": true
   },
   "source": [
    "### Q: Other factors that affect which errors matter more?"
   ]
  },
  {
   "cell_type": "markdown",
   "metadata": {
    "heading_collapsed": true,
    "hidden": true
   },
   "source": [
    "## The justice system"
   ]
  },
  {
   "cell_type": "markdown",
   "metadata": {
    "heading_collapsed": true,
    "hidden": true
   },
   "source": [
    "### Q: What do the different errors look like?"
   ]
  },
  {
   "cell_type": "markdown",
   "metadata": {
    "heading_collapsed": true,
    "hidden": true
   },
   "source": [
    "### Q: For the US justice system, which errors do we care more about?"
   ]
  }
 ],
 "metadata": {
  "kernelspec": {
   "display_name": "Python 3",
   "language": "python",
   "name": "python3"
  },
  "language_info": {
   "codemirror_mode": {
    "name": "ipython",
    "version": 3
   },
   "file_extension": ".py",
   "mimetype": "text/x-python",
   "name": "python",
   "nbconvert_exporter": "python",
   "pygments_lexer": "ipython3",
   "version": "3.6.6"
  },
  "toc": {
   "base_numbering": 1,
   "nav_menu": {},
   "number_sections": true,
   "sideBar": true,
   "skip_h1_title": false,
   "title_cell": "Table of Contents",
   "title_sidebar": "Contents",
   "toc_cell": true,
   "toc_position": {
    "height": "calc(100% - 180px)",
    "left": "10px",
    "top": "150px",
    "width": "204px"
   },
   "toc_section_display": true,
   "toc_window_display": true
  },
  "varInspector": {
   "cols": {
    "lenName": 16,
    "lenType": 16,
    "lenVar": 40
   },
   "kernels_config": {
    "python": {
     "delete_cmd_postfix": "",
     "delete_cmd_prefix": "del ",
     "library": "var_list.py",
     "varRefreshCmd": "print(var_dic_list())"
    },
    "r": {
     "delete_cmd_postfix": ") ",
     "delete_cmd_prefix": "rm(",
     "library": "var_list.r",
     "varRefreshCmd": "cat(var_dic_list()) "
    }
   },
   "types_to_exclude": [
    "module",
    "function",
    "builtin_function_or_method",
    "instance",
    "_Feature"
   ],
   "window_display": false
  }
 },
 "nbformat": 4,
 "nbformat_minor": 2
}

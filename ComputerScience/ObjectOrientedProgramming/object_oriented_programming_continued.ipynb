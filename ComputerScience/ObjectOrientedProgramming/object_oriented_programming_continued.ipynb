{
 "cells": [
  {
   "cell_type": "markdown",
   "metadata": {
    "colab_type": "text",
    "id": "jyoZd-vP8zjS"
   },
   "source": [
    "# Making Things Private: Getters & Setters & Deleters"
   ]
  },
  {
   "cell_type": "markdown",
   "metadata": {
    "colab_type": "text",
    "heading_collapsed": true,
    "id": "Z96XWroW-Cz-"
   },
   "source": [
    "## Classically make variables private\n",
    "\n",
    "Why is this a good idea?\n"
   ]
  },
  {
   "cell_type": "markdown",
   "metadata": {
    "heading_collapsed": true,
    "hidden": true
   },
   "source": [
    "### For the record, Python has no private variables\n",
    "\n",
    "But we say they're \"private\" variables when they start with an underscore (ex: `_examplevar`)"
   ]
  },
  {
   "cell_type": "markdown",
   "metadata": {
    "colab_type": "text",
    "heading_collapsed": true,
    "id": "5s6MKqg8-jSz"
   },
   "source": [
    "## Can use this idea for all methods\n"
   ]
  },
  {
   "cell_type": "markdown",
   "metadata": {
    "colab_type": "text",
    "heading_collapsed": true,
    "hidden": true,
    "id": "CyRRUQXr-oyY"
   },
   "source": [
    "### I want to set & get & delete attributes"
   ]
  },
  {
   "cell_type": "code",
   "execution_count": null,
   "metadata": {
    "colab": {},
    "colab_type": "code",
    "hidden": true,
    "id": "uSEH0fjg-yKj"
   },
   "outputs": [],
   "source": [
    "class Robot():\n",
    "  \n",
    "    # Default name (good practice)\n",
    "    _name = None\n",
    "\n",
    "    # We SET the name\n",
    "    def set_name(self, new_name):\n",
    "        self._name = new_name\n",
    "\n",
    "    # We GET the name\n",
    "    def get_name(self):\n",
    "        return self._name\n",
    "    \n",
    "    # We DELETE the name\n",
    "    def del_name(self):\n",
    "        del self._name"
   ]
  },
  {
   "cell_type": "code",
   "execution_count": null,
   "metadata": {
    "colab": {},
    "colab_type": "code",
    "hidden": true,
    "id": "gI7E2bb4_lM0"
   },
   "outputs": [],
   "source": [
    "# Instantiate object\n",
    "walle = Robot()"
   ]
  },
  {
   "cell_type": "code",
   "execution_count": null,
   "metadata": {
    "hidden": true
   },
   "outputs": [],
   "source": [
    "# SET his name\n",
    "walle.set_name('Wall-E')"
   ]
  },
  {
   "cell_type": "code",
   "execution_count": null,
   "metadata": {
    "hidden": true
   },
   "outputs": [],
   "source": [
    "# GET his name\n",
    "print(walle.get_name())"
   ]
  },
  {
   "cell_type": "code",
   "execution_count": null,
   "metadata": {
    "hidden": true
   },
   "outputs": [],
   "source": [
    "# DELETE his name\n",
    "walle.del_name()\n",
    "print(walle.get_name())"
   ]
  },
  {
   "cell_type": "markdown",
   "metadata": {
    "colab_type": "text",
    "heading_collapsed": true,
    "id": "1x7jUYEF82N6"
   },
   "source": [
    "## Using property()"
   ]
  },
  {
   "cell_type": "code",
   "execution_count": null,
   "metadata": {
    "hidden": true,
    "scrolled": true
   },
   "outputs": [],
   "source": [
    "# We can read more about this\n",
    "help(property)"
   ]
  },
  {
   "cell_type": "markdown",
   "metadata": {
    "colab_type": "text",
    "heading_collapsed": true,
    "hidden": true,
    "id": "Y-3m3MHuBUCn"
   },
   "source": [
    "### Makes Life Easier"
   ]
  },
  {
   "cell_type": "code",
   "execution_count": null,
   "metadata": {
    "hidden": true
   },
   "outputs": [],
   "source": [
    "class Robot():\n",
    "    # Default name (good practice)\n",
    "    _name = None\n",
    "    _last_name = None\n",
    "    _first_name = None\n",
    "\n",
    "    # We GET the name\n",
    "    def get_name(self):\n",
    "        return self._name\n",
    "    \n",
    "    # We SET the name\n",
    "    def set_name(self, new_name):\n",
    "        # We'll also make sure the name is capitalized properly\n",
    "        self._name = new_name.title()\n",
    "        # And get the first and last name (assume at least the first name & no spaces)\n",
    "        names = self._name.split()\n",
    "        self._first_name = names[0]\n",
    "        if len(names) > 2:    \n",
    "            self._last_name = names[-1]\n",
    "    \n",
    "    # We DELETE the name\n",
    "    def del_name(self):\n",
    "        del self._name\n",
    "\n",
    "    # Now we have set, get, & del all with one name!\n",
    "    name = property(fget=get_name, fset=set_name, fdel=del_name)"
   ]
  },
  {
   "cell_type": "code",
   "execution_count": null,
   "metadata": {
    "colab": {},
    "colab_type": "code",
    "hidden": true,
    "id": "gI7E2bb4_lM0"
   },
   "outputs": [],
   "source": [
    "# Instantiate object\n",
    "walle = Robot()\n",
    "\n",
    "# SET his name\n",
    "walle.name = 'Wall-E'\n",
    "\n",
    "# GET his name\n",
    "print('GETTING name:')\n",
    "print(walle.name)\n",
    "\n",
    "# DELETE his name\n",
    "print('DELETING name:')\n",
    "del walle.name\n",
    "print(walle.name)"
   ]
  },
  {
   "cell_type": "markdown",
   "metadata": {
    "hidden": true
   },
   "source": [
    "Another method is using Python decorators `@property`\n",
    "\n",
    "Here's some extra reading if you're curious, but tl;dr basically decorators wrap functions inside of functions:\n",
    "- Official doc [https://docs.python.org/3/glossary.html#term-decorator](https://docs.python.org/3/glossary.html#term-decorator)\n",
    "- Probably more helpful: [https://hackernoon.com/decorators-in-python-8fd0dce93c08](https://hackernoon.com/decorators-in-python-8fd0dce93c08)"
   ]
  },
  {
   "cell_type": "code",
   "execution_count": null,
   "metadata": {
    "hidden": true
   },
   "outputs": [],
   "source": [
    "class Robot():\n",
    "    # Default name (good practice)\n",
    "    _name = None\n",
    "    _last_name = None\n",
    "    _first_name = None\n",
    "\n",
    "    # We GET the name\n",
    "    @property\n",
    "    def name(self):\n",
    "        return self._name\n",
    "   \n",
    "    # We SET the name\n",
    "    @name.setter\n",
    "    def name(self, new_name):\n",
    "        # We'll also make sure the name is capitalized properly\n",
    "        self._name = new_name.title()\n",
    "        # And get the first and last name (assume at least the first name & no spaces)\n",
    "        names = self._name.split()\n",
    "        self._first_name = names[0]\n",
    "        if len(names) > 2:    \n",
    "            self._last_name = names[-1]\n",
    "    \n",
    "    # We DELETE the name\n",
    "    @name.deleter\n",
    "    def del_name(self):\n",
    "        del self._name"
   ]
  },
  {
   "cell_type": "markdown",
   "metadata": {
    "heading_collapsed": true
   },
   "source": [
    "# Using Defaults for Instantiating"
   ]
  },
  {
   "cell_type": "markdown",
   "metadata": {
    "hidden": true
   },
   "source": [
    "Using `init` for an object"
   ]
  },
  {
   "cell_type": "code",
   "execution_count": null,
   "metadata": {
    "hidden": true
   },
   "outputs": [],
   "source": [
    "class Robot():\n",
    "    # We'd like to start off with some initial attributes\n",
    "    def __init__(self, first_name='Generic', last_name=''):\n",
    "        # Clean the names of extra spaces at beginning & end\n",
    "        first_name = first_name.strip()\n",
    "        last_name = last_name.strip()    \n",
    "        # Setting attributes\n",
    "        self._first_name = first_name\n",
    "        self._last_name = last_name\n",
    "        # Combine first and last names and remove any extra spacing\n",
    "        self._name = ' '.join([first_name,last_name]).strip()\n",
    "\n",
    "\n",
    "    @property\n",
    "    def last_name(self):\n",
    "        return self._last_name\n",
    "    \n",
    "    @last_name.setter\n",
    "    def last_name(self, last_name):\n",
    "        self._last_name = last_name.title()\n",
    "        # Change name (using the private var)\n",
    "        self.name = f'{self.first_name} {self.last_name}'.strip()\n",
    "        \n",
    "    @property\n",
    "    def first_name(self):\n",
    "        return self._first_name\n",
    "    \n",
    "    @first_name.setter\n",
    "    def first_name(self, first_name):\n",
    "        self._first_name = first_name.title()\n",
    "        # Change name (using the private var)\n",
    "        self.name = f'{self.first_name} {self.last_name}'.strip()\n",
    "        \n",
    "    \n",
    "    @property\n",
    "    def name(self):\n",
    "        return self._name\n",
    "   \n",
    "    @name.setter\n",
    "    def name(self, new_name):\n",
    "        # We'll also make sure the name is capitalized properly\n",
    "        self._name = new_name.title()\n",
    "        # And get the first and last name (assume at least the first name & no spaces)\n",
    "        names = self._name.split()\n",
    "        self._first_name = names[0]\n",
    "        if len(names) > 2:    \n",
    "            self.last_name = names[-1]\n",
    "    \n",
    "    @name.deleter\n",
    "    def del_name(self):\n",
    "        del self._name"
   ]
  },
  {
   "cell_type": "code",
   "execution_count": null,
   "metadata": {
    "hidden": true
   },
   "outputs": [],
   "source": [
    "generic0 = Robot()\n",
    "print(f'{generic0.name}: [{generic0.last_name}, {generic0.first_name}]')\n",
    "\n",
    "# We only give a last name\n",
    "walle = Robot('Wall-E')\n",
    "print(f'{walle.name}: [{walle.last_name}, {walle.first_name}]')\n",
    "\n",
    "# Note that setter wasn't used\n",
    "bender = Robot('Bender', 'rodriguez')\n",
    "print(f'{bender.name}: [{bender.last_name}, {bender.first_name}]')"
   ]
  },
  {
   "cell_type": "markdown",
   "metadata": {
    "heading_collapsed": true
   },
   "source": [
    "# More Fun with Customizing Objects!\n",
    "\n",
    "We can use more special method names like `__init__`\n",
    "\n",
    "https://docs.python.org/2/reference/datamodel.html#special-method-names"
   ]
  },
  {
   "cell_type": "code",
   "execution_count": null,
   "metadata": {
    "hidden": true
   },
   "outputs": [],
   "source": [
    "# Using our previous objects, it's really unreadable when printed\n",
    "print(walle)\n",
    "print(bender)\n",
    "\n",
    "introduce_str = f'This is `{str(walle)}`'\n",
    "print(introduce_str)"
   ]
  },
  {
   "cell_type": "code",
   "execution_count": null,
   "metadata": {
    "hidden": true
   },
   "outputs": [],
   "source": [
    "class Robot():\n",
    "    # We'd like to start off with some initial attributes\n",
    "    def __init__(self, first_name='Generic', last_name=''):\n",
    "        # Clean the names of extra spaces at beginning & end\n",
    "        first_name = first_name.strip()\n",
    "        last_name = last_name.strip()    \n",
    "        # Setting attributes\n",
    "        self._first_name = first_name\n",
    "        self._last_name = last_name\n",
    "        # Combine first and last names and remove any extra spacing\n",
    "        self._name = ' '.join([first_name,last_name]).strip()\n",
    "\n",
    "    # We can define how it's string representation!\n",
    "    def __str__(self):\n",
    "        obj_str_rep = f'Robot: \"{self.name}\"'\n",
    "        return obj_str_rep\n",
    "\n",
    "    @property\n",
    "    def last_name(self):\n",
    "        return self._last_name\n",
    "    \n",
    "    @last_name.setter\n",
    "    def last_name(self, last_name):\n",
    "        self._last_name = last_name.title()\n",
    "        # Change name (using the private var)\n",
    "        self.name = f'{self.first_name} {self.last_name}'.strip()\n",
    "        \n",
    "    @property\n",
    "    def first_name(self):\n",
    "        return self._first_name\n",
    "    \n",
    "    @first_name.setter\n",
    "    def first_name(self, first_name):\n",
    "        self._first_name = first_name.title()\n",
    "        # Change name (using the private var)\n",
    "        self.name = f'{self.first_name} {self.last_name}'.strip()\n",
    "        \n",
    "    \n",
    "    @property\n",
    "    def name(self):\n",
    "        return self._name\n",
    "   \n",
    "    @name.setter\n",
    "    def name(self, new_name):\n",
    "        # We'll also make sure the name is capitalized properly\n",
    "        self._name = new_name.title()\n",
    "        # And get the first and last name (assume at least the first name & no spaces)\n",
    "        names = self._name.split()\n",
    "        self._first_name = names[0]\n",
    "        if len(names) > 2:    \n",
    "            self.last_name = names[-1]\n",
    "    \n",
    "    @name.deleter\n",
    "    def del_name(self):\n",
    "        del self._name"
   ]
  },
  {
   "cell_type": "code",
   "execution_count": null,
   "metadata": {
    "hidden": true
   },
   "outputs": [],
   "source": [
    "walle = Robot('Wall-E')\n",
    "bender = Robot('Bender', 'Rodriguez')\n",
    "\n",
    "# Now we can see the string representation!\n",
    "print(walle)\n",
    "print(bender)\n",
    "\n",
    "introduce_str = f'This is `{str(walle)}`'\n",
    "print(introduce_str)\n"
   ]
  },
  {
   "cell_type": "markdown",
   "metadata": {
    "colab_type": "text",
    "heading_collapsed": true,
    "id": "G39MRWq7QTkG"
   },
   "source": [
    "# Inheritance\n",
    "\n",
    "So what's the advanage?"
   ]
  },
  {
   "cell_type": "markdown",
   "metadata": {
    "heading_collapsed": true,
    "hidden": true
   },
   "source": [
    "## More abstraction is better"
   ]
  },
  {
   "cell_type": "markdown",
   "metadata": {
    "hidden": true
   },
   "source": [
    "Just look at all that code.... what if we wanted to expand our mold/blueprint?"
   ]
  },
  {
   "cell_type": "code",
   "execution_count": null,
   "metadata": {
    "hidden": true
   },
   "outputs": [],
   "source": [
    "# Look at all that code we wrote... do we have to do it all again...?\n",
    "class Robot(object):\n",
    "    # We'd like to start off with some initial attributes\n",
    "    def __init__(self, first_name='Generic', last_name=''):\n",
    "        # Clean the names of extra spaces at beginning & end\n",
    "        first_name = first_name.strip()\n",
    "        last_name = last_name.strip()    \n",
    "        # Setting attributes\n",
    "        self._first_name = first_name\n",
    "        self._last_name = last_name\n",
    "        # Combine first and last names and remove any extra spacing\n",
    "        self._name = ' '.join([first_name,last_name]).strip()\n",
    "\n",
    "    # We can define how it's string representation!\n",
    "    def __str__(self):\n",
    "        obj_str_rep = f'Robot: \"{self.name}\"'\n",
    "        return obj_str_rep\n",
    "\n",
    "    @property\n",
    "    def last_name(self):\n",
    "        return self._last_name\n",
    "    \n",
    "    @last_name.setter\n",
    "    def last_name(self, last_name):\n",
    "        self._last_name = last_name.title()\n",
    "        # Change name (using the private var)\n",
    "        self.name = f'{self.first_name} {self.last_name}'.strip()\n",
    "        \n",
    "    @property\n",
    "    def first_name(self):\n",
    "        return self._first_name\n",
    "    \n",
    "    @first_name.setter\n",
    "    def first_name(self, first_name):\n",
    "        self._first_name = first_name.title()\n",
    "        # Change name (using the private var)\n",
    "        self.name = f'{self.first_name} {self.last_name}'.strip()\n",
    "        \n",
    "    \n",
    "    @property\n",
    "    def name(self):\n",
    "        return self._name\n",
    "   \n",
    "    @name.setter\n",
    "    def name(self, new_name):\n",
    "        # We'll also make sure the name is capitalized properly\n",
    "        self._name = new_name.title()\n",
    "        # And get the first and last name (assume at least the first name & no spaces)\n",
    "        names = self._name.split()\n",
    "        self._first_name = names[0]\n",
    "        if len(names) > 2:    \n",
    "            self.last_name = names[-1]\n",
    "    \n",
    "    @name.deleter\n",
    "    def del_name(self):\n",
    "        del self._name\n",
    "    "
   ]
  },
  {
   "cell_type": "markdown",
   "metadata": {
    "heading_collapsed": true,
    "hidden": true
   },
   "source": [
    "### Garbage Bot"
   ]
  },
  {
   "cell_type": "code",
   "execution_count": null,
   "metadata": {
    "hidden": true
   },
   "outputs": [],
   "source": [
    "class Garbage_Bot(Robot):\n",
    "    def __init__(self, first_name, last_name='', battery=100):\n",
    "        # Start with the mold from Robot class\n",
    "        super().__init__(first_name, last_name)\n",
    "        self._battery = battery\n",
    "        \n",
    "    def recharge(self):\n",
    "        self._battery = 100\n",
    "        \n",
    "    def speak(self):\n",
    "        if self._battery > 70:\n",
    "            self._battery -= 15\n",
    "            print('XD')\n",
    "        elif self._battery > 30:\n",
    "            self._battery -= 25\n",
    "            print(':D')\n",
    "        elif self._battery > 1:\n",
    "            print('[-___-]')\n",
    "            self._battery -= 10\n",
    "        else:\n",
    "            print('[X___X]')\n",
    "        \n",
    "    @property\n",
    "    def charge(self):\n",
    "        if self._battery <= 0:\n",
    "            return 'DEAD'\n",
    "        elif self._battery < 30:\n",
    "            return 'LOW'\n",
    "        elif self._battery < 80:\n",
    "            return 'GOOD'\n",
    "        elif self._battery < 100:\n",
    "            return 'HIGH'\n",
    "        else:\n",
    "            return 'FULL'\n"
   ]
  },
  {
   "cell_type": "code",
   "execution_count": null,
   "metadata": {
    "hidden": true
   },
   "outputs": [],
   "source": [
    "def speak_until_dead(bot):\n",
    "    while bot.charge != 'DEAD':  \n",
    "        print(f'CHARGE: {bot.charge}')\n",
    "        bot.speak()"
   ]
  },
  {
   "cell_type": "code",
   "execution_count": null,
   "metadata": {
    "hidden": true
   },
   "outputs": [],
   "source": [
    "walle = Garbage_Bot('Walle')\n",
    "print(walle.name)"
   ]
  },
  {
   "cell_type": "code",
   "execution_count": null,
   "metadata": {
    "hidden": true
   },
   "outputs": [],
   "source": [
    "speak_until_dead(walle)\n",
    "\n",
    "print(f'CHARGE: {walle.charge}')\n",
    "walle.speak()"
   ]
  },
  {
   "cell_type": "code",
   "execution_count": null,
   "metadata": {
    "hidden": true
   },
   "outputs": [],
   "source": [
    "walle.recharge()\n",
    "print(f'CHARGE: {walle.charge}')\n",
    "walle.speak()"
   ]
  },
  {
   "cell_type": "markdown",
   "metadata": {
    "heading_collapsed": true,
    "hidden": true
   },
   "source": [
    "### Bending Bot"
   ]
  },
  {
   "cell_type": "code",
   "execution_count": null,
   "metadata": {
    "hidden": true
   },
   "outputs": [],
   "source": [
    "class Bending_Bot(Robot):\n",
    "    def __init__(self, first_name, last_name='', bending_ability='good'):\n",
    "        # Start with the mold from Robot class\n",
    "        super().__init__()\n",
    "        # Adding our own flair\n",
    "        self._ability = bending_ability\n",
    "        \n",
    "    @property\n",
    "    def ability(self):\n",
    "        return self._ability\n",
    "    \n",
    "    @ability.setter\n",
    "    def ability(self, bending_ability):\n",
    "        self._ability = bending_ability\n",
    "        \n",
    "    def bend_it(self):\n",
    "        print('Bendin\\' it!')"
   ]
  },
  {
   "cell_type": "code",
   "execution_count": null,
   "metadata": {
    "hidden": true
   },
   "outputs": [],
   "source": [
    "bender = Bending_Bot('Bender', 'Rodriguez', bending_ability='GREAT')\n",
    "bender.bend_it()\n",
    "bender.ability"
   ]
  }
 ],
 "metadata": {
  "colab": {
   "collapsed_sections": [
    "_OUAUdF5-p-x",
    "xgb4UxV__jQT",
    "oREms3u3-Q6L",
    "LOSB70AC_F55",
    "TXLmvlT__K9y",
    "I6d-VcuulhDy",
    "Ee-dPiBt_UzL",
    "odgi8E10AGuG",
    "Q-fmUUzu9sY8",
    "h-Fs0iZ0A-KW",
    "2rfQ_v1B9zWi",
    "3F4hBda4BLvO",
    "Z96XWroW-Cz-",
    "5s6MKqg8-jSz",
    "CyRRUQXr-oyY",
    "nCiOGnK8BaBK",
    "1x7jUYEF82N6",
    "Y-3m3MHuBUCn",
    "G39MRWq7QTkG"
   ],
   "name": "intro_object_oriented_programming.ipynb",
   "provenance": [],
   "version": "0.3.2"
  },
  "kernelspec": {
   "display_name": "Python 3",
   "language": "python",
   "name": "python3"
  },
  "language_info": {
   "codemirror_mode": {
    "name": "ipython",
    "version": 3
   },
   "file_extension": ".py",
   "mimetype": "text/x-python",
   "name": "python",
   "nbconvert_exporter": "python",
   "pygments_lexer": "ipython3",
   "version": "3.6.6"
  },
  "toc": {
   "base_numbering": 1,
   "nav_menu": {},
   "number_sections": true,
   "sideBar": true,
   "skip_h1_title": false,
   "title_cell": "Table of Contents",
   "title_sidebar": "Contents",
   "toc_cell": false,
   "toc_position": {},
   "toc_section_display": true,
   "toc_window_display": false
  },
  "varInspector": {
   "cols": {
    "lenName": 16,
    "lenType": 16,
    "lenVar": 40
   },
   "kernels_config": {
    "python": {
     "delete_cmd_postfix": "",
     "delete_cmd_prefix": "del ",
     "library": "var_list.py",
     "varRefreshCmd": "print(var_dic_list())"
    },
    "r": {
     "delete_cmd_postfix": ") ",
     "delete_cmd_prefix": "rm(",
     "library": "var_list.r",
     "varRefreshCmd": "cat(var_dic_list()) "
    }
   },
   "types_to_exclude": [
    "module",
    "function",
    "builtin_function_or_method",
    "instance",
    "_Feature"
   ],
   "window_display": false
  }
 },
 "nbformat": 4,
 "nbformat_minor": 1
}

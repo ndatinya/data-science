{
 "cells": [
  {
   "cell_type": "markdown",
   "metadata": {
    "toc": true
   },
   "source": [
    "<h1>Table of Contents<span class=\"tocSkip\"></span></h1>\n",
    "<div class=\"toc\"><ul class=\"toc-item\"><li><span><a href=\"#Hierarchical-Agglomerative-Clustering\" data-toc-modified-id=\"Hierarchical-Agglomerative-Clustering-1\"><span class=\"toc-item-num\">1&nbsp;&nbsp;</span>Hierarchical Agglomerative Clustering</a></span><ul class=\"toc-item\"><li><span><a href=\"#Visualizations\" data-toc-modified-id=\"Visualizations-1.1\"><span class=\"toc-item-num\">1.1&nbsp;&nbsp;</span>Visualizations</a></span><ul class=\"toc-item\"><li><span><a href=\"#Dendrogram\" data-toc-modified-id=\"Dendrogram-1.1.1\"><span class=\"toc-item-num\">1.1.1&nbsp;&nbsp;</span>Dendrogram</a></span></li></ul></li><li><span><a href=\"#Types\" data-toc-modified-id=\"Types-1.2\"><span class=\"toc-item-num\">1.2&nbsp;&nbsp;</span>Types</a></span><ul class=\"toc-item\"><li><span><a href=\"#Single-link\" data-toc-modified-id=\"Single-link-1.2.1\"><span class=\"toc-item-num\">1.2.1&nbsp;&nbsp;</span>Single link</a></span></li><li><span><a href=\"#Complete-link\" data-toc-modified-id=\"Complete-link-1.2.2\"><span class=\"toc-item-num\">1.2.2&nbsp;&nbsp;</span>Complete link</a></span></li><li><span><a href=\"#Average-link\" data-toc-modified-id=\"Average-link-1.2.3\"><span class=\"toc-item-num\">1.2.3&nbsp;&nbsp;</span>Average link</a></span></li><li><span><a href=\"#Ward\" data-toc-modified-id=\"Ward-1.2.4\"><span class=\"toc-item-num\">1.2.4&nbsp;&nbsp;</span>Ward</a></span></li></ul></li><li><span><a href=\"#Example-Code\" data-toc-modified-id=\"Example-Code-1.3\"><span class=\"toc-item-num\">1.3&nbsp;&nbsp;</span>Example Code</a></span><ul class=\"toc-item\"><li><span><a href=\"#SciPy-for-dendrograms\" data-toc-modified-id=\"SciPy-for-dendrograms-1.3.1\"><span class=\"toc-item-num\">1.3.1&nbsp;&nbsp;</span>SciPy for dendrograms</a></span></li></ul></li></ul></li><li><span><a href=\"#Advantages-&amp;-Trade-offs\" data-toc-modified-id=\"Advantages-&amp;-Trade-offs-2\"><span class=\"toc-item-num\">2&nbsp;&nbsp;</span>Advantages &amp; Trade-offs</a></span><ul class=\"toc-item\"><li><span><a href=\"#Advantages\" data-toc-modified-id=\"Advantages-2.1\"><span class=\"toc-item-num\">2.1&nbsp;&nbsp;</span>Advantages</a></span></li><li><span><a href=\"#Disadvantages\" data-toc-modified-id=\"Disadvantages-2.2\"><span class=\"toc-item-num\">2.2&nbsp;&nbsp;</span>Disadvantages</a></span></li></ul></li><li><span><a href=\"#But-What-If-There's-Noise?\" data-toc-modified-id=\"But-What-If-There's-Noise?-3\"><span class=\"toc-item-num\">3&nbsp;&nbsp;</span>But What If There's Noise?</a></span></li></ul></div>"
   ]
  },
  {
   "cell_type": "markdown",
   "metadata": {
    "heading_collapsed": true
   },
   "source": [
    "# Hierarchical Agglomerative Clustering"
   ]
  },
  {
   "cell_type": "markdown",
   "metadata": {
    "hidden": true
   },
   "source": [
    "> Set of points before any clustering\n",
    "![](images/pre_cluster_points.png)"
   ]
  },
  {
   "cell_type": "markdown",
   "metadata": {
    "heading_collapsed": true,
    "hidden": true
   },
   "source": [
    "## Visualizations"
   ]
  },
  {
   "cell_type": "markdown",
   "metadata": {
    "hidden": true
   },
   "source": [
    "Can allow us to see the clusters within clusters "
   ]
  },
  {
   "cell_type": "markdown",
   "metadata": {
    "hidden": true
   },
   "source": [
    "![](images/clustergram.png)"
   ]
  },
  {
   "cell_type": "markdown",
   "metadata": {
    "heading_collapsed": true,
    "hidden": true
   },
   "source": [
    "### Dendrogram"
   ]
  },
  {
   "cell_type": "markdown",
   "metadata": {
    "hidden": true
   },
   "source": [
    "- Useful in visualizing HIGH dimensional separation\n",
    "- Can choose just \"n\" clusters\n",
    "    + cut the link of the highest tree for two clusters\n",
    "    + clusters are more alike"
   ]
  },
  {
   "cell_type": "markdown",
   "metadata": {
    "hidden": true
   },
   "source": [
    "![](images/dendrogram.png)"
   ]
  },
  {
   "cell_type": "markdown",
   "metadata": {
    "heading_collapsed": true,
    "hidden": true
   },
   "source": [
    "## Types"
   ]
  },
  {
   "cell_type": "markdown",
   "metadata": {
    "heading_collapsed": true,
    "hidden": true
   },
   "source": [
    "### Single link"
   ]
  },
  {
   "cell_type": "markdown",
   "metadata": {
    "hidden": true
   },
   "source": [
    "(Not in scikit-learn)\n",
    "\n",
    "- links at the distance between (closest points) in each cluster\n",
    "- tends to create elongated clusters (reachs out to the other points)\n",
    "- tends to eat-up a lot of the points for a cluster"
   ]
  },
  {
   "cell_type": "markdown",
   "metadata": {
    "heading_collapsed": true,
    "hidden": true
   },
   "source": [
    "### Complete link"
   ]
  },
  {
   "cell_type": "markdown",
   "metadata": {
    "hidden": true
   },
   "source": [
    "- Same as single link, however uses the farthest point\n",
    "- Tends to create more compact clusters\n",
    "- However, will tend to \"ignore\" other points that are *similar* to the actual cluster"
   ]
  },
  {
   "cell_type": "markdown",
   "metadata": {
    "heading_collapsed": true,
    "hidden": true
   },
   "source": [
    "### Average link"
   ]
  },
  {
   "cell_type": "markdown",
   "metadata": {
    "hidden": true
   },
   "source": [
    "- Same as complete but will use the measurement average for each point-to-point distance in each cluster"
   ]
  },
  {
   "cell_type": "markdown",
   "metadata": {
    "heading_collapsed": true,
    "hidden": true
   },
   "source": [
    "### Ward"
   ]
  },
  {
   "cell_type": "markdown",
   "metadata": {
    "hidden": true
   },
   "source": [
    "- Minimizes variance during cluster merge\n",
    "    + Center between cluster calculated\n",
    "    + Sum Sq-Distance from pts in clusters to center\n",
    "    + Subtract pt distance from cluster centers\n",
    " \n",
    " \n",
    " $$Dist(A, B) = \\sum_{x_a \\in A} \\sum_{x_b \\in B} \\left [ (c_0-x_a)^2 + (c_0-x_b)^2  - (c_a-x_a)^2 - (c_b-x_b)^2  \\right] $$"
   ]
  },
  {
   "cell_type": "markdown",
   "metadata": {
    "heading_collapsed": true,
    "hidden": true
   },
   "source": [
    "## Example Code"
   ]
  },
  {
   "cell_type": "code",
   "execution_count": null,
   "metadata": {
    "ExecuteTime": {
     "end_time": "2019-11-13T17:17:15.583433Z",
     "start_time": "2019-11-13T17:17:14.541880Z"
    },
    "hidden": true
   },
   "outputs": [],
   "source": [
    "from sklearn import datasets, cluster\n",
    "import matplotlib.pyplot as plt\n",
    "import numpy as np\n",
    "from scipy.cluster.hierarchy import dendrogram, ward, single"
   ]
  },
  {
   "cell_type": "code",
   "execution_count": null,
   "metadata": {
    "ExecuteTime": {
     "end_time": "2019-11-13T17:17:15.594297Z",
     "start_time": "2019-11-13T17:17:15.585439Z"
    },
    "hidden": true
   },
   "outputs": [],
   "source": [
    "X = datasets.load_iris().data[:70]\n",
    "\n",
    "c = cluster.AgglomerativeClustering(n_clusters=3, linkage='ward')\n",
    "labels = c.fit_predict(X)\n",
    "\n",
    "model = cluster.AgglomerativeClustering(n_clusters=3)\n",
    "model = model.fit(X)"
   ]
  },
  {
   "cell_type": "markdown",
   "metadata": {
    "heading_collapsed": true,
    "hidden": true
   },
   "source": [
    "### SciPy for dendrograms"
   ]
  },
  {
   "cell_type": "code",
   "execution_count": null,
   "metadata": {
    "ExecuteTime": {
     "end_time": "2019-11-13T17:17:16.063475Z",
     "start_time": "2019-11-13T17:17:15.596115Z"
    },
    "hidden": true
   },
   "outputs": [],
   "source": [
    "def plot_dendrogram(model, **kwargs):\n",
    "\n",
    "    # Children of hierarchical clustering\n",
    "    children = model.children_\n",
    "\n",
    "    # Distances between each pair of children\n",
    "    # Since we don't have this information, we can use a uniform one for plotting\n",
    "    distance = np.arange(children.shape[0])\n",
    "\n",
    "    # The number of observations contained in each cluster level\n",
    "    no_of_observations = np.arange(2, children.shape[0]+2)\n",
    "\n",
    "    # Create linkage matrix and then plot the dendrogram\n",
    "    linkage_matrix = np.column_stack([children, distance, no_of_observations]).astype(float)\n",
    "\n",
    "    # Plot the corresponding dendrogram\n",
    "    dendrogram(linkage_matrix, **kwargs)\n",
    "\n",
    "\n",
    "\n",
    "plt.title('Hierarchical Clustering Dendrogram')\n",
    "plot_dendrogram(model, labels=model.labels_)\n",
    "plt.show()"
   ]
  },
  {
   "cell_type": "code",
   "execution_count": null,
   "metadata": {
    "ExecuteTime": {
     "end_time": "2019-11-13T17:17:16.491628Z",
     "start_time": "2019-11-13T17:17:16.064618Z"
    },
    "hidden": true
   },
   "outputs": [],
   "source": [
    "link_matrix = ward(X)\n",
    "dendrogram(link_matrix)\n",
    "plt.show()"
   ]
  },
  {
   "cell_type": "markdown",
   "metadata": {
    "heading_collapsed": true
   },
   "source": [
    "# Advantages & Trade-offs"
   ]
  },
  {
   "cell_type": "markdown",
   "metadata": {
    "heading_collapsed": true,
    "hidden": true
   },
   "source": [
    "## Advantages"
   ]
  },
  {
   "cell_type": "markdown",
   "metadata": {
    "hidden": true
   },
   "source": [
    "* Great that we can **visualize** the clustering (dendrograms work for high-dimensional space)\n",
    "* Hierarchy can give more context and info on the data set\n",
    "* Excellent for already hierarchical relationships"
   ]
  },
  {
   "cell_type": "markdown",
   "metadata": {
    "heading_collapsed": true,
    "hidden": true
   },
   "source": [
    "## Disadvantages"
   ]
  },
  {
   "cell_type": "markdown",
   "metadata": {
    "hidden": true
   },
   "source": [
    "* Computationally expensive $O(n^2)$\n",
    "* Sensitive to noise/outliers"
   ]
  },
  {
   "cell_type": "markdown",
   "metadata": {
    "heading_collapsed": true
   },
   "source": [
    "# But What If There's Noise?"
   ]
  },
  {
   "cell_type": "markdown",
   "metadata": {
    "hidden": true
   },
   "source": [
    "This is where algorithms like [DBSCAN](dbscan.ipynb) is useful!"
   ]
  }
 ],
 "metadata": {
  "kernelspec": {
   "display_name": "Python 3",
   "language": "python",
   "name": "python3"
  },
  "language_info": {
   "codemirror_mode": {
    "name": "ipython",
    "version": 3
   },
   "file_extension": ".py",
   "mimetype": "text/x-python",
   "name": "python",
   "nbconvert_exporter": "python",
   "pygments_lexer": "ipython3",
   "version": "3.6.6"
  },
  "toc": {
   "base_numbering": 1,
   "nav_menu": {},
   "number_sections": true,
   "sideBar": true,
   "skip_h1_title": false,
   "title_cell": "Table of Contents",
   "title_sidebar": "Contents",
   "toc_cell": true,
   "toc_position": {},
   "toc_section_display": true,
   "toc_window_display": true
  },
  "varInspector": {
   "cols": {
    "lenName": 16,
    "lenType": 16,
    "lenVar": 40
   },
   "kernels_config": {
    "python": {
     "delete_cmd_postfix": "",
     "delete_cmd_prefix": "del ",
     "library": "var_list.py",
     "varRefreshCmd": "print(var_dic_list())"
    },
    "r": {
     "delete_cmd_postfix": ") ",
     "delete_cmd_prefix": "rm(",
     "library": "var_list.r",
     "varRefreshCmd": "cat(var_dic_list()) "
    }
   },
   "types_to_exclude": [
    "module",
    "function",
    "builtin_function_or_method",
    "instance",
    "_Feature"
   ],
   "window_display": false
  }
 },
 "nbformat": 4,
 "nbformat_minor": 2
}

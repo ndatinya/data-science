{
 "cells": [
  {
   "cell_type": "markdown",
   "metadata": {
    "toc": true
   },
   "source": [
    "<h1>Table of Contents<span class=\"tocSkip\"></span></h1>\n",
    "<div class=\"toc\"><ul class=\"toc-item\"><li><span><a href=\"#Battle-to-End-All-Battles\" data-toc-modified-id=\"Battle-to-End-All-Battles-1\"><span class=\"toc-item-num\">1&nbsp;&nbsp;</span>Battle to End All Battles</a></span><ul class=\"toc-item\"><li><span><a href=\"#But-baby-steps-first!\" data-toc-modified-id=\"But-baby-steps-first!-1.1\"><span class=\"toc-item-num\">1.1&nbsp;&nbsp;</span>But baby steps first!</a></span></li><li><span><a href=\"#It's-Godzilla!!!\" data-toc-modified-id=\"It's-Godzilla!!!-1.2\"><span class=\"toc-item-num\">1.2&nbsp;&nbsp;</span>It's Godzilla!!!</a></span></li><li><span><a href=\"#Create-Mothra\" data-toc-modified-id=\"Create-Mothra-1.3\"><span class=\"toc-item-num\">1.3&nbsp;&nbsp;</span>Create Mothra</a></span></li></ul></li><li><span><a href=\"#BATTLE-TIME!!!\" data-toc-modified-id=\"BATTLE-TIME!!!-2\"><span class=\"toc-item-num\">2&nbsp;&nbsp;</span>BATTLE TIME!!!</a></span></li><li><span><a href=\"#BONUS:-Secret-Level-Unlocked!-Going-Back-in-Time!!-⏰\" data-toc-modified-id=\"BONUS:-Secret-Level-Unlocked!-Going-Back-in-Time!!-⏰-3\"><span class=\"toc-item-num\">3&nbsp;&nbsp;</span>BONUS: Secret Level Unlocked! Going Back in Time!! ⏰</a></span></li></ul></div>"
   ]
  },
  {
   "cell_type": "markdown",
   "metadata": {},
   "source": [
    "> Possible Pair Programming activity"
   ]
  },
  {
   "cell_type": "markdown",
   "metadata": {},
   "source": [
    "# Battle to End All Battles"
   ]
  },
  {
   "cell_type": "markdown",
   "metadata": {},
   "source": [
    "So robots have been fun, but I want to see some classic battles!\n",
    "\n",
    "Our goal is to create the most epic battle: **Godzilla vs Mothra**"
   ]
  },
  {
   "cell_type": "markdown",
   "metadata": {},
   "source": [
    "![Black and white picture of Godzilla and Mothra; Mothra flying to the upper left of Godzilla](images/godzilla_vs_mothra.png)"
   ]
  },
  {
   "cell_type": "markdown",
   "metadata": {
    "ExecuteTime": {
     "end_time": "2019-09-05T19:28:42.761136Z",
     "start_time": "2019-09-05T19:28:42.758251Z"
    }
   },
   "source": [
    "In the end, it should look something like this:\n",
    "    \n",
    "```python\n",
    "mothra.yell_battle_cry()\n",
    "godzilla.yell_battle_cry()\n",
    "\n",
    "winner = mothra.battles(godzilla)\n",
    "\n",
    "print(winner.name)\n",
    "winner.yell_battle_cry()\n",
    "\n",
    "```"
   ]
  },
  {
   "cell_type": "markdown",
   "metadata": {},
   "source": [
    "## But baby steps first!"
   ]
  },
  {
   "cell_type": "markdown",
   "metadata": {},
   "source": [
    "Let's build a Class called [`Megafauna`](https://en.wikipedia.org/wiki/Megafauna) so that we can setup other epic battles besides this one. So [Godzilla](https://en.wikipedia.org/wiki/Godzilla) & [Mothra](https://en.wikipedia.org/wiki/Mothra) will be come from this Class."
   ]
  },
  {
   "cell_type": "markdown",
   "metadata": {},
   "source": [
    "This `Megafauna` Class should at the very least include these properties & methods: \n",
    "\n",
    "- `animal_type` (mammal, reptile, amphibian, etc.)\n",
    "- `height` (in meters)\n",
    "- `weight` (in kilograms)\n",
    "- `battle_cry` what they should yell at their opponent\n",
    "- `yell_battle_cry()` yell at their opponent (based on their `battle_cry`)\n",
    "- `battle()` battles another `Megafauna` Object and returns the winner of the battle (no draws)\n",
    "- `opponents_defeated` a record of what opponents they defeated"
   ]
  },
  {
   "cell_type": "code",
   "execution_count": null,
   "metadata": {},
   "outputs": [],
   "source": [
    "# STARTER CODE\n",
    "class Megafauna(Object):\n",
    "    # defaults/initiate\n",
    "    # properties\n",
    "    # methods"
   ]
  },
  {
   "cell_type": "markdown",
   "metadata": {},
   "source": [
    "## It's Godzilla!!!"
   ]
  },
  {
   "cell_type": "markdown",
   "metadata": {},
   "source": [
    "Now create `godzilla` with all the necessary parts to take on their rival!"
   ]
  },
  {
   "cell_type": "code",
   "execution_count": null,
   "metadata": {},
   "outputs": [],
   "source": [
    "# Instantiate your Godzilla Object\n",
    "godzilla = # your code"
   ]
  },
  {
   "cell_type": "markdown",
   "metadata": {},
   "source": [
    "## Create Mothra"
   ]
  },
  {
   "cell_type": "markdown",
   "metadata": {},
   "source": [
    "Now we need the all powerful `mothra` so they challenge the amphibious beast!"
   ]
  },
  {
   "cell_type": "code",
   "execution_count": null,
   "metadata": {},
   "outputs": [],
   "source": [
    "# Instantiate your Mothra Object\n",
    "mothra = # your code"
   ]
  },
  {
   "cell_type": "markdown",
   "metadata": {},
   "source": [
    "# BATTLE TIME!!!"
   ]
  },
  {
   "cell_type": "markdown",
   "metadata": {},
   "source": [
    "Now let's watch this epic battle!\n",
    "\n",
    "![Stephen Colbert joyfully eating popcorn while wearing red-blue 3D glasses.](images/eating_popcorn.gif)"
   ]
  },
  {
   "cell_type": "markdown",
   "metadata": {},
   "source": [
    "Code below for their battle below! \n",
    "\n",
    "Make sure the code can print out the winner!!! Feel free to add any extra flair to the battle"
   ]
  },
  {
   "cell_type": "code",
   "execution_count": null,
   "metadata": {},
   "outputs": [],
   "source": [
    "# CODE HERE TO BATTLE MOTHRA & GODZILLA!!!"
   ]
  },
  {
   "cell_type": "markdown",
   "metadata": {},
   "source": [
    "# BONUS: Secret Level Unlocked! Going Back in Time!! ⏰"
   ]
  },
  {
   "cell_type": "markdown",
   "metadata": {},
   "source": [
    "Let's extend our code so we can fight dinosaurs with one another! We'll want to inherit from the class `Megafauna` to create a new class `Dinosaur`. \n",
    "\n",
    "We will want to add some new properties to the `Dinosaur` class that are specific to dinos. Then we can fight some dino!"
   ]
  },
  {
   "cell_type": "code",
   "execution_count": null,
   "metadata": {},
   "outputs": [],
   "source": [
    "# CODE BELOW TO INHERIT FROM Megafauna TO CREATE THE Dinosaur CLASS"
   ]
  },
  {
   "cell_type": "markdown",
   "metadata": {},
   "source": [
    "Now that we have code for `Dinosaur`, instantiate two dinos to fight! If you coded it right, you probably even have your dino and Godzilla or Mothra duke 'em out! 😱"
   ]
  },
  {
   "cell_type": "code",
   "execution_count": null,
   "metadata": {},
   "outputs": [],
   "source": [
    "# CODE OUT ANOTHER BATTLE AT LEAST ONE Dinosaur OBJECT"
   ]
  }
 ],
 "metadata": {
  "kernelspec": {
   "display_name": "Python 3",
   "language": "python",
   "name": "python3"
  },
  "language_info": {
   "codemirror_mode": {
    "name": "ipython",
    "version": 3
   },
   "file_extension": ".py",
   "mimetype": "text/x-python",
   "name": "python",
   "nbconvert_exporter": "python",
   "pygments_lexer": "ipython3",
   "version": "3.6.6"
  },
  "toc": {
   "base_numbering": 1,
   "nav_menu": {},
   "number_sections": true,
   "sideBar": true,
   "skip_h1_title": false,
   "title_cell": "Table of Contents",
   "title_sidebar": "Contents",
   "toc_cell": true,
   "toc_position": {},
   "toc_section_display": true,
   "toc_window_display": true
  },
  "varInspector": {
   "cols": {
    "lenName": 16,
    "lenType": 16,
    "lenVar": 40
   },
   "kernels_config": {
    "python": {
     "delete_cmd_postfix": "",
     "delete_cmd_prefix": "del ",
     "library": "var_list.py",
     "varRefreshCmd": "print(var_dic_list())"
    },
    "r": {
     "delete_cmd_postfix": ") ",
     "delete_cmd_prefix": "rm(",
     "library": "var_list.r",
     "varRefreshCmd": "cat(var_dic_list()) "
    }
   },
   "types_to_exclude": [
    "module",
    "function",
    "builtin_function_or_method",
    "instance",
    "_Feature"
   ],
   "window_display": false
  }
 },
 "nbformat": 4,
 "nbformat_minor": 2
}

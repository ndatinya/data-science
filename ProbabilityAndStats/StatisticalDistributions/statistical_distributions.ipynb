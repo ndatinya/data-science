{
 "cells": [
  {
   "cell_type": "markdown",
   "metadata": {
    "toc": true
   },
   "source": [
    "<h1>Table of Contents<span class=\"tocSkip\"></span></h1>\n",
    "<div class=\"toc\"><ul class=\"toc-item\"><li><span><a href=\"#Statistical-Distributions\" data-toc-modified-id=\"Statistical-Distributions-1\"><span class=\"toc-item-num\">1&nbsp;&nbsp;</span>Statistical Distributions</a></span></li><li><span><a href=\"#Normal-Distribution-(Bell-Curve)\" data-toc-modified-id=\"Normal-Distribution-(Bell-Curve)-2\"><span class=\"toc-item-num\">2&nbsp;&nbsp;</span>Normal Distribution (Bell Curve)</a></span><ul class=\"toc-item\"><li><span><a href=\"#Some-useful-equations\" data-toc-modified-id=\"Some-useful-equations-2.1\"><span class=\"toc-item-num\">2.1&nbsp;&nbsp;</span>Some useful equations</a></span></li></ul></li><li><span><a href=\"#Binomial-Distribution\" data-toc-modified-id=\"Binomial-Distribution-3\"><span class=\"toc-item-num\">3&nbsp;&nbsp;</span>Binomial Distribution</a></span><ul class=\"toc-item\"><li><span><a href=\"#Some-useful-equations\" data-toc-modified-id=\"Some-useful-equations-3.1\"><span class=\"toc-item-num\">3.1&nbsp;&nbsp;</span>Some useful equations</a></span></li></ul></li><li><span><a href=\"#More-Statistical-Distributions\" data-toc-modified-id=\"More-Statistical-Distributions-4\"><span class=\"toc-item-num\">4&nbsp;&nbsp;</span>More Statistical Distributions</a></span></li></ul></div>"
   ]
  },
  {
   "cell_type": "markdown",
   "metadata": {
    "heading_collapsed": true
   },
   "source": [
    "# Statistical Distributions"
   ]
  },
  {
   "cell_type": "markdown",
   "metadata": {
    "hidden": true
   },
   "source": [
    "Describes/summarizes probability of events within system or group"
   ]
  },
  {
   "cell_type": "markdown",
   "metadata": {
    "heading_collapsed": true
   },
   "source": [
    "# Normal Distribution (Bell Curve)"
   ]
  },
  {
   "cell_type": "markdown",
   "metadata": {
    "hidden": true
   },
   "source": [
    "Common in the real world"
   ]
  },
  {
   "cell_type": "markdown",
   "metadata": {
    "hidden": true
   },
   "source": [
    "<img src='https://thumbs.gfycat.com/QuaintTidyCockatiel-size_restricted.gif'/>"
   ]
  },
  {
   "cell_type": "markdown",
   "metadata": {
    "heading_collapsed": true,
    "hidden": true
   },
   "source": [
    "## Some useful equations"
   ]
  },
  {
   "cell_type": "markdown",
   "metadata": {
    "hidden": true
   },
   "source": [
    "$ p(x) = \\frac{1}{\\sqrt{2 \\pi \\sigma^2}}e^{- \\frac{(x-\\mu)^2}{2\\sigma^2}} $"
   ]
  },
  {
   "cell_type": "markdown",
   "metadata": {
    "hidden": true
   },
   "source": [
    "Mean:    $ \\mu $\n",
    "\n",
    "Std Dev: $ \\sigma $"
   ]
  },
  {
   "cell_type": "markdown",
   "metadata": {
    "heading_collapsed": true
   },
   "source": [
    "# Binomial Distribution"
   ]
  },
  {
   "cell_type": "markdown",
   "metadata": {
    "hidden": true
   },
   "source": [
    "_\"Probability of getting the number of successes in a given number of trials\"_"
   ]
  },
  {
   "cell_type": "markdown",
   "metadata": {
    "hidden": true
   },
   "source": [
    "<img width=40% src='https://upload.wikimedia.org/wikipedia/commons/thumb/b/b7/Binomial_Distribution.svg/500px-Binomial_Distribution.svg.png'/>\n",
    "\n",
    "[Wikipedia: Binomial Distribution](https://en.wikipedia.org/wiki/Binomial_distribution)"
   ]
  },
  {
   "cell_type": "markdown",
   "metadata": {
    "heading_collapsed": true,
    "hidden": true
   },
   "source": [
    "## Some useful equations"
   ]
  },
  {
   "cell_type": "markdown",
   "metadata": {
    "hidden": true
   },
   "source": [
    "Mean:    $ n  P(success)  = n  p$\n",
    "\n",
    "Std Dev: $ \\sqrt{n  p  (1 - p)} $\n",
    "\n",
    "Point Probability (success in $x$ tries): $ \\Big(\\frac{n!} {x! (n-x)!}\\Big) p^x (1 - p)^{n - x} $"
   ]
  },
  {
   "cell_type": "markdown",
   "metadata": {
    "heading_collapsed": true
   },
   "source": [
    "# More Statistical Distributions"
   ]
  },
  {
   "cell_type": "markdown",
   "metadata": {
    "hidden": true
   },
   "source": [
    "* Uniform Distribution\n",
    "* Negative Binomial Distribution\n",
    "* Geometric Distribution\n",
    "* Poisson Distribution\n",
    "* Exponential Distribution\n",
    "\n",
    "Notebook: [more_statistical_distributions.ipynb](more_statistical_distributions.ipynb)"
   ]
  }
 ],
 "metadata": {
  "kernelspec": {
   "display_name": "Python 3",
   "language": "python",
   "name": "python3"
  },
  "language_info": {
   "codemirror_mode": {
    "name": "ipython",
    "version": 3
   },
   "file_extension": ".py",
   "mimetype": "text/x-python",
   "name": "python",
   "nbconvert_exporter": "python",
   "pygments_lexer": "ipython3",
   "version": "3.7.1"
  },
  "toc": {
   "base_numbering": 1,
   "nav_menu": {},
   "number_sections": true,
   "sideBar": true,
   "skip_h1_title": false,
   "title_cell": "Table of Contents",
   "title_sidebar": "Contents",
   "toc_cell": true,
   "toc_position": {},
   "toc_section_display": true,
   "toc_window_display": true
  },
  "varInspector": {
   "cols": {
    "lenName": 16,
    "lenType": 16,
    "lenVar": 40
   },
   "kernels_config": {
    "python": {
     "delete_cmd_postfix": "",
     "delete_cmd_prefix": "del ",
     "library": "var_list.py",
     "varRefreshCmd": "print(var_dic_list())"
    },
    "r": {
     "delete_cmd_postfix": ") ",
     "delete_cmd_prefix": "rm(",
     "library": "var_list.r",
     "varRefreshCmd": "cat(var_dic_list()) "
    }
   },
   "types_to_exclude": [
    "module",
    "function",
    "builtin_function_or_method",
    "instance",
    "_Feature"
   ],
   "window_display": false
  }
 },
 "nbformat": 4,
 "nbformat_minor": 2
}

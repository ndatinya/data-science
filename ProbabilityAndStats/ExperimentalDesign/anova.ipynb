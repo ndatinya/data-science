{
 "cells": [
  {
   "cell_type": "markdown",
   "metadata": {
    "toc": true
   },
   "source": [
    "<h1>Table of Contents<span class=\"tocSkip\"></span></h1>\n",
    "<div class=\"toc\"><ul class=\"toc-item\"><li><span><a href=\"#ANOVA---An-Acronym,-Not-a-Stellar-Object\" data-toc-modified-id=\"ANOVA---An-Acronym,-Not-a-Stellar-Object-1\"><span class=\"toc-item-num\">1&nbsp;&nbsp;</span>ANOVA - An Acronym, Not a Stellar Object</a></span><ul class=\"toc-item\"><li><span><a href=\"#How-it-works---(let's-try-to-avoid-some-math)\" data-toc-modified-id=\"How-it-works---(let's-try-to-avoid-some-math)-1.1\"><span class=\"toc-item-num\">1.1&nbsp;&nbsp;</span>How it works - (let's try to avoid some math)</a></span><ul class=\"toc-item\"><li><span><a href=\"#How-much-the-groups-vary\" data-toc-modified-id=\"How-much-the-groups-vary-1.1.1\"><span class=\"toc-item-num\">1.1.1&nbsp;&nbsp;</span>How much the groups vary</a></span></li><li><span><a href=\"#How-much-do-the-groups-vary-from-within\" data-toc-modified-id=\"How-much-do-the-groups-vary-from-within-1.1.2\"><span class=\"toc-item-num\">1.1.2&nbsp;&nbsp;</span>How much do the groups vary from within</a></span></li><li><span><a href=\"#Calculate-F-statistic\" data-toc-modified-id=\"Calculate-F-statistic-1.1.3\"><span class=\"toc-item-num\">1.1.3&nbsp;&nbsp;</span>Calculate F-statistic</a></span></li></ul></li><li><span><a href=\"#Assumptions\" data-toc-modified-id=\"Assumptions-1.2\"><span class=\"toc-item-num\">1.2&nbsp;&nbsp;</span>Assumptions</a></span></li></ul></li><li><span><a href=\"#Code-It-Up!\" data-toc-modified-id=\"Code-It-Up!-2\"><span class=\"toc-item-num\">2&nbsp;&nbsp;</span>Code It Up!</a></span><ul class=\"toc-item\"><li><span><a href=\"#SciPy:-Using-f-Oneway-for-ANOVA-Test\" data-toc-modified-id=\"SciPy:-Using-f-Oneway-for-ANOVA-Test-2.1\"><span class=\"toc-item-num\">2.1&nbsp;&nbsp;</span>SciPy: Using f-Oneway for ANOVA Test</a></span></li><li><span><a href=\"#Knowledge-Check!-🧠-ANOVA-Table-with-Statsmodels\" data-toc-modified-id=\"Knowledge-Check!-🧠-ANOVA-Table-with-Statsmodels-2.2\"><span class=\"toc-item-num\">2.2&nbsp;&nbsp;</span>Knowledge Check! 🧠 ANOVA Table with Statsmodels</a></span><ul class=\"toc-item\"><li><span><a href=\"#Let's-get-only-some-of-the-columns-(start-simple)\" data-toc-modified-id=\"Let's-get-only-some-of-the-columns-(start-simple)-2.2.1\"><span class=\"toc-item-num\">2.2.1&nbsp;&nbsp;</span>Let's get only some of the columns (start simple)</a></span></li><li><span><a href=\"#Any-cleaning-of-the-columns-(renaming-too?)\" data-toc-modified-id=\"Any-cleaning-of-the-columns-(renaming-too?)-2.2.2\"><span class=\"toc-item-num\">2.2.2&nbsp;&nbsp;</span>Any cleaning of the columns (renaming too?)</a></span></li></ul></li></ul></li></ul></div>"
   ]
  },
  {
   "cell_type": "markdown",
   "metadata": {
    "heading_collapsed": true
   },
   "source": [
    "# ANOVA - An Acronym, Not a Stellar Object "
   ]
  },
  {
   "cell_type": "markdown",
   "metadata": {
    "hidden": true
   },
   "source": [
    "> https://en.wikipedia.org/wiki/Analysis_of_variance"
   ]
  },
  {
   "cell_type": "markdown",
   "metadata": {
    "hidden": true
   },
   "source": [
    "_Well, it is pretty stellar but not in the space sense_\n",
    "\n",
    "> Stands for \"analysis of variance\""
   ]
  },
  {
   "cell_type": "markdown",
   "metadata": {
    "hidden": true
   },
   "source": [
    "Looking to explain the variance as a combination\n",
    "\n",
    "> test all the things!"
   ]
  },
  {
   "cell_type": "markdown",
   "metadata": {
    "heading_collapsed": true,
    "hidden": true
   },
   "source": [
    "## How it works - (let's try to avoid some math)"
   ]
  },
  {
   "cell_type": "markdown",
   "metadata": {
    "hidden": true
   },
   "source": [
    "Like all tests, we calculate a statistic (F-ratio or F-statistic) to get a p-value to compare with the critical value"
   ]
  },
  {
   "cell_type": "markdown",
   "metadata": {
    "heading_collapsed": true,
    "hidden": true
   },
   "source": [
    "### How much the groups vary "
   ]
  },
  {
   "cell_type": "markdown",
   "metadata": {
    "hidden": true
   },
   "source": [
    "the between-group sum of squares\n",
    "\n",
    "$SS$: Residuals from the mean (all the groups together)"
   ]
  },
  {
   "cell_type": "markdown",
   "metadata": {
    "heading_collapsed": true,
    "hidden": true
   },
   "source": [
    "### How much do the groups vary from within "
   ]
  },
  {
   "cell_type": "markdown",
   "metadata": {
    "hidden": true
   },
   "source": [
    "within-group sums of squares\n",
    "\n",
    "$SS_{resid}$: Each group's residuals summed"
   ]
  },
  {
   "cell_type": "markdown",
   "metadata": {
    "heading_collapsed": true,
    "hidden": true
   },
   "source": [
    "### Calculate F-statistic"
   ]
  },
  {
   "cell_type": "markdown",
   "metadata": {
    "hidden": true
   },
   "source": [
    "Kinda-Ratio: $$\\frac{SS_{mean}-SS_{resid}}{SS_{resid}}$$\n",
    "\n",
    "\n",
    "This is (basically) the ratio to find the F-statistic but we haven't included degrees of freedom and such\n",
    "\n",
    "Check out this source for more: https://pythonfordatascience.org/anova-python/"
   ]
  },
  {
   "cell_type": "markdown",
   "metadata": {
    "heading_collapsed": true,
    "hidden": true
   },
   "source": [
    "## Assumptions "
   ]
  },
  {
   "cell_type": "markdown",
   "metadata": {
    "hidden": true
   },
   "source": [
    "1. The samples are independent.\n",
    "2. Each sample is from a normally distributed population.\n",
    "3. The population standard deviations of the groups are all equal. This property is known as homoscedasticity."
   ]
  },
  {
   "cell_type": "markdown",
   "metadata": {
    "hidden": true
   },
   "source": [
    "No good? To another test! (Suggested Kruskal-Wallis H-test but less power: https://docs.scipy.org/doc/scipy/reference/generated/scipy.stats.kruskal.html#scipy.stats.kruskal)"
   ]
  },
  {
   "cell_type": "markdown",
   "metadata": {},
   "source": [
    "# Code It Up!"
   ]
  },
  {
   "cell_type": "markdown",
   "metadata": {
    "heading_collapsed": true
   },
   "source": [
    "## SciPy: Using f-Oneway for ANOVA Test"
   ]
  },
  {
   "cell_type": "markdown",
   "metadata": {
    "hidden": true
   },
   "source": [
    "SciPy time: https://docs.scipy.org/doc/scipy/reference/generated/scipy.stats.f_oneway.html"
   ]
  },
  {
   "cell_type": "code",
   "execution_count": null,
   "metadata": {
    "ExecuteTime": {
     "end_time": "2019-10-03T17:21:44.286281Z",
     "start_time": "2019-10-03T17:21:43.356076Z"
    },
    "hidden": true
   },
   "outputs": [],
   "source": [
    "import scipy.stats as stats\n",
    "\n",
    "import numpy as np\n",
    "import pandas as pd\n",
    "\n",
    "# Plotting \n",
    "import seaborn as sns\n",
    "import matplotlib.pyplot as plt"
   ]
  },
  {
   "cell_type": "code",
   "execution_count": null,
   "metadata": {
    "ExecuteTime": {
     "end_time": "2019-10-03T17:22:14.563737Z",
     "start_time": "2019-10-03T17:22:14.560066Z"
    },
    "hidden": true
   },
   "outputs": [],
   "source": [
    "# Data found from above URL\n",
    "tillamook = [0.0571, 0.0813, 0.0831, 0.0976, 0.0817, 0.0859, 0.0735,\n",
    "             0.0659, 0.0923, 0.0836]\n",
    "newport = [0.0873, 0.0662, 0.0672, 0.0819, 0.0749, 0.0649, 0.0835,\n",
    "           0.0725]\n",
    "petersburg = [0.0974, 0.1352, 0.0817, 0.1016, 0.0968, 0.1064, 0.105]\n",
    "magadan = [0.1033, 0.0915, 0.0781, 0.0685, 0.0677, 0.0697, 0.0764,\n",
    "           0.0689]\n",
    "tvarminne = [0.0703, 0.1026, 0.0956, 0.0973, 0.1039, 0.1045]\n",
    "\n",
    "# Nice DF for us\n",
    "data = [ ]\n",
    "data += [('tillamook', v) for v in tillamook]\n",
    "data += [('newport', v) for v in newport]\n",
    "data += [('petersburg', v) for v in petersburg]\n",
    "data += [('magadan', v) for v in magadan]\n",
    "data += [('tvarminne', v) for v in tvarminne]"
   ]
  },
  {
   "cell_type": "code",
   "execution_count": null,
   "metadata": {
    "ExecuteTime": {
     "end_time": "2019-10-03T17:22:17.643892Z",
     "start_time": "2019-10-03T17:22:17.640424Z"
    },
    "hidden": true,
    "scrolled": true
   },
   "outputs": [],
   "source": [
    "df = pd.DataFrame(data=data, columns=['area','shell_standardized'])"
   ]
  },
  {
   "cell_type": "code",
   "execution_count": null,
   "metadata": {
    "ExecuteTime": {
     "end_time": "2019-10-03T17:22:23.914588Z",
     "start_time": "2019-10-03T17:22:23.905118Z"
    },
    "hidden": true,
    "scrolled": true
   },
   "outputs": [],
   "source": [
    "df.head(20)"
   ]
  },
  {
   "cell_type": "code",
   "execution_count": null,
   "metadata": {
    "ExecuteTime": {
     "end_time": "2019-10-03T17:24:41.531256Z",
     "start_time": "2019-10-03T17:24:41.188424Z"
    },
    "hidden": true,
    "scrolled": true
   },
   "outputs": [],
   "source": [
    "fig, ax = plt.subplots(figsize=(20,10))\n",
    "\n",
    "sns.boxplot(\n",
    "    x=\"area\",\n",
    "    y=\"shell_standardized\",\n",
    "    data=df,\n",
    "    ax=ax,\n",
    "    color='aqua', \n",
    "    linewidth=4\n",
    ")\n",
    "\n",
    "sns.swarmplot(\n",
    "    x=\"area\",\n",
    "    y=\"shell_standardized\",\n",
    "    data=df,\n",
    "    ax=ax,\n",
    "    color='orange', \n",
    "    alpha=0.9, \n",
    "    size=12\n",
    ")"
   ]
  },
  {
   "cell_type": "code",
   "execution_count": null,
   "metadata": {
    "ExecuteTime": {
     "end_time": "2019-10-03T17:25:20.125954Z",
     "start_time": "2019-10-03T17:25:19.838685Z"
    },
    "hidden": true,
    "scrolled": true
   },
   "outputs": [],
   "source": [
    "fig, ax = plt.subplots(figsize=(20,10))\n",
    "\n",
    "sns.violinplot(\n",
    "    y=\"shell_standardized\", \n",
    "    x=\"area\", \n",
    "    data=df, \n",
    "    ax=ax,\n",
    "    color='aqua',\n",
    "    inner=\"quartile\",  # Seeing the mean and quariles\n",
    "    bw=.3              # How much smoothing do we use\n",
    ")\n",
    "sns.swarmplot(ax=ax, x=\"area\", y=\"shell_standardized\", data=df, color='orange', alpha=0.9, size=12)"
   ]
  },
  {
   "cell_type": "code",
   "execution_count": null,
   "metadata": {
    "ExecuteTime": {
     "end_time": "2019-10-03T17:26:58.380121Z",
     "start_time": "2019-10-03T17:26:58.375928Z"
    },
    "hidden": true
   },
   "outputs": [],
   "source": [
    "# Is it significantly different?\n",
    "stats.f_oneway(tillamook, newport, petersburg, magadan, tvarminne)"
   ]
  },
  {
   "cell_type": "markdown",
   "metadata": {
    "heading_collapsed": true
   },
   "source": [
    "## Knowledge Check! 🧠 ANOVA Table with Statsmodels"
   ]
  },
  {
   "cell_type": "code",
   "execution_count": null,
   "metadata": {
    "ExecuteTime": {
     "end_time": "2019-10-03T17:30:03.175542Z",
     "start_time": "2019-10-03T17:30:02.901057Z"
    },
    "hidden": true
   },
   "outputs": [],
   "source": [
    "import statsmodels.api as sm\n",
    "from statsmodels.formula.api import ols"
   ]
  },
  {
   "cell_type": "code",
   "execution_count": null,
   "metadata": {
    "ExecuteTime": {
     "end_time": "2019-10-03T17:30:15.658786Z",
     "start_time": "2019-10-03T17:30:15.635460Z"
    },
    "hidden": true
   },
   "outputs": [],
   "source": [
    "# Read in data/flavors_of_cacao.csv\n",
    "df_cacao = pd.read_csv('data/flavors_of_cacao.csv')\n",
    "df_cacao.head()"
   ]
  },
  {
   "cell_type": "markdown",
   "metadata": {
    "ExecuteTime": {
     "end_time": "2019-10-03T16:48:27.330166Z",
     "start_time": "2019-10-03T16:48:27.325996Z"
    },
    "heading_collapsed": true,
    "hidden": true
   },
   "source": [
    "### Let's get only some of the columns (start simple)"
   ]
  },
  {
   "cell_type": "code",
   "execution_count": null,
   "metadata": {
    "ExecuteTime": {
     "end_time": "2019-10-03T17:31:42.920402Z",
     "start_time": "2019-10-03T17:31:42.916847Z"
    },
    "hidden": true
   },
   "outputs": [],
   "source": [
    "# Let's see the columns\n",
    "df_cacao.columns"
   ]
  },
  {
   "cell_type": "code",
   "execution_count": null,
   "metadata": {
    "ExecuteTime": {
     "end_time": "2019-10-03T17:33:35.520535Z",
     "start_time": "2019-10-03T17:33:35.512061Z"
    },
    "hidden": true
   },
   "outputs": [],
   "source": [
    "# Choose target as 'Rating' & at least one feature\n"
   ]
  },
  {
   "cell_type": "markdown",
   "metadata": {
    "ExecuteTime": {
     "end_time": "2019-10-03T16:53:10.307007Z",
     "start_time": "2019-10-03T16:53:10.304651Z"
    },
    "heading_collapsed": true,
    "hidden": true
   },
   "source": [
    "### Any cleaning of the columns (renaming too?)"
   ]
  },
  {
   "cell_type": "code",
   "execution_count": null,
   "metadata": {
    "ExecuteTime": {
     "end_time": "2019-10-03T17:36:14.549939Z",
     "start_time": "2019-10-03T17:36:14.539822Z"
    },
    "hidden": true,
    "scrolled": true
   },
   "outputs": [],
   "source": [
    "# Renaming?"
   ]
  },
  {
   "cell_type": "code",
   "execution_count": null,
   "metadata": {
    "hidden": true
   },
   "outputs": [],
   "source": [
    "# Anything else? (type?)"
   ]
  },
  {
   "cell_type": "code",
   "execution_count": null,
   "metadata": {
    "ExecuteTime": {
     "end_time": "2019-10-03T17:41:11.570282Z",
     "start_time": "2019-10-03T17:41:11.523458Z"
    },
    "hidden": true
   },
   "outputs": [],
   "source": [
    "# Perform the ANOVA (statsmodels ols)"
   ]
  }
 ],
 "metadata": {
  "kernelspec": {
   "display_name": "Python 3",
   "language": "python",
   "name": "python3"
  },
  "language_info": {
   "codemirror_mode": {
    "name": "ipython",
    "version": 3
   },
   "file_extension": ".py",
   "mimetype": "text/x-python",
   "name": "python",
   "nbconvert_exporter": "python",
   "pygments_lexer": "ipython3",
   "version": "3.7.1"
  },
  "toc": {
   "base_numbering": 1,
   "nav_menu": {},
   "number_sections": true,
   "sideBar": true,
   "skip_h1_title": false,
   "title_cell": "Table of Contents",
   "title_sidebar": "Contents",
   "toc_cell": true,
   "toc_position": {
    "height": "calc(100% - 180px)",
    "left": "10px",
    "top": "150px",
    "width": "172px"
   },
   "toc_section_display": true,
   "toc_window_display": true
  },
  "varInspector": {
   "cols": {
    "lenName": 16,
    "lenType": 16,
    "lenVar": 40
   },
   "kernels_config": {
    "python": {
     "delete_cmd_postfix": "",
     "delete_cmd_prefix": "del ",
     "library": "var_list.py",
     "varRefreshCmd": "print(var_dic_list())"
    },
    "r": {
     "delete_cmd_postfix": ") ",
     "delete_cmd_prefix": "rm(",
     "library": "var_list.r",
     "varRefreshCmd": "cat(var_dic_list()) "
    }
   },
   "types_to_exclude": [
    "module",
    "function",
    "builtin_function_or_method",
    "instance",
    "_Feature"
   ],
   "window_display": false
  }
 },
 "nbformat": 4,
 "nbformat_minor": 2
}

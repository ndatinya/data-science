{
 "cells": [
  {
   "cell_type": "markdown",
   "metadata": {
    "toc": true
   },
   "source": [
    "<h1>Table of Contents<span class=\"tocSkip\"></span></h1>\n",
    "<div class=\"toc\"><ul class=\"toc-item\"><li><span><a href=\"#Outside-References\" data-toc-modified-id=\"Outside-References-1\"><span class=\"toc-item-num\">1&nbsp;&nbsp;</span>Outside References</a></span></li><li><span><a href=\"#Capstone-Project\" data-toc-modified-id=\"Capstone-Project-2\"><span class=\"toc-item-num\">2&nbsp;&nbsp;</span>Capstone Project</a></span><ul class=\"toc-item\"><li><span><a href=\"#Goal\" data-toc-modified-id=\"Goal-2.1\"><span class=\"toc-item-num\">2.1&nbsp;&nbsp;</span>Goal</a></span></li><li><span><a href=\"#Expectations\" data-toc-modified-id=\"Expectations-2.2\"><span class=\"toc-item-num\">2.2&nbsp;&nbsp;</span>Expectations</a></span><ul class=\"toc-item\"><li><span><a href=\"#From-you\" data-toc-modified-id=\"From-you-2.2.1\"><span class=\"toc-item-num\">2.2.1&nbsp;&nbsp;</span>From you</a></span></li><li><span><a href=\"#From-Me\" data-toc-modified-id=\"From-Me-2.2.2\"><span class=\"toc-item-num\">2.2.2&nbsp;&nbsp;</span>From Me</a></span></li></ul></li><li><span><a href=\"#General-Timeline:-(1-month-FT-/-2-months-PT)\" data-toc-modified-id=\"General-Timeline:-(1-month-FT-/-2-months-PT)-2.3\"><span class=\"toc-item-num\">2.3&nbsp;&nbsp;</span>General Timeline: (1 month FT / 2 months PT)</a></span><ul class=\"toc-item\"><li><span><a href=\"#Main-Data-Chosen:-(Week-1-FT/-Week-2-PT)\" data-toc-modified-id=\"Main-Data-Chosen:-(Week-1-FT/-Week-2-PT)-2.3.1\"><span class=\"toc-item-num\">2.3.1&nbsp;&nbsp;</span>Main Data Chosen: (Week 1 FT/ Week 2 PT)</a></span></li><li><span><a href=\"#Data-Explored-&amp;-Cleaned:-(Week-2-FT/-Week-3-PT)\" data-toc-modified-id=\"Data-Explored-&amp;-Cleaned:-(Week-2-FT/-Week-3-PT)-2.3.2\"><span class=\"toc-item-num\">2.3.2&nbsp;&nbsp;</span>Data Explored &amp; Cleaned: (Week 2 FT/ Week 3 PT)</a></span></li><li><span><a href=\"#Assessments-Start:-(Week-3-FT/-Week-7-PT)\" data-toc-modified-id=\"Assessments-Start:-(Week-3-FT/-Week-7-PT)-2.3.3\"><span class=\"toc-item-num\">2.3.3&nbsp;&nbsp;</span>Assessments Start: (Week 3 FT/ Week 7 PT)</a></span></li><li><span><a href=\"#Course-Completion\" data-toc-modified-id=\"Course-Completion-2.3.4\"><span class=\"toc-item-num\">2.3.4&nbsp;&nbsp;</span>Course Completion</a></span></li></ul></li><li><span><a href=\"#Advice\" data-toc-modified-id=\"Advice-2.4\"><span class=\"toc-item-num\">2.4&nbsp;&nbsp;</span>Advice</a></span><ul class=\"toc-item\"><li><span><a href=\"#If-you-can,-make-it-related-to-the-industry-you-want-to-go-in\" data-toc-modified-id=\"If-you-can,-make-it-related-to-the-industry-you-want-to-go-in-2.4.1\"><span class=\"toc-item-num\">2.4.1&nbsp;&nbsp;</span>If you can, make it related to the industry you want to go in</a></span></li><li><span><a href=\"#Don't-use-&quot;boring&quot;-datasets\" data-toc-modified-id=\"Don't-use-&quot;boring&quot;-datasets-2.4.2\"><span class=\"toc-item-num\">2.4.2&nbsp;&nbsp;</span>Don't use \"boring\" datasets</a></span></li><li><span><a href=\"#Doesn't-have-to-be-completely-focused-on-&quot;ML&quot;\" data-toc-modified-id=\"Doesn't-have-to-be-completely-focused-on-&quot;ML&quot;-2.4.3\"><span class=\"toc-item-num\">2.4.3&nbsp;&nbsp;</span>Doesn't have to be completely focused on \"ML\"</a></span></li></ul></li><li><span><a href=\"#Fun-Extras\" data-toc-modified-id=\"Fun-Extras-2.5\"><span class=\"toc-item-num\">2.5&nbsp;&nbsp;</span>Fun Extras</a></span></li><li><span><a href=\"#Common-Issues\" data-toc-modified-id=\"Common-Issues-2.6\"><span class=\"toc-item-num\">2.6&nbsp;&nbsp;</span>Common Issues</a></span></li></ul></li><li><span><a href=\"#Questions-❓\" data-toc-modified-id=\"Questions-❓-3\"><span class=\"toc-item-num\">3&nbsp;&nbsp;</span>Questions ❓</a></span></li></ul></div>"
   ]
  },
  {
   "cell_type": "code",
   "execution_count": 1,
   "metadata": {
    "ExecuteTime": {
     "end_time": "2020-08-03T14:58:19.778751Z",
     "start_time": "2020-08-03T14:58:19.774282Z"
    }
   },
   "outputs": [],
   "source": [
    "from IPython.display import HTML"
   ]
  },
  {
   "cell_type": "code",
   "execution_count": 2,
   "metadata": {
    "ExecuteTime": {
     "end_time": "2020-08-03T14:58:19.790336Z",
     "start_time": "2020-08-03T14:58:19.781073Z"
    },
    "scrolled": true
   },
   "outputs": [
    {
     "data": {
      "text/html": [
       "<script>\n",
       "code_show=true; \n",
       "function code_toggle() {\n",
       " if (code_show){\n",
       " $('div.input').hide();\n",
       " } else {\n",
       " $('div.input').show();\n",
       " }\n",
       " code_show = !code_show\n",
       "} \n",
       "$( document ).ready(code_toggle);\n",
       "</script>\n",
       "<form action=\"javascript:code_toggle()\"><input type=\"submit\" value=\"Click here to toggle on/off the raw code.\"></form>"
      ],
      "text/plain": [
       "<IPython.core.display.HTML object>"
      ]
     },
     "execution_count": 2,
     "metadata": {},
     "output_type": "execute_result"
    }
   ],
   "source": [
    "# https://stackoverflow.com/questions/27934885/how-to-hide-code-from-cells-in-ipython-notebook-visualized-with-nbviewer\n",
    "HTML('''<script>\n",
    "code_show=true; \n",
    "function code_toggle() {\n",
    " if (code_show){\n",
    " $('div.input').hide();\n",
    " } else {\n",
    " $('div.input').show();\n",
    " }\n",
    " code_show = !code_show\n",
    "} \n",
    "$( document ).ready(code_toggle);\n",
    "</script>\n",
    "<form action=\"javascript:code_toggle()\"><input type=\"submit\" value=\"Click here to toggle on/off the raw code.\"></form>''')"
   ]
  },
  {
   "cell_type": "markdown",
   "metadata": {
    "heading_collapsed": true
   },
   "source": [
    "# Outside References"
   ]
  },
  {
   "cell_type": "markdown",
   "metadata": {
    "hidden": true
   },
   "source": [
    "* REPO: https://github.com/learn-co-students/dsc-capstone-project-v2-online-ds-sp-000\n",
    "* [Choosing a Project](https://docs.google.com/presentation/d/1lckHbOcYYNOTHbchWlQUZoa60dFEnSePjHfZFxL49qw/edit?usp=sharing)\n",
    "* [General Project Advice](../general_advice.ipynb)\n",
    "* Overview video (Jan 2020): https://youtu.be/isq8ES75_aI\n"
   ]
  },
  {
   "cell_type": "code",
   "execution_count": 3,
   "metadata": {
    "ExecuteTime": {
     "end_time": "2020-08-03T14:58:19.796260Z",
     "start_time": "2020-08-03T14:58:19.791928Z"
    },
    "hidden": true
   },
   "outputs": [
    {
     "data": {
      "text/html": [
       "<iframe width=\"560\" height=\"315\" src=\"https://www.youtube.com/embed/isq8ES75_aI\" frameborder=\"0\" allow=\"accelerometer; autoplay; encrypted-media; gyroscope; picture-in-picture\" allowfullscreen></iframe>"
      ],
      "text/plain": [
       "<IPython.core.display.HTML object>"
      ]
     },
     "execution_count": 3,
     "metadata": {},
     "output_type": "execute_result"
    }
   ],
   "source": [
    "\n",
    "HTML('<iframe width=\"560\" height=\"315\" src=\"https://www.youtube.com/embed/isq8ES75_aI\" frameborder=\"0\" allow=\"accelerometer; autoplay; encrypted-media; gyroscope; picture-in-picture\" allowfullscreen></iframe>')"
   ]
  },
  {
   "cell_type": "markdown",
   "metadata": {
    "heading_collapsed": true
   },
   "source": [
    "# Capstone Project"
   ]
  },
  {
   "cell_type": "markdown",
   "metadata": {
    "hidden": true
   },
   "source": [
    "![](../images/meme_welcome_to_capstone.jpg)"
   ]
  },
  {
   "cell_type": "markdown",
   "metadata": {
    "heading_collapsed": true,
    "hidden": true
   },
   "source": [
    "## Goal"
   ]
  },
  {
   "cell_type": "markdown",
   "metadata": {
    "hidden": true
   },
   "source": [
    "- An \"end-to-end\" project that shows you can pull insight relevant to your stakeholders"
   ]
  },
  {
   "cell_type": "markdown",
   "metadata": {
    "heading_collapsed": true,
    "hidden": true
   },
   "source": [
    "## Expectations"
   ]
  },
  {
   "cell_type": "markdown",
   "metadata": {
    "heading_collapsed": true,
    "hidden": true
   },
   "source": [
    "### From you"
   ]
  },
  {
   "cell_type": "markdown",
   "metadata": {
    "hidden": true
   },
   "source": [
    "- Be able to talk about the project in an interview\n",
    "- Show you can pull insight"
   ]
  },
  {
   "cell_type": "markdown",
   "metadata": {
    "heading_collapsed": true,
    "hidden": true
   },
   "source": [
    "### From Me"
   ]
  },
  {
   "cell_type": "markdown",
   "metadata": {
    "hidden": true
   },
   "source": [
    "- Guiding you!\n",
    "- Help with organizing\n",
    "- Advice on what will make your project good to talk about\n",
    "- Implementation help\n",
    "- Advice beyond the \"technical\""
   ]
  },
  {
   "cell_type": "markdown",
   "metadata": {
    "heading_collapsed": true,
    "hidden": true
   },
   "source": [
    "## General Timeline: (1 month FT / 2 months PT)"
   ]
  },
  {
   "cell_type": "markdown",
   "metadata": {
    "heading_collapsed": true,
    "hidden": true
   },
   "source": [
    "### Main Data Chosen: (Week 1 FT/ Week 2 PT) "
   ]
  },
  {
   "cell_type": "markdown",
   "metadata": {
    "heading_collapsed": true,
    "hidden": true
   },
   "source": [
    "### Data Explored & Cleaned: (Week 2 FT/ Week 3 PT) "
   ]
  },
  {
   "cell_type": "markdown",
   "metadata": {
    "heading_collapsed": true,
    "hidden": true
   },
   "source": [
    "### Assessments Start: (Week 3 FT/ Week 7 PT) "
   ]
  },
  {
   "cell_type": "markdown",
   "metadata": {
    "heading_collapsed": true,
    "hidden": true
   },
   "source": [
    "### Course Completion"
   ]
  },
  {
   "cell_type": "markdown",
   "metadata": {
    "heading_collapsed": true,
    "hidden": true
   },
   "source": [
    "## Advice"
   ]
  },
  {
   "cell_type": "markdown",
   "metadata": {
    "heading_collapsed": true,
    "hidden": true
   },
   "source": [
    "### If you can, make it related to the industry you want to go in"
   ]
  },
  {
   "cell_type": "markdown",
   "metadata": {
    "hidden": true
   },
   "source": [
    "- But can be industry agnostic\n",
    "- Find a project where you'd be excited to discuss\n",
    "![](../images/meme_interesting_project.jpg)"
   ]
  },
  {
   "cell_type": "markdown",
   "metadata": {
    "heading_collapsed": true,
    "hidden": true
   },
   "source": [
    "### Don't use \"boring\" datasets"
   ]
  },
  {
   "cell_type": "markdown",
   "metadata": {
    "hidden": true
   },
   "source": [
    "* Don't make it too simple\n",
    "![](../images/meme_simple_datasets.jpg)    "
   ]
  },
  {
   "cell_type": "markdown",
   "metadata": {
    "heading_collapsed": true,
    "hidden": true
   },
   "source": [
    "### Doesn't have to be completely focused on \"ML\""
   ]
  },
  {
   "cell_type": "markdown",
   "metadata": {
    "hidden": true
   },
   "source": [
    "* Doesn't have to be super complex!\n",
    "![](../images/meme_ml_focused.jpg)"
   ]
  },
  {
   "cell_type": "markdown",
   "metadata": {
    "hidden": true
   },
   "source": [
    "- Use a process: OSEMN/CRISP-DM\n",
    "- Set mini-deadlines\n",
    "![](../images/data_science_lifecycle.png)"
   ]
  },
  {
   "cell_type": "markdown",
   "metadata": {
    "heading_collapsed": true,
    "hidden": true
   },
   "source": [
    "## Fun Extras"
   ]
  },
  {
   "cell_type": "markdown",
   "metadata": {
    "hidden": true
   },
   "source": [
    "- Dashboard\n",
    "- Interactive website"
   ]
  },
  {
   "cell_type": "markdown",
   "metadata": {
    "heading_collapsed": true,
    "hidden": true
   },
   "source": [
    "## Common Issues"
   ]
  },
  {
   "cell_type": "markdown",
   "metadata": {
    "hidden": true
   },
   "source": [
    "- Not having a clear goal\n",
    "- Thinking you have to have \"good\" results\n",
    "\n",
    "\n",
    "- Careful with data (size & complexity)\n",
    "- Thinking it must be completely novel (Not a graduate thesis!)\n",
    "\n",
    "\n",
    "- Making it too big of a project\n",
    "- Not considering the time it takes to learn something completely new"
   ]
  },
  {
   "cell_type": "markdown",
   "metadata": {
    "heading_collapsed": true
   },
   "source": [
    "# Questions ❓"
   ]
  }
 ],
 "metadata": {
  "kernelspec": {
   "display_name": "Python 3",
   "language": "python",
   "name": "python3"
  },
  "language_info": {
   "codemirror_mode": {
    "name": "ipython",
    "version": 3
   },
   "file_extension": ".py",
   "mimetype": "text/x-python",
   "name": "python",
   "nbconvert_exporter": "python",
   "pygments_lexer": "ipython3",
   "version": "3.6.6"
  },
  "toc": {
   "base_numbering": 1,
   "nav_menu": {},
   "number_sections": true,
   "sideBar": false,
   "skip_h1_title": false,
   "title_cell": "Table of Contents",
   "title_sidebar": "Contents",
   "toc_cell": true,
   "toc_position": {},
   "toc_section_display": true,
   "toc_window_display": false
  },
  "varInspector": {
   "cols": {
    "lenName": 16,
    "lenType": 16,
    "lenVar": 40
   },
   "kernels_config": {
    "python": {
     "delete_cmd_postfix": "",
     "delete_cmd_prefix": "del ",
     "library": "var_list.py",
     "varRefreshCmd": "print(var_dic_list())"
    },
    "r": {
     "delete_cmd_postfix": ") ",
     "delete_cmd_prefix": "rm(",
     "library": "var_list.r",
     "varRefreshCmd": "cat(var_dic_list()) "
    }
   },
   "types_to_exclude": [
    "module",
    "function",
    "builtin_function_or_method",
    "instance",
    "_Feature"
   ],
   "window_display": false
  }
 },
 "nbformat": 4,
 "nbformat_minor": 2
}

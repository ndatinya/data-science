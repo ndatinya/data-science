{
 "cells": [
  {
   "cell_type": "markdown",
   "metadata": {
    "toc": true
   },
   "source": [
    "<h1>Table of Contents<span class=\"tocSkip\"></span></h1>\n",
    "<div class=\"toc\"><ul class=\"toc-item\"><li><span><a href=\"#Why-Are-Support-Vector-Machines-Cool?\" data-toc-modified-id=\"Why-Are-Support-Vector-Machines-Cool?-1\"><span class=\"toc-item-num\">1&nbsp;&nbsp;</span>Why Are Support Vector Machines Cool?</a></span><ul class=\"toc-item\"><li><span><a href=\"#Q:-When-would-it-be-&quot;better&quot;-to-have-a-defined-boundary-over-accuracy?\" data-toc-modified-id=\"Q:-When-would-it-be-&quot;better&quot;-to-have-a-defined-boundary-over-accuracy?-1.1\"><span class=\"toc-item-num\">1.1&nbsp;&nbsp;</span>Q: When would it be \"better\" to have a defined boundary over accuracy?</a></span></li></ul></li><li><span><a href=\"#Motivation\" data-toc-modified-id=\"Motivation-2\"><span class=\"toc-item-num\">2&nbsp;&nbsp;</span>Motivation</a></span><ul class=\"toc-item\"><li><span><a href=\"#Q:-Look-at-these-lines,-which-is-a-better-model?\" data-toc-modified-id=\"Q:-Look-at-these-lines,-which-is-a-better-model?-2.1\"><span class=\"toc-item-num\">2.1&nbsp;&nbsp;</span>Q: Look at these lines, which is a better model?</a></span></li><li><span><a href=\"#Accuracy-isn't-everything\" data-toc-modified-id=\"Accuracy-isn't-everything-2.2\"><span class=\"toc-item-num\">2.2&nbsp;&nbsp;</span>Accuracy isn't everything</a></span><ul class=\"toc-item\"><li><span><a href=\"#Q:-How-can-we-define-a-&quot;better&quot;-boundary-?\" data-toc-modified-id=\"Q:-How-can-we-define-a-&quot;better&quot;-boundary-?-2.2.1\"><span class=\"toc-item-num\">2.2.1&nbsp;&nbsp;</span>Q: How can we define a \"better\" boundary ?</a></span></li></ul></li><li><span><a href=\"#Where-do-we-go-from-here?\" data-toc-modified-id=\"Where-do-we-go-from-here?-2.3\"><span class=\"toc-item-num\">2.3&nbsp;&nbsp;</span>Where do we go from here?</a></span></li></ul></li><li><span><a href=\"#Recall-using-a-linear-model\" data-toc-modified-id=\"Recall-using-a-linear-model-3\"><span class=\"toc-item-num\">3&nbsp;&nbsp;</span>Recall using a linear model</a></span><ul class=\"toc-item\"><li><span><a href=\"#Classification-error\" data-toc-modified-id=\"Classification-error-3.1\"><span class=\"toc-item-num\">3.1&nbsp;&nbsp;</span>Classification error</a></span></li><li><span><a href=\"#Margin-error\" data-toc-modified-id=\"Margin-error-3.2\"><span class=\"toc-item-num\">3.2&nbsp;&nbsp;</span>Margin error</a></span></li><li><span><a href=\"#Gradient-Descent-to-minimize\" data-toc-modified-id=\"Gradient-Descent-to-minimize-3.3\"><span class=\"toc-item-num\">3.3&nbsp;&nbsp;</span>Gradient Descent to minimize</a></span></li></ul></li><li><span><a href=\"#Hyperparameter-$C$\" data-toc-modified-id=\"Hyperparameter-$C$-4\"><span class=\"toc-item-num\">4&nbsp;&nbsp;</span>Hyperparameter $C$</a></span><ul class=\"toc-item\"><li><span><a href=\"#Q:-What-happens-if-$C$-is-very-large?-(What-errors-do-we-care-about-more?)\" data-toc-modified-id=\"Q:-What-happens-if-$C$-is-very-large?-(What-errors-do-we-care-about-more?)-4.1\"><span class=\"toc-item-num\">4.1&nbsp;&nbsp;</span>Q: What happens if $C$ is very large? (What errors do we care about more?)</a></span></li></ul></li></ul></div>"
   ]
  },
  {
   "cell_type": "code",
   "execution_count": null,
   "metadata": {
    "ExecuteTime": {
     "end_time": "2019-08-26T13:12:04.985417Z",
     "start_time": "2019-08-26T13:12:03.917011Z"
    }
   },
   "outputs": [],
   "source": [
    "import numpy as np\n",
    "import pandas as pd\n",
    "import matplotlib.pyplot as plt\n",
    "\n",
    "import sklearn.datasets as datasets"
   ]
  },
  {
   "cell_type": "markdown",
   "metadata": {
    "heading_collapsed": true
   },
   "source": [
    "# Why Are Support Vector Machines Cool?"
   ]
  },
  {
   "cell_type": "markdown",
   "metadata": {
    "hidden": true
   },
   "source": [
    "![\"I support vector machines\" t-shirt with vector machine boundary and margin depicted with data](images/i_support_vector_machines.jpg)\n",
    "\n",
    "> Available now for [purchase](https://www.amazon.com/CafePress-Support-Vector-Machines-T-Shirt/dp/B072VLSLNY) 😉"
   ]
  },
  {
   "cell_type": "markdown",
   "metadata": {
    "hidden": true
   },
   "source": [
    "Another **supervised learning** technique to classify\n",
    "\n",
    "We can sacrifice accuracy to get _better_ boundaries"
   ]
  },
  {
   "cell_type": "markdown",
   "metadata": {
    "heading_collapsed": true,
    "hidden": true
   },
   "source": [
    "## Q: When would it be \"better\" to have a defined boundary over accuracy?"
   ]
  },
  {
   "cell_type": "markdown",
   "metadata": {
    "heading_collapsed": true
   },
   "source": [
    "# Motivation"
   ]
  },
  {
   "cell_type": "markdown",
   "metadata": {
    "heading_collapsed": true,
    "hidden": true
   },
   "source": [
    "## Q: Look at these lines, which is a better model?\n",
    "\n"
   ]
  },
  {
   "cell_type": "code",
   "execution_count": null,
   "metadata": {
    "ExecuteTime": {
     "end_time": "2019-08-26T13:12:05.206375Z",
     "start_time": "2019-08-26T13:12:04.988149Z"
    },
    "hidden": true
   },
   "outputs": [],
   "source": [
    "# Loading in an example dataset\n",
    "iris = datasets.load_iris()\n",
    "iris_data = iris.data\n",
    "\n",
    "# Only use two targets/classifications\n",
    "iris_targets = np.where(iris.target == 0, 0, 1)\n",
    "\n",
    "# Plotting different points\n",
    "plt.scatter(x=iris_data[:,2], y=iris_data[:,1], c=iris_targets)\n",
    "\n",
    "# Plotting lines to separate points\n",
    "l1 = np.array([[1,2],[6.5,4.5]])\n",
    "plt.plot(l1[:,0], l1[:,1], linestyle='--')\n",
    "l2 = np.array([[2,2],[3.5,4.5]])\n",
    "plt.plot(l2[:,0], l2[:,1], linestyle='--')"
   ]
  },
  {
   "cell_type": "markdown",
   "metadata": {
    "heading_collapsed": true,
    "hidden": true
   },
   "source": [
    "## Accuracy isn't everything"
   ]
  },
  {
   "cell_type": "markdown",
   "metadata": {
    "hidden": true
   },
   "source": [
    "Could say each line classifies the same (accuracy), but you know there's more to it.\n",
    "\n",
    "**Boundaries** are also important (think about overfitting)"
   ]
  },
  {
   "cell_type": "markdown",
   "metadata": {
    "heading_collapsed": true,
    "hidden": true
   },
   "source": [
    "### Q: How can we define a \"better\" boundary ?"
   ]
  },
  {
   "cell_type": "markdown",
   "metadata": {
    "hidden": true
   },
   "source": [
    "> Use distances from the line"
   ]
  },
  {
   "cell_type": "markdown",
   "metadata": {
    "hidden": true
   },
   "source": [
    "We can define this as the **margin**"
   ]
  },
  {
   "cell_type": "code",
   "execution_count": null,
   "metadata": {
    "ExecuteTime": {
     "end_time": "2019-08-26T13:12:05.350309Z",
     "start_time": "2019-08-26T13:12:05.208200Z"
    },
    "hidden": true
   },
   "outputs": [],
   "source": [
    "# Plotting different points\n",
    "plt.scatter(x=iris_data[:,2], y=iris_data[:,1], c=iris_targets)\n",
    "\n",
    "# Plotting lines to separate points\n",
    "plt.plot(l2[:,0], l2[:,1], linestyle='-')\n",
    "\n",
    "# Small margin\n",
    "margin_small = np.array([0.2,0])\n",
    "l2_margin_pos_small = l2 + margin_small\n",
    "l2_margin_neg_small = l2 - margin_small\n",
    "\n",
    "margin_larger = np.array([0.5,0])\n",
    "l2_margin_pos_big = l2 + margin_larger\n",
    "l2_margin_neg_big = l2 - margin_larger\n",
    "\n",
    "# Plot with margins\n",
    "plt.plot(l2_margin_pos_small[:,0], l2_margin_pos_small[:,1], linestyle='--', color='orange')\n",
    "plt.plot(l2_margin_neg_small[:,0], l2_margin_neg_small[:,1], linestyle='--', color='orange')\n",
    "plt.plot(l2_margin_pos_big[:,0], l2_margin_pos_big[:,1], linestyle='--', color='red')\n",
    "plt.plot(l2_margin_neg_big[:,0], l2_margin_neg_big[:,1], linestyle='--', color='red')\n",
    "\n",
    "plt.xlim(1,5)"
   ]
  },
  {
   "cell_type": "markdown",
   "metadata": {
    "heading_collapsed": true,
    "hidden": true
   },
   "source": [
    "## Where do we go from here?"
   ]
  },
  {
   "cell_type": "markdown",
   "metadata": {
    "hidden": true
   },
   "source": [
    "We minimize the two kinds of error:\n",
    " - how many are \"misclassified\" \n",
    " - how many are in bad boundary (within margin)\n",
    " "
   ]
  },
  {
   "cell_type": "markdown",
   "metadata": {
    "hidden": true
   },
   "source": [
    "This gives us something like this:\n",
    "\n",
    "$Error_{total} = Error_{classification} + Error_{margin}$\n",
    " "
   ]
  },
  {
   "cell_type": "markdown",
   "metadata": {
    "heading_collapsed": true
   },
   "source": [
    "# Recall using a linear model"
   ]
  },
  {
   "cell_type": "markdown",
   "metadata": {
    "hidden": true
   },
   "source": [
    "The errors closest to the line, get punished more! → increases error linear to parallel lines\n",
    "\n",
    "+ $Wx + b = 0$\n",
    "+ $Wx + b = 1$\n",
    "+ $Wx + b = 2$"
   ]
  },
  {
   "cell_type": "markdown",
   "metadata": {
    "heading_collapsed": true,
    "hidden": true
   },
   "source": [
    "## Classification error"
   ]
  },
  {
   "cell_type": "markdown",
   "metadata": {
    "hidden": true
   },
   "source": [
    "- We start from our margin to count the error (instead of the center)"
   ]
  },
  {
   "cell_type": "markdown",
   "metadata": {
    "heading_collapsed": true,
    "hidden": true
   },
   "source": [
    "## Margin error"
   ]
  },
  {
   "cell_type": "markdown",
   "metadata": {
    "hidden": true
   },
   "source": [
    "- $E = |W|^2 = ||W_1||+||W_2|| + …$ \n",
    "    + big vs small margin (we want very large)\n",
    "- $M = \\frac{2}{||W||}$ \n",
    "    + inverse proportion, large margin → small error\n",
    "\n",
    "Turns out to the same as the L2 Regularization!"
   ]
  },
  {
   "cell_type": "markdown",
   "metadata": {
    "heading_collapsed": true,
    "hidden": true
   },
   "source": [
    "## Gradient Descent to minimize"
   ]
  },
  {
   "cell_type": "markdown",
   "metadata": {
    "heading_collapsed": true
   },
   "source": [
    "# Hyperparameter $C$ "
   ]
  },
  {
   "cell_type": "markdown",
   "metadata": {
    "hidden": true
   },
   "source": [
    "Gives us a way to decide on which line is better (even if classification is worse)"
   ]
  },
  {
   "cell_type": "markdown",
   "metadata": {
    "hidden": true
   },
   "source": [
    "$Error_{total} = C \\cdot Error_{classification} + Error_{margin}$"
   ]
  },
  {
   "cell_type": "markdown",
   "metadata": {
    "heading_collapsed": true,
    "hidden": true
   },
   "source": [
    "## Q: What happens if $C$ is very large? (What errors do we care about more?)"
   ]
  },
  {
   "cell_type": "markdown",
   "metadata": {
    "hidden": true
   },
   "source": [
    "Big $C$ will give us smaller $C$ (we like small margins to avoid errors)"
   ]
  }
 ],
 "metadata": {
  "kernelspec": {
   "display_name": "Python 3",
   "language": "python",
   "name": "python3"
  },
  "language_info": {
   "codemirror_mode": {
    "name": "ipython",
    "version": 3
   },
   "file_extension": ".py",
   "mimetype": "text/x-python",
   "name": "python",
   "nbconvert_exporter": "python",
   "pygments_lexer": "ipython3",
   "version": "3.6.6"
  },
  "toc": {
   "base_numbering": 1,
   "nav_menu": {},
   "number_sections": true,
   "sideBar": true,
   "skip_h1_title": false,
   "title_cell": "Table of Contents",
   "title_sidebar": "Contents",
   "toc_cell": true,
   "toc_position": {
    "height": "calc(100% - 180px)",
    "left": "10px",
    "top": "150px",
    "width": "165px"
   },
   "toc_section_display": true,
   "toc_window_display": true
  },
  "varInspector": {
   "cols": {
    "lenName": 16,
    "lenType": 16,
    "lenVar": 40
   },
   "kernels_config": {
    "python": {
     "delete_cmd_postfix": "",
     "delete_cmd_prefix": "del ",
     "library": "var_list.py",
     "varRefreshCmd": "print(var_dic_list())"
    },
    "r": {
     "delete_cmd_postfix": ") ",
     "delete_cmd_prefix": "rm(",
     "library": "var_list.r",
     "varRefreshCmd": "cat(var_dic_list()) "
    }
   },
   "types_to_exclude": [
    "module",
    "function",
    "builtin_function_or_method",
    "instance",
    "_Feature"
   ],
   "window_display": false
  }
 },
 "nbformat": 4,
 "nbformat_minor": 2
}

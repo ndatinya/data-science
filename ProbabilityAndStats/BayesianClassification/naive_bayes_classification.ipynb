{
 "cells": [
  {
   "cell_type": "markdown",
   "metadata": {
    "toc": true
   },
   "source": [
    "<h1>Table of Contents<span class=\"tocSkip\"></span></h1>\n",
    "<div class=\"toc\"><ul class=\"toc-item\"><li><span><a href=\"#Bayesian-Classifier-🧐\" data-toc-modified-id=\"Bayesian-Classifier-🧐-1\"><span class=\"toc-item-num\">1&nbsp;&nbsp;</span>Bayesian Classifier 🧐</a></span><ul class=\"toc-item\"><li><span><a href=\"#Aside:-Supervised-Learning-(Classification)\" data-toc-modified-id=\"Aside:-Supervised-Learning-(Classification)-1.1\"><span class=\"toc-item-num\">1.1&nbsp;&nbsp;</span>Aside: Supervised Learning (Classification)</a></span><ul class=\"toc-item\"><li><span><a href=\"#Classic-example-is-image-classification:-dog-or-cat?\" data-toc-modified-id=\"Classic-example-is-image-classification:-dog-or-cat?-1.1.1\"><span class=\"toc-item-num\">1.1.1&nbsp;&nbsp;</span>Classic example is image classification: dog or cat?</a></span></li><li><span><a href=\"#WARNING!\" data-toc-modified-id=\"WARNING!-1.1.2\"><span class=\"toc-item-num\">1.1.2&nbsp;&nbsp;</span>WARNING!</a></span></li></ul></li></ul></li><li><span><a href=\"#Spam,-Spam,-Spam,-Spam,-Spam...\" data-toc-modified-id=\"Spam,-Spam,-Spam,-Spam,-Spam...-2\"><span class=\"toc-item-num\">2&nbsp;&nbsp;</span>Spam, Spam, Spam, Spam, Spam...</a></span><ul class=\"toc-item\"><li><span><a href=\"#Naive-Bayes-Setup\" data-toc-modified-id=\"Naive-Bayes-Setup-2.1\"><span class=\"toc-item-num\">2.1&nbsp;&nbsp;</span>Naive Bayes Setup</a></span></li><li><span><a href=\"#Q:-Why-is-this-awesome?\" data-toc-modified-id=\"Q:-Why-is-this-awesome?-2.2\"><span class=\"toc-item-num\">2.2&nbsp;&nbsp;</span>Q: Why is this awesome?</a></span></li></ul></li><li><span><a href=\"#Let's-Do-It!-Naive-Bayes!\" data-toc-modified-id=\"Let's-Do-It!-Naive-Bayes!-3\"><span class=\"toc-item-num\">3&nbsp;&nbsp;</span>Let's Do It! Naive Bayes!</a></span><ul class=\"toc-item\"><li><span><a href=\"#The-naive-assumption\" data-toc-modified-id=\"The-naive-assumption-3.1\"><span class=\"toc-item-num\">3.1&nbsp;&nbsp;</span>The naive assumption</a></span></li><li><span><a href=\"#Ok,-now-let's-do-it!\" data-toc-modified-id=\"Ok,-now-let's-do-it!-3.2\"><span class=\"toc-item-num\">3.2&nbsp;&nbsp;</span>Ok, now let's do it!</a></span><ul class=\"toc-item\"><li><span><a href=\"#The-formula\" data-toc-modified-id=\"The-formula-3.2.1\"><span class=\"toc-item-num\">3.2.1&nbsp;&nbsp;</span>The formula</a></span></li><li><span><a href=\"#Knowledge-Check!-🧠\" data-toc-modified-id=\"Knowledge-Check!-🧠-3.2.2\"><span class=\"toc-item-num\">3.2.2&nbsp;&nbsp;</span>Knowledge Check! 🧠</a></span><ul class=\"toc-item\"><li><span><a href=\"#How-do-we-find-$P(&quot;cash&quot;)$?\" data-toc-modified-id=\"How-do-we-find-$P(&quot;cash&quot;)$?-3.2.2.1\"><span class=\"toc-item-num\">3.2.2.1&nbsp;&nbsp;</span>How do we find $P(\"cash\")$?</a></span></li><li><span><a href=\"#What-about-$P(spam)$?\" data-toc-modified-id=\"What-about-$P(spam)$?-3.2.2.2\"><span class=\"toc-item-num\">3.2.2.2&nbsp;&nbsp;</span>What about $P(spam)$?</a></span></li><li><span><a href=\"#What-does-$P(&quot;cash&quot;-|-spam)$-mean?\" data-toc-modified-id=\"What-does-$P(&quot;cash&quot;-|-spam)$-mean?-3.2.2.3\"><span class=\"toc-item-num\">3.2.2.3&nbsp;&nbsp;</span>What does $P(\"cash\" | spam)$ mean?</a></span></li></ul></li><li><span><a href=\"#Calculate-it!\" data-toc-modified-id=\"Calculate-it!-3.2.3\"><span class=\"toc-item-num\">3.2.3&nbsp;&nbsp;</span>Calculate it!</a></span></li><li><span><a href=\"#Using-multiple-words\" data-toc-modified-id=\"Using-multiple-words-3.2.4\"><span class=\"toc-item-num\">3.2.4&nbsp;&nbsp;</span>Using multiple words</a></span></li></ul></li></ul></li></ul></div>"
   ]
  },
  {
   "cell_type": "markdown",
   "metadata": {
    "heading_collapsed": true
   },
   "source": [
    "# Bayesian Classifier 🧐"
   ]
  },
  {
   "cell_type": "markdown",
   "metadata": {
    "hidden": true
   },
   "source": [
    "We can classify by using prior evidence and/or knowledge to determine what something actually is"
   ]
  },
  {
   "cell_type": "markdown",
   "metadata": {
    "heading_collapsed": true,
    "hidden": true
   },
   "source": [
    "## Aside: Supervised Learning (Classification)"
   ]
  },
  {
   "cell_type": "markdown",
   "metadata": {
    "hidden": true
   },
   "source": [
    "Categorizing compared to linear regression"
   ]
  },
  {
   "cell_type": "markdown",
   "metadata": {
    "heading_collapsed": true,
    "hidden": true
   },
   "source": [
    "### Classic example is image classification: dog or cat? "
   ]
  },
  {
   "cell_type": "markdown",
   "metadata": {
    "hidden": true
   },
   "source": [
    "![Dog wearing knitted cat hat](images/dog_or_cat.jpg)"
   ]
  },
  {
   "cell_type": "markdown",
   "metadata": {
    "heading_collapsed": true,
    "hidden": true
   },
   "source": [
    "### WARNING!"
   ]
  },
  {
   "cell_type": "markdown",
   "metadata": {
    "hidden": true
   },
   "source": [
    "→ Doesn't refer to the _degree_ of classification but focuses on how likely they are the correctly classified (subtle)\n",
    "\n",
    "> This email is more spammy than the other, but they're both spam"
   ]
  },
  {
   "cell_type": "markdown",
   "metadata": {
    "heading_collapsed": true
   },
   "source": [
    "# Spam, Spam, Spam, Spam, Spam..."
   ]
  },
  {
   "cell_type": "markdown",
   "metadata": {
    "hidden": true
   },
   "source": [
    "![Many cans of spam](images/wall_of_spam.jpeg)"
   ]
  },
  {
   "cell_type": "markdown",
   "metadata": {
    "hidden": true
   },
   "source": [
    "This is the classic example: detecting email spam!"
   ]
  },
  {
   "cell_type": "markdown",
   "metadata": {
    "heading_collapsed": true,
    "hidden": true
   },
   "source": [
    "## Naive Bayes Setup"
   ]
  },
  {
   "cell_type": "markdown",
   "metadata": {
    "hidden": true
   },
   "source": [
    "What we gotta do:\n",
    "\n",
    "1. Look at spam and not spam (ham) emails\n",
    "2. Identify words that suggest classification\n",
    "3. Determine probability that words occur in each classification\n",
    "4. Profit (classify new emails as \"spam\" or \"ham\")"
   ]
  },
  {
   "cell_type": "markdown",
   "metadata": {
    "heading_collapsed": true,
    "hidden": true
   },
   "source": [
    "## Q: Why is this awesome?"
   ]
  },
  {
   "cell_type": "markdown",
   "metadata": {
    "hidden": true
   },
   "source": [
    "- We can keep updating our belief based on the email we detect\n",
    "- Relatively simple\n",
    "- Can expand to multiple words"
   ]
  },
  {
   "cell_type": "markdown",
   "metadata": {
    "heading_collapsed": true
   },
   "source": [
    "# Let's Do It! Naive Bayes!"
   ]
  },
  {
   "cell_type": "markdown",
   "metadata": {
    "hidden": true
   },
   "source": [
    "Hold up! We gotta first go over our assumption..."
   ]
  },
  {
   "cell_type": "markdown",
   "metadata": {
    "heading_collapsed": true,
    "hidden": true
   },
   "source": [
    "## The naive assumption"
   ]
  },
  {
   "cell_type": "markdown",
   "metadata": {
    "hidden": true
   },
   "source": [
    "$P(A,B) = P(A\\cap B) = P(A)\\ P(B)$ only if independent \n",
    "\n",
    "In practice, makes sense & is usually pretty good assumption"
   ]
  },
  {
   "cell_type": "markdown",
   "metadata": {
    "heading_collapsed": true,
    "hidden": true
   },
   "source": [
    "## Ok, now let's do it!"
   ]
  },
  {
   "cell_type": "markdown",
   "metadata": {
    "heading_collapsed": true,
    "hidden": true
   },
   "source": [
    "### The formula\n",
    "\n",
    "Let's say the word that occurs is \"cash\":\n",
    "\n",
    "$$ P(spam | \"cash\") = \\frac{P(\"cash\" | spam)P(spam)}{P(\"cash\")}$$  "
   ]
  },
  {
   "cell_type": "markdown",
   "metadata": {
    "hidden": true
   },
   "source": [
    "Let's split this up some"
   ]
  },
  {
   "cell_type": "markdown",
   "metadata": {
    "heading_collapsed": true,
    "hidden": true
   },
   "source": [
    "### Knowledge Check! 🧠"
   ]
  },
  {
   "cell_type": "markdown",
   "metadata": {
    "heading_collapsed": true,
    "hidden": true
   },
   "source": [
    "#### How do we find $P(\"cash\")$?"
   ]
  },
  {
   "cell_type": "markdown",
   "metadata": {
    "hidden": true
   },
   "source": [
    "That's just the probability of finding the word \"cash\"! Frequency of the word!"
   ]
  },
  {
   "cell_type": "code",
   "execution_count": null,
   "metadata": {
    "ExecuteTime": {
     "end_time": "2019-10-04T17:31:26.855093Z",
     "start_time": "2019-10-04T17:31:26.846770Z"
    },
    "hidden": true
   },
   "outputs": [],
   "source": [
    "# Let's just say 2% of all the words are the word \"cash\"\n",
    "p_cash = 0.02"
   ]
  },
  {
   "cell_type": "markdown",
   "metadata": {
    "heading_collapsed": true,
    "hidden": true
   },
   "source": [
    "#### What about $P(spam)$?"
   ]
  },
  {
   "cell_type": "markdown",
   "metadata": {
    "hidden": true
   },
   "source": [
    "Well, we start with some data (_prior knowledge_). So frequency of the spam occuring!"
   ]
  },
  {
   "cell_type": "code",
   "execution_count": null,
   "metadata": {
    "ExecuteTime": {
     "end_time": "2019-10-04T17:32:35.888446Z",
     "start_time": "2019-10-04T17:32:35.885118Z"
    },
    "hidden": true
   },
   "outputs": [],
   "source": [
    "# We normally would measure this from our data, but we'll take \n",
    "# it that 10% of all emails we collected were spam\n",
    "p_spam = 0.10"
   ]
  },
  {
   "cell_type": "markdown",
   "metadata": {
    "heading_collapsed": true,
    "hidden": true
   },
   "source": [
    "#### What does $P(\"cash\" | spam)$ mean?"
   ]
  },
  {
   "cell_type": "markdown",
   "metadata": {
    "hidden": true
   },
   "source": [
    "How frequently is \"cash\" used in a known spam emails. Count the frequency across all spam emails"
   ]
  },
  {
   "cell_type": "code",
   "execution_count": null,
   "metadata": {
    "ExecuteTime": {
     "end_time": "2019-10-04T17:34:09.145567Z",
     "start_time": "2019-10-04T17:34:09.143357Z"
    },
    "hidden": true
   },
   "outputs": [],
   "source": [
    "# 12% of all words in a spam email have the word \"cash\"\n",
    "p_cash_given_its_spam = 0.12"
   ]
  },
  {
   "cell_type": "markdown",
   "metadata": {
    "heading_collapsed": true,
    "hidden": true
   },
   "source": [
    "### Calculate it!"
   ]
  },
  {
   "cell_type": "code",
   "execution_count": null,
   "metadata": {
    "ExecuteTime": {
     "end_time": "2019-10-04T17:34:10.729396Z",
     "start_time": "2019-10-04T17:34:10.726517Z"
    },
    "hidden": true
   },
   "outputs": [],
   "source": [
    "p_spam_given_cash = p_cash_given_its_spam * p_spam / p_cash\n",
    "print(f'If the email has the word \"cash\" in it, there is a {p_spam_given_cash*100}% chance the email is spam')"
   ]
  },
  {
   "cell_type": "markdown",
   "metadata": {
    "hidden": true
   },
   "source": [
    "**Check it**: Does this make sense?"
   ]
  },
  {
   "cell_type": "markdown",
   "metadata": {
    "heading_collapsed": true,
    "hidden": true
   },
   "source": [
    "### Using multiple words"
   ]
  },
  {
   "cell_type": "markdown",
   "metadata": {
    "hidden": true
   },
   "source": [
    "Spam:\n",
    "\n",
    "$$ P(spam\\ |\"buy\",\\ \"cash\") \\propto P(\"buy\",\\ \"cash\"|\\ spam)\\ P(spam)$$"
   ]
  },
  {
   "cell_type": "markdown",
   "metadata": {
    "hidden": true
   },
   "source": [
    "But because of independence: \n",
    "    \n",
    "$$ P(\"buy\",\\ \"cash\"|\\ spam) = P(\"buy\"|\\ spam)\\ P(\"cash\"|\\ spam)$$"
   ]
  },
  {
   "cell_type": "markdown",
   "metadata": {
    "hidden": true
   },
   "source": [
    "> If we have multiple words, we use the independence assumption to \"split\" the probabilities!\n",
    "\n"
   ]
  },
  {
   "cell_type": "markdown",
   "metadata": {
    "hidden": true
   },
   "source": [
    "Normalize by dividing!\n",
    "\n",
    "$$ \n",
    "P(spam\\ |\"buy\",\\ \"cash\") = \n",
    "    \\frac\n",
    "        {P(\"buy\"|\\ spam)P(\"cash\"|\\ spam)\\ P(spam)}\n",
    "        {P(\"buy\"|\\ spam)P(\"cash\"|\\ spam)\\ P(spam) + P(\"buy\"|\\ ham)P(\"cash\"|\\ ham)\\ P(ham)}\n",
    "$$"
   ]
  },
  {
   "cell_type": "markdown",
   "metadata": {
    "hidden": true
   },
   "source": [
    "> **Note:** If we wanted to find the most probable class (especially useful for multiclass), we find the maximum numerator for the given criteris"
   ]
  }
 ],
 "metadata": {
  "kernelspec": {
   "display_name": "Python 3",
   "language": "python",
   "name": "python3"
  },
  "language_info": {
   "codemirror_mode": {
    "name": "ipython",
    "version": 3
   },
   "file_extension": ".py",
   "mimetype": "text/x-python",
   "name": "python",
   "nbconvert_exporter": "python",
   "pygments_lexer": "ipython3",
   "version": "3.7.1"
  },
  "toc": {
   "base_numbering": 1,
   "nav_menu": {},
   "number_sections": true,
   "sideBar": true,
   "skip_h1_title": false,
   "title_cell": "Table of Contents",
   "title_sidebar": "Contents",
   "toc_cell": true,
   "toc_position": {},
   "toc_section_display": true,
   "toc_window_display": true
  },
  "varInspector": {
   "cols": {
    "lenName": 16,
    "lenType": 16,
    "lenVar": 40
   },
   "kernels_config": {
    "python": {
     "delete_cmd_postfix": "",
     "delete_cmd_prefix": "del ",
     "library": "var_list.py",
     "varRefreshCmd": "print(var_dic_list())"
    },
    "r": {
     "delete_cmd_postfix": ") ",
     "delete_cmd_prefix": "rm(",
     "library": "var_list.r",
     "varRefreshCmd": "cat(var_dic_list()) "
    }
   },
   "types_to_exclude": [
    "module",
    "function",
    "builtin_function_or_method",
    "instance",
    "_Feature"
   ],
   "window_display": false
  }
 },
 "nbformat": 4,
 "nbformat_minor": 2
}

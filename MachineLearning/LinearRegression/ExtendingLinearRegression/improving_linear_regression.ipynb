{
 "cells": [
  {
   "cell_type": "markdown",
   "metadata": {
    "toc": true
   },
   "source": [
    "<h1>Table of Contents<span class=\"tocSkip\"></span></h1>\n",
    "<div class=\"toc\"><ul class=\"toc-item\"><li><span><a href=\"#Interactions\" data-toc-modified-id=\"Interactions-1\"><span class=\"toc-item-num\">1&nbsp;&nbsp;</span>Interactions</a></span><ul class=\"toc-item\"><li><span><a href=\"#Confounding-factor\" data-toc-modified-id=\"Confounding-factor-1.1\"><span class=\"toc-item-num\">1.1&nbsp;&nbsp;</span>Confounding factor</a></span></li><li><span><a href=\"#Example-of-slight-interaction-(mostly-additive)\" data-toc-modified-id=\"Example-of-slight-interaction-(mostly-additive)-1.2\"><span class=\"toc-item-num\">1.2&nbsp;&nbsp;</span>Example of slight interaction (mostly additive)</a></span></li><li><span><a href=\"#Example-of-interaction-(definitley-not-additive)\" data-toc-modified-id=\"Example-of-interaction-(definitley-not-additive)-1.3\"><span class=\"toc-item-num\">1.3&nbsp;&nbsp;</span>Example of interaction (definitley not additive)</a></span></li></ul></li><li><span><a href=\"#Polynomial-Regressions\" data-toc-modified-id=\"Polynomial-Regressions-2\"><span class=\"toc-item-num\">2&nbsp;&nbsp;</span>Polynomial Regressions</a></span><ul class=\"toc-item\"><li><span><a href=\"#Making-it-more-complex!\" data-toc-modified-id=\"Making-it-more-complex!-2.1\"><span class=\"toc-item-num\">2.1&nbsp;&nbsp;</span>Making it more complex!</a></span></li><li><span><a href=\"#Discussion\" data-toc-modified-id=\"Discussion-2.2\"><span class=\"toc-item-num\">2.2&nbsp;&nbsp;</span>Discussion</a></span></li></ul></li></ul></div>"
   ]
  },
  {
   "cell_type": "markdown",
   "metadata": {},
   "source": [
    "# Interactions"
   ]
  },
  {
   "cell_type": "markdown",
   "metadata": {},
   "source": [
    "When variables interact to **cause an effect** to another variable but is **not the sum of their parts**"
   ]
  },
  {
   "cell_type": "markdown",
   "metadata": {},
   "source": [
    "## Confounding factor"
   ]
  },
  {
   "cell_type": "markdown",
   "metadata": {},
   "source": [
    "![](images/diet_interaction.png)"
   ]
  },
  {
   "cell_type": "markdown",
   "metadata": {},
   "source": [
    "## Example of slight interaction (mostly additive)"
   ]
  },
  {
   "cell_type": "markdown",
   "metadata": {},
   "source": [
    "![](https://github.com/learn-co-students/dsc-2-24-03-interactions-online-ds-sp-000/raw/master/index_files/index_20_0.png)"
   ]
  },
  {
   "cell_type": "markdown",
   "metadata": {},
   "source": [
    "## Example of interaction (definitley not additive)"
   ]
  },
  {
   "cell_type": "markdown",
   "metadata": {},
   "source": [
    "![](https://github.com/learn-co-students/dsc-2-24-03-interactions-online-ds-sp-000/raw/master/index_files/index_31_0.png)"
   ]
  },
  {
   "cell_type": "markdown",
   "metadata": {},
   "source": [
    "# Polynomial Regressions"
   ]
  },
  {
   "cell_type": "markdown",
   "metadata": {},
   "source": [
    "Remember we started with (multiple) linear equation:\n",
    "\n",
    "$$ \\hat{y} = w_0 + w_1  x_1 + w_2  x_2 + ... + w_N  x_N $$\n",
    "$$ \\hat{y} = \\sum_{n=0}^{N} w_n x_n $$\n",
    "\n",
    "\n",
    "**Knowledge check:** Why is this \"linear\"?"
   ]
  },
  {
   "cell_type": "markdown",
   "metadata": {},
   "source": [
    "## Making it more complex!"
   ]
  },
  {
   "cell_type": "markdown",
   "metadata": {},
   "source": [
    "![](https://github.com/learn-co-students/dsc-2-24-05-polynomial-regression-online-ds-sp-000/raw/master/index_files/index_8_0.png)"
   ]
  },
  {
   "cell_type": "markdown",
   "metadata": {},
   "source": [
    "Imagine making this (start with just one variable):\n",
    "\n",
    "$$ \\hat{y} = \\beta_0 + \\beta_1  x + \\beta_2  x^2 + ... + \\beta_N  x^N $$\n",
    "$$ \\hat{y} = \\sum_{n=0}^{N} \\beta_n x^n $$"
   ]
  },
  {
   "cell_type": "markdown",
   "metadata": {},
   "source": [
    "![](https://github.com/learn-co-students/dsc-2-24-05-polynomial-regression-online-ds-sp-000/raw/master/index_files/index_23_0.png)"
   ]
  },
  {
   "cell_type": "markdown",
   "metadata": {},
   "source": [
    "![](https://github.com/learn-co-students/dsc-2-24-05-polynomial-regression-online-ds-sp-000/raw/master/index_files/index_28_0.png)"
   ]
  },
  {
   "cell_type": "markdown",
   "metadata": {},
   "source": [
    "For more general (multiple variables):\n",
    "\n",
    "$$ \\hat{y} = \\beta_{0,0} + \\sum_{i=0}^{N} \\beta_{1,i} x_1^i + \\sum_{i=0}^{N} \\beta_{2,i} x_2^i + ... + \\sum_{i=0}^{N} \\beta_{M,i} x_M^i$$ \n",
    "\n",
    "$$ \\hat{y} = \\sum_{i=0}^{N}\\sum_{j=0}^{M} \\beta_{j,i} x_j^i $$ "
   ]
  },
  {
   "cell_type": "markdown",
   "metadata": {},
   "source": [
    "## Discussion\n",
    "\n",
    "There is no limit on the polynomial degree\n",
    "\n",
    "- What is the $R^2$ of this complicated? Higher or lower?\n",
    "- How many should we use?\n",
    "- Are there any disadvantages to making it more complicated?"
   ]
  }
 ],
 "metadata": {
  "kernelspec": {
   "display_name": "Python 3",
   "language": "python",
   "name": "python3"
  },
  "language_info": {
   "codemirror_mode": {
    "name": "ipython",
    "version": 3
   },
   "file_extension": ".py",
   "mimetype": "text/x-python",
   "name": "python",
   "nbconvert_exporter": "python",
   "pygments_lexer": "ipython3",
   "version": "3.7.1"
  },
  "toc": {
   "base_numbering": 1,
   "nav_menu": {},
   "number_sections": true,
   "sideBar": true,
   "skip_h1_title": false,
   "title_cell": "Table of Contents",
   "title_sidebar": "Contents",
   "toc_cell": true,
   "toc_position": {},
   "toc_section_display": true,
   "toc_window_display": true
  },
  "varInspector": {
   "cols": {
    "lenName": 16,
    "lenType": 16,
    "lenVar": 40
   },
   "kernels_config": {
    "python": {
     "delete_cmd_postfix": "",
     "delete_cmd_prefix": "del ",
     "library": "var_list.py",
     "varRefreshCmd": "print(var_dic_list())"
    },
    "r": {
     "delete_cmd_postfix": ") ",
     "delete_cmd_prefix": "rm(",
     "library": "var_list.r",
     "varRefreshCmd": "cat(var_dic_list()) "
    }
   },
   "types_to_exclude": [
    "module",
    "function",
    "builtin_function_or_method",
    "instance",
    "_Feature"
   ],
   "window_display": false
  }
 },
 "nbformat": 4,
 "nbformat_minor": 2
}

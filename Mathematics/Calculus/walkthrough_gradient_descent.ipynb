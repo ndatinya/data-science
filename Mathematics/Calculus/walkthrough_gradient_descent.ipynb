{
 "cells": [
  {
   "cell_type": "markdown",
   "metadata": {
    "toc": true
   },
   "source": [
    "<h1>Table of Contents<span class=\"tocSkip\"></span></h1>\n",
    "<div class=\"toc\"><ul class=\"toc-item\"><li><span><a href=\"#Load-in-Data-&amp;-Explore\" data-toc-modified-id=\"Load-in-Data-&amp;-Explore-1\"><span class=\"toc-item-num\">1&nbsp;&nbsp;</span>Load in Data &amp; Explore</a></span><ul class=\"toc-item\"><li><span><a href=\"#Arbitrarily-choosing-a-feature-and-target\" data-toc-modified-id=\"Arbitrarily-choosing-a-feature-and-target-1.1\"><span class=\"toc-item-num\">1.1&nbsp;&nbsp;</span>Arbitrarily choosing a feature and target</a></span><ul class=\"toc-item\"><li><span><a href=\"#Removing-Outliers\" data-toc-modified-id=\"Removing-Outliers-1.1.1\"><span class=\"toc-item-num\">1.1.1&nbsp;&nbsp;</span>Removing Outliers</a></span></li></ul></li></ul></li><li><span><a href=\"#Our-Linear-Regression-Line\" data-toc-modified-id=\"Our-Linear-Regression-Line-2\"><span class=\"toc-item-num\">2&nbsp;&nbsp;</span>Our Linear Regression Line</a></span><ul class=\"toc-item\"><li><span><a href=\"#Gradient-descent-one-step-at-a-time\" data-toc-modified-id=\"Gradient-descent-one-step-at-a-time-2.1\"><span class=\"toc-item-num\">2.1&nbsp;&nbsp;</span>Gradient descent one step at a time</a></span><ul class=\"toc-item\"><li><span><a href=\"#First-Iteration\" data-toc-modified-id=\"First-Iteration-2.1.1\"><span class=\"toc-item-num\">2.1.1&nbsp;&nbsp;</span>First Iteration</a></span></li><li><span><a href=\"#Second-Iteration\" data-toc-modified-id=\"Second-Iteration-2.1.2\"><span class=\"toc-item-num\">2.1.2&nbsp;&nbsp;</span>Second Iteration</a></span></li><li><span><a href=\"#Third-Iteration\" data-toc-modified-id=\"Third-Iteration-2.1.3\"><span class=\"toc-item-num\">2.1.3&nbsp;&nbsp;</span>Third Iteration</a></span></li></ul></li><li><span><a href=\"#Multiple-iterations\" data-toc-modified-id=\"Multiple-iterations-2.2\"><span class=\"toc-item-num\">2.2&nbsp;&nbsp;</span>Multiple iterations</a></span></li></ul></li><li><span><a href=\"#Using-Scikit-Learn\" data-toc-modified-id=\"Using-Scikit-Learn-3\"><span class=\"toc-item-num\">3&nbsp;&nbsp;</span>Using Scikit-Learn</a></span></li></ul></div>"
   ]
  },
  {
   "cell_type": "markdown",
   "metadata": {},
   "source": [
    "Lesson adapted from Jeff Herman: https://github.com/sik-flow/Study_Groups/blob/master/Gradient_Descent.ipynb"
   ]
  },
  {
   "cell_type": "code",
   "execution_count": null,
   "metadata": {
    "ExecuteTime": {
     "end_time": "2019-10-17T16:55:57.161277Z",
     "start_time": "2019-10-17T16:55:57.158937Z"
    },
    "colab": {},
    "colab_type": "code",
    "id": "Iod7FrFGDu58"
   },
   "outputs": [],
   "source": [
    "import pandas as pd\n",
    "import numpy as np\n",
    "import matplotlib.pyplot as plt"
   ]
  },
  {
   "cell_type": "markdown",
   "metadata": {
    "colab_type": "text",
    "heading_collapsed": true,
    "id": "5qVsZH4JDu56"
   },
   "source": [
    "# Load in Data & Explore"
   ]
  },
  {
   "cell_type": "code",
   "execution_count": null,
   "metadata": {
    "ExecuteTime": {
     "end_time": "2019-10-17T16:55:57.187393Z",
     "start_time": "2019-10-17T16:55:57.163398Z"
    },
    "colab": {
     "base_uri": "https://localhost:8080/",
     "height": 375
    },
    "colab_type": "code",
    "hidden": true,
    "id": "pNHZpzraDu5-",
    "outputId": "0210a91c-a085-4a7f-a399-2e4cb86ecdd0"
   },
   "outputs": [],
   "source": [
    "# CSV from https://www.kaggle.com/c/house-prices-advanced-regression-techniques\n",
    "df = pd.read_csv('data/house-prices-advanced-regression-techniques/train.csv')"
   ]
  },
  {
   "cell_type": "code",
   "execution_count": null,
   "metadata": {
    "ExecuteTime": {
     "end_time": "2019-10-17T16:55:57.207224Z",
     "start_time": "2019-10-17T16:55:57.189178Z"
    },
    "colab": {},
    "colab_type": "code",
    "hidden": true,
    "id": "3gizNhKxDu6A"
   },
   "outputs": [],
   "source": [
    "df.head()"
   ]
  },
  {
   "cell_type": "code",
   "execution_count": null,
   "metadata": {
    "ExecuteTime": {
     "end_time": "2019-10-17T16:55:57.212087Z",
     "start_time": "2019-10-17T16:55:57.208831Z"
    },
    "colab": {},
    "colab_type": "code",
    "hidden": true,
    "id": "y7WZCXHCDu6C"
   },
   "outputs": [],
   "source": [
    "df.columns"
   ]
  },
  {
   "cell_type": "markdown",
   "metadata": {
    "heading_collapsed": true,
    "hidden": true
   },
   "source": [
    "## Arbitrarily choosing a feature and target"
   ]
  },
  {
   "cell_type": "markdown",
   "metadata": {
    "hidden": true
   },
   "source": [
    "We'll focus on the `GrLivAre` vs the `SalePrice` (target)"
   ]
  },
  {
   "cell_type": "code",
   "execution_count": null,
   "metadata": {
    "ExecuteTime": {
     "end_time": "2019-10-17T16:55:57.215597Z",
     "start_time": "2019-10-17T16:55:57.213296Z"
    },
    "colab": {},
    "colab_type": "code",
    "hidden": true,
    "id": "arsQ6WioDu6E"
   },
   "outputs": [],
   "source": [
    "x = df['GrLivArea']\n",
    "y = df['SalePrice']"
   ]
  },
  {
   "cell_type": "code",
   "execution_count": null,
   "metadata": {
    "ExecuteTime": {
     "end_time": "2019-10-17T16:55:57.328968Z",
     "start_time": "2019-10-17T16:55:57.216963Z"
    },
    "colab": {},
    "colab_type": "code",
    "hidden": true,
    "id": "avTQSKoJDu6G",
    "scrolled": true
   },
   "outputs": [],
   "source": [
    "plt.scatter(x, y)\n",
    "plt.show()"
   ]
  },
  {
   "cell_type": "markdown",
   "metadata": {
    "hidden": true
   },
   "source": [
    "Looks like there are some extreme values that might affect our linear regression"
   ]
  },
  {
   "cell_type": "markdown",
   "metadata": {
    "heading_collapsed": true,
    "hidden": true
   },
   "source": [
    "### Removing Outliers"
   ]
  },
  {
   "cell_type": "code",
   "execution_count": null,
   "metadata": {
    "ExecuteTime": {
     "end_time": "2019-10-17T16:55:57.348779Z",
     "start_time": "2019-10-17T16:55:57.330072Z"
    },
    "colab": {},
    "colab_type": "code",
    "hidden": true,
    "id": "NxuYmRLNDu6H"
   },
   "outputs": [],
   "source": [
    "df[(df['GrLivArea'] > 4000) & (df['SalePrice'] < 300000)]"
   ]
  },
  {
   "cell_type": "code",
   "execution_count": null,
   "metadata": {
    "ExecuteTime": {
     "end_time": "2019-10-17T16:55:57.353835Z",
     "start_time": "2019-10-17T16:55:57.350219Z"
    },
    "colab": {},
    "colab_type": "code",
    "hidden": true,
    "id": "hYj49k5_Du6J"
   },
   "outputs": [],
   "source": [
    "df.drop([523, 1298], inplace = True)\n",
    "df.reset_index(inplace = True)"
   ]
  },
  {
   "cell_type": "code",
   "execution_count": null,
   "metadata": {
    "ExecuteTime": {
     "end_time": "2019-10-17T16:55:57.358135Z",
     "start_time": "2019-10-17T16:55:57.356099Z"
    },
    "colab": {},
    "colab_type": "code",
    "hidden": true,
    "id": "mYVNsQGcDu6K"
   },
   "outputs": [],
   "source": [
    "x = df['GrLivArea']\n",
    "y = df['SalePrice']"
   ]
  },
  {
   "cell_type": "code",
   "execution_count": null,
   "metadata": {
    "ExecuteTime": {
     "end_time": "2019-10-17T16:55:57.464630Z",
     "start_time": "2019-10-17T16:55:57.360737Z"
    },
    "colab": {},
    "colab_type": "code",
    "hidden": true,
    "id": "QSyOosVDDu6M",
    "scrolled": true
   },
   "outputs": [],
   "source": [
    "plt.scatter(x, y)\n",
    "plt.show()"
   ]
  },
  {
   "cell_type": "markdown",
   "metadata": {
    "heading_collapsed": true
   },
   "source": [
    "# Our Linear Regression Line"
   ]
  },
  {
   "cell_type": "code",
   "execution_count": null,
   "metadata": {
    "ExecuteTime": {
     "end_time": "2019-10-17T16:55:57.467651Z",
     "start_time": "2019-10-17T16:55:57.465798Z"
    },
    "colab": {},
    "colab_type": "code",
    "hidden": true,
    "id": "TI1247DKDu6Q"
   },
   "outputs": [],
   "source": [
    "def regression_formula(x, slope, intercept):\n",
    "    return slope * x + intercept"
   ]
  },
  {
   "cell_type": "code",
   "execution_count": null,
   "metadata": {
    "ExecuteTime": {
     "end_time": "2019-10-17T16:55:57.470708Z",
     "start_time": "2019-10-17T16:55:57.468940Z"
    },
    "colab": {},
    "colab_type": "code",
    "hidden": true,
    "id": "YBeWX3vXDu6O"
   },
   "outputs": [],
   "source": [
    "my_slope = 0\n",
    "my_intercept = 0"
   ]
  },
  {
   "cell_type": "code",
   "execution_count": null,
   "metadata": {
    "ExecuteTime": {
     "end_time": "2019-10-17T16:55:57.625398Z",
     "start_time": "2019-10-17T16:55:57.471952Z"
    },
    "colab": {},
    "colab_type": "code",
    "hidden": true,
    "id": "XEW8N2AgDu6R"
   },
   "outputs": [],
   "source": [
    "fig = plt.figure(figsize = (12, 8))\n",
    "plt.scatter(x, y, label = 'Raw Data')\n",
    "plt.plot(x, regression_formula(x, my_slope, my_intercept), color = 'k', label = 'Regression')\n",
    "plt.legend()\n",
    "plt.show()"
   ]
  },
  {
   "cell_type": "code",
   "execution_count": null,
   "metadata": {
    "ExecuteTime": {
     "end_time": "2019-10-17T16:55:57.628857Z",
     "start_time": "2019-10-17T16:55:57.626583Z"
    },
    "colab": {},
    "colab_type": "code",
    "hidden": true,
    "id": "-8TmSi8qDu6T"
   },
   "outputs": [],
   "source": [
    "def error(intercept, slope, x, y):\n",
    "    totalError = 0\n",
    "    for i in range(0, len(x)):\n",
    "        totalError += (y[i] - (slope * x[i] + intercept)) ** 2\n",
    "    return totalError / len(x)"
   ]
  },
  {
   "cell_type": "code",
   "execution_count": null,
   "metadata": {
    "ExecuteTime": {
     "end_time": "2019-10-17T16:55:57.659004Z",
     "start_time": "2019-10-17T16:55:57.630023Z"
    },
    "colab": {},
    "colab_type": "code",
    "hidden": true,
    "id": "RxKQ5XqSDu6U"
   },
   "outputs": [],
   "source": [
    "error(my_intercept, my_slope, x, y)"
   ]
  },
  {
   "cell_type": "markdown",
   "metadata": {
    "heading_collapsed": true,
    "hidden": true
   },
   "source": [
    "## Gradient descent one step at a time"
   ]
  },
  {
   "cell_type": "markdown",
   "metadata": {
    "hidden": true
   },
   "source": [
    "We need to find the gradient for each cost function (2-dimensions: b & m):\n",
    "\n",
    "$$ \\frac{\\partial}{\\partial b} (y_i - (b + ax_i))^2 = 2 \\cdot (y_i-ax_i + b)$$\n",
    "\n",
    "$$ \\frac{\\partial}{\\partial a} (y_i - (b + ax_i))^2 = 2 \\cdot x_i \\cdot (y_i-ax_i + b)$$"
   ]
  },
  {
   "cell_type": "code",
   "execution_count": null,
   "metadata": {
    "ExecuteTime": {
     "end_time": "2019-10-17T16:56:25.286477Z",
     "start_time": "2019-10-17T16:56:25.283406Z"
    },
    "hidden": true
   },
   "outputs": [],
   "source": [
    "def partial_deriv(b, a, x_i, y_i, respect_to):\n",
    "    if respect_to == 'b': \n",
    "        return (y_i - (a * x_i + b))\n",
    "    elif respect_to == 'a':\n",
    "        return (x_i * (y_i - (a * x_i + b)))\n",
    "    else:\n",
    "        print('Choose either respect_to: a or b ')\n",
    "        return 0       "
   ]
  },
  {
   "cell_type": "code",
   "execution_count": null,
   "metadata": {
    "ExecuteTime": {
     "end_time": "2019-10-17T16:56:25.628601Z",
     "start_time": "2019-10-17T16:56:25.624544Z"
    },
    "colab": {},
    "colab_type": "code",
    "hidden": true,
    "id": "5hq-IYorDu6X"
   },
   "outputs": [],
   "source": [
    "def step_gradient(b, a, x, y, learning_rate):\n",
    "    db = 0\n",
    "    da = 0 \n",
    "    # For each data point, update the derivative for the slope & intercept\n",
    "    N = len(x)\n",
    "    for i in range(len(x)):\n",
    "        # Derivatives already pre-done\n",
    "        \n",
    "        # Partial derivatives of loss/cost function with respect to b & a\n",
    "        db +=  -(2/N) * partial_deriv(b,a,x[i],y[i],respect_to='b')\n",
    "        da +=  -(2/N) * partial_deriv(b,a,x[i],y[i],respect_to='a')\n",
    "        \n",
    "    # Adjust the slope & intercept by the gradient\n",
    "    new_b = b - (learning_rate * db)\n",
    "    new_a = a - (learning_rate * da)\n",
    "    \n",
    "    return (new_b, new_a)"
   ]
  },
  {
   "cell_type": "markdown",
   "metadata": {
    "heading_collapsed": true,
    "hidden": true
   },
   "source": [
    "### First Iteration"
   ]
  },
  {
   "cell_type": "code",
   "execution_count": null,
   "metadata": {
    "ExecuteTime": {
     "end_time": "2019-10-17T16:56:26.600404Z",
     "start_time": "2019-10-17T16:56:26.536895Z"
    },
    "colab": {},
    "colab_type": "code",
    "hidden": true,
    "id": "JFK1kVOdDu6Y"
   },
   "outputs": [],
   "source": [
    "first_step = step_gradient(my_intercept, my_slope, x, y, learning_rate=0.1)"
   ]
  },
  {
   "cell_type": "code",
   "execution_count": null,
   "metadata": {
    "ExecuteTime": {
     "end_time": "2019-10-17T16:56:26.811070Z",
     "start_time": "2019-10-17T16:56:26.807375Z"
    },
    "colab": {},
    "colab_type": "code",
    "hidden": true,
    "id": "Lo5w8R2sDu6a"
   },
   "outputs": [],
   "source": [
    "first_step"
   ]
  },
  {
   "cell_type": "code",
   "execution_count": null,
   "metadata": {
    "ExecuteTime": {
     "end_time": "2019-10-17T16:56:27.189788Z",
     "start_time": "2019-10-17T16:56:27.042501Z"
    },
    "colab": {},
    "colab_type": "code",
    "hidden": true,
    "id": "WpBY3bA6Du6b"
   },
   "outputs": [],
   "source": [
    "fig = plt.figure(figsize = (12, 8))\n",
    "plt.scatter(x, y, label = 'Raw Data')\n",
    "plt.plot(x, regression_formula(x, first_step[1], first_step[0]), \n",
    "         color = 'k', label = 'Regression')\n",
    "plt.legend()\n",
    "plt.show()"
   ]
  },
  {
   "cell_type": "code",
   "execution_count": null,
   "metadata": {
    "ExecuteTime": {
     "end_time": "2019-10-17T16:56:27.444004Z",
     "start_time": "2019-10-17T16:56:27.403296Z"
    },
    "colab": {},
    "colab_type": "code",
    "hidden": true,
    "id": "sjM_HcJ9Du6e"
   },
   "outputs": [],
   "source": [
    "error(my_intercept, my_slope, x, y)"
   ]
  },
  {
   "cell_type": "code",
   "execution_count": null,
   "metadata": {
    "ExecuteTime": {
     "end_time": "2019-10-17T16:56:27.724718Z",
     "start_time": "2019-10-17T16:56:27.686707Z"
    },
    "colab": {},
    "colab_type": "code",
    "hidden": true,
    "id": "8IYgTxy9Du6g"
   },
   "outputs": [],
   "source": [
    "error(first_step[0], first_step[1], x, y)"
   ]
  },
  {
   "cell_type": "code",
   "execution_count": null,
   "metadata": {
    "ExecuteTime": {
     "end_time": "2019-10-17T16:56:28.064228Z",
     "start_time": "2019-10-17T16:56:27.971779Z"
    },
    "colab": {},
    "colab_type": "code",
    "hidden": true,
    "id": "i60bqdSyDu6j"
   },
   "outputs": [],
   "source": [
    "first_step = step_gradient(my_intercept, my_slope, x, y, learning_rate=0.00000001)\n",
    "\n",
    "error(first_step[0], first_step[1], x, y)"
   ]
  },
  {
   "cell_type": "code",
   "execution_count": null,
   "metadata": {
    "ExecuteTime": {
     "end_time": "2019-10-17T16:56:28.481764Z",
     "start_time": "2019-10-17T16:56:28.293695Z"
    },
    "colab": {},
    "colab_type": "code",
    "hidden": true,
    "id": "XGl4Hh_5Du6m"
   },
   "outputs": [],
   "source": [
    "fig = plt.figure(figsize = (12, 8))\n",
    "plt.scatter(x, y, label = 'Raw Data')\n",
    "plt.plot(x, regression_formula(x, first_step[1], first_step[0]), \n",
    "         color = 'k', label = 'Regression')\n",
    "plt.legend()\n",
    "plt.text(500, 650000, 'Iteration Number 1')\n",
    "plt.text(500, 600000, f'Error {round(error(first_step[0], first_step[1], x, y), 0)}')\n",
    "plt.show()"
   ]
  },
  {
   "cell_type": "markdown",
   "metadata": {
    "colab_type": "text",
    "heading_collapsed": true,
    "hidden": true,
    "id": "1zftmRXLDu6n"
   },
   "source": [
    "### Second Iteration"
   ]
  },
  {
   "cell_type": "code",
   "execution_count": null,
   "metadata": {
    "ExecuteTime": {
     "end_time": "2019-10-17T16:56:28.754920Z",
     "start_time": "2019-10-17T16:56:28.694646Z"
    },
    "colab": {},
    "colab_type": "code",
    "hidden": true,
    "id": "s1n0OBdBDu6o"
   },
   "outputs": [],
   "source": [
    "second_step = step_gradient(first_step[0], first_step[1], x, y, learning_rate=0.00000001)"
   ]
  },
  {
   "cell_type": "code",
   "execution_count": null,
   "metadata": {
    "ExecuteTime": {
     "end_time": "2019-10-17T16:56:29.166087Z",
     "start_time": "2019-10-17T16:56:28.951928Z"
    },
    "colab": {},
    "colab_type": "code",
    "hidden": true,
    "id": "vjlzP2OnDu6q"
   },
   "outputs": [],
   "source": [
    "fig = plt.figure(figsize = (12, 8))\n",
    "plt.scatter(x, y, label = 'Raw Data')\n",
    "plt.plot(x, regression_formula(x, second_step[1], second_step[0]), \n",
    "         color = 'k', label = 'Regression')\n",
    "plt.legend()\n",
    "plt.text(500, 650000, 'Iteration Number 2')\n",
    "plt.text(500, 600000, f'Error {round(error(second_step[0], second_step[1], x, y), 0)}')\n",
    "plt.show()"
   ]
  },
  {
   "cell_type": "markdown",
   "metadata": {
    "colab_type": "text",
    "heading_collapsed": true,
    "hidden": true,
    "id": "T62rSPD0Du6r"
   },
   "source": [
    "### Third Iteration"
   ]
  },
  {
   "cell_type": "code",
   "execution_count": null,
   "metadata": {
    "ExecuteTime": {
     "end_time": "2019-10-17T16:56:29.443094Z",
     "start_time": "2019-10-17T16:56:29.381493Z"
    },
    "colab": {},
    "colab_type": "code",
    "hidden": true,
    "id": "u79uk3XuDu6s"
   },
   "outputs": [],
   "source": [
    "third_step = step_gradient(second_step[0], second_step[1], x, y, learning_rate=0.00000001)"
   ]
  },
  {
   "cell_type": "code",
   "execution_count": null,
   "metadata": {
    "ExecuteTime": {
     "end_time": "2019-10-17T16:56:29.821793Z",
     "start_time": "2019-10-17T16:56:29.639583Z"
    },
    "colab": {},
    "colab_type": "code",
    "hidden": true,
    "id": "GurMUYYyDu6t",
    "scrolled": false
   },
   "outputs": [],
   "source": [
    "fig = plt.figure(figsize = (12, 8))\n",
    "plt.scatter(x, y, label = 'Raw Data')\n",
    "plt.plot(x, regression_formula(x, third_step[1], third_step[0]), \n",
    "         color = 'k', label = 'Regression')\n",
    "plt.legend()\n",
    "plt.text(500, 650000, 'Iteration Number 3')\n",
    "plt.text(500, 600000, f'Error {round(error(third_step[0], third_step[1], x, y), 0)}')\n",
    "plt.show()"
   ]
  },
  {
   "cell_type": "markdown",
   "metadata": {
    "heading_collapsed": true,
    "hidden": true
   },
   "source": [
    "## Multiple iterations"
   ]
  },
  {
   "cell_type": "code",
   "execution_count": null,
   "metadata": {
    "ExecuteTime": {
     "end_time": "2019-10-17T16:56:38.150057Z",
     "start_time": "2019-10-17T16:56:30.031506Z"
    },
    "colab": {},
    "colab_type": "code",
    "hidden": true,
    "id": "FcHbSNyHDu6w"
   },
   "outputs": [],
   "source": [
    "errs = []\n",
    "b = 0\n",
    "m = 0\n",
    "\n",
    "for i in range(100):\n",
    "    err = error(b, m, x, y)\n",
    "    errs.append(err)\n",
    "    b, m = step_gradient(b, m, x, y, 0.00000001)"
   ]
  },
  {
   "cell_type": "code",
   "execution_count": null,
   "metadata": {
    "ExecuteTime": {
     "end_time": "2019-10-17T16:56:38.450008Z",
     "start_time": "2019-10-17T16:56:38.352399Z"
    },
    "colab": {},
    "colab_type": "code",
    "hidden": true,
    "id": "IFjpJnK6Du6y"
   },
   "outputs": [],
   "source": [
    "plt.plot(range(100), errs)\n",
    "plt.show()"
   ]
  },
  {
   "cell_type": "markdown",
   "metadata": {
    "hidden": true
   },
   "source": [
    "Looks like we didn't have to do the full 100 since it doesn't do much better. We can do **early stopping** when the error doesn't change too much"
   ]
  },
  {
   "cell_type": "code",
   "execution_count": null,
   "metadata": {
    "ExecuteTime": {
     "end_time": "2019-10-17T16:56:42.504282Z",
     "start_time": "2019-10-17T16:56:38.651821Z"
    },
    "colab": {},
    "colab_type": "code",
    "hidden": true,
    "id": "jVMEeP5zDu6v"
   },
   "outputs": [],
   "source": [
    "errs = []\n",
    "b = 0\n",
    "m = 0\n",
    "\n",
    "for i in range(100):\n",
    "    err = error(b, m, x, y)\n",
    "    errs.append(err)\n",
    "    b, m = step_gradient(b, m, x, y, 0.00000001)\n",
    "    # Stop after errors don't change too much\n",
    "    if len(errs) > 1:\n",
    "        if (errs[-2] - errs[-1]) / errs[-2] < 0.01:\n",
    "            print (i)\n",
    "            break"
   ]
  },
  {
   "cell_type": "code",
   "execution_count": null,
   "metadata": {
    "ExecuteTime": {
     "end_time": "2019-10-17T16:56:42.814267Z",
     "start_time": "2019-10-17T16:56:42.716524Z"
    },
    "colab": {},
    "colab_type": "code",
    "hidden": true,
    "id": "IFjpJnK6Du6y"
   },
   "outputs": [],
   "source": [
    "plt.plot(range(len(errs)), errs)\n",
    "plt.show()"
   ]
  },
  {
   "cell_type": "code",
   "execution_count": null,
   "metadata": {
    "ExecuteTime": {
     "end_time": "2019-10-17T16:56:53.873728Z",
     "start_time": "2019-10-17T16:56:43.044496Z"
    },
    "colab": {},
    "colab_type": "code",
    "hidden": true,
    "id": "un5eqJxcDu6z",
    "scrolled": false
   },
   "outputs": [],
   "source": [
    "errs = []\n",
    "b = 0\n",
    "m = 0\n",
    "\n",
    "for i in range(100):\n",
    "    err = error(b, m, x, y)\n",
    "    errs.append(err)\n",
    "    if (i > 1) & (i % 10 == 0):\n",
    "        fig = plt.figure(figsize = (12, 8))\n",
    "        ax1 = plt.subplot(1, 2, 1)\n",
    "        ax1.scatter(x, y, label = 'Raw Data')\n",
    "        ax1.plot(x, regression_formula(x, m, b), \n",
    "                 color = 'k', label = 'Regression')\n",
    "        plt.legend()\n",
    "        ax1.set_title(f'Iteration Number {i}')\n",
    "        ax2 = plt.subplot(1, 2, 2)\n",
    "        ax2.plot(range(i + 1), errs)\n",
    "        ax2.set_title(f'Error {round(error(m, b, x, y), 0)}')\n",
    "        plt.show()\n",
    "    b, m = step_gradient(b, m, x, y, 0.00000001)"
   ]
  },
  {
   "cell_type": "markdown",
   "metadata": {
    "heading_collapsed": true
   },
   "source": [
    "# Using Scikit-Learn"
   ]
  },
  {
   "cell_type": "code",
   "execution_count": null,
   "metadata": {
    "ExecuteTime": {
     "end_time": "2019-10-17T16:56:54.098025Z",
     "start_time": "2019-10-17T16:56:54.095601Z"
    },
    "colab": {},
    "colab_type": "code",
    "hidden": true,
    "id": "kfL1H_mRDu61"
   },
   "outputs": [],
   "source": [
    "from sklearn.linear_model import LinearRegression"
   ]
  },
  {
   "cell_type": "code",
   "execution_count": null,
   "metadata": {
    "ExecuteTime": {
     "end_time": "2019-10-17T16:56:54.323184Z",
     "start_time": "2019-10-17T16:56:54.321209Z"
    },
    "colab": {},
    "colab_type": "code",
    "hidden": true,
    "id": "B720G49_Du62"
   },
   "outputs": [],
   "source": [
    "linreg = LinearRegression()"
   ]
  },
  {
   "cell_type": "code",
   "execution_count": null,
   "metadata": {
    "ExecuteTime": {
     "end_time": "2019-10-17T16:56:54.543289Z",
     "start_time": "2019-10-17T16:56:54.538188Z"
    },
    "colab": {},
    "colab_type": "code",
    "hidden": true,
    "id": "4Q_3jY0IDu63"
   },
   "outputs": [],
   "source": [
    "linreg.fit(x.values.reshape(-1, 1), y.values.reshape(-1, 1))"
   ]
  },
  {
   "cell_type": "code",
   "execution_count": null,
   "metadata": {
    "ExecuteTime": {
     "end_time": "2019-10-17T16:56:54.767321Z",
     "start_time": "2019-10-17T16:56:54.764191Z"
    },
    "colab": {},
    "colab_type": "code",
    "hidden": true,
    "id": "mnXoCgkFDu64"
   },
   "outputs": [],
   "source": [
    "linreg.coef_[0][0]"
   ]
  },
  {
   "cell_type": "code",
   "execution_count": null,
   "metadata": {
    "ExecuteTime": {
     "end_time": "2019-10-17T16:56:55.006115Z",
     "start_time": "2019-10-17T16:56:55.003238Z"
    },
    "colab": {},
    "colab_type": "code",
    "hidden": true,
    "id": "QRsoio6bDu66"
   },
   "outputs": [],
   "source": [
    "linreg.intercept_[0]"
   ]
  },
  {
   "cell_type": "code",
   "execution_count": null,
   "metadata": {
    "ExecuteTime": {
     "end_time": "2019-10-17T16:56:55.231236Z",
     "start_time": "2019-10-17T16:56:55.228283Z"
    },
    "colab": {},
    "colab_type": "code",
    "hidden": true,
    "id": "VBnXOg7fDu68"
   },
   "outputs": [],
   "source": [
    "m, b"
   ]
  },
  {
   "cell_type": "code",
   "execution_count": null,
   "metadata": {
    "ExecuteTime": {
     "end_time": "2019-10-17T16:56:55.689129Z",
     "start_time": "2019-10-17T16:56:55.442037Z"
    },
    "colab": {},
    "colab_type": "code",
    "hidden": true,
    "id": "fxv0-SckDu6-"
   },
   "outputs": [],
   "source": [
    "fig = plt.figure(figsize = (12, 8))\n",
    "ax1 = plt.subplot(1, 2, 1)\n",
    "ax2 = plt.subplot(1, 2, 2)\n",
    "\n",
    "ax1.scatter(x, y, label = 'Raw Data')\n",
    "ax1.plot(x, regression_formula(x, m, b), \n",
    "         color = 'k', label = 'Regression')\n",
    "ax1.set_title('Gradient Descent')\n",
    "ax2.scatter(x, y, label = 'Raw Data')\n",
    "ax2.plot(x, regression_formula(x, linreg.coef_[0][0], linreg.intercept_[0]), \n",
    "         color = 'k', label = 'Regression')\n",
    "ax2.set_title('Sklearn')"
   ]
  },
  {
   "cell_type": "code",
   "execution_count": null,
   "metadata": {
    "ExecuteTime": {
     "end_time": "2019-10-17T16:56:55.897787Z",
     "start_time": "2019-10-17T16:56:55.894918Z"
    },
    "colab": {},
    "colab_type": "code",
    "hidden": true,
    "id": "1qJFwk2tDu6_"
   },
   "outputs": [],
   "source": [
    "b"
   ]
  },
  {
   "cell_type": "code",
   "execution_count": null,
   "metadata": {
    "ExecuteTime": {
     "end_time": "2019-10-17T16:56:56.160034Z",
     "start_time": "2019-10-17T16:56:56.124288Z"
    },
    "colab": {},
    "colab_type": "code",
    "hidden": true,
    "id": "2-bpw7RfDu7A"
   },
   "outputs": [],
   "source": [
    "np.sqrt(error(m, b, x, y))"
   ]
  },
  {
   "cell_type": "code",
   "execution_count": null,
   "metadata": {
    "ExecuteTime": {
     "end_time": "2019-10-17T16:56:56.401533Z",
     "start_time": "2019-10-17T16:56:56.370543Z"
    },
    "colab": {},
    "colab_type": "code",
    "hidden": true,
    "id": "E7ncYnBVDu7B"
   },
   "outputs": [],
   "source": [
    "np.sqrt(error(linreg.coef_[0][0], linreg.intercept_[0], x, y))"
   ]
  },
  {
   "cell_type": "code",
   "execution_count": null,
   "metadata": {
    "ExecuteTime": {
     "end_time": "2019-10-17T16:56:56.652701Z",
     "start_time": "2019-10-17T16:56:56.621710Z"
    },
    "colab": {},
    "colab_type": "code",
    "hidden": true,
    "id": "cfWziWeaDu7C"
   },
   "outputs": [],
   "source": [
    "error(m, b, x, y)"
   ]
  }
 ],
 "metadata": {
  "colab": {
   "collapsed_sections": [],
   "name": "Walkthrough_Gradient_Descent.ipynb",
   "provenance": []
  },
  "kernelspec": {
   "display_name": "Python 3",
   "language": "python",
   "name": "python3"
  },
  "language_info": {
   "codemirror_mode": {
    "name": "ipython",
    "version": 3
   },
   "file_extension": ".py",
   "mimetype": "text/x-python",
   "name": "python",
   "nbconvert_exporter": "python",
   "pygments_lexer": "ipython3",
   "version": "3.6.6"
  },
  "toc": {
   "base_numbering": 1,
   "nav_menu": {},
   "number_sections": true,
   "sideBar": true,
   "skip_h1_title": false,
   "title_cell": "Table of Contents",
   "title_sidebar": "Contents",
   "toc_cell": true,
   "toc_position": {},
   "toc_section_display": true,
   "toc_window_display": true
  },
  "varInspector": {
   "cols": {
    "lenName": 16,
    "lenType": 16,
    "lenVar": 40
   },
   "kernels_config": {
    "python": {
     "delete_cmd_postfix": "",
     "delete_cmd_prefix": "del ",
     "library": "var_list.py",
     "varRefreshCmd": "print(var_dic_list())"
    },
    "r": {
     "delete_cmd_postfix": ") ",
     "delete_cmd_prefix": "rm(",
     "library": "var_list.r",
     "varRefreshCmd": "cat(var_dic_list()) "
    }
   },
   "types_to_exclude": [
    "module",
    "function",
    "builtin_function_or_method",
    "instance",
    "_Feature"
   ],
   "window_display": false
  }
 },
 "nbformat": 4,
 "nbformat_minor": 1
}

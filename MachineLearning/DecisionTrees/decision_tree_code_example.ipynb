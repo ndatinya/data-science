{
 "cells": [
  {
   "cell_type": "markdown",
   "metadata": {
    "colab_type": "text",
    "id": "xo1PDBM6lvr-",
    "toc": true
   },
   "source": [
    "<h1>Table of Contents<span class=\"tocSkip\"></span></h1>\n",
    "<div class=\"toc\"><ul class=\"toc-item\"><li><span><a href=\"#Simple-Decision-Tree-Classifier\" data-toc-modified-id=\"Simple-Decision-Tree-Classifier-1\"><span class=\"toc-item-num\">1&nbsp;&nbsp;</span>Simple Decision Tree Classifier</a></span><ul class=\"toc-item\"><li><span><a href=\"#Optional:-Displaying-Decision-Tree\" data-toc-modified-id=\"Optional:-Displaying-Decision-Tree-1.1\"><span class=\"toc-item-num\">1.1&nbsp;&nbsp;</span>Optional: Displaying Decision Tree</a></span></li><li><span><a href=\"#Evaluating\" data-toc-modified-id=\"Evaluating-1.2\"><span class=\"toc-item-num\">1.2&nbsp;&nbsp;</span>Evaluating</a></span><ul class=\"toc-item\"><li><span><a href=\"#Create-and-print-a-confusion-matrix\" data-toc-modified-id=\"Create-and-print-a-confusion-matrix-1.2.1\"><span class=\"toc-item-num\">1.2.1&nbsp;&nbsp;</span>Create and print a confusion matrix</a></span></li></ul></li></ul></li></ul></div>"
   ]
  },
  {
   "cell_type": "code",
   "execution_count": null,
   "metadata": {
    "ExecuteTime": {
     "end_time": "2019-11-07T16:18:18.111211Z",
     "start_time": "2019-11-07T16:18:17.470624Z"
    },
    "colab": {},
    "colab_type": "code",
    "id": "j9ob-z7glvr_"
   },
   "outputs": [],
   "source": [
    "from sklearn.tree import DecisionTreeClassifier \n",
    "from sklearn.model_selection import train_test_split  \n",
    "from sklearn.datasets import load_iris "
   ]
  },
  {
   "cell_type": "markdown",
   "metadata": {
    "colab_type": "text",
    "heading_collapsed": true,
    "id": "Q6U9IrG7lvsB"
   },
   "source": [
    "# Simple Decision Tree Classifier"
   ]
  },
  {
   "cell_type": "markdown",
   "metadata": {
    "colab_type": "text",
    "hidden": true,
    "id": "6-w7SZaxlvsC"
   },
   "source": [
    "> Note that parts of this section were adapted from Aurélien Géron's book [(*Hands-On Machine Learning with Scikit-Learn and TensorFlow*)](https://www.oreilly.com/library/view/hands-on-machine-learning/9781491962282/) & [GitHub repo](https://github.com/ageron/handson-ml)"
   ]
  },
  {
   "cell_type": "code",
   "execution_count": null,
   "metadata": {
    "ExecuteTime": {
     "end_time": "2019-11-07T16:18:19.747064Z",
     "start_time": "2019-11-07T16:18:19.742240Z"
    },
    "colab": {},
    "colab_type": "code",
    "hidden": true,
    "id": "1rmQKMvTlvsC"
   },
   "outputs": [],
   "source": [
    "iris = load_iris() "
   ]
  },
  {
   "cell_type": "code",
   "execution_count": null,
   "metadata": {
    "ExecuteTime": {
     "end_time": "2019-11-07T16:18:19.927787Z",
     "start_time": "2019-11-07T16:18:19.924354Z"
    },
    "colab": {},
    "colab_type": "code",
    "hidden": true,
    "id": "K-V9-AAClvsE"
   },
   "outputs": [],
   "source": [
    "# petal length and width \n",
    "X = iris.data[:, 2:] \n",
    "Y = iris.target \n",
    "x_train, x_test, y_train, y_test = train_test_split(X, Y, test_size=0.2, random_state=2)  "
   ]
  },
  {
   "cell_type": "code",
   "execution_count": null,
   "metadata": {
    "ExecuteTime": {
     "end_time": "2019-11-07T16:18:20.380088Z",
     "start_time": "2019-11-07T16:18:20.370202Z"
    },
    "colab": {
     "base_uri": "https://localhost:8080/",
     "height": 119
    },
    "colab_type": "code",
    "hidden": true,
    "id": "vTV-8LBOlvsG",
    "outputId": "6eb173ec-0206-46e3-81a1-308127c6aa0c",
    "scrolled": true
   },
   "outputs": [],
   "source": [
    "tree_clf = DecisionTreeClassifier(max_depth=2) \n",
    "\n",
    "tree_clf.fit(x_train , y_train)"
   ]
  },
  {
   "cell_type": "markdown",
   "metadata": {
    "ExecuteTime": {
     "end_time": "2019-10-18T19:56:37.234490Z",
     "start_time": "2019-10-18T19:56:37.232444Z"
    },
    "colab_type": "text",
    "heading_collapsed": true,
    "hidden": true,
    "id": "cz59iwROlvsJ"
   },
   "source": [
    "## Optional: Displaying Decision Tree"
   ]
  },
  {
   "cell_type": "code",
   "execution_count": null,
   "metadata": {
    "ExecuteTime": {
     "end_time": "2019-10-18T20:22:51.553220Z",
     "start_time": "2019-10-18T20:22:51.544427Z"
    },
    "colab": {
     "base_uri": "https://localhost:8080/",
     "height": 333
    },
    "colab_type": "code",
    "hidden": true,
    "id": "9vTrIXzflvsJ",
    "outputId": "49204f31-41cf-4a04-c349-b94efb67b21f",
    "scrolled": true
   },
   "outputs": [],
   "source": [
    "# Must have sklearn version 0.21.0\n",
    "from sklearn.tree import plot_tree\n",
    "plot_tree(tree_clf)"
   ]
  },
  {
   "cell_type": "code",
   "execution_count": null,
   "metadata": {
    "ExecuteTime": {
     "end_time": "2019-10-18T20:36:11.873673Z",
     "start_time": "2019-10-18T20:36:11.862808Z"
    },
    "colab": {
     "base_uri": "https://localhost:8080/",
     "height": 71
    },
    "colab_type": "code",
    "hidden": true,
    "id": "nUVl9BU-lvsM",
    "outputId": "d53931b6-0c28-4d4f-cdeb-950a0ddf1d4b"
   },
   "outputs": [],
   "source": [
    "# https://scikit-learn.org/stable/modules/generated/sklearn.tree.export_graphviz.html\n",
    "from sklearn.tree import export_graphviz\n",
    "import pydotplus\n",
    "from IPython.display import Image \n",
    "from sklearn.externals.six import StringIO "
   ]
  },
  {
   "cell_type": "code",
   "execution_count": null,
   "metadata": {
    "ExecuteTime": {
     "end_time": "2019-10-18T20:36:04.415651Z",
     "start_time": "2019-10-18T20:36:04.341881Z"
    },
    "colab": {
     "base_uri": "https://localhost:8080/",
     "height": 436
    },
    "colab_type": "code",
    "hidden": true,
    "id": "0lC7dLpglvsN",
    "outputId": "49a9d240-dc27-4d26-bf50-e1c0c7500e96"
   },
   "outputs": [],
   "source": [
    "dot_data = StringIO()\n",
    "export_graphviz( \n",
    "    tree_clf, \n",
    "    out_file = dot_data, \n",
    "    class_names = iris.target_names, \n",
    "    feature_names = iris.feature_names[2:], \n",
    "    rounded = True,\n",
    "    filled = True \n",
    ")\n",
    "\n",
    "graph = pydotplus.graph_from_dot_data(dot_data.getvalue())  \n",
    "Image(graph.create_png())"
   ]
  },
  {
   "cell_type": "code",
   "execution_count": null,
   "metadata": {
    "ExecuteTime": {
     "end_time": "2019-10-18T19:53:58.637255Z",
     "start_time": "2019-10-18T19:53:58.509091Z"
    },
    "colab": {},
    "colab_type": "code",
    "hidden": true,
    "id": "qkgTZUvflvsP"
   },
   "outputs": [],
   "source": [
    "# Need Graphviz package installed: https://www.graphviz.org\n",
    "# !dot -Tpng iris_tree.dot -o iris_tree.png"
   ]
  },
  {
   "cell_type": "markdown",
   "metadata": {
    "colab_type": "text",
    "heading_collapsed": true,
    "hidden": true,
    "id": "cDbQKgZ-lvsR"
   },
   "source": [
    "## Evaluating"
   ]
  },
  {
   "cell_type": "code",
   "execution_count": null,
   "metadata": {
    "ExecuteTime": {
     "end_time": "2019-11-07T16:18:32.578421Z",
     "start_time": "2019-11-07T16:18:32.575742Z"
    },
    "colab": {},
    "colab_type": "code",
    "hidden": true,
    "id": "181V77JelvsR"
   },
   "outputs": [],
   "source": [
    "from sklearn.metrics import accuracy_score, roc_curve, auc"
   ]
  },
  {
   "cell_type": "code",
   "execution_count": null,
   "metadata": {
    "ExecuteTime": {
     "end_time": "2019-11-07T16:18:32.903776Z",
     "start_time": "2019-11-07T16:18:32.900042Z"
    },
    "colab": {},
    "colab_type": "code",
    "hidden": true,
    "id": "09YOjPwvlvsT"
   },
   "outputs": [],
   "source": [
    "y_pred = tree_clf.predict(x_test)"
   ]
  },
  {
   "cell_type": "code",
   "execution_count": null,
   "metadata": {
    "ExecuteTime": {
     "end_time": "2019-11-07T16:18:33.431752Z",
     "start_time": "2019-11-07T16:18:33.427982Z"
    },
    "colab": {
     "base_uri": "https://localhost:8080/",
     "height": 51
    },
    "colab_type": "code",
    "hidden": true,
    "id": "hrfuZXyD1XJM",
    "outputId": "231f1a7f-6e20-4db3-aa3f-0f0a11d9891d"
   },
   "outputs": [],
   "source": [
    "y_pred"
   ]
  },
  {
   "cell_type": "code",
   "execution_count": null,
   "metadata": {
    "ExecuteTime": {
     "end_time": "2019-11-07T16:18:33.920953Z",
     "start_time": "2019-11-07T16:18:33.916680Z"
    },
    "colab": {
     "base_uri": "https://localhost:8080/",
     "height": 34
    },
    "colab_type": "code",
    "hidden": true,
    "id": "cVYPeNGrlvsU",
    "outputId": "167abf86-fc3c-4019-e19e-a2314133afd0"
   },
   "outputs": [],
   "source": [
    "acc = accuracy_score(y_test,y_pred) * 100\n",
    "print(\"Accuracy is :{0}\".format(acc))"
   ]
  },
  {
   "cell_type": "code",
   "execution_count": null,
   "metadata": {
    "ExecuteTime": {
     "end_time": "2019-11-07T16:18:34.514853Z",
     "start_time": "2019-11-07T16:18:34.509285Z"
    },
    "colab": {
     "base_uri": "https://localhost:8080/",
     "height": 51
    },
    "colab_type": "code",
    "hidden": true,
    "id": "3yrtkdhQlvsW",
    "outputId": "c59a9779-8eb7-4333-a38b-8aa6eabb9756"
   },
   "outputs": [],
   "source": [
    "# Check the AUC for predictions (using label 2 as our positive)\n",
    "false_positive_rate, true_positive_rate, thresholds = roc_curve(y_test, y_pred, pos_label=2)\n",
    "roc_auc = auc(false_positive_rate, true_positive_rate)\n",
    "print(\"\\nAUC is :{0}\".format(round(roc_auc,2)))"
   ]
  },
  {
   "cell_type": "markdown",
   "metadata": {
    "ExecuteTime": {
     "end_time": "2019-11-07T16:18:36.247853Z",
     "start_time": "2019-11-07T16:18:36.245085Z"
    },
    "colab": {},
    "colab_type": "code",
    "heading_collapsed": true,
    "hidden": true,
    "id": "ISYtCRirlvsX"
   },
   "source": [
    "### Create and print a confusion matrix "
   ]
  },
  {
   "cell_type": "code",
   "execution_count": null,
   "metadata": {
    "ExecuteTime": {
     "end_time": "2019-11-07T16:19:03.181088Z",
     "start_time": "2019-11-07T16:19:02.414673Z"
    },
    "colab": {},
    "colab_type": "code",
    "hidden": true,
    "id": "1YI2I4qKlvsZ"
   },
   "outputs": [],
   "source": [
    "import seaborn as sn\n",
    "import pandas as pd\n",
    "import matplotlib.pyplot as plt"
   ]
  },
  {
   "cell_type": "code",
   "execution_count": null,
   "metadata": {
    "ExecuteTime": {
     "end_time": "2019-11-07T16:19:03.408138Z",
     "start_time": "2019-11-07T16:19:03.381494Z"
    },
    "colab": {},
    "colab_type": "code",
    "hidden": true,
    "id": "ei98Qxatlvsb"
   },
   "outputs": [],
   "source": [
    "df = pd.crosstab(y_test, y_pred, rownames=['True'], colnames=['Predicted'])"
   ]
  },
  {
   "cell_type": "code",
   "execution_count": null,
   "metadata": {
    "ExecuteTime": {
     "end_time": "2019-11-07T16:19:04.598243Z",
     "start_time": "2019-11-07T16:19:04.589402Z"
    },
    "colab": {
     "base_uri": "https://localhost:8080/",
     "height": 224
    },
    "colab_type": "code",
    "hidden": true,
    "id": "2Ckwag6nlvsd",
    "outputId": "b14fb1c2-5120-4ab6-a8bb-775815b8fa33"
   },
   "outputs": [],
   "source": [
    "print('\\nConfusion Matrix')\n",
    "print('----------------')\n",
    "df"
   ]
  },
  {
   "cell_type": "code",
   "execution_count": null,
   "metadata": {
    "ExecuteTime": {
     "end_time": "2019-11-07T16:19:12.114564Z",
     "start_time": "2019-11-07T16:19:11.980958Z"
    },
    "colab": {
     "base_uri": "https://localhost:8080/",
     "height": 464
    },
    "colab_type": "code",
    "hidden": true,
    "id": "OFJE65hwlvsf",
    "outputId": "f471497f-5f9f-49a4-9be6-cc98798b0853"
   },
   "outputs": [],
   "source": [
    "plt.figure(figsize = (10,7))\n",
    "sn.heatmap(df, annot=True);"
   ]
  }
 ],
 "metadata": {
  "colab": {
   "collapsed_sections": [],
   "name": "dt_run.ipynb",
   "provenance": []
  },
  "kernelspec": {
   "display_name": "Python 3",
   "language": "python",
   "name": "python3"
  },
  "language_info": {
   "codemirror_mode": {
    "name": "ipython",
    "version": 3
   },
   "file_extension": ".py",
   "mimetype": "text/x-python",
   "name": "python",
   "nbconvert_exporter": "python",
   "pygments_lexer": "ipython3",
   "version": "3.7.1"
  },
  "toc": {
   "base_numbering": 1,
   "nav_menu": {},
   "number_sections": true,
   "sideBar": true,
   "skip_h1_title": false,
   "title_cell": "Table of Contents",
   "title_sidebar": "Contents",
   "toc_cell": true,
   "toc_position": {},
   "toc_section_display": true,
   "toc_window_display": true
  },
  "varInspector": {
   "cols": {
    "lenName": 16,
    "lenType": 16,
    "lenVar": 40
   },
   "kernels_config": {
    "python": {
     "delete_cmd_postfix": "",
     "delete_cmd_prefix": "del ",
     "library": "var_list.py",
     "varRefreshCmd": "print(var_dic_list())"
    },
    "r": {
     "delete_cmd_postfix": ") ",
     "delete_cmd_prefix": "rm(",
     "library": "var_list.r",
     "varRefreshCmd": "cat(var_dic_list()) "
    }
   },
   "types_to_exclude": [
    "module",
    "function",
    "builtin_function_or_method",
    "instance",
    "_Feature"
   ],
   "window_display": false
  }
 },
 "nbformat": 4,
 "nbformat_minor": 1
}

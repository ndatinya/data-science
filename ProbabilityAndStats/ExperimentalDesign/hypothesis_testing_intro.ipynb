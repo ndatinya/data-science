{
 "cells": [
  {
   "cell_type": "markdown",
   "metadata": {
    "toc": true
   },
   "source": [
    "<h1>Table of Contents<span class=\"tocSkip\"></span></h1>\n",
    "<div class=\"toc\"><ul class=\"toc-item\"><li><span><a href=\"#Statistical-Testing\" data-toc-modified-id=\"Statistical-Testing-1\"><span class=\"toc-item-num\">1&nbsp;&nbsp;</span>Statistical Testing</a></span><ul class=\"toc-item\"><li><span><a href=\"#Statistical-Significance\" data-toc-modified-id=\"Statistical-Significance-1.1\"><span class=\"toc-item-num\">1.1&nbsp;&nbsp;</span>Statistical Significance</a></span></li><li><span><a href=\"#Hypothesis-testing\" data-toc-modified-id=\"Hypothesis-testing-1.2\"><span class=\"toc-item-num\">1.2&nbsp;&nbsp;</span>Hypothesis testing</a></span><ul class=\"toc-item\"><li><span><a href=\"#Based-on-normal-curve\" data-toc-modified-id=\"Based-on-normal-curve-1.2.1\"><span class=\"toc-item-num\">1.2.1&nbsp;&nbsp;</span>Based on normal curve</a></span></li></ul></li><li><span><a href=\"#p-value\" data-toc-modified-id=\"p-value-1.3\"><span class=\"toc-item-num\">1.3&nbsp;&nbsp;</span>p-value</a></span><ul class=\"toc-item\"><li><span><a href=\"#p-hacking\" data-toc-modified-id=\"p-hacking-1.3.1\"><span class=\"toc-item-num\">1.3.1&nbsp;&nbsp;</span>p-hacking</a></span><ul class=\"toc-item\"><li><span><a href=\"#Testing-a-lot-can-give-significance!\" data-toc-modified-id=\"Testing-a-lot-can-give-significance!-1.3.1.1\"><span class=\"toc-item-num\">1.3.1.1&nbsp;&nbsp;</span>Testing a lot can give significance!</a></span></li></ul></li></ul></li></ul></li><li><span><a href=\"#One-sample-z-test\" data-toc-modified-id=\"One-sample-z-test-2\"><span class=\"toc-item-num\">2&nbsp;&nbsp;</span>One-sample z-test</a></span></li></ul></div>"
   ]
  },
  {
   "cell_type": "markdown",
   "metadata": {
    "colab_type": "text",
    "id": "ON3Sv1V-W7qz"
   },
   "source": [
    "## Statistical Testing\n"
   ]
  },
  {
   "cell_type": "markdown",
   "metadata": {
    "colab_type": "text",
    "id": "VgcCTJ9qZqLg"
   },
   "source": [
    "### Statistical Significance\n",
    "\n"
   ]
  },
  {
   "cell_type": "markdown",
   "metadata": {
    "colab_type": "text",
    "id": "atS5CQPKfrCr"
   },
   "source": [
    "z-statisitic says how many $\\sigma$ (std dev) our sample mean ($\\bar{x}$) is from $\\mu$ (mean):\n",
    "\n",
    " $$ z = \\frac{\\bar{x} - \\mu}{\\frac{\\sigma}{\\sqrt{n}}}$$"
   ]
  },
  {
   "cell_type": "markdown",
   "metadata": {
    "colab_type": "text",
    "id": "gYrOcKtdex-y"
   },
   "source": [
    "\n",
    "z-score == \"how likely is a value this far from mean to be part of the same group?\"\n",
    "Probability here meaning if we repeat this same \"experiment\", the probability we'd get this result\n",
    "\n",
    "Best for determining if the sample matches a population\n",
    "\n"
   ]
  },
  {
   "cell_type": "markdown",
   "metadata": {
    "colab_type": "text",
    "id": "YM5gx4XIZ3Yn"
   },
   "source": [
    "### Hypothesis testing\n",
    "\n"
   ]
  },
  {
   "cell_type": "markdown",
   "metadata": {
    "colab_type": "text",
    "id": "DaxYLLWVez80"
   },
   "source": [
    "Null Hypothesis $H_0$: Assumes nothing new; no effect\n",
    "\n",
    "\n",
    "Alternative Hypothesis $H_a$: Has an effect\n",
    "\n",
    "\n",
    "***Attempt to reject the null***"
   ]
  },
  {
   "cell_type": "markdown",
   "metadata": {
    "colab_type": "text",
    "id": "KgiiPeAFfFSc"
   },
   "source": [
    "#### Based on normal curve"
   ]
  },
  {
   "cell_type": "markdown",
   "metadata": {
    "colab_type": "text",
    "id": "6pd2ag0hfIVx"
   },
   "source": [
    "<img src='https://trello-attachments.s3.amazonaws.com/5c983dd560d95d1196e90287/960x720/20c4824c9070e5b5861d9089f1c4a6ab/Types%2Bof%2BHypothesis%2BTests.jpg' width=600/>"
   ]
  },
  {
   "cell_type": "markdown",
   "metadata": {
    "colab_type": "text",
    "id": "DbQouoWPdtgh"
   },
   "source": [
    "### p-value"
   ]
  },
  {
   "cell_type": "markdown",
   "metadata": {
    "colab_type": "text",
    "id": "ge5_Lz7rdxww"
   },
   "source": [
    "\n",
    "\n",
    "usage: how \"weird\" that sample would be if the $H_0$ is true (our assumption attempting to reject)\n",
    "meaning:\n",
    "\n",
    "[p-value puppies](https://hackernoon.com/explaining-p-values-with-puppies-af63d68005d0)\n",
    "\n",
    "\n"
   ]
  },
  {
   "cell_type": "markdown",
   "metadata": {
    "colab_type": "text",
    "id": "iXRAszPRe5yg"
   },
   "source": [
    "<img width=800 src='https://trello-attachments.s3.amazonaws.com/5c9820e82b57e23871ddad9a/5c983dd560d95d1196e90287/446c1fd314f10a3cfe067034331e24d1/2017-09-11-Statistical-Significance-P-Value-1.png'/>"
   ]
  },
  {
   "cell_type": "markdown",
   "metadata": {
    "colab_type": "text",
    "id": "sUXe1RQSd0Mi"
   },
   "source": [
    "#### p-hacking"
   ]
  },
  {
   "cell_type": "markdown",
   "metadata": {
    "colab_type": "text",
    "id": "LjO5px8td2wI"
   },
   "source": [
    "What makes a good significance value $\\alpha$?\n",
    "\n",
    "\n",
    "<img src='https://imgs.xkcd.com/comics/p_values_2x.png' width=300/>"
   ]
  },
  {
   "cell_type": "markdown",
   "metadata": {
    "colab_type": "text",
    "heading_collapsed": true,
    "id": "SJXexkTDeQKC"
   },
   "source": [
    "##### Testing a lot can give significance!"
   ]
  },
  {
   "cell_type": "markdown",
   "metadata": {
    "colab_type": "text",
    "hidden": true,
    "id": "iwlBlTXCd6T2"
   },
   "source": [
    "5% gives 1/20 times value is \"significant\"\n",
    "\n",
    "<img src='https://imgs.xkcd.com/comics/significant.png' width =600/>"
   ]
  },
  {
   "cell_type": "markdown",
   "metadata": {
    "colab_type": "text",
    "id": "v_rGlmsva3cp"
   },
   "source": [
    "## One-sample z-test\n",
    "\n"
   ]
  },
  {
   "cell_type": "markdown",
   "metadata": {
    "colab_type": "text",
    "id": "pAmDIufgemBH"
   },
   "source": [
    "Steps in doing one-sample z-test:\n",
    "\n",
    "1. State alternative hypothesis (and null)\n",
    "  * example: sample mean is greater than population mean (mu)\n",
    "2. Specify significane level (alpha)\n",
    "  * alpha is the probability of rejecting null even though its true (!)\n",
    "3. Calculate test statistic (z-statistic)\n",
    "  * z-stat = (x_bar - mu) / (sigma /√n)  --> more data mean more likely\n",
    "4. Calculate p-value (from z-table)\n",
    "  * p = 1 - CDF(normal distribution given z-stat)\n",
    "  * Probability we'd find this value given null is true\n",
    "  * `1 - scipy.stats.norm.cdf(z_score)`\n",
    "5. Interpret p-value\n",
    "  * p out of $\\alpha$ (out of confidence interval)\n",
    "  \n"
   ]
  },
  {
   "cell_type": "markdown",
   "metadata": {
    "colab_type": "text",
    "id": "UHAvNhN9enb2"
   },
   "source": [
    "  \n",
    "  \n",
    "  Check out [Jeff's walkthrough](https://www.youtube.com/watch?v=RKrizR1J-x8)"
   ]
  }
 ],
 "metadata": {
  "kernelspec": {
   "display_name": "Python 3",
   "language": "python",
   "name": "python3"
  },
  "language_info": {
   "codemirror_mode": {
    "name": "ipython",
    "version": 3
   },
   "file_extension": ".py",
   "mimetype": "text/x-python",
   "name": "python",
   "nbconvert_exporter": "python",
   "pygments_lexer": "ipython3",
   "version": "3.6.6"
  },
  "toc": {
   "base_numbering": 1,
   "nav_menu": {},
   "number_sections": true,
   "sideBar": true,
   "skip_h1_title": false,
   "title_cell": "Table of Contents",
   "title_sidebar": "Contents",
   "toc_cell": true,
   "toc_position": {},
   "toc_section_display": true,
   "toc_window_display": true
  },
  "varInspector": {
   "cols": {
    "lenName": 16,
    "lenType": 16,
    "lenVar": 40
   },
   "kernels_config": {
    "python": {
     "delete_cmd_postfix": "",
     "delete_cmd_prefix": "del ",
     "library": "var_list.py",
     "varRefreshCmd": "print(var_dic_list())"
    },
    "r": {
     "delete_cmd_postfix": ") ",
     "delete_cmd_prefix": "rm(",
     "library": "var_list.r",
     "varRefreshCmd": "cat(var_dic_list()) "
    }
   },
   "types_to_exclude": [
    "module",
    "function",
    "builtin_function_or_method",
    "instance",
    "_Feature"
   ],
   "window_display": false
  }
 },
 "nbformat": 4,
 "nbformat_minor": 2
}

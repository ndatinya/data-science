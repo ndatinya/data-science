{
 "cells": [
  {
   "cell_type": "markdown",
   "metadata": {
    "toc": true
   },
   "source": [
    "<h1>Table of Contents<span class=\"tocSkip\"></span></h1>\n",
    "<div class=\"toc\"><ul class=\"toc-item\"><li><span><a href=\"#t-Distribution\" data-toc-modified-id=\"t-Distribution-1\"><span class=\"toc-item-num\">1&nbsp;&nbsp;</span>t-Distribution</a></span></li><li><span><a href=\"#Confidence-Interval-for-t-Distribution\" data-toc-modified-id=\"Confidence-Interval-for-t-Distribution-2\"><span class=\"toc-item-num\">2&nbsp;&nbsp;</span>Confidence Interval for t-Distribution</a></span><ul class=\"toc-item\"><li><span><a href=\"#Example-of-data\" data-toc-modified-id=\"Example-of-data-2.1\"><span class=\"toc-item-num\">2.1&nbsp;&nbsp;</span>Example of data</a></span></li></ul></li></ul></div>"
   ]
  },
  {
   "cell_type": "markdown",
   "metadata": {
    "heading_collapsed": true
   },
   "source": [
    "# t-Distribution"
   ]
  },
  {
   "cell_type": "markdown",
   "metadata": {
    "hidden": true
   },
   "source": [
    "History: called \"Student's t-distribution\" by William Gosset in 1908. Guinness Breweries had to publish under a pseudonym"
   ]
  },
  {
   "cell_type": "markdown",
   "metadata": {
    "hidden": true
   },
   "source": [
    "Used since we don't know the population distribution\n",
    "\n",
    "Similar to normal curve, but drops off less quickly at the tails (less certain that the mean is the \"actual\" mean)\n",
    "\n",
    "More **degrees of freedom** (essentially more data; more independent ways to vary) --> closer to a normal curve"
   ]
  },
  {
   "cell_type": "markdown",
   "metadata": {
    "hidden": true
   },
   "source": [
    "<img src='https://raw.githubusercontent.com/learn-co-students/dsc-2-19-16-confidence-intervals-with-t-distribution-online-ds-ft-031119/master/tdist_df.png'/>"
   ]
  },
  {
   "cell_type": "markdown",
   "metadata": {
    "heading_collapsed": true
   },
   "source": [
    "# Confidence Interval for t-Distribution"
   ]
  },
  {
   "cell_type": "code",
   "execution_count": null,
   "metadata": {
    "ExecuteTime": {
     "end_time": "2019-10-01T16:53:45.409791Z",
     "start_time": "2019-10-01T16:53:44.328523Z"
    },
    "hidden": true
   },
   "outputs": [],
   "source": [
    "import pandas as pd\n",
    "import numpy as np\n",
    "import scipy.stats as stats\n",
    "import matplotlib.pyplot as plt"
   ]
  },
  {
   "cell_type": "code",
   "execution_count": null,
   "metadata": {
    "ExecuteTime": {
     "end_time": "2019-10-01T16:53:46.063598Z",
     "start_time": "2019-10-01T16:53:46.054465Z"
    },
    "hidden": true
   },
   "outputs": [],
   "source": [
    "conf_int = 0.95\n",
    "\n",
    "interval_start, interval_end = stats.t.interval(\n",
    "                 alpha = conf_int,  # Confidence level\n",
    "                 df = 99,       # Degrees of freedom\n",
    "                 loc = 65,      # Sample mean\n",
    "                 scale = 18)    # Standard deviation estimate\n",
    "print(f'To get {conf_int*100}%: {interval_start} to {interval_end}')"
   ]
  },
  {
   "cell_type": "markdown",
   "metadata": {
    "heading_collapsed": true,
    "hidden": true
   },
   "source": [
    "## Example of data"
   ]
  },
  {
   "cell_type": "code",
   "execution_count": null,
   "metadata": {
    "ExecuteTime": {
     "end_time": "2019-10-01T16:54:01.713494Z",
     "start_time": "2019-10-01T16:54:01.710797Z"
    },
    "hidden": true
   },
   "outputs": [],
   "source": [
    "# samples = np.random.normal(54, 17, size=100000)\n",
    "samples = np.random.normal(54, 17, size=500)\n",
    "# samples = np.random.normal(54, 17, size=5)"
   ]
  },
  {
   "cell_type": "code",
   "execution_count": null,
   "metadata": {
    "ExecuteTime": {
     "end_time": "2019-10-01T16:54:03.148412Z",
     "start_time": "2019-10-01T16:54:02.829095Z"
    },
    "hidden": true
   },
   "outputs": [],
   "source": [
    "pop_ages = pd.DataFrame(samples)\n",
    "pop_ages.hist(bins=100,range=(-20,120),figsize=(9,9))\n",
    "pop_ages.describe()"
   ]
  },
  {
   "cell_type": "code",
   "execution_count": null,
   "metadata": {
    "ExecuteTime": {
     "end_time": "2019-10-01T16:53:55.840582Z",
     "start_time": "2019-10-01T16:53:55.835528Z"
    },
    "hidden": true
   },
   "outputs": [],
   "source": [
    "#Min and Max of Confidence Interval\n",
    "stats.t.interval(alpha = 0.95,          \n",
    "                 df = len(samples)-1,    \n",
    "                 loc = samples.mean(),\n",
    "                 scale = samples.std())    "
   ]
  }
 ],
 "metadata": {
  "kernelspec": {
   "display_name": "Python 3",
   "language": "python",
   "name": "python3"
  },
  "language_info": {
   "codemirror_mode": {
    "name": "ipython",
    "version": 3
   },
   "file_extension": ".py",
   "mimetype": "text/x-python",
   "name": "python",
   "nbconvert_exporter": "python",
   "pygments_lexer": "ipython3",
   "version": "3.6.6"
  },
  "toc": {
   "base_numbering": 1,
   "nav_menu": {},
   "number_sections": true,
   "sideBar": true,
   "skip_h1_title": false,
   "title_cell": "Table of Contents",
   "title_sidebar": "Contents",
   "toc_cell": true,
   "toc_position": {},
   "toc_section_display": true,
   "toc_window_display": true
  },
  "varInspector": {
   "cols": {
    "lenName": 16,
    "lenType": 16,
    "lenVar": 40
   },
   "kernels_config": {
    "python": {
     "delete_cmd_postfix": "",
     "delete_cmd_prefix": "del ",
     "library": "var_list.py",
     "varRefreshCmd": "print(var_dic_list())"
    },
    "r": {
     "delete_cmd_postfix": ") ",
     "delete_cmd_prefix": "rm(",
     "library": "var_list.r",
     "varRefreshCmd": "cat(var_dic_list()) "
    }
   },
   "types_to_exclude": [
    "module",
    "function",
    "builtin_function_or_method",
    "instance",
    "_Feature"
   ],
   "window_display": false
  }
 },
 "nbformat": 4,
 "nbformat_minor": 2
}

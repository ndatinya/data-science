{
 "cells": [
  {
   "cell_type": "markdown",
   "metadata": {
    "toc": true
   },
   "source": [
    "<h1>Table of Contents<span class=\"tocSkip\"></span></h1>\n",
    "<div class=\"toc\"><ul class=\"toc-item\"><li><span><a href=\"#Use-the-Archictecture\" data-toc-modified-id=\"Use-the-Archictecture-1\"><span class=\"toc-item-num\">1&nbsp;&nbsp;</span>Use the Archictecture</a></span></li><li><span><a href=\"#Depends-on-Situation---How-Much-Data-&amp;-How-Similar\" data-toc-modified-id=\"Depends-on-Situation---How-Much-Data-&amp;-How-Similar-2\"><span class=\"toc-item-num\">2&nbsp;&nbsp;</span>Depends on Situation - How Much Data &amp; How Similar</a></span><ul class=\"toc-item\"><li><span><a href=\"#Large-Data-Set---Similar-Data\" data-toc-modified-id=\"Large-Data-Set---Similar-Data-2.1\"><span class=\"toc-item-num\">2.1&nbsp;&nbsp;</span>Large Data Set - Similar Data</a></span></li><li><span><a href=\"#Large-Data-Set---Different-Data\" data-toc-modified-id=\"Large-Data-Set---Different-Data-2.2\"><span class=\"toc-item-num\">2.2&nbsp;&nbsp;</span>Large Data Set - Different Data</a></span></li><li><span><a href=\"#Small-Data-Set---Similar-Data\" data-toc-modified-id=\"Small-Data-Set---Similar-Data-2.3\"><span class=\"toc-item-num\">2.3&nbsp;&nbsp;</span>Small Data Set - Similar Data</a></span></li><li><span><a href=\"#Small-Data-Set---Different-Data\" data-toc-modified-id=\"Small-Data-Set---Different-Data-2.4\"><span class=\"toc-item-num\">2.4&nbsp;&nbsp;</span>Small Data Set - Different Data</a></span></li></ul></li></ul></div>"
   ]
  },
  {
   "cell_type": "markdown",
   "metadata": {
    "heading_collapsed": true
   },
   "source": [
    "# Use the Archictecture "
   ]
  },
  {
   "cell_type": "markdown",
   "metadata": {
    "hidden": true
   },
   "source": [
    "<img src='images/cnn-abstract.png'/>"
   ]
  },
  {
   "cell_type": "markdown",
   "metadata": {
    "heading_collapsed": true
   },
   "source": [
    "# Depends on Situation - How Much Data & How Similar"
   ]
  },
  {
   "cell_type": "markdown",
   "metadata": {
    "heading_collapsed": true,
    "hidden": true
   },
   "source": [
    "## Large Data Set - Similar Data"
   ]
  },
  {
   "cell_type": "markdown",
   "metadata": {
    "hidden": true
   },
   "source": [
    "> Fine-tuning"
   ]
  },
  {
   "cell_type": "markdown",
   "metadata": {
    "hidden": true
   },
   "source": [
    "- Layers detect low to high level features\n",
    "    + Will retrain weights (get a head start)\n",
    "- New fully connected layer\n",
    "    + Randomize weights\n",
    "    + Train to update weights (full network: CNN +FCN)"
   ]
  },
  {
   "cell_type": "markdown",
   "metadata": {
    "heading_collapsed": true,
    "hidden": true
   },
   "source": [
    "## Large Data Set - Different Data"
   ]
  },
  {
   "cell_type": "markdown",
   "metadata": {
    "hidden": true
   },
   "source": [
    "> Fine-tuning or Retraining"
   ]
  },
  {
   "cell_type": "markdown",
   "metadata": {
    "hidden": true
   },
   "source": [
    "- Layers detect low to high level features\n",
    "    + Randomize weights (though keeping the same might train faster & work)\n",
    "    + Will retrain weights\n",
    "- New fully connected layer\n",
    "    + Randomize weights\n",
    "    + Train to update weights ((full network: CNN +FCN)"
   ]
  },
  {
   "cell_type": "markdown",
   "metadata": {
    "heading_collapsed": true,
    "hidden": true
   },
   "source": [
    "## Small Data Set - Similar Data"
   ]
  },
  {
   "cell_type": "markdown",
   "metadata": {
    "hidden": true
   },
   "source": [
    "> Use the CNN to find (high & low level) features"
   ]
  },
  {
   "cell_type": "markdown",
   "metadata": {
    "hidden": true
   },
   "source": [
    "- Layers detect high level features since similar\n",
    "    + Freeze weights of CNN (avoid overfitting)\n",
    "- New fully connected layer\n",
    "    + Randomize weights\n",
    "    + Train to update weights"
   ]
  },
  {
   "cell_type": "markdown",
   "metadata": {
    "heading_collapsed": true,
    "hidden": true
   },
   "source": [
    "## Small Data Set - Different Data"
   ]
  },
  {
   "cell_type": "markdown",
   "metadata": {
    "hidden": true
   },
   "source": [
    "> Use the CNN only to find low level features"
   ]
  },
  {
   "cell_type": "markdown",
   "metadata": {
    "hidden": true
   },
   "source": [
    "- Layers detect low level features but don't need high level features\n",
    "    + Remove end of pre-trained layers (keep most of the beginning)\n",
    "    + Freeze weights (avoid overfitting)\n",
    "- New fully connected layer\n",
    "    + Randomize weights\n",
    "    + Train to update weights"
   ]
  }
 ],
 "metadata": {
  "kernelspec": {
   "display_name": "Python 3",
   "language": "python",
   "name": "python3"
  },
  "language_info": {
   "codemirror_mode": {
    "name": "ipython",
    "version": 3
   },
   "file_extension": ".py",
   "mimetype": "text/x-python",
   "name": "python",
   "nbconvert_exporter": "python",
   "pygments_lexer": "ipython3",
   "version": "3.7.1"
  },
  "toc": {
   "base_numbering": 1,
   "nav_menu": {},
   "number_sections": true,
   "sideBar": true,
   "skip_h1_title": false,
   "title_cell": "Table of Contents",
   "title_sidebar": "Contents",
   "toc_cell": true,
   "toc_position": {},
   "toc_section_display": true,
   "toc_window_display": true
  },
  "varInspector": {
   "cols": {
    "lenName": 16,
    "lenType": 16,
    "lenVar": 40
   },
   "kernels_config": {
    "python": {
     "delete_cmd_postfix": "",
     "delete_cmd_prefix": "del ",
     "library": "var_list.py",
     "varRefreshCmd": "print(var_dic_list())"
    },
    "r": {
     "delete_cmd_postfix": ") ",
     "delete_cmd_prefix": "rm(",
     "library": "var_list.r",
     "varRefreshCmd": "cat(var_dic_list()) "
    }
   },
   "types_to_exclude": [
    "module",
    "function",
    "builtin_function_or_method",
    "instance",
    "_Feature"
   ],
   "window_display": false
  }
 },
 "nbformat": 4,
 "nbformat_minor": 2
}

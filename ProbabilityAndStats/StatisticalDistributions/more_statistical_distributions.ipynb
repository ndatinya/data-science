{
 "cells": [
  {
   "cell_type": "markdown",
   "metadata": {
    "toc": true
   },
   "source": [
    "<h1>Table of Contents<span class=\"tocSkip\"></span></h1>\n",
    "<div class=\"toc\"><ul class=\"toc-item\"><li><span><a href=\"#Uniform-Distribution\" data-toc-modified-id=\"Uniform-Distribution-1\"><span class=\"toc-item-num\">1&nbsp;&nbsp;</span>Uniform Distribution</a></span><ul class=\"toc-item\"><li><span><a href=\"#Some-useful-equations\" data-toc-modified-id=\"Some-useful-equations-1.1\"><span class=\"toc-item-num\">1.1&nbsp;&nbsp;</span>Some useful equations</a></span></li></ul></li><li><span><a href=\"#Negative-Binomial-Distribution\" data-toc-modified-id=\"Negative-Binomial-Distribution-2\"><span class=\"toc-item-num\">2&nbsp;&nbsp;</span>Negative Binomial Distribution</a></span><ul class=\"toc-item\"><li><span><a href=\"#Some-useful-equations\" data-toc-modified-id=\"Some-useful-equations-2.1\"><span class=\"toc-item-num\">2.1&nbsp;&nbsp;</span>Some useful equations</a></span></li></ul></li><li><span><a href=\"#Geometric-Distribution\" data-toc-modified-id=\"Geometric-Distribution-3\"><span class=\"toc-item-num\">3&nbsp;&nbsp;</span>Geometric Distribution</a></span></li><li><span><a href=\"#Poisson-Distribution\" data-toc-modified-id=\"Poisson-Distribution-4\"><span class=\"toc-item-num\">4&nbsp;&nbsp;</span>Poisson Distribution</a></span><ul class=\"toc-item\"><li><span><a href=\"#Some-useful-equations\" data-toc-modified-id=\"Some-useful-equations-4.1\"><span class=\"toc-item-num\">4.1&nbsp;&nbsp;</span>Some useful equations</a></span></li></ul></li><li><span><a href=\"#Exponential-Distribution\" data-toc-modified-id=\"Exponential-Distribution-5\"><span class=\"toc-item-num\">5&nbsp;&nbsp;</span>Exponential Distribution</a></span><ul class=\"toc-item\"><li><span><a href=\"#Some-useful-equations\" data-toc-modified-id=\"Some-useful-equations-5.1\"><span class=\"toc-item-num\">5.1&nbsp;&nbsp;</span>Some useful equations</a></span></li></ul></li></ul></div>"
   ]
  },
  {
   "cell_type": "markdown",
   "metadata": {
    "heading_collapsed": true
   },
   "source": [
    "# Uniform Distribution"
   ]
  },
  {
   "cell_type": "markdown",
   "metadata": {
    "heading_collapsed": true,
    "hidden": true
   },
   "source": [
    "## Some useful equations"
   ]
  },
  {
   "cell_type": "markdown",
   "metadata": {
    "hidden": true
   },
   "source": [
    "Mean:    $ \\frac{b + a}{2} $\n",
    "\n",
    "Std Dev: $ \\sqrt{\\frac{(b - a)^2}{12}} $"
   ]
  },
  {
   "cell_type": "markdown",
   "metadata": {
    "heading_collapsed": true
   },
   "source": [
    "# Negative Binomial Distribution"
   ]
  },
  {
   "cell_type": "markdown",
   "metadata": {
    "hidden": true
   },
   "source": [
    "Probability to get \"number of times of failures/success\" within a given number of events\n",
    "\n",
    "Ex: Flip coin until 2 tails (stop flipping at the 2 tails); probability of doing 9 flips?\n",
    "\n",
    "<!-- Compared to Binomial (probability of number of this many success in a given number of events)-->"
   ]
  },
  {
   "cell_type": "markdown",
   "metadata": {
    "hidden": true
   },
   "source": [
    "<img width=40% src='https://upload.wikimedia.org/wikipedia/commons/8/83/Negbinomial.gif'/>\n",
    "\n",
    "[Wikipedia: Negative Binomial Distribution](https://en.wikipedia.org/wiki/Negative_binomial_distribution)"
   ]
  },
  {
   "cell_type": "markdown",
   "metadata": {
    "heading_collapsed": true,
    "hidden": true
   },
   "source": [
    "## Some useful equations"
   ]
  },
  {
   "cell_type": "markdown",
   "metadata": {
    "hidden": true
   },
   "source": [
    "Mean:    $ \\frac{r}{p}$\n",
    "\n",
    "Std Dev: $ \\frac{\\sqrt{r\\ (1-p)}}{p}  $\n"
   ]
  },
  {
   "cell_type": "markdown",
   "metadata": {
    "heading_collapsed": true
   },
   "source": [
    "# Geometric Distribution"
   ]
  },
  {
   "cell_type": "markdown",
   "metadata": {
    "hidden": true
   },
   "source": [
    "Same as negative binomial, but stop after first failure"
   ]
  },
  {
   "cell_type": "markdown",
   "metadata": {
    "heading_collapsed": true
   },
   "source": [
    "# Poisson Distribution"
   ]
  },
  {
   "cell_type": "markdown",
   "metadata": {
    "hidden": true
   },
   "source": [
    "_\"The probability of having a number of occurrences/success in a given interval (time or space)\"_\n",
    "\n",
    "Essentially the continuous version of binomial distribution (related mostly to time)"
   ]
  },
  {
   "cell_type": "markdown",
   "metadata": {
    "hidden": true
   },
   "source": [
    "<img width = 60% src='https://upload.wikimedia.org/wikipedia/commons/thumb/1/16/Poisson_pmf.svg/650px-Poisson_pmf.svg.png'/>\n",
    "\n",
    "[Wikipedia: Poisson Distribution](https://en.wikipedia.org/wiki/Poisson_distribution)"
   ]
  },
  {
   "cell_type": "markdown",
   "metadata": {
    "heading_collapsed": true,
    "hidden": true
   },
   "source": [
    "## Some useful equations"
   ]
  },
  {
   "cell_type": "markdown",
   "metadata": {
    "hidden": true
   },
   "source": [
    "$ p(x) = {\\displaystyle {\\frac {\\lambda ^{x}e^{-\\lambda }}{x!}}} $\n",
    "\n",
    "Mean:    $ \\lambda$\n",
    "\n",
    "Std Dev: $ \\sqrt{\\lambda} $\n"
   ]
  },
  {
   "cell_type": "markdown",
   "metadata": {
    "heading_collapsed": true
   },
   "source": [
    "# Exponential Distribution"
   ]
  },
  {
   "cell_type": "markdown",
   "metadata": {
    "hidden": true
   },
   "source": [
    "_\"Probability of an interval of a given length to occur before an event\"_"
   ]
  },
  {
   "cell_type": "markdown",
   "metadata": {
    "hidden": true
   },
   "source": [
    "Continuous version of geometric (stop when it occurs); opposite of Poisson"
   ]
  },
  {
   "cell_type": "markdown",
   "metadata": {
    "hidden": true
   },
   "source": [
    "**Example:** _particle decay (Uranium)_"
   ]
  },
  {
   "cell_type": "markdown",
   "metadata": {
    "hidden": true
   },
   "source": [
    "<img width=40% src='https://upload.wikimedia.org/wikipedia/commons/thumb/e/ec/Exponential_pdf.svg/650px-Exponential_pdf.svg.png'/>\n",
    "\n",
    "https://en.wikipedia.org/wiki/Exponential_distribution"
   ]
  },
  {
   "cell_type": "markdown",
   "metadata": {
    "heading_collapsed": true,
    "hidden": true
   },
   "source": [
    "## Some useful equations"
   ]
  },
  {
   "cell_type": "markdown",
   "metadata": {
    "hidden": true
   },
   "source": [
    "$p(x) = \\lambda e^{-\\lambda x}$"
   ]
  },
  {
   "cell_type": "markdown",
   "metadata": {
    "hidden": true
   },
   "source": [
    "Mean:    $ \\frac{1}{\\lambda} = \\beta $\n",
    "\n",
    "Std Dev: $ \\frac{1}{\\lambda} = \\beta $\n"
   ]
  }
 ],
 "metadata": {
  "kernelspec": {
   "display_name": "Python 3",
   "language": "python",
   "name": "python3"
  },
  "language_info": {
   "codemirror_mode": {
    "name": "ipython",
    "version": 3
   },
   "file_extension": ".py",
   "mimetype": "text/x-python",
   "name": "python",
   "nbconvert_exporter": "python",
   "pygments_lexer": "ipython3",
   "version": "3.7.1"
  },
  "toc": {
   "base_numbering": 1,
   "nav_menu": {},
   "number_sections": true,
   "sideBar": true,
   "skip_h1_title": false,
   "title_cell": "Table of Contents",
   "title_sidebar": "Contents",
   "toc_cell": true,
   "toc_position": {},
   "toc_section_display": true,
   "toc_window_display": true
  },
  "varInspector": {
   "cols": {
    "lenName": 16,
    "lenType": 16,
    "lenVar": 40
   },
   "kernels_config": {
    "python": {
     "delete_cmd_postfix": "",
     "delete_cmd_prefix": "del ",
     "library": "var_list.py",
     "varRefreshCmd": "print(var_dic_list())"
    },
    "r": {
     "delete_cmd_postfix": ") ",
     "delete_cmd_prefix": "rm(",
     "library": "var_list.r",
     "varRefreshCmd": "cat(var_dic_list()) "
    }
   },
   "types_to_exclude": [
    "module",
    "function",
    "builtin_function_or_method",
    "instance",
    "_Feature"
   ],
   "window_display": false
  }
 },
 "nbformat": 4,
 "nbformat_minor": 2
}

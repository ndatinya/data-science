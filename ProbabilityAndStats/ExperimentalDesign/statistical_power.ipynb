{
 "cells": [
  {
   "cell_type": "markdown",
   "metadata": {
    "toc": true
   },
   "source": [
    "<h1>Table of Contents<span class=\"tocSkip\"></span></h1>\n",
    "<div class=\"toc\"><ul class=\"toc-item\"><li><span><a href=\"#Is-Your-Test-Powerful?\" data-toc-modified-id=\"Is-Your-Test-Powerful?-1\"><span class=\"toc-item-num\">1&nbsp;&nbsp;</span>Is Your Test Powerful?</a></span><ul class=\"toc-item\"><li><span><a href=\"#What-does-the-number-mean?\" data-toc-modified-id=\"What-does-the-number-mean?-1.1\"><span class=\"toc-item-num\">1.1&nbsp;&nbsp;</span>What does the number mean?</a></span></li></ul></li><li><span><a href=\"#Why-this-matters\" data-toc-modified-id=\"Why-this-matters-2\"><span class=\"toc-item-num\">2&nbsp;&nbsp;</span>Why this matters</a></span><ul class=\"toc-item\"><li><span><a href=\"#Solution?\" data-toc-modified-id=\"Solution?-2.1\"><span class=\"toc-item-num\">2.1&nbsp;&nbsp;</span>Solution?</a></span></li><li><span><a href=\"#Scenario-Time\" data-toc-modified-id=\"Scenario-Time-2.2\"><span class=\"toc-item-num\">2.2&nbsp;&nbsp;</span>Scenario Time</a></span><ul class=\"toc-item\"><li><span><a href=\"#Effect-Size-Scenarios:\" data-toc-modified-id=\"Effect-Size-Scenarios:-2.2.1\"><span class=\"toc-item-num\">2.2.1&nbsp;&nbsp;</span>Effect Size Scenarios:</a></span></li><li><span><a href=\"#Variation-Scenarios:\" data-toc-modified-id=\"Variation-Scenarios:-2.2.2\"><span class=\"toc-item-num\">2.2.2&nbsp;&nbsp;</span>Variation Scenarios:</a></span></li><li><span><a href=\"#Sample-Size:\" data-toc-modified-id=\"Sample-Size:-2.2.3\"><span class=\"toc-item-num\">2.2.3&nbsp;&nbsp;</span>Sample Size:</a></span></li><li><span><a href=\"#A-Note!\" data-toc-modified-id=\"A-Note!-2.2.4\"><span class=\"toc-item-num\">2.2.4&nbsp;&nbsp;</span>A Note!</a></span></li></ul></li><li><span><a href=\"#Power-Calculation\" data-toc-modified-id=\"Power-Calculation-2.3\"><span class=\"toc-item-num\">2.3&nbsp;&nbsp;</span>Power Calculation</a></span><ul class=\"toc-item\"><li><span><a href=\"#Got-data?\" data-toc-modified-id=\"Got-data?-2.3.1\"><span class=\"toc-item-num\">2.3.1&nbsp;&nbsp;</span>Got data?</a></span></li><li><span><a href=\"#No-data?\" data-toc-modified-id=\"No-data?-2.3.2\"><span class=\"toc-item-num\">2.3.2&nbsp;&nbsp;</span>No data?</a></span></li></ul></li></ul></li></ul></div>"
   ]
  },
  {
   "cell_type": "code",
   "execution_count": 1,
   "metadata": {
    "ExecuteTime": {
     "end_time": "2019-07-30T22:29:57.821580Z",
     "start_time": "2019-07-30T22:29:57.007483Z"
    }
   },
   "outputs": [],
   "source": [
    "import numpy as np\n",
    "import pandas as pd\n",
    "\n",
    "# Plotting \n",
    "import seaborn as sns\n",
    "import matplotlib.pyplot as plt\n",
    "\n",
    "import scipy.stats as stats"
   ]
  },
  {
   "cell_type": "markdown",
   "metadata": {
    "heading_collapsed": true
   },
   "source": [
    "# Is Your Test Powerful?"
   ]
  },
  {
   "cell_type": "markdown",
   "metadata": {
    "hidden": true
   },
   "source": [
    "**Statistical Power**: How good is our test; essentially how many Type 2 errors\n",
    "\n",
    "$$power = 1 - \\beta$$"
   ]
  },
  {
   "cell_type": "markdown",
   "metadata": {
    "heading_collapsed": true,
    "hidden": true
   },
   "source": [
    "## What does the number mean?"
   ]
  },
  {
   "cell_type": "markdown",
   "metadata": {
    "hidden": true
   },
   "source": [
    "- Ranges from 0 to 1\n",
    "- 1: test perfectly identifies rejecting the $H_0$ when it is wrong"
   ]
  },
  {
   "cell_type": "markdown",
   "metadata": {
    "hidden": true
   },
   "source": [
    "**NOTE**: $\\alpha$ , power, sample size and effect size are all related!"
   ]
  },
  {
   "cell_type": "markdown",
   "metadata": {
    "hidden": true
   },
   "source": [
    "Visual example: https://rpsychologist.com/d3/NHST/"
   ]
  },
  {
   "cell_type": "markdown",
   "metadata": {
    "heading_collapsed": true
   },
   "source": [
    "# Why this matters"
   ]
  },
  {
   "cell_type": "markdown",
   "metadata": {
    "hidden": true
   },
   "source": [
    "Adding more samples when p is \"close\" can lead to statistical significance (reject $H_0$) when we actually shouldn't!"
   ]
  },
  {
   "cell_type": "markdown",
   "metadata": {
    "heading_collapsed": true,
    "hidden": true
   },
   "source": [
    "## Solution?"
   ]
  },
  {
   "cell_type": "markdown",
   "metadata": {
    "hidden": true
   },
   "source": [
    "\"power calculation\" before experiment to determine number of samples needed\n",
    "\n",
    "Power == the probability of getting a correctly give you a small p-value"
   ]
  },
  {
   "cell_type": "markdown",
   "metadata": {
    "heading_collapsed": true,
    "hidden": true
   },
   "source": [
    "## Scenario Time"
   ]
  },
  {
   "cell_type": "markdown",
   "metadata": {
    "heading_collapsed": true,
    "hidden": true
   },
   "source": [
    "### Effect Size Scenarios:"
   ]
  },
  {
   "cell_type": "markdown",
   "metadata": {
    "hidden": true
   },
   "source": [
    "- large effect: small # of points likely will give us p-values to correctly to reject\n",
    "- small effect: same # of points unlikely a small enough p-value to reject (more false negatives)"
   ]
  },
  {
   "cell_type": "code",
   "execution_count": 2,
   "metadata": {
    "ExecuteTime": {
     "end_time": "2019-07-30T22:39:47.465934Z",
     "start_time": "2019-07-30T22:39:47.462783Z"
    },
    "hidden": true
   },
   "outputs": [],
   "source": [
    "def normal_with_effect(mu, sigma, effect):\n",
    "    '''\n",
    "    Plot a normal distribution with difference effect sizes (disatance from the mean)\n",
    "    '''\n",
    "    x = np.linspace(mu - 5*sigma, mu+effect + 5*sigma, 100)\n",
    "    plt.plot(x, stats.norm.pdf(x, mu, sigma))\n",
    "    plt.plot(x, stats.norm.pdf(x, mu+effect, sigma))\n",
    "    plt.show()"
   ]
  },
  {
   "cell_type": "code",
   "execution_count": 3,
   "metadata": {
    "ExecuteTime": {
     "end_time": "2019-07-30T22:39:49.036261Z",
     "start_time": "2019-07-30T22:39:48.903389Z"
    },
    "hidden": true
   },
   "outputs": [
    {
     "data": {
      "image/png": "[encoded data removed]",
      "text/plain": [
       "<Figure size 432x288 with 1 Axes>"
      ]
     },
     "metadata": {
      "needs_background": "light"
     },
     "output_type": "display_data"
    }
   ],
   "source": [
    "# Small Effect\n",
    "normal_with_effect(0, 1, effect=1)"
   ]
  },
  {
   "cell_type": "code",
   "execution_count": 4,
   "metadata": {
    "ExecuteTime": {
     "end_time": "2019-07-30T22:39:50.563043Z",
     "start_time": "2019-07-30T22:39:50.406087Z"
    },
    "hidden": true
   },
   "outputs": [
    {
     "data": {
      "image/png": "[encoded data removed]",
      "text/plain": [
       "<Figure size 432x288 with 1 Axes>"
      ]
     },
     "metadata": {
      "needs_background": "light"
     },
     "output_type": "display_data"
    }
   ],
   "source": [
    "# large Effect\n",
    "normal_with_effect(0, 1, effect=5)"
   ]
  },
  {
   "cell_type": "markdown",
   "metadata": {
    "heading_collapsed": true,
    "hidden": true
   },
   "source": [
    "### Variation Scenarios:"
   ]
  },
  {
   "cell_type": "markdown",
   "metadata": {
    "hidden": true
   },
   "source": [
    "- effect small, variation is small: high probability of p-value correct (high power)\n",
    "- effect small, variation is large (small rolling hills: low probability"
   ]
  },
  {
   "cell_type": "markdown",
   "metadata": {
    "heading_collapsed": true,
    "hidden": true
   },
   "source": [
    "### Sample Size:"
   ]
  },
  {
   "cell_type": "markdown",
   "metadata": {
    "hidden": true
   },
   "source": [
    "- if sample is small: sometimes we are likely to get extremes (confidence is smaller)\n",
    "- effect size is large:we likely\n",
    "- effect size is small: we need a large sample size to be confident in our results (smaller overlap)"
   ]
  },
  {
   "cell_type": "markdown",
   "metadata": {
    "heading_collapsed": true,
    "hidden": true
   },
   "source": [
    "### A Note!"
   ]
  },
  {
   "cell_type": "markdown",
   "metadata": {
    "hidden": true
   },
   "source": [
    "Statistical test can effect power! (but t-test is pretty bomb \\*whew\\*)"
   ]
  },
  {
   "cell_type": "markdown",
   "metadata": {
    "heading_collapsed": true,
    "hidden": true
   },
   "source": [
    "## Power Calculation"
   ]
  },
  {
   "cell_type": "markdown",
   "metadata": {
    "hidden": true
   },
   "source": [
    "- Use old data/ public data /guess that your experiment is similar to another\n",
    "- Then use it to determine effect size, check out the means & std to get an idea of the distribution\n",
    "    + Variation of the means (from sample means) is **standard error** $se = \\frac{s}{\\sqrt{N}}$ ($s$ is sample's standard deviation)\n",
    "- Computer solves for N"
   ]
  },
  {
   "cell_type": "markdown",
   "metadata": {
    "heading_collapsed": true,
    "hidden": true
   },
   "source": [
    "### Got data?"
   ]
  },
  {
   "cell_type": "markdown",
   "metadata": {
    "hidden": true
   },
   "source": [
    "Calculate effect size and variation then use power to determine sample size"
   ]
  },
  {
   "cell_type": "markdown",
   "metadata": {
    "heading_collapsed": true,
    "hidden": true
   },
   "source": [
    "### No data?"
   ]
  },
  {
   "cell_type": "markdown",
   "metadata": {
    "hidden": true
   },
   "source": [
    "1. Assume a sample size\n",
    "2. What's your desired effect size?\n",
    "3. This gives you how much variation for a good power \n",
    "    + if variation is too small, increase sample size or effect size"
   ]
  },
  {
   "cell_type": "markdown",
   "metadata": {
    "hidden": true
   },
   "source": [
    "**From curriculum:**\n",
    "\n",
    "Code example: https://github.com/learn-co-students/dsc-statistical-power-online-ds-pt-041519\n",
    "\n"
   ]
  }
 ],
 "metadata": {
  "kernelspec": {
   "display_name": "Python 3",
   "language": "python",
   "name": "python3"
  },
  "language_info": {
   "codemirror_mode": {
    "name": "ipython",
    "version": 3
   },
   "file_extension": ".py",
   "mimetype": "text/x-python",
   "name": "python",
   "nbconvert_exporter": "python",
   "pygments_lexer": "ipython3",
   "version": "3.6.6"
  },
  "toc": {
   "base_numbering": 1,
   "nav_menu": {},
   "number_sections": true,
   "sideBar": true,
   "skip_h1_title": false,
   "title_cell": "Table of Contents",
   "title_sidebar": "Contents",
   "toc_cell": true,
   "toc_position": {},
   "toc_section_display": true,
   "toc_window_display": true
  },
  "varInspector": {
   "cols": {
    "lenName": 16,
    "lenType": 16,
    "lenVar": 40
   },
   "kernels_config": {
    "python": {
     "delete_cmd_postfix": "",
     "delete_cmd_prefix": "del ",
     "library": "var_list.py",
     "varRefreshCmd": "print(var_dic_list())"
    },
    "r": {
     "delete_cmd_postfix": ") ",
     "delete_cmd_prefix": "rm(",
     "library": "var_list.r",
     "varRefreshCmd": "cat(var_dic_list()) "
    }
   },
   "types_to_exclude": [
    "module",
    "function",
    "builtin_function_or_method",
    "instance",
    "_Feature"
   ],
   "window_display": false
  }
 },
 "nbformat": 4,
 "nbformat_minor": 2
}

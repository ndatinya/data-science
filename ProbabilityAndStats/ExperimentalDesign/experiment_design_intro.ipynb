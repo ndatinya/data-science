{
 "cells": [
  {
   "cell_type": "markdown",
   "metadata": {
    "toc": true
   },
   "source": [
    "<h1>Table of Contents<span class=\"tocSkip\"></span></h1>\n",
    "<div class=\"toc\"><ul class=\"toc-item\"><li><span><a href=\"#Experimential-Design\" data-toc-modified-id=\"Experimential-Design-1\"><span class=\"toc-item-num\">1&nbsp;&nbsp;</span>Experimential Design</a></span><ul class=\"toc-item\"><li><span><a href=\"#Using-the-Scientific-Method\" data-toc-modified-id=\"Using-the-Scientific-Method-1.1\"><span class=\"toc-item-num\">1.1&nbsp;&nbsp;</span>Using the Scientific Method</a></span></li><li><span><a href=\"#Making-a-Good-Experiment\" data-toc-modified-id=\"Making-a-Good-Experiment-1.2\"><span class=\"toc-item-num\">1.2&nbsp;&nbsp;</span>Making a Good Experiment</a></span></li><li><span><a href=\"#Control-Groups\" data-toc-modified-id=\"Control-Groups-1.3\"><span class=\"toc-item-num\">1.3&nbsp;&nbsp;</span>Control Groups</a></span></li><li><span><a href=\"#Random-Trials\" data-toc-modified-id=\"Random-Trials-1.4\"><span class=\"toc-item-num\">1.4&nbsp;&nbsp;</span>Random Trials</a></span></li><li><span><a href=\"#Sample-Size\" data-toc-modified-id=\"Sample-Size-1.5\"><span class=\"toc-item-num\">1.5&nbsp;&nbsp;</span>Sample Size</a></span></li><li><span><a href=\"#Reproducible\" data-toc-modified-id=\"Reproducible-1.6\"><span class=\"toc-item-num\">1.6&nbsp;&nbsp;</span>Reproducible</a></span></li></ul></li><li><span><a href=\"#Find-good-examples\" data-toc-modified-id=\"Find-good-examples-2\"><span class=\"toc-item-num\">2&nbsp;&nbsp;</span>Find good examples</a></span></li></ul></div>"
   ]
  },
  {
   "cell_type": "markdown",
   "metadata": {
    "heading_collapsed": true
   },
   "source": [
    "# Experimential Design"
   ]
  },
  {
   "cell_type": "markdown",
   "metadata": {
    "heading_collapsed": true,
    "hidden": true
   },
   "source": [
    "## Using the Scientific Method"
   ]
  },
  {
   "cell_type": "markdown",
   "metadata": {
    "hidden": true
   },
   "source": [
    "1. Question/Observation\n",
    "2. Background Knowledge\n",
    "3. Hypothesis\n",
    "4. Experiment\n",
    "5. Analysis\n",
    "6. Conclusions"
   ]
  },
  {
   "cell_type": "markdown",
   "metadata": {
    "heading_collapsed": true,
    "hidden": true
   },
   "source": [
    "## Making a Good Experiment"
   ]
  },
  {
   "cell_type": "markdown",
   "metadata": {
    "heading_collapsed": true,
    "hidden": true
   },
   "source": [
    "## Control Groups"
   ]
  },
  {
   "cell_type": "markdown",
   "metadata": {
    "heading_collapsed": true,
    "hidden": true
   },
   "source": [
    "## Random Trials"
   ]
  },
  {
   "cell_type": "markdown",
   "metadata": {
    "heading_collapsed": true,
    "hidden": true
   },
   "source": [
    "## Sample Size"
   ]
  },
  {
   "cell_type": "markdown",
   "metadata": {
    "heading_collapsed": true,
    "hidden": true
   },
   "source": [
    "## Reproducible"
   ]
  },
  {
   "cell_type": "markdown",
   "metadata": {
    "heading_collapsed": true
   },
   "source": [
    "# Find good examples\n",
    "\n",
    "I personally love watching Healthcare Triage (analysis of research & what it likely means)\n",
    "\n",
    "https://www.youtube.com/user/thehealthcaretriage"
   ]
  }
 ],
 "metadata": {
  "kernelspec": {
   "display_name": "Python 3",
   "language": "python",
   "name": "python3"
  },
  "language_info": {
   "codemirror_mode": {
    "name": "ipython",
    "version": 3
   },
   "file_extension": ".py",
   "mimetype": "text/x-python",
   "name": "python",
   "nbconvert_exporter": "python",
   "pygments_lexer": "ipython3",
   "version": "3.6.6"
  },
  "toc": {
   "base_numbering": 1,
   "nav_menu": {},
   "number_sections": true,
   "sideBar": true,
   "skip_h1_title": false,
   "title_cell": "Table of Contents",
   "title_sidebar": "Contents",
   "toc_cell": true,
   "toc_position": {},
   "toc_section_display": true,
   "toc_window_display": true
  },
  "varInspector": {
   "cols": {
    "lenName": 16,
    "lenType": 16,
    "lenVar": 40
   },
   "kernels_config": {
    "python": {
     "delete_cmd_postfix": "",
     "delete_cmd_prefix": "del ",
     "library": "var_list.py",
     "varRefreshCmd": "print(var_dic_list())"
    },
    "r": {
     "delete_cmd_postfix": ") ",
     "delete_cmd_prefix": "rm(",
     "library": "var_list.r",
     "varRefreshCmd": "cat(var_dic_list()) "
    }
   },
   "types_to_exclude": [
    "module",
    "function",
    "builtin_function_or_method",
    "instance",
    "_Feature"
   ],
   "window_display": false
  }
 },
 "nbformat": 4,
 "nbformat_minor": 2
}

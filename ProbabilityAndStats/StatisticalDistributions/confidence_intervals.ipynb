{
 "cells": [
  {
   "cell_type": "markdown",
   "metadata": {
    "toc": true
   },
   "source": [
    "<h1>Table of Contents<span class=\"tocSkip\"></span></h1>\n",
    "<div class=\"toc\"><ul class=\"toc-item\"><li><span><a href=\"#Confidence-Intervals\" data-toc-modified-id=\"Confidence-Intervals-1\"><span class=\"toc-item-num\">1&nbsp;&nbsp;</span>Confidence Intervals</a></span></li><li><span><a href=\"#Interpreting-Confidence-Intervals\" data-toc-modified-id=\"Interpreting-Confidence-Intervals-2\"><span class=\"toc-item-num\">2&nbsp;&nbsp;</span>Interpreting Confidence Intervals</a></span><ul class=\"toc-item\"><li><span><a href=\"#Interpretation-1-(incorrect)\" data-toc-modified-id=\"Interpretation-1-(incorrect)-2.1\"><span class=\"toc-item-num\">2.1&nbsp;&nbsp;</span>Interpretation 1 (incorrect)</a></span></li><li><span><a href=\"#Interpretation-2-(correct)\" data-toc-modified-id=\"Interpretation-2-(correct)-2.2\"><span class=\"toc-item-num\">2.2&nbsp;&nbsp;</span>Interpretation 2 (correct)</a></span></li></ul></li><li><span><a href=\"#Code\" data-toc-modified-id=\"Code-3\"><span class=\"toc-item-num\">3&nbsp;&nbsp;</span>Code</a></span><ul class=\"toc-item\"><li><span><a href=\"#Finding-confidence-interval\" data-toc-modified-id=\"Finding-confidence-interval-3.1\"><span class=\"toc-item-num\">3.1&nbsp;&nbsp;</span>Finding confidence interval</a></span></li></ul></li></ul></div>"
   ]
  },
  {
   "cell_type": "markdown",
   "metadata": {
    "heading_collapsed": true
   },
   "source": [
    "# Confidence Intervals"
   ]
  },
  {
   "cell_type": "markdown",
   "metadata": {
    "hidden": true
   },
   "source": [
    "We calculate this from our sample to get an idea of our population"
   ]
  },
  {
   "cell_type": "markdown",
   "metadata": {
    "heading_collapsed": true
   },
   "source": [
    "# Interpreting Confidence Intervals"
   ]
  },
  {
   "cell_type": "markdown",
   "metadata": {
    "hidden": true
   },
   "source": [
    "Consider: \n",
    "\n",
    "\"we found our 95% confidence interval for ages to be from 26.3 and 28.3\"\n",
    "\n",
    "OR \n",
    "\n",
    "\"we are 95% confident that the average age falls between 26.3 and 28.3\""
   ]
  },
  {
   "cell_type": "markdown",
   "metadata": {
    "heading_collapsed": true,
    "hidden": true
   },
   "source": [
    "## Interpretation 1 (incorrect)"
   ]
  },
  {
   "cell_type": "markdown",
   "metadata": {
    "hidden": true
   },
   "source": [
    "> There is a 95% probability that the mean age is between 26.3 and 28.3"
   ]
  },
  {
   "cell_type": "markdown",
   "metadata": {
    "heading_collapsed": true,
    "hidden": true
   },
   "source": [
    "## Interpretation 2 (correct)"
   ]
  },
  {
   "cell_type": "markdown",
   "metadata": {
    "hidden": true
   },
   "source": [
    "> If we find 100 (random) samples and create confidence intervals, we expect 95 intervals would contain the true mean of population age."
   ]
  },
  {
   "cell_type": "markdown",
   "metadata": {
    "heading_collapsed": true
   },
   "source": [
    "# Code "
   ]
  },
  {
   "cell_type": "code",
   "execution_count": null,
   "metadata": {
    "ExecuteTime": {
     "end_time": "2020-03-26T21:25:39.494051Z",
     "start_time": "2020-03-26T21:25:39.220034Z"
    },
    "hidden": true
   },
   "outputs": [],
   "source": [
    "import numpy as np\n",
    "import pandas as pd"
   ]
  },
  {
   "cell_type": "code",
   "execution_count": null,
   "metadata": {
    "ExecuteTime": {
     "end_time": "2020-03-26T21:26:35.339578Z",
     "start_time": "2020-03-26T21:26:34.640591Z"
    },
    "hidden": true
   },
   "outputs": [],
   "source": [
    "import matplotlib.pyplot as plt\n",
    "import seaborn as sns\n",
    "%matplotlib inline"
   ]
  },
  {
   "cell_type": "code",
   "execution_count": null,
   "metadata": {
    "ExecuteTime": {
     "end_time": "2020-03-26T21:25:49.791302Z",
     "start_time": "2020-03-26T21:25:49.773117Z"
    },
    "hidden": true
   },
   "outputs": [],
   "source": [
    "titanic_file = 'data/titanic.csv'\n",
    "df_titanic = pd.read_csv(titanic_file)\n",
    "ages = df_titanic.Age.dropna()"
   ]
  },
  {
   "cell_type": "code",
   "execution_count": null,
   "metadata": {
    "ExecuteTime": {
     "end_time": "2020-03-26T21:26:22.807045Z",
     "start_time": "2020-03-26T21:26:22.802958Z"
    },
    "hidden": true
   },
   "outputs": [],
   "source": [
    "np.min(ages), np.max(ages)\n",
    "np.std(ages)"
   ]
  },
  {
   "cell_type": "code",
   "execution_count": null,
   "metadata": {
    "ExecuteTime": {
     "end_time": "2020-03-26T21:27:16.573135Z",
     "start_time": "2020-03-26T21:27:16.376322Z"
    },
    "hidden": true
   },
   "outputs": [],
   "source": [
    "sns.distplot(ages)"
   ]
  },
  {
   "cell_type": "code",
   "execution_count": null,
   "metadata": {
    "ExecuteTime": {
     "end_time": "2020-03-26T21:29:04.300510Z",
     "start_time": "2020-03-26T21:29:04.290725Z"
    },
    "hidden": true
   },
   "outputs": [],
   "source": [
    "sample = ages.sample(10, replace=True)\n",
    "print(sample.mean())\n",
    "display(sample)\n"
   ]
  },
  {
   "cell_type": "code",
   "execution_count": null,
   "metadata": {
    "ExecuteTime": {
     "end_time": "2020-03-26T21:30:44.424606Z",
     "start_time": "2020-03-26T21:30:44.421016Z"
    },
    "hidden": true
   },
   "outputs": [],
   "source": [
    "def get_all_sample_means(data, n=10, n_samples=100):\n",
    "    '''\n",
    "    '''\n",
    "    #\n",
    "    samples = np.random.choice(data,size=(n_samples,n))\n",
    "    means = np.mean(samples, axis=1)\n",
    "    #\n",
    "    return means"
   ]
  },
  {
   "cell_type": "code",
   "execution_count": null,
   "metadata": {
    "ExecuteTime": {
     "end_time": "2020-03-26T21:33:08.676664Z",
     "start_time": "2020-03-26T21:33:08.661902Z"
    },
    "hidden": true
   },
   "outputs": [],
   "source": [
    "samples = get_all_sample_means(ages,n=10, n_samples=10**3)\n",
    "samples"
   ]
  },
  {
   "cell_type": "code",
   "execution_count": null,
   "metadata": {
    "ExecuteTime": {
     "end_time": "2020-03-26T21:34:04.313373Z",
     "start_time": "2020-03-26T21:34:04.102457Z"
    },
    "hidden": true
   },
   "outputs": [],
   "source": [
    "sns.distplot(\n",
    "    samples, \n",
    "#     ages,\n",
    "    kde=False, \n",
    "    hist=False, \n",
    "    rug=True\n",
    ")\n",
    "sns.distplot(ages)\n",
    "plt.axvline(ages.mean(), color='red')"
   ]
  },
  {
   "cell_type": "code",
   "execution_count": null,
   "metadata": {
    "ExecuteTime": {
     "end_time": "2020-03-26T21:33:54.006040Z",
     "start_time": "2020-03-26T21:33:53.796564Z"
    },
    "hidden": true
   },
   "outputs": [],
   "source": [
    "sns.distplot(ages)\n",
    "plt.axvline(ages.mean(), color='red')"
   ]
  },
  {
   "cell_type": "markdown",
   "metadata": {
    "heading_collapsed": true,
    "hidden": true
   },
   "source": [
    "## Finding confidence interval"
   ]
  },
  {
   "cell_type": "code",
   "execution_count": null,
   "metadata": {
    "ExecuteTime": {
     "end_time": "2020-03-26T21:40:54.607674Z",
     "start_time": "2020-03-26T21:40:54.603204Z"
    },
    "hidden": true
   },
   "outputs": [],
   "source": [
    "def bootstrap_sample(sample, n_samples=10**4):\n",
    "    '''\n",
    "    '''\n",
    "    #\n",
    "    bs_sample_means = get_all_sample_means(\n",
    "        sample, \n",
    "        n=len(sample),\n",
    "        n_samples=n_samples\n",
    "    )\n",
    "    \n",
    "    return bs_sample_means"
   ]
  },
  {
   "cell_type": "code",
   "execution_count": null,
   "metadata": {
    "ExecuteTime": {
     "end_time": "2020-03-26T21:41:19.598120Z",
     "start_time": "2020-03-26T21:41:19.593638Z"
    },
    "hidden": true
   },
   "outputs": [],
   "source": [
    "np.mean(sample)"
   ]
  },
  {
   "cell_type": "code",
   "execution_count": null,
   "metadata": {
    "ExecuteTime": {
     "end_time": "2020-03-26T21:41:27.227208Z",
     "start_time": "2020-03-26T21:41:27.222763Z"
    },
    "hidden": true
   },
   "outputs": [],
   "source": [
    "b_sample_means = bootstrap_sample(sample)"
   ]
  },
  {
   "cell_type": "code",
   "execution_count": null,
   "metadata": {
    "ExecuteTime": {
     "end_time": "2020-03-26T21:41:35.539156Z",
     "start_time": "2020-03-26T21:41:35.276766Z"
    },
    "hidden": true
   },
   "outputs": [],
   "source": [
    "sns.distplot(b_sample_means)\n",
    "plt.axvline(b_sample_means.mean(), color='red')"
   ]
  },
  {
   "cell_type": "code",
   "execution_count": null,
   "metadata": {
    "ExecuteTime": {
     "end_time": "2020-03-26T21:43:13.832838Z",
     "start_time": "2020-03-26T21:43:13.828059Z"
    },
    "hidden": true
   },
   "outputs": [],
   "source": [
    "np.mean(b_sample_means)"
   ]
  },
  {
   "cell_type": "code",
   "execution_count": null,
   "metadata": {
    "ExecuteTime": {
     "end_time": "2020-03-26T21:44:23.966235Z",
     "start_time": "2020-03-26T21:44:23.960994Z"
    },
    "hidden": true
   },
   "outputs": [],
   "source": [
    "two_std = np.std(b_sample_means)*2"
   ]
  },
  {
   "cell_type": "code",
   "execution_count": null,
   "metadata": {
    "ExecuteTime": {
     "end_time": "2020-03-26T21:45:52.817603Z",
     "start_time": "2020-03-26T21:45:52.812952Z"
    },
    "hidden": true
   },
   "outputs": [],
   "source": [
    "\n",
    "(np.mean(sample)-two_std, np.mean(sample)+two_std)"
   ]
  },
  {
   "cell_type": "code",
   "execution_count": null,
   "metadata": {
    "ExecuteTime": {
     "end_time": "2020-03-26T21:46:18.535533Z",
     "start_time": "2020-03-26T21:46:18.532032Z"
    },
    "hidden": true
   },
   "outputs": [],
   "source": [
    "two_std/2"
   ]
  },
  {
   "cell_type": "code",
   "execution_count": null,
   "metadata": {
    "ExecuteTime": {
     "end_time": "2020-03-26T21:45:18.638866Z",
     "start_time": "2020-03-26T21:45:18.634539Z"
    },
    "hidden": true
   },
   "outputs": [],
   "source": [
    "# Find value from normal curve\n",
    "import scipy.stats\n",
    "\n",
    "normal_curve = scipy.stats.norm(np.mean(b_sample_means),np.std(b_sample_means))\n"
   ]
  },
  {
   "cell_type": "code",
   "execution_count": null,
   "metadata": {
    "ExecuteTime": {
     "end_time": "2020-03-27T03:22:34.373572Z",
     "start_time": "2020-03-27T03:22:34.369473Z"
    },
    "hidden": true
   },
   "outputs": [],
   "source": [
    "normal_curve.cdf(40) - normal_curve.cdf(20)"
   ]
  }
 ],
 "metadata": {
  "kernelspec": {
   "display_name": "Python 3",
   "language": "python",
   "name": "python3"
  },
  "language_info": {
   "codemirror_mode": {
    "name": "ipython",
    "version": 3
   },
   "file_extension": ".py",
   "mimetype": "text/x-python",
   "name": "python",
   "nbconvert_exporter": "python",
   "pygments_lexer": "ipython3",
   "version": "3.7.1"
  },
  "toc": {
   "base_numbering": 1,
   "nav_menu": {},
   "number_sections": true,
   "sideBar": false,
   "skip_h1_title": false,
   "title_cell": "Table of Contents",
   "title_sidebar": "Contents",
   "toc_cell": true,
   "toc_position": {},
   "toc_section_display": true,
   "toc_window_display": false
  },
  "varInspector": {
   "cols": {
    "lenName": 16,
    "lenType": 16,
    "lenVar": 40
   },
   "kernels_config": {
    "python": {
     "delete_cmd_postfix": "",
     "delete_cmd_prefix": "del ",
     "library": "var_list.py",
     "varRefreshCmd": "print(var_dic_list())"
    },
    "r": {
     "delete_cmd_postfix": ") ",
     "delete_cmd_prefix": "rm(",
     "library": "var_list.r",
     "varRefreshCmd": "cat(var_dic_list()) "
    }
   },
   "types_to_exclude": [
    "module",
    "function",
    "builtin_function_or_method",
    "instance",
    "_Feature"
   ],
   "window_display": false
  }
 },
 "nbformat": 4,
 "nbformat_minor": 2
}

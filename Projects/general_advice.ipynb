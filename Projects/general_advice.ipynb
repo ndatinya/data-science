{
 "cells": [
  {
   "cell_type": "markdown",
   "metadata": {
    "toc": true
   },
   "source": [
    "<h1>Table of Contents<span class=\"tocSkip\"></span></h1>\n",
    "<div class=\"toc\"><ul class=\"toc-item\"><li><span><a href=\"#Requirements-&amp;-Advice\" data-toc-modified-id=\"Requirements-&amp;-Advice-1\"><span class=\"toc-item-num\">1&nbsp;&nbsp;</span>Requirements &amp; Advice</a></span><ul class=\"toc-item\"><li><span><a href=\"#Turning-in-your-project\" data-toc-modified-id=\"Turning-in-your-project-1.1\"><span class=\"toc-item-num\">1.1&nbsp;&nbsp;</span>Turning in your project</a></span></li><li><span><a href=\"#Notebook\" data-toc-modified-id=\"Notebook-1.2\"><span class=\"toc-item-num\">1.2&nbsp;&nbsp;</span>Notebook</a></span><ul class=\"toc-item\"><li><span><a href=\"#Keep-the-data-science-lifecycle-in-mind\" data-toc-modified-id=\"Keep-the-data-science-lifecycle-in-mind-1.2.1\"><span class=\"toc-item-num\">1.2.1&nbsp;&nbsp;</span>Keep the data science lifecycle in mind</a></span></li><li><span><a href=\"#Keep-the-notebook-clean-&amp;-organized\" data-toc-modified-id=\"Keep-the-notebook-clean-&amp;-organized-1.2.2\"><span class=\"toc-item-num\">1.2.2&nbsp;&nbsp;</span>Keep the notebook clean &amp; organized</a></span></li><li><span><a href=\"#Narratives-are-good\" data-toc-modified-id=\"Narratives-are-good-1.2.3\"><span class=\"toc-item-num\">1.2.3&nbsp;&nbsp;</span>Narratives are good</a></span></li><li><span><a href=\"#Conversation-with-a-data-minded-person\" data-toc-modified-id=\"Conversation-with-a-data-minded-person-1.2.4\"><span class=\"toc-item-num\">1.2.4&nbsp;&nbsp;</span>Conversation with a data-minded person</a></span></li></ul></li><li><span><a href=\"#Presentation\" data-toc-modified-id=\"Presentation-1.3\"><span class=\"toc-item-num\">1.3&nbsp;&nbsp;</span>Presentation</a></span><ul class=\"toc-item\"><li><span><a href=\"#Take-in-to-account-your-time\" data-toc-modified-id=\"Take-in-to-account-your-time-1.3.1\"><span class=\"toc-item-num\">1.3.1&nbsp;&nbsp;</span>Take in to account your time</a></span></li><li><span><a href=\"#You-are-the-subject-of-the-presentation-not-the-slides\" data-toc-modified-id=\"You-are-the-subject-of-the-presentation-not-the-slides-1.3.2\"><span class=\"toc-item-num\">1.3.2&nbsp;&nbsp;</span><em>You</em> are the subject of the presentation not the slides</a></span></li><li><span><a href=\"#Less-is-more-but-make-it-meaningful\" data-toc-modified-id=\"Less-is-more-but-make-it-meaningful-1.3.3\"><span class=\"toc-item-num\">1.3.3&nbsp;&nbsp;</span>Less is more but make it meaningful</a></span></li><li><span><a href=\"#Consider-your-audience\" data-toc-modified-id=\"Consider-your-audience-1.3.4\"><span class=\"toc-item-num\">1.3.4&nbsp;&nbsp;</span>Consider your audience</a></span></li><li><span><a href=\"#Victor's-General-Rules-for-Amazing-Presentations-✨\" data-toc-modified-id=\"Victor's-General-Rules-for-Amazing-Presentations-✨-1.3.5\"><span class=\"toc-item-num\">1.3.5&nbsp;&nbsp;</span>Victor's General Rules for Amazing Presentations ✨</a></span><ul class=\"toc-item\"><li><span><a href=\"#Each-slide-contains-a-single-thought/concept\" data-toc-modified-id=\"Each-slide-contains-a-single-thought/concept-1.3.5.1\"><span class=\"toc-item-num\">1.3.5.1&nbsp;&nbsp;</span>Each slide contains a single thought/concept</a></span></li><li><span><a href=\"#No-more-than-3-bullets-per-slide\" data-toc-modified-id=\"No-more-than-3-bullets-per-slide-1.3.5.2\"><span class=\"toc-item-num\">1.3.5.2&nbsp;&nbsp;</span>No more than 3 bullets per slide</a></span></li><li><span><a href=\"#Only-use-sentence-fragments\" data-toc-modified-id=\"Only-use-sentence-fragments-1.3.5.3\"><span class=\"toc-item-num\">1.3.5.3&nbsp;&nbsp;</span>Only use sentence fragments</a></span></li><li><span><a href=\"#Visuals-and-pictures\" data-toc-modified-id=\"Visuals-and-pictures-1.3.5.4\"><span class=\"toc-item-num\">1.3.5.4&nbsp;&nbsp;</span>Visuals and pictures</a></span></li></ul></li></ul></li><li><span><a href=\"#Video\" data-toc-modified-id=\"Video-1.4\"><span class=\"toc-item-num\">1.4&nbsp;&nbsp;</span>Video</a></span></li><li><span><a href=\"#Blog\" data-toc-modified-id=\"Blog-1.5\"><span class=\"toc-item-num\">1.5&nbsp;&nbsp;</span>Blog</a></span></li></ul></li></ul></div>"
   ]
  },
  {
   "cell_type": "markdown",
   "metadata": {},
   "source": [
    "# Requirements & Advice"
   ]
  },
  {
   "cell_type": "markdown",
   "metadata": {
    "heading_collapsed": true
   },
   "source": [
    "## Turning in your project"
   ]
  },
  {
   "cell_type": "markdown",
   "metadata": {
    "hidden": true
   },
   "source": [
    "Turn in via Learn before our 1:1 assessment\n",
    "\n",
    "Remember that you have to have all the elements to pass!"
   ]
  },
  {
   "cell_type": "markdown",
   "metadata": {
    "heading_collapsed": true
   },
   "source": [
    "## Notebook"
   ]
  },
  {
   "cell_type": "markdown",
   "metadata": {
    "hidden": true
   },
   "source": [
    "![Screenshot of Jupyter notebooks https://jupyter.org/assets/jupyterpreview.png](images/jupyter_notebooks.png)"
   ]
  },
  {
   "cell_type": "markdown",
   "metadata": {
    "heading_collapsed": true,
    "hidden": true
   },
   "source": [
    "### Keep the data science lifecycle in mind"
   ]
  },
  {
   "cell_type": "markdown",
   "metadata": {
    "hidden": true
   },
   "source": [
    "![Data science lifecycle](images/data_science_lifecycle.png)\n",
    "\n",
    "> This can be OSEMN or CRISP-DM but the point is remember what stage you are at in your notebook"
   ]
  },
  {
   "cell_type": "markdown",
   "metadata": {
    "heading_collapsed": true,
    "hidden": true
   },
   "source": [
    "### Keep the notebook clean & organized"
   ]
  },
  {
   "cell_type": "markdown",
   "metadata": {
    "hidden": true
   },
   "source": [
    "- Use Markdown to explain what you're trying to achieve/investigate\n",
    "- Use functions! Don't repeat yourself!\n",
    "    + But document what you're doing (comments, docstrings, etc)\n",
    "- Document: \"a comment a day, will keep long debugging sessions at bay\"\n",
    "    + Comments explain what your code is do\n",
    "- Use comments to psuedo-code; map out your plan of attack\n",
    "    + Helps you organize your thoughts\n",
    "    + Can keep or improve comments after coding for better documentation\n",
    "\n",
    "```python\n",
    "# Read in data file\n",
    "# Drop unneeded columns\n",
    "# 'id' is improperly read, make it a string\n",
    "```"
   ]
  },
  {
   "cell_type": "markdown",
   "metadata": {
    "heading_collapsed": true,
    "hidden": true
   },
   "source": [
    "### Narratives are good"
   ]
  },
  {
   "cell_type": "markdown",
   "metadata": {
    "hidden": true
   },
   "source": [
    "![Data scientist as a teacher reading a book to children sitting down](images/data_science_storyteller.png)"
   ]
  },
  {
   "cell_type": "markdown",
   "metadata": {
    "hidden": true
   },
   "source": [
    "- Reader should follow your thought process from top to bottom\n",
    "    + Make it clear what your next steps are\n",
    "- Final product might not be exactly how you actually did it"
   ]
  },
  {
   "cell_type": "markdown",
   "metadata": {
    "heading_collapsed": true,
    "hidden": true
   },
   "source": [
    "### Conversation with a data-minded person"
   ]
  },
  {
   "cell_type": "markdown",
   "metadata": {
    "hidden": true
   },
   "source": [
    "- Know your audience!\n",
    "    + Data team member or manager\n",
    "    + Familiar with data\n",
    "    + Not familiar with the dataset\n",
    "- More of a conversation"
   ]
  },
  {
   "cell_type": "markdown",
   "metadata": {
    "heading_collapsed": true
   },
   "source": [
    "## Presentation"
   ]
  },
  {
   "cell_type": "markdown",
   "metadata": {
    "hidden": true
   },
   "source": [
    "![](images/reading_word_by_word.png)"
   ]
  },
  {
   "cell_type": "markdown",
   "metadata": {
    "heading_collapsed": true,
    "hidden": true
   },
   "source": [
    "### Take in to account your time"
   ]
  },
  {
   "cell_type": "markdown",
   "metadata": {
    "hidden": true
   },
   "source": [
    "+ Approximately 5 mins\n",
    "+ 8 mins at the high end\n",
    "+ 10 mins max\n",
    "+ Too short is also bad!"
   ]
  },
  {
   "cell_type": "markdown",
   "metadata": {
    "heading_collapsed": true,
    "hidden": true
   },
   "source": [
    "### _You_ are the subject of the presentation not the slides"
   ]
  },
  {
   "cell_type": "markdown",
   "metadata": {
    "hidden": true
   },
   "source": [
    "+ Slides should emphasize your points\n",
    "+ Beware of the wall of text"
   ]
  },
  {
   "cell_type": "markdown",
   "metadata": {
    "heading_collapsed": true,
    "hidden": true
   },
   "source": [
    "### Less is more but make it meaningful"
   ]
  },
  {
   "cell_type": "markdown",
   "metadata": {
    "hidden": true
   },
   "source": [
    "+ Don't give too much info: words, too much info w/ visualizations\n",
    "+ But you can make **more** slides to emphasize your points"
   ]
  },
  {
   "cell_type": "markdown",
   "metadata": {
    "heading_collapsed": true,
    "hidden": true
   },
   "source": [
    "### Consider your audience"
   ]
  },
  {
   "cell_type": "markdown",
   "metadata": {
    "hidden": true
   },
   "source": [
    "![Gif from Finding Nemo of Marlin saying \"It's like he's trying to speak to me, I know it.](images/trying_to_speak_to_me.gif)"
   ]
  },
  {
   "cell_type": "markdown",
   "metadata": {
    "hidden": true
   },
   "source": [
    "+ Non-technical means they don't deal with data & data scientists all day\n",
    "+ Ask yourself, \"Is this important to my audience?\"\n",
    "+ Make sure you have actionable items\n",
    "+ Important information should be clear\n",
    "    - three recommendations ⇒ three slides\n",
    "+ **More/accurate data** does not mean **clear data**"
   ]
  },
  {
   "cell_type": "markdown",
   "metadata": {
    "heading_collapsed": true,
    "hidden": true
   },
   "source": [
    "### Victor's General Rules for Amazing Presentations ✨"
   ]
  },
  {
   "cell_type": "markdown",
   "metadata": {
    "hidden": true
   },
   "source": [
    "This advice is my personal preferences so feel free to disagree 😄\n",
    "\n",
    "![](images/take_my_advice.jpg)"
   ]
  },
  {
   "cell_type": "markdown",
   "metadata": {
    "heading_collapsed": true,
    "hidden": true
   },
   "source": [
    "#### Each slide contains a single thought/concept"
   ]
  },
  {
   "cell_type": "markdown",
   "metadata": {
    "hidden": true
   },
   "source": [
    "+ More slides are fine\n",
    "+ Ideally slide introduces or summarizes what you are saying\n",
    "+ The slide emphasizes your point"
   ]
  },
  {
   "cell_type": "markdown",
   "metadata": {
    "heading_collapsed": true,
    "hidden": true
   },
   "source": [
    "#### No more than 3 bullets per slide"
   ]
  },
  {
   "cell_type": "markdown",
   "metadata": {
    "hidden": true
   },
   "source": [
    "+ If more, maybe split into multiple slides\n",
    "+ If people are asking to go back, furiously writing → you have too much!"
   ]
  },
  {
   "cell_type": "markdown",
   "metadata": {
    "heading_collapsed": true,
    "hidden": true
   },
   "source": [
    "#### Only use sentence fragments"
   ]
  },
  {
   "cell_type": "markdown",
   "metadata": {
    "hidden": true
   },
   "source": [
    "![Fry meme staring \"Should I use correct grammar or write a sentence fragment\"](images/correct_grammar_or_sentence_fragment.png)"
   ]
  },
  {
   "cell_type": "markdown",
   "metadata": {
    "hidden": true
   },
   "source": [
    "+ Easier to read and absorb\n",
    "+ When main topic not being emphasized, sentences grow\n",
    "+ Exceptions: \n",
    "    + Formal definition\n",
    "    + Quotes"
   ]
  },
  {
   "cell_type": "markdown",
   "metadata": {
    "heading_collapsed": true,
    "hidden": true
   },
   "source": [
    "#### Visuals and pictures\n",
    "![Messy points on a scatter/line chart https://www.sciencebuddies.org/blog/picturing-big-data-the-science-of-infographics](images/complicated_data_chart.png)"
   ]
  },
  {
   "cell_type": "markdown",
   "metadata": {
    "hidden": true
   },
   "source": [
    "+ A visual shouldn't be so complicated (see not using sentences)\n",
    "+ Don't just stick a visual and not talk about it; walk through it\n",
    "+ Pictures can give high density of information"
   ]
  },
  {
   "cell_type": "markdown",
   "metadata": {
    "heading_collapsed": true
   },
   "source": [
    "## Video"
   ]
  },
  {
   "cell_type": "markdown",
   "metadata": {
    "hidden": true
   },
   "source": [
    "Make sure you record this and helps give you more practice!\n",
    "\n",
    "But don't stress about this!!"
   ]
  },
  {
   "cell_type": "markdown",
   "metadata": {
    "heading_collapsed": true
   },
   "source": [
    "## Blog"
   ]
  },
  {
   "cell_type": "markdown",
   "metadata": {
    "hidden": true
   },
   "source": [
    "- Presents yourself to others, make it matter!\n",
    "- You don't have to be an expert writer!\n",
    "- Suggestion: Focus on one _technical_ aspect of the project\n",
    "- Should be technical\n",
    "    + code snippets\n",
    "    + visualizations"
   ]
  }
 ],
 "metadata": {
  "kernelspec": {
   "display_name": "Python 3",
   "language": "python",
   "name": "python3"
  },
  "language_info": {
   "codemirror_mode": {
    "name": "ipython",
    "version": 3
   },
   "file_extension": ".py",
   "mimetype": "text/x-python",
   "name": "python",
   "nbconvert_exporter": "python",
   "pygments_lexer": "ipython3",
   "version": "3.7.1"
  },
  "toc": {
   "base_numbering": 1,
   "nav_menu": {},
   "number_sections": true,
   "sideBar": false,
   "skip_h1_title": false,
   "title_cell": "Table of Contents",
   "title_sidebar": "Contents",
   "toc_cell": true,
   "toc_position": {
    "height": "47px",
    "left": "951.641px",
    "top": "140px",
    "width": "159.359px"
   },
   "toc_section_display": false,
   "toc_window_display": true
  },
  "varInspector": {
   "cols": {
    "lenName": 16,
    "lenType": 16,
    "lenVar": 40
   },
   "kernels_config": {
    "python": {
     "delete_cmd_postfix": "",
     "delete_cmd_prefix": "del ",
     "library": "var_list.py",
     "varRefreshCmd": "print(var_dic_list())"
    },
    "r": {
     "delete_cmd_postfix": ") ",
     "delete_cmd_prefix": "rm(",
     "library": "var_list.r",
     "varRefreshCmd": "cat(var_dic_list()) "
    }
   },
   "types_to_exclude": [
    "module",
    "function",
    "builtin_function_or_method",
    "instance",
    "_Feature"
   ],
   "window_display": false
  }
 },
 "nbformat": 4,
 "nbformat_minor": 2
}

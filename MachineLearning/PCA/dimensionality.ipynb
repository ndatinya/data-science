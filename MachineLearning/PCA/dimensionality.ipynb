{
 "cells": [
  {
   "cell_type": "markdown",
   "metadata": {
    "toc": true
   },
   "source": [
    "<h1>Table of Contents<span class=\"tocSkip\"></span></h1>\n",
    "<div class=\"toc\"><ul class=\"toc-item\"><li><span><a href=\"#What-Is-a-&quot;Dimension&quot;?\" data-toc-modified-id=\"What-Is-a-&quot;Dimension&quot;?-1\"><span class=\"toc-item-num\">1&nbsp;&nbsp;</span>What Is a \"Dimension\"?</a></span></li><li><span><a href=\"#Dimensionality-of-Data-Examples\" data-toc-modified-id=\"Dimensionality-of-Data-Examples-2\"><span class=\"toc-item-num\">2&nbsp;&nbsp;</span>Dimensionality of Data Examples</a></span><ul class=\"toc-item\"><li><span><a href=\"#Random-on-2D\" data-toc-modified-id=\"Random-on-2D-2.1\"><span class=\"toc-item-num\">2.1&nbsp;&nbsp;</span>Random on 2D</a></span></li><li><span><a href=\"#Line-along-y-axis\" data-toc-modified-id=\"Line-along-y-axis-2.2\"><span class=\"toc-item-num\">2.2&nbsp;&nbsp;</span>Line along y-axis</a></span></li><li><span><a href=\"#Line-equation-with-varying-x-&amp;-y-components\" data-toc-modified-id=\"Line-equation-with-varying-x-&amp;-y-components-2.3\"><span class=\"toc-item-num\">2.3&nbsp;&nbsp;</span>Line equation with varying x &amp; y components</a></span></li><li><span><a href=\"#Line-with-noise\" data-toc-modified-id=\"Line-with-noise-2.4\"><span class=\"toc-item-num\">2.4&nbsp;&nbsp;</span>Line with noise</a></span></li><li><span><a href=\"#Curvy-function\" data-toc-modified-id=\"Curvy-function-2.5\"><span class=\"toc-item-num\">2.5&nbsp;&nbsp;</span>Curvy function</a></span></li></ul></li></ul></div>"
   ]
  },
  {
   "cell_type": "code",
   "execution_count": null,
   "metadata": {
    "ExecuteTime": {
     "end_time": "2019-10-31T22:10:04.235114Z",
     "start_time": "2019-10-31T22:10:03.784906Z"
    }
   },
   "outputs": [],
   "source": [
    "import pandas as pd\n",
    "import matplotlib.pyplot as plt\n",
    "import numpy as np"
   ]
  },
  {
   "cell_type": "markdown",
   "metadata": {
    "heading_collapsed": true
   },
   "source": [
    "# What Is a \"Dimension\"?"
   ]
  },
  {
   "cell_type": "markdown",
   "metadata": {
    "heading_collapsed": true
   },
   "source": [
    "# Dimensionality of Data Examples\n",
    "    "
   ]
  },
  {
   "cell_type": "markdown",
   "metadata": {
    "heading_collapsed": true,
    "hidden": true
   },
   "source": [
    "## Random on 2D"
   ]
  },
  {
   "cell_type": "code",
   "execution_count": null,
   "metadata": {
    "ExecuteTime": {
     "end_time": "2019-10-31T22:21:25.034108Z",
     "start_time": "2019-10-31T22:21:24.914293Z"
    },
    "hidden": true
   },
   "outputs": [],
   "source": [
    "x = np.linspace(0,60,20)\n",
    "y = np.random.randint(1, 60, size=(20)) \n",
    "\n",
    "plt.scatter(x,y)\n",
    "plt.show()"
   ]
  },
  {
   "cell_type": "markdown",
   "metadata": {
    "heading_collapsed": true,
    "hidden": true
   },
   "source": [
    "## Line along y-axis"
   ]
  },
  {
   "cell_type": "code",
   "execution_count": null,
   "metadata": {
    "ExecuteTime": {
     "end_time": "2019-10-31T22:22:19.681790Z",
     "start_time": "2019-10-31T22:22:19.563483Z"
    },
    "hidden": true
   },
   "outputs": [],
   "source": [
    "x = np.linspace(0,60,20)\n",
    "y = np.ones(20)\n",
    "\n",
    "plt.scatter(x,y)\n",
    "plt.show()"
   ]
  },
  {
   "cell_type": "markdown",
   "metadata": {
    "heading_collapsed": true,
    "hidden": true
   },
   "source": [
    "##  Line equation with varying x & y components"
   ]
  },
  {
   "cell_type": "code",
   "execution_count": null,
   "metadata": {
    "ExecuteTime": {
     "end_time": "2019-10-31T22:23:22.348094Z",
     "start_time": "2019-10-31T22:23:22.229466Z"
    },
    "hidden": true
   },
   "outputs": [],
   "source": [
    "x = np.linspace(0,60,20)\n",
    "y = 3*x + 1\n",
    "\n",
    "plt.scatter(x,y)\n",
    "plt.show()"
   ]
  },
  {
   "cell_type": "markdown",
   "metadata": {
    "heading_collapsed": true,
    "hidden": true
   },
   "source": [
    "## Line with noise"
   ]
  },
  {
   "cell_type": "code",
   "execution_count": null,
   "metadata": {
    "ExecuteTime": {
     "end_time": "2019-10-31T22:25:21.986884Z",
     "start_time": "2019-10-31T22:25:21.871343Z"
    },
    "hidden": true
   },
   "outputs": [],
   "source": [
    "x = np.linspace(0,60,20)\n",
    "y = x + np.random.randint(-10, 10, size=(20)) \n",
    "\n",
    "plt.scatter(x,y)\n",
    "plt.show()"
   ]
  },
  {
   "cell_type": "markdown",
   "metadata": {
    "heading_collapsed": true,
    "hidden": true
   },
   "source": [
    "## Curvy function"
   ]
  },
  {
   "cell_type": "code",
   "execution_count": null,
   "metadata": {
    "ExecuteTime": {
     "end_time": "2019-11-12T04:38:31.773869Z",
     "start_time": "2019-11-12T04:38:31.692859Z"
    },
    "hidden": true
   },
   "outputs": [],
   "source": [
    "x = np.linspace(0,10,20)\n",
    "y = (x - 5)** 3 +  (x - 8)**2\n",
    "\n",
    "plt.scatter(x,y)\n",
    "plt.show()"
   ]
  },
  {
   "cell_type": "markdown",
   "metadata": {
    "hidden": true
   },
   "source": [
    "<details>\n",
    "    <summary style=\"font-weight:bold;\">What dimension is this?</summary>\n",
    "    <blockquote>PCA only does shift and rotations; should be 2D</blockquote>\n",
    "</details>    "
   ]
  }
 ],
 "metadata": {
  "kernelspec": {
   "display_name": "Python 3",
   "language": "python",
   "name": "python3"
  },
  "language_info": {
   "codemirror_mode": {
    "name": "ipython",
    "version": 3
   },
   "file_extension": ".py",
   "mimetype": "text/x-python",
   "name": "python",
   "nbconvert_exporter": "python",
   "pygments_lexer": "ipython3",
   "version": "3.6.6"
  },
  "toc": {
   "base_numbering": 1,
   "nav_menu": {},
   "number_sections": true,
   "sideBar": true,
   "skip_h1_title": false,
   "title_cell": "Table of Contents",
   "title_sidebar": "Contents",
   "toc_cell": true,
   "toc_position": {},
   "toc_section_display": true,
   "toc_window_display": true
  },
  "varInspector": {
   "cols": {
    "lenName": 16,
    "lenType": 16,
    "lenVar": 40
   },
   "kernels_config": {
    "python": {
     "delete_cmd_postfix": "",
     "delete_cmd_prefix": "del ",
     "library": "var_list.py",
     "varRefreshCmd": "print(var_dic_list())"
    },
    "r": {
     "delete_cmd_postfix": ") ",
     "delete_cmd_prefix": "rm(",
     "library": "var_list.r",
     "varRefreshCmd": "cat(var_dic_list()) "
    }
   },
   "types_to_exclude": [
    "module",
    "function",
    "builtin_function_or_method",
    "instance",
    "_Feature"
   ],
   "window_display": false
  }
 },
 "nbformat": 4,
 "nbformat_minor": 2
}

{
 "cells": [
  {
   "cell_type": "markdown",
   "metadata": {
    "toc": true
   },
   "source": [
    "<h1>Table of Contents<span class=\"tocSkip\"></span></h1>\n",
    "<div class=\"toc\"><ul class=\"toc-item\"><li><span><a href=\"#Hypotheses\" data-toc-modified-id=\"Hypotheses-1\"><span class=\"toc-item-num\">1&nbsp;&nbsp;</span>Hypotheses</a></span><ul class=\"toc-item\"><li><span><a href=\"#Null-hypothesis\" data-toc-modified-id=\"Null-hypothesis-1.1\"><span class=\"toc-item-num\">1.1&nbsp;&nbsp;</span>Null hypothesis</a></span></li><li><span><a href=\"#Alternative-hypothesis\" data-toc-modified-id=\"Alternative-hypothesis-1.2\"><span class=\"toc-item-num\">1.2&nbsp;&nbsp;</span>Alternative hypothesis</a></span></li><li><span><a href=\"#WARNING!\" data-toc-modified-id=\"WARNING!-1.3\"><span class=\"toc-item-num\">1.3&nbsp;&nbsp;</span>WARNING!</a></span></li></ul></li><li><span><a href=\"#When-Can-We-Say-There-Was-an-Effect?\" data-toc-modified-id=\"When-Can-We-Say-There-Was-an-Effect?-2\"><span class=\"toc-item-num\">2&nbsp;&nbsp;</span>When Can We Say There Was an Effect?</a></span><ul class=\"toc-item\"><li><span><a href=\"#p-values:-how-strange-things-are-if-$H_0$-is-true\" data-toc-modified-id=\"p-values:-how-strange-things-are-if-$H_0$-is-true-2.1\"><span class=\"toc-item-num\">2.1&nbsp;&nbsp;</span>p-values: how strange things are if $H_0$ is true</a></span></li><li><span><a href=\"#critical-values:-how-weird-can-things-get-before-we-reject-$H_0$\" data-toc-modified-id=\"critical-values:-how-weird-can-things-get-before-we-reject-$H_0$-2.2\"><span class=\"toc-item-num\">2.2&nbsp;&nbsp;</span>critical values: how weird can things get before we reject $H_0$</a></span></li><li><span><a href=\"#WARNING!\" data-toc-modified-id=\"WARNING!-2.3\"><span class=\"toc-item-num\">2.3&nbsp;&nbsp;</span>WARNING!</a></span><ul class=\"toc-item\"><li><span><a href=\"#The-Moral?\" data-toc-modified-id=\"The-Moral?-2.3.1\"><span class=\"toc-item-num\">2.3.1&nbsp;&nbsp;</span>The Moral?</a></span></li></ul></li></ul></li></ul></div>"
   ]
  },
  {
   "cell_type": "markdown",
   "metadata": {
    "heading_collapsed": true
   },
   "source": [
    "# Hypotheses"
   ]
  },
  {
   "cell_type": "markdown",
   "metadata": {
    "heading_collapsed": true,
    "hidden": true
   },
   "source": [
    "## Null hypothesis "
   ]
  },
  {
   "cell_type": "markdown",
   "metadata": {
    "hidden": true
   },
   "source": [
    "Denoted as $H_0$ and what she assumes is true: \n",
    "\n",
    "> _\"experimental group is **no different** since the \"treatment\" has **no actual effect**\"_"
   ]
  },
  {
   "cell_type": "markdown",
   "metadata": {
    "heading_collapsed": true,
    "hidden": true
   },
   "source": [
    "## Alternative hypothesis "
   ]
  },
  {
   "cell_type": "markdown",
   "metadata": {
    "hidden": true
   },
   "source": [
    "Denoted as $H_a$ or $H_1$ and what she assumes is true: \n",
    "\n",
    "> _\"experimental group **is different** since the \"treatment\" has an **actual effect**\"_"
   ]
  },
  {
   "cell_type": "markdown",
   "metadata": {
    "heading_collapsed": true,
    "hidden": true
   },
   "source": [
    "## WARNING!"
   ]
  },
  {
   "cell_type": "markdown",
   "metadata": {
    "hidden": true
   },
   "source": [
    "The hypotheses only care if the effect is **significant** _NOT_ how strong the effect is. "
   ]
  },
  {
   "cell_type": "markdown",
   "metadata": {
    "heading_collapsed": true
   },
   "source": [
    "# When Can We Say There Was an Effect?"
   ]
  },
  {
   "cell_type": "markdown",
   "metadata": {
    "hidden": true
   },
   "source": [
    "Making the hypothesis, then \"conducting\" the experiment we need to figure out if we there was difference"
   ]
  },
  {
   "cell_type": "markdown",
   "metadata": {
    "heading_collapsed": true,
    "hidden": true
   },
   "source": [
    "## p-values: how strange things are if $H_0$ is true"
   ]
  },
  {
   "cell_type": "markdown",
   "metadata": {
    "hidden": true
   },
   "source": [
    "Remember the puppy p-values 🐶 https://hackernoon.com/explaining-p-values-with-puppies-af63d68005d0"
   ]
  },
  {
   "cell_type": "markdown",
   "metadata": {
    "heading_collapsed": true,
    "hidden": true
   },
   "source": [
    "## critical values: how weird can things get before we reject $H_0$"
   ]
  },
  {
   "cell_type": "markdown",
   "metadata": {
    "hidden": true
   },
   "source": [
    "Denoted as $\\alpha$ & compared with the p-value\n",
    "\n",
    "\n",
    "![](https://imgs.xkcd.com/comics/p_values.png)"
   ]
  },
  {
   "cell_type": "markdown",
   "metadata": {
    "heading_collapsed": true,
    "hidden": true
   },
   "source": [
    "## WARNING!"
   ]
  },
  {
   "cell_type": "markdown",
   "metadata": {
    "hidden": true
   },
   "source": [
    "A cautionary study, the weight-loss chocolate study conducted by John Bohannon: https://www.scribd.com/doc/266969860/Chocolate-causes-weight-loss\n",
    "\n",
    "> Article on explaining the whole ordeal https://io9.gizmodo.com/i-fooled-millions-into-thinking-chocolate-helps-weight-1707251800"
   ]
  },
  {
   "cell_type": "markdown",
   "metadata": {
    "heading_collapsed": true,
    "hidden": true
   },
   "source": [
    "### The Moral? "
   ]
  },
  {
   "cell_type": "markdown",
   "metadata": {
    "hidden": true
   },
   "source": [
    "Measuring multiple times with p-values can give weird results...\n",
    "\n",
    "![](https://imgs.xkcd.com/comics/significant.png)"
   ]
  }
 ],
 "metadata": {
  "kernelspec": {
   "display_name": "Python 3",
   "language": "python",
   "name": "python3"
  },
  "language_info": {
   "codemirror_mode": {
    "name": "ipython",
    "version": 3
   },
   "file_extension": ".py",
   "mimetype": "text/x-python",
   "name": "python",
   "nbconvert_exporter": "python",
   "pygments_lexer": "ipython3",
   "version": "3.6.6"
  },
  "toc": {
   "base_numbering": 1,
   "nav_menu": {},
   "number_sections": true,
   "sideBar": true,
   "skip_h1_title": false,
   "title_cell": "Table of Contents",
   "title_sidebar": "Contents",
   "toc_cell": true,
   "toc_position": {},
   "toc_section_display": true,
   "toc_window_display": true
  },
  "varInspector": {
   "cols": {
    "lenName": 16,
    "lenType": 16,
    "lenVar": 40
   },
   "kernels_config": {
    "python": {
     "delete_cmd_postfix": "",
     "delete_cmd_prefix": "del ",
     "library": "var_list.py",
     "varRefreshCmd": "print(var_dic_list())"
    },
    "r": {
     "delete_cmd_postfix": ") ",
     "delete_cmd_prefix": "rm(",
     "library": "var_list.r",
     "varRefreshCmd": "cat(var_dic_list()) "
    }
   },
   "types_to_exclude": [
    "module",
    "function",
    "builtin_function_or_method",
    "instance",
    "_Feature"
   ],
   "window_display": false
  }
 },
 "nbformat": 4,
 "nbformat_minor": 2
}

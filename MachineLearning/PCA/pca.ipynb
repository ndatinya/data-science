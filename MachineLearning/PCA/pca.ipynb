{
 "cells": [
  {
   "cell_type": "markdown",
   "metadata": {
    "toc": true
   },
   "source": [
    "<h1>Table of Contents<span class=\"tocSkip\"></span></h1>\n",
    "<div class=\"toc\"><ul class=\"toc-item\"><li><span><a href=\"#Principal-Component-Analysis\" data-toc-modified-id=\"Principal-Component-Analysis-1\"><span class=\"toc-item-num\">1&nbsp;&nbsp;</span>Principal Component Analysis</a></span><ul class=\"toc-item\"><li><span><a href=\"#Videos-(Matrix-Transformation-&amp;-Eigenvector):\" data-toc-modified-id=\"Videos-(Matrix-Transformation-&amp;-Eigenvector):-1.1\"><span class=\"toc-item-num\">1.1&nbsp;&nbsp;</span>Videos (Matrix Transformation &amp; Eigenvector):</a></span></li><li><span><a href=\"#Overview\" data-toc-modified-id=\"Overview-1.2\"><span class=\"toc-item-num\">1.2&nbsp;&nbsp;</span>Overview</a></span><ul class=\"toc-item\"><li><span><a href=\"#Example-concept:\" data-toc-modified-id=\"Example-concept:-1.2.1\"><span class=\"toc-item-num\">1.2.1&nbsp;&nbsp;</span>Example concept:</a></span></li></ul></li><li><span><a href=\"#Algorithm\" data-toc-modified-id=\"Algorithm-1.3\"><span class=\"toc-item-num\">1.3&nbsp;&nbsp;</span>Algorithm</a></span></li><li><span><a href=\"#When-to-use-it\" data-toc-modified-id=\"When-to-use-it-1.4\"><span class=\"toc-item-num\">1.4&nbsp;&nbsp;</span>When to use it</a></span></li></ul></li></ul></div>"
   ]
  },
  {
   "cell_type": "code",
   "execution_count": null,
   "metadata": {
    "ExecuteTime": {
     "end_time": "2019-10-31T22:45:29.271809Z",
     "start_time": "2019-10-31T22:45:28.802169Z"
    }
   },
   "outputs": [],
   "source": [
    "import pandas as pd\n",
    "import matplotlib.pyplot as plt\n",
    "import numpy as np"
   ]
  },
  {
   "cell_type": "code",
   "execution_count": null,
   "metadata": {
    "ExecuteTime": {
     "end_time": "2019-10-31T22:45:29.927316Z",
     "start_time": "2019-10-31T22:45:29.806971Z"
    }
   },
   "outputs": [],
   "source": [
    "x = np.linspace(0,10,20)\n",
    "y = (x - 5)** 3 +  (x - 8)**2\n",
    "\n",
    "plt.scatter(x,y)\n",
    "plt.show()"
   ]
  },
  {
   "cell_type": "markdown",
   "metadata": {
    "heading_collapsed": true
   },
   "source": [
    "# Principal Component Analysis"
   ]
  },
  {
   "cell_type": "markdown",
   "metadata": {
    "heading_collapsed": true,
    "hidden": true
   },
   "source": [
    "## Videos (Matrix Transformation & Eigenvector):\n",
    "\n",
    "- Linear Transformations: https://www.youtube.com/watch?v=kYB8IZa5AuE\n",
    "- Egienvectors: https://www.youtube.com/watch?v=PFDu9oVAE-g"
   ]
  },
  {
   "cell_type": "markdown",
   "metadata": {
    "ExecuteTime": {
     "end_time": "2019-05-29T14:50:03.103824Z",
     "start_time": "2019-05-29T14:50:03.099335Z"
    },
    "hidden": true
   },
   "source": [
    "**Eigenvector**: proper; characteristic"
   ]
  },
  {
   "cell_type": "markdown",
   "metadata": {
    "heading_collapsed": true,
    "hidden": true
   },
   "source": [
    "## Overview"
   ]
  },
  {
   "cell_type": "markdown",
   "metadata": {
    "hidden": true
   },
   "source": [
    "PCA finds coordinates to \"center\" it along the data\n",
    "\n",
    "Example of drawing coordinate system\n",
    "(vectors to create new coordiates --> length of unity)"
   ]
  },
  {
   "cell_type": "markdown",
   "metadata": {
    "hidden": true
   },
   "source": [
    "- principal axis\n",
    "- center/origin of data\n",
    "- spread value for each axis (one large, one small)"
   ]
  },
  {
   "cell_type": "markdown",
   "metadata": {
    "heading_collapsed": true,
    "hidden": true
   },
   "source": [
    "### Example concept: "
   ]
  },
  {
   "cell_type": "markdown",
   "metadata": {
    "hidden": true
   },
   "source": [
    "Go back to our housing project\n",
    "\n",
    "- Latent feature (size & neighborhood) from measurements\n",
    "    - sqft\n",
    "    - \\# of rooms\n",
    "    - school ranking\n",
    "    - neighborhood safety"
   ]
  },
  {
   "cell_type": "markdown",
   "metadata": {
    "hidden": true
   },
   "source": [
    "Select the number of best features vs select percentile \n",
    "\n",
    "- Many features, but smaller number of features that matter\n",
    "- composite features (principal component)"
   ]
  },
  {
   "cell_type": "markdown",
   "metadata": {
    "hidden": true
   },
   "source": [
    "Project the data onto the principal component\n",
    "\n",
    "Determine via variance\n",
    " - spread of the data\n",
    " - ellipse surrounding the data \n",
    " - which axis has the most variance\n",
    "     + retains the maximum of \"info\" from the original data\n",
    "     + information lost: sum of residuals"
   ]
  },
  {
   "cell_type": "markdown",
   "metadata": {
    "heading_collapsed": true,
    "hidden": true
   },
   "source": [
    "## Algorithm"
   ]
  },
  {
   "cell_type": "markdown",
   "metadata": {
    "hidden": true
   },
   "source": [
    "- Combine features to make new features to be used in model\n",
    "- Auto combine & rank them (automatic, no guidance *unsupervised*)"
   ]
  },
  {
   "cell_type": "markdown",
   "metadata": {
    "hidden": true
   },
   "source": [
    "- create new features from old\n",
    "- directions that max variance (min info loss) when projected down\n",
    "- more variance along a component, higher rank\n",
    "- All perpindicular (independant) orthogonal"
   ]
  },
  {
   "cell_type": "markdown",
   "metadata": {
    "heading_collapsed": true,
    "hidden": true
   },
   "source": [
    "## When to use it"
   ]
  },
  {
   "cell_type": "markdown",
   "metadata": {
    "hidden": true
   },
   "source": [
    "- Access latent features\n",
    "- Dimensionality reduction\n",
    "    + visualize higher dim\n",
    "    + reduce noise (remove noise)\n",
    "    + pre-process (eigenvectors) for better performance (less features to consider)"
   ]
  }
 ],
 "metadata": {
  "kernelspec": {
   "display_name": "Python 3",
   "language": "python",
   "name": "python3"
  },
  "language_info": {
   "codemirror_mode": {
    "name": "ipython",
    "version": 3
   },
   "file_extension": ".py",
   "mimetype": "text/x-python",
   "name": "python",
   "nbconvert_exporter": "python",
   "pygments_lexer": "ipython3",
   "version": "3.6.6"
  },
  "toc": {
   "base_numbering": 1,
   "nav_menu": {},
   "number_sections": true,
   "sideBar": true,
   "skip_h1_title": false,
   "title_cell": "Table of Contents",
   "title_sidebar": "Contents",
   "toc_cell": true,
   "toc_position": {},
   "toc_section_display": true,
   "toc_window_display": true
  },
  "varInspector": {
   "cols": {
    "lenName": 16,
    "lenType": 16,
    "lenVar": 40
   },
   "kernels_config": {
    "python": {
     "delete_cmd_postfix": "",
     "delete_cmd_prefix": "del ",
     "library": "var_list.py",
     "varRefreshCmd": "print(var_dic_list())"
    },
    "r": {
     "delete_cmd_postfix": ") ",
     "delete_cmd_prefix": "rm(",
     "library": "var_list.r",
     "varRefreshCmd": "cat(var_dic_list()) "
    }
   },
   "types_to_exclude": [
    "module",
    "function",
    "builtin_function_or_method",
    "instance",
    "_Feature"
   ],
   "window_display": false
  }
 },
 "nbformat": 4,
 "nbformat_minor": 2
}

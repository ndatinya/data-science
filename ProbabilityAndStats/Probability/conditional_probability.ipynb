{
 "cells": [
  {
   "cell_type": "markdown",
   "metadata": {
    "toc": true
   },
   "source": [
    "<h1>Table of Contents<span class=\"tocSkip\"></span></h1>\n",
    "<div class=\"toc\"><ul class=\"toc-item\"><li><span><a href=\"#Conditional-Probability\" data-toc-modified-id=\"Conditional-Probability-1\"><span class=\"toc-item-num\">1&nbsp;&nbsp;</span>Conditional Probability</a></span><ul class=\"toc-item\"><li><span><a href=\"#Sample-Spaces\" data-toc-modified-id=\"Sample-Spaces-1.1\"><span class=\"toc-item-num\">1.1&nbsp;&nbsp;</span>Sample Spaces</a></span></li><li><span><a href=\"#Independent-&amp;-Dependent-Variables\" data-toc-modified-id=\"Independent-&amp;-Dependent-Variables-1.2\"><span class=\"toc-item-num\">1.2&nbsp;&nbsp;</span>Independent &amp; Dependent Variables</a></span><ul class=\"toc-item\"><li><span><a href=\"#Independent\" data-toc-modified-id=\"Independent-1.2.1\"><span class=\"toc-item-num\">1.2.1&nbsp;&nbsp;</span>Independent</a></span></li><li><span><a href=\"#Disjoint\" data-toc-modified-id=\"Disjoint-1.2.2\"><span class=\"toc-item-num\">1.2.2&nbsp;&nbsp;</span>Disjoint</a></span></li></ul></li><li><span><a href=\"#Probability-Theorems\" data-toc-modified-id=\"Probability-Theorems-1.3\"><span class=\"toc-item-num\">1.3&nbsp;&nbsp;</span>Probability Theorems</a></span><ul class=\"toc-item\"><li><span><a href=\"#Product-Rule\" data-toc-modified-id=\"Product-Rule-1.3.1\"><span class=\"toc-item-num\">1.3.1&nbsp;&nbsp;</span>Product Rule</a></span></li><li><span><a href=\"#Chain-Rule\" data-toc-modified-id=\"Chain-Rule-1.3.2\"><span class=\"toc-item-num\">1.3.2&nbsp;&nbsp;</span>Chain Rule</a></span></li><li><span><a href=\"#Bayes'-Rule-(Bayes'-Theorem)\" data-toc-modified-id=\"Bayes'-Rule-(Bayes'-Theorem)-1.3.3\"><span class=\"toc-item-num\">1.3.3&nbsp;&nbsp;</span>Bayes' Rule (Bayes' Theorem)</a></span></li></ul></li></ul></li></ul></div>"
   ]
  },
  {
   "cell_type": "markdown",
   "metadata": {
    "heading_collapsed": true
   },
   "source": [
    "# Conditional Probability"
   ]
  },
  {
   "cell_type": "markdown",
   "metadata": {
    "heading_collapsed": true,
    "hidden": true
   },
   "source": [
    "## Sample Spaces\n",
    "All possible **events**"
   ]
  },
  {
   "cell_type": "markdown",
   "metadata": {
    "heading_collapsed": true,
    "hidden": true
   },
   "source": [
    "## Independent & Dependent Variables"
   ]
  },
  {
   "cell_type": "markdown",
   "metadata": {
    "heading_collapsed": true,
    "hidden": true
   },
   "source": [
    "### Independent\n",
    "\n",
    "- Intersection of A & B = P(A)P(B): $P(A \\cap B) = P(A)P(B)$\n",
    "- $P (A \\cup B) = P(A) + P(B) -P(A \\cap B)$"
   ]
  },
  {
   "cell_type": "markdown",
   "metadata": {
    "hidden": true
   },
   "source": [
    "![](images/independent.png)"
   ]
  },
  {
   "cell_type": "markdown",
   "metadata": {
    "heading_collapsed": true,
    "hidden": true
   },
   "source": [
    "### Disjoint\n",
    "- $P(A \\cup B) = P(A) + P(B)$"
   ]
  },
  {
   "cell_type": "markdown",
   "metadata": {
    "hidden": true
   },
   "source": [
    "![](images/disjoint.png)"
   ]
  },
  {
   "cell_type": "markdown",
   "metadata": {
    "heading_collapsed": true,
    "hidden": true
   },
   "source": [
    "## Probability Theorems"
   ]
  },
  {
   "cell_type": "markdown",
   "metadata": {
    "heading_collapsed": true,
    "hidden": true
   },
   "source": [
    "### Product Rule"
   ]
  },
  {
   "cell_type": "markdown",
   "metadata": {
    "hidden": true
   },
   "source": [
    "$P(A \\cap B) = P(B) P(A \\mid B) = P(A) P(B \\mid A)$"
   ]
  },
  {
   "cell_type": "markdown",
   "metadata": {
    "hidden": true
   },
   "source": [
    "If independent: $P(A \\cap B) = P(A) P(B)$\n",
    "> Why is this true?"
   ]
  },
  {
   "cell_type": "markdown",
   "metadata": {
    "heading_collapsed": true,
    "hidden": true
   },
   "source": [
    "### Chain Rule"
   ]
  },
  {
   "cell_type": "markdown",
   "metadata": {
    "hidden": true
   },
   "source": [
    "Use the product rule to extend\n",
    "\n",
    "$$P(A\\cap B \\cap C) = P(A\\cap( B \\cap C)) = P(A\\mid B \\cap C) P(B \\cap C) = P(A \\mid B \\cap C) P(B \\mid C) P(C)$$\n",
    "\n",
    "$$P(A_1 \\cap A_2 \\cap \\ldots \\cap A_n) = P(A_1 \\mid A_2 \\cap \\ldots\\cap A_n) P(A_2 \\mid A_3 \\cap \\ldots \\cap \\ A_n) P(A_{n-1}|A_n) P(A_n)$$"
   ]
  },
  {
   "cell_type": "markdown",
   "metadata": {
    "heading_collapsed": true,
    "hidden": true
   },
   "source": [
    "### Bayes' Rule (Bayes' Theorem)"
   ]
  },
  {
   "cell_type": "markdown",
   "metadata": {
    "hidden": true
   },
   "source": [
    "$$P(A \\cap B) = P(B) P(A \\mid B) = P(A) P(B \\mid A)$$"
   ]
  },
  {
   "cell_type": "markdown",
   "metadata": {
    "hidden": true
   },
   "source": [
    "Probability of A given B:\n",
    "\n",
    "$$ P(A|B) = \\frac{P(A \\cap B)}{P(B)} = \\frac{P(B \\mid A) P(A)}{P(B)} $$"
   ]
  }
 ],
 "metadata": {
  "kernelspec": {
   "display_name": "Python 3",
   "language": "python",
   "name": "python3"
  },
  "language_info": {
   "codemirror_mode": {
    "name": "ipython",
    "version": 3
   },
   "file_extension": ".py",
   "mimetype": "text/x-python",
   "name": "python",
   "nbconvert_exporter": "python",
   "pygments_lexer": "ipython3",
   "version": "3.7.1"
  },
  "toc": {
   "base_numbering": 1,
   "nav_menu": {},
   "number_sections": true,
   "sideBar": true,
   "skip_h1_title": false,
   "title_cell": "Table of Contents",
   "title_sidebar": "Contents",
   "toc_cell": true,
   "toc_position": {},
   "toc_section_display": true,
   "toc_window_display": true
  },
  "varInspector": {
   "cols": {
    "lenName": 16,
    "lenType": 16,
    "lenVar": 40
   },
   "kernels_config": {
    "python": {
     "delete_cmd_postfix": "",
     "delete_cmd_prefix": "del ",
     "library": "var_list.py",
     "varRefreshCmd": "print(var_dic_list())"
    },
    "r": {
     "delete_cmd_postfix": ") ",
     "delete_cmd_prefix": "rm(",
     "library": "var_list.r",
     "varRefreshCmd": "cat(var_dic_list()) "
    }
   },
   "types_to_exclude": [
    "module",
    "function",
    "builtin_function_or_method",
    "instance",
    "_Feature"
   ],
   "window_display": false
  }
 },
 "nbformat": 4,
 "nbformat_minor": 2
}

{
 "cells": [
  {
   "cell_type": "markdown",
   "metadata": {},
   "source": [
    "<h1>Table of Contents<span class=\"tocSkip\"></span></h1>\n",
    "<div class=\"toc\"><ul class=\"toc-item\"><li><span><a href=\"#Intro-to-Object-Oriented-Programming\" data-toc-modified-id=\"Intro-to-Object-Oriented-Programming-1\"><span class=\"toc-item-num\">1&nbsp;&nbsp;</span>Intro to Object Oriented Programming</a></span><ul class=\"toc-item\"><li><span><a href=\"#How-is/was-programming-structured?\" data-toc-modified-id=\"How-is/was-programming-structured?-1.1\"><span class=\"toc-item-num\">1.1&nbsp;&nbsp;</span>How is/was programming structured?</a></span></li><li><span><a href=\"#What-is-OOP?\" data-toc-modified-id=\"What-is-OOP?-1.2\"><span class=\"toc-item-num\">1.2&nbsp;&nbsp;</span>What is OOP?</a></span><ul class=\"toc-item\"><li><span><a href=\"#Uses-the-concept-of-&quot;objects&quot;-&amp;-&quot;classes&quot;\" data-toc-modified-id=\"Uses-the-concept-of-&quot;objects&quot;-&amp;-&quot;classes&quot;-1.2.1\"><span class=\"toc-item-num\">1.2.1&nbsp;&nbsp;</span>Uses the concept of \"objects\" &amp; \"classes\"</a></span></li><li><span><a href=\"#Using-a-mold-or-blueprint\" data-toc-modified-id=\"Using-a-mold-or-blueprint-1.2.2\"><span class=\"toc-item-num\">1.2.2&nbsp;&nbsp;</span>Using a mold or blueprint</a></span></li><li><span><a href=\"#Attributes-of-a-Class-Give-Attributes-to-an-Object\" data-toc-modified-id=\"Attributes-of-a-Class-Give-Attributes-to-an-Object-1.2.3\"><span class=\"toc-item-num\">1.2.3&nbsp;&nbsp;</span>Attributes of a Class Give Attributes to an Object</a></span></li></ul></li><li><span><a href=\"#Why-OOP?\" data-toc-modified-id=\"Why-OOP?-1.3\"><span class=\"toc-item-num\">1.3&nbsp;&nbsp;</span>Why OOP?</a></span><ul class=\"toc-item\"><li><span><a href=\"#Well,-everyone-is-doing-it!\" data-toc-modified-id=\"Well,-everyone-is-doing-it!-1.3.1\"><span class=\"toc-item-num\">1.3.1&nbsp;&nbsp;</span>Well, everyone is doing it!</a></span></li><li><span><a href=\"#A-method-(no-pun-intended)-to-organize-your-code-with-an-analogy\" data-toc-modified-id=\"A-method-(no-pun-intended)-to-organize-your-code-with-an-analogy-1.3.2\"><span class=\"toc-item-num\">1.3.2&nbsp;&nbsp;</span>A method (no pun intended) to organize your code with an analogy</a></span></li><li><span><a href=\"#Flexible\" data-toc-modified-id=\"Flexible-1.3.3\"><span class=\"toc-item-num\">1.3.3&nbsp;&nbsp;</span>Flexible</a></span></li></ul></li></ul></li><li><span><a href=\"#Classes-&amp;-Instances\" data-toc-modified-id=\"Classes-&amp;-Instances-2\"><span class=\"toc-item-num\">2&nbsp;&nbsp;</span>Classes &amp; Instances</a></span><ul class=\"toc-item\"><li><ul class=\"toc-item\"><li><span><a href=\"#Creating-a-Class\" data-toc-modified-id=\"Creating-a-Class-2.0.1\"><span class=\"toc-item-num\">2.0.1&nbsp;&nbsp;</span>Creating a Class</a></span></li><li><span><a href=\"#Simple-Code\" data-toc-modified-id=\"Simple-Code-2.0.2\"><span class=\"toc-item-num\">2.0.2&nbsp;&nbsp;</span>Simple Code</a></span></li><li><span><a href=\"#Make-a-better-Class/Mold/Blueprint\" data-toc-modified-id=\"Make-a-better-Class/Mold/Blueprint-2.0.3\"><span class=\"toc-item-num\">2.0.3&nbsp;&nbsp;</span>Make a better Class/Mold/Blueprint</a></span></li><li><span><a href=\"#Instantiating-an-Object-(using-our-mold)\" data-toc-modified-id=\"Instantiating-an-Object-(using-our-mold)-2.0.4\"><span class=\"toc-item-num\">2.0.4&nbsp;&nbsp;</span>Instantiating an Object (using our mold)</a></span><ul class=\"toc-item\"><li><span><a href=\"#Example-Code\" data-toc-modified-id=\"Example-Code-2.0.4.1\"><span class=\"toc-item-num\">2.0.4.1&nbsp;&nbsp;</span>Example Code</a></span></li></ul></li><li><span><a href=\"#You're-both-people,-so-you-must-be-the-same-person,-right?\" data-toc-modified-id=\"You're-both-people,-so-you-must-be-the-same-person,-right?-2.0.5\"><span class=\"toc-item-num\">2.0.5&nbsp;&nbsp;</span>You're both people, so you must be the same person, right?</a></span></li></ul></li></ul></li><li><span><a href=\"#An-Object's-Attributes:-Methods,-Variables,-Self\" data-toc-modified-id=\"An-Object's-Attributes:-Methods,-Variables,-Self-3\"><span class=\"toc-item-num\">3&nbsp;&nbsp;</span>An Object's Attributes: Methods, Variables, Self</a></span><ul class=\"toc-item\"><li><ul class=\"toc-item\"><li><span><a href=\"#How-do-Objects-vary?-With-VARI-ables\" data-toc-modified-id=\"How-do-Objects-vary?-With-VARI-ables-3.0.1\"><span class=\"toc-item-num\">3.0.1&nbsp;&nbsp;</span>How do Objects vary? With VARI-ables</a></span></li><li><span><a href=\"#Methods-are-functions\" data-toc-modified-id=\"Methods-are-functions-3.0.2\"><span class=\"toc-item-num\">3.0.2&nbsp;&nbsp;</span>Methods <em>are</em> functions</a></span><ul class=\"toc-item\"><li><span><a href=\"#Class-methods-(belongs-to-the-Class/mold)\" data-toc-modified-id=\"Class-methods-(belongs-to-the-Class/mold)-3.0.2.1\"><span class=\"toc-item-num\">3.0.2.1&nbsp;&nbsp;</span>Class methods (belongs to the Class/mold)</a></span></li></ul></li><li><span><a href=\"#Who-me?-Knowing-yourSELF\" data-toc-modified-id=\"Who-me?-Knowing-yourSELF-3.0.3\"><span class=\"toc-item-num\">3.0.3&nbsp;&nbsp;</span>Who me? Knowing yourSELF</a></span></li></ul></li></ul></li></ul></div>"
   ]
  },
  {
   "cell_type": "markdown",
   "metadata": {
    "colab_type": "text",
    "heading_collapsed": true,
    "id": "tevYHP-_8og5"
   },
   "source": [
    "# Intro to Object Oriented Programming"
   ]
  },
  {
   "cell_type": "markdown",
   "metadata": {
    "colab_type": "text",
    "heading_collapsed": true,
    "hidden": true,
    "id": "KhOoAnWZ87vZ"
   },
   "source": [
    "## How is/was programming structured?"
   ]
  },
  {
   "cell_type": "markdown",
   "metadata": {
    "colab_type": "text",
    "hidden": true,
    "id": "K1uNhiKylQkL"
   },
   "source": [
    "* Procedural: Just a bunch of code (runs downward) \n",
    "  - C, Lisp, Fortran \n",
    "  - GOTO\n",
    "* Functional: more mathematical\n",
    "  - Haskell, OCaml\n",
    "* OOP\n",
    "  - Java, Python, JavaScript"
   ]
  },
  {
   "cell_type": "markdown",
   "metadata": {
    "colab_type": "text",
    "heading_collapsed": true,
    "hidden": true,
    "id": "okWV1Dr4-mei"
   },
   "source": [
    "## What is OOP?"
   ]
  },
  {
   "cell_type": "markdown",
   "metadata": {
    "colab_type": "text",
    "heading_collapsed": true,
    "hidden": true,
    "id": "_OUAUdF5-p-x"
   },
   "source": [
    "### Uses the concept of \"objects\" & \"classes\""
   ]
  },
  {
   "cell_type": "markdown",
   "metadata": {
    "colab_type": "text",
    "heading_collapsed": true,
    "hidden": true,
    "id": "GSxOdT-X-yCp"
   },
   "source": [
    "### Using a mold or blueprint"
   ]
  },
  {
   "cell_type": "markdown",
   "metadata": {
    "colab_type": "text",
    "hidden": true,
    "id": "6JCIWmq4qaMQ"
   },
   "source": [
    "<img src='https://www.assignmenthelp.net/assignment_help/images/class-oops.jpg' width=75%/>"
   ]
  },
  {
   "cell_type": "markdown",
   "metadata": {
    "colab_type": "text",
    "hidden": true,
    "id": "XLR8-pxpqgg_"
   },
   "source": [
    "<img src='http://www.expertphp.in/images/articles/ArtImgC67UTd_classes_and_objects.jpg' width=75%/>"
   ]
  },
  {
   "cell_type": "markdown",
   "metadata": {
    "colab_type": "text",
    "heading_collapsed": true,
    "hidden": true,
    "id": "xgb4UxV__jQT"
   },
   "source": [
    "### Attributes of a Class Give Attributes to an Object"
   ]
  },
  {
   "cell_type": "markdown",
   "metadata": {
    "colab_type": "text",
    "heading_collapsed": true,
    "hidden": true,
    "id": "HneufhC69D2K"
   },
   "source": [
    "## Why OOP?\n",
    "\n",
    "Cool, but why should *I* care?"
   ]
  },
  {
   "cell_type": "markdown",
   "metadata": {
    "colab_type": "text",
    "heading_collapsed": true,
    "hidden": true,
    "id": "uLnT7iyo-B0e"
   },
   "source": [
    "### Well, everyone is doing it!\n"
   ]
  },
  {
   "cell_type": "markdown",
   "metadata": {
    "colab_type": "text",
    "hidden": true,
    "id": "pwCs4mdnrHmV"
   },
   "source": [
    "<img src='https://stackify.com/wp-content/uploads/2017/12/Copy-of-top-programming-languages-1.png' width=70%/>"
   ]
  },
  {
   "cell_type": "markdown",
   "metadata": {
    "colab_type": "text",
    "heading_collapsed": true,
    "hidden": true,
    "id": "ms3IyEcA-I-W"
   },
   "source": [
    "### A method (no pun intended) to organize your code with an analogy"
   ]
  },
  {
   "cell_type": "markdown",
   "metadata": {
    "colab_type": "text",
    "hidden": true,
    "id": "2n88FbpfrTF-"
   },
   "source": [
    "We all know what ***Things*** are\n",
    "\n",
    "Easier to breakdown into physical items, activities, concepts [**nouns**]"
   ]
  },
  {
   "cell_type": "markdown",
   "metadata": {
    "colab_type": "text",
    "heading_collapsed": true,
    "hidden": true,
    "id": "oREms3u3-Q6L"
   },
   "source": [
    "### Flexible"
   ]
  },
  {
   "cell_type": "markdown",
   "metadata": {
    "hidden": true
   },
   "source": [
    "We can take a Class (think *blueprint*) and modify it to our needs, mad scientist style!\n",
    "\n",
    "We don't have to reinvent the wheel!"
   ]
  },
  {
   "cell_type": "markdown",
   "metadata": {
    "colab_type": "text",
    "heading_collapsed": true,
    "id": "GPjnI6jk8tzZ"
   },
   "source": [
    "# Classes & Instances"
   ]
  },
  {
   "cell_type": "markdown",
   "metadata": {
    "colab_type": "text",
    "heading_collapsed": true,
    "hidden": true,
    "id": "LOSB70AC_F55"
   },
   "source": [
    "### Creating a Class\n",
    "\n",
    "Class == Blueprint or Mold\n",
    "\n",
    "Instance (your Object) is made from the mold but she's still and individual separate from others made from the same mold"
   ]
  },
  {
   "cell_type": "markdown",
   "metadata": {
    "colab_type": "text",
    "heading_collapsed": true,
    "hidden": true,
    "id": "032liMjNrvmQ"
   },
   "source": [
    "### Simple Code"
   ]
  },
  {
   "cell_type": "code",
   "execution_count": null,
   "metadata": {
    "ExecuteTime": {
     "end_time": "2019-09-03T21:26:42.103786Z",
     "start_time": "2019-09-03T21:26:42.101543Z"
    },
    "colab": {},
    "colab_type": "code",
    "hidden": true,
    "id": "1cJl2ydsrtp8"
   },
   "outputs": [],
   "source": [
    "class Robot():\n",
    "  # Essentially a blank template since we never defined any attributes\n",
    "  pass\n"
   ]
  },
  {
   "cell_type": "code",
   "execution_count": null,
   "metadata": {
    "ExecuteTime": {
     "end_time": "2019-09-03T21:26:42.111089Z",
     "start_time": "2019-09-03T21:26:42.108126Z"
    },
    "colab": {},
    "colab_type": "code",
    "hidden": true,
    "id": "BFeR2Q-hsArS"
   },
   "outputs": [],
   "source": [
    "# Give it life!\n",
    "my_robot = Robot()\n",
    "my_robot.name = 'Wall-E'\n",
    "my_robot.height = 100  # cm\n",
    "\n",
    "your_robot = Robot()\n",
    "your_robot.name = 'Rob'\n",
    "your_robot.height = 200 # cm"
   ]
  },
  {
   "cell_type": "code",
   "execution_count": null,
   "metadata": {
    "ExecuteTime": {
     "end_time": "2019-09-03T21:26:42.115285Z",
     "start_time": "2019-09-03T21:26:42.112622Z"
    },
    "colab": {
     "base_uri": "https://localhost:8080/",
     "height": 51
    },
    "colab_type": "code",
    "hidden": true,
    "id": "A30Q95gusS8U",
    "outputId": "fc8bf769-1142-4ca3-e614-e6097fad9e16"
   },
   "outputs": [],
   "source": [
    "# They live!!!!!\n",
    "print(my_robot.name, my_robot.height)\n",
    "print(your_robot.name, your_robot.height)"
   ]
  },
  {
   "cell_type": "code",
   "execution_count": null,
   "metadata": {
    "ExecuteTime": {
     "end_time": "2019-09-03T21:26:42.183456Z",
     "start_time": "2019-09-03T21:26:42.117230Z"
    },
    "colab": {
     "base_uri": "https://localhost:8080/",
     "height": 164
    },
    "colab_type": "code",
    "hidden": true,
    "id": "SAatCwJWsi44",
    "outputId": "5f170686-c666-4997-f47b-1e36cc8b25fa"
   },
   "outputs": [],
   "source": [
    "# Uh oh, we didn't give it this attribute\n",
    "print(my_robot.purpose)"
   ]
  },
  {
   "cell_type": "markdown",
   "metadata": {
    "colab_type": "text",
    "heading_collapsed": true,
    "hidden": true,
    "id": "wXk49lOwr8Qt"
   },
   "source": [
    "### Make a better Class/Mold/Blueprint"
   ]
  },
  {
   "cell_type": "code",
   "execution_count": null,
   "metadata": {
    "ExecuteTime": {
     "end_time": "2019-09-03T21:27:05.025441Z",
     "start_time": "2019-09-03T21:27:05.022730Z"
    },
    "colab": {},
    "colab_type": "code",
    "hidden": true,
    "id": "lSKLy546sKbE"
   },
   "outputs": [],
   "source": [
    "class Robot():\n",
    "  # All robots should love humans\n",
    "  purpose = 'To love humans'"
   ]
  },
  {
   "cell_type": "code",
   "execution_count": null,
   "metadata": {
    "ExecuteTime": {
     "end_time": "2019-09-03T21:27:05.030868Z",
     "start_time": "2019-09-03T21:27:05.027649Z"
    },
    "colab": {},
    "colab_type": "code",
    "hidden": true,
    "id": "p-L0uMMYs2l7"
   },
   "outputs": [],
   "source": [
    "# Give it life!\n",
    "my_robot = Robot()\n",
    "my_robot.name = 'Wall-E'\n",
    "my_robot.height = 100  # cm\n",
    "\n",
    "your_robot = Robot()\n",
    "your_robot.name = 'Rob'\n",
    "your_robot.height = 200 # cm"
   ]
  },
  {
   "cell_type": "code",
   "execution_count": null,
   "metadata": {
    "ExecuteTime": {
     "end_time": "2019-09-03T21:27:05.036933Z",
     "start_time": "2019-09-03T21:27:05.033255Z"
    },
    "colab": {
     "base_uri": "https://localhost:8080/",
     "height": 68
    },
    "colab_type": "code",
    "hidden": true,
    "id": "ta3gZ8wWs5AC",
    "outputId": "072c3893-4d64-4451-9637-f93e81938775"
   },
   "outputs": [],
   "source": [
    "print('What is your purpose?\\n')\n",
    "print(my_robot.purpose)"
   ]
  },
  {
   "cell_type": "code",
   "execution_count": null,
   "metadata": {
    "ExecuteTime": {
     "end_time": "2019-09-03T21:27:05.043091Z",
     "start_time": "2019-09-03T21:27:05.039001Z"
    },
    "colab": {
     "base_uri": "https://localhost:8080/",
     "height": 68
    },
    "colab_type": "code",
    "hidden": true,
    "id": "oIYEOFQMtP_u",
    "outputId": "7c49aaa6-aa6f-452d-830d-d439283b89c4"
   },
   "outputs": [],
   "source": [
    "# Rogue robot!!!\n",
    "evil_robot = Robot()\n",
    "evil_robot.name = 'Bender'\n",
    "evil_robot.purpose = 'TO KILL ALL HUMANS!!!'\n",
    "\n",
    "print('What is your name and your purpose?\\n')\n",
    "print(f'My name is {evil_robot.name} and my purpose is {evil_robot.purpose}')"
   ]
  },
  {
   "cell_type": "markdown",
   "metadata": {
    "colab_type": "text",
    "heading_collapsed": true,
    "hidden": true,
    "id": "TXLmvlT__K9y"
   },
   "source": [
    "### Instantiating an Object (using our mold)"
   ]
  },
  {
   "cell_type": "markdown",
   "metadata": {
    "colab_type": "text",
    "heading_collapsed": true,
    "hidden": true,
    "id": "I6d-VcuulhDy"
   },
   "source": [
    "#### Example Code\n"
   ]
  },
  {
   "cell_type": "code",
   "execution_count": null,
   "metadata": {
    "ExecuteTime": {
     "end_time": "2019-09-03T21:27:05.047686Z",
     "start_time": "2019-09-03T21:27:05.044757Z"
    },
    "colab": {},
    "colab_type": "code",
    "hidden": true,
    "id": "Wq53m6lEliok"
   },
   "outputs": [],
   "source": [
    "\n",
    "my_robot = Robot()\n",
    "my_robot.name = 'Wall-E'\n",
    "my_robot.height = 100  # cm\n",
    "\n",
    "your_robot = Robot()\n",
    "your_robot.name = 'Rob'\n",
    "your_robot.height = 200 # cm"
   ]
  },
  {
   "cell_type": "code",
   "execution_count": null,
   "metadata": {
    "ExecuteTime": {
     "end_time": "2019-09-03T21:27:05.052447Z",
     "start_time": "2019-09-03T21:27:05.049564Z"
    },
    "colab": {
     "base_uri": "https://localhost:8080/",
     "height": 34
    },
    "colab_type": "code",
    "hidden": true,
    "id": "4GTuL4aImMW4",
    "outputId": "4dad34e4-8e2f-45b5-96f5-3bff5cf76765"
   },
   "outputs": [],
   "source": [
    "# Who's taller?\n",
    "\n",
    "# Tie defaults to my bot 😁\n",
    "tall_bot = my_robot if my_robot.height >= your_robot.height else your_robot\n",
    "\n",
    "# Alternative code\n",
    "## if my_robot.height >= your_robot.height:\n",
    "##     tall_bot = my_robot\n",
    "## else:\n",
    "##     tall_bot = your_robot\n",
    "\n",
    "print(f'{tall_bot.name} is the tallest bot at {tall_bot.height} cm')"
   ]
  },
  {
   "cell_type": "markdown",
   "metadata": {
    "heading_collapsed": true,
    "hidden": true
   },
   "source": [
    "### KNOWLEDGE CHECK! - Let's Build Some Bots!"
   ]
  },
  {
   "cell_type": "markdown",
   "metadata": {
    "hidden": true
   },
   "source": [
    "[Knowledge Check - Build a Bot](knowledge_check-build_a_bot.ipynb)"
   ]
  },
  {
   "cell_type": "markdown",
   "metadata": {
    "colab_type": "text",
    "heading_collapsed": true,
    "hidden": true,
    "id": "Ee-dPiBt_UzL"
   },
   "source": [
    "### You're both people, so you must be the same person, right?"
   ]
  },
  {
   "cell_type": "code",
   "execution_count": null,
   "metadata": {
    "ExecuteTime": {
     "end_time": "2019-09-03T21:27:05.056535Z",
     "start_time": "2019-09-03T21:27:05.053802Z"
    },
    "colab": {
     "base_uri": "https://localhost:8080/",
     "height": 68
    },
    "colab_type": "code",
    "hidden": true,
    "id": "AsR5SjyZoGkO",
    "outputId": "c249fe22-6f49-4d8b-e8d9-a942298493d8"
   },
   "outputs": [],
   "source": [
    "# You guys taking up my (memory) space\n",
    "print('Where are you (in memory)?')\n",
    "print(my_robot)\n",
    "print(your_robot)"
   ]
  },
  {
   "cell_type": "code",
   "execution_count": null,
   "metadata": {
    "ExecuteTime": {
     "end_time": "2019-09-03T21:27:05.062074Z",
     "start_time": "2019-09-03T21:27:05.059217Z"
    },
    "colab": {
     "base_uri": "https://localhost:8080/",
     "height": 68
    },
    "colab_type": "code",
    "hidden": true,
    "id": "dB4njJXQneG4",
    "outputId": "53373a24-edad-49e5-86e7-bdf92fd8ce91"
   },
   "outputs": [],
   "source": [
    "# Are you the same..?\n",
    "print(f'Are you the same (using ==)? {my_robot == your_robot}')\n",
    "print(f'Are you the same (using is)? {my_robot is your_robot}')\n",
    "print(f'Are you yourself? {my_robot == my_robot}')"
   ]
  },
  {
   "cell_type": "code",
   "execution_count": null,
   "metadata": {
    "ExecuteTime": {
     "end_time": "2019-09-03T21:27:05.067585Z",
     "start_time": "2019-09-03T21:27:05.064138Z"
    },
    "colab": {
     "base_uri": "https://localhost:8080/",
     "height": 85
    },
    "colab_type": "code",
    "hidden": true,
    "id": "hac7WhjruOPr",
    "outputId": "41980895-105f-44d8-f9c8-29f6436e372b"
   },
   "outputs": [],
   "source": [
    "generic_robot0 = Robot()\n",
    "generic_robot1 = Robot()\n",
    "\n",
    "# Are you the same..?\n",
    "print(f'Are you the same (using ==)? {generic_robot0 == generic_robot1}')\n",
    "print(f'Are you the same (using is)? {generic_robot0 is generic_robot1}')\n",
    "\n",
    "print(generic_robot0)\n",
    "print(generic_robot1)\n"
   ]
  },
  {
   "cell_type": "code",
   "execution_count": null,
   "metadata": {
    "ExecuteTime": {
     "end_time": "2019-09-03T21:27:05.071405Z",
     "start_time": "2019-09-03T21:27:05.068751Z"
    },
    "colab": {
     "base_uri": "https://localhost:8080/",
     "height": 51
    },
    "colab_type": "code",
    "hidden": true,
    "id": "1Jo4mShFup3I",
    "outputId": "793337aa-d3d5-4d92-ed6c-e1c7d193ad1d"
   },
   "outputs": [],
   "source": [
    "# You didn't make a copy\n",
    "same_robot = generic_robot0\n",
    "\n",
    "print(f'Are you the same (using ==)? {generic_robot0 == same_robot}')\n",
    "print(f'Are you the same (using is)? {generic_robot0 is same_robot}')\n",
    "\n"
   ]
  },
  {
   "cell_type": "code",
   "execution_count": null,
   "metadata": {
    "ExecuteTime": {
     "end_time": "2019-09-03T21:27:05.075501Z",
     "start_time": "2019-09-03T21:27:05.073060Z"
    },
    "colab": {
     "base_uri": "https://localhost:8080/",
     "height": 51
    },
    "colab_type": "code",
    "hidden": true,
    "id": "RFUpptCKjHuF",
    "outputId": "1cf04d51-1461-40da-f51b-b0d5b7f98406"
   },
   "outputs": [],
   "source": [
    "# Let's see \"their\" memory space\n",
    "print(same_robot)\n",
    "print(generic_robot0)"
   ]
  },
  {
   "cell_type": "code",
   "execution_count": null,
   "metadata": {
    "ExecuteTime": {
     "end_time": "2019-09-03T21:27:05.079398Z",
     "start_time": "2019-09-03T21:27:05.076886Z"
    },
    "colab": {
     "base_uri": "https://localhost:8080/",
     "height": 34
    },
    "colab_type": "code",
    "hidden": true,
    "id": "aTlJTfYHi14s",
    "outputId": "4b69aba4-b11c-4d93-ca78-599e419d2b4e"
   },
   "outputs": [],
   "source": [
    "\n",
    "same_robot.name = '0001'\n",
    "\n",
    "print(same_robot.name, generic_robot0.name)"
   ]
  },
  {
   "cell_type": "markdown",
   "metadata": {
    "colab_type": "text",
    "heading_collapsed": true,
    "id": "hikhGgfn8v-R"
   },
   "source": [
    "# An Object's Attributes: Methods, Variables, Self"
   ]
  },
  {
   "cell_type": "markdown",
   "metadata": {
    "colab_type": "text",
    "heading_collapsed": true,
    "hidden": true,
    "id": "q1QLcm_EAQlH"
   },
   "source": [
    "### How do Objects vary? With VARI-ables"
   ]
  },
  {
   "cell_type": "code",
   "execution_count": null,
   "metadata": {
    "ExecuteTime": {
     "end_time": "2019-09-03T21:27:05.082889Z",
     "start_time": "2019-09-03T21:27:05.080683Z"
    },
    "colab": {},
    "colab_type": "code",
    "hidden": true,
    "id": "iMOfi61s3FU2"
   },
   "outputs": [],
   "source": [
    "class Robot():\n",
    "    name = None\n",
    "    material = 'Metal'\n",
    "    is_electric = True\n",
    "    num_of_arms = 2"
   ]
  },
  {
   "cell_type": "code",
   "execution_count": null,
   "metadata": {
    "ExecuteTime": {
     "end_time": "2019-09-03T21:27:05.087192Z",
     "start_time": "2019-09-03T21:27:05.084225Z"
    },
    "colab": {
     "base_uri": "https://localhost:8080/",
     "height": 119
    },
    "colab_type": "code",
    "hidden": true,
    "id": "pNJkmPe13zLz",
    "outputId": "11b61cce-ee67-4bec-9a3e-e1bdee909e4a"
   },
   "outputs": [],
   "source": [
    "walle = Robot()\n",
    "\n",
    "print(f'''\n",
    "name: {walle.name}\n",
    "material: {walle.material}\n",
    "is_electric: {walle.is_electric}\n",
    "num_of_arms: {walle.num_of_arms}\n",
    "''')\n",
    "  "
   ]
  },
  {
   "cell_type": "code",
   "execution_count": null,
   "metadata": {
    "ExecuteTime": {
     "end_time": "2019-09-03T21:27:05.090802Z",
     "start_time": "2019-09-03T21:27:05.088215Z"
    },
    "colab": {
     "base_uri": "https://localhost:8080/",
     "height": 136
    },
    "colab_type": "code",
    "hidden": true,
    "id": "r8d6QcfH32vK",
    "outputId": "4ec355de-9941-4c43-e085-64c033e0ae5c"
   },
   "outputs": [],
   "source": [
    "# Changing an attribute\n",
    "walle.name = 'Wall-E'\n",
    "# Adding a new attribute\n",
    "walle.is_solar = True\n",
    "\n",
    "print(f'''\n",
    "name: {walle.name}\n",
    "material: {walle.material}\n",
    "is_electric: {walle.is_electric}\n",
    "num_of_arms: {walle.num_of_arms}\n",
    "''')\n",
    "  \n",
    "print(f'is_solar: {walle.is_solar}')"
   ]
  },
  {
   "cell_type": "markdown",
   "metadata": {
    "colab_type": "text",
    "heading_collapsed": true,
    "hidden": true,
    "id": "odgi8E10AGuG"
   },
   "source": [
    "### Methods _are_ functions"
   ]
  },
  {
   "cell_type": "markdown",
   "metadata": {
    "colab_type": "text",
    "heading_collapsed": true,
    "hidden": true,
    "id": "Q-fmUUzu9sY8"
   },
   "source": [
    "#### Class methods (belongs to the Class/mold)"
   ]
  },
  {
   "cell_type": "markdown",
   "metadata": {
    "colab_type": "text",
    "heading_collapsed": true,
    "hidden": true,
    "id": "h-Fs0iZ0A-KW"
   },
   "source": [
    "##### Example Code\n"
   ]
  },
  {
   "cell_type": "code",
   "execution_count": null,
   "metadata": {
    "ExecuteTime": {
     "end_time": "2019-09-03T21:27:05.095586Z",
     "start_time": "2019-09-03T21:27:05.092149Z"
    },
    "colab": {},
    "colab_type": "code",
    "hidden": true,
    "id": "JWIZJRdq6sFf"
   },
   "outputs": [],
   "source": [
    "class Robot():\n",
    "\n",
    "    laws_of_robotics = [\n",
    "        '1. First Law:\tA robot may not injure a human being or, through inaction, allow a human being to come to harm.',\n",
    "        '2. Second Law:\tA robot must obey the orders given it by human beings except where such orders would conflict with the First Law.',\n",
    "        '3. Third Law:\tA robot must protect its own existence as long as such protection does not conflict with the First or Second Laws.'\n",
    "    ]\n",
    "  \n",
    "    def print_laws():\n",
    "        for law in Robot.laws_of_robotics:\n",
    "            print(law)\n",
    "\n",
    "      \n",
    "    def print_n_law(n):\n",
    "        # Check the law exists\n",
    "        if n < 1 or n > 3:\n",
    "            print('The #{n} law doesn\\'t exist')\n",
    "            return\n",
    "\n",
    "        print(Robot.laws_of_robotics[n-1])\n",
    "    "
   ]
  },
  {
   "cell_type": "code",
   "execution_count": null,
   "metadata": {
    "ExecuteTime": {
     "end_time": "2019-09-03T21:27:05.106460Z",
     "start_time": "2019-09-03T21:27:05.097131Z"
    },
    "colab": {},
    "colab_type": "code",
    "hidden": true,
    "id": "FN8PpybD8Lj6"
   },
   "outputs": [],
   "source": [
    "Robot.laws_of_robotics"
   ]
  },
  {
   "cell_type": "code",
   "execution_count": null,
   "metadata": {
    "ExecuteTime": {
     "end_time": "2019-09-03T21:27:05.112879Z",
     "start_time": "2019-09-03T21:27:05.108843Z"
    },
    "colab": {},
    "colab_type": "code",
    "hidden": true,
    "id": "8KY_qHEb7A-k"
   },
   "outputs": [],
   "source": [
    "Robot.print_laws()"
   ]
  },
  {
   "cell_type": "code",
   "execution_count": null,
   "metadata": {
    "ExecuteTime": {
     "end_time": "2019-09-03T21:27:05.122518Z",
     "start_time": "2019-09-03T21:27:05.118398Z"
    },
    "colab": {},
    "colab_type": "code",
    "hidden": true,
    "id": "kL89xcZs8QX7"
   },
   "outputs": [],
   "source": [
    "Robot.print_n_law(2)"
   ]
  },
  {
   "cell_type": "markdown",
   "metadata": {
    "colab_type": "text",
    "heading_collapsed": true,
    "hidden": true,
    "id": "2rfQ_v1B9zWi"
   },
   "source": [
    "##### Does Wall-E have these functions (methods)?"
   ]
  },
  {
   "cell_type": "code",
   "execution_count": null,
   "metadata": {
    "ExecuteTime": {
     "end_time": "2019-09-03T21:27:05.128419Z",
     "start_time": "2019-09-03T21:27:05.125454Z"
    },
    "colab": {},
    "colab_type": "code",
    "hidden": true,
    "id": "iXLCr2c-8cha"
   },
   "outputs": [],
   "source": [
    "# Note what happens with Wall-e\n",
    "walle = Robot()"
   ]
  },
  {
   "cell_type": "code",
   "execution_count": null,
   "metadata": {
    "ExecuteTime": {
     "end_time": "2019-09-03T21:27:05.134722Z",
     "start_time": "2019-09-03T21:27:05.130222Z"
    },
    "colab": {},
    "colab_type": "code",
    "hidden": true,
    "id": "IkemYPyI9mDy"
   },
   "outputs": [],
   "source": [
    "# Has the laws built in \n",
    "walle.laws_of_robotics"
   ]
  },
  {
   "cell_type": "code",
   "execution_count": null,
   "metadata": {
    "ExecuteTime": {
     "end_time": "2019-09-03T21:27:05.155386Z",
     "start_time": "2019-09-03T21:27:05.136887Z"
    },
    "colab": {},
    "colab_type": "code",
    "hidden": true,
    "id": "a6R5CNBr9mhw"
   },
   "outputs": [],
   "source": [
    "# Let's have Wall-E print out those laws too! (Wait, can he do that...?)\n",
    "walle.print_laws()"
   ]
  },
  {
   "cell_type": "markdown",
   "metadata": {
    "colab_type": "text",
    "heading_collapsed": true,
    "hidden": true,
    "id": "hXmKGmhlANy0"
   },
   "source": [
    "### Who me? Knowing yourSELF\n",
    "\n"
   ]
  },
  {
   "cell_type": "code",
   "execution_count": null,
   "metadata": {
    "ExecuteTime": {
     "end_time": "2019-09-03T21:31:17.319507Z",
     "start_time": "2019-09-03T21:31:17.315555Z"
    },
    "colab": {},
    "colab_type": "code",
    "hidden": true,
    "id": "3yyS7dKp3BNb"
   },
   "outputs": [],
   "source": [
    "class Robot():\n",
    "    name = None\n",
    "    material = 'Metal'\n",
    "    is_electric = True\n",
    "    num_of_arms = 2\n",
    "\n",
    "    # These methods belong to the Object (its self)\n",
    "    def speak(self):\n",
    "        print(f'I am {self.name}!')\n",
    "\n",
    "    def add_numbers(self, num0, num1):\n",
    "        total = num0 + num1\n",
    "        return total"
   ]
  },
  {
   "cell_type": "code",
   "execution_count": null,
   "metadata": {
    "ExecuteTime": {
     "end_time": "2019-09-03T21:31:17.326349Z",
     "start_time": "2019-09-03T21:31:17.321908Z"
    },
    "colab": {},
    "colab_type": "code",
    "hidden": true,
    "id": "AqBHlt_K5JTe"
   },
   "outputs": [],
   "source": [
    "walle = Robot()\n",
    "\n",
    "print(f'''\n",
    "name: {walle.name}\n",
    "material: {walle.material}\n",
    "is_electric: {walle.is_electric}\n",
    "num_of_arms: {walle.num_of_arms}\n",
    "''')\n",
    "\n",
    "walle.speak()\n",
    "walle.add_numbers(100,1)"
   ]
  },
  {
   "cell_type": "code",
   "execution_count": null,
   "metadata": {
    "ExecuteTime": {
     "end_time": "2019-09-03T21:31:17.331453Z",
     "start_time": "2019-09-03T21:31:17.328731Z"
    },
    "colab": {},
    "colab_type": "code",
    "hidden": true,
    "id": "qpZozIdC5Rag"
   },
   "outputs": [],
   "source": [
    "# Changing an attribute\n",
    "walle.name = 'Wall-E'\n",
    "walle.speak()"
   ]
  },
  {
   "cell_type": "code",
   "execution_count": null,
   "metadata": {
    "ExecuteTime": {
     "end_time": "2019-09-03T21:31:17.335981Z",
     "start_time": "2019-09-03T21:31:17.333250Z"
    },
    "colab": {},
    "colab_type": "code",
    "hidden": true,
    "id": "jYWk4v3j5fc_"
   },
   "outputs": [],
   "source": [
    "# Changing how Wall-E talks (a little more advanced)\n",
    "walle.speak = lambda : print('Wwaaaalllll-eeeee!!!')\n",
    "walle.speak()"
   ]
  },
  {
   "cell_type": "markdown",
   "metadata": {
    "colab_type": "text",
    "hidden": true,
    "id": "3F4hBda4BLvO"
   },
   "source": [
    "> tl;dr: `self` is really a reference to the instantiated object\n"
   ]
  },
  {
   "cell_type": "markdown",
   "metadata": {
    "heading_collapsed": true,
    "hidden": true
   },
   "source": [
    "### KNOWLEDGE CHECK! - Let's Improve Our Bots!"
   ]
  },
  {
   "cell_type": "markdown",
   "metadata": {
    "hidden": true
   },
   "source": [
    "[Knowledge Check - Maddness to the Method](knowledge_check-maddness_to_the_method.ipynb)"
   ]
  }
 ],
 "metadata": {
  "colab": {
   "collapsed_sections": [
    "_OUAUdF5-p-x",
    "xgb4UxV__jQT",
    "oREms3u3-Q6L",
    "LOSB70AC_F55",
    "TXLmvlT__K9y",
    "I6d-VcuulhDy",
    "Ee-dPiBt_UzL",
    "odgi8E10AGuG",
    "Q-fmUUzu9sY8",
    "h-Fs0iZ0A-KW",
    "2rfQ_v1B9zWi",
    "3F4hBda4BLvO",
    "Z96XWroW-Cz-",
    "5s6MKqg8-jSz",
    "CyRRUQXr-oyY",
    "nCiOGnK8BaBK",
    "1x7jUYEF82N6",
    "Y-3m3MHuBUCn",
    "G39MRWq7QTkG"
   ],
   "name": "intro_object_oriented_programming.ipynb",
   "provenance": [],
   "version": "0.3.2"
  },
  "kernelspec": {
   "display_name": "Python 3",
   "language": "python",
   "name": "python3"
  },
  "language_info": {
   "codemirror_mode": {
    "name": "ipython",
    "version": 3
   },
   "file_extension": ".py",
   "mimetype": "text/x-python",
   "name": "python",
   "nbconvert_exporter": "python",
   "pygments_lexer": "ipython3",
   "version": "3.6.6"
  },
  "toc": {
   "base_numbering": 1,
   "nav_menu": {},
   "number_sections": true,
   "sideBar": true,
   "skip_h1_title": false,
   "title_cell": "Table of Contents",
   "title_sidebar": "Contents",
   "toc_cell": false,
   "toc_position": {},
   "toc_section_display": true,
   "toc_window_display": false
  },
  "varInspector": {
   "cols": {
    "lenName": 16,
    "lenType": 16,
    "lenVar": 40
   },
   "kernels_config": {
    "python": {
     "delete_cmd_postfix": "",
     "delete_cmd_prefix": "del ",
     "library": "var_list.py",
     "varRefreshCmd": "print(var_dic_list())"
    },
    "r": {
     "delete_cmd_postfix": ") ",
     "delete_cmd_prefix": "rm(",
     "library": "var_list.r",
     "varRefreshCmd": "cat(var_dic_list()) "
    }
   },
   "types_to_exclude": [
    "module",
    "function",
    "builtin_function_or_method",
    "instance",
    "_Feature"
   ],
   "window_display": false
  }
 },
 "nbformat": 4,
 "nbformat_minor": 2
}

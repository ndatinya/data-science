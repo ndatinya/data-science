{
 "cells": [
  {
   "cell_type": "markdown",
   "metadata": {
    "toc": true
   },
   "source": [
    "<h1>Table of Contents<span class=\"tocSkip\"></span></h1>\n",
    "<div class=\"toc\"><ul class=\"toc-item\"><li><span><a href=\"#Check-Your-Self:-Improve-Our-Robot-Class-🤖++\" data-toc-modified-id=\"Check-Your-Self:-Improve-Our-Robot-Class-🤖++-1\"><span class=\"toc-item-num\">1&nbsp;&nbsp;</span>Check Your Self: Improve Our Robot Class 🤖++</a></span><ul class=\"toc-item\"><li><span><a href=\"#Show-&amp;-Tell!\" data-toc-modified-id=\"Show-&amp;-Tell!-1.1\"><span class=\"toc-item-num\">1.1&nbsp;&nbsp;</span>Show &amp; Tell!</a></span></li></ul></li></ul></div>"
   ]
  },
  {
   "cell_type": "markdown",
   "metadata": {},
   "source": [
    "> Timing ~10min total"
   ]
  },
  {
   "cell_type": "markdown",
   "metadata": {
    "heading_collapsed": true
   },
   "source": [
    "# Check Your Self: Improve Our Robot Class 🤖++"
   ]
  },
  {
   "cell_type": "markdown",
   "metadata": {
    "hidden": true
   },
   "source": [
    "Your goal here will be to **improve** our `FunctionalRobot` with at least two Object methods. Note they have to belong to the Object (instance/robot).\n",
    "\n",
    "Use the code below to start:"
   ]
  },
  {
   "cell_type": "code",
   "execution_count": null,
   "metadata": {
    "ExecuteTime": {
     "end_time": "2019-09-04T18:39:30.424634Z",
     "start_time": "2019-09-04T18:39:30.422182Z"
    },
    "hidden": true
   },
   "outputs": [],
   "source": [
    "# STUDENT'S CODE HERE - DEFINE A CLASS\n",
    "\n",
    "class FunctionalRobot():\n",
    "    # Every robot has to have a name\n",
    "    name = 'No Name'\n",
    "    \n",
    "    # YOUR CODE for two methods!\n"
   ]
  },
  {
   "cell_type": "markdown",
   "metadata": {
    "heading_collapsed": true,
    "hidden": true
   },
   "source": [
    "## Show & Tell!"
   ]
  },
  {
   "cell_type": "markdown",
   "metadata": {
    "hidden": true
   },
   "source": [
    "Let's see what we all made and what our robots can do!\n",
    "\n",
    "1. Show your Class definition for your bot\n",
    "2. Instantiate a bot and show what it can do!"
   ]
  }
 ],
 "metadata": {
  "kernelspec": {
   "display_name": "Python 3",
   "language": "python",
   "name": "python3"
  },
  "language_info": {
   "codemirror_mode": {
    "name": "ipython",
    "version": 3
   },
   "file_extension": ".py",
   "mimetype": "text/x-python",
   "name": "python",
   "nbconvert_exporter": "python",
   "pygments_lexer": "ipython3",
   "version": "3.6.6"
  },
  "toc": {
   "base_numbering": 1,
   "nav_menu": {},
   "number_sections": true,
   "sideBar": false,
   "skip_h1_title": false,
   "title_cell": "Table of Contents",
   "title_sidebar": "Contents",
   "toc_cell": true,
   "toc_position": {},
   "toc_section_display": true,
   "toc_window_display": false
  },
  "varInspector": {
   "cols": {
    "lenName": 16,
    "lenType": 16,
    "lenVar": 40
   },
   "kernels_config": {
    "python": {
     "delete_cmd_postfix": "",
     "delete_cmd_prefix": "del ",
     "library": "var_list.py",
     "varRefreshCmd": "print(var_dic_list())"
    },
    "r": {
     "delete_cmd_postfix": ") ",
     "delete_cmd_prefix": "rm(",
     "library": "var_list.r",
     "varRefreshCmd": "cat(var_dic_list()) "
    }
   },
   "types_to_exclude": [
    "module",
    "function",
    "builtin_function_or_method",
    "instance",
    "_Feature"
   ],
   "window_display": false
  }
 },
 "nbformat": 4,
 "nbformat_minor": 2
}

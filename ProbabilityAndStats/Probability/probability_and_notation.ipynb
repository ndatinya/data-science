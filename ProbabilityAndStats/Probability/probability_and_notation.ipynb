{
 "cells": [
  {
   "cell_type": "markdown",
   "metadata": {
    "toc": true
   },
   "source": [
    "<h1>Table of Contents<span class=\"tocSkip\"></span></h1>\n",
    "<div class=\"toc\"><ul class=\"toc-item\"><li><span><a href=\"#Note-on-Notation\" data-toc-modified-id=\"Note-on-Notation-1\"><span class=\"toc-item-num\">1&nbsp;&nbsp;</span>Note on Notation</a></span><ul class=\"toc-item\"><li><span><a href=\"#Sets-(Spaces)\" data-toc-modified-id=\"Sets-(Spaces)-1.1\"><span class=\"toc-item-num\">1.1&nbsp;&nbsp;</span>Sets (Spaces)</a></span></li></ul></li><li><span><a href=\"#Probability\" data-toc-modified-id=\"Probability-2\"><span class=\"toc-item-num\">2&nbsp;&nbsp;</span>Probability</a></span><ul class=\"toc-item\"><li><span><a href=\"#Law-of-Relative-Frequency\" data-toc-modified-id=\"Law-of-Relative-Frequency-2.1\"><span class=\"toc-item-num\">2.1&nbsp;&nbsp;</span>Law of Relative Frequency</a></span></li></ul></li></ul></div>"
   ]
  },
  {
   "cell_type": "markdown",
   "metadata": {
    "heading_collapsed": true
   },
   "source": [
    "# Note on Notation"
   ]
  },
  {
   "cell_type": "markdown",
   "metadata": {
    "heading_collapsed": true,
    "hidden": true
   },
   "source": [
    "## Sets (Spaces)"
   ]
  },
  {
   "cell_type": "markdown",
   "metadata": {
    "hidden": true
   },
   "source": [
    "If $A \\cap B = \\emptyset $, then $P(A\\cup B) = P(A) + P(B)$ "
   ]
  },
  {
   "cell_type": "markdown",
   "metadata": {
    "hidden": true
   },
   "source": [
    "$P(A\\cup B) = P(A) + P(B) - P(A \\cap B) $"
   ]
  },
  {
   "cell_type": "markdown",
   "metadata": {
    "hidden": true
   },
   "source": [
    "> - Low text message volume day:  $E = \\{x \\mid x \\in \\mathbb{Z}, 0 \\leq x \\leq 20 \\}$\n",
    "> - Bingewatch day:  $E = \\{x \\mid x \\in \\mathbb{R}, x \\geq 6 \\}$"
   ]
  },
  {
   "cell_type": "markdown",
   "metadata": {
    "heading_collapsed": true
   },
   "source": [
    "# Probability"
   ]
  },
  {
   "cell_type": "markdown",
   "metadata": {
    "hidden": true
   },
   "source": [
    "It's just counting! (but counting is hard...)"
   ]
  },
  {
   "cell_type": "markdown",
   "metadata": {
    "heading_collapsed": true,
    "hidden": true
   },
   "source": [
    "## Law of Relative Frequency"
   ]
  },
  {
   "cell_type": "markdown",
   "metadata": {
    "hidden": true
   },
   "source": [
    "$$P(E) = \\lim_{n\\rightarrow\\infty} \\dfrac{S{(n)}}{n}$$"
   ]
  }
 ],
 "metadata": {
  "kernelspec": {
   "display_name": "Python 3",
   "language": "python",
   "name": "python3"
  },
  "language_info": {
   "codemirror_mode": {
    "name": "ipython",
    "version": 3
   },
   "file_extension": ".py",
   "mimetype": "text/x-python",
   "name": "python",
   "nbconvert_exporter": "python",
   "pygments_lexer": "ipython3",
   "version": "3.6.6"
  },
  "toc": {
   "base_numbering": 1,
   "nav_menu": {},
   "number_sections": true,
   "sideBar": true,
   "skip_h1_title": false,
   "title_cell": "Table of Contents",
   "title_sidebar": "Contents",
   "toc_cell": true,
   "toc_position": {},
   "toc_section_display": true,
   "toc_window_display": true
  },
  "varInspector": {
   "cols": {
    "lenName": 16,
    "lenType": 16,
    "lenVar": 40
   },
   "kernels_config": {
    "python": {
     "delete_cmd_postfix": "",
     "delete_cmd_prefix": "del ",
     "library": "var_list.py",
     "varRefreshCmd": "print(var_dic_list())"
    },
    "r": {
     "delete_cmd_postfix": ") ",
     "delete_cmd_prefix": "rm(",
     "library": "var_list.r",
     "varRefreshCmd": "cat(var_dic_list()) "
    }
   },
   "types_to_exclude": [
    "module",
    "function",
    "builtin_function_or_method",
    "instance",
    "_Feature"
   ],
   "window_display": false
  }
 },
 "nbformat": 4,
 "nbformat_minor": 2
}
